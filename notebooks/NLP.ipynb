{
 "cells": [
  {
   "cell_type": "markdown",
   "id": "99cec062",
   "metadata": {},
   "source": [
    "# This notebook is concerned with handling Item Name"
   ]
  },
  {
   "cell_type": "markdown",
   "id": "f69b7b04",
   "metadata": {},
   "source": [
    "# Table of contents\n",
    "- [Overview](#overview)\n",
    "    - [We'll be dealing with](#well-be-dealing-with)\n",
    "    - [Approach](#approach)\n",
    "- [Setup and load data](#setup-and-load-data)\n",
    "- [Handling Item Names](#Handling-Item-Names)\n",
    "    - [Normalization and lemmatization](#normalization-and-lemmatization)\n",
    "        - [Character level normalization](#character-level-normalization)\n",
    "        - [Word level normalization and lemmatization](#word-level-normalization-and-lemmatization)\n",
    "        - [Normalized and Disjointed cols created](#normalized-and-disjointed-cols-created)\n",
    "    - [Arabic lexicon](#string-tokens)\n",
    "        - [Create lexicon](#create-lexicon)\n",
    "        - [Visualize lexicon frequency](#visualize-lexicon-frequency)\n",
    "    - [Combine disjointed letters](#Combine-disjointed-letters)\n",
    "        - [Research findings](#Research-findings)\n",
    "        - [🚨 ***Trie and Viterbi Segment technique***](#Trie-and-Viterbi-segment-technique)\n",
    "            - [Algorithm](#algorithm)\n",
    "                - [Notes (the key decisions in implementing the algorithm)](#Notes-(the-key-decisions-in-implementing-the-algorithm))\n",
    "                - [A few tests](#a-few-tests)\n",
    "        - [Rejoining the disjointed letters](#Rejoining-the-disjointed-letters)\n",
    "            - [Rejoined column created](#rejoined-column-created)\n",
    "            - [Combined column created](#combined-column-created)\n",
    "    - [Analyze tokens](#Analyze-tokens)\n",
    "    - [Reduced tokens](#reduced-tokens)\n",
    "    - [Tokenize numerical](#Tokenize-numerical)\n",
    "- [Train classifier](#Train-classifier)\n",
    "\n",
    "- [Appendix](#Appendix)\n",
    "    - [Tests - for myself](#tests)"
   ]
  },
  {
   "cell_type": "markdown",
   "id": "1483b060",
   "metadata": {},
   "source": [
    "# Overview\n"
   ]
  },
  {
   "cell_type": "markdown",
   "id": "ad4eb5cb",
   "metadata": {},
   "source": [
    "## We'll be dealing with: \n"
   ]
  },
  {
   "cell_type": "markdown",
   "id": "259902ae",
   "metadata": {},
   "source": [
    "- a mix of Arabic and English entries,\n",
    "- item codes/numerical values,\n",
    "- and lack of clear categorization."
   ]
  },
  {
   "cell_type": "markdown",
   "id": "18eb3069",
   "metadata": {},
   "source": [
    "## Approach:\n"
   ]
  },
  {
   "cell_type": "markdown",
   "id": "16a780c9",
   "metadata": {},
   "source": [
    "1. Normalization and lemmatization\n",
    "    - normalize characters\n",
    "    - Remove unnecessary chars/symbols/units/fillers\n",
    "    - lemmatization\n",
    "    - break corpus into string tokens\n",
    "3. Generate Arabic lexicon from whole words\n",
    "    - Calculate unigram probability + Laplace Smoothing \n",
    "4. Combine disjointed letters into full words based on the lexicon\n",
    "    - Trie (data structure) + Viterbi Segment technique (dynamic programming)\n",
    "5. Analyze tokens in the data\n",
    "6. Devise normalization → reduced tokens\n",
    "7. Tokenize to numerical features\n",
    "8. Train a classifier (or classify manually) into interpretable categories\n",
    "9. Spend analysis-ready"
   ]
  },
  {
   "cell_type": "markdown",
   "id": "a87a5f21",
   "metadata": {},
   "source": [
    "# Setup and load data"
   ]
  },
  {
   "cell_type": "code",
   "execution_count": 45,
   "id": "a97b4949",
   "metadata": {},
   "outputs": [],
   "source": [
    "# Import relevant libraries\n",
    "import pandas as pd\n",
    "import numpy as np\n",
    "import matplotlib.pyplot as plt\n",
    "import matplotlib.ticker as ticker\n",
    "\n",
    "from math import log\n",
    "\n",
    "from camel_tools.utils.normalize import (\n",
    "    normalize_alef_ar,           # unify alef variants: أ إ آ -> ا\n",
    "    normalize_alef_maksura_ar,   # ى -> ي\n",
    "    normalize_teh_marbuta_ar,    # ة -> ه or keep ة depending on needs\n",
    "    normalize_unicode            # Normalize Unicode strings into their canonically composed form\n",
    ")\n",
    "from camel_tools.utils.dediac import dediac_ar\n",
    "from camel_tools.tokenizers.word import simple_word_tokenize\n",
    "from camel_tools.disambig.mle import MLEDisambiguator\n",
    "from camel_tools.tokenizers.morphological import MorphologicalTokenizer\n",
    "\n",
    "import re\n",
    "import unicodedata\n",
    "from collections import Counter\n",
    "from collections import defaultdict\n",
    "from sklearn.feature_extraction.text import TfidfVectorizer"
   ]
  },
  {
   "cell_type": "code",
   "execution_count": 46,
   "id": "0d220b70",
   "metadata": {},
   "outputs": [],
   "source": [
    "data_path = \"../data/cleaned_num.xlsx\"\n",
    "df_original = pd.read_excel(data_path)\n",
    "df = df_original.copy()\n",
    "\n",
    "# For now we just care about Item Name\n",
    "df = df[['Item Name']]"
   ]
  },
  {
   "cell_type": "markdown",
   "id": "bdcf7675",
   "metadata": {},
   "source": [
    "# Handling Item Names"
   ]
  },
  {
   "cell_type": "markdown",
   "id": "67435c86",
   "metadata": {},
   "source": [
    "## Normalization and lemmatization\n",
    "Using CAMeL-Tools since it handles both Arabic and English texts"
   ]
  },
  {
   "cell_type": "markdown",
   "id": "e62f9751",
   "metadata": {},
   "source": [
    "### Character level normalization"
   ]
  },
  {
   "cell_type": "code",
   "execution_count": 47,
   "id": "17d1974b",
   "metadata": {},
   "outputs": [],
   "source": [
    "_EXTRA_TRANSLATE = {\n",
    "    ord('ی'): ord('ي'),   # Farsi Yeh → Arabic Yeh\n",
    "    ord('ـ'): None,       # Tatweel (kashida) → remove\n",
    "}\n",
    "\n",
    "def normalize_text(text: str) -> str:\n",
    "    # Stronger Unicode compat normalization\n",
    "    text = unicodedata.normalize('NFKC', text)\n",
    "\n",
    "    # Existing CAMeL steps\n",
    "    text = text.lower()\n",
    "    text = normalize_unicode(text)\n",
    "    text = dediac_ar(text)\n",
    "    text = normalize_alef_ar(text)\n",
    "    text = normalize_alef_maksura_ar(text)\n",
    "    text = normalize_teh_marbuta_ar(text)\n",
    "    text = text.translate(_EXTRA_TRANSLATE)\n",
    "\n",
    "    return text.strip()\n"
   ]
  },
  {
   "cell_type": "code",
   "execution_count": 48,
   "id": "ff92a832",
   "metadata": {},
   "outputs": [
    {
     "data": {
      "text/html": [
       "<div>\n",
       "<style scoped>\n",
       "    .dataframe tbody tr th:only-of-type {\n",
       "        vertical-align: middle;\n",
       "    }\n",
       "\n",
       "    .dataframe tbody tr th {\n",
       "        vertical-align: top;\n",
       "    }\n",
       "\n",
       "    .dataframe thead th {\n",
       "        text-align: right;\n",
       "    }\n",
       "</style>\n",
       "<table border=\"1\" class=\"dataframe\">\n",
       "  <thead>\n",
       "    <tr style=\"text-align: right;\">\n",
       "      <th></th>\n",
       "      <th>Item Name</th>\n",
       "    </tr>\n",
       "  </thead>\n",
       "  <tbody>\n",
       "    <tr>\n",
       "      <th>439</th>\n",
       "      <td>تيوب المنيوم مستطيل 20*80*1.30 ملي 6 متر</td>\n",
       "    </tr>\n",
       "    <tr>\n",
       "      <th>743</th>\n",
       "      <td>كيس مادة</td>\n",
       "    </tr>\n",
       "    <tr>\n",
       "      <th>901</th>\n",
       "      <td>GATE BARIAR PANEL2</td>\n",
       "    </tr>\n",
       "    <tr>\n",
       "      <th>1563</th>\n",
       "      <td>ﺻ ﺎ ﺝ ﺍ ﺳ و د 10 ﻣ ﻝ 8 * 4 ﻣ ﺗ</td>\n",
       "    </tr>\n",
       "  </tbody>\n",
       "</table>\n",
       "</div>"
      ],
      "text/plain": [
       "                                     Item Name\n",
       "439   تيوب المنيوم مستطيل 20*80*1.30 ملي 6 متر\n",
       "743                                   كيس مادة\n",
       "901                         GATE BARIAR PANEL2\n",
       "1563            ﺻ ﺎ ﺝ ﺍ ﺳ و د 10 ﻣ ﻝ 8 * 4 ﻣ ﺗ"
      ]
     },
     "execution_count": 48,
     "metadata": {},
     "output_type": "execute_result"
    }
   ],
   "source": [
    "# Let's see the results - yes I noticed some entries are split (like 1563) which really gave me a headache trying to solve lol\n",
    "df.iloc[[439, 743, 901, 1563]]"
   ]
  },
  {
   "cell_type": "markdown",
   "id": "3766bc53",
   "metadata": {},
   "source": [
    "### Word level normalization and lemmatization"
   ]
  },
  {
   "cell_type": "code",
   "execution_count": 49,
   "id": "96e0704a",
   "metadata": {},
   "outputs": [],
   "source": [
    "# Cell for lists of dimension/units, protected words, and AR stop words\n",
    "# List 1: English unit tokens (lowercase; include singular/plural + common abbrevs)\n",
    "UNIT_TOKENS_EN = {\n",
    "    \"x\",\n",
    "    # length\n",
    "    \"mm\",\"millimeter\",\"millimeters\",\"millimetre\",\"millimetres\",\n",
    "    \"cm\",\"centimeter\",\"centimeters\",\"centimetre\",\"centimetres\",\n",
    "    \"m\",\"meter\",\"meters\",\"metre\",\"metres\",\n",
    "    \"km\",\"kilometer\",\"kilometers\",\"kilometre\",\"kilometres\",\n",
    "    \"in\",\"inch\",\"inches\",\n",
    "    \"ft\",\"foot\",\"feet\",\n",
    "    \"yd\",\"yard\",\"yards\",\n",
    "    \"mi\",\"mile\",\"miles\",\n",
    "    # mass\n",
    "    \"g\",\"gram\",\"grams\",\"gramme\",\"grammes\",\n",
    "    \"mg\",\"milligram\",\"milligrams\",\"milligramme\",\"milligrammes\",\n",
    "    \"kg\",\"kilogram\",\"kilograms\",\"kilogramme\",\"kilogrammes\",\n",
    "    \"t\",\"ton\",\"tons\",\"tonne\",\"tonnes\",\n",
    "    \"oz\",\"ounce\",\"ounces\",\n",
    "    \"lb\",\"lbs\",\"pound\",\"pounds\",\"st\",\"stone\",\"stones\",\n",
    "    # volume\n",
    "    \"l\",\"liter\",\"liters\",\"litre\",\"litres\",\n",
    "    \"ml\",\"milliliter\",\"milliliters\",\"millilitre\",\"millilitres\",\n",
    "    \"cl\",\"centiliter\",\"centiliters\",\"centilitre\",\"centilitres\",\n",
    "    \"dl\",\"deciliter\",\"deciliters\",\"decilitre\",\"decilitres\",\n",
    "    \"cc\"\n",
    "}\n",
    "\n",
    "# List 2: Arabic unit tokens (normalized, no spaces)\n",
    "UNIT_TOKENS_AR = {\n",
    "    # length\n",
    "    \"مم\",\"ملم\",\"مليمتر\",\"مليمترات\",\"ملليمتر\",\"ملليمترات\",\n",
    "    \"سم\",\"سنتمتر\",\"سنتيمتر\",\"سنتيمترات\",\"سنتمترات\",\n",
    "    \"م\",\"متر\",\"أمتار\", \"مت\"\n",
    "    \"كم\",\"كلم\",\"كيلومتر\",\"كيلومترات\",\n",
    "    \"إنش\",\"انش\",\"بوصة\",\"بوصات\",\n",
    "    \"قدم\",\"أقدام\",\n",
    "    \"ياردة\",\"ياردات\",\n",
    "    \"ميل\",\"أميال\",\n",
    "    # mass\n",
    "    \"غ\",\"جم\",\"جرام\",\"جرامات\",\"غرام\",\"غرامات\",\n",
    "    \"ملغ\",\"مغ\",\"مجم\",\"ميليغرام\",\"ميليجرام\",\"ميليغرامات\",\"ميليجرامات\",\"مليغرام\",\"مليجرام\",\n",
    "    \"كغ\",\"كجم\",\"كيلوغرام\",\"كيلوجرام\",\"كيلوغرامات\",\"كيلوجرامات\",\"كيلو\",\n",
    "    \"طن\",\"أطنان\",\n",
    "    \"أونصة\",\"أونصات\",\"اوقية\",\"أوقية\",\"أوقيات\",\n",
    "    \"رطل\",\"أرطال\",\n",
    "    # volume\n",
    "    \"لتر\",\"لترات\",\n",
    "    \"ملي\",\"مل\",\"ميليلتر\",\"مليلتر\",\"ميليلترات\",\"مليلترات\",\n",
    "    \"سنتيلتر\",\"سنتيلترات\",\"ديسيلتر\",\"ديسيلترات\"\n",
    "    # keywords\n",
    "    'مقاس', 'سماكه' 'طول'\n",
    "}\n",
    "UNIT_TOKENS_AR = [normalize_text(t) for t in UNIT_TOKENS_AR]\n",
    "\n",
    "protected_words = [\"سابك\", \"سماكه\"]\n",
    "\n",
    "with open('../assets/AR_stop_words.txt', encoding='utf-8') as f:\n",
    "    AR_STOP = set(normalize_text(line.strip()) for line in f if line.strip())"
   ]
  },
  {
   "cell_type": "code",
   "execution_count": 50,
   "id": "0f8b0533",
   "metadata": {},
   "outputs": [],
   "source": [
    "# Disambiguator and Morphological Tokenizer modules from CAMel-Tools to help with normalizion and lemmatization\n",
    "mle = MLEDisambiguator.pretrained('calima-msa-r13')\n",
    "tokenizer = MorphologicalTokenizer(disambiguator=mle, scheme='d3tok', split=True, diac=False)"
   ]
  },
  {
   "cell_type": "code",
   "execution_count": 51,
   "id": "f99719ba",
   "metadata": {},
   "outputs": [],
   "source": [
    "# Now we'll normalize the text further to ensure we only have Arabic and English characters\n",
    "\n",
    "def is_arabic_char(c: str) -> bool:\n",
    "    return '\\u0600' <= c <= '\\u06FF'\n",
    "\n",
    "def is_english_char(c: str) -> bool:\n",
    "    return c.isascii() and c.isalpha()\n",
    "\n",
    "def keep_arabic_english_only(c: str) -> str:\n",
    "    if (is_arabic_char(c) or is_english_char(c)) and not c.isdigit():\n",
    "        return c\n",
    "    return \" \"  # replace everything else with space\n",
    "\n",
    "def preprocess_text(text, no_disjointed=True):\n",
    "    # 1) Normalize unicode text\n",
    "    text = normalize_text(text)\n",
    "\n",
    "    # 2) Keep only Arabic + English + replace others with spaces\n",
    "    text = ''.join(keep_arabic_english_only(c) for c in text)\n",
    "    \n",
    "    # 3) Split on whitespace\n",
    "    tokens = text.split()\n",
    "\n",
    "    # 4) Extra cleaning steps for lexicon\n",
    "    if no_disjointed:\n",
    "        # 4.1) Remove dimensions/units/fillers for lexicon\n",
    "        tokens = [t for t in tokens if t.lower() not in UNIT_TOKENS_EN and t not in UNIT_TOKENS_AR and t not in AR_STOP]\n",
    "    \n",
    "        # 4.2) Lemmatize and remove clitics for lexicon\n",
    "        tokens = [t if t in protected_words else ''.join(normalize_text(p) for p in tokenizer.tokenize([t]) if '+' not in p) \n",
    "          for t in tokens]\n",
    "    \n",
    "        # 4.3) Drop single-letter tokens, and deduplicate within the row for lexicon\n",
    "        tokens = [t for t in tokens if len(t) > 1 and len(set(t)) > 1]\n",
    "        seen = set()\n",
    "        tokens = [t for t in tokens if not (t in seen or seen.add(t))]\n",
    "        return ' '.join(tokens)\n",
    "    \n",
    "    # 5) Or retain only the disjointed letters to glue back later\n",
    "    else:\n",
    "        tokens = [t for t in tokens if len(t) == 1 and len(set(t)) == 1]\n",
    "        return ''.join(tokens)"
   ]
  },
  {
   "cell_type": "code",
   "execution_count": 52,
   "id": "69d289a5",
   "metadata": {},
   "outputs": [
    {
     "name": "stdout",
     "output_type": "stream",
     "text": [
      "Before normalization: سماكة حديد تسليح مجدول السعودي سابك 12 مم * 12 م المخططات\n",
      "After normalization: سماكه حديد تسليح مجدول سعودي سابك مخططات\n",
      "-----------------\n",
      "Disjoint - before: ﺣ ﺪ ﻳ ﺪ ﻣ ﺠ ﺪ ﻭ ﻝ ﺳ ﺎ ﺑ ﻚ 12 ﻣ ﻠ ﻢ * 12 ﻣ ﺘ ﺮ - ﺳ ﻌ ﻮ ﺩ ﻱ\n",
      "Disjoint - after: حديدمجدولسابكملممترسعودي\n"
     ]
    }
   ],
   "source": [
    "# Some tests to see the results of normalization\n",
    "print(\"Before normalization:\", \"سماكة حديد تسليح مجدول السعودي سابك 12 مم * 12 م المخططات\")\n",
    "print(\"After normalization:\", preprocess_text(\"سماكة حديد تسليح مجدول السعودي سابك 12 مم * 12 م المخططات\"))\n",
    "print(\"-----------------\")\n",
    "print(\"Disjoint - before:\", \"ﺣ ﺪ ﻳ ﺪ ﻣ ﺠ ﺪ ﻭ ﻝ ﺳ ﺎ ﺑ ﻚ 12 ﻣ ﻠ ﻢ * 12 ﻣ ﺘ ﺮ - ﺳ ﻌ ﻮ ﺩ ﻱ\")\n",
    "print(\"Disjoint - after:\", preprocess_text(\"ﺣ ﺪ ﻳ ﺪ ﻣ ﺠ ﺪ ﻭ ﻝ ﺳ ﺎ ﺑ ﻚ 12 ﻣ ﻠ ﻢ * 12 ﻣ ﺘ ﺮ - ﺳ ﻌ ﻮ ﺩ ﻱ\", no_disjointed=False))"
   ]
  },
  {
   "cell_type": "markdown",
   "id": "93d646b1",
   "metadata": {},
   "source": [
    "#### Normalized and Disjointed cols created"
   ]
  },
  {
   "cell_type": "code",
   "execution_count": 53,
   "id": "00c9b891",
   "metadata": {},
   "outputs": [],
   "source": [
    "df[\"Normalized\"] = '' # Default to ''\n",
    "df[\"Normalized\"] = (df[\"Item Name\"].apply(preprocess_text, no_disjointed=True)).str.strip()\n",
    "\n",
    "# Disjointed cols is only concerned with Arabic rows where the normalization wasn't fruitful (i.e. disjointed letters)\n",
    "df[\"Disjointed\"] = ''\n",
    "mask = (df[\"Normalized\"] == '') & ~df[\"Item Name\"].apply(lambda s: all(is_english_char(c) for c in str(s) if c.isalpha()))\n",
    "df.loc[mask, \"Disjointed\"] = df.loc[mask, \"Item Name\"].apply(\n",
    "    preprocess_text, no_disjointed=False \n",
    ").str.strip()"
   ]
  },
  {
   "cell_type": "code",
   "execution_count": 54,
   "id": "f5581bfd",
   "metadata": {},
   "outputs": [
    {
     "data": {
      "text/html": [
       "<div>\n",
       "<style scoped>\n",
       "    .dataframe tbody tr th:only-of-type {\n",
       "        vertical-align: middle;\n",
       "    }\n",
       "\n",
       "    .dataframe tbody tr th {\n",
       "        vertical-align: top;\n",
       "    }\n",
       "\n",
       "    .dataframe thead th {\n",
       "        text-align: right;\n",
       "    }\n",
       "</style>\n",
       "<table border=\"1\" class=\"dataframe\">\n",
       "  <thead>\n",
       "    <tr style=\"text-align: right;\">\n",
       "      <th></th>\n",
       "      <th>Item Name</th>\n",
       "      <th>Normalized</th>\n",
       "      <th>Disjointed</th>\n",
       "    </tr>\n",
       "  </thead>\n",
       "  <tbody>\n",
       "    <tr>\n",
       "      <th>439</th>\n",
       "      <td>تيوب المنيوم مستطيل 20*80*1.30 ملي 6 متر</td>\n",
       "      <td>تيوب المنيوم مستطيل</td>\n",
       "      <td></td>\n",
       "    </tr>\n",
       "    <tr>\n",
       "      <th>743</th>\n",
       "      <td>كيس مادة</td>\n",
       "      <td>كيس ماده</td>\n",
       "      <td></td>\n",
       "    </tr>\n",
       "    <tr>\n",
       "      <th>901</th>\n",
       "      <td>GATE BARIAR PANEL2</td>\n",
       "      <td>gate bariar panel</td>\n",
       "      <td></td>\n",
       "    </tr>\n",
       "    <tr>\n",
       "      <th>1563</th>\n",
       "      <td>ﺻ ﺎ ﺝ ﺍ ﺳ و د 10 ﻣ ﻝ 8 * 4 ﻣ ﺗ</td>\n",
       "      <td></td>\n",
       "      <td>صاجاسودملمت</td>\n",
       "    </tr>\n",
       "  </tbody>\n",
       "</table>\n",
       "</div>"
      ],
      "text/plain": [
       "                                     Item Name           Normalized  \\\n",
       "439   تيوب المنيوم مستطيل 20*80*1.30 ملي 6 متر  تيوب المنيوم مستطيل   \n",
       "743                                   كيس مادة             كيس ماده   \n",
       "901                         GATE BARIAR PANEL2    gate bariar panel   \n",
       "1563            ﺻ ﺎ ﺝ ﺍ ﺳ و د 10 ﻣ ﻝ 8 * 4 ﻣ ﺗ                        \n",
       "\n",
       "       Disjointed  \n",
       "439                \n",
       "743                \n",
       "901                \n",
       "1563  صاجاسودملمت  "
      ]
     },
     "execution_count": 54,
     "metadata": {},
     "output_type": "execute_result"
    }
   ],
   "source": [
    "df.iloc[[439, 743, 901, 1563]]"
   ]
  },
  {
   "cell_type": "markdown",
   "id": "02ec405f",
   "metadata": {},
   "source": [
    "Good, now we have normalized Arabic and English words, but also the disjointed chars are saved for later"
   ]
  },
  {
   "cell_type": "markdown",
   "id": "c359f323",
   "metadata": {},
   "source": [
    "## Arabic lexicon"
   ]
  },
  {
   "cell_type": "markdown",
   "id": "5f2e0bc6",
   "metadata": {},
   "source": [
    "### Create lexicon"
   ]
  },
  {
   "cell_type": "code",
   "execution_count": 55,
   "id": "7d1df175",
   "metadata": {},
   "outputs": [],
   "source": [
    "corpus = df['Normalized']\n",
    "tokens = [simple_word_tokenize(text) for text in corpus]"
   ]
  },
  {
   "cell_type": "code",
   "execution_count": 56,
   "id": "9a06ccdf",
   "metadata": {},
   "outputs": [
    {
     "data": {
      "text/plain": [
       "3150"
      ]
     },
     "execution_count": 56,
     "metadata": {},
     "output_type": "execute_result"
    }
   ],
   "source": [
    "len(tokens)"
   ]
  },
  {
   "cell_type": "code",
   "execution_count": 57,
   "id": "385fb75e",
   "metadata": {},
   "outputs": [],
   "source": [
    "# Lexicon is in Arabic, so we'll remove english for now\n",
    "def is_arabic(token):\n",
    "    return bool(re.search(r'[\\u0600-\\u06FF]', token))\n",
    "\n",
    "arabic_tokens = [tok for row in tokens for tok in row if is_arabic(tok)]\n",
    "lexicon = Counter(arabic_tokens)"
   ]
  },
  {
   "cell_type": "code",
   "execution_count": 58,
   "id": "a615cdec",
   "metadata": {},
   "outputs": [
    {
     "data": {
      "text/plain": [
       "648"
      ]
     },
     "execution_count": 58,
     "metadata": {},
     "output_type": "execute_result"
    }
   ],
   "source": [
    "# How many words did we get?\n",
    "lexicon.__len__()"
   ]
  },
  {
   "cell_type": "code",
   "execution_count": 59,
   "id": "103d60f3",
   "metadata": {},
   "outputs": [
    {
     "data": {
      "text/plain": [
       "[('حديد', 564),\n",
       " ('تسليح', 316),\n",
       " ('سابك', 212),\n",
       " ('اسود', 142),\n",
       " ('سماكه', 130),\n",
       " ('صاج', 126),\n",
       " ('اتفاق', 90),\n",
       " ('ماسوره', 73),\n",
       " ('مقاس', 64),\n",
       " ('وطني', 58),\n",
       " ('سلك', 54),\n",
       " ('سعودي', 53),\n",
       " ('طول', 48),\n",
       " ('توريد', 46),\n",
       " ('مجدول', 40),\n",
       " ('راجحي', 38),\n",
       " ('ويل', 33),\n",
       " ('كيبل', 32),\n",
       " ('سويدي', 29),\n",
       " ('مسحوب', 25)]"
      ]
     },
     "execution_count": 59,
     "metadata": {},
     "output_type": "execute_result"
    }
   ],
   "source": [
    "# Let's quickly check the most frequent words used\n",
    "lexicon.most_common(20)"
   ]
  },
  {
   "cell_type": "markdown",
   "id": "1e046412",
   "metadata": {},
   "source": [
    "### Visualize lexicon frequency"
   ]
  },
  {
   "cell_type": "code",
   "execution_count": 60,
   "id": "da56771d",
   "metadata": {},
   "outputs": [
    {
     "data": {
      "image/png": "[encoded data removed]",
      "text/plain": [
       "<Figure size 1600x1000 with 4 Axes>"
      ]
     },
     "metadata": {},
     "output_type": "display_data"
    }
   ],
   "source": [
    "import numpy as np\n",
    "import matplotlib.pyplot as plt\n",
    "\n",
    "# Sort frequencies descending\n",
    "freqs_sorted = np.array(sorted(lexicon.values(), reverse=True))\n",
    "ranks = np.arange(1, len(freqs_sorted) + 1)\n",
    "\n",
    "# -- precompute percentile buckets (by rank)\n",
    "N = len(freqs_sorted)\n",
    "pct_edges = [0, 10, 20, 50, 80, 90, 100]  # buckets: Top10, 10–20, 20–50, 50–80, 80–90, 90–100 (tail)\n",
    "idx_edges = [int(np.floor(p/100 * N)) for p in pct_edges]\n",
    "labels = [f\"Top {pct_edges[1]}%\"] + [f\"{pct_edges[i]}–{pct_edges[i+1]}%\" for i in range(1, len(pct_edges)-1)]\n",
    "\n",
    "bucket_counts = []\n",
    "bucket_mass_share = []\n",
    "total_mass = freqs_sorted.sum()\n",
    "for i in range(len(idx_edges)-1):\n",
    "    lo, hi = idx_edges[i], idx_edges[i+1]\n",
    "    cnt = max(hi - lo, 0)\n",
    "    bucket_counts.append(cnt)\n",
    "    mass = freqs_sorted[lo:hi].sum() if cnt > 0 else 0\n",
    "    bucket_mass_share.append(100.0 * mass / total_mass if total_mass > 0 else 0.0)\n",
    "\n",
    "# --- length histogram (1-char, 2-char, 3-char, ...) weighted by frequency\n",
    "length_mass = {}\n",
    "for token, c in lexicon.items():\n",
    "    L = len(token)\n",
    "    length_mass[L] = length_mass.get(L, 0) + c\n",
    "lengths = np.array(sorted(length_mass.keys()))\n",
    "length_counts = np.array([length_mass[L] for L in lengths])\n",
    "\n",
    "# ---- 2x2 layout\n",
    "fig, axes = plt.subplots(2, 2, figsize=(16, 10))\n",
    "\n",
    "# 1) Simple scatter plot (rank vs frequency)\n",
    "axes[0, 0].scatter(ranks, freqs_sorted, s=20)\n",
    "axes[0, 0].set_xlabel(\"Rank\")\n",
    "axes[0, 0].set_ylabel(\"Frequency\")\n",
    "axes[0, 0].set_title(\"Word Frequency vs. Rank\")\n",
    "axes[0, 0].grid(True)\n",
    "\n",
    "# 2) Zipf's Law (log-log)\n",
    "axes[0, 1].scatter(ranks, freqs_sorted, s=20)\n",
    "axes[0, 1].set_xscale(\"log\")\n",
    "axes[0, 1].set_yscale(\"log\")\n",
    "axes[0, 1].set_xlabel(\"Rank (log)\")\n",
    "axes[0, 1].set_ylabel(\"Frequency (log)\")\n",
    "axes[0, 1].set_title(\"Word Frequency Distribution (Zipf's Law)\")\n",
    "axes[0, 1].grid(True)\n",
    "\n",
    "# 3) Percentile bucket counts\n",
    "x = np.arange(len(labels))\n",
    "axes[1, 0].bar(x, bucket_counts)\n",
    "axes[1, 0].set_xticks(x)\n",
    "axes[1, 0].set_xticklabels(labels, rotation=30, ha=\"right\")\n",
    "axes[1, 0].set_ylabel(\"Token Count\")\n",
    "axes[1, 0].set_title(\"Counts by Frequency Percentile Buckets\")\n",
    "axes[1, 0].grid(True, axis=\"y\")\n",
    "# annotate each bar with its mass share\n",
    "for i, (xc, cnt, mass_pct) in enumerate(zip(x, bucket_counts, bucket_mass_share)):\n",
    "    if cnt > 0:\n",
    "        axes[1, 0].text(xc, cnt, f\"{mass_pct:.1f}%\", ha=\"center\", va=\"bottom\")\n",
    "\n",
    "# 4) Length histogram (frequency-weighted)\n",
    "axes[1, 1].bar(lengths, length_counts, width=0.8)\n",
    "axes[1, 1].set_xticks(lengths)\n",
    "axes[1, 1].set_xlabel(\"Token Length (# of characters)\")\n",
    "axes[1, 1].set_ylabel(\"Total Frequency\")\n",
    "axes[1, 1].set_title(\"Frequency Mass by Token Length\")\n",
    "axes[1, 1].grid(True, axis=\"y\")\n",
    "\n",
    "plt.tight_layout()\n",
    "plt.show()\n"
   ]
  },
  {
   "cell_type": "markdown",
   "id": "99f74442",
   "metadata": {},
   "source": [
    "#### **Plots 1 & 2**\n",
    "\n",
    "This might be an extreme case of Zipf's law, but the frequency of the word is strongly inversely related to its rank\n",
    "\n",
    "Nonetheless, when reconstructing the words from the disjoint words, we'll ensure that we give more frequent words more weight, sort of a probabilistic approach. The priors being the frequency of the term in the lexicon relative to the other terms.\n",
    "\n",
    "#### **Plot 3**\n",
    "\n",
    "The top 10% most frequent tokens appear in 67.6% of the normalized corpus. Whereas the bottom 30% tokens appear in less than 10% of the corpus. To be cautious but also remove things that are less frequent, we'll remove the buttome 10% of tokens. "
   ]
  },
  {
   "cell_type": "code",
   "execution_count": 61,
   "id": "4c4e9386",
   "metadata": {},
   "outputs": [
    {
     "name": "stdout",
     "output_type": "stream",
     "text": [
      "Bottom 10% tokens by rank (capped at 15 tokens):\n",
      "مبسط: 1\n",
      "برونزالفاء: 1\n",
      "اماراتي: 1\n",
      "هان: 1\n",
      "رويال: 1\n",
      "حليب: 1\n",
      "سوبر: 1\n",
      "سمارت: 1\n",
      "ريمون: 1\n",
      "موديل: 1\n",
      "برنزالفاء: 1\n",
      "سيليكون: 1\n",
      "اكر: 1\n",
      "طبشه: 1\n",
      "درفه: 1\n"
     ]
    }
   ],
   "source": [
    "# Just to be sure let's see some of those buttom 10%\n",
    "items_sorted = sorted(lexicon.items(), key=lambda x: x[1])  \n",
    "N = len(items_sorted)\n",
    "\n",
    "# Bottom 10% by rank\n",
    "pct = 10\n",
    "cutoff_idx = min(int(np.ceil(pct / 100 * N)), 15)\n",
    "bottom_10 = items_sorted[:cutoff_idx]\n",
    "\n",
    "print(f\"Bottom {pct}% tokens by rank (capped at 15 tokens):\")\n",
    "for token, freq in bottom_10:\n",
    "    print(f\"{token}: {freq}\")"
   ]
  },
  {
   "cell_type": "markdown",
   "id": "109e2867",
   "metadata": {},
   "source": [
    "The words appear to be meaningful, so we'll not drop any."
   ]
  },
  {
   "cell_type": "markdown",
   "id": "f0bef861",
   "metadata": {},
   "source": [
    "#### **Plot 4**\n",
    "\n",
    "Most words fall within 3 and 7 characters. Let's see some examples of the extremes at 2 chars and >=9 chars long:"
   ]
  },
  {
   "cell_type": "code",
   "execution_count": 62,
   "id": "da4ccead",
   "metadata": {},
   "outputs": [
    {
     "data": {
      "text/plain": [
       "{'رش': 4,\n",
       " 'شب': 9,\n",
       " 'دن': 1,\n",
       " 'حر': 11,\n",
       " 'سد': 8,\n",
       " 'اي': 5,\n",
       " 'لب': 3,\n",
       " 'خط': 1,\n",
       " 'حب': 1,\n",
       " 'كل': 1,\n",
       " 'يا': 1,\n",
       " 'ات': 11,\n",
       " 'تر': 1,\n",
       " 'جد': 3,\n",
       " 'يد': 2,\n",
       " 'ين': 1,\n",
       " 'نص': 1,\n",
       " 'يخ': 5,\n",
       " 'جي': 1,\n",
       " 'دي': 2,\n",
       " 'شر': 1,\n",
       " 'ال': 1,\n",
       " 'خا': 1,\n",
       " 'قص': 5,\n",
       " 'سن': 1,\n",
       " 'صب': 1,\n",
       " 'مت': 2}"
      ]
     },
     "execution_count": 62,
     "metadata": {},
     "output_type": "execute_result"
    }
   ],
   "source": [
    "{k: v for k, v in lexicon.items() if len(k) == 2}"
   ]
  },
  {
   "cell_type": "code",
   "execution_count": 63,
   "id": "e2afbcbe",
   "metadata": {},
   "outputs": [
    {
     "data": {
      "text/plain": [
       "{'برونزالفاء': 1,\n",
       " 'برنزالفاء': 1,\n",
       " 'المستعماره': 2,\n",
       " 'بوصهبلاستيك': 1,\n",
       " 'اكسسوارات': 8,\n",
       " 'الخرسانيه': 17,\n",
       " 'الابعادpanel': 8,\n",
       " 'والقسامات': 1,\n",
       " 'واالكسسوارات': 1,\n",
       " 'ايزوبروبيل': 1,\n",
       " 'حديدتسليح': 4,\n",
       " 'استتواريو': 1}"
      ]
     },
     "execution_count": 63,
     "metadata": {},
     "output_type": "execute_result"
    }
   ],
   "source": [
    "{k: v for k, v in lexicon.items() if len(k) >= 9}"
   ]
  },
  {
   "cell_type": "markdown",
   "id": "fa65af75",
   "metadata": {},
   "source": [
    "There is a mix between words that are uninterpretable and ones that are not. Unfortunately this may be a byproduct of the CAMel-tools tokenizer-disambiguator combo, which was our only efficient hope of normalizing and lemmatizing the tokens. Hence, this approach will suffice for now. More efforts could be shed on improving the normalization phase so we can further optimize the lexicon.\n",
    "\n",
    "**Note:** I'll manually clean these tokens to improve our lexicon."
   ]
  },
  {
   "cell_type": "code",
   "execution_count": 64,
   "id": "f443161b",
   "metadata": {},
   "outputs": [
    {
     "data": {
      "text/plain": [
       "{'رش': 4,\n",
       " 'سد': 8,\n",
       " 'اكسسوارات': 9,\n",
       " 'الخرسانيه': 17,\n",
       " 'خط': 1,\n",
       " 'نص': 1,\n",
       " 'ايزوبروبيل': 1,\n",
       " 'قص': 5,\n",
       " 'صب': 1}"
      ]
     },
     "execution_count": 64,
     "metadata": {},
     "output_type": "execute_result"
    }
   ],
   "source": [
    "# Extract and remove tokens surgically\n",
    "extract_map = {\n",
    "    'الابعادpanel': ['الابعاد', 'panel'],\n",
    "    'بوصهبلاستيك': ['بلاستيك'],\n",
    "    'واالكسسوارات': ['اكسسوارات'],\n",
    "    'برونزالفاء': ['برونز'],\n",
    "    'برنزالفاء': ['برونز'],\n",
    "    'والقسامات': ['قسامات'],\n",
    "    'حديدتسليح': ['حديد','تسليح'],\n",
    "}\n",
    "\n",
    "# Apply extractions\n",
    "for src, parts in extract_map.items():\n",
    "    if src in lexicon:\n",
    "        for p in parts:\n",
    "            p = preprocess_text(p)\n",
    "            if p in lexicon:\n",
    "                lexicon[p] += 1\n",
    "            else:\n",
    "                lexicon[p] = 1\n",
    "        lexicon.pop(src, None)\n",
    "\n",
    "remove_words = {\n",
    "    'شب','دن','حر','اي','لب','حب','كل','يا','ات','تر','جد','يد','ين','يخ','جي','دي','شر','ال','خا','سن','مت',\n",
    "    'استتواريو', 'المستعماره'\n",
    "}\n",
    "\n",
    "for bad in remove_words:\n",
    "    lexicon.pop(bad, None)\n",
    "\n",
    "{k: v for k, v in lexicon.items() if len(k) >= 9 or len(k) == 2}"
   ]
  },
  {
   "cell_type": "markdown",
   "id": "2f870f46",
   "metadata": {},
   "source": [
    "## Combine disjointed letters\n",
    "Combining the letters based on the lexicon is only one half of the solution, the harder part is understanding the boundaries of words where letters are disjointed and ambiguous."
   ]
  },
  {
   "cell_type": "markdown",
   "id": "fc1cae8d",
   "metadata": {},
   "source": [
    "### Research findings\n"
   ]
  },
  {
   "cell_type": "markdown",
   "id": "38f32f39",
   "metadata": {},
   "source": [
    "This problem could be cut in three parts:\n",
    "1. Find unigram probability for each lexicon entry\n",
    "    - We don't have a large enough corpus to use ngrams, plus we don't know the boundaries of words\n",
    "2. Create a Trie data structure from the lexicon\n",
    "3. Traverse the Trie and determine the word with most likelihood\n",
    "    - We could go about the traversal using a greedy approach, which means looking at each word in the sentence alone, but I've decided to follow a better approach (Viterbi algo.) which looks at how the words fit in a sentance"
   ]
  },
  {
   "cell_type": "markdown",
   "id": "3c6fd493",
   "metadata": {},
   "source": [
    "### ***Trie and Viterbi Segment technique***"
   ]
  },
  {
   "cell_type": "markdown",
   "id": "5546ddc4",
   "metadata": {},
   "source": [
    "#### Algorithm"
   ]
  },
  {
   "cell_type": "code",
   "execution_count": 65,
   "id": "8062e44f",
   "metadata": {},
   "outputs": [],
   "source": [
    "# Node definition for the Trie\n",
    "class TrieNode: \n",
    "    __slots__ = (\"ch\",\"end\",\"logp\")\n",
    "    def __init__(self):\n",
    "        self.ch = {} # Children nodes dictionary\n",
    "        self.end = False # Boolean: node marks a word's end\n",
    "        self.logp = float(\"-inf\") # Likelihood for this word, only relevant if end is True \n",
    "\n",
    "# Trie structure to hold the lexicon\n",
    "class Trie:\n",
    "    def __init__(self):\n",
    "        self.root = TrieNode()\n",
    "    def insert(self, word, logp): # Insert a node in the Trie\n",
    "        node = self.root\n",
    "        for c in word:\n",
    "            node = node.ch.setdefault(c, TrieNode()) # If there's a node for c return it, else create a new node for c\n",
    "        node.end = True\n",
    "        node.logp = logp\n",
    "    def in_trie_prefix(self, s): # Checks if the string/word is in our Trie\n",
    "        node = self.root\n",
    "        for ch in s:\n",
    "            if ch not in node.ch:\n",
    "                return False\n",
    "            node = node.ch[ch]\n",
    "        return node.end\n",
    "\n",
    "# The blueprint to creating the Trie DS\n",
    "def build_trie_from_counts(counts, alpha=0.0):\n",
    "    # counts: dict[word] -> int\n",
    "    V = len(counts) # Vocabulary size\n",
    "    Z = sum(counts.values()) + alpha * V # Denominator = N_train (total no. of words) + weighted V\n",
    "    T = Trie()\n",
    "    for w, c in counts.items():\n",
    "        p = (c + alpha) / Z\n",
    "        T.insert(w, log(p))\n",
    "    return T\n",
    "\n",
    "def viterbi_segment(chars, trie, del_char_logp=log(6.7e-3)): # ≈ -5.00\n",
    "    \"\"\"chars: e.g. 'catsanddog' (spaces removed). Returns words and score.\"\"\"\n",
    "\n",
    "    if chars == \"\":\n",
    "        return \"\", 1\n",
    "    \n",
    "    n = len(chars)\n",
    "    best = [float(\"-inf\")] * (n + 1)\n",
    "    back = [None] * (n + 1) # (end of word index for word starting at i: int, start of a word: boolean)\n",
    "    best[n] = 0.0  # empty suffix has score 0\n",
    "\n",
    "    # This loop begins at the end of the sentence, to evaluate all possible word formations taking into account the entire sentence\n",
    "    for i in range(n - 1, -1, -1): \n",
    "        node = trie.root\n",
    "        j = i\n",
    "        while j < n and chars[j] in node.ch: # Check if the char exists in the children of the current node\n",
    "            node = node.ch[chars[j]] # Look at the branch associated with chars[j]\n",
    "            j += 1\n",
    "            if node.end: # If chars[i:j] completes a word, then step in\n",
    "                cand = node.logp + best[j] # The core of the Viterbi DP; considers likelihood of chars[i:j] and even chars[j:] \n",
    "                if cand > best[i]:\n",
    "                    best[i] = cand\n",
    "                    back[i] = (j, True)\n",
    "        \n",
    "        # Mark char position as a skip when it doesn't form a word and propagate logp.\n",
    "        # This helps when the end of the sentence isn't found in lexicon/Trie.\n",
    "        # The del_char_logp is added to penalize skipping characters\n",
    "        cand_skip = best[i+1] + del_char_logp  \n",
    "        if cand_skip > best[i]:\n",
    "            best[i] = cand_skip\n",
    "            back[i] = (i+1, False)\n",
    "\n",
    "    # Reconstruct the words\n",
    "    words = []\n",
    "    i = 0\n",
    "    while i < n:\n",
    "        j, is_word = back[i]\n",
    "        if is_word: # i.e. character at i isn't marked as skip\n",
    "            words.append(chars[i:j])\n",
    "        i = j\n",
    "\n",
    "    \n",
    "    \n",
    "    if len(words) == 1: # Sometimes we'll only recognize one word; let's flag the case with 1\n",
    "        return words, 1\n",
    "    \n",
    "    elif not words: # In case we failed to construct any words; flag with 0\n",
    "        return \"Unknown\", 0\n",
    "    \n",
    "    else: # We found a list of words; return the score (<0) and join by space later to reconstruct sentence\n",
    "        return words, best[0]"
   ]
  },
  {
   "cell_type": "markdown",
   "id": "f173c1b0",
   "metadata": {},
   "source": [
    "##### Notes (the key decisions in implementing the algorithm)\n"
   ]
  },
  {
   "cell_type": "markdown",
   "id": "0c8f91e4",
   "metadata": {},
   "source": [
    "- **Scoring**\n",
    "  \n",
    "  - Use natural-log probabilities: `node.logp = log p(w) ≤ 0`.  \n",
    "  - Base case: `best[n] = 0.0` (log 1). A fallback case when no words are found.\n",
    "\n",
    "- **Transitions at position i**\n",
    "  \n",
    "  - **Words:** for each trie end at `j`, candidate = `node.logp + best[j]`.  \n",
    "  - **Skip 1 char:** candidate = `best[i+1] + del_char_logp`. Always include it as a competitor (not just a fallback).\n",
    "\n",
    "- **Skip penalty**\n",
    "  \n",
    "  - Set `del_char_logp = log(p_del)` with `0 < p_del << 1` (same log base).  \n",
    "  - Example: `del_char_logp = log(6.7e-3) ≈ -5.0`.  \n",
    "\n",
    "- **Decision intuition (per-char threshold)**\n",
    "  \n",
    "  - Word of length `L` beats skipping those `L` chars iff  \n",
    "    `log P(w) > L * del_char_logp` ⇔ `(log P(w))/L > del_char_logp`.  \n",
    "  - So `del_char_logp` acts as a per-character quality threshold.\n",
    "\n",
    "- **Correction to earlier intuition**\n",
    "  \n",
    "  - Choosing a word at `[i:j)` does **not** force later scores below `best[j+1]`.  \n",
    "  - With a **negative** skip penalty, a strong word can outperform a run of skips by avoiding `L * |del_char_logp|`.\n",
    "\n",
    "- **Bias toward frequent words**\n",
    "  \n",
    "  - Already handled by larger (less negative) `log P(w)`.  \n",
    "  - Tune `del_char_logp` to trade off segmentation vs. deletions; already tried multiple hyperparamters."
   ]
  },
  {
   "cell_type": "markdown",
   "id": "1034bc4b",
   "metadata": {},
   "source": [
    "##### A few tests\n"
   ]
  },
  {
   "cell_type": "code",
   "execution_count": 66,
   "id": "cd8fed20",
   "metadata": {},
   "outputs": [
    {
     "name": "stdout",
     "output_type": "stream",
     "text": [
      "['cats', 'and', 'dog']\n"
     ]
    }
   ],
   "source": [
    "# Toy example\n",
    "counts = {\n",
    "    \"cat\": 40, \"cats\": 30, \"sand\": 5, \"and\": 20, \"an\": 25, \"dog\": 70\n",
    "}\n",
    "trie = build_trie_from_counts(counts, alpha=1.0)\n",
    "words, score = viterbi_segment(\"catsanddogfiller\", trie)\n",
    "print(words)  # e.g., ['cats', 'and', 'dog'] \n"
   ]
  },
  {
   "cell_type": "markdown",
   "id": "677cf938",
   "metadata": {},
   "source": [
    "We purposfully choose to find `an` in the sentence above. Although `and` is the right choice, we can't be certain of which word is right all the time unless we resort to an LLM or another expensive technique that is context aware. Hence, choosing based on frequency and propagated log likelihood is a sufficient heuristic."
   ]
  },
  {
   "cell_type": "code",
   "execution_count": 67,
   "id": "1358a21b",
   "metadata": {},
   "outputs": [
    {
     "name": "stdout",
     "output_type": "stream",
     "text": [
      "صاجاسودملمت\n",
      "['صاج', 'اسود'] -27.056923875693155\n"
     ]
    }
   ],
   "source": [
    "# Example from our data\n",
    "\n",
    "trie_ar = build_trie_from_counts(lexicon, alpha=1.0)\n",
    "words, score = viterbi_segment(df[\"Disjointed\"].iloc[1563], trie_ar)\n",
    "print(df[\"Disjointed\"].iloc[1563])\n",
    "print(words, score)"
   ]
  },
  {
   "cell_type": "code",
   "execution_count": 68,
   "id": "d69b4fbf",
   "metadata": {},
   "outputs": [
    {
     "name": "stdout",
     "output_type": "stream",
     "text": [
      "حديدمجدولاتفاقملممترسعود\n",
      "['حديد', 'مجدول', 'اتفاق'] -60.75549874753403\n"
     ]
    }
   ],
   "source": [
    "trie_ar = build_trie_from_counts(lexicon, alpha=1.0)\n",
    "words, score = viterbi_segment(df[\"Disjointed\"].iloc[2833], trie_ar)\n",
    "print(df[\"Disjointed\"].iloc[2833])\n",
    "print(words, score)"
   ]
  },
  {
   "cell_type": "markdown",
   "id": "9de8ae9a",
   "metadata": {},
   "source": [
    "###### More tests - ignore"
   ]
  },
  {
   "cell_type": "code",
   "execution_count": 101,
   "id": "7d2ec67b",
   "metadata": {},
   "outputs": [
    {
     "name": "stdout",
     "output_type": "stream",
     "text": [
      "سماكه in trie? True\n"
     ]
    }
   ],
   "source": [
    "print(\"سماكه in trie?\", trie_ar.in_trie_prefix(\"سماكه\"))"
   ]
  },
  {
   "cell_type": "code",
   "execution_count": 70,
   "id": "8cb8bca4",
   "metadata": {},
   "outputs": [
    {
     "name": "stdout",
     "output_type": "stream",
     "text": [
      "مجدول in trie? True\n"
     ]
    }
   ],
   "source": [
    "print(\"مجدول in trie?\", trie_ar.in_trie_prefix(\"مجدول\"))"
   ]
  },
  {
   "cell_type": "code",
   "execution_count": 71,
   "id": "e77043fc",
   "metadata": {},
   "outputs": [
    {
     "name": "stdout",
     "output_type": "stream",
     "text": [
      "صاجاسودملمت\n",
      "['صاج', 'اسود'] -27.056923875693155\n"
     ]
    }
   ],
   "source": [
    "words, score = viterbi_segment(df[\"Disjointed\"].iloc[1563], trie_ar)\n",
    "print(df[\"Disjointed\"].iloc[1563])\n",
    "print(words, score)"
   ]
  },
  {
   "cell_type": "code",
   "execution_count": 72,
   "id": "752d9ef4",
   "metadata": {},
   "outputs": [
    {
     "name": "stdout",
     "output_type": "stream",
     "text": [
      "['صاج', 'اسود'] -27.056923875693155\n"
     ]
    }
   ],
   "source": [
    "chars = \"صاجاسودملمت\"\n",
    "counts = {\"صاج\" : 1, \"اسود\" :1, \"ملمت\" : 1}\n",
    "\n",
    "trie = build_trie_from_counts(lexicon)\n",
    "seg, score = viterbi_segment(chars, trie_ar)\n",
    "\n",
    "print(seg, score)"
   ]
  },
  {
   "cell_type": "code",
   "execution_count": 73,
   "id": "cc2b63a2",
   "metadata": {},
   "outputs": [
    {
     "name": "stdout",
     "output_type": "stream",
     "text": [
      "صاج in trie? True\n",
      "اسود in trie? True\n"
     ]
    }
   ],
   "source": [
    "print(\"صاج in trie?\", trie_ar.in_trie_prefix(\"صاج\"))\n",
    "print(\"اسود in trie?\", trie_ar.in_trie_prefix(\"اسود\"))"
   ]
  },
  {
   "cell_type": "markdown",
   "id": "84ad2d1a",
   "metadata": {},
   "source": [
    "### Rejoining the disjointed letters\n",
    "Now we can reconstruct the disjointed letters in the Item Name column"
   ]
  },
  {
   "cell_type": "code",
   "execution_count": 74,
   "id": "5582eb33",
   "metadata": {},
   "outputs": [],
   "source": [
    "def segment_and_join(text, trie):\n",
    "    words, score = viterbi_segment(text, trie)\n",
    "    \n",
    "    # Catch edge cases\n",
    "    if score == 0 or score == 1:\n",
    "        return words\n",
    "    \n",
    "    # Join words with spaces\n",
    "    else: \n",
    "        return \" \".join(words)"
   ]
  },
  {
   "cell_type": "markdown",
   "id": "b1172b56",
   "metadata": {},
   "source": [
    "#### Rejoined column created"
   ]
  },
  {
   "cell_type": "code",
   "execution_count": 75,
   "id": "16bfd38e",
   "metadata": {},
   "outputs": [],
   "source": [
    "df[\"Rejoined\"] = ''\n",
    "df[\"Rejoined\"] = (df[\"Disjointed\"].apply(lambda t: segment_and_join(t, trie_ar))).str.strip()"
   ]
  },
  {
   "cell_type": "code",
   "execution_count": 76,
   "id": "b8a89faa",
   "metadata": {},
   "outputs": [
    {
     "data": {
      "text/html": [
       "<div>\n",
       "<style scoped>\n",
       "    .dataframe tbody tr th:only-of-type {\n",
       "        vertical-align: middle;\n",
       "    }\n",
       "\n",
       "    .dataframe tbody tr th {\n",
       "        vertical-align: top;\n",
       "    }\n",
       "\n",
       "    .dataframe thead th {\n",
       "        text-align: right;\n",
       "    }\n",
       "</style>\n",
       "<table border=\"1\" class=\"dataframe\">\n",
       "  <thead>\n",
       "    <tr style=\"text-align: right;\">\n",
       "      <th></th>\n",
       "      <th>Item Name</th>\n",
       "      <th>Normalized</th>\n",
       "      <th>Disjointed</th>\n",
       "      <th>Rejoined</th>\n",
       "    </tr>\n",
       "  </thead>\n",
       "  <tbody>\n",
       "    <tr>\n",
       "      <th>439</th>\n",
       "      <td>تيوب المنيوم مستطيل 20*80*1.30 ملي 6 متر</td>\n",
       "      <td>تيوب المنيوم مستطيل</td>\n",
       "      <td></td>\n",
       "      <td></td>\n",
       "    </tr>\n",
       "    <tr>\n",
       "      <th>743</th>\n",
       "      <td>كيس مادة</td>\n",
       "      <td>كيس ماده</td>\n",
       "      <td></td>\n",
       "      <td></td>\n",
       "    </tr>\n",
       "    <tr>\n",
       "      <th>901</th>\n",
       "      <td>GATE BARIAR PANEL2</td>\n",
       "      <td>gate bariar panel</td>\n",
       "      <td></td>\n",
       "      <td></td>\n",
       "    </tr>\n",
       "    <tr>\n",
       "      <th>1563</th>\n",
       "      <td>ﺻ ﺎ ﺝ ﺍ ﺳ و د 10 ﻣ ﻝ 8 * 4 ﻣ ﺗ</td>\n",
       "      <td></td>\n",
       "      <td>صاجاسودملمت</td>\n",
       "      <td>صاج اسود</td>\n",
       "    </tr>\n",
       "  </tbody>\n",
       "</table>\n",
       "</div>"
      ],
      "text/plain": [
       "                                     Item Name           Normalized  \\\n",
       "439   تيوب المنيوم مستطيل 20*80*1.30 ملي 6 متر  تيوب المنيوم مستطيل   \n",
       "743                                   كيس مادة             كيس ماده   \n",
       "901                         GATE BARIAR PANEL2    gate bariar panel   \n",
       "1563            ﺻ ﺎ ﺝ ﺍ ﺳ و د 10 ﻣ ﻝ 8 * 4 ﻣ ﺗ                        \n",
       "\n",
       "       Disjointed  Rejoined  \n",
       "439                          \n",
       "743                          \n",
       "901                          \n",
       "1563  صاجاسودملمت  صاج اسود  "
      ]
     },
     "execution_count": 76,
     "metadata": {},
     "output_type": "execute_result"
    }
   ],
   "source": [
    "# Let's see the results\n",
    "df.iloc[[439, 743, 901, 1563]]"
   ]
  },
  {
   "cell_type": "code",
   "execution_count": 77,
   "id": "f5ce2940",
   "metadata": {},
   "outputs": [
    {
     "data": {
      "text/plain": [
       "'حديد مجدول اتفاق'"
      ]
     },
     "execution_count": 77,
     "metadata": {},
     "output_type": "execute_result"
    }
   ],
   "source": [
    "df[\"Rejoined\"].iloc[2833]"
   ]
  },
  {
   "cell_type": "markdown",
   "id": "e1e2fdfd",
   "metadata": {},
   "source": [
    "#### Combined column created"
   ]
  },
  {
   "cell_type": "code",
   "execution_count": 78,
   "id": "cccb8887",
   "metadata": {},
   "outputs": [
    {
     "data": {
      "text/html": [
       "<div>\n",
       "<style scoped>\n",
       "    .dataframe tbody tr th:only-of-type {\n",
       "        vertical-align: middle;\n",
       "    }\n",
       "\n",
       "    .dataframe tbody tr th {\n",
       "        vertical-align: top;\n",
       "    }\n",
       "\n",
       "    .dataframe thead th {\n",
       "        text-align: right;\n",
       "    }\n",
       "</style>\n",
       "<table border=\"1\" class=\"dataframe\">\n",
       "  <thead>\n",
       "    <tr style=\"text-align: right;\">\n",
       "      <th></th>\n",
       "      <th>Item Name</th>\n",
       "      <th>Normalized</th>\n",
       "      <th>Disjointed</th>\n",
       "      <th>Rejoined</th>\n",
       "      <th>Combined</th>\n",
       "    </tr>\n",
       "  </thead>\n",
       "  <tbody>\n",
       "    <tr>\n",
       "      <th>439</th>\n",
       "      <td>تيوب المنيوم مستطيل 20*80*1.30 ملي 6 متر</td>\n",
       "      <td>تيوب المنيوم مستطيل</td>\n",
       "      <td></td>\n",
       "      <td></td>\n",
       "      <td>تيوب المنيوم مستطيل</td>\n",
       "    </tr>\n",
       "    <tr>\n",
       "      <th>743</th>\n",
       "      <td>كيس مادة</td>\n",
       "      <td>كيس ماده</td>\n",
       "      <td></td>\n",
       "      <td></td>\n",
       "      <td>كيس ماده</td>\n",
       "    </tr>\n",
       "    <tr>\n",
       "      <th>901</th>\n",
       "      <td>GATE BARIAR PANEL2</td>\n",
       "      <td>gate bariar panel</td>\n",
       "      <td></td>\n",
       "      <td></td>\n",
       "      <td>gate bariar panel</td>\n",
       "    </tr>\n",
       "    <tr>\n",
       "      <th>1563</th>\n",
       "      <td>ﺻ ﺎ ﺝ ﺍ ﺳ و د 10 ﻣ ﻝ 8 * 4 ﻣ ﺗ</td>\n",
       "      <td></td>\n",
       "      <td>صاجاسودملمت</td>\n",
       "      <td>صاج اسود</td>\n",
       "      <td>صاج اسود</td>\n",
       "    </tr>\n",
       "    <tr>\n",
       "      <th>1663</th>\n",
       "      <td>XT1N 160 TMD 40-450 3p F F</td>\n",
       "      <td>xt tmd</td>\n",
       "      <td></td>\n",
       "      <td></td>\n",
       "      <td>xt tmd</td>\n",
       "    </tr>\n",
       "  </tbody>\n",
       "</table>\n",
       "</div>"
      ],
      "text/plain": [
       "                                     Item Name           Normalized  \\\n",
       "439   تيوب المنيوم مستطيل 20*80*1.30 ملي 6 متر  تيوب المنيوم مستطيل   \n",
       "743                                   كيس مادة             كيس ماده   \n",
       "901                         GATE BARIAR PANEL2    gate bariar panel   \n",
       "1563            ﺻ ﺎ ﺝ ﺍ ﺳ و د 10 ﻣ ﻝ 8 * 4 ﻣ ﺗ                        \n",
       "1663                XT1N 160 TMD 40-450 3p F F               xt tmd   \n",
       "\n",
       "       Disjointed  Rejoined             Combined  \n",
       "439                          تيوب المنيوم مستطيل  \n",
       "743                                     كيس ماده  \n",
       "901                            gate bariar panel  \n",
       "1563  صاجاسودملمت  صاج اسود             صاج اسود  \n",
       "1663                                      xt tmd  "
      ]
     },
     "execution_count": 78,
     "metadata": {},
     "output_type": "execute_result"
    }
   ],
   "source": [
    "# Now let's add a new fully preprocessed column\n",
    "df[\"Combined\"] = (\n",
    "    df[\"Normalized\"].fillna(\"\").str.strip() + \" \" + df[\"Rejoined\"].fillna(\"\").str.strip()\n",
    ").str.strip()\n",
    "df.iloc[[439, 743, 901, 1563, 1663]]"
   ]
  },
  {
   "cell_type": "code",
   "execution_count": 79,
   "id": "96ce3108",
   "metadata": {},
   "outputs": [
    {
     "data": {
      "text/html": [
       "<div>\n",
       "<style scoped>\n",
       "    .dataframe tbody tr th:only-of-type {\n",
       "        vertical-align: middle;\n",
       "    }\n",
       "\n",
       "    .dataframe tbody tr th {\n",
       "        vertical-align: top;\n",
       "    }\n",
       "\n",
       "    .dataframe thead th {\n",
       "        text-align: right;\n",
       "    }\n",
       "</style>\n",
       "<table border=\"1\" class=\"dataframe\">\n",
       "  <thead>\n",
       "    <tr style=\"text-align: right;\">\n",
       "      <th></th>\n",
       "      <th>Item Name</th>\n",
       "      <th>Normalized</th>\n",
       "      <th>Disjointed</th>\n",
       "      <th>Rejoined</th>\n",
       "      <th>Combined</th>\n",
       "    </tr>\n",
       "  </thead>\n",
       "  <tbody>\n",
       "    <tr>\n",
       "      <th>1562</th>\n",
       "      <td>ﺻ ﺎ ﺝ ﺍ ﺳ و د 1220 * 2440 * 20 ﻣ ﻠ</td>\n",
       "      <td></td>\n",
       "      <td>صاجاسودمل</td>\n",
       "      <td>صاج اسود</td>\n",
       "      <td>صاج اسود</td>\n",
       "    </tr>\n",
       "    <tr>\n",
       "      <th>1563</th>\n",
       "      <td>ﺻ ﺎ ﺝ ﺍ ﺳ و د 10 ﻣ ﻝ 8 * 4 ﻣ ﺗ</td>\n",
       "      <td></td>\n",
       "      <td>صاجاسودملمت</td>\n",
       "      <td>صاج اسود</td>\n",
       "      <td>صاج اسود</td>\n",
       "    </tr>\n",
       "    <tr>\n",
       "      <th>1565</th>\n",
       "      <td>ﻣ ﺎ ﺳ و ﺭ ﺓ ﺍ ﺳ و د 5 ﺑ و ﺻ ﺔ * 4.0 ﻣ ﻝ 12 ﻣ ﺗ ﺭ</td>\n",
       "      <td></td>\n",
       "      <td>ماسورهاسودبوصهملمتر</td>\n",
       "      <td>ماسوره اسود</td>\n",
       "      <td>ماسوره اسود</td>\n",
       "    </tr>\n",
       "    <tr>\n",
       "      <th>1566</th>\n",
       "      <td>ﻣ ﺎ ﺳ و ﺭ ﺓ ﺍ ﺳ و د 5 ﺑ و ﺻ ﺔ * 5 ﻣ ﻝ 6 ﻣ ﺗ ﺭ</td>\n",
       "      <td></td>\n",
       "      <td>ماسورهاسودبوصهملمتر</td>\n",
       "      <td>ماسوره اسود</td>\n",
       "      <td>ماسوره اسود</td>\n",
       "    </tr>\n",
       "    <tr>\n",
       "      <th>1567</th>\n",
       "      <td>ﺗ ﯾ و ﺏ ﻓ ﺎ ﺭ ﻍ ﻣ ﺭ ﺑ ﻊ 80 * 80 * 5 ﻣ ﻝ 6 ﻣ ﺗ ﺭ</td>\n",
       "      <td></td>\n",
       "      <td>تيوبفارغمربعملمتر</td>\n",
       "      <td>تيوب فارغ مربع</td>\n",
       "      <td>تيوب فارغ مربع</td>\n",
       "    </tr>\n",
       "  </tbody>\n",
       "</table>\n",
       "</div>"
      ],
      "text/plain": [
       "                                             Item Name Normalized  \\\n",
       "1562                ﺻ ﺎ ﺝ ﺍ ﺳ و د 1220 * 2440 * 20 ﻣ ﻠ              \n",
       "1563                    ﺻ ﺎ ﺝ ﺍ ﺳ و د 10 ﻣ ﻝ 8 * 4 ﻣ ﺗ              \n",
       "1565  ﻣ ﺎ ﺳ و ﺭ ﺓ ﺍ ﺳ و د 5 ﺑ و ﺻ ﺔ * 4.0 ﻣ ﻝ 12 ﻣ ﺗ ﺭ              \n",
       "1566     ﻣ ﺎ ﺳ و ﺭ ﺓ ﺍ ﺳ و د 5 ﺑ و ﺻ ﺔ * 5 ﻣ ﻝ 6 ﻣ ﺗ ﺭ              \n",
       "1567   ﺗ ﯾ و ﺏ ﻓ ﺎ ﺭ ﻍ ﻣ ﺭ ﺑ ﻊ 80 * 80 * 5 ﻣ ﻝ 6 ﻣ ﺗ ﺭ              \n",
       "\n",
       "               Disjointed        Rejoined        Combined  \n",
       "1562            صاجاسودمل        صاج اسود        صاج اسود  \n",
       "1563          صاجاسودملمت        صاج اسود        صاج اسود  \n",
       "1565  ماسورهاسودبوصهملمتر     ماسوره اسود     ماسوره اسود  \n",
       "1566  ماسورهاسودبوصهملمتر     ماسوره اسود     ماسوره اسود  \n",
       "1567    تيوبفارغمربعملمتر  تيوب فارغ مربع  تيوب فارغ مربع  "
      ]
     },
     "execution_count": 79,
     "metadata": {},
     "output_type": "execute_result"
    }
   ],
   "source": [
    "df_test = df[df[\"Disjointed\"] != \"\"]\n",
    "df_test.to_excel(\"../data/reconstructed_entries.xlsx\")\n",
    "df_test.head(5)"
   ]
  },
  {
   "cell_type": "markdown",
   "id": "03ff7676",
   "metadata": {},
   "source": [
    "## Analyze tokens"
   ]
  },
  {
   "cell_type": "code",
   "execution_count": 80,
   "id": "ad7c0957",
   "metadata": {},
   "outputs": [
    {
     "data": {
      "image/png": "[encoded data removed]",
      "text/plain": [
       "<Figure size 1200x1250 with 5 Axes>"
      ]
     },
     "metadata": {},
     "output_type": "display_data"
    }
   ],
   "source": [
    "# Visualize the character lengths per preprocessing stage\n",
    "\n",
    "# Columns where zero-length is an artifact you'd like to ignore\n",
    "drop_zero_len_cols = {\"Disjointed\", \"Rejoined\"}\n",
    "\n",
    "length_counts = {}\n",
    "for col in df.columns:\n",
    "    lengths = df[col].astype(str).str.len()\n",
    "    if col in drop_zero_len_cols:\n",
    "        lengths = lengths[lengths > 0]  # drop zeros only for these columns\n",
    "    length_counts[col] = lengths.value_counts().sort_index()\n",
    "\n",
    "# Put into a DataFrame (rows = lengths, columns = original columns)\n",
    "length_counts_df = pd.DataFrame(length_counts).fillna(0).astype(int)\n",
    "\n",
    "# Plot histograms per column with cleaner style\n",
    "fig, axes = plt.subplots(len(length_counts_df.columns), 1, figsize=(12, 2.5*len(length_counts_df.columns)), sharex=False)\n",
    "\n",
    "for ax, col in zip(axes, length_counts_df.columns):\n",
    "    length_counts_df[col].plot(kind=\"bar\", ax=ax, width=0.9)\n",
    "    ax.set_title(col, fontsize=12, pad=8)\n",
    "    \n",
    "    # Show only ticks at 0, 10, 20, ... up to 100\n",
    "    ax.xaxis.set_major_locator(ticker.MultipleLocator(10))\n",
    "    ax.xaxis.set_minor_locator(ticker.NullLocator())\n",
    "    \n",
    "    # Rotate x labels for readability\n",
    "    ax.tick_params(axis=\"x\", rotation=45)\n",
    "\n",
    "# Global x label\n",
    "fig.text(0.5, 0.04, \"String Length\", ha=\"center\", fontsize=12)\n",
    "fig.text(0.04, 0.5, \"Frequency\", va=\"center\", rotation=\"vertical\", fontsize=12)\n",
    "\n",
    "plt.tight_layout(rect=[0.05, 0.05, 1, 1])\n",
    "plt.show()"
   ]
  },
  {
   "cell_type": "code",
   "execution_count": 81,
   "id": "84b382cb",
   "metadata": {},
   "outputs": [
    {
     "data": {
      "text/html": [
       "<div>\n",
       "<style scoped>\n",
       "    .dataframe tbody tr th:only-of-type {\n",
       "        vertical-align: middle;\n",
       "    }\n",
       "\n",
       "    .dataframe tbody tr th {\n",
       "        vertical-align: top;\n",
       "    }\n",
       "\n",
       "    .dataframe thead th {\n",
       "        text-align: right;\n",
       "    }\n",
       "</style>\n",
       "<table border=\"1\" class=\"dataframe\">\n",
       "  <thead>\n",
       "    <tr style=\"text-align: right;\">\n",
       "      <th></th>\n",
       "      <th>Item Name</th>\n",
       "      <th>Normalized</th>\n",
       "      <th>Disjointed</th>\n",
       "      <th>Rejoined</th>\n",
       "      <th>Combined</th>\n",
       "    </tr>\n",
       "  </thead>\n",
       "  <tbody>\n",
       "    <tr>\n",
       "      <th>1675</th>\n",
       "      <td>S201-C10</td>\n",
       "      <td></td>\n",
       "      <td></td>\n",
       "      <td></td>\n",
       "      <td></td>\n",
       "    </tr>\n",
       "    <tr>\n",
       "      <th>1676</th>\n",
       "      <td>S203-C6</td>\n",
       "      <td></td>\n",
       "      <td></td>\n",
       "      <td></td>\n",
       "      <td></td>\n",
       "    </tr>\n",
       "    <tr>\n",
       "      <th>1681</th>\n",
       "      <td>S203-C63</td>\n",
       "      <td></td>\n",
       "      <td></td>\n",
       "      <td></td>\n",
       "      <td></td>\n",
       "    </tr>\n",
       "    <tr>\n",
       "      <th>1697</th>\n",
       "      <td>S201-C16</td>\n",
       "      <td></td>\n",
       "      <td></td>\n",
       "      <td></td>\n",
       "      <td></td>\n",
       "    </tr>\n",
       "    <tr>\n",
       "      <th>1698</th>\n",
       "      <td>S202-C10</td>\n",
       "      <td></td>\n",
       "      <td></td>\n",
       "      <td></td>\n",
       "      <td></td>\n",
       "    </tr>\n",
       "  </tbody>\n",
       "</table>\n",
       "</div>"
      ],
      "text/plain": [
       "     Item Name Normalized Disjointed Rejoined Combined\n",
       "1675  S201-C10                                        \n",
       "1676   S203-C6                                        \n",
       "1681  S203-C63                                        \n",
       "1697  S201-C16                                        \n",
       "1698  S202-C10                                        "
      ]
     },
     "execution_count": 81,
     "metadata": {},
     "output_type": "execute_result"
    }
   ],
   "source": [
    "df[df[\"Combined\"] == \"\"].head(5)"
   ]
  },
  {
   "cell_type": "markdown",
   "id": "9352cf9f",
   "metadata": {},
   "source": [
    "After normalization many of the original Item Names shrunk down as a result of removing digits, untis, etc., while some empty rows arose as a result of cleaning disjoint letters. \n",
    "\n",
    "Disjointed and Rejoined also exhibit a similar trend. To clear something first, the plot shows only the rows where there were values (disjoint letters). Overall, the sentence legnths shrunk due to some words found in the respective rows not being present in the lexicon. However, we can clearly see that no rows were completely eliminated; we successfully brought back some context from the disjoint letters.\n",
    "\n",
    "Lastly, the combined letters match the distribution of the normalized column. This is normal as we only added 39 rows from Rejoined, and that didn't change the distrubution by much.\n",
    "\n",
    "All in all. Most rows have at least a few characters/words that we could extract the context of the purchase from. Notably, there are some 0-char rows in Combined which are English entries (e.g., S201-C10) where digits and symbols were removed and letters were left disjoint. We'll decide what to do with these later. ~z"
   ]
  },
  {
   "cell_type": "code",
   "execution_count": 82,
   "id": "725af629",
   "metadata": {},
   "outputs": [
    {
     "data": {
      "text/html": [
       "<div>\n",
       "<style scoped>\n",
       "    .dataframe tbody tr th:only-of-type {\n",
       "        vertical-align: middle;\n",
       "    }\n",
       "\n",
       "    .dataframe tbody tr th {\n",
       "        vertical-align: top;\n",
       "    }\n",
       "\n",
       "    .dataframe thead th {\n",
       "        text-align: right;\n",
       "    }\n",
       "</style>\n",
       "<table border=\"1\" class=\"dataframe\">\n",
       "  <thead>\n",
       "    <tr style=\"text-align: right;\">\n",
       "      <th></th>\n",
       "      <th>Item Name</th>\n",
       "      <th>Normalized</th>\n",
       "      <th>Disjointed</th>\n",
       "      <th>Rejoined</th>\n",
       "      <th>Combined</th>\n",
       "    </tr>\n",
       "  </thead>\n",
       "  <tbody>\n",
       "    <tr>\n",
       "      <th>497</th>\n",
       "      <td>C35 / OPC</td>\n",
       "      <td>opc</td>\n",
       "      <td></td>\n",
       "      <td></td>\n",
       "      <td>opc</td>\n",
       "    </tr>\n",
       "    <tr>\n",
       "      <th>532</th>\n",
       "      <td>C35 SCC - 450</td>\n",
       "      <td>scc</td>\n",
       "      <td></td>\n",
       "      <td></td>\n",
       "      <td>scc</td>\n",
       "    </tr>\n",
       "    <tr>\n",
       "      <th>553</th>\n",
       "      <td>HEA 200*190*12m</td>\n",
       "      <td>hea</td>\n",
       "      <td></td>\n",
       "      <td></td>\n",
       "      <td>hea</td>\n",
       "    </tr>\n",
       "    <tr>\n",
       "      <th>635</th>\n",
       "      <td>صاج 1.2*4*8</td>\n",
       "      <td>صاج</td>\n",
       "      <td></td>\n",
       "      <td></td>\n",
       "      <td>صاج</td>\n",
       "    </tr>\n",
       "    <tr>\n",
       "      <th>636</th>\n",
       "      <td>صاج 1.22*6 متر*8 مم</td>\n",
       "      <td>صاج</td>\n",
       "      <td></td>\n",
       "      <td></td>\n",
       "      <td>صاج</td>\n",
       "    </tr>\n",
       "  </tbody>\n",
       "</table>\n",
       "</div>"
      ],
      "text/plain": [
       "               Item Name Normalized Disjointed Rejoined Combined\n",
       "497            C35 / OPC        opc                          opc\n",
       "532        C35 SCC - 450        scc                          scc\n",
       "553      HEA 200*190*12m        hea                          hea\n",
       "635          صاج 1.2*4*8        صاج                          صاج\n",
       "636  صاج 1.22*6 متر*8 مم        صاج                          صاج"
      ]
     },
     "execution_count": 82,
     "metadata": {},
     "output_type": "execute_result"
    }
   ],
   "source": [
    "df[df[\"Combined\"].str.len() == 3].head(5)"
   ]
  },
  {
   "cell_type": "code",
   "execution_count": null,
   "id": "411066e6",
   "metadata": {},
   "outputs": [],
   "source": []
  },
  {
   "cell_type": "code",
   "execution_count": 83,
   "id": "46ba3809",
   "metadata": {},
   "outputs": [
    {
     "data": {
      "text/plain": [
       "1267"
      ]
     },
     "execution_count": 83,
     "metadata": {},
     "output_type": "execute_result"
    }
   ],
   "source": [
    "# Let's see how many unique words we've got\n",
    "df[\"Combined\"].nunique()"
   ]
  },
  {
   "cell_type": "markdown",
   "id": "0cd57600",
   "metadata": {},
   "source": [
    "## Reduced tokens"
   ]
  },
  {
   "cell_type": "code",
   "execution_count": null,
   "id": "4f89ec30",
   "metadata": {},
   "outputs": [],
   "source": []
  },
  {
   "cell_type": "markdown",
   "id": "cdc9f376",
   "metadata": {},
   "source": [
    "## Numerical tokens"
   ]
  },
  {
   "cell_type": "code",
   "execution_count": null,
   "id": "e0d73988",
   "metadata": {},
   "outputs": [],
   "source": []
  },
  {
   "cell_type": "markdown",
   "id": "5b795bab",
   "metadata": {},
   "source": [
    "# Train classifier"
   ]
  },
  {
   "cell_type": "code",
   "execution_count": 84,
   "id": "55c99ea1",
   "metadata": {},
   "outputs": [],
   "source": [
    "from bertopic import BERTopic\n",
    "from sentence_transformers import SentenceTransformer\n",
    "from sklearn.feature_extraction.text import CountVectorizer\n",
    "from umap import UMAP\n",
    "import hdbscan\n",
    "\n",
    "en_stop = set(__import__('sklearn').feature_extraction.text.ENGLISH_STOP_WORDS)\n",
    "stop_words = list(en_stop | AR_STOP)\n",
    "\n",
    "# 1) Load your preprocessed texts\n",
    "texts = df[\"Combined\"].astype(str).tolist()   # your clean column\n",
    "\n",
    "# 2) Multilingual embeddings (CPU okay)\n",
    "embedder = SentenceTransformer(\"paraphrase-multilingual-MiniLM-L12-v2\")\n",
    "\n",
    "# 3) Vectorizer tuned for short text\n",
    "vectorizer_model = CountVectorizer(\n",
    "    ngram_range=(1,3), min_df=2, stop_words=stop_words, max_features=30000\n",
    ")\n",
    "\n",
    "# 4) UMAP + HDBSCAN\n",
    "umap_model = UMAP(n_neighbors=15, n_components=5, metric=\"cosine\", random_state=42)\n",
    "hdbscan_model = hdbscan.HDBSCAN(min_cluster_size=25, metric='euclidean',\n",
    "                                cluster_selection_method='eom', prediction_data=True)\n",
    "\n",
    "# 5) Build BERTopic\n",
    "topic_model = BERTopic(\n",
    "    embedding_model=embedder,\n",
    "    vectorizer_model=vectorizer_model,\n",
    "    umap_model=umap_model,\n",
    "    hdbscan_model=hdbscan_model,\n",
    "    calculate_probabilities=True,\n",
    "    verbose=False\n",
    ")\n",
    "\n",
    "topics, probs = topic_model.fit_transform(texts)\n",
    "\n",
    "# Inspect\n",
    "topic_info = topic_model.get_topic_info()     # topic sizes + labels\n",
    "top_words_0 = topic_model.get_topic(0)        # [(word, weight), ...]\n"
   ]
  },
  {
   "cell_type": "code",
   "execution_count": 85,
   "id": "78d01716",
   "metadata": {},
   "outputs": [
    {
     "data": {
      "text/html": [
       "<div>\n",
       "<style scoped>\n",
       "    .dataframe tbody tr th:only-of-type {\n",
       "        vertical-align: middle;\n",
       "    }\n",
       "\n",
       "    .dataframe tbody tr th {\n",
       "        vertical-align: top;\n",
       "    }\n",
       "\n",
       "    .dataframe thead th {\n",
       "        text-align: right;\n",
       "    }\n",
       "</style>\n",
       "<table border=\"1\" class=\"dataframe\">\n",
       "  <thead>\n",
       "    <tr style=\"text-align: right;\">\n",
       "      <th></th>\n",
       "      <th>Topic</th>\n",
       "      <th>Count</th>\n",
       "      <th>Name</th>\n",
       "      <th>Representation</th>\n",
       "      <th>Representative_Docs</th>\n",
       "    </tr>\n",
       "  </thead>\n",
       "  <tbody>\n",
       "    <tr>\n",
       "      <th>0</th>\n",
       "      <td>-1</td>\n",
       "      <td>790</td>\n",
       "      <td>-1_pcs_bend_مقاس_مقاس سماكه</td>\n",
       "      <td>[pcs, bend, مقاس, مقاس سماكه, سماكه طول, طول, ...</td>\n",
       "      <td>[ماسوره حديد مقاس سماكه طول, ماسوره حديد مقاس ...</td>\n",
       "    </tr>\n",
       "    <tr>\n",
       "      <th>1</th>\n",
       "      <td>0</td>\n",
       "      <td>240</td>\n",
       "      <td>0____</td>\n",
       "      <td>[, , , , , , , , , ]</td>\n",
       "      <td>[unknown, unknown, unknown]</td>\n",
       "    </tr>\n",
       "    <tr>\n",
       "      <th>2</th>\n",
       "      <td>1</td>\n",
       "      <td>236</td>\n",
       "      <td>1_مجلفن_سلك_كوع_رمادي</td>\n",
       "      <td>[مجلفن, سلك, كوع, رمادي, rebar saudi, منار, حد...</td>\n",
       "      <td>[صاج حديد مجلفن مقاس سماكه, صاج حديد مجلفن مقا...</td>\n",
       "    </tr>\n",
       "    <tr>\n",
       "      <th>3</th>\n",
       "      <td>2</td>\n",
       "      <td>169</td>\n",
       "      <td>2_صاج اسود_اسود_صاج_حديد ويل</td>\n",
       "      <td>[صاج اسود, اسود, صاج, حديد ويل, ويل, ماسوره اس...</td>\n",
       "      <td>[صاج اسود, صاج اسود, صاج اسود]</td>\n",
       "    </tr>\n",
       "    <tr>\n",
       "      <th>4</th>\n",
       "      <td>3</td>\n",
       "      <td>138</td>\n",
       "      <td>3_عادي_كيبل_fp_سرايا</td>\n",
       "      <td>[عادي, كيبل, fp, سرايا, ac, نامات ربر, iec, نا...</td>\n",
       "      <td>[لب عادي بالستيك نامات ربر, لب عادي بالستيك نا...</td>\n",
       "    </tr>\n",
       "    <tr>\n",
       "      <th>5</th>\n",
       "      <td>4</td>\n",
       "      <td>118</td>\n",
       "      <td>4_تسليح سابك_حديد تسليح سابك_سابك حديد تسليح_س...</td>\n",
       "      <td>[تسليح سابك, حديد تسليح سابك, سابك حديد تسليح,...</td>\n",
       "      <td>[حديد تسليح سابك, حديد تسليح سابك, حديد تسليح ...</td>\n",
       "    </tr>\n",
       "    <tr>\n",
       "      <th>6</th>\n",
       "      <td>5</td>\n",
       "      <td>92</td>\n",
       "      <td>5_steel_concrete_kludi_kludi rak</td>\n",
       "      <td>[steel, concrete, kludi, kludi rak, chrome, tu...</td>\n",
       "      <td>[kludi rak abs shattaf with hose and holder ch...</td>\n",
       "    </tr>\n",
       "    <tr>\n",
       "      <th>7</th>\n",
       "      <td>6</td>\n",
       "      <td>84</td>\n",
       "      <td>6_سماكه صاج حديد_سماكه صاج_صاج حديد_صاج حديد اسود</td>\n",
       "      <td>[سماكه صاج حديد, سماكه صاج, صاج حديد, صاج حديد...</td>\n",
       "      <td>[صاج حديد اسود سماكه, صاج حديد اسود سماكه, صاج...</td>\n",
       "    </tr>\n",
       "    <tr>\n",
       "      <th>8</th>\n",
       "      <td>7</td>\n",
       "      <td>81</td>\n",
       "      <td>7_ppr_pipe_tahweeltm_ppr tahweeltm</td>\n",
       "      <td>[ppr, pipe, tahweeltm, ppr tahweeltm, tee ppr,...</td>\n",
       "      <td>[equal tee ppr tahweeltm, ppr pipe, ppr pipe]</td>\n",
       "    </tr>\n",
       "    <tr>\n",
       "      <th>9</th>\n",
       "      <td>8</td>\n",
       "      <td>80</td>\n",
       "      <td>8_اتفاق حديد تسليح_اتفاق حديد_اتفاق_حديد تسليح</td>\n",
       "      <td>[اتفاق حديد تسليح, اتفاق حديد, اتفاق, حديد تسل...</td>\n",
       "      <td>[حديد تسليح اتفاق, حديد تسليح اتفاق, حديد تسلي...</td>\n",
       "    </tr>\n",
       "    <tr>\n",
       "      <th>10</th>\n",
       "      <td>9</td>\n",
       "      <td>79</td>\n",
       "      <td>9_مجدول_تسليح مجدول_حديد تسليح مجدول_راجحي</td>\n",
       "      <td>[مجدول, تسليح مجدول, حديد تسليح مجدول, راجحي, ...</td>\n",
       "      <td>[حديد تسليح مجدول سعودي سابك, حديد تسليح مجدول...</td>\n",
       "    </tr>\n",
       "    <tr>\n",
       "      <th>11</th>\n",
       "      <td>10</td>\n",
       "      <td>72</td>\n",
       "      <td>10_aquaterra_elbow_ppr_aquaterra ppr</td>\n",
       "      <td>[aquaterra, elbow, ppr, aquaterra ppr, adaptor...</td>\n",
       "      <td>[aquaterra ppr elbow, aquaterra ppr elbow, aqu...</td>\n",
       "    </tr>\n",
       "    <tr>\n",
       "      <th>12</th>\n",
       "      <td>11</td>\n",
       "      <td>69</td>\n",
       "      <td>11_cu_pvc_wire_kv</td>\n",
       "      <td>[cu, pvc, wire, kv, cable, cu xlpe, xlpe, riya...</td>\n",
       "      <td>[riyadh cable cu xlpe pvc kv black, riyadh cab...</td>\n",
       "    </tr>\n",
       "    <tr>\n",
       "      <th>13</th>\n",
       "      <td>12</td>\n",
       "      <td>67</td>\n",
       "      <td>12_الخرسانيه_نموذج_معزوله ثلاثي_الواح الخرساني...</td>\n",
       "      <td>[الخرسانيه, نموذج, معزوله ثلاثي, الواح الخرسان...</td>\n",
       "      <td>[توريد مواد تقني الواح الخرسانيه معزوله ثلاثي ...</td>\n",
       "    </tr>\n",
       "    <tr>\n",
       "      <th>14</th>\n",
       "      <td>13</td>\n",
       "      <td>64</td>\n",
       "      <td>13_xt_kit_xt fp ef_xt fp</td>\n",
       "      <td>[xt, kit, xt fp ef, xt fp, stand, fp ef, ef, t...</td>\n",
       "      <td>[xt tmd, xt tmg, xt tmd]</td>\n",
       "    </tr>\n",
       "    <tr>\n",
       "      <th>15</th>\n",
       "      <td>14</td>\n",
       "      <td>54</td>\n",
       "      <td>14_black deformed straight_black deformed_itti...</td>\n",
       "      <td>[black deformed straight, black deformed, itti...</td>\n",
       "      <td>[black deformed straight bar ittifaq, black de...</td>\n",
       "    </tr>\n",
       "    <tr>\n",
       "      <th>16</th>\n",
       "      <td>15</td>\n",
       "      <td>48</td>\n",
       "      <td>15_bar sabic_sabic_black deformed straight_bla...</td>\n",
       "      <td>[bar sabic, sabic, black deformed straight, bl...</td>\n",
       "      <td>[black deformed straight bar sabic, black defo...</td>\n",
       "    </tr>\n",
       "    <tr>\n",
       "      <th>17</th>\n",
       "      <td>16</td>\n",
       "      <td>45</td>\n",
       "      <td>16_hdg_osf tray_osf_hdg osf tray</td>\n",
       "      <td>[hdg, osf tray, osf, hdg osf tray, hdg osf, tr...</td>\n",
       "      <td>[hdg osf tray cover thick length, hdg osf tray...</td>\n",
       "    </tr>\n",
       "    <tr>\n",
       "      <th>18</th>\n",
       "      <td>17</td>\n",
       "      <td>44</td>\n",
       "      <td>17_راجحي حديد_راجحي_راجحي حديد تسليح_نظامي</td>\n",
       "      <td>[راجحي حديد, راجحي, راجحي حديد تسليح, نظامي, w...</td>\n",
       "      <td>[حديد تسليح راجحي, حديد تسليح راجحي, حديد تسلي...</td>\n",
       "    </tr>\n",
       "    <tr>\n",
       "      <th>19</th>\n",
       "      <td>18</td>\n",
       "      <td>42</td>\n",
       "      <td>18_size_mx_starter_motor</td>\n",
       "      <td>[size, mx, starter, motor, bearing, class, ms,...</td>\n",
       "      <td>[brake pads shoes lin ers mx configuration dru...</td>\n",
       "    </tr>\n",
       "    <tr>\n",
       "      <th>20</th>\n",
       "      <td>19</td>\n",
       "      <td>40</td>\n",
       "      <td>19_light_ip_ch_super</td>\n",
       "      <td>[light, ip, ch, super, hd, ipe, petromin, powe...</td>\n",
       "      <td>[flood light ip, flood light ip, cylendrical l...</td>\n",
       "    </tr>\n",
       "    <tr>\n",
       "      <th>21</th>\n",
       "      <td>20</td>\n",
       "      <td>37</td>\n",
       "      <td>20_cr_cr deformed_straight bar_straight</td>\n",
       "      <td>[cr, cr deformed, straight bar, straight, defo...</td>\n",
       "      <td>[deformed straight bar cr, deformed straight b...</td>\n",
       "    </tr>\n",
       "    <tr>\n",
       "      <th>22</th>\n",
       "      <td>21</td>\n",
       "      <td>36</td>\n",
       "      <td>21_ekip_dip_ekip dip_xt</td>\n",
       "      <td>[ekip, dip, ekip dip, xt, ct, ext, ekip dip ls...</td>\n",
       "      <td>[xt ekip dip ls, xt ekip dip ls, xt ekip dip ls]</td>\n",
       "    </tr>\n",
       "    <tr>\n",
       "      <th>23</th>\n",
       "      <td>22</td>\n",
       "      <td>36</td>\n",
       "      <td>22_sheet_sheet hr_hr_gr</td>\n",
       "      <td>[sheet, sheet hr, hr, gr, sheet gi, sabic hr, ...</td>\n",
       "      <td>[hr sheet, hr sheet, hr sheet]</td>\n",
       "    </tr>\n",
       "    <tr>\n",
       "      <th>24</th>\n",
       "      <td>23</td>\n",
       "      <td>36</td>\n",
       "      <td>23_مسحوب_تسليح سابك_حديد تسليح سابك_سابك</td>\n",
       "      <td>[مسحوب, تسليح سابك, حديد تسليح سابك, سابك, طول...</td>\n",
       "      <td>[حديد تسليح سابك مسحوب, حديد تسليح سابك مسحوب,...</td>\n",
       "    </tr>\n",
       "    <tr>\n",
       "      <th>25</th>\n",
       "      <td>24</td>\n",
       "      <td>35</td>\n",
       "      <td>24_steel_mtr unit_mtr_bar</td>\n",
       "      <td>[steel, mtr unit, mtr, bar, unit, reinforcemen...</td>\n",
       "      <td>[reinforcing steel bar ittfaq mtr unit, reinfo...</td>\n",
       "    </tr>\n",
       "    <tr>\n",
       "      <th>26</th>\n",
       "      <td>25</td>\n",
       "      <td>32</td>\n",
       "      <td>25_ويل_املس_سابك_ويل املس</td>\n",
       "      <td>[ويل, املس, سابك, ويل املس, لفه سلك, لفه, فضي,...</td>\n",
       "      <td>[ويل تسليح املس سابك, ويل تسليح املس سابك, ويل...</td>\n",
       "    </tr>\n",
       "    <tr>\n",
       "      <th>27</th>\n",
       "      <td>26</td>\n",
       "      <td>31</td>\n",
       "      <td>26_nut_عزل_white_ماء</td>\n",
       "      <td>[nut, عزل, white, ماء, bolt, matt, saab, elie,...</td>\n",
       "      <td>[bolt nut and washer, bolt nut and washer, roo...</td>\n",
       "    </tr>\n",
       "    <tr>\n",
       "      <th>28</th>\n",
       "      <td>27</td>\n",
       "      <td>30</td>\n",
       "      <td>27_copper_air_terminal_pipes</td>\n",
       "      <td>[copper, air, terminal, pipes, soft, test, ear...</td>\n",
       "      <td>[copper bus bar, bare copper, bare copper]</td>\n",
       "    </tr>\n",
       "    <tr>\n",
       "      <th>29</th>\n",
       "      <td>28</td>\n",
       "      <td>30</td>\n",
       "      <td>28_coil_hr_ph_gi</td>\n",
       "      <td>[coil, hr, ph, gi, coils, sabic, sabic hr, kva...</td>\n",
       "      <td>[coil hr sabic slitting, coil hr sabic slittin...</td>\n",
       "    </tr>\n",
       "    <tr>\n",
       "      <th>30</th>\n",
       "      <td>29</td>\n",
       "      <td>30</td>\n",
       "      <td>29_hz_dc_wmp_lock</td>\n",
       "      <td>[hz, dc, wmp, lock, ekip, lsig wmp, lsi wmp, l...</td>\n",
       "      <td>[af hz dc contactor, af hz dc contactor, af hz...</td>\n",
       "    </tr>\n",
       "    <tr>\n",
       "      <th>31</th>\n",
       "      <td>30</td>\n",
       "      <td>30</td>\n",
       "      <td>30_mtr astm_astm_wmp_lsi</td>\n",
       "      <td>[mtr astm, astm, wmp, lsi, lsi wmp, wmp ekip, ...</td>\n",
       "      <td>[ekip dip lsi wmp, ekip dip lsi wmp, ekip dip ...</td>\n",
       "    </tr>\n",
       "    <tr>\n",
       "      <th>32</th>\n",
       "      <td>31</td>\n",
       "      <td>29</td>\n",
       "      <td>31_حديد تسليح حديد_تسليح حديد تسليح_تسليح حديد_سد</td>\n",
       "      <td>[حديد تسليح حديد, تسليح حديد تسليح, تسليح حديد...</td>\n",
       "      <td>[سد اختبار, حديد تسليح نظامي سد, حديد تسليح نظ...</td>\n",
       "    </tr>\n",
       "    <tr>\n",
       "      <th>33</th>\n",
       "      <td>32</td>\n",
       "      <td>27</td>\n",
       "      <td>32_تسليح وطني حديد_وطني حديد تسليح_حديد تسليح ...</td>\n",
       "      <td>[تسليح وطني حديد, وطني حديد تسليح, حديد تسليح ...</td>\n",
       "      <td>[حديد تسليح وطني, حديد تسليح وطني, حديد تسليح ...</td>\n",
       "    </tr>\n",
       "    <tr>\n",
       "      <th>34</th>\n",
       "      <td>33</td>\n",
       "      <td>27</td>\n",
       "      <td>33_xt_inn xt_inn_</td>\n",
       "      <td>[xt, inn xt, inn, , , , , , , ]</td>\n",
       "      <td>[xt tma, xt tma, xt tma]</td>\n",
       "    </tr>\n",
       "    <tr>\n",
       "      <th>35</th>\n",
       "      <td>34</td>\n",
       "      <td>26</td>\n",
       "      <td>34_تحويل_حراري_rebar_قسام</td>\n",
       "      <td>[تحويل, حراري, rebar, قسام, كوع, جلب, نقاص, re...</td>\n",
       "      <td>[ماسوره حراري تحويل, ماسوره حراري تحويل, ماسور...</td>\n",
       "    </tr>\n",
       "    <tr>\n",
       "      <th>36</th>\n",
       "      <td>35</td>\n",
       "      <td>26</td>\n",
       "      <td>35_حديد سابك_سابك حديد_سابك_حديد</td>\n",
       "      <td>[حديد سابك, سابك حديد, سابك, حديد, mys, ربل, ,...</td>\n",
       "      <td>[حديد سابك, حديد سابك, حديد سابك]</td>\n",
       "    </tr>\n",
       "  </tbody>\n",
       "</table>\n",
       "</div>"
      ],
      "text/plain": [
       "    Topic  Count                                               Name  \\\n",
       "0      -1    790                        -1_pcs_bend_مقاس_مقاس سماكه   \n",
       "1       0    240                                              0____   \n",
       "2       1    236                              1_مجلفن_سلك_كوع_رمادي   \n",
       "3       2    169                       2_صاج اسود_اسود_صاج_حديد ويل   \n",
       "4       3    138                               3_عادي_كيبل_fp_سرايا   \n",
       "5       4    118  4_تسليح سابك_حديد تسليح سابك_سابك حديد تسليح_س...   \n",
       "6       5     92                   5_steel_concrete_kludi_kludi rak   \n",
       "7       6     84  6_سماكه صاج حديد_سماكه صاج_صاج حديد_صاج حديد اسود   \n",
       "8       7     81                 7_ppr_pipe_tahweeltm_ppr tahweeltm   \n",
       "9       8     80     8_اتفاق حديد تسليح_اتفاق حديد_اتفاق_حديد تسليح   \n",
       "10      9     79         9_مجدول_تسليح مجدول_حديد تسليح مجدول_راجحي   \n",
       "11     10     72               10_aquaterra_elbow_ppr_aquaterra ppr   \n",
       "12     11     69                                  11_cu_pvc_wire_kv   \n",
       "13     12     67  12_الخرسانيه_نموذج_معزوله ثلاثي_الواح الخرساني...   \n",
       "14     13     64                           13_xt_kit_xt fp ef_xt fp   \n",
       "15     14     54  14_black deformed straight_black deformed_itti...   \n",
       "16     15     48  15_bar sabic_sabic_black deformed straight_bla...   \n",
       "17     16     45                   16_hdg_osf tray_osf_hdg osf tray   \n",
       "18     17     44         17_راجحي حديد_راجحي_راجحي حديد تسليح_نظامي   \n",
       "19     18     42                           18_size_mx_starter_motor   \n",
       "20     19     40                               19_light_ip_ch_super   \n",
       "21     20     37            20_cr_cr deformed_straight bar_straight   \n",
       "22     21     36                            21_ekip_dip_ekip dip_xt   \n",
       "23     22     36                            22_sheet_sheet hr_hr_gr   \n",
       "24     23     36           23_مسحوب_تسليح سابك_حديد تسليح سابك_سابك   \n",
       "25     24     35                          24_steel_mtr unit_mtr_bar   \n",
       "26     25     32                          25_ويل_املس_سابك_ويل املس   \n",
       "27     26     31                               26_nut_عزل_white_ماء   \n",
       "28     27     30                       27_copper_air_terminal_pipes   \n",
       "29     28     30                                   28_coil_hr_ph_gi   \n",
       "30     29     30                                  29_hz_dc_wmp_lock   \n",
       "31     30     30                           30_mtr astm_astm_wmp_lsi   \n",
       "32     31     29  31_حديد تسليح حديد_تسليح حديد تسليح_تسليح حديد_سد   \n",
       "33     32     27  32_تسليح وطني حديد_وطني حديد تسليح_حديد تسليح ...   \n",
       "34     33     27                                  33_xt_inn xt_inn_   \n",
       "35     34     26                          34_تحويل_حراري_rebar_قسام   \n",
       "36     35     26                   35_حديد سابك_سابك حديد_سابك_حديد   \n",
       "\n",
       "                                       Representation  \\\n",
       "0   [pcs, bend, مقاس, مقاس سماكه, سماكه طول, طول, ...   \n",
       "1                                [, , , , , , , , , ]   \n",
       "2   [مجلفن, سلك, كوع, رمادي, rebar saudi, منار, حد...   \n",
       "3   [صاج اسود, اسود, صاج, حديد ويل, ويل, ماسوره اس...   \n",
       "4   [عادي, كيبل, fp, سرايا, ac, نامات ربر, iec, نا...   \n",
       "5   [تسليح سابك, حديد تسليح سابك, سابك حديد تسليح,...   \n",
       "6   [steel, concrete, kludi, kludi rak, chrome, tu...   \n",
       "7   [سماكه صاج حديد, سماكه صاج, صاج حديد, صاج حديد...   \n",
       "8   [ppr, pipe, tahweeltm, ppr tahweeltm, tee ppr,...   \n",
       "9   [اتفاق حديد تسليح, اتفاق حديد, اتفاق, حديد تسل...   \n",
       "10  [مجدول, تسليح مجدول, حديد تسليح مجدول, راجحي, ...   \n",
       "11  [aquaterra, elbow, ppr, aquaterra ppr, adaptor...   \n",
       "12  [cu, pvc, wire, kv, cable, cu xlpe, xlpe, riya...   \n",
       "13  [الخرسانيه, نموذج, معزوله ثلاثي, الواح الخرسان...   \n",
       "14  [xt, kit, xt fp ef, xt fp, stand, fp ef, ef, t...   \n",
       "15  [black deformed straight, black deformed, itti...   \n",
       "16  [bar sabic, sabic, black deformed straight, bl...   \n",
       "17  [hdg, osf tray, osf, hdg osf tray, hdg osf, tr...   \n",
       "18  [راجحي حديد, راجحي, راجحي حديد تسليح, نظامي, w...   \n",
       "19  [size, mx, starter, motor, bearing, class, ms,...   \n",
       "20  [light, ip, ch, super, hd, ipe, petromin, powe...   \n",
       "21  [cr, cr deformed, straight bar, straight, defo...   \n",
       "22  [ekip, dip, ekip dip, xt, ct, ext, ekip dip ls...   \n",
       "23  [sheet, sheet hr, hr, gr, sheet gi, sabic hr, ...   \n",
       "24  [مسحوب, تسليح سابك, حديد تسليح سابك, سابك, طول...   \n",
       "25  [steel, mtr unit, mtr, bar, unit, reinforcemen...   \n",
       "26  [ويل, املس, سابك, ويل املس, لفه سلك, لفه, فضي,...   \n",
       "27  [nut, عزل, white, ماء, bolt, matt, saab, elie,...   \n",
       "28  [copper, air, terminal, pipes, soft, test, ear...   \n",
       "29  [coil, hr, ph, gi, coils, sabic, sabic hr, kva...   \n",
       "30  [hz, dc, wmp, lock, ekip, lsig wmp, lsi wmp, l...   \n",
       "31  [mtr astm, astm, wmp, lsi, lsi wmp, wmp ekip, ...   \n",
       "32  [حديد تسليح حديد, تسليح حديد تسليح, تسليح حديد...   \n",
       "33  [تسليح وطني حديد, وطني حديد تسليح, حديد تسليح ...   \n",
       "34                    [xt, inn xt, inn, , , , , , , ]   \n",
       "35  [تحويل, حراري, rebar, قسام, كوع, جلب, نقاص, re...   \n",
       "36  [حديد سابك, سابك حديد, سابك, حديد, mys, ربل, ,...   \n",
       "\n",
       "                                  Representative_Docs  \n",
       "0   [ماسوره حديد مقاس سماكه طول, ماسوره حديد مقاس ...  \n",
       "1                         [unknown, unknown, unknown]  \n",
       "2   [صاج حديد مجلفن مقاس سماكه, صاج حديد مجلفن مقا...  \n",
       "3                      [صاج اسود, صاج اسود, صاج اسود]  \n",
       "4   [لب عادي بالستيك نامات ربر, لب عادي بالستيك نا...  \n",
       "5   [حديد تسليح سابك, حديد تسليح سابك, حديد تسليح ...  \n",
       "6   [kludi rak abs shattaf with hose and holder ch...  \n",
       "7   [صاج حديد اسود سماكه, صاج حديد اسود سماكه, صاج...  \n",
       "8       [equal tee ppr tahweeltm, ppr pipe, ppr pipe]  \n",
       "9   [حديد تسليح اتفاق, حديد تسليح اتفاق, حديد تسلي...  \n",
       "10  [حديد تسليح مجدول سعودي سابك, حديد تسليح مجدول...  \n",
       "11  [aquaterra ppr elbow, aquaterra ppr elbow, aqu...  \n",
       "12  [riyadh cable cu xlpe pvc kv black, riyadh cab...  \n",
       "13  [توريد مواد تقني الواح الخرسانيه معزوله ثلاثي ...  \n",
       "14                           [xt tmd, xt tmg, xt tmd]  \n",
       "15  [black deformed straight bar ittifaq, black de...  \n",
       "16  [black deformed straight bar sabic, black defo...  \n",
       "17  [hdg osf tray cover thick length, hdg osf tray...  \n",
       "18  [حديد تسليح راجحي, حديد تسليح راجحي, حديد تسلي...  \n",
       "19  [brake pads shoes lin ers mx configuration dru...  \n",
       "20  [flood light ip, flood light ip, cylendrical l...  \n",
       "21  [deformed straight bar cr, deformed straight b...  \n",
       "22   [xt ekip dip ls, xt ekip dip ls, xt ekip dip ls]  \n",
       "23                     [hr sheet, hr sheet, hr sheet]  \n",
       "24  [حديد تسليح سابك مسحوب, حديد تسليح سابك مسحوب,...  \n",
       "25  [reinforcing steel bar ittfaq mtr unit, reinfo...  \n",
       "26  [ويل تسليح املس سابك, ويل تسليح املس سابك, ويل...  \n",
       "27  [bolt nut and washer, bolt nut and washer, roo...  \n",
       "28         [copper bus bar, bare copper, bare copper]  \n",
       "29  [coil hr sabic slitting, coil hr sabic slittin...  \n",
       "30  [af hz dc contactor, af hz dc contactor, af hz...  \n",
       "31  [ekip dip lsi wmp, ekip dip lsi wmp, ekip dip ...  \n",
       "32  [سد اختبار, حديد تسليح نظامي سد, حديد تسليح نظ...  \n",
       "33  [حديد تسليح وطني, حديد تسليح وطني, حديد تسليح ...  \n",
       "34                           [xt tma, xt tma, xt tma]  \n",
       "35  [ماسوره حراري تحويل, ماسوره حراري تحويل, ماسور...  \n",
       "36                  [حديد سابك, حديد سابك, حديد سابك]  "
      ]
     },
     "execution_count": 85,
     "metadata": {},
     "output_type": "execute_result"
    }
   ],
   "source": [
    "topic_info"
   ]
  },
  {
   "cell_type": "markdown",
   "id": "9893fb3a",
   "metadata": {},
   "source": [
    "# Appendix"
   ]
  },
  {
   "cell_type": "markdown",
   "id": "1f535801",
   "metadata": {},
   "source": [
    "## Tests"
   ]
  },
  {
   "cell_type": "markdown",
   "id": "56e53c7c",
   "metadata": {},
   "source": [
    "### Trying out normlization techniques"
   ]
  },
  {
   "cell_type": "code",
   "execution_count": 86,
   "id": "51677563",
   "metadata": {},
   "outputs": [
    {
     "data": {
      "text/plain": [
       "'ﻣ ﺎ ﺳ و ﺭ ﺓ ﺍ ﺳ و د 6 ﺑ و ﺻ ﺔ * 7 ﻣ ﻠ ﻡ * 12 ﻣ ﺗ ﺭ'"
      ]
     },
     "execution_count": 86,
     "metadata": {},
     "output_type": "execute_result"
    }
   ],
   "source": [
    "text = \"ﻣ ﺎ ﺳ و ﺭ ﺓ ﺍ ﺳ و د 6 ﺑ و ﺻ ﺔ * 7 ﻣ ﻠ ﻡ * 12 ﻣ ﺗ ﺭ\"\n",
    "text"
   ]
  },
  {
   "cell_type": "code",
   "execution_count": 87,
   "id": "82779055",
   "metadata": {},
   "outputs": [
    {
     "data": {
      "text/plain": [
       "'م ا س و ر ة ا س و د 6 ب و ص ة * 7 م ل م * 12 م ت ر'"
      ]
     },
     "execution_count": 87,
     "metadata": {},
     "output_type": "execute_result"
    }
   ],
   "source": [
    "# This does a good job in standardizing the characters\n",
    "import unicodedata\n",
    "result = unicodedata.normalize(\"NFKC\", text)\n",
    "result"
   ]
  },
  {
   "cell_type": "code",
   "execution_count": 88,
   "id": "1b0380e5",
   "metadata": {},
   "outputs": [
    {
     "data": {
      "text/plain": [
       "'ﻣ ﺎ ﺳ و ﺭ ﺓ ﺍ ﺳ و د 6 ﺑ و ﺻ ﺔ * 7 ﻣ ﻠ ﻡ * 12 ﻣ ﺗ ﺭ'"
      ]
     },
     "execution_count": 88,
     "metadata": {},
     "output_type": "execute_result"
    }
   ],
   "source": [
    "import re\n",
    "result = re.sub(r'[\\u200B-\\u200F\\u202A-\\u202E\\u2066-\\u2069]', '', text)\n",
    "result"
   ]
  },
  {
   "cell_type": "code",
   "execution_count": 89,
   "id": "2e8a1222",
   "metadata": {},
   "outputs": [
    {
     "data": {
      "text/plain": [
       "'ﻣ ﺎ ﺳ و ﺭ ﺓ ﺍ ﺳ و د 6 ﺑ و ﺻ ﺔ * 7 ﻣ ﻠ ﻡ * 12 ﻣ ﺗ ﺭ'"
      ]
     },
     "execution_count": 89,
     "metadata": {},
     "output_type": "execute_result"
    }
   ],
   "source": [
    "result = re.sub(r'\\s+', ' ', text).strip()\n",
    "result"
   ]
  },
  {
   "cell_type": "markdown",
   "id": "e1472dbe",
   "metadata": {},
   "source": [
    "None of the techniques above effictively resolves the issue of spaces and word recognition in text...\n",
    "\n",
    "We'll try out Camel-tools, I've had a little experience with it before, but never worked with data this messy"
   ]
  },
  {
   "cell_type": "code",
   "execution_count": 90,
   "id": "a7ea6297",
   "metadata": {},
   "outputs": [],
   "source": [
    "import camel_tools.utils.normalize as norm"
   ]
  },
  {
   "cell_type": "code",
   "execution_count": 91,
   "id": "88cdce14",
   "metadata": {},
   "outputs": [
    {
     "data": {
      "text/plain": [
       "'م ا س و ر ة ا س و د 6 ب و ص ة * 7 م ل م * 12 م ت ر'"
      ]
     },
     "execution_count": 91,
     "metadata": {},
     "output_type": "execute_result"
    }
   ],
   "source": [
    "norm.normalize_unicode(text)"
   ]
  },
  {
   "cell_type": "code",
   "execution_count": 92,
   "id": "12cfc1c3",
   "metadata": {},
   "outputs": [
    {
     "data": {
      "text/plain": [
       "'م ا س و ر ة ا س و د 6 ب و ص ة * 7 م ل م * 12 م ت ر'"
      ]
     },
     "execution_count": 92,
     "metadata": {},
     "output_type": "execute_result"
    }
   ],
   "source": [
    "from camel_tools.utils.dediac import dediac_ar\n",
    "dediac_ar(norm.normalize_unicode(text))"
   ]
  },
  {
   "cell_type": "code",
   "execution_count": 93,
   "id": "353956e9",
   "metadata": {},
   "outputs": [
    {
     "name": "stdout",
     "output_type": "stream",
     "text": [
      "س ل\n"
     ]
    }
   ],
   "source": [
    "# Oh they're well indexed\n",
    "chars = \"سلام\"\n",
    "print(chars[0], chars[1])"
   ]
  },
  {
   "cell_type": "code",
   "execution_count": 94,
   "id": "789af1ed",
   "metadata": {},
   "outputs": [
    {
     "name": "stdout",
     "output_type": "stream",
     "text": [
      "م\n",
      "ا\n",
      "ل\n",
      "س\n"
     ]
    }
   ],
   "source": [
    "# What about this\n",
    "for i in range(len(chars)- 1, -1, -1): \n",
    "    print(chars[i])"
   ]
  },
  {
   "cell_type": "code",
   "execution_count": 95,
   "id": "a1208d8a",
   "metadata": {},
   "outputs": [
    {
     "data": {
      "text/plain": [
       "['برنزالفاء',\n",
       " 'ال+',\n",
       " 'كهربائي',\n",
       " 'ال+',\n",
       " 'مواصفات',\n",
       " 'و+',\n",
       " 'ال+',\n",
       " 'مخططات',\n",
       " 'ال+',\n",
       " 'مخططات',\n",
       " 'أكسسوارات',\n",
       " 'الخرسانيه',\n",
       " 'والقسامات',\n",
       " 'حديدتسليح',\n",
       " 'استتواريو',\n",
       " 'ألمنيوم',\n",
       " 'برغي',\n",
       " 'كهربائي',\n",
       " 'أسود',\n",
       " 'ال+',\n",
       " 'وطن',\n",
       " 'كهرباء']"
      ]
     },
     "execution_count": 95,
     "metadata": {},
     "output_type": "execute_result"
    }
   ],
   "source": [
    "mle = MLEDisambiguator.pretrained('calima-msa-r13')\n",
    "sample_words = {'برنزالفاء': 1,\n",
    " 'الكهربائي': 1,\n",
    " 'المواصفات': 2,\n",
    " 'والمخططات': 1,\n",
    " 'المخططات': 1,\n",
    " 'اكسسوارات': 8,\n",
    " 'الخرسانيه': 17,\n",
    " 'والقسامات': 1,\n",
    " 'حديدتسليح': 4,\n",
    " 'استتواريو': 1,\n",
    " 'المنيوم': 1,\n",
    " 'برغي': 1,\n",
    " 'كهربائي': 1,\n",
    " 'اسود': 1,\n",
    " 'الوطن': 1,\n",
    " 'كهرباء': 1}\n",
    "samples = \" \".join(sample_words.keys())\n",
    "\n",
    "words = simple_word_tokenize(samples)\n",
    "\n",
    "# 4) morphological tokenization (e.g., ATB; set split=True to get separate tokens)\n",
    "mtok = MorphologicalTokenizer(disambiguator=mle, scheme='d3tok', split=True)\n",
    "segmented = mtok.tokenize(words)\n",
    "segmented"
   ]
  },
  {
   "cell_type": "code",
   "execution_count": 96,
   "id": "14655a11",
   "metadata": {},
   "outputs": [
    {
     "name": "stdout",
     "output_type": "stream",
     "text": [
      "['سابك']\n",
      "[['س+', 'أبك']]\n",
      "['ابك']\n"
     ]
    },
    {
     "data": {
      "text/plain": [
       "'ابك'"
      ]
     },
     "execution_count": 96,
     "metadata": {},
     "output_type": "execute_result"
    }
   ],
   "source": [
    "def preprocess_text_test(text, no_disjointed=True):\n",
    "    # 1) Normalize unicode text\n",
    "    text = normalize_text(text)\n",
    "\n",
    "    # 2) Keep only Arabic + English + replace others with spaces\n",
    "    text = ''.join(keep_arabic_english_only(c) for c in text)\n",
    "\n",
    "    # 3) Split on whitespace (since we've cleaned everything else to spaces)\n",
    "    tokens = text.split()\n",
    "\n",
    "    # 4.1) Remove dimensions/units for lexicon\n",
    "    if no_disjointed:\n",
    "        tokens = [t for t in tokens if t.lower() not in UNIT_TOKENS_EN and t not in UNIT_TOKENS_AR]\n",
    "\n",
    "    # 4.2) Lemmatize and remove clitics for lexicon\n",
    "    if no_disjointed:\n",
    "        print(tokens)\n",
    "        lemm = [tokenizer.tokenize([t]) for t in tokens]\n",
    "        print(lemm)\n",
    "        tokens = [''.join(normalize_text(p) for p in tokenizer.tokenize([t]) if '+' not in p) \n",
    "          for t in tokens]\n",
    "        print(tokens)\n",
    "\n",
    "    # 4.3) Drop single-letter tokens, repeated chars, and deduplicate within the row for lexicon\n",
    "    if no_disjointed:\n",
    "        tokens = [t for t in tokens if len(t) > 1 and len(set(t)) > 1]\n",
    "        seen = set()\n",
    "        tokens = [t for t in tokens if not (t in seen or seen.add(t))]\n",
    "        return ' '.join(tokens)\n",
    "    # 5) Or retain only the disjointed letters to glue back later\n",
    "    else:\n",
    "        tokens = [t for t in tokens if len(t) == 1 and len(set(t)) == 1]\n",
    "        return ''.join(tokens)\n",
    "    \n",
    "text = \"سابك \"#\"المواصفات balorina الكهربائي والكهربائي وكهربائي كهرباء المخططات\"\n",
    "preprocess_text_test(text)"
   ]
  },
  {
   "cell_type": "markdown",
   "id": "e6f9bd08",
   "metadata": {},
   "source": [
    "### Optimizing functions and testing ChatGPT suggestions"
   ]
  },
  {
   "cell_type": "code",
   "execution_count": 97,
   "id": "3291fb42",
   "metadata": {},
   "outputs": [
    {
     "name": "stdout",
     "output_type": "stream",
     "text": [
      "تیوبفارغمربع 80 × 80 × 5 مل 6 متر\n"
     ]
    }
   ],
   "source": [
    "import re\n",
    "from camel_tools.utils.normalize import normalize_unicode, normalize_alef_maksura_ar\n",
    "\n",
    "# Unicode ranges that cover Arabic letters (not presentation forms)\n",
    "_AR = r'\\u0600-\\u06FF\\u0750-\\u077F\\u08A0-\\u08FF'\n",
    "\n",
    "def normalize_mixed_arabic(s: str) -> str:\n",
    "    # 1) Canonical/compatibility normalization\n",
    "    s = normalize_unicode(s, compatibility=True)\n",
    "    # 2) Normalize alef maqsura, optional but useful\n",
    "    s = normalize_alef_maksura_ar(s)\n",
    "\n",
    "    # 3) Strip zero-width/bidi formatting chars\n",
    "    s = re.sub(r'[\\u200B-\\u200F\\u202A-\\u202E\\u2066-\\u2069]', '', s)\n",
    "\n",
    "    # 4) Normalize common operators and pad them\n",
    "    #    Treat *, ×, x as multiplication; surround with single spaces\n",
    "    s = re.sub(r'\\s*([*xX×])\\s*', r' × ', s)\n",
    "\n",
    "    # 5) **Key step**: remove spaces *only* between Arabic letters\n",
    "    #    This stitches scattered letters back into words\n",
    "    s = re.sub(fr'(?<=[{_AR}])\\s+(?=[{_AR}])', '', s)\n",
    "\n",
    "    # 6) Collapse remaining excessive whitespace\n",
    "    s = re.sub(r'\\s+', ' ', s).strip()\n",
    "\n",
    "    return s\n",
    "\n",
    "# Demo on your string\n",
    "sample = \"ﺗ ﯾ و ﺏ ﻓ ﺎ ﺭ ﻍ ﻣ ﺭ ﺑ ﻊ 80 * 80 * 5 ﻣ ﻝ 6 ﻣ ﺗ ﺭ\"\n",
    "print(normalize_mixed_arabic(sample))\n"
   ]
  },
  {
   "cell_type": "code",
   "execution_count": 98,
   "id": "e599fd4d",
   "metadata": {},
   "outputs": [
    {
     "data": {
      "text/plain": [
       "['تیوبفارغمربع', '80', '×', '80', '×', '5', 'مل', '6', 'متر']"
      ]
     },
     "execution_count": 98,
     "metadata": {},
     "output_type": "execute_result"
    }
   ],
   "source": [
    "from camel_tools.disambig.mle import MLEDisambiguator\n",
    "from camel_tools.tokenizers.word import simple_word_tokenize\n",
    "from camel_tools.tokenizers.morphological import MorphologicalTokenizer\n",
    "\n",
    "# 1) choose a pretrained analyzer/disambiguator (MSA shown)\n",
    "mle = MLEDisambiguator.pretrained('calima-msa-r13')\n",
    "\n",
    "# 2) after your intra-letter stitching + spacing heuristics:\n",
    "clean = \"ﺗ ﯾ و ﺏ ﻓ ﺎ ﺭ ﻍ ﻣ ﺭ ﺑ ﻊ 80 * 80 * 5 ﻣ ﻝ 6 ﻣ ﺗ ﺭ\"#\"تیوبفارغمربع 80 × 80 × 5 مل 6 متر\"\n",
    "\n",
    "# 3) whitespace/punct tokenization (required by CAMeL’s morph tokenizer)\n",
    "words = simple_word_tokenize(normalize_mixed_arabic(clean))\n",
    "\n",
    "# 4) morphological tokenization (e.g., ATB; set split=True to get separate tokens)\n",
    "mtok = MorphologicalTokenizer(disambiguator=mle, scheme='atbtok', split=True)\n",
    "segmented = mtok.tokenize(words)\n",
    "segmented"
   ]
  },
  {
   "cell_type": "code",
   "execution_count": 99,
   "id": "7c6dc0c0",
   "metadata": {},
   "outputs": [
    {
     "data": {
      "text/plain": [
       "['تيوبفارغمربع 80 × 80 × 5 مل 6 متر']"
      ]
     },
     "execution_count": 99,
     "metadata": {},
     "output_type": "execute_result"
    }
   ],
   "source": [
    "[' '.join(normalize_text(t) for t in words if '+' not in t) ]"
   ]
  },
  {
   "cell_type": "code",
   "execution_count": 100,
   "id": "eb721526",
   "metadata": {},
   "outputs": [
    {
     "name": "stdout",
     "output_type": "stream",
     "text": [
      "تیو بفا ر غمر بع 80 * 80 * 5 مل 6 متر\n"
     ]
    }
   ],
   "source": [
    "import re\n",
    "import unicodedata\n",
    "from camel_tools.utils.normalize import (\n",
    "    normalize_alef_ar,           # unify alef variants\n",
    "    normalize_alef_maksura_ar,   # ى -> ي\n",
    "    normalize_teh_marbuta_ar     # ة -> ه or keep ة depending on needs\n",
    ")\n",
    "from camel_tools.utils.dediac import dediac_ar\n",
    "\n",
    "# Arabic block after NFKC\n",
    "ARABIC_RANGE = r\"\\u0600-\\u06FF\\u0750-\\u077F\\u08A0-\\u08FF\"\n",
    "AR_LETTER = f\"[{ARABIC_RANGE}]\"\n",
    "DIGIT = r\"[0-9\\u0660-\\u0669]\"  # Western + Arabic-Indic\n",
    "\n",
    "def to_ascii_digits(s: str) -> str:\n",
    "    # map Arabic-Indic digits to ASCII\n",
    "    trans = str.maketrans(\"٠١٢٣٤٥٦٧٨٩\", \"0123456789\")\n",
    "    return s.translate(trans)\n",
    "\n",
    "def normalize_ar_text(s: str, keep_diacritics=False):\n",
    "    # 1) collapse presentation forms, compatibility, widths, etc.\n",
    "    s = unicodedata.normalize(\"NFKC\", s)\n",
    "\n",
    "    # 2) remove tatweel and bidi/formatting chars\n",
    "    s = s.replace(\"\\u0640\", \"\")  # tatweel\n",
    "    s = re.sub(r\"[\\u200c\\u200d\\u200e\\u200f\\u061c]\", \"\", s)  # ZWNJ/ZWJ/LRM/RLM/ALM\n",
    "\n",
    "    # 3) unify common Arabic variants\n",
    "    s = normalize_alef_ar(s)\n",
    "    s = normalize_alef_maksura_ar(s)\n",
    "    s = normalize_teh_marbuta_ar(s)\n",
    "\n",
    "    # 4) optional: strip diacritics (recommended for noisy sources)\n",
    "    if not keep_diacritics:\n",
    "        s = dediac_ar(s)\n",
    "\n",
    "    # 5) digits to ASCII for easier heuristics\n",
    "    s = to_ascii_digits(s)\n",
    "\n",
    "    return s\n",
    "\n",
    "def fix_spaced_glyphs(s: str):\n",
    "    s = normalize_ar_text(s)\n",
    "\n",
    "    # --- spacing repair heuristics ---\n",
    "\n",
    "    # A) collapse spaces inserted between Arabic letters (re-form words)\n",
    "    # remove spaces when both sides are Arabic letters\n",
    "    s = re.sub(fr\"(?<={AR_LETTER})\\s+(?={AR_LETTER})\", \"\", s)\n",
    "\n",
    "    # B) ensure spaces around math operators and 'x'\n",
    "    s = re.sub(r\"\\s*([*+\\-/x×])\\s*\", r\" \\1 \", s)\n",
    "\n",
    "    # C) split between letters and digits (both directions)\n",
    "    s = re.sub(fr\"(?<={AR_LETTER})(?={DIGIT})\", \" \", s)\n",
    "    s = re.sub(fr\"(?<={DIGIT})(?={AR_LETTER})\", \" \", s)\n",
    "\n",
    "    # D) heuristic: insert a space when a right-joining (non-connecting-left) letter\n",
    "    # is followed by another letter (helps recover word boundaries)\n",
    "    non_joiners = \"ادذرزوةى\"  # letters that do not connect to the following letter\n",
    "    s = re.sub(fr\"(?<=[{non_joiners}])(?={AR_LETTER})\", \" \", s)\n",
    "\n",
    "    # E) normalize whitespace\n",
    "    s = re.sub(r\"\\s+\", \" \", s).strip()\n",
    "\n",
    "    return s\n",
    "\n",
    "sample = \"ﺗ ﯾ و ﺏ ﻓ ﺎ ﺭ ﻍ ﻣ ﺭ ﺑ ﻊ 80 * 80 * 5 ﻣ ﻝ 6 ﻣ ﺗ ﺭ\"\n",
    "print(fix_spaced_glyphs(sample))\n"
   ]
  }
 ],
 "metadata": {
  "kernelspec": {
   "display_name": ".venv2 (3.10.11)",
   "language": "python",
   "name": "python3"
  },
  "language_info": {
   "codemirror_mode": {
    "name": "ipython",
    "version": 3
   },
   "file_extension": ".py",
   "mimetype": "text/x-python",
   "name": "python",
   "nbconvert_exporter": "python",
   "pygments_lexer": "ipython3",
   "version": "3.10.11"
  }
 },
 "nbformat": 4,
 "nbformat_minor": 5
}
