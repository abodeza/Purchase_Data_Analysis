{
 "cells": [
  {
   "cell_type": "markdown",
   "id": "99cec062",
   "metadata": {},
   "source": [
    "# This notebook is concerned with handling Item Name"
   ]
  },
  {
   "cell_type": "markdown",
   "id": "f69b7b04",
   "metadata": {},
   "source": [
    "# Table of contents\n",
    "- [Overview](#overview)\n",
    "    - [We'll be dealing with](#well-be-dealing-with)\n",
    "    - [Approach](#approach)\n",
    "- [Setup and load data](#setup-and-load-data)\n",
    "- [Handling Item Names](#Handling-Item-Names)\n",
    "    - [Normalization and lemmatization](#normalization-and-lemmatization)\n",
    "        - [Character level normalization](#character-level-normalization)\n",
    "        - [Word level normalization and lemmatization](#word-level-normalization-and-lemmatization)\n",
    "        - [Normalized and Disjointed cols created](#normalized-and-disjointed-cols-created)\n",
    "    - [Arabic lexicon](#string-tokens)\n",
    "        - [Create lexicon](#create-lexicon)\n",
    "        - [Analyze lexicons' word frequency](#analyze-lexicons-word-frequency)\n",
    "        - [Manual cleaning of edge cases in lexicon](#manual-cleaning-of-edge-cases-in-lexicon)\n",
    "    - [Combine disjointed letters](#Combine-disjointed-letters)\n",
    "        - [Research findings](#Research-findings)\n",
    "        - [🚨 ***Trie and Viterbi Segment technique***](#Trie-and-Viterbi-segment-technique)\n",
    "            - [Algorithm](#algorithm)\n",
    "                - [Notes (the key decisions in implementing the algorithm)](#Notes-(the-key-decisions-in-implementing-the-algorithm))\n",
    "                - [A few tests](#a-few-tests)\n",
    "        - [Rejoining the disjointed letters](#Rejoining-the-disjointed-letters)\n",
    "            - [Rejoined column created](#rejoined-column-created)\n",
    "            - [Combined column created](#combined-column-created)\n",
    "    - [Analyze tokens](#Analyze-tokens)\n",
    "        - [Token lengths](#token-lengths)\n",
    "        - [Clean Combined Column](#clean-combined-column)\n",
    "        - [Save preprocessed Item Name](#save-preprocessed-item-name)\n",
    "    - [Embed tokens](#embed-tokens)\n",
    "        - [Compare current vocab with FastText's](#compare-current-vocab-with-fasttexts)\n",
    "- [Categorize preprocessed Item Names](#Categorize-preprocessed-Item-Names)\n",
    "    - [BERTopic](#BERTopic)\n",
    "    - [Manual renaming of topics](#Manual-renaming-of-topics)\n",
    "- [Appendix](#Appendix)\n",
    "    - [Tests - for myself](#tests)"
   ]
  },
  {
   "cell_type": "markdown",
   "id": "1483b060",
   "metadata": {},
   "source": [
    "# Overview\n"
   ]
  },
  {
   "cell_type": "markdown",
   "id": "ad4eb5cb",
   "metadata": {},
   "source": [
    "## We'll be dealing with: \n"
   ]
  },
  {
   "cell_type": "markdown",
   "id": "259902ae",
   "metadata": {},
   "source": [
    "- a mix of Arabic and English entries,\n",
    "- item codes/numerical values,\n",
    "- and lack of clear categorization."
   ]
  },
  {
   "cell_type": "markdown",
   "id": "18eb3069",
   "metadata": {},
   "source": [
    "## Approach:\n"
   ]
  },
  {
   "cell_type": "markdown",
   "id": "16a780c9",
   "metadata": {},
   "source": [
    "1. Normalization and lemmatization\n",
    "    - normalize characters\n",
    "    - Remove unnecessary chars/symbols/units/fillers\n",
    "    - lemmatization\n",
    "    - break corpus into string tokens\n",
    "3. Generate Arabic lexicon from whole words\n",
    "    - Calculate unigram probability + Laplace Smoothing \n",
    "4. Combine disjointed letters into full words based on the lexicon\n",
    "    - Trie (data structure) + Viterbi Segment technique (dynamic programming)\n",
    "5. Analyze tokens in the data\n",
    "6. Categorize processed Item Names\n",
    "    - We'll use BERTopic to find the categories as a category agnostic approach\n",
    "    - Then we'll manually rename the categories to more interpretable titles\n",
    "7. Spend analysis-ready"
   ]
  },
  {
   "cell_type": "markdown",
   "id": "a87a5f21",
   "metadata": {},
   "source": [
    "# Setup and load data"
   ]
  },
  {
   "cell_type": "code",
   "execution_count": 135,
   "id": "a97b4949",
   "metadata": {},
   "outputs": [],
   "source": [
    "# Import relevant libraries\n",
    "import pandas as pd\n",
    "import numpy as np\n",
    "import matplotlib.pyplot as plt\n",
    "import matplotlib.ticker as ticker\n",
    "\n",
    "from math import log\n",
    "\n",
    "from camel_tools.utils.normalize import (\n",
    "    normalize_alef_ar,           # unify alef variants: أ إ آ -> ا\n",
    "    normalize_alef_maksura_ar,   # ى -> ي\n",
    "    normalize_teh_marbuta_ar,    # ة -> ه or keep ة depending on needs\n",
    "    normalize_unicode            # Normalize Unicode strings into their canonically composed form\n",
    ")\n",
    "from camel_tools.utils.dediac import dediac_ar\n",
    "from camel_tools.tokenizers.word import simple_word_tokenize\n",
    "from camel_tools.disambig.mle import MLEDisambiguator\n",
    "from camel_tools.tokenizers.morphological import MorphologicalTokenizer\n",
    "\n",
    "import re\n",
    "import unicodedata\n",
    "from collections import Counter\n",
    "from collections import defaultdict\n",
    "from sklearn.feature_extraction.text import TfidfVectorizer\n",
    "\n",
    "import gensim\n",
    "from bertopic import BERTopic\n",
    "from sentence_transformers import SentenceTransformer\n",
    "from sklearn.feature_extraction.text import CountVectorizer\n",
    "from umap import UMAP\n",
    "import hdbscan"
   ]
  },
  {
   "cell_type": "code",
   "execution_count": 74,
   "id": "0d220b70",
   "metadata": {},
   "outputs": [],
   "source": [
    "data_path = \"../data/cleaned_num.xlsx\"\n",
    "df_original = pd.read_excel(data_path)\n",
    "df = df_original.copy()\n",
    "\n",
    "# For now we just care about Item Name\n",
    "df = df[['Item Name']]"
   ]
  },
  {
   "cell_type": "markdown",
   "id": "bdcf7675",
   "metadata": {},
   "source": [
    "# Handling Item Names"
   ]
  },
  {
   "cell_type": "markdown",
   "id": "67435c86",
   "metadata": {},
   "source": [
    "## Normalization and lemmatization\n",
    "Using CAMeL-Tools since it handles both Arabic and English texts"
   ]
  },
  {
   "cell_type": "markdown",
   "id": "e62f9751",
   "metadata": {},
   "source": [
    "### Character level normalization"
   ]
  },
  {
   "cell_type": "code",
   "execution_count": 75,
   "id": "17d1974b",
   "metadata": {},
   "outputs": [],
   "source": [
    "_EXTRA_TRANSLATE = {\n",
    "    ord('ی'): ord('ي'),   # Farsi Yeh → Arabic Yeh\n",
    "    ord('ـ'): None,       # Tatweel (kashida) → remove\n",
    "}\n",
    "\n",
    "def normalize_text(text: str) -> str:\n",
    "    # Stronger Unicode compat normalization\n",
    "    text = unicodedata.normalize('NFKC', text)\n",
    "\n",
    "    # Existing CAMeL steps\n",
    "    text = text.lower()\n",
    "    text = normalize_unicode(text)\n",
    "    text = dediac_ar(text)\n",
    "    text = normalize_alef_ar(text)\n",
    "    text = normalize_alef_maksura_ar(text)\n",
    "    text = normalize_teh_marbuta_ar(text)\n",
    "    text = text.translate(_EXTRA_TRANSLATE)\n",
    "\n",
    "    return text.strip()\n"
   ]
  },
  {
   "cell_type": "code",
   "execution_count": 76,
   "id": "ff92a832",
   "metadata": {},
   "outputs": [
    {
     "data": {
      "text/html": [
       "<div>\n",
       "<style scoped>\n",
       "    .dataframe tbody tr th:only-of-type {\n",
       "        vertical-align: middle;\n",
       "    }\n",
       "\n",
       "    .dataframe tbody tr th {\n",
       "        vertical-align: top;\n",
       "    }\n",
       "\n",
       "    .dataframe thead th {\n",
       "        text-align: right;\n",
       "    }\n",
       "</style>\n",
       "<table border=\"1\" class=\"dataframe\">\n",
       "  <thead>\n",
       "    <tr style=\"text-align: right;\">\n",
       "      <th></th>\n",
       "      <th>Item Name</th>\n",
       "    </tr>\n",
       "  </thead>\n",
       "  <tbody>\n",
       "    <tr>\n",
       "      <th>439</th>\n",
       "      <td>تيوب المنيوم مستطيل 20*80*1.30 ملي 6 متر</td>\n",
       "    </tr>\n",
       "    <tr>\n",
       "      <th>743</th>\n",
       "      <td>كيس مادة</td>\n",
       "    </tr>\n",
       "    <tr>\n",
       "      <th>901</th>\n",
       "      <td>GATE BARIAR PANEL2</td>\n",
       "    </tr>\n",
       "    <tr>\n",
       "      <th>1563</th>\n",
       "      <td>ﺻ ﺎ ﺝ ﺍ ﺳ و د 10 ﻣ ﻝ 8 * 4 ﻣ ﺗ</td>\n",
       "    </tr>\n",
       "  </tbody>\n",
       "</table>\n",
       "</div>"
      ],
      "text/plain": [
       "                                     Item Name\n",
       "439   تيوب المنيوم مستطيل 20*80*1.30 ملي 6 متر\n",
       "743                                   كيس مادة\n",
       "901                         GATE BARIAR PANEL2\n",
       "1563            ﺻ ﺎ ﺝ ﺍ ﺳ و د 10 ﻣ ﻝ 8 * 4 ﻣ ﺗ"
      ]
     },
     "execution_count": 76,
     "metadata": {},
     "output_type": "execute_result"
    }
   ],
   "source": [
    "# Let's see the results - yes I noticed some entries are split (like 1563) which really gave me a headache trying to solve lol\n",
    "df.iloc[[439, 743, 901, 1563]]"
   ]
  },
  {
   "cell_type": "markdown",
   "id": "3766bc53",
   "metadata": {},
   "source": [
    "### Word level normalization and lemmatization"
   ]
  },
  {
   "cell_type": "code",
   "execution_count": 77,
   "id": "96e0704a",
   "metadata": {},
   "outputs": [],
   "source": [
    "# Cell for lists of dimension/units, protected words, and AR stop words\n",
    "# List 1: English unit tokens (lowercase; include singular/plural + common abbrevs)\n",
    "UNIT_TOKENS_EN = {\n",
    "    \"x\",\n",
    "    # length\n",
    "    \"mm\",\"millimeter\",\"millimeters\",\"millimetre\",\"millimetres\",\n",
    "    \"cm\",\"centimeter\",\"centimeters\",\"centimetre\",\"centimetres\",\n",
    "    \"m\",\"meter\",\"meters\",\"metre\",\"metres\", \"mtr\", \"unit\",\n",
    "    \"km\",\"kilometer\",\"kilometers\",\"kilometre\",\"kilometres\",\n",
    "    \"in\",\"inch\",\"inches\",\n",
    "    \"ft\",\"foot\",\"feet\",\n",
    "    \"yd\",\"yard\",\"yards\",\n",
    "    \"mi\",\"mile\",\"miles\",\n",
    "    # mass\n",
    "    \"g\",\"gram\",\"grams\",\"gramme\",\"grammes\",\n",
    "    \"mg\",\"milligram\",\"milligrams\",\"milligramme\",\"milligrammes\",\n",
    "    \"kg\",\"kilogram\",\"kilograms\",\"kilogramme\",\"kilogrammes\",\n",
    "    \"t\",\"ton\",\"tons\",\"tonne\",\"tonnes\",\n",
    "    \"oz\",\"ounce\",\"ounces\",\n",
    "    \"lb\",\"lbs\",\"pound\",\"pounds\",\"st\",\"stone\",\"stones\",\n",
    "    # volume\n",
    "    \"l\",\"liter\",\"liters\",\"litre\",\"litres\",\n",
    "    \"ml\",\"milliliter\",\"milliliters\",\"millilitre\",\"millilitres\",\n",
    "    \"cl\",\"centiliter\",\"centiliters\",\"centilitre\",\"centilitres\",\n",
    "    \"dl\",\"deciliter\",\"deciliters\",\"decilitre\",\"decilitres\",\n",
    "    \"cc\"\n",
    "}\n",
    "\n",
    "# List 2: Arabic unit tokens (normalized, no spaces)\n",
    "UNIT_TOKENS_AR = {\n",
    "    # length\n",
    "    \"مم\",\"ملم\",\"مليمتر\",\"مليمترات\",\"ملليمتر\",\"ملليمترات\",\n",
    "    \"سم\",\"سنتمتر\",\"سنتيمتر\",\"سنتيمترات\",\"سنتمترات\",\n",
    "    \"م\",\"متر\",\"أمتار\", \"مت\"\n",
    "    \"كم\",\"كلم\",\"كيلومتر\",\"كيلومترات\",\n",
    "    \"إنش\",\"انش\",\"بوصة\",\"بوصات\",\n",
    "    \"قدم\",\"أقدام\",\n",
    "    \"ياردة\",\"ياردات\",\n",
    "    \"ميل\",\"أميال\",\n",
    "    # mass\n",
    "    \"غ\",\"جم\",\"جرام\",\"جرامات\",\"غرام\",\"غرامات\",\n",
    "    \"ملغ\",\"مغ\",\"مجم\",\"ميليغرام\",\"ميليجرام\",\"ميليغرامات\",\"ميليجرامات\",\"مليغرام\",\"مليجرام\",\n",
    "    \"كغ\",\"كجم\",\"كيلوغرام\",\"كيلوجرام\",\"كيلوغرامات\",\"كيلوجرامات\",\"كيلو\",\n",
    "    \"طن\",\"أطنان\",\n",
    "    \"أونصة\",\"أونصات\",\"اوقية\",\"أوقية\",\"أوقيات\",\n",
    "    \"رطل\",\"أرطال\",\n",
    "    # volume\n",
    "    \"لتر\",\"لترات\",\n",
    "    \"ملي\",\"مل\",\"ميليلتر\",\"مليلتر\",\"ميليلترات\",\"مليلترات\",\n",
    "    \"سنتيلتر\",\"سنتيلترات\",\"ديسيلتر\",\"ديسيلترات\",\n",
    "    # keywords\n",
    "    'مقاس', 'سماكه', 'طول'\n",
    "}\n",
    "UNIT_TOKENS_AR = [normalize_text(t) for t in UNIT_TOKENS_AR]\n",
    "\n",
    "protected_words = [\"سابك\"]\n",
    "\n",
    "with open('../assets/AR_stop_words.txt', encoding='utf-8') as f:\n",
    "    AR_STOP = set(normalize_text(line.strip()) for line in f if line.strip())"
   ]
  },
  {
   "cell_type": "code",
   "execution_count": 78,
   "id": "0f8b0533",
   "metadata": {},
   "outputs": [],
   "source": [
    "# Disambiguator and Morphological Tokenizer modules from CAMel-Tools to help with normalizion and lemmatization\n",
    "mle = MLEDisambiguator.pretrained('calima-msa-r13')\n",
    "tokenizer = MorphologicalTokenizer(disambiguator=mle, scheme='d3tok', split=True, diac=False)"
   ]
  },
  {
   "cell_type": "code",
   "execution_count": 79,
   "id": "f99719ba",
   "metadata": {},
   "outputs": [],
   "source": [
    "# Now we'll normalize the text further to ensure we only have Arabic and English characters\n",
    "\n",
    "def is_arabic_char(c: str) -> bool:\n",
    "    return '\\u0600' <= c <= '\\u06FF'\n",
    "\n",
    "def is_english_char(c: str) -> bool:\n",
    "    return c.isascii() and c.isalpha()\n",
    "\n",
    "def keep_arabic_english_only(c: str) -> str:\n",
    "    if (is_arabic_char(c) or is_english_char(c)) and not c.isdigit():\n",
    "        return c\n",
    "    return \" \"  # replace everything else with space\n",
    "\n",
    "def preprocess_text(text, no_disjointed=True):\n",
    "    # 1) Normalize unicode text\n",
    "    text = normalize_text(text)\n",
    "\n",
    "    # 2) Keep only Arabic + English + replace others with spaces\n",
    "    text = ''.join(keep_arabic_english_only(c) for c in text)\n",
    "    \n",
    "    # 3) Split on whitespace\n",
    "    tokens = text.split()\n",
    "\n",
    "    # 4) Extra cleaning steps for lexicon\n",
    "    if no_disjointed:\n",
    "        # 4.1) Remove dimensions/units/fillers for lexicon\n",
    "        tokens = [t for t in tokens if t.lower() not in UNIT_TOKENS_EN and t not in UNIT_TOKENS_AR and t not in AR_STOP]\n",
    "    \n",
    "        # 4.2) Lemmatize and remove clitics for lexicon\n",
    "        tokens = [t if t in protected_words else ''.join(normalize_text(p) for p in tokenizer.tokenize([t]) if '+' not in p) \n",
    "          for t in tokens]\n",
    "    \n",
    "        # 4.3) Drop single-letter tokens, and deduplicate within the row for lexicon\n",
    "        tokens = [t for t in tokens if len(t) > 1 and len(set(t)) > 1]\n",
    "        seen = set()\n",
    "        tokens = [t for t in tokens if not (t in seen or seen.add(t))]\n",
    "        return ' '.join(tokens)\n",
    "    \n",
    "    # 5) Or retain only the disjointed letters to glue back later\n",
    "    else:\n",
    "        tokens = [t for t in tokens if len(t) == 1 and len(set(t)) == 1]\n",
    "        return ''.join(tokens)"
   ]
  },
  {
   "cell_type": "code",
   "execution_count": 80,
   "id": "69d289a5",
   "metadata": {},
   "outputs": [
    {
     "name": "stdout",
     "output_type": "stream",
     "text": [
      "Before normalization: سماكه حديد تسليح مجدول السعودي سابك 12 مم * 12 م المخططات\n",
      "After normalization: حديد تسليح مجدول سعودي سابك مخططات\n",
      "-----------------\n",
      "Disjoint - before:\n",
      "Disjoint - after: حديدمجدولسابكملممترسعودي\n"
     ]
    }
   ],
   "source": [
    "# Some tests to see the results of normalization\n",
    "text_test1 = \"سماكه حديد تسليح مجدول السعودي سابك 12 مم * 12 م المخططات\"\n",
    "print(\"Before normalization:\", text_test1)\n",
    "print(\"After normalization:\", preprocess_text(text_test1))\n",
    "\n",
    "print(\"-----------------\")\n",
    "\n",
    "text_test2 = \"ﺣ ﺪ ﻳ ﺪ ﻣ ﺠ ﺪ ﻭ ﻝ ﺳ ﺎ ﺑ ﻚ 12 ﻣ ﻠ ﻢ * 12 ﻣ ﺘ ﺮ - ﺳ ﻌ ﻮ ﺩ ﻱ\"\n",
    "print(\"Disjoint - before:\", )\n",
    "print(\"Disjoint - after:\", preprocess_text(text_test2, no_disjointed=False))"
   ]
  },
  {
   "cell_type": "markdown",
   "id": "93d646b1",
   "metadata": {},
   "source": [
    "#### Normalized and Disjointed cols created"
   ]
  },
  {
   "cell_type": "code",
   "execution_count": 81,
   "id": "00c9b891",
   "metadata": {},
   "outputs": [],
   "source": [
    "df[\"Normalized\"] = '' # Default to ''\n",
    "df[\"Normalized\"] = (df[\"Item Name\"].apply(preprocess_text, no_disjointed=True)).str.strip()\n",
    "\n",
    "# Disjointed cols is only concerned with Arabic rows where the normalization wasn't fruitful (i.e. disjointed letters)\n",
    "df[\"Disjointed\"] = ''\n",
    "mask = (df[\"Normalized\"] == '') & ~df[\"Item Name\"].apply(lambda s: all(is_english_char(c) for c in str(s) if c.isalpha()))\n",
    "df.loc[mask, \"Disjointed\"] = df.loc[mask, \"Item Name\"].apply(\n",
    "    preprocess_text, no_disjointed=False \n",
    ").str.strip()"
   ]
  },
  {
   "cell_type": "code",
   "execution_count": 82,
   "id": "f5581bfd",
   "metadata": {},
   "outputs": [
    {
     "data": {
      "text/html": [
       "<div>\n",
       "<style scoped>\n",
       "    .dataframe tbody tr th:only-of-type {\n",
       "        vertical-align: middle;\n",
       "    }\n",
       "\n",
       "    .dataframe tbody tr th {\n",
       "        vertical-align: top;\n",
       "    }\n",
       "\n",
       "    .dataframe thead th {\n",
       "        text-align: right;\n",
       "    }\n",
       "</style>\n",
       "<table border=\"1\" class=\"dataframe\">\n",
       "  <thead>\n",
       "    <tr style=\"text-align: right;\">\n",
       "      <th></th>\n",
       "      <th>Item Name</th>\n",
       "      <th>Normalized</th>\n",
       "      <th>Disjointed</th>\n",
       "    </tr>\n",
       "  </thead>\n",
       "  <tbody>\n",
       "    <tr>\n",
       "      <th>439</th>\n",
       "      <td>تيوب المنيوم مستطيل 20*80*1.30 ملي 6 متر</td>\n",
       "      <td>تيوب المنيوم مستطيل</td>\n",
       "      <td></td>\n",
       "    </tr>\n",
       "    <tr>\n",
       "      <th>743</th>\n",
       "      <td>كيس مادة</td>\n",
       "      <td>كيس ماده</td>\n",
       "      <td></td>\n",
       "    </tr>\n",
       "    <tr>\n",
       "      <th>901</th>\n",
       "      <td>GATE BARIAR PANEL2</td>\n",
       "      <td>gate bariar panel</td>\n",
       "      <td></td>\n",
       "    </tr>\n",
       "    <tr>\n",
       "      <th>1563</th>\n",
       "      <td>ﺻ ﺎ ﺝ ﺍ ﺳ و د 10 ﻣ ﻝ 8 * 4 ﻣ ﺗ</td>\n",
       "      <td></td>\n",
       "      <td>صاجاسودملمت</td>\n",
       "    </tr>\n",
       "  </tbody>\n",
       "</table>\n",
       "</div>"
      ],
      "text/plain": [
       "                                     Item Name           Normalized  \\\n",
       "439   تيوب المنيوم مستطيل 20*80*1.30 ملي 6 متر  تيوب المنيوم مستطيل   \n",
       "743                                   كيس مادة             كيس ماده   \n",
       "901                         GATE BARIAR PANEL2    gate bariar panel   \n",
       "1563            ﺻ ﺎ ﺝ ﺍ ﺳ و د 10 ﻣ ﻝ 8 * 4 ﻣ ﺗ                        \n",
       "\n",
       "       Disjointed  \n",
       "439                \n",
       "743                \n",
       "901                \n",
       "1563  صاجاسودملمت  "
      ]
     },
     "execution_count": 82,
     "metadata": {},
     "output_type": "execute_result"
    }
   ],
   "source": [
    "df.iloc[[439, 743, 901, 1563]]"
   ]
  },
  {
   "cell_type": "markdown",
   "id": "02ec405f",
   "metadata": {},
   "source": [
    "Good, now we have normalized Arabic and English words, but also the disjointed chars are saved for later"
   ]
  },
  {
   "cell_type": "markdown",
   "id": "c359f323",
   "metadata": {},
   "source": [
    "## Arabic lexicon"
   ]
  },
  {
   "cell_type": "markdown",
   "id": "5f2e0bc6",
   "metadata": {},
   "source": [
    "### Create lexicon"
   ]
  },
  {
   "cell_type": "code",
   "execution_count": 83,
   "id": "7d1df175",
   "metadata": {},
   "outputs": [],
   "source": [
    "corpus = df['Normalized']\n",
    "tokens = [simple_word_tokenize(text) for text in corpus]"
   ]
  },
  {
   "cell_type": "code",
   "execution_count": 84,
   "id": "9a06ccdf",
   "metadata": {},
   "outputs": [
    {
     "data": {
      "text/plain": [
       "3150"
      ]
     },
     "execution_count": 84,
     "metadata": {},
     "output_type": "execute_result"
    }
   ],
   "source": [
    "len(tokens)"
   ]
  },
  {
   "cell_type": "code",
   "execution_count": 85,
   "id": "385fb75e",
   "metadata": {},
   "outputs": [],
   "source": [
    "# Lexicon is in Arabic, so we'll remove english for now\n",
    "def is_arabic(token):\n",
    "    return bool(re.search(r'[\\u0600-\\u06FF]', token))\n",
    "\n",
    "arabic_tokens = [tok for row in tokens for tok in row if is_arabic(tok)]\n",
    "lexicon = Counter(arabic_tokens)"
   ]
  },
  {
   "cell_type": "code",
   "execution_count": 86,
   "id": "a615cdec",
   "metadata": {},
   "outputs": [
    {
     "data": {
      "text/plain": [
       "646"
      ]
     },
     "execution_count": 86,
     "metadata": {},
     "output_type": "execute_result"
    }
   ],
   "source": [
    "# How many words did we get?\n",
    "lexicon.__len__()"
   ]
  },
  {
   "cell_type": "code",
   "execution_count": 87,
   "id": "103d60f3",
   "metadata": {},
   "outputs": [
    {
     "data": {
      "text/plain": [
       "[('حديد', 564),\n",
       " ('تسليح', 316),\n",
       " ('سابك', 212),\n",
       " ('اسود', 142),\n",
       " ('صاج', 126),\n",
       " ('اتفاق', 90),\n",
       " ('ماسوره', 73),\n",
       " ('وطني', 58),\n",
       " ('سلك', 54),\n",
       " ('سعودي', 53),\n",
       " ('توريد', 46),\n",
       " ('مجدول', 40),\n",
       " ('راجحي', 38),\n",
       " ('ويل', 33),\n",
       " ('كيبل', 32),\n",
       " ('سويدي', 29),\n",
       " ('مسحوب', 25),\n",
       " ('مجلفن', 25),\n",
       " ('املس', 21),\n",
       " ('الواح', 20)]"
      ]
     },
     "execution_count": 87,
     "metadata": {},
     "output_type": "execute_result"
    }
   ],
   "source": [
    "# Let's quickly check the most frequent words used\n",
    "lexicon.most_common(20)"
   ]
  },
  {
   "cell_type": "markdown",
   "id": "1e046412",
   "metadata": {},
   "source": [
    "### Analyze lexicons' word frequency"
   ]
  },
  {
   "cell_type": "code",
   "execution_count": 88,
   "id": "da56771d",
   "metadata": {},
   "outputs": [
    {
     "data": {
      "image/png": "[encoded data removed]",
      "text/plain": [
       "<Figure size 1600x1000 with 4 Axes>"
      ]
     },
     "metadata": {},
     "output_type": "display_data"
    }
   ],
   "source": [
    "import numpy as np\n",
    "import matplotlib.pyplot as plt\n",
    "\n",
    "# Sort frequencies descending\n",
    "freqs_sorted = np.array(sorted(lexicon.values(), reverse=True))\n",
    "ranks = np.arange(1, len(freqs_sorted) + 1)\n",
    "\n",
    "# -- precompute percentile buckets (by rank)\n",
    "N = len(freqs_sorted)\n",
    "pct_edges = [0, 10, 20, 50, 80, 90, 100]  # buckets: Top10, 10–20, 20–50, 50–80, 80–90, 90–100 (tail)\n",
    "idx_edges = [int(np.floor(p/100 * N)) for p in pct_edges]\n",
    "labels = [f\"Top {pct_edges[1]}%\"] + [f\"{pct_edges[i]}–{pct_edges[i+1]}%\" for i in range(1, len(pct_edges)-1)]\n",
    "\n",
    "bucket_counts = []\n",
    "bucket_mass_share = []\n",
    "total_mass = freqs_sorted.sum()\n",
    "for i in range(len(idx_edges)-1):\n",
    "    lo, hi = idx_edges[i], idx_edges[i+1]\n",
    "    cnt = max(hi - lo, 0)\n",
    "    bucket_counts.append(cnt)\n",
    "    mass = freqs_sorted[lo:hi].sum() if cnt > 0 else 0\n",
    "    bucket_mass_share.append(100.0 * mass / total_mass if total_mass > 0 else 0.0)\n",
    "\n",
    "# --- length histogram (1-char, 2-char, 3-char, ...) weighted by frequency\n",
    "length_mass = {}\n",
    "for token, c in lexicon.items():\n",
    "    L = len(token)\n",
    "    length_mass[L] = length_mass.get(L, 0) + c\n",
    "lengths = np.array(sorted(length_mass.keys()))\n",
    "length_counts = np.array([length_mass[L] for L in lengths])\n",
    "\n",
    "# ---- 2x2 layout\n",
    "fig, axes = plt.subplots(2, 2, figsize=(16, 10))\n",
    "\n",
    "# 1) Simple scatter plot (rank vs frequency)\n",
    "axes[0, 0].scatter(ranks, freqs_sorted, s=20)\n",
    "axes[0, 0].set_xlabel(\"Rank\")\n",
    "axes[0, 0].set_ylabel(\"Frequency\")\n",
    "axes[0, 0].set_title(\"Word Frequency vs. Rank\")\n",
    "axes[0, 0].grid(True)\n",
    "\n",
    "# 2) Zipf's Law (log-log)\n",
    "axes[0, 1].scatter(ranks, freqs_sorted, s=20)\n",
    "axes[0, 1].set_xscale(\"log\")\n",
    "axes[0, 1].set_yscale(\"log\")\n",
    "axes[0, 1].set_xlabel(\"Rank (log)\")\n",
    "axes[0, 1].set_ylabel(\"Frequency (log)\")\n",
    "axes[0, 1].set_title(\"Word Frequency Distribution (Zipf's Law)\")\n",
    "axes[0, 1].grid(True)\n",
    "\n",
    "# 3) Percentile bucket counts\n",
    "x = np.arange(len(labels))\n",
    "axes[1, 0].bar(x, bucket_counts)\n",
    "axes[1, 0].set_xticks(x)\n",
    "axes[1, 0].set_xticklabels(labels, rotation=30, ha=\"right\")\n",
    "axes[1, 0].set_ylabel(\"Token Count\")\n",
    "axes[1, 0].set_title(\"Counts by Frequency Percentile Buckets\")\n",
    "axes[1, 0].grid(True, axis=\"y\")\n",
    "# annotate each bar with its mass share\n",
    "for i, (xc, cnt, mass_pct) in enumerate(zip(x, bucket_counts, bucket_mass_share)):\n",
    "    if cnt > 0:\n",
    "        axes[1, 0].text(xc, cnt, f\"{mass_pct:.1f}%\", ha=\"center\", va=\"bottom\")\n",
    "\n",
    "# 4) Length histogram (frequency-weighted)\n",
    "axes[1, 1].bar(lengths, length_counts, width=0.8)\n",
    "axes[1, 1].set_xticks(lengths)\n",
    "axes[1, 1].set_xlabel(\"Token Length (# of characters)\")\n",
    "axes[1, 1].set_ylabel(\"Total Frequency\")\n",
    "axes[1, 1].set_title(\"Frequency Mass by Token Length\")\n",
    "axes[1, 1].grid(True, axis=\"y\")\n",
    "\n",
    "plt.tight_layout()\n",
    "plt.show()\n"
   ]
  },
  {
   "cell_type": "markdown",
   "id": "99f74442",
   "metadata": {},
   "source": [
    "#### **Plots 1 & 2**\n",
    "\n",
    "This might be an extreme case of Zipf's law, but the frequency of the word is strongly inversely related to its rank\n",
    "\n",
    "Nonetheless, when reconstructing the words from the disjoint words, we'll ensure that we give more frequent words more weight, sort of a probabilistic approach. The priors being the frequency of the term in the lexicon relative to the other terms.\n",
    "\n",
    "#### **Plot 3**\n",
    "\n",
    "The top 10% most frequent tokens appear in 67.6% of the normalized corpus. Whereas the bottom 30% tokens appear in less than 10% of the corpus. To be cautious but also remove things that are less frequent, we'll remove the buttome 10% of tokens. "
   ]
  },
  {
   "cell_type": "code",
   "execution_count": 89,
   "id": "4c4e9386",
   "metadata": {},
   "outputs": [
    {
     "name": "stdout",
     "output_type": "stream",
     "text": [
      "Bottom 10% tokens by rank (capped at 15 tokens):\n",
      "مبسط: 1\n",
      "برونزالفاء: 1\n",
      "اماراتي: 1\n",
      "هان: 1\n",
      "رويال: 1\n",
      "حليب: 1\n",
      "سوبر: 1\n",
      "سمارت: 1\n",
      "ريمون: 1\n",
      "موديل: 1\n",
      "برنزالفاء: 1\n",
      "سيليكون: 1\n",
      "اكر: 1\n",
      "طبشه: 1\n",
      "درفه: 1\n"
     ]
    }
   ],
   "source": [
    "# Just to be sure let's see some of those buttom 10%\n",
    "items_sorted = sorted(lexicon.items(), key=lambda x: x[1])  \n",
    "N = len(items_sorted)\n",
    "\n",
    "# Bottom 10% by rank\n",
    "pct = 10\n",
    "cutoff_idx = min(int(np.ceil(pct / 100 * N)), 15)\n",
    "bottom_10 = items_sorted[:cutoff_idx]\n",
    "\n",
    "print(f\"Bottom {pct}% tokens by rank (capped at 15 tokens):\")\n",
    "for token, freq in bottom_10:\n",
    "    print(f\"{token}: {freq}\")"
   ]
  },
  {
   "cell_type": "markdown",
   "id": "109e2867",
   "metadata": {},
   "source": [
    "The words appear to be meaningful, so we'll not drop any."
   ]
  },
  {
   "cell_type": "markdown",
   "id": "f0bef861",
   "metadata": {},
   "source": [
    "#### **Plot 4**\n",
    "\n",
    "Most words fall within 3 and 7 characters. Let's see some examples of the extremes at 2 chars and >=9 chars long:"
   ]
  },
  {
   "cell_type": "code",
   "execution_count": 90,
   "id": "da4ccead",
   "metadata": {},
   "outputs": [
    {
     "data": {
      "text/plain": [
       "{'رش': 4,\n",
       " 'شب': 9,\n",
       " 'دن': 1,\n",
       " 'حر': 11,\n",
       " 'سد': 8,\n",
       " 'اي': 5,\n",
       " 'لب': 3,\n",
       " 'خط': 1,\n",
       " 'حب': 1,\n",
       " 'كل': 1,\n",
       " 'يا': 1,\n",
       " 'ات': 11,\n",
       " 'تر': 1,\n",
       " 'جد': 3,\n",
       " 'يد': 2,\n",
       " 'ين': 1,\n",
       " 'نص': 1,\n",
       " 'يخ': 5,\n",
       " 'جي': 1,\n",
       " 'دي': 2,\n",
       " 'شر': 1,\n",
       " 'ال': 1,\n",
       " 'خا': 1,\n",
       " 'قص': 5,\n",
       " 'سن': 1,\n",
       " 'صب': 1,\n",
       " 'مت': 2}"
      ]
     },
     "execution_count": 90,
     "metadata": {},
     "output_type": "execute_result"
    }
   ],
   "source": [
    "{k: v for k, v in lexicon.items() if len(k) == 2}"
   ]
  },
  {
   "cell_type": "code",
   "execution_count": 91,
   "id": "e2afbcbe",
   "metadata": {},
   "outputs": [
    {
     "data": {
      "text/plain": [
       "{'برونزالفاء': 1,\n",
       " 'برنزالفاء': 1,\n",
       " 'المستعماره': 2,\n",
       " 'بوصهبلاستيك': 1,\n",
       " 'اكسسوارات': 8,\n",
       " 'الخرسانيه': 17,\n",
       " 'الابعادpanel': 8,\n",
       " 'والقسامات': 1,\n",
       " 'واالكسسوارات': 1,\n",
       " 'ايزوبروبيل': 1,\n",
       " 'حديدتسليح': 4,\n",
       " 'استتواريو': 1}"
      ]
     },
     "execution_count": 91,
     "metadata": {},
     "output_type": "execute_result"
    }
   ],
   "source": [
    "{k: v for k, v in lexicon.items() if len(k) >= 9}"
   ]
  },
  {
   "cell_type": "markdown",
   "id": "fa65af75",
   "metadata": {},
   "source": [
    "There is a mix between words that are uninterpretable and ones that are not. Unfortunately this may be a byproduct of the CAMel-tools tokenizer-disambiguator combo, which was our only efficient hope of normalizing and lemmatizing the tokens. Hence, this approach will suffice for now. More efforts could be shed on improving the normalization phase so we can further optimize the lexicon.\n",
    "\n",
    "**Note:** I'll manually clean these tokens to improve our lexicon."
   ]
  },
  {
   "cell_type": "markdown",
   "id": "724a63d9",
   "metadata": {},
   "source": [
    "### Manual cleaning of edge cases in lexicon"
   ]
  },
  {
   "cell_type": "code",
   "execution_count": 92,
   "id": "f443161b",
   "metadata": {},
   "outputs": [
    {
     "data": {
      "text/plain": [
       "{'رش': 4,\n",
       " 'سد': 8,\n",
       " 'اكسسوارات': 9,\n",
       " 'الخرسانيه': 17,\n",
       " 'خط': 1,\n",
       " 'ايزوبروبيل': 1,\n",
       " 'قص': 5,\n",
       " 'صب': 1}"
      ]
     },
     "execution_count": 92,
     "metadata": {},
     "output_type": "execute_result"
    }
   ],
   "source": [
    "# Extract and remove tokens surgically\n",
    "extract_map = {\n",
    "    'الابعادpanel': ['الابعاد', 'panel'],\n",
    "    'بوصهبلاستيك': ['بلاستيك'],\n",
    "    'واالكسسوارات': ['اكسسوارات'],\n",
    "    'برونزالفاء': ['برونز'],\n",
    "    'برنزالفاء': ['برونز'],\n",
    "    'والقسامات': ['قسامات'],\n",
    "    'حديدتسليح': ['حديد','تسليح'],\n",
    "}\n",
    "\n",
    "# Apply extractions\n",
    "for src, parts in extract_map.items():\n",
    "    if src in lexicon:\n",
    "        for p in parts:\n",
    "            p = preprocess_text(p)\n",
    "            if p in lexicon:\n",
    "                lexicon[p] += 1\n",
    "            else:\n",
    "                lexicon[p] = 1\n",
    "        lexicon.pop(src, None)\n",
    "\n",
    "remove_words = {\n",
    "    'شب','دن','حر','اي','لب','حب','كل','يا','ات','تر','جد','يد','ين','يخ','جي','دي','شر','ال','خا','سن','مت', 'نص',\n",
    "    'استتواريو', 'المستعماره'\n",
    "}\n",
    "\n",
    "for bad in remove_words:\n",
    "    lexicon.pop(bad, None)\n",
    "\n",
    "{k: v for k, v in lexicon.items() if len(k) >= 9 or len(k) == 2}"
   ]
  },
  {
   "cell_type": "markdown",
   "id": "206c3dda",
   "metadata": {},
   "source": [
    "## "
   ]
  },
  {
   "cell_type": "markdown",
   "id": "2f870f46",
   "metadata": {},
   "source": [
    "## Combine disjointed letters\n",
    "Combining the letters based on the lexicon is only one half of the solution, the harder part is understanding the boundaries of words where letters are disjointed and ambiguous."
   ]
  },
  {
   "cell_type": "markdown",
   "id": "fc1cae8d",
   "metadata": {},
   "source": [
    "### Research findings\n"
   ]
  },
  {
   "cell_type": "markdown",
   "id": "38f32f39",
   "metadata": {},
   "source": [
    "This problem could be cut in three parts:\n",
    "1. Find unigram probability for each lexicon entry\n",
    "    - We don't have a large enough corpus to use ngrams, plus we don't know the boundaries of words\n",
    "2. Create a Trie data structure from the lexicon\n",
    "3. Traverse the Trie and determine the word with most likelihood\n",
    "    - We could go about the traversal using a greedy approach, which means looking at each word in the sentence alone, but I've decided to follow a better approach (Viterbi algo.) which looks at how the words fit in a sentance"
   ]
  },
  {
   "cell_type": "markdown",
   "id": "3c6fd493",
   "metadata": {},
   "source": [
    "### ***Trie and Viterbi Segment technique***"
   ]
  },
  {
   "cell_type": "markdown",
   "id": "5546ddc4",
   "metadata": {},
   "source": [
    "#### Algorithm"
   ]
  },
  {
   "cell_type": "code",
   "execution_count": 93,
   "id": "8062e44f",
   "metadata": {},
   "outputs": [],
   "source": [
    "# Node definition for the Trie\n",
    "class TrieNode: \n",
    "    __slots__ = (\"ch\",\"end\",\"logp\")\n",
    "    def __init__(self):\n",
    "        self.ch = {} # Children nodes dictionary\n",
    "        self.end = False # Boolean: node marks a word's end\n",
    "        self.logp = float(\"-inf\") # Likelihood for this word, only relevant if end is True \n",
    "\n",
    "# Trie structure to hold the lexicon\n",
    "class Trie:\n",
    "    def __init__(self):\n",
    "        self.root = TrieNode()\n",
    "    def insert(self, word, logp): # Insert a node in the Trie\n",
    "        node = self.root\n",
    "        for c in word:\n",
    "            node = node.ch.setdefault(c, TrieNode()) # If there's a node for c return it, else create a new node for c\n",
    "        node.end = True\n",
    "        node.logp = logp\n",
    "    def in_trie_prefix(self, s): # Checks if the string/word is in our Trie\n",
    "        node = self.root\n",
    "        for ch in s:\n",
    "            if ch not in node.ch:\n",
    "                return False\n",
    "            node = node.ch[ch]\n",
    "        return node.end\n",
    "\n",
    "# The blueprint to creating the Trie DS\n",
    "def build_trie_from_counts(counts, alpha=0.0):\n",
    "    # counts: dict[word] -> int\n",
    "    V = len(counts) # Vocabulary size\n",
    "    Z = sum(counts.values()) + alpha * V # Denominator = N_train (total no. of words) + weighted V\n",
    "    T = Trie()\n",
    "    for w, c in counts.items():\n",
    "        p = (c + alpha) / Z\n",
    "        T.insert(w, log(p))\n",
    "    return T\n",
    "\n",
    "def viterbi_segment(chars, trie, del_char_logp=log(6.7e-3)): # ≈ -5.00\n",
    "    \"\"\"chars: e.g. 'catsanddog' (spaces removed). Returns words and score.\"\"\"\n",
    "\n",
    "    if chars == \"\":\n",
    "        return \"\", 1\n",
    "    \n",
    "    n = len(chars)\n",
    "    best = [float(\"-inf\")] * (n + 1)\n",
    "    back = [None] * (n + 1) # (end of word index for word starting at i: int, start of a word: boolean)\n",
    "    best[n] = 0.0  # empty suffix has score 0\n",
    "\n",
    "    # This loop begins at the end of the sentence, to evaluate all possible word formations taking into account the entire sentence\n",
    "    for i in range(n - 1, -1, -1): \n",
    "        node = trie.root\n",
    "        j = i\n",
    "        while j < n and chars[j] in node.ch: # Check if the char exists in the children of the current node\n",
    "            node = node.ch[chars[j]] # Look at the branch associated with chars[j]\n",
    "            j += 1\n",
    "            if node.end: # If chars[i:j] completes a word, then step in\n",
    "                cand = node.logp + best[j] # The core of the Viterbi DP; considers likelihood of chars[i:j] and even chars[j:] \n",
    "                if cand > best[i]:\n",
    "                    best[i] = cand\n",
    "                    back[i] = (j, True)\n",
    "        \n",
    "        # Mark char position as a skip when it doesn't form a word and propagate logp.\n",
    "        # This helps when the end of the sentence isn't found in lexicon/Trie.\n",
    "        # The del_char_logp is added to penalize skipping characters\n",
    "        cand_skip = best[i+1] + del_char_logp  \n",
    "        if cand_skip > best[i]:\n",
    "            best[i] = cand_skip\n",
    "            back[i] = (i+1, False)\n",
    "\n",
    "    # Reconstruct the words\n",
    "    words = []\n",
    "    i = 0\n",
    "    while i < n:\n",
    "        j, is_word = back[i]\n",
    "        if is_word: # i.e. character at i isn't marked as skip\n",
    "            words.append(chars[i:j])\n",
    "        i = j\n",
    "\n",
    "    \n",
    "    \n",
    "    if len(words) == 1: # Sometimes we'll only recognize one word; let's flag the case with 1\n",
    "        return words, 1\n",
    "    \n",
    "    elif not words: # In case we failed to construct any words; flag with 0\n",
    "        return \"unknown\", 0\n",
    "    \n",
    "    else: # We found a list of words; return the score (<0) and join by space later to reconstruct sentence\n",
    "        return words, best[0]"
   ]
  },
  {
   "cell_type": "markdown",
   "id": "f173c1b0",
   "metadata": {},
   "source": [
    "##### Notes (the key decisions in implementing the algorithm)\n"
   ]
  },
  {
   "cell_type": "markdown",
   "id": "0c8f91e4",
   "metadata": {},
   "source": [
    "- **Scoring**\n",
    "  \n",
    "  - Use natural-log probabilities: `node.logp = log p(w) ≤ 0`.  \n",
    "  - Base case: `best[n] = 0.0` (log 1). A fallback case when no words are found.\n",
    "\n",
    "- **Transitions at position i**\n",
    "  \n",
    "  - **Words:** for each trie end at `j`, candidate = `node.logp + best[j]`.  \n",
    "  - **Skip 1 char:** candidate = `best[i+1] + del_char_logp`. Always include it as a competitor (not just a fallback).\n",
    "\n",
    "- **Skip penalty**\n",
    "  \n",
    "  - Set `del_char_logp = log(p_del)` with `0 < p_del << 1` (same log base).  \n",
    "  - Example: `del_char_logp = log(6.7e-3) ≈ -5.0`.  \n",
    "\n",
    "- **Decision intuition (per-char threshold)**\n",
    "  \n",
    "  - Word of length `L` beats skipping those `L` chars iff  \n",
    "    `log P(w) > L * del_char_logp` ⇔ `(log P(w))/L > del_char_logp`.  \n",
    "  - So `del_char_logp` acts as a per-character quality threshold.\n",
    "\n",
    "- **Correction to earlier intuition**\n",
    "  \n",
    "  - Choosing a word at `[i:j)` does **not** force later scores below `best[j+1]`.  \n",
    "  - With a **negative** skip penalty, a strong word can outperform a run of skips by avoiding `L * |del_char_logp|`.\n",
    "\n",
    "- **Bias toward frequent words**\n",
    "  \n",
    "  - Already handled by larger (less negative) `log P(w)`.  \n",
    "  - Tune `del_char_logp` to trade off segmentation vs. deletions; already tried multiple hyperparamters."
   ]
  },
  {
   "cell_type": "markdown",
   "id": "1034bc4b",
   "metadata": {},
   "source": [
    "##### A few tests\n"
   ]
  },
  {
   "cell_type": "code",
   "execution_count": 94,
   "id": "cd8fed20",
   "metadata": {},
   "outputs": [
    {
     "name": "stdout",
     "output_type": "stream",
     "text": [
      "['cats', 'and', 'dog']\n"
     ]
    }
   ],
   "source": [
    "# Toy example\n",
    "counts = {\n",
    "    \"cat\": 40, \"cats\": 30, \"sand\": 5, \"and\": 20, \"an\": 25, \"dog\": 70\n",
    "}\n",
    "trie = build_trie_from_counts(counts, alpha=1.0)\n",
    "words, score = viterbi_segment(\"catsanddogfiller\", trie)\n",
    "print(words)  # e.g., ['cats', 'and', 'dog'] \n"
   ]
  },
  {
   "cell_type": "code",
   "execution_count": 95,
   "id": "1358a21b",
   "metadata": {},
   "outputs": [
    {
     "name": "stdout",
     "output_type": "stream",
     "text": [
      "صاجاسودملمت\n",
      "['صاج', 'اسود'] -26.945972962459084\n"
     ]
    }
   ],
   "source": [
    "# Examples from our data\n",
    "\n",
    "trie_ar = build_trie_from_counts(lexicon, alpha=1.0)\n",
    "words, score = viterbi_segment(df[\"Disjointed\"].iloc[1563], trie_ar)\n",
    "print(df[\"Disjointed\"].iloc[1563])\n",
    "print(words, score)"
   ]
  },
  {
   "cell_type": "code",
   "execution_count": 96,
   "id": "d69b4fbf",
   "metadata": {},
   "outputs": [
    {
     "name": "stdout",
     "output_type": "stream",
     "text": [
      "حديدمجدولاتفاقملممترسعود\n",
      "['حديد', 'مجدول', 'اتفاق'] -60.58907237768291\n"
     ]
    }
   ],
   "source": [
    "trie_ar = build_trie_from_counts(lexicon, alpha=1.0)\n",
    "words, score = viterbi_segment(df[\"Disjointed\"].iloc[2833], trie_ar)\n",
    "print(df[\"Disjointed\"].iloc[2833])\n",
    "print(words, score)"
   ]
  },
  {
   "cell_type": "code",
   "execution_count": 97,
   "id": "7d2ec67b",
   "metadata": {},
   "outputs": [
    {
     "name": "stdout",
     "output_type": "stream",
     "text": [
      "سماكه in trie? False\n"
     ]
    }
   ],
   "source": [
    "print(\"سماكه in trie?\", trie_ar.in_trie_prefix(\"سماكه\"))"
   ]
  },
  {
   "cell_type": "code",
   "execution_count": 98,
   "id": "8cb8bca4",
   "metadata": {},
   "outputs": [
    {
     "name": "stdout",
     "output_type": "stream",
     "text": [
      "مجدول in trie? True\n"
     ]
    }
   ],
   "source": [
    "print(\"مجدول in trie?\", trie_ar.in_trie_prefix(\"مجدول\"))"
   ]
  },
  {
   "cell_type": "markdown",
   "id": "84ad2d1a",
   "metadata": {},
   "source": [
    "### Rejoining the disjointed letters\n",
    "Now we can reconstruct the disjointed letters in the Item Name column"
   ]
  },
  {
   "cell_type": "code",
   "execution_count": 99,
   "id": "5582eb33",
   "metadata": {},
   "outputs": [],
   "source": [
    "def segment_and_join(text, trie):\n",
    "    words, score = viterbi_segment(text, trie)\n",
    "    \n",
    "    # Catch edge cases\n",
    "    if score == 0 or score == 1:\n",
    "        return words\n",
    "    \n",
    "    # Join words with spaces\n",
    "    else: \n",
    "        return \" \".join(words)"
   ]
  },
  {
   "cell_type": "markdown",
   "id": "b1172b56",
   "metadata": {},
   "source": [
    "#### Rejoined column created"
   ]
  },
  {
   "cell_type": "code",
   "execution_count": 100,
   "id": "16bfd38e",
   "metadata": {},
   "outputs": [],
   "source": [
    "df[\"Rejoined\"] = ''\n",
    "df[\"Rejoined\"] = (df[\"Disjointed\"].apply(lambda t: segment_and_join(t, trie_ar))).str.strip()"
   ]
  },
  {
   "cell_type": "code",
   "execution_count": 101,
   "id": "b8a89faa",
   "metadata": {},
   "outputs": [
    {
     "data": {
      "text/html": [
       "<div>\n",
       "<style scoped>\n",
       "    .dataframe tbody tr th:only-of-type {\n",
       "        vertical-align: middle;\n",
       "    }\n",
       "\n",
       "    .dataframe tbody tr th {\n",
       "        vertical-align: top;\n",
       "    }\n",
       "\n",
       "    .dataframe thead th {\n",
       "        text-align: right;\n",
       "    }\n",
       "</style>\n",
       "<table border=\"1\" class=\"dataframe\">\n",
       "  <thead>\n",
       "    <tr style=\"text-align: right;\">\n",
       "      <th></th>\n",
       "      <th>Item Name</th>\n",
       "      <th>Normalized</th>\n",
       "      <th>Disjointed</th>\n",
       "      <th>Rejoined</th>\n",
       "    </tr>\n",
       "  </thead>\n",
       "  <tbody>\n",
       "    <tr>\n",
       "      <th>439</th>\n",
       "      <td>تيوب المنيوم مستطيل 20*80*1.30 ملي 6 متر</td>\n",
       "      <td>تيوب المنيوم مستطيل</td>\n",
       "      <td></td>\n",
       "      <td></td>\n",
       "    </tr>\n",
       "    <tr>\n",
       "      <th>743</th>\n",
       "      <td>كيس مادة</td>\n",
       "      <td>كيس ماده</td>\n",
       "      <td></td>\n",
       "      <td></td>\n",
       "    </tr>\n",
       "    <tr>\n",
       "      <th>901</th>\n",
       "      <td>GATE BARIAR PANEL2</td>\n",
       "      <td>gate bariar panel</td>\n",
       "      <td></td>\n",
       "      <td></td>\n",
       "    </tr>\n",
       "    <tr>\n",
       "      <th>1563</th>\n",
       "      <td>ﺻ ﺎ ﺝ ﺍ ﺳ و د 10 ﻣ ﻝ 8 * 4 ﻣ ﺗ</td>\n",
       "      <td></td>\n",
       "      <td>صاجاسودملمت</td>\n",
       "      <td>صاج اسود</td>\n",
       "    </tr>\n",
       "  </tbody>\n",
       "</table>\n",
       "</div>"
      ],
      "text/plain": [
       "                                     Item Name           Normalized  \\\n",
       "439   تيوب المنيوم مستطيل 20*80*1.30 ملي 6 متر  تيوب المنيوم مستطيل   \n",
       "743                                   كيس مادة             كيس ماده   \n",
       "901                         GATE BARIAR PANEL2    gate bariar panel   \n",
       "1563            ﺻ ﺎ ﺝ ﺍ ﺳ و د 10 ﻣ ﻝ 8 * 4 ﻣ ﺗ                        \n",
       "\n",
       "       Disjointed  Rejoined  \n",
       "439                          \n",
       "743                          \n",
       "901                          \n",
       "1563  صاجاسودملمت  صاج اسود  "
      ]
     },
     "execution_count": 101,
     "metadata": {},
     "output_type": "execute_result"
    }
   ],
   "source": [
    "# Let's see the results\n",
    "df.iloc[[439, 743, 901, 1563]]"
   ]
  },
  {
   "cell_type": "code",
   "execution_count": 102,
   "id": "f5ce2940",
   "metadata": {},
   "outputs": [
    {
     "data": {
      "text/plain": [
       "'حديد مجدول اتفاق'"
      ]
     },
     "execution_count": 102,
     "metadata": {},
     "output_type": "execute_result"
    }
   ],
   "source": [
    "df[\"Rejoined\"].iloc[2833]"
   ]
  },
  {
   "cell_type": "markdown",
   "id": "e1e2fdfd",
   "metadata": {},
   "source": [
    "#### Combined column created"
   ]
  },
  {
   "cell_type": "code",
   "execution_count": 103,
   "id": "cccb8887",
   "metadata": {},
   "outputs": [
    {
     "data": {
      "text/html": [
       "<div>\n",
       "<style scoped>\n",
       "    .dataframe tbody tr th:only-of-type {\n",
       "        vertical-align: middle;\n",
       "    }\n",
       "\n",
       "    .dataframe tbody tr th {\n",
       "        vertical-align: top;\n",
       "    }\n",
       "\n",
       "    .dataframe thead th {\n",
       "        text-align: right;\n",
       "    }\n",
       "</style>\n",
       "<table border=\"1\" class=\"dataframe\">\n",
       "  <thead>\n",
       "    <tr style=\"text-align: right;\">\n",
       "      <th></th>\n",
       "      <th>Item Name</th>\n",
       "      <th>Normalized</th>\n",
       "      <th>Disjointed</th>\n",
       "      <th>Rejoined</th>\n",
       "      <th>Combined</th>\n",
       "    </tr>\n",
       "  </thead>\n",
       "  <tbody>\n",
       "    <tr>\n",
       "      <th>439</th>\n",
       "      <td>تيوب المنيوم مستطيل 20*80*1.30 ملي 6 متر</td>\n",
       "      <td>تيوب المنيوم مستطيل</td>\n",
       "      <td></td>\n",
       "      <td></td>\n",
       "      <td>تيوب المنيوم مستطيل</td>\n",
       "    </tr>\n",
       "    <tr>\n",
       "      <th>743</th>\n",
       "      <td>كيس مادة</td>\n",
       "      <td>كيس ماده</td>\n",
       "      <td></td>\n",
       "      <td></td>\n",
       "      <td>كيس ماده</td>\n",
       "    </tr>\n",
       "    <tr>\n",
       "      <th>901</th>\n",
       "      <td>GATE BARIAR PANEL2</td>\n",
       "      <td>gate bariar panel</td>\n",
       "      <td></td>\n",
       "      <td></td>\n",
       "      <td>gate bariar panel</td>\n",
       "    </tr>\n",
       "    <tr>\n",
       "      <th>1563</th>\n",
       "      <td>ﺻ ﺎ ﺝ ﺍ ﺳ و د 10 ﻣ ﻝ 8 * 4 ﻣ ﺗ</td>\n",
       "      <td></td>\n",
       "      <td>صاجاسودملمت</td>\n",
       "      <td>صاج اسود</td>\n",
       "      <td>صاج اسود</td>\n",
       "    </tr>\n",
       "    <tr>\n",
       "      <th>1663</th>\n",
       "      <td>XT1N 160 TMD 40-450 3p F F</td>\n",
       "      <td>xt tmd</td>\n",
       "      <td></td>\n",
       "      <td></td>\n",
       "      <td>xt tmd</td>\n",
       "    </tr>\n",
       "  </tbody>\n",
       "</table>\n",
       "</div>"
      ],
      "text/plain": [
       "                                     Item Name           Normalized  \\\n",
       "439   تيوب المنيوم مستطيل 20*80*1.30 ملي 6 متر  تيوب المنيوم مستطيل   \n",
       "743                                   كيس مادة             كيس ماده   \n",
       "901                         GATE BARIAR PANEL2    gate bariar panel   \n",
       "1563            ﺻ ﺎ ﺝ ﺍ ﺳ و د 10 ﻣ ﻝ 8 * 4 ﻣ ﺗ                        \n",
       "1663                XT1N 160 TMD 40-450 3p F F               xt tmd   \n",
       "\n",
       "       Disjointed  Rejoined             Combined  \n",
       "439                          تيوب المنيوم مستطيل  \n",
       "743                                     كيس ماده  \n",
       "901                            gate bariar panel  \n",
       "1563  صاجاسودملمت  صاج اسود             صاج اسود  \n",
       "1663                                      xt tmd  "
      ]
     },
     "execution_count": 103,
     "metadata": {},
     "output_type": "execute_result"
    }
   ],
   "source": [
    "# Now let's add a new fully preprocessed column\n",
    "df[\"Combined\"] = (\n",
    "    df[\"Normalized\"].fillna(\"\").str.strip() + \" \" + df[\"Rejoined\"].fillna(\"\").str.strip()\n",
    ").str.strip()\n",
    "df.iloc[[439, 743, 901, 1563, 1663]]"
   ]
  },
  {
   "cell_type": "code",
   "execution_count": 104,
   "id": "96ce3108",
   "metadata": {},
   "outputs": [
    {
     "data": {
      "text/html": [
       "<div>\n",
       "<style scoped>\n",
       "    .dataframe tbody tr th:only-of-type {\n",
       "        vertical-align: middle;\n",
       "    }\n",
       "\n",
       "    .dataframe tbody tr th {\n",
       "        vertical-align: top;\n",
       "    }\n",
       "\n",
       "    .dataframe thead th {\n",
       "        text-align: right;\n",
       "    }\n",
       "</style>\n",
       "<table border=\"1\" class=\"dataframe\">\n",
       "  <thead>\n",
       "    <tr style=\"text-align: right;\">\n",
       "      <th></th>\n",
       "      <th>Item Name</th>\n",
       "      <th>Normalized</th>\n",
       "      <th>Disjointed</th>\n",
       "      <th>Rejoined</th>\n",
       "      <th>Combined</th>\n",
       "    </tr>\n",
       "  </thead>\n",
       "  <tbody>\n",
       "    <tr>\n",
       "      <th>1562</th>\n",
       "      <td>ﺻ ﺎ ﺝ ﺍ ﺳ و د 1220 * 2440 * 20 ﻣ ﻠ</td>\n",
       "      <td></td>\n",
       "      <td>صاجاسودمل</td>\n",
       "      <td>صاج اسود</td>\n",
       "      <td>صاج اسود</td>\n",
       "    </tr>\n",
       "    <tr>\n",
       "      <th>1563</th>\n",
       "      <td>ﺻ ﺎ ﺝ ﺍ ﺳ و د 10 ﻣ ﻝ 8 * 4 ﻣ ﺗ</td>\n",
       "      <td></td>\n",
       "      <td>صاجاسودملمت</td>\n",
       "      <td>صاج اسود</td>\n",
       "      <td>صاج اسود</td>\n",
       "    </tr>\n",
       "    <tr>\n",
       "      <th>1565</th>\n",
       "      <td>ﻣ ﺎ ﺳ و ﺭ ﺓ ﺍ ﺳ و د 5 ﺑ و ﺻ ﺔ * 4.0 ﻣ ﻝ 12 ﻣ ﺗ ﺭ</td>\n",
       "      <td></td>\n",
       "      <td>ماسورهاسودبوصهملمتر</td>\n",
       "      <td>ماسوره اسود</td>\n",
       "      <td>ماسوره اسود</td>\n",
       "    </tr>\n",
       "    <tr>\n",
       "      <th>1566</th>\n",
       "      <td>ﻣ ﺎ ﺳ و ﺭ ﺓ ﺍ ﺳ و د 5 ﺑ و ﺻ ﺔ * 5 ﻣ ﻝ 6 ﻣ ﺗ ﺭ</td>\n",
       "      <td></td>\n",
       "      <td>ماسورهاسودبوصهملمتر</td>\n",
       "      <td>ماسوره اسود</td>\n",
       "      <td>ماسوره اسود</td>\n",
       "    </tr>\n",
       "    <tr>\n",
       "      <th>1567</th>\n",
       "      <td>ﺗ ﯾ و ﺏ ﻓ ﺎ ﺭ ﻍ ﻣ ﺭ ﺑ ﻊ 80 * 80 * 5 ﻣ ﻝ 6 ﻣ ﺗ ﺭ</td>\n",
       "      <td></td>\n",
       "      <td>تيوبفارغمربعملمتر</td>\n",
       "      <td>تيوب فارغ مربع</td>\n",
       "      <td>تيوب فارغ مربع</td>\n",
       "    </tr>\n",
       "  </tbody>\n",
       "</table>\n",
       "</div>"
      ],
      "text/plain": [
       "                                             Item Name Normalized  \\\n",
       "1562                ﺻ ﺎ ﺝ ﺍ ﺳ و د 1220 * 2440 * 20 ﻣ ﻠ              \n",
       "1563                    ﺻ ﺎ ﺝ ﺍ ﺳ و د 10 ﻣ ﻝ 8 * 4 ﻣ ﺗ              \n",
       "1565  ﻣ ﺎ ﺳ و ﺭ ﺓ ﺍ ﺳ و د 5 ﺑ و ﺻ ﺔ * 4.0 ﻣ ﻝ 12 ﻣ ﺗ ﺭ              \n",
       "1566     ﻣ ﺎ ﺳ و ﺭ ﺓ ﺍ ﺳ و د 5 ﺑ و ﺻ ﺔ * 5 ﻣ ﻝ 6 ﻣ ﺗ ﺭ              \n",
       "1567   ﺗ ﯾ و ﺏ ﻓ ﺎ ﺭ ﻍ ﻣ ﺭ ﺑ ﻊ 80 * 80 * 5 ﻣ ﻝ 6 ﻣ ﺗ ﺭ              \n",
       "\n",
       "               Disjointed        Rejoined        Combined  \n",
       "1562            صاجاسودمل        صاج اسود        صاج اسود  \n",
       "1563          صاجاسودملمت        صاج اسود        صاج اسود  \n",
       "1565  ماسورهاسودبوصهملمتر     ماسوره اسود     ماسوره اسود  \n",
       "1566  ماسورهاسودبوصهملمتر     ماسوره اسود     ماسوره اسود  \n",
       "1567    تيوبفارغمربعملمتر  تيوب فارغ مربع  تيوب فارغ مربع  "
      ]
     },
     "execution_count": 104,
     "metadata": {},
     "output_type": "execute_result"
    }
   ],
   "source": [
    "df_test = df[df[\"Disjointed\"] != \"\"]\n",
    "df_test.to_excel(\"../data/reconstructed_entries.xlsx\")\n",
    "df_test.head(5)"
   ]
  },
  {
   "cell_type": "markdown",
   "id": "03ff7676",
   "metadata": {},
   "source": [
    "## Analyze tokens"
   ]
  },
  {
   "cell_type": "markdown",
   "id": "77c50383",
   "metadata": {},
   "source": [
    "### Token lengths"
   ]
  },
  {
   "cell_type": "code",
   "execution_count": 105,
   "id": "ad7c0957",
   "metadata": {},
   "outputs": [
    {
     "data": {
      "image/png": "[encoded data removed]",
      "text/plain": [
       "<Figure size 1200x1250 with 5 Axes>"
      ]
     },
     "metadata": {},
     "output_type": "display_data"
    }
   ],
   "source": [
    "# Visualize the character lengths per preprocessing stage\n",
    "\n",
    "# Columns where zero-length is an artifact you'd like to ignore\n",
    "drop_zero_len_cols = {\"Disjointed\", \"Rejoined\"}\n",
    "\n",
    "length_counts = {}\n",
    "for col in df.columns:\n",
    "    lengths = df[col].astype(str).str.len()\n",
    "    if col in drop_zero_len_cols:\n",
    "        lengths = lengths[lengths > 0]  # drop zeros only for these columns\n",
    "    length_counts[col] = lengths.value_counts().sort_index()\n",
    "\n",
    "# Put into a DataFrame (rows = lengths, columns = original columns)\n",
    "length_counts_df = pd.DataFrame(length_counts).fillna(0).astype(int)\n",
    "\n",
    "# Plot histograms per column with cleaner style\n",
    "fig, axes = plt.subplots(len(length_counts_df.columns), 1, figsize=(12, 2.5*len(length_counts_df.columns)), sharex=False)\n",
    "\n",
    "for ax, col in zip(axes, length_counts_df.columns):\n",
    "    length_counts_df[col].plot(kind=\"bar\", ax=ax, width=0.9)\n",
    "    ax.set_title(col, fontsize=12, pad=8)\n",
    "    \n",
    "    # Show only ticks at 0, 10, 20, ... up to 100\n",
    "    ax.xaxis.set_major_locator(ticker.MultipleLocator(10))\n",
    "    ax.xaxis.set_minor_locator(ticker.NullLocator())\n",
    "    \n",
    "    # Rotate x labels for readability\n",
    "    ax.tick_params(axis=\"x\", rotation=45)\n",
    "\n",
    "# Global x label\n",
    "fig.text(0.5, 0.04, \"String Length\", ha=\"center\", fontsize=12)\n",
    "fig.text(0.04, 0.5, \"Frequency\", va=\"center\", rotation=\"vertical\", fontsize=12)\n",
    "\n",
    "plt.tight_layout(rect=[0.05, 0.05, 1, 1])\n",
    "plt.show()"
   ]
  },
  {
   "cell_type": "code",
   "execution_count": 106,
   "id": "84b382cb",
   "metadata": {},
   "outputs": [
    {
     "data": {
      "text/html": [
       "<div>\n",
       "<style scoped>\n",
       "    .dataframe tbody tr th:only-of-type {\n",
       "        vertical-align: middle;\n",
       "    }\n",
       "\n",
       "    .dataframe tbody tr th {\n",
       "        vertical-align: top;\n",
       "    }\n",
       "\n",
       "    .dataframe thead th {\n",
       "        text-align: right;\n",
       "    }\n",
       "</style>\n",
       "<table border=\"1\" class=\"dataframe\">\n",
       "  <thead>\n",
       "    <tr style=\"text-align: right;\">\n",
       "      <th></th>\n",
       "      <th>Item Name</th>\n",
       "      <th>Normalized</th>\n",
       "      <th>Disjointed</th>\n",
       "      <th>Rejoined</th>\n",
       "      <th>Combined</th>\n",
       "    </tr>\n",
       "  </thead>\n",
       "  <tbody>\n",
       "    <tr>\n",
       "      <th>1675</th>\n",
       "      <td>S201-C10</td>\n",
       "      <td></td>\n",
       "      <td></td>\n",
       "      <td></td>\n",
       "      <td></td>\n",
       "    </tr>\n",
       "    <tr>\n",
       "      <th>1676</th>\n",
       "      <td>S203-C6</td>\n",
       "      <td></td>\n",
       "      <td></td>\n",
       "      <td></td>\n",
       "      <td></td>\n",
       "    </tr>\n",
       "    <tr>\n",
       "      <th>1681</th>\n",
       "      <td>S203-C63</td>\n",
       "      <td></td>\n",
       "      <td></td>\n",
       "      <td></td>\n",
       "      <td></td>\n",
       "    </tr>\n",
       "    <tr>\n",
       "      <th>1697</th>\n",
       "      <td>S201-C16</td>\n",
       "      <td></td>\n",
       "      <td></td>\n",
       "      <td></td>\n",
       "      <td></td>\n",
       "    </tr>\n",
       "    <tr>\n",
       "      <th>1698</th>\n",
       "      <td>S202-C10</td>\n",
       "      <td></td>\n",
       "      <td></td>\n",
       "      <td></td>\n",
       "      <td></td>\n",
       "    </tr>\n",
       "  </tbody>\n",
       "</table>\n",
       "</div>"
      ],
      "text/plain": [
       "     Item Name Normalized Disjointed Rejoined Combined\n",
       "1675  S201-C10                                        \n",
       "1676   S203-C6                                        \n",
       "1681  S203-C63                                        \n",
       "1697  S201-C16                                        \n",
       "1698  S202-C10                                        "
      ]
     },
     "execution_count": 106,
     "metadata": {},
     "output_type": "execute_result"
    }
   ],
   "source": [
    "df[df[\"Combined\"] == \"\"].head(5)"
   ]
  },
  {
   "cell_type": "markdown",
   "id": "9352cf9f",
   "metadata": {},
   "source": [
    "After normalization many of the original Item Names shrunk down as a result of removing digits, untis, etc., while some empty rows arose as a result of cleaning disjoint letters. \n",
    "\n",
    "Disjointed and Rejoined also exhibit a similar trend. To clear something first, the plot shows only the rows where there were values (disjoint letters). Overall, the sentence legnths shrunk due to some words found in the respective rows not being present in the lexicon. However, we can clearly see that no rows were completely eliminated; we successfully brought back some context from the disjoint letters.\n",
    "\n",
    "Lastly, the combined letters match the distribution of the normalized column. This is normal as we only added 39 rows from Rejoined, and that didn't change the distrubution by much.\n",
    "\n",
    "All in all. Most rows have at least a few characters/words that we could extract the context of the purchase from. Notably, there are some 0-char rows in Combined which are English entries (e.g., S201-C10) where digits and symbols were removed and letters were left disjoint. We'll work on cleaning these now."
   ]
  },
  {
   "cell_type": "markdown",
   "id": "b2910abb",
   "metadata": {},
   "source": [
    "### Clean Combined column"
   ]
  },
  {
   "cell_type": "markdown",
   "id": "67402345",
   "metadata": {},
   "source": [
    "#### Entries with <= 2 chars"
   ]
  },
  {
   "cell_type": "code",
   "execution_count": 107,
   "id": "725af629",
   "metadata": {},
   "outputs": [
    {
     "data": {
      "text/html": [
       "<div>\n",
       "<style scoped>\n",
       "    .dataframe tbody tr th:only-of-type {\n",
       "        vertical-align: middle;\n",
       "    }\n",
       "\n",
       "    .dataframe tbody tr th {\n",
       "        vertical-align: top;\n",
       "    }\n",
       "\n",
       "    .dataframe thead th {\n",
       "        text-align: right;\n",
       "    }\n",
       "</style>\n",
       "<table border=\"1\" class=\"dataframe\">\n",
       "  <thead>\n",
       "    <tr style=\"text-align: right;\">\n",
       "      <th></th>\n",
       "      <th>Item Name</th>\n",
       "      <th>Normalized</th>\n",
       "      <th>Disjointed</th>\n",
       "      <th>Rejoined</th>\n",
       "      <th>Combined</th>\n",
       "    </tr>\n",
       "  </thead>\n",
       "  <tbody>\n",
       "    <tr>\n",
       "      <th>1497</th>\n",
       "      <td>DP 25CM*40CM*2M D20</td>\n",
       "      <td>dp</td>\n",
       "      <td></td>\n",
       "      <td></td>\n",
       "      <td>dp</td>\n",
       "    </tr>\n",
       "    <tr>\n",
       "      <th>1498</th>\n",
       "      <td>DP 30CM*40CM*2M D20</td>\n",
       "      <td>dp</td>\n",
       "      <td></td>\n",
       "      <td></td>\n",
       "      <td>dp</td>\n",
       "    </tr>\n",
       "    <tr>\n",
       "      <th>1499</th>\n",
       "      <td>DP 25CM*40CM*40CM D20</td>\n",
       "      <td>dp</td>\n",
       "      <td></td>\n",
       "      <td></td>\n",
       "      <td>dp</td>\n",
       "    </tr>\n",
       "    <tr>\n",
       "      <th>1659</th>\n",
       "      <td>GI 0.60X1219X2440MM</td>\n",
       "      <td>gi</td>\n",
       "      <td></td>\n",
       "      <td></td>\n",
       "      <td>gi</td>\n",
       "    </tr>\n",
       "    <tr>\n",
       "      <th>1660</th>\n",
       "      <td>GI 0.80X1219X2440MM</td>\n",
       "      <td>gi</td>\n",
       "      <td></td>\n",
       "      <td></td>\n",
       "      <td>gi</td>\n",
       "    </tr>\n",
       "    <tr>\n",
       "      <th>1661</th>\n",
       "      <td>GI 1.00X1219X2440MM</td>\n",
       "      <td>gi</td>\n",
       "      <td></td>\n",
       "      <td></td>\n",
       "      <td>gi</td>\n",
       "    </tr>\n",
       "    <tr>\n",
       "      <th>1662</th>\n",
       "      <td>GI 0.70X1219X2440MM</td>\n",
       "      <td>gi</td>\n",
       "      <td></td>\n",
       "      <td></td>\n",
       "      <td>gi</td>\n",
       "    </tr>\n",
       "    <tr>\n",
       "      <th>1675</th>\n",
       "      <td>S201-C10</td>\n",
       "      <td></td>\n",
       "      <td></td>\n",
       "      <td></td>\n",
       "      <td></td>\n",
       "    </tr>\n",
       "    <tr>\n",
       "      <th>1676</th>\n",
       "      <td>S203-C6</td>\n",
       "      <td></td>\n",
       "      <td></td>\n",
       "      <td></td>\n",
       "      <td></td>\n",
       "    </tr>\n",
       "    <tr>\n",
       "      <th>1681</th>\n",
       "      <td>S203-C63</td>\n",
       "      <td></td>\n",
       "      <td></td>\n",
       "      <td></td>\n",
       "      <td></td>\n",
       "    </tr>\n",
       "    <tr>\n",
       "      <th>1697</th>\n",
       "      <td>S201-C16</td>\n",
       "      <td></td>\n",
       "      <td></td>\n",
       "      <td></td>\n",
       "      <td></td>\n",
       "    </tr>\n",
       "    <tr>\n",
       "      <th>1698</th>\n",
       "      <td>S202-C10</td>\n",
       "      <td></td>\n",
       "      <td></td>\n",
       "      <td></td>\n",
       "      <td></td>\n",
       "    </tr>\n",
       "    <tr>\n",
       "      <th>1703</th>\n",
       "      <td>S204-C40</td>\n",
       "      <td></td>\n",
       "      <td></td>\n",
       "      <td></td>\n",
       "      <td></td>\n",
       "    </tr>\n",
       "    <tr>\n",
       "      <th>1706</th>\n",
       "      <td>XT6D 800 3p F F</td>\n",
       "      <td>xt</td>\n",
       "      <td></td>\n",
       "      <td></td>\n",
       "      <td>xt</td>\n",
       "    </tr>\n",
       "    <tr>\n",
       "      <th>1718</th>\n",
       "      <td>S201-C6</td>\n",
       "      <td></td>\n",
       "      <td></td>\n",
       "      <td></td>\n",
       "      <td></td>\n",
       "    </tr>\n",
       "    <tr>\n",
       "      <th>1719</th>\n",
       "      <td>S202-C10</td>\n",
       "      <td></td>\n",
       "      <td></td>\n",
       "      <td></td>\n",
       "      <td></td>\n",
       "    </tr>\n",
       "    <tr>\n",
       "      <th>1720</th>\n",
       "      <td>S202-C40</td>\n",
       "      <td></td>\n",
       "      <td></td>\n",
       "      <td></td>\n",
       "      <td></td>\n",
       "    </tr>\n",
       "    <tr>\n",
       "      <th>1723</th>\n",
       "      <td>XT1D 160 4p F F</td>\n",
       "      <td>xt</td>\n",
       "      <td></td>\n",
       "      <td></td>\n",
       "      <td>xt</td>\n",
       "    </tr>\n",
       "    <tr>\n",
       "      <th>1730</th>\n",
       "      <td>SH201-C6</td>\n",
       "      <td>sh</td>\n",
       "      <td></td>\n",
       "      <td></td>\n",
       "      <td>sh</td>\n",
       "    </tr>\n",
       "    <tr>\n",
       "      <th>1740</th>\n",
       "      <td>S201-C20</td>\n",
       "      <td></td>\n",
       "      <td></td>\n",
       "      <td></td>\n",
       "      <td></td>\n",
       "    </tr>\n",
       "    <tr>\n",
       "      <th>1741</th>\n",
       "      <td>S202-C20</td>\n",
       "      <td></td>\n",
       "      <td></td>\n",
       "      <td></td>\n",
       "      <td></td>\n",
       "    </tr>\n",
       "    <tr>\n",
       "      <th>1749</th>\n",
       "      <td>S204M-C25</td>\n",
       "      <td></td>\n",
       "      <td></td>\n",
       "      <td></td>\n",
       "      <td></td>\n",
       "    </tr>\n",
       "    <tr>\n",
       "      <th>2015</th>\n",
       "      <td>40 X 40 X 3</td>\n",
       "      <td></td>\n",
       "      <td></td>\n",
       "      <td></td>\n",
       "      <td></td>\n",
       "    </tr>\n",
       "    <tr>\n",
       "      <th>2333</th>\n",
       "      <td>S204-C25</td>\n",
       "      <td></td>\n",
       "      <td></td>\n",
       "      <td></td>\n",
       "      <td></td>\n",
       "    </tr>\n",
       "    <tr>\n",
       "      <th>2338</th>\n",
       "      <td>S201-C20</td>\n",
       "      <td></td>\n",
       "      <td></td>\n",
       "      <td></td>\n",
       "      <td></td>\n",
       "    </tr>\n",
       "    <tr>\n",
       "      <th>2341</th>\n",
       "      <td>S201-C16</td>\n",
       "      <td></td>\n",
       "      <td></td>\n",
       "      <td></td>\n",
       "      <td></td>\n",
       "    </tr>\n",
       "    <tr>\n",
       "      <th>2342</th>\n",
       "      <td>S203-C32</td>\n",
       "      <td></td>\n",
       "      <td></td>\n",
       "      <td></td>\n",
       "      <td></td>\n",
       "    </tr>\n",
       "    <tr>\n",
       "      <th>2363</th>\n",
       "      <td>S201-C32</td>\n",
       "      <td></td>\n",
       "      <td></td>\n",
       "      <td></td>\n",
       "      <td></td>\n",
       "    </tr>\n",
       "    <tr>\n",
       "      <th>2366</th>\n",
       "      <td>S201-C20</td>\n",
       "      <td></td>\n",
       "      <td></td>\n",
       "      <td></td>\n",
       "      <td></td>\n",
       "    </tr>\n",
       "    <tr>\n",
       "      <th>2367</th>\n",
       "      <td>SH201-C6</td>\n",
       "      <td>sh</td>\n",
       "      <td></td>\n",
       "      <td></td>\n",
       "      <td>sh</td>\n",
       "    </tr>\n",
       "    <tr>\n",
       "      <th>2387</th>\n",
       "      <td>SH201-C6</td>\n",
       "      <td>sh</td>\n",
       "      <td></td>\n",
       "      <td></td>\n",
       "      <td>sh</td>\n",
       "    </tr>\n",
       "    <tr>\n",
       "      <th>2390</th>\n",
       "      <td>S201-C10</td>\n",
       "      <td></td>\n",
       "      <td></td>\n",
       "      <td></td>\n",
       "      <td></td>\n",
       "    </tr>\n",
       "    <tr>\n",
       "      <th>2391</th>\n",
       "      <td>S203-C20</td>\n",
       "      <td></td>\n",
       "      <td></td>\n",
       "      <td></td>\n",
       "      <td></td>\n",
       "    </tr>\n",
       "    <tr>\n",
       "      <th>2399</th>\n",
       "      <td>S201-C20</td>\n",
       "      <td></td>\n",
       "      <td></td>\n",
       "      <td></td>\n",
       "      <td></td>\n",
       "    </tr>\n",
       "    <tr>\n",
       "      <th>2416</th>\n",
       "      <td>S201-C32</td>\n",
       "      <td></td>\n",
       "      <td></td>\n",
       "      <td></td>\n",
       "      <td></td>\n",
       "    </tr>\n",
       "    <tr>\n",
       "      <th>2424</th>\n",
       "      <td>SH201-C6</td>\n",
       "      <td>sh</td>\n",
       "      <td></td>\n",
       "      <td></td>\n",
       "      <td>sh</td>\n",
       "    </tr>\n",
       "  </tbody>\n",
       "</table>\n",
       "</div>"
      ],
      "text/plain": [
       "                  Item Name Normalized Disjointed Rejoined Combined\n",
       "1497    DP 25CM*40CM*2M D20         dp                           dp\n",
       "1498    DP 30CM*40CM*2M D20         dp                           dp\n",
       "1499  DP 25CM*40CM*40CM D20         dp                           dp\n",
       "1659    GI 0.60X1219X2440MM         gi                           gi\n",
       "1660    GI 0.80X1219X2440MM         gi                           gi\n",
       "1661    GI 1.00X1219X2440MM         gi                           gi\n",
       "1662    GI 0.70X1219X2440MM         gi                           gi\n",
       "1675               S201-C10                                        \n",
       "1676                S203-C6                                        \n",
       "1681               S203-C63                                        \n",
       "1697               S201-C16                                        \n",
       "1698               S202-C10                                        \n",
       "1703               S204-C40                                        \n",
       "1706        XT6D 800 3p F F         xt                           xt\n",
       "1718                S201-C6                                        \n",
       "1719               S202-C10                                        \n",
       "1720               S202-C40                                        \n",
       "1723        XT1D 160 4p F F         xt                           xt\n",
       "1730               SH201-C6         sh                           sh\n",
       "1740               S201-C20                                        \n",
       "1741               S202-C20                                        \n",
       "1749              S204M-C25                                        \n",
       "2015            40 X 40 X 3                                        \n",
       "2333               S204-C25                                        \n",
       "2338               S201-C20                                        \n",
       "2341               S201-C16                                        \n",
       "2342               S203-C32                                        \n",
       "2363               S201-C32                                        \n",
       "2366               S201-C20                                        \n",
       "2367               SH201-C6         sh                           sh\n",
       "2387               SH201-C6         sh                           sh\n",
       "2390               S201-C10                                        \n",
       "2391               S203-C20                                        \n",
       "2399               S201-C20                                        \n",
       "2416               S201-C32                                        \n",
       "2424               SH201-C6         sh                           sh"
      ]
     },
     "execution_count": 107,
     "metadata": {},
     "output_type": "execute_result"
    }
   ],
   "source": [
    "# Let's see the combined Item Names with <= 2 chars\n",
    "df[df[\"Combined\"].str.len() <= 2]"
   ]
  },
  {
   "cell_type": "markdown",
   "id": "c635c7db",
   "metadata": {},
   "source": [
    "It appears that some Item Names were recorded only as their common code names. No description provided about what the product is. For such cases I'll manually populate `Combined` with the code names for these entries. We can see that the first word in Item Name effectively captures most of the knowledge we could get of each item."
   ]
  },
  {
   "cell_type": "code",
   "execution_count": 108,
   "id": "411066e6",
   "metadata": {},
   "outputs": [],
   "source": [
    "# Assign first word of \"Item Name\" where mask is True\n",
    "mask = df[\"Combined\"].astype(str).str.len() <= 2\n",
    "df.loc[mask, \"Combined\"] = df.loc[mask, \"Item Name\"].str.split().str[0]"
   ]
  },
  {
   "cell_type": "code",
   "execution_count": 109,
   "id": "2f7267eb",
   "metadata": {},
   "outputs": [
    {
     "data": {
      "text/html": [
       "<div>\n",
       "<style scoped>\n",
       "    .dataframe tbody tr th:only-of-type {\n",
       "        vertical-align: middle;\n",
       "    }\n",
       "\n",
       "    .dataframe tbody tr th {\n",
       "        vertical-align: top;\n",
       "    }\n",
       "\n",
       "    .dataframe thead th {\n",
       "        text-align: right;\n",
       "    }\n",
       "</style>\n",
       "<table border=\"1\" class=\"dataframe\">\n",
       "  <thead>\n",
       "    <tr style=\"text-align: right;\">\n",
       "      <th></th>\n",
       "      <th>Item Name</th>\n",
       "      <th>Normalized</th>\n",
       "      <th>Disjointed</th>\n",
       "      <th>Rejoined</th>\n",
       "      <th>Combined</th>\n",
       "    </tr>\n",
       "  </thead>\n",
       "  <tbody>\n",
       "    <tr>\n",
       "      <th>1497</th>\n",
       "      <td>DP 25CM*40CM*2M D20</td>\n",
       "      <td>dp</td>\n",
       "      <td></td>\n",
       "      <td></td>\n",
       "      <td>DP</td>\n",
       "    </tr>\n",
       "    <tr>\n",
       "      <th>1498</th>\n",
       "      <td>DP 30CM*40CM*2M D20</td>\n",
       "      <td>dp</td>\n",
       "      <td></td>\n",
       "      <td></td>\n",
       "      <td>DP</td>\n",
       "    </tr>\n",
       "    <tr>\n",
       "      <th>1499</th>\n",
       "      <td>DP 25CM*40CM*40CM D20</td>\n",
       "      <td>dp</td>\n",
       "      <td></td>\n",
       "      <td></td>\n",
       "      <td>DP</td>\n",
       "    </tr>\n",
       "    <tr>\n",
       "      <th>1659</th>\n",
       "      <td>GI 0.60X1219X2440MM</td>\n",
       "      <td>gi</td>\n",
       "      <td></td>\n",
       "      <td></td>\n",
       "      <td>GI</td>\n",
       "    </tr>\n",
       "    <tr>\n",
       "      <th>1660</th>\n",
       "      <td>GI 0.80X1219X2440MM</td>\n",
       "      <td>gi</td>\n",
       "      <td></td>\n",
       "      <td></td>\n",
       "      <td>GI</td>\n",
       "    </tr>\n",
       "    <tr>\n",
       "      <th>1661</th>\n",
       "      <td>GI 1.00X1219X2440MM</td>\n",
       "      <td>gi</td>\n",
       "      <td></td>\n",
       "      <td></td>\n",
       "      <td>GI</td>\n",
       "    </tr>\n",
       "    <tr>\n",
       "      <th>1662</th>\n",
       "      <td>GI 0.70X1219X2440MM</td>\n",
       "      <td>gi</td>\n",
       "      <td></td>\n",
       "      <td></td>\n",
       "      <td>GI</td>\n",
       "    </tr>\n",
       "    <tr>\n",
       "      <th>1675</th>\n",
       "      <td>S201-C10</td>\n",
       "      <td></td>\n",
       "      <td></td>\n",
       "      <td></td>\n",
       "      <td>S201-C10</td>\n",
       "    </tr>\n",
       "    <tr>\n",
       "      <th>1676</th>\n",
       "      <td>S203-C6</td>\n",
       "      <td></td>\n",
       "      <td></td>\n",
       "      <td></td>\n",
       "      <td>S203-C6</td>\n",
       "    </tr>\n",
       "    <tr>\n",
       "      <th>1681</th>\n",
       "      <td>S203-C63</td>\n",
       "      <td></td>\n",
       "      <td></td>\n",
       "      <td></td>\n",
       "      <td>S203-C63</td>\n",
       "    </tr>\n",
       "    <tr>\n",
       "      <th>1697</th>\n",
       "      <td>S201-C16</td>\n",
       "      <td></td>\n",
       "      <td></td>\n",
       "      <td></td>\n",
       "      <td>S201-C16</td>\n",
       "    </tr>\n",
       "    <tr>\n",
       "      <th>1698</th>\n",
       "      <td>S202-C10</td>\n",
       "      <td></td>\n",
       "      <td></td>\n",
       "      <td></td>\n",
       "      <td>S202-C10</td>\n",
       "    </tr>\n",
       "    <tr>\n",
       "      <th>1703</th>\n",
       "      <td>S204-C40</td>\n",
       "      <td></td>\n",
       "      <td></td>\n",
       "      <td></td>\n",
       "      <td>S204-C40</td>\n",
       "    </tr>\n",
       "    <tr>\n",
       "      <th>1706</th>\n",
       "      <td>XT6D 800 3p F F</td>\n",
       "      <td>xt</td>\n",
       "      <td></td>\n",
       "      <td></td>\n",
       "      <td>XT6D</td>\n",
       "    </tr>\n",
       "    <tr>\n",
       "      <th>1718</th>\n",
       "      <td>S201-C6</td>\n",
       "      <td></td>\n",
       "      <td></td>\n",
       "      <td></td>\n",
       "      <td>S201-C6</td>\n",
       "    </tr>\n",
       "    <tr>\n",
       "      <th>1719</th>\n",
       "      <td>S202-C10</td>\n",
       "      <td></td>\n",
       "      <td></td>\n",
       "      <td></td>\n",
       "      <td>S202-C10</td>\n",
       "    </tr>\n",
       "    <tr>\n",
       "      <th>1720</th>\n",
       "      <td>S202-C40</td>\n",
       "      <td></td>\n",
       "      <td></td>\n",
       "      <td></td>\n",
       "      <td>S202-C40</td>\n",
       "    </tr>\n",
       "    <tr>\n",
       "      <th>1723</th>\n",
       "      <td>XT1D 160 4p F F</td>\n",
       "      <td>xt</td>\n",
       "      <td></td>\n",
       "      <td></td>\n",
       "      <td>XT1D</td>\n",
       "    </tr>\n",
       "    <tr>\n",
       "      <th>1730</th>\n",
       "      <td>SH201-C6</td>\n",
       "      <td>sh</td>\n",
       "      <td></td>\n",
       "      <td></td>\n",
       "      <td>SH201-C6</td>\n",
       "    </tr>\n",
       "    <tr>\n",
       "      <th>1740</th>\n",
       "      <td>S201-C20</td>\n",
       "      <td></td>\n",
       "      <td></td>\n",
       "      <td></td>\n",
       "      <td>S201-C20</td>\n",
       "    </tr>\n",
       "    <tr>\n",
       "      <th>1741</th>\n",
       "      <td>S202-C20</td>\n",
       "      <td></td>\n",
       "      <td></td>\n",
       "      <td></td>\n",
       "      <td>S202-C20</td>\n",
       "    </tr>\n",
       "    <tr>\n",
       "      <th>1749</th>\n",
       "      <td>S204M-C25</td>\n",
       "      <td></td>\n",
       "      <td></td>\n",
       "      <td></td>\n",
       "      <td>S204M-C25</td>\n",
       "    </tr>\n",
       "    <tr>\n",
       "      <th>2015</th>\n",
       "      <td>40 X 40 X 3</td>\n",
       "      <td></td>\n",
       "      <td></td>\n",
       "      <td></td>\n",
       "      <td>40</td>\n",
       "    </tr>\n",
       "    <tr>\n",
       "      <th>2333</th>\n",
       "      <td>S204-C25</td>\n",
       "      <td></td>\n",
       "      <td></td>\n",
       "      <td></td>\n",
       "      <td>S204-C25</td>\n",
       "    </tr>\n",
       "    <tr>\n",
       "      <th>2338</th>\n",
       "      <td>S201-C20</td>\n",
       "      <td></td>\n",
       "      <td></td>\n",
       "      <td></td>\n",
       "      <td>S201-C20</td>\n",
       "    </tr>\n",
       "    <tr>\n",
       "      <th>2341</th>\n",
       "      <td>S201-C16</td>\n",
       "      <td></td>\n",
       "      <td></td>\n",
       "      <td></td>\n",
       "      <td>S201-C16</td>\n",
       "    </tr>\n",
       "    <tr>\n",
       "      <th>2342</th>\n",
       "      <td>S203-C32</td>\n",
       "      <td></td>\n",
       "      <td></td>\n",
       "      <td></td>\n",
       "      <td>S203-C32</td>\n",
       "    </tr>\n",
       "    <tr>\n",
       "      <th>2363</th>\n",
       "      <td>S201-C32</td>\n",
       "      <td></td>\n",
       "      <td></td>\n",
       "      <td></td>\n",
       "      <td>S201-C32</td>\n",
       "    </tr>\n",
       "    <tr>\n",
       "      <th>2366</th>\n",
       "      <td>S201-C20</td>\n",
       "      <td></td>\n",
       "      <td></td>\n",
       "      <td></td>\n",
       "      <td>S201-C20</td>\n",
       "    </tr>\n",
       "    <tr>\n",
       "      <th>2367</th>\n",
       "      <td>SH201-C6</td>\n",
       "      <td>sh</td>\n",
       "      <td></td>\n",
       "      <td></td>\n",
       "      <td>SH201-C6</td>\n",
       "    </tr>\n",
       "    <tr>\n",
       "      <th>2387</th>\n",
       "      <td>SH201-C6</td>\n",
       "      <td>sh</td>\n",
       "      <td></td>\n",
       "      <td></td>\n",
       "      <td>SH201-C6</td>\n",
       "    </tr>\n",
       "    <tr>\n",
       "      <th>2390</th>\n",
       "      <td>S201-C10</td>\n",
       "      <td></td>\n",
       "      <td></td>\n",
       "      <td></td>\n",
       "      <td>S201-C10</td>\n",
       "    </tr>\n",
       "    <tr>\n",
       "      <th>2391</th>\n",
       "      <td>S203-C20</td>\n",
       "      <td></td>\n",
       "      <td></td>\n",
       "      <td></td>\n",
       "      <td>S203-C20</td>\n",
       "    </tr>\n",
       "    <tr>\n",
       "      <th>2399</th>\n",
       "      <td>S201-C20</td>\n",
       "      <td></td>\n",
       "      <td></td>\n",
       "      <td></td>\n",
       "      <td>S201-C20</td>\n",
       "    </tr>\n",
       "    <tr>\n",
       "      <th>2416</th>\n",
       "      <td>S201-C32</td>\n",
       "      <td></td>\n",
       "      <td></td>\n",
       "      <td></td>\n",
       "      <td>S201-C32</td>\n",
       "    </tr>\n",
       "    <tr>\n",
       "      <th>2424</th>\n",
       "      <td>SH201-C6</td>\n",
       "      <td>sh</td>\n",
       "      <td></td>\n",
       "      <td></td>\n",
       "      <td>SH201-C6</td>\n",
       "    </tr>\n",
       "  </tbody>\n",
       "</table>\n",
       "</div>"
      ],
      "text/plain": [
       "                  Item Name Normalized Disjointed Rejoined   Combined\n",
       "1497    DP 25CM*40CM*2M D20         dp                             DP\n",
       "1498    DP 30CM*40CM*2M D20         dp                             DP\n",
       "1499  DP 25CM*40CM*40CM D20         dp                             DP\n",
       "1659    GI 0.60X1219X2440MM         gi                             GI\n",
       "1660    GI 0.80X1219X2440MM         gi                             GI\n",
       "1661    GI 1.00X1219X2440MM         gi                             GI\n",
       "1662    GI 0.70X1219X2440MM         gi                             GI\n",
       "1675               S201-C10                                  S201-C10\n",
       "1676                S203-C6                                   S203-C6\n",
       "1681               S203-C63                                  S203-C63\n",
       "1697               S201-C16                                  S201-C16\n",
       "1698               S202-C10                                  S202-C10\n",
       "1703               S204-C40                                  S204-C40\n",
       "1706        XT6D 800 3p F F         xt                           XT6D\n",
       "1718                S201-C6                                   S201-C6\n",
       "1719               S202-C10                                  S202-C10\n",
       "1720               S202-C40                                  S202-C40\n",
       "1723        XT1D 160 4p F F         xt                           XT1D\n",
       "1730               SH201-C6         sh                       SH201-C6\n",
       "1740               S201-C20                                  S201-C20\n",
       "1741               S202-C20                                  S202-C20\n",
       "1749              S204M-C25                                 S204M-C25\n",
       "2015            40 X 40 X 3                                        40\n",
       "2333               S204-C25                                  S204-C25\n",
       "2338               S201-C20                                  S201-C20\n",
       "2341               S201-C16                                  S201-C16\n",
       "2342               S203-C32                                  S203-C32\n",
       "2363               S201-C32                                  S201-C32\n",
       "2366               S201-C20                                  S201-C20\n",
       "2367               SH201-C6         sh                       SH201-C6\n",
       "2387               SH201-C6         sh                       SH201-C6\n",
       "2390               S201-C10                                  S201-C10\n",
       "2391               S203-C20                                  S203-C20\n",
       "2399               S201-C20                                  S201-C20\n",
       "2416               S201-C32                                  S201-C32\n",
       "2424               SH201-C6         sh                       SH201-C6"
      ]
     },
     "execution_count": 109,
     "metadata": {},
     "output_type": "execute_result"
    }
   ],
   "source": [
    "df[mask]"
   ]
  },
  {
   "cell_type": "markdown",
   "id": "b57e593e",
   "metadata": {},
   "source": [
    "Almost didn't catch the issue in row 2015. We'll replace with unkown since it's just dimensions"
   ]
  },
  {
   "cell_type": "code",
   "execution_count": 110,
   "id": "6353e8f2",
   "metadata": {},
   "outputs": [],
   "source": [
    "df.loc[2015, \"Combined\"] = \"unknown\""
   ]
  },
  {
   "cell_type": "markdown",
   "id": "fd74a67f",
   "metadata": {},
   "source": [
    "### Before and after processing"
   ]
  },
  {
   "cell_type": "code",
   "execution_count": 111,
   "id": "46ba3809",
   "metadata": {},
   "outputs": [
    {
     "name": "stdout",
     "output_type": "stream",
     "text": [
      "Number of unique rows before cleaning: 2303\n",
      "Number of unique rows after cleaning: 1261\n",
      "-------------------------------------\n",
      "Number of unique words before cleaning: 4190\n",
      "Number of unique words after cleaning: 1993\n"
     ]
    }
   ],
   "source": [
    "# Let's see how many unique rows we've got\n",
    "print(\"Number of unique rows before cleaning:\", df[\"Item Name\"].nunique())\n",
    "print(\"Number of unique rows after cleaning:\", df[\"Combined\"].nunique())\n",
    "\n",
    "print(\"-------------------------------------\")\n",
    "\n",
    "# Let's see how many unique words we've got\n",
    "words_before = set(\" \".join(df[\"Item Name\"]).split())\n",
    "words_after = set(\" \".join(df[\"Combined\"]).split())\n",
    "\n",
    "print(\"Number of unique words before cleaning:\", len(words_before))\n",
    "print(\"Number of unique words after cleaning:\", len(words_after))"
   ]
  },
  {
   "cell_type": "markdown",
   "id": "8e61c5ba",
   "metadata": {},
   "source": [
    "We've effectively reduced the variablity from entry to entry to 1262 down from 2303. This means we stripped each entry down to its essence, all using efficient and lightweight techniques.\n",
    "\n",
    "As for the number of unique words, they were reduced to less than half, removing all unnecessary dimensions/units/fillers. This will enable us to look at what makes each entry unique from a larger perspective and move similar entries closer."
   ]
  },
  {
   "cell_type": "markdown",
   "id": "ccbb6074",
   "metadata": {},
   "source": [
    "### Save preprocessed Item Name"
   ]
  },
  {
   "cell_type": "markdown",
   "id": "913ab65b",
   "metadata": {},
   "source": [
    "Save the unique words in the preprocessed Item Name as a vocabulary dataset for later reference as an excel file"
   ]
  },
  {
   "cell_type": "code",
   "execution_count": 112,
   "id": "891bbcf3",
   "metadata": {},
   "outputs": [],
   "source": [
    "# split all text in Combined into words\n",
    "words = \" \".join(df[\"Combined\"].astype(str)).split()\n",
    "\n",
    "# get unique vocab and sort alphabetically\n",
    "vocabulary = sorted(set(words))\n",
    "\n",
    "# save to Excel\n",
    "pd.DataFrame(vocabulary, columns=[\"Vocabulary\"]).to_excel(\"../data/vocabulary.xlsx\", index=False)"
   ]
  },
  {
   "cell_type": "markdown",
   "id": "7a2a3a02",
   "metadata": {},
   "source": [
    "# Embed tokens"
   ]
  },
  {
   "cell_type": "markdown",
   "id": "515abd17",
   "metadata": {},
   "source": [
    "During tests of multiple embedding techniques, I found it difficult to arrive at meaningful results that could lead to effective clustering. Two issues were mainly faced:\n",
    "1. Words could be in AR and EN, yet their embeddings would be farther apart than what they should be\n",
    "    - SBERT landed pretty good results but didn't overcome the second issue\n",
    "    - FastText's aligned vectors shine here!\n",
    "2. Item Names are fragmented, incohesive, contain misspelled words, and after preprocessing & cleaning some context was removed (a step for the better)\n",
    "    - SBERT and similar transformer based approaches thrive on context, which this dataset lacks. FastText's vecs allow us to look at each word individually, which suits our case better\n",
    "\n",
    "Now, we're going to look at the tokens we've cleaned, compare them with tokens recognized by FastText. Then we'll do a bit more work to align the last few (~200) tokens not recognized. THEN we'll FINALLY get to embed the words numerically and categorize them.\n",
    "\n",
    "**NOTE:** FastText offers .bin files that could better approximate the words to their best embeddings. Unfortunately, I've started working with .vecs, and it only offers lookup capabilities. While swithing at this point is feasable, due to time constraints, this is something I'd improve in the future when faced with the same challenge."
   ]
  },
  {
   "cell_type": "markdown",
   "id": "778cb9b0",
   "metadata": {},
   "source": [
    "### Compare current vocab with FastText's"
   ]
  },
  {
   "cell_type": "code",
   "execution_count": 140,
   "id": "6a3d3ffb",
   "metadata": {},
   "outputs": [
    {
     "name": "stdout",
     "output_type": "stream",
     "text": [
      "If you want the full aligned vecs which I used at this step, download them from https://fasttext.cc/docs/en/pretrained-vectors.html\n",
      "Note: they're large, and hence I'll provide a trimmed version in the assets folder that is most relevant to us\n"
     ]
    }
   ],
   "source": [
    "print(\"\"\"If you want the full aligned vecs which I used at this step, download them from https://fasttext.cc/docs/en/pretrained-vectors.html\n",
    "Note: they're large, and hence I'll provide a trimmed version in the assets folder that is most relevant to us\"\"\")\n",
    "# ft_ar_aligned = gensim.models.KeyedVectors.load_word2vec_format(\"../assets/wiki.ar.align.vec\", binary=False)\n",
    "# ft_en_aligned = gensim.models.KeyedVectors.load_word2vec_format(\"../assets/wiki.en.align.vec\", binary=False)"
   ]
  },
  {
   "cell_type": "code",
   "execution_count": null,
   "id": "f5969cfa",
   "metadata": {},
   "outputs": [
    {
     "name": "stdout",
     "output_type": "stream",
     "text": [
      "Aligned AR wiki length: 610977\n",
      "Aligned EN wiki length: 2519370\n",
      "Our vocabulary's length: 1993\n",
      "# of words we found in aligned ft_ar dictionary: 1555\n",
      "# of words we found in aligned ft_en dictionary: 218\n",
      "# of words we couldn't find in aligned dicts: 220\n",
      "saved to ../data/unkonwn_tokens.xlsx\n"
     ]
    }
   ],
   "source": [
    "# # Analyze our corpus with respect to the Wiki word vectors (aligned version)\n",
    "# ar_counter_aligned = 0\n",
    "# en_counter_aligned = 0\n",
    "# unknown = []\n",
    "\n",
    "# for i in vocabulary:\n",
    "#     if i in ft_ar_aligned:\n",
    "#         ar_counter_aligned += 1\n",
    "#     elif i in ft_en_aligned:\n",
    "#         en_counter_aligned += 1\n",
    "#     else:\n",
    "#         unknown.append(i)\n",
    "\n",
    "# print(\"Aligned AR wiki length:\", len(ft_ar_aligned))\n",
    "# print(\"Aligned EN wiki length:\", len(ft_en_aligned))\n",
    "# print(\"Our vocabulary's length:\", len(vocabulary))\n",
    "# print(\"# of words we found in aligned ft_ar dictionary:\", ar_counter_aligned)\n",
    "# print(\"# of words we found in aligned ft_en dictionary:\", en_counter_aligned)\n",
    "# print(\"# of words we couldn't find in aligned dicts:\", len(unknown))\n",
    "\n",
    "\n",
    "# if unknown:\n",
    "#     import pandas as pd\n",
    "#     pd.DataFrame(unknown, columns=[\"token\"]).to_excel(\"../data/unknown_tokens.xlsx\", index=False)\n",
    "#     print(\"saved to ../data/unkonwn_tokens.xlsx\")\n",
    "\n",
    "print(\"\"\"\n",
    "Result:\n",
    "AR + some EN word wiki length: 610977\n",
    "EN vocab length: 2519370\n",
    "Our vocabulary's length: 1993\n",
    "# of words we found in ft_ar dictionary: 1555\n",
    "# of words we found in ft_en dictionary: 218\n",
    "# of words we couldn't find: 220\n",
    "saved to ../data/unkonwn_tokens.xlsx\n",
    "\"\"\")"
   ]
  },
  {
   "cell_type": "markdown",
   "id": "2ceb8955",
   "metadata": {},
   "source": [
    "Sweet! Our cleaning and preprocessing stage has paid off immensely. Most words were found in the aligned vectors. We'll now try to recover as many unkown words as possible (out of 220) from the two vecs. Then, we'll have numerically embedded tokens that are meaningful during clustering."
   ]
  },
  {
   "cell_type": "code",
   "execution_count": null,
   "id": "c2b9006f",
   "metadata": {},
   "outputs": [],
   "source": []
  },
  {
   "cell_type": "markdown",
   "id": "5b795bab",
   "metadata": {},
   "source": [
    "# Categorize preprocessed Item Names"
   ]
  },
  {
   "cell_type": "markdown",
   "id": "f24ca7e8",
   "metadata": {},
   "source": [
    "## BERTopic"
   ]
  },
  {
   "cell_type": "markdown",
   "id": "a60b7c7f",
   "metadata": {},
   "source": [
    "### Simply BERT Approaches"
   ]
  },
  {
   "cell_type": "code",
   "execution_count": 113,
   "id": "55c99ea1",
   "metadata": {},
   "outputs": [
    {
     "data": {
      "text/html": [
       "<div>\n",
       "<style scoped>\n",
       "    .dataframe tbody tr th:only-of-type {\n",
       "        vertical-align: middle;\n",
       "    }\n",
       "\n",
       "    .dataframe tbody tr th {\n",
       "        vertical-align: top;\n",
       "    }\n",
       "\n",
       "    .dataframe thead th {\n",
       "        text-align: right;\n",
       "    }\n",
       "</style>\n",
       "<table border=\"1\" class=\"dataframe\">\n",
       "  <thead>\n",
       "    <tr style=\"text-align: right;\">\n",
       "      <th></th>\n",
       "      <th>Topic</th>\n",
       "      <th>Count</th>\n",
       "      <th>Name</th>\n",
       "      <th>Representation</th>\n",
       "      <th>Representative_Docs</th>\n",
       "    </tr>\n",
       "  </thead>\n",
       "  <tbody>\n",
       "    <tr>\n",
       "      <th>0</th>\n",
       "      <td>-1</td>\n",
       "      <td>835</td>\n",
       "      <td>-1_model_cut_مسحوب_cable</td>\n",
       "      <td>[model, cut, مسحوب, cable, rebar cut, wall, سو...</td>\n",
       "      <td>[weicco rubber lined split clamp model wsc, we...</td>\n",
       "    </tr>\n",
       "    <tr>\n",
       "      <th>1</th>\n",
       "      <td>0</td>\n",
       "      <td>241</td>\n",
       "      <td>0____</td>\n",
       "      <td>[, , , , , , , , , ]</td>\n",
       "      <td>[unknown, unknown, unknown]</td>\n",
       "    </tr>\n",
       "    <tr>\n",
       "      <th>2</th>\n",
       "      <td>1</td>\n",
       "      <td>158</td>\n",
       "      <td>1_مجلفن_washer_كوع_رمادي</td>\n",
       "      <td>[مجلفن, washer, كوع, رمادي, منار, براغ, سلك, n...</td>\n",
       "      <td>[جلب منار احمر, جلب منار احمر, كوع زاويه منار ...</td>\n",
       "    </tr>\n",
       "    <tr>\n",
       "      <th>3</th>\n",
       "      <td>2</td>\n",
       "      <td>149</td>\n",
       "      <td>2_كيبل رياض_رياض_كيبل_ac</td>\n",
       "      <td>[كيبل رياض, رياض, كيبل, ac, iec, سرايا, dc, xt...</td>\n",
       "      <td>[كيبل رياض مسلح sta xlpe pvc, كيبل رياض مسلح s...</td>\n",
       "    </tr>\n",
       "    <tr>\n",
       "      <th>4</th>\n",
       "      <td>3</td>\n",
       "      <td>115</td>\n",
       "      <td>3_صاج اسود_اسود صاج_صاج_اسود</td>\n",
       "      <td>[صاج اسود, اسود صاج, صاج, اسود, املس, غراء, وي...</td>\n",
       "      <td>[صاج اسود, صاج اسود, صاج اسود]</td>\n",
       "    </tr>\n",
       "    <tr>\n",
       "      <th>5</th>\n",
       "      <td>4</td>\n",
       "      <td>115</td>\n",
       "      <td>4_concrete_copper_الخرسانيه_الواح الخرسانيه مع...</td>\n",
       "      <td>[concrete, copper, الخرسانيه, الواح الخرسانيه ...</td>\n",
       "      <td>[توريد مواد تقني الواح الخرسانيه معزوله ثلاثي ...</td>\n",
       "    </tr>\n",
       "    <tr>\n",
       "      <th>6</th>\n",
       "      <td>5</td>\n",
       "      <td>83</td>\n",
       "      <td>5_سابك حديد تسليح_حديد تسليح سابك_تسليح سابك_س...</td>\n",
       "      <td>[سابك حديد تسليح, حديد تسليح سابك, تسليح سابك,...</td>\n",
       "      <td>[حديد تسليح سابك, حديد تسليح سابك, حديد تسليح ...</td>\n",
       "    </tr>\n",
       "    <tr>\n",
       "      <th>7</th>\n",
       "      <td>6</td>\n",
       "      <td>81</td>\n",
       "      <td>6_ppr_pipe_tahweeltm_ppr tahweeltm</td>\n",
       "      <td>[ppr, pipe, tahweeltm, ppr tahweeltm, tee ppr,...</td>\n",
       "      <td>[equal tee ppr tahweeltm, ppr pipe, ppr pipe]</td>\n",
       "    </tr>\n",
       "    <tr>\n",
       "      <th>8</th>\n",
       "      <td>7</td>\n",
       "      <td>81</td>\n",
       "      <td>7_صاج حديد_اسود صاج_صاج_اسود</td>\n",
       "      <td>[صاج حديد, اسود صاج, صاج, اسود, حديد, مجلفن صا...</td>\n",
       "      <td>[صاج حديد اسود, صاج حديد اسود, صاج حديد اسود]</td>\n",
       "    </tr>\n",
       "    <tr>\n",
       "      <th>9</th>\n",
       "      <td>8</td>\n",
       "      <td>80</td>\n",
       "      <td>8_اتفاق حديد_اتفاق_حديد تسليح_تسليح</td>\n",
       "      <td>[اتفاق حديد, اتفاق, حديد تسليح, تسليح, حديد, ض...</td>\n",
       "      <td>[حديد تسليح اتفاق, حديد تسليح اتفاق, حديد تسلي...</td>\n",
       "    </tr>\n",
       "    <tr>\n",
       "      <th>10</th>\n",
       "      <td>9</td>\n",
       "      <td>79</td>\n",
       "      <td>9_aquaterra_elbow_ppr_aquaterra ppr</td>\n",
       "      <td>[aquaterra, elbow, ppr, aquaterra ppr, adaptor...</td>\n",
       "      <td>[aquaterra ppr elbow, aquaterra ppr female elb...</td>\n",
       "    </tr>\n",
       "    <tr>\n",
       "      <th>11</th>\n",
       "      <td>10</td>\n",
       "      <td>76</td>\n",
       "      <td>10_مجدول_تسليح مجدول_حديد تسليح مجدول_saudi</td>\n",
       "      <td>[مجدول, تسليح مجدول, حديد تسليح مجدول, saudi, ...</td>\n",
       "      <td>[حديد تسليح مجدول سعودي سابك, حديد تسليح مجدول...</td>\n",
       "    </tr>\n",
       "    <tr>\n",
       "      <th>12</th>\n",
       "      <td>11</td>\n",
       "      <td>70</td>\n",
       "      <td>11_steel_end sch_welded pipe_welded</td>\n",
       "      <td>[steel, end sch, welded pipe, welded, sch, end...</td>\n",
       "      <td>[bpe welded pipe plain end sch, bpe welded pip...</td>\n",
       "    </tr>\n",
       "    <tr>\n",
       "      <th>13</th>\n",
       "      <td>12</td>\n",
       "      <td>68</td>\n",
       "      <td>12_wire_cu_cable_cu xlpe</td>\n",
       "      <td>[wire, cu, cable, cu xlpe, pvc, xlpe, riyadh, ...</td>\n",
       "      <td>[riyadh cable cu xlpe pvc kv black, riyadh cab...</td>\n",
       "    </tr>\n",
       "    <tr>\n",
       "      <th>14</th>\n",
       "      <td>13</td>\n",
       "      <td>62</td>\n",
       "      <td>13_xt_kit_xt xt_stand</td>\n",
       "      <td>[xt, kit, xt xt, stand, trans, ات, trans ات, ت...</td>\n",
       "      <td>[xt tmd, xt tmg, xt tmd]</td>\n",
       "    </tr>\n",
       "    <tr>\n",
       "      <th>15</th>\n",
       "      <td>14</td>\n",
       "      <td>56</td>\n",
       "      <td>14_pcs_aluminium_bars_coupling</td>\n",
       "      <td>[pcs, aluminium, bars, coupling, pvc, كهربائي,...</td>\n",
       "      <td>[aluminium profile bars pcs, aluminium profile...</td>\n",
       "    </tr>\n",
       "    <tr>\n",
       "      <th>16</th>\n",
       "      <td>15</td>\n",
       "      <td>56</td>\n",
       "      <td>15_حديد ويل_ماسوره حديد_حديد ماسوره حديد_حديد ...</td>\n",
       "      <td>[حديد ويل, ماسوره حديد, حديد ماسوره حديد, حديد...</td>\n",
       "      <td>[حديد ويل, حديد ويل, حديد ويل]</td>\n",
       "    </tr>\n",
       "    <tr>\n",
       "      <th>17</th>\n",
       "      <td>16</td>\n",
       "      <td>54</td>\n",
       "      <td>16_black deformed straight_black deformed_itti...</td>\n",
       "      <td>[black deformed straight, black deformed, itti...</td>\n",
       "      <td>[black deformed straight bar ittifaq, black de...</td>\n",
       "    </tr>\n",
       "    <tr>\n",
       "      <th>18</th>\n",
       "      <td>17</td>\n",
       "      <td>49</td>\n",
       "      <td>17_sheet_sheet hr_hr_gr</td>\n",
       "      <td>[sheet, sheet hr, hr, gr, gi, sheet gi, sabic ...</td>\n",
       "      <td>[hr sheet, hr sheet, hr sheet]</td>\n",
       "    </tr>\n",
       "    <tr>\n",
       "      <th>19</th>\n",
       "      <td>18</td>\n",
       "      <td>48</td>\n",
       "      <td>18_bar sabic_sabic_black deformed straight_bla...</td>\n",
       "      <td>[bar sabic, sabic, black deformed straight, bl...</td>\n",
       "      <td>[black deformed straight bar sabic, black defo...</td>\n",
       "    </tr>\n",
       "    <tr>\n",
       "      <th>20</th>\n",
       "      <td>19</td>\n",
       "      <td>48</td>\n",
       "      <td>19_وطني حديد_وطني_وطني حديد تسليح_حديد تسليح</td>\n",
       "      <td>[وطني حديد, وطني, وطني حديد تسليح, حديد تسليح,...</td>\n",
       "      <td>[حديد تسليح وطني, حديد تسليح وطني, حديد تسليح ...</td>\n",
       "    </tr>\n",
       "    <tr>\n",
       "      <th>21</th>\n",
       "      <td>20</td>\n",
       "      <td>43</td>\n",
       "      <td>20_راجحي حديد_راجحي_راجحي حديد تسليح_نظامي</td>\n",
       "      <td>[راجحي حديد, راجحي, راجحي حديد تسليح, نظامي, w...</td>\n",
       "      <td>[حديد تسليح راجحي, حديد تسليح راجحي, حديد تسلي...</td>\n",
       "    </tr>\n",
       "    <tr>\n",
       "      <th>22</th>\n",
       "      <td>21</td>\n",
       "      <td>38</td>\n",
       "      <td>21_hdg_osf_hdg osf tray_hdg osf</td>\n",
       "      <td>[hdg, osf, hdg osf tray, hdg osf, osf tray, tr...</td>\n",
       "      <td>[hdg osf tray cover thick length, hdg osf tray...</td>\n",
       "    </tr>\n",
       "    <tr>\n",
       "      <th>23</th>\n",
       "      <td>22</td>\n",
       "      <td>37</td>\n",
       "      <td>22_تسليح حديد_حديد تسليح حديد_تسليح حديد تسليح_سد</td>\n",
       "      <td>[تسليح حديد, حديد تسليح حديد, تسليح حديد تسليح...</td>\n",
       "      <td>[سد اختبار, حديد تسليح نظامي سد جريد, حديد تسل...</td>\n",
       "    </tr>\n",
       "    <tr>\n",
       "      <th>24</th>\n",
       "      <td>23</td>\n",
       "      <td>36</td>\n",
       "      <td>23_ekip_dip_ekip dip_xt</td>\n",
       "      <td>[ekip, dip, ekip dip, xt, ct, ext, ekip dip ls...</td>\n",
       "      <td>[xt ekip dip ls, xt ekip dip ls, xt ekip dip ls]</td>\n",
       "    </tr>\n",
       "    <tr>\n",
       "      <th>25</th>\n",
       "      <td>24</td>\n",
       "      <td>35</td>\n",
       "      <td>24_steel_bar_reinforcement steel_reinforcement</td>\n",
       "      <td>[steel, bar, reinforcement steel, reinforcemen...</td>\n",
       "      <td>[reinforcing steel bar ittfaq, reinforcing ste...</td>\n",
       "    </tr>\n",
       "    <tr>\n",
       "      <th>26</th>\n",
       "      <td>25</td>\n",
       "      <td>35</td>\n",
       "      <td>25_cr_cr deformed_straight_straight bar</td>\n",
       "      <td>[cr, cr deformed, straight, straight bar, defo...</td>\n",
       "      <td>[deformed straight bar cr, deformed straight b...</td>\n",
       "    </tr>\n",
       "    <tr>\n",
       "      <th>27</th>\n",
       "      <td>26</td>\n",
       "      <td>34</td>\n",
       "      <td>26_ويل_املس_مرابيع_سابك</td>\n",
       "      <td>[ويل, املس, مرابيع, سابك, ويل املس, توريد, لفه...</td>\n",
       "      <td>[ويل تسليح املس سابك, ويل تسليح املس سابك, ويل...</td>\n",
       "    </tr>\n",
       "    <tr>\n",
       "      <th>28</th>\n",
       "      <td>27</td>\n",
       "      <td>33</td>\n",
       "      <td>27_size_mx_bearing_non</td>\n",
       "      <td>[size, mx, bearing, non, ball, hub, ring, lock...</td>\n",
       "      <td>[brake chamber mx configuration assy lh size n...</td>\n",
       "    </tr>\n",
       "    <tr>\n",
       "      <th>29</th>\n",
       "      <td>28</td>\n",
       "      <td>33</td>\n",
       "      <td>28_ماسوره_ماسوره اسود_طول_نيبرو</td>\n",
       "      <td>[ماسوره, ماسوره اسود, طول, نيبرو, رمادي, class...</td>\n",
       "      <td>[ماسوره اسود, ماسوره اسود, ماسوره اسود]</td>\n",
       "    </tr>\n",
       "    <tr>\n",
       "      <th>30</th>\n",
       "      <td>29</td>\n",
       "      <td>32</td>\n",
       "      <td>29_ماسوره حديد ماسوره_حديد ماسوره حديد_حديد ما...</td>\n",
       "      <td>[ماسوره حديد ماسوره, حديد ماسوره حديد, حديد ما...</td>\n",
       "      <td>[ماسوره حديد, ماسوره حديد, ماسوره حديد]</td>\n",
       "    </tr>\n",
       "    <tr>\n",
       "      <th>31</th>\n",
       "      <td>30</td>\n",
       "      <td>31</td>\n",
       "      <td>30_tube_astm_plain_astm grade</td>\n",
       "      <td>[tube, astm, plain, astm grade, grade, ms, squ...</td>\n",
       "      <td>[square tube astm grade, square tube astm grad...</td>\n",
       "    </tr>\n",
       "    <tr>\n",
       "      <th>32</th>\n",
       "      <td>31</td>\n",
       "      <td>28</td>\n",
       "      <td>31_long_hdg_ups_rt</td>\n",
       "      <td>[long, hdg, ups, rt, ip, rails, holes hdg, hol...</td>\n",
       "      <td>[apc smart ups rt kva rm, hdg angel length cut...</td>\n",
       "    </tr>\n",
       "    <tr>\n",
       "      <th>33</th>\n",
       "      <td>32</td>\n",
       "      <td>27</td>\n",
       "      <td>32_xt_inn xt_inn_</td>\n",
       "      <td>[xt, inn xt, inn, , , , , , , ]</td>\n",
       "      <td>[xt tma, xt tma, xt tma]</td>\n",
       "    </tr>\n",
       "    <tr>\n",
       "      <th>34</th>\n",
       "      <td>33</td>\n",
       "      <td>26</td>\n",
       "      <td>33_تحويل_حراري_rebar_قسام</td>\n",
       "      <td>[تحويل, حراري, rebar, قسام, كوع, جلب, ittefaq ...</td>\n",
       "      <td>[ماسوره حراري تحويل, ماسوره حراري تحويل, ماسور...</td>\n",
       "    </tr>\n",
       "    <tr>\n",
       "      <th>35</th>\n",
       "      <td>34</td>\n",
       "      <td>26</td>\n",
       "      <td>34_coil_lg_coil sabic_hr</td>\n",
       "      <td>[coil, lg, coil sabic, hr, ph, gi, coils, sabi...</td>\n",
       "      <td>[hr coil slasher, coil hr sabic slitting, coil...</td>\n",
       "    </tr>\n",
       "    <tr>\n",
       "      <th>36</th>\n",
       "      <td>35</td>\n",
       "      <td>26</td>\n",
       "      <td>35_حديد سابك_سابك حديد_سابك_حديد</td>\n",
       "      <td>[حديد سابك, سابك حديد, سابك, حديد, mys, ربل, ,...</td>\n",
       "      <td>[حديد سابك, حديد سابك, حديد سابك]</td>\n",
       "    </tr>\n",
       "    <tr>\n",
       "      <th>37</th>\n",
       "      <td>36</td>\n",
       "      <td>26</td>\n",
       "      <td>36____</td>\n",
       "      <td>[, , , , , , , , , ]</td>\n",
       "      <td>[S201-C10, S202-C10, S201-C16]</td>\n",
       "    </tr>\n",
       "  </tbody>\n",
       "</table>\n",
       "</div>"
      ],
      "text/plain": [
       "    Topic  Count                                               Name  \\\n",
       "0      -1    835                           -1_model_cut_مسحوب_cable   \n",
       "1       0    241                                              0____   \n",
       "2       1    158                           1_مجلفن_washer_كوع_رمادي   \n",
       "3       2    149                           2_كيبل رياض_رياض_كيبل_ac   \n",
       "4       3    115                       3_صاج اسود_اسود صاج_صاج_اسود   \n",
       "5       4    115  4_concrete_copper_الخرسانيه_الواح الخرسانيه مع...   \n",
       "6       5     83  5_سابك حديد تسليح_حديد تسليح سابك_تسليح سابك_س...   \n",
       "7       6     81                 6_ppr_pipe_tahweeltm_ppr tahweeltm   \n",
       "8       7     81                       7_صاج حديد_اسود صاج_صاج_اسود   \n",
       "9       8     80                8_اتفاق حديد_اتفاق_حديد تسليح_تسليح   \n",
       "10      9     79                9_aquaterra_elbow_ppr_aquaterra ppr   \n",
       "11     10     76        10_مجدول_تسليح مجدول_حديد تسليح مجدول_saudi   \n",
       "12     11     70                11_steel_end sch_welded pipe_welded   \n",
       "13     12     68                           12_wire_cu_cable_cu xlpe   \n",
       "14     13     62                              13_xt_kit_xt xt_stand   \n",
       "15     14     56                     14_pcs_aluminium_bars_coupling   \n",
       "16     15     56  15_حديد ويل_ماسوره حديد_حديد ماسوره حديد_حديد ...   \n",
       "17     16     54  16_black deformed straight_black deformed_itti...   \n",
       "18     17     49                            17_sheet_sheet hr_hr_gr   \n",
       "19     18     48  18_bar sabic_sabic_black deformed straight_bla...   \n",
       "20     19     48       19_وطني حديد_وطني_وطني حديد تسليح_حديد تسليح   \n",
       "21     20     43         20_راجحي حديد_راجحي_راجحي حديد تسليح_نظامي   \n",
       "22     21     38                    21_hdg_osf_hdg osf tray_hdg osf   \n",
       "23     22     37  22_تسليح حديد_حديد تسليح حديد_تسليح حديد تسليح_سد   \n",
       "24     23     36                            23_ekip_dip_ekip dip_xt   \n",
       "25     24     35     24_steel_bar_reinforcement steel_reinforcement   \n",
       "26     25     35            25_cr_cr deformed_straight_straight bar   \n",
       "27     26     34                            26_ويل_املس_مرابيع_سابك   \n",
       "28     27     33                             27_size_mx_bearing_non   \n",
       "29     28     33                    28_ماسوره_ماسوره اسود_طول_نيبرو   \n",
       "30     29     32  29_ماسوره حديد ماسوره_حديد ماسوره حديد_حديد ما...   \n",
       "31     30     31                      30_tube_astm_plain_astm grade   \n",
       "32     31     28                                 31_long_hdg_ups_rt   \n",
       "33     32     27                                  32_xt_inn xt_inn_   \n",
       "34     33     26                          33_تحويل_حراري_rebar_قسام   \n",
       "35     34     26                           34_coil_lg_coil sabic_hr   \n",
       "36     35     26                   35_حديد سابك_سابك حديد_سابك_حديد   \n",
       "37     36     26                                             36____   \n",
       "\n",
       "                                       Representation  \\\n",
       "0   [model, cut, مسحوب, cable, rebar cut, wall, سو...   \n",
       "1                                [, , , , , , , , , ]   \n",
       "2   [مجلفن, washer, كوع, رمادي, منار, براغ, سلك, n...   \n",
       "3   [كيبل رياض, رياض, كيبل, ac, iec, سرايا, dc, xt...   \n",
       "4   [صاج اسود, اسود صاج, صاج, اسود, املس, غراء, وي...   \n",
       "5   [concrete, copper, الخرسانيه, الواح الخرسانيه ...   \n",
       "6   [سابك حديد تسليح, حديد تسليح سابك, تسليح سابك,...   \n",
       "7   [ppr, pipe, tahweeltm, ppr tahweeltm, tee ppr,...   \n",
       "8   [صاج حديد, اسود صاج, صاج, اسود, حديد, مجلفن صا...   \n",
       "9   [اتفاق حديد, اتفاق, حديد تسليح, تسليح, حديد, ض...   \n",
       "10  [aquaterra, elbow, ppr, aquaterra ppr, adaptor...   \n",
       "11  [مجدول, تسليح مجدول, حديد تسليح مجدول, saudi, ...   \n",
       "12  [steel, end sch, welded pipe, welded, sch, end...   \n",
       "13  [wire, cu, cable, cu xlpe, pvc, xlpe, riyadh, ...   \n",
       "14  [xt, kit, xt xt, stand, trans, ات, trans ات, ت...   \n",
       "15  [pcs, aluminium, bars, coupling, pvc, كهربائي,...   \n",
       "16  [حديد ويل, ماسوره حديد, حديد ماسوره حديد, حديد...   \n",
       "17  [black deformed straight, black deformed, itti...   \n",
       "18  [sheet, sheet hr, hr, gr, gi, sheet gi, sabic ...   \n",
       "19  [bar sabic, sabic, black deformed straight, bl...   \n",
       "20  [وطني حديد, وطني, وطني حديد تسليح, حديد تسليح,...   \n",
       "21  [راجحي حديد, راجحي, راجحي حديد تسليح, نظامي, w...   \n",
       "22  [hdg, osf, hdg osf tray, hdg osf, osf tray, tr...   \n",
       "23  [تسليح حديد, حديد تسليح حديد, تسليح حديد تسليح...   \n",
       "24  [ekip, dip, ekip dip, xt, ct, ext, ekip dip ls...   \n",
       "25  [steel, bar, reinforcement steel, reinforcemen...   \n",
       "26  [cr, cr deformed, straight, straight bar, defo...   \n",
       "27  [ويل, املس, مرابيع, سابك, ويل املس, توريد, لفه...   \n",
       "28  [size, mx, bearing, non, ball, hub, ring, lock...   \n",
       "29  [ماسوره, ماسوره اسود, طول, نيبرو, رمادي, class...   \n",
       "30  [ماسوره حديد ماسوره, حديد ماسوره حديد, حديد ما...   \n",
       "31  [tube, astm, plain, astm grade, grade, ms, squ...   \n",
       "32  [long, hdg, ups, rt, ip, rails, holes hdg, hol...   \n",
       "33                    [xt, inn xt, inn, , , , , , , ]   \n",
       "34  [تحويل, حراري, rebar, قسام, كوع, جلب, ittefaq ...   \n",
       "35  [coil, lg, coil sabic, hr, ph, gi, coils, sabi...   \n",
       "36  [حديد سابك, سابك حديد, سابك, حديد, mys, ربل, ,...   \n",
       "37                               [, , , , , , , , , ]   \n",
       "\n",
       "                                  Representative_Docs  \n",
       "0   [weicco rubber lined split clamp model wsc, we...  \n",
       "1                         [unknown, unknown, unknown]  \n",
       "2   [جلب منار احمر, جلب منار احمر, كوع زاويه منار ...  \n",
       "3   [كيبل رياض مسلح sta xlpe pvc, كيبل رياض مسلح s...  \n",
       "4                      [صاج اسود, صاج اسود, صاج اسود]  \n",
       "5   [توريد مواد تقني الواح الخرسانيه معزوله ثلاثي ...  \n",
       "6   [حديد تسليح سابك, حديد تسليح سابك, حديد تسليح ...  \n",
       "7       [equal tee ppr tahweeltm, ppr pipe, ppr pipe]  \n",
       "8       [صاج حديد اسود, صاج حديد اسود, صاج حديد اسود]  \n",
       "9   [حديد تسليح اتفاق, حديد تسليح اتفاق, حديد تسلي...  \n",
       "10  [aquaterra ppr elbow, aquaterra ppr female elb...  \n",
       "11  [حديد تسليح مجدول سعودي سابك, حديد تسليح مجدول...  \n",
       "12  [bpe welded pipe plain end sch, bpe welded pip...  \n",
       "13  [riyadh cable cu xlpe pvc kv black, riyadh cab...  \n",
       "14                           [xt tmd, xt tmg, xt tmd]  \n",
       "15  [aluminium profile bars pcs, aluminium profile...  \n",
       "16                     [حديد ويل, حديد ويل, حديد ويل]  \n",
       "17  [black deformed straight bar ittifaq, black de...  \n",
       "18                     [hr sheet, hr sheet, hr sheet]  \n",
       "19  [black deformed straight bar sabic, black defo...  \n",
       "20  [حديد تسليح وطني, حديد تسليح وطني, حديد تسليح ...  \n",
       "21  [حديد تسليح راجحي, حديد تسليح راجحي, حديد تسلي...  \n",
       "22  [hdg osf tray cover thick length, hdg osf tray...  \n",
       "23  [سد اختبار, حديد تسليح نظامي سد جريد, حديد تسل...  \n",
       "24   [xt ekip dip ls, xt ekip dip ls, xt ekip dip ls]  \n",
       "25  [reinforcing steel bar ittfaq, reinforcing ste...  \n",
       "26  [deformed straight bar cr, deformed straight b...  \n",
       "27  [ويل تسليح املس سابك, ويل تسليح املس سابك, ويل...  \n",
       "28  [brake chamber mx configuration assy lh size n...  \n",
       "29            [ماسوره اسود, ماسوره اسود, ماسوره اسود]  \n",
       "30            [ماسوره حديد, ماسوره حديد, ماسوره حديد]  \n",
       "31  [square tube astm grade, square tube astm grad...  \n",
       "32  [apc smart ups rt kva rm, hdg angel length cut...  \n",
       "33                           [xt tma, xt tma, xt tma]  \n",
       "34  [ماسوره حراري تحويل, ماسوره حراري تحويل, ماسور...  \n",
       "35  [hr coil slasher, coil hr sabic slitting, coil...  \n",
       "36                  [حديد سابك, حديد سابك, حديد سابك]  \n",
       "37                     [S201-C10, S202-C10, S201-C16]  "
      ]
     },
     "execution_count": 113,
     "metadata": {},
     "output_type": "execute_result"
    }
   ],
   "source": [
    "en_stop = set(__import__('sklearn').feature_extraction.text.ENGLISH_STOP_WORDS)\n",
    "stop_words = list(en_stop | AR_STOP)\n",
    "\n",
    "# 1) Load preprocessed texts\n",
    "texts = df[\"Combined\"].astype(str).tolist() \n",
    "\n",
    "# 2) Multilingual embeddings (CPU okay)\n",
    "embedder = SentenceTransformer(\"paraphrase-multilingual-MiniLM-L12-v2\")\n",
    "\n",
    "# 3) Vectorizer tuned for short text\n",
    "vectorizer_model = CountVectorizer(\n",
    "    ngram_range=(1,3), min_df=2, stop_words=stop_words\n",
    ")\n",
    "\n",
    "# 4) UMAP + HDBSCAN\n",
    "umap_model = UMAP(n_neighbors=15, n_components=5, metric=\"cosine\", random_state=42)\n",
    "hdbscan_model = hdbscan.HDBSCAN(min_cluster_size=25, metric='euclidean',\n",
    "                                cluster_selection_method='eom', prediction_data=True)\n",
    "\n",
    "# 5) Build BERTopic\n",
    "topic_model = BERTopic(\n",
    "    embedding_model=embedder,\n",
    "    vectorizer_model=vectorizer_model,\n",
    "    umap_model=umap_model,\n",
    "    hdbscan_model=hdbscan_model,\n",
    "    calculate_probabilities=True,\n",
    "    verbose=False\n",
    ")\n",
    "\n",
    "topics, probs = topic_model.fit_transform(texts)\n",
    "\n",
    "# Inspect\n",
    "topic_info = topic_model.get_topic_info()     # topic sizes + labels\n",
    "top_words_0 = topic_model.get_topic(0)        # [(word, weight), ...]\n",
    "topic_info"
   ]
  },
  {
   "cell_type": "code",
   "execution_count": 114,
   "id": "634f79fa",
   "metadata": {},
   "outputs": [
    {
     "name": "stderr",
     "output_type": "stream",
     "text": [
      "Batches: 100%|██████████| 50/50 [00:22<00:00,  2.27it/s]\n",
      "2025-09-09 22:57:27,413 - BERTopic - Dimensionality - Fitting the dimensionality reduction algorithm\n",
      "2025-09-09 22:57:40,974 - BERTopic - Dimensionality - Completed ✓\n",
      "2025-09-09 22:57:40,976 - BERTopic - Cluster - Start clustering the reduced embeddings\n",
      "2025-09-09 22:57:41,153 - BERTopic - Cluster - Completed ✓\n",
      "2025-09-09 22:57:41,153 - BERTopic - Representation - Fine-tuning topics using representation models.\n",
      "2025-09-09 22:57:44,146 - BERTopic - Representation - Completed ✓\n"
     ]
    },
    {
     "data": {
      "text/html": [
       "<div>\n",
       "<style scoped>\n",
       "    .dataframe tbody tr th:only-of-type {\n",
       "        vertical-align: middle;\n",
       "    }\n",
       "\n",
       "    .dataframe tbody tr th {\n",
       "        vertical-align: top;\n",
       "    }\n",
       "\n",
       "    .dataframe thead th {\n",
       "        text-align: right;\n",
       "    }\n",
       "</style>\n",
       "<table border=\"1\" class=\"dataframe\">\n",
       "  <thead>\n",
       "    <tr style=\"text-align: right;\">\n",
       "      <th></th>\n",
       "      <th>Topic</th>\n",
       "      <th>Count</th>\n",
       "      <th>Name</th>\n",
       "      <th>Representation</th>\n",
       "      <th>Representative_Docs</th>\n",
       "    </tr>\n",
       "  </thead>\n",
       "  <tbody>\n",
       "    <tr>\n",
       "      <th>0</th>\n",
       "      <td>-1</td>\n",
       "      <td>565</td>\n",
       "      <td>-1_ms_tray_hdg_class</td>\n",
       "      <td>[ms, tray, hdg, class, tee, mada, square, ppr,...</td>\n",
       "      <td>[cable tray horizontal unequal tee mmwx hx thk...</td>\n",
       "    </tr>\n",
       "    <tr>\n",
       "      <th>1</th>\n",
       "      <td>0</td>\n",
       "      <td>241</td>\n",
       "      <td>0____</td>\n",
       "      <td>[, , , , , , , , , ]</td>\n",
       "      <td>[unknown, unknown, unknown]</td>\n",
       "    </tr>\n",
       "    <tr>\n",
       "      <th>2</th>\n",
       "      <td>1</td>\n",
       "      <td>116</td>\n",
       "      <td>1_سرايا_اسود_ربل_ماسوره اسود</td>\n",
       "      <td>[سرايا, اسود, ربل, ماسوره اسود, قاطع, كيبل, زا...</td>\n",
       "      <td>[درف شنكل سرايا اسود, درف مفصلات سرايا صغير اس...</td>\n",
       "    </tr>\n",
       "    <tr>\n",
       "      <th>3</th>\n",
       "      <td>2</td>\n",
       "      <td>96</td>\n",
       "      <td>2_تسليح سابك_سابك حديد_سابك_حديد تسليح</td>\n",
       "      <td>[تسليح سابك, سابك حديد, سابك, حديد تسليح, تسلي...</td>\n",
       "      <td>[حديد تسليح سابك, حديد تسليح سابك, حديد تسليح ...</td>\n",
       "    </tr>\n",
       "    <tr>\n",
       "      <th>4</th>\n",
       "      <td>3</td>\n",
       "      <td>84</td>\n",
       "      <td>3_اتفاق_حديد تسليح_تسليح_حديد</td>\n",
       "      <td>[اتفاق, حديد تسليح, تسليح, حديد, حديد اتفاق, م...</td>\n",
       "      <td>[حديد تسليح اتفاق, حديد تسليح اتفاق, حديد تسلي...</td>\n",
       "    </tr>\n",
       "    <tr>\n",
       "      <th>...</th>\n",
       "      <td>...</td>\n",
       "      <td>...</td>\n",
       "      <td>...</td>\n",
       "      <td>...</td>\n",
       "      <td>...</td>\n",
       "    </tr>\n",
       "    <tr>\n",
       "      <th>62</th>\n",
       "      <td>61</td>\n",
       "      <td>19</td>\n",
       "      <td>61_مجلفن_براغ_صاج حديد_صاج</td>\n",
       "      <td>[مجلفن, براغ, صاج حديد, صاج, معدني, تصنيع, اعم...</td>\n",
       "      <td>[براغ مجلفن, براغ مجلفن, براغ مجلفن]</td>\n",
       "    </tr>\n",
       "    <tr>\n",
       "      <th>63</th>\n",
       "      <td>62</td>\n",
       "      <td>19</td>\n",
       "      <td>62_صاج حديد_صاج_حديد_</td>\n",
       "      <td>[صاج حديد, صاج, حديد, , , , , , , ]</td>\n",
       "      <td>[صاج حديد, صاج حديد, صاج حديد]</td>\n",
       "    </tr>\n",
       "    <tr>\n",
       "      <th>64</th>\n",
       "      <td>63</td>\n",
       "      <td>18</td>\n",
       "      <td>63_copper_test_clamp for_copper tape</td>\n",
       "      <td>[copper, test, clamp for, copper tape, ends, e...</td>\n",
       "      <td>[copper bus bar, bare copper, bare copper]</td>\n",
       "    </tr>\n",
       "    <tr>\n",
       "      <th>65</th>\n",
       "      <td>64</td>\n",
       "      <td>17</td>\n",
       "      <td>64_bar watani_watani_black deformed_black</td>\n",
       "      <td>[bar watani, watani, black deformed, black, st...</td>\n",
       "      <td>[black deformed straight bar watani, black def...</td>\n",
       "    </tr>\n",
       "    <tr>\n",
       "      <th>66</th>\n",
       "      <td>65</td>\n",
       "      <td>16</td>\n",
       "      <td>65_ثلاثي_الخرسانيه_الواح_توريد</td>\n",
       "      <td>[ثلاثي, الخرسانيه, الواح, توريد, مواد, panel, ...</td>\n",
       "      <td>[فلل شرف توريد مواد تقني الواح الخرسانيه معزول...</td>\n",
       "    </tr>\n",
       "  </tbody>\n",
       "</table>\n",
       "<p>67 rows × 5 columns</p>\n",
       "</div>"
      ],
      "text/plain": [
       "    Topic  Count                                       Name  \\\n",
       "0      -1    565                       -1_ms_tray_hdg_class   \n",
       "1       0    241                                      0____   \n",
       "2       1    116               1_سرايا_اسود_ربل_ماسوره اسود   \n",
       "3       2     96     2_تسليح سابك_سابك حديد_سابك_حديد تسليح   \n",
       "4       3     84              3_اتفاق_حديد تسليح_تسليح_حديد   \n",
       "..    ...    ...                                        ...   \n",
       "62     61     19                 61_مجلفن_براغ_صاج حديد_صاج   \n",
       "63     62     19                      62_صاج حديد_صاج_حديد_   \n",
       "64     63     18       63_copper_test_clamp for_copper tape   \n",
       "65     64     17  64_bar watani_watani_black deformed_black   \n",
       "66     65     16             65_ثلاثي_الخرسانيه_الواح_توريد   \n",
       "\n",
       "                                       Representation  \\\n",
       "0   [ms, tray, hdg, class, tee, mada, square, ppr,...   \n",
       "1                                [, , , , , , , , , ]   \n",
       "2   [سرايا, اسود, ربل, ماسوره اسود, قاطع, كيبل, زا...   \n",
       "3   [تسليح سابك, سابك حديد, سابك, حديد تسليح, تسلي...   \n",
       "4   [اتفاق, حديد تسليح, تسليح, حديد, حديد اتفاق, م...   \n",
       "..                                                ...   \n",
       "62  [مجلفن, براغ, صاج حديد, صاج, معدني, تصنيع, اعم...   \n",
       "63                [صاج حديد, صاج, حديد, , , , , , , ]   \n",
       "64  [copper, test, clamp for, copper tape, ends, e...   \n",
       "65  [bar watani, watani, black deformed, black, st...   \n",
       "66  [ثلاثي, الخرسانيه, الواح, توريد, مواد, panel, ...   \n",
       "\n",
       "                                  Representative_Docs  \n",
       "0   [cable tray horizontal unequal tee mmwx hx thk...  \n",
       "1                         [unknown, unknown, unknown]  \n",
       "2   [درف شنكل سرايا اسود, درف مفصلات سرايا صغير اس...  \n",
       "3   [حديد تسليح سابك, حديد تسليح سابك, حديد تسليح ...  \n",
       "4   [حديد تسليح اتفاق, حديد تسليح اتفاق, حديد تسلي...  \n",
       "..                                                ...  \n",
       "62               [براغ مجلفن, براغ مجلفن, براغ مجلفن]  \n",
       "63                     [صاج حديد, صاج حديد, صاج حديد]  \n",
       "64         [copper bus bar, bare copper, bare copper]  \n",
       "65  [black deformed straight bar watani, black def...  \n",
       "66  [فلل شرف توريد مواد تقني الواح الخرسانيه معزول...  \n",
       "\n",
       "[67 rows x 5 columns]"
      ]
     },
     "execution_count": 114,
     "metadata": {},
     "output_type": "execute_result"
    }
   ],
   "source": [
    "from bertopic import BERTopic\n",
    "from bertopic.representation import KeyBERTInspired, MaximalMarginalRelevance\n",
    "from bertopic.vectorizers import ClassTfidfTransformer\n",
    "from bertopic._utils import MyLogger\n",
    "from bertopic.backend import BaseEmbedder\n",
    "from bertopic.dimensionality import BaseDimensionalityReduction\n",
    "\n",
    "from sentence_transformers import SentenceTransformer\n",
    "from sklearn.feature_extraction.text import CountVectorizer\n",
    "from sklearn.metrics import silhouette_score\n",
    "from sklearn.cluster import KMeans as SKKMeans\n",
    "import numpy as np\n",
    "import re, math\n",
    "\n",
    "# --- Your corpus ---\n",
    "texts = df[\"Combined\"].astype(str).tolist() \n",
    "\n",
    "# ---- Multilingual embedding model (good for Arabic + English + short phrases) ----\n",
    "# Alternatives to try: \"sentence-transformers/LaBSE\", \"sentence-transformers/paraphrase-multilingual-mpnet-base-v2\"\n",
    "EMBED_MODEL_NAME = \"sentence-transformers/distiluse-base-multilingual-cased-v2\"\n",
    "embedder = SentenceTransformer(EMBED_MODEL_NAME)\n",
    "\n",
    "def embed(texts):\n",
    "    return embedder.encode(texts, batch_size=64, show_progress_bar=True, normalize_embeddings=True)\n",
    "\n",
    "# ---- Vectorizer tuned for Arabic/English tokens and short docs ----\n",
    "# Token pattern keeps Arabic letters, English, digits, hyphen/dot (e.g., D3-PANEL, M12.5).\n",
    "token_pattern = r\"(?u)\\b[\\w\\u0600-\\u06FF][\\w\\-\\.\\u0600-\\u06FF]{0,}\\b\"\n",
    "\n",
    "vectorizer = CountVectorizer(\n",
    "    token_pattern=token_pattern,\n",
    "    ngram_range=(1, 2),   # bi-grams help short docs\n",
    "    min_df=2,             # cut pure singletons noise\n",
    "    lowercase=True\n",
    ")\n",
    "\n",
    "# ---- Embedding-based labeler (far better than c-TF-IDF for tiny docs) ----\n",
    "repr_model = KeyBERTInspired()  # uses the same embedding backend internally\n",
    "\n",
    "# (Optional) Encourage diversity in labels:\n",
    "# repr_model = MaximalMarginalRelevance(diversity=0.3)\n",
    "\n",
    "\n",
    "import hdbscan\n",
    "\n",
    "hdbscan_model = hdbscan.HDBSCAN(\n",
    "    min_cluster_size=15,          # tune up/down to change granularity\n",
    "    min_samples=None,             # None => equal to min_cluster_size by default\n",
    "    metric='euclidean',\n",
    "    prediction_data=True,         # <— enable soft probabilities\n",
    "    cluster_selection_method='eom'\n",
    ")\n",
    "\n",
    "topic_model = BERTopic(\n",
    "    embedding_model=embedder,\n",
    "    vectorizer_model=vectorizer,\n",
    "    representation_model=repr_model,\n",
    "    hdbscan_model=hdbscan_model,\n",
    "    verbose=True\n",
    ")\n",
    "\n",
    "embeddings = embed(texts)\n",
    "topics, probs = topic_model.fit_transform(texts, embeddings=embeddings)\n",
    "\n",
    "# Reassign (-1) using soft probabilities from HDBSCAN (enabled via prediction_data=True)\n",
    "# Strategy \"probabilities\" uses membership strengths; threshold ~0.25–0.35 works well on short docs.\n",
    "topics = topic_model.reduce_outliers(\n",
    "    documents=texts,\n",
    "    topics=topics,\n",
    "    probabilities=probs,\n",
    "    strategy=\"probabilities\",\n",
    "    threshold=0.0,        \n",
    "    embeddings=embeddings  \n",
    ")\n",
    "\n",
    "# Refresh labels after reassignment for cleaner c-TF-IDF windows (if you rely on them)\n",
    "topic_model.update_topics(texts, vectorizer_model=vectorizer)\n",
    "topic_model.generate_topic_labels(nr_words=4, topic_prefix=False)\n",
    "info = topic_model.get_topic_info()\n",
    "info"
   ]
  },
  {
   "cell_type": "code",
   "execution_count": 115,
   "id": "59683ca6",
   "metadata": {},
   "outputs": [
    {
     "ename": "SyntaxError",
     "evalue": "invalid syntax (2652875577.py, line 1)",
     "output_type": "error",
     "traceback": [
      "\u001b[1;36m  Cell \u001b[1;32mIn[115], line 1\u001b[1;36m\u001b[0m\n\u001b[1;33m    Dimension mismatch issue\u001b[0m\n\u001b[1;37m              ^\u001b[0m\n\u001b[1;31mSyntaxError\u001b[0m\u001b[1;31m:\u001b[0m invalid syntax\n"
     ]
    }
   ],
   "source": [
    "Dimension mismatch issue\n",
    "# from bertopic import BERTopic\n",
    "# from bertopic.representation import KeyBERTInspired\n",
    "# from sentence_transformers import SentenceTransformer\n",
    "# from sklearn.feature_extraction.text import TfidfVectorizer\n",
    "# from sklearn.decomposition import TruncatedSVD\n",
    "# from sklearn.preprocessing import normalize\n",
    "# from sklearn.cluster import KMeans, AgglomerativeClustering\n",
    "# from sklearn.metrics.pairwise import cosine_similarity\n",
    "# import numpy as np\n",
    "\n",
    "# # texts = [...]  # your ~3100 very short docs\n",
    "\n",
    "# # ---- 1) Multilingual sentence embedding (CPU) ----\n",
    "# # LaBSE = strongest AR/EN alignment (heavier). If you want faster, switch to paraphrase-multilingual-MiniLM-L12-v2\n",
    "# sbert = SentenceTransformer(\"sentence-transformers/LaBSE\")  # CPU OK\n",
    "# sbert_vecs = sbert.encode(texts, batch_size=128, show_progress_bar=True, normalize_embeddings=True)\n",
    "\n",
    "# # ---- 2) Char n-gram TF-IDF (subword-ish) + SVD compression (no gensim) ----\n",
    "# # Char-grams capture codes like \"M12x1.5\", \"XT-AC\", Arabic roots/patterns, misspellings, etc.\n",
    "# char_tfidf = TfidfVectorizer(analyzer=\"char_wb\", ngram_range=(3,5), min_df=2)  # tune min_df if needed\n",
    "# X_char = char_tfidf.fit_transform(texts)\n",
    "\n",
    "# # Compress to a dense, compact subword embedding\n",
    "# svd_dim = 256  # 128–256 is usually enough; CPU-friendly\n",
    "# svd = TruncatedSVD(n_components=svd_dim, random_state=42)\n",
    "# X_char_svd = svd.fit_transform(X_char)\n",
    "# X_char_svd = normalize(X_char_svd)\n",
    "\n",
    "# # ---- 3) Hybrid embedding: concatenate sentence (LaBSE) + subword (char-SVD) ----\n",
    "# emb = np.hstack([sbert_vecs, X_char_svd])  # shape (N, 768+256)\n",
    "\n",
    "# # ---- 4) K-Means (no UMAP, no -1s) ----\n",
    "# def estimate_k(n):  # stable default for short docs\n",
    "#     return max(12, int(round(np.sqrt(n))))\n",
    "\n",
    "# K = estimate_k(len(texts))\n",
    "# kmeans = KMeans(n_clusters=K, n_init=20, random_state=42)\n",
    "\n",
    "# topic_model = BERTopic(\n",
    "#     embedding_model=sbert,     # used by KeyBERTInspired for labeling\n",
    "#     umap_model=None,           # no UMAP\n",
    "#     hdbscan_model=kmeans,      # not using HDBSCAN\n",
    "#     vectorizer_model=None,     # optional (we're labeling via embeddings)\n",
    "#     representation_model=KeyBERTInspired(),\n",
    "#     calculate_probabilities=False,\n",
    "#     verbose=True\n",
    "# )\n",
    "\n",
    "# topics, _ = topic_model.fit_transform(texts, embeddings=emb)\n",
    "\n",
    "# # ---- 5) Merge near-duplicate topics via centroid similarity ----\n",
    "# labels = np.array(topics)\n",
    "# valid = labels >= 0\n",
    "# centroids = {}\n",
    "# for t in np.unique(labels[valid]):\n",
    "#     centroids[t] = emb[labels == t].mean(axis=0)\n",
    "# T = sorted(centroids.keys())\n",
    "# C = normalize(np.vstack([centroids[t] for t in T]))\n",
    "\n",
    "# # Agglomerative merge on 1 - cosine; lower threshold merges more clusters\n",
    "# dist = 1 - cosine_similarity(C)\n",
    "# agg = AgglomerativeClustering(\n",
    "#     n_clusters=None, affinity='precomputed', linkage='average', distance_threshold=0.22  # ~sim >= 0.78\n",
    "# )\n",
    "# merged_ids = agg.fit_predict(dist)\n",
    "\n",
    "# # Remap old topics -> merged super-topics\n",
    "# map_old_to_new = {old: int(new) for old, new in zip(T, merged_ids)}\n",
    "# super_topics = np.array([map_old_to_new[t] if t >= 0 else -1 for t in topics])\n",
    "\n",
    "# # Install merged assignments into the BERTopic model and relabel\n",
    "# topic_model.topics_ = super_topics.tolist()\n",
    "# topic_model.generate_topic_labels(nr_words=4, topic_prefix=False)\n",
    "\n",
    "# info = topic_model.get_topic_info()\n",
    "# print(info.head(15))\n"
   ]
  },
  {
   "cell_type": "code",
   "execution_count": null,
   "id": "e33ef650",
   "metadata": {},
   "outputs": [],
   "source": [
    "topic_model.visualize_topics()"
   ]
  },
  {
   "cell_type": "markdown",
   "id": "610cb0fe",
   "metadata": {},
   "source": [
    "#### Trying to fix above"
   ]
  },
  {
   "cell_type": "code",
   "execution_count": null,
   "id": "4a4e4476",
   "metadata": {},
   "outputs": [
    {
     "data": {
      "text/html": [
       "<div>\n",
       "<style scoped>\n",
       "    .dataframe tbody tr th:only-of-type {\n",
       "        vertical-align: middle;\n",
       "    }\n",
       "\n",
       "    .dataframe tbody tr th {\n",
       "        vertical-align: top;\n",
       "    }\n",
       "\n",
       "    .dataframe thead th {\n",
       "        text-align: right;\n",
       "    }\n",
       "</style>\n",
       "<table border=\"1\" class=\"dataframe\">\n",
       "  <thead>\n",
       "    <tr style=\"text-align: right;\">\n",
       "      <th></th>\n",
       "      <th>Topic</th>\n",
       "      <th>Count</th>\n",
       "      <th>Name</th>\n",
       "      <th>Representation</th>\n",
       "      <th>Representative_Docs</th>\n",
       "    </tr>\n",
       "  </thead>\n",
       "  <tbody>\n",
       "    <tr>\n",
       "      <th>0</th>\n",
       "      <td>0</td>\n",
       "      <td>331</td>\n",
       "      <td>0_pvc_wire_kv_class</td>\n",
       "      <td>[pvc, wire, kv, class, cable, motor, coupling,...</td>\n",
       "      <td>[bcc wire cu pvc ho yellow yr, bcc wire cu pvc...</td>\n",
       "    </tr>\n",
       "    <tr>\n",
       "      <th>1</th>\n",
       "      <td>1</td>\n",
       "      <td>292</td>\n",
       "      <td>1_hdg_thick_each_tray</td>\n",
       "      <td>[hdg, thick, each, tray, mada, bolt, tube, len...</td>\n",
       "      <td>[hdg osf tray thick length, hdg osf tray thick...</td>\n",
       "    </tr>\n",
       "    <tr>\n",
       "      <th>2</th>\n",
       "      <td>2</td>\n",
       "      <td>286</td>\n",
       "      <td>2_end_supply_with_top</td>\n",
       "      <td>[end, supply, with, top, single, and, wall, we...</td>\n",
       "      <td>[cable trunking unequal bend single compartmen...</td>\n",
       "    </tr>\n",
       "    <tr>\n",
       "      <th>3</th>\n",
       "      <td>3</td>\n",
       "      <td>254</td>\n",
       "      <td>3_panel_pcs_master_ms</td>\n",
       "      <td>[panel, pcs, master, ms, no, gr, ral, valve, p...</td>\n",
       "      <td>[توريد اكسسوارات الواح الخرسانيه معزوله ثلاثي ...</td>\n",
       "    </tr>\n",
       "    <tr>\n",
       "      <th>4</th>\n",
       "      <td>4</td>\n",
       "      <td>241</td>\n",
       "      <td>4____</td>\n",
       "      <td>[, , , , , , , , , , , , , , , , , , , , , , ,...</td>\n",
       "      <td>[unknown, unknown, unknown]</td>\n",
       "    </tr>\n",
       "    <tr>\n",
       "      <th>5</th>\n",
       "      <td>5</td>\n",
       "      <td>226</td>\n",
       "      <td>5_aw_iec_set_petromin</td>\n",
       "      <td>[aw, iec, set, petromin, oil, ac, class, of, l...</td>\n",
       "      <td>[petromin hydraulic oil aw, petromin hydraulic...</td>\n",
       "    </tr>\n",
       "    <tr>\n",
       "      <th>6</th>\n",
       "      <td>6</td>\n",
       "      <td>86</td>\n",
       "      <td>6_ppr_tee_thk_hx thk</td>\n",
       "      <td>[ppr, tee, thk, hx thk, hx, dn, ral, equal, eq...</td>\n",
       "      <td>[cable tray horizontal unequal tee mmwx hx thk...</td>\n",
       "    </tr>\n",
       "    <tr>\n",
       "      <th>7</th>\n",
       "      <td>7</td>\n",
       "      <td>76</td>\n",
       "      <td>7_btc_nya_aw_</td>\n",
       "      <td>[btc, nya, aw, , , , , , , , , , , , , , , , ,...</td>\n",
       "      <td>[براغ مربع فضي btc, براغ مربع فضي btc, براغ خش...</td>\n",
       "    </tr>\n",
       "    <tr>\n",
       "      <th>8</th>\n",
       "      <td>8</td>\n",
       "      <td>75</td>\n",
       "      <td>8_md_sabic__</td>\n",
       "      <td>[md, sabic, , , , , , , , , , , , , , , , , , ...</td>\n",
       "      <td>[حديد تسليح سابك, حديد تسليح sabic, حديد تسليح...</td>\n",
       "    </tr>\n",
       "    <tr>\n",
       "      <th>9</th>\n",
       "      <td>9</td>\n",
       "      <td>60</td>\n",
       "      <td>9____</td>\n",
       "      <td>[, , , , , , , , , , , , , , , , , , , , , , ,...</td>\n",
       "      <td>[ماسوره طول, ماسوره حديد, ماسوره حديد]</td>\n",
       "    </tr>\n",
       "    <tr>\n",
       "      <th>10</th>\n",
       "      <td>10</td>\n",
       "      <td>60</td>\n",
       "      <td>10____</td>\n",
       "      <td>[, , , , , , , , , , , , , , , , , , , , , , ,...</td>\n",
       "      <td>[صاج حديد اسود, صاج حديد اسود, صاج حديد اسود]</td>\n",
       "    </tr>\n",
       "    <tr>\n",
       "      <th>11</th>\n",
       "      <td>11</td>\n",
       "      <td>56</td>\n",
       "      <td>11____</td>\n",
       "      <td>[, , , , , , , , , , , , , , , , , , , , , , ,...</td>\n",
       "      <td>[حديد تسليح وطني, سجاد اكريلك منسوج عقد لباد و...</td>\n",
       "    </tr>\n",
       "    <tr>\n",
       "      <th>12</th>\n",
       "      <td>12</td>\n",
       "      <td>54</td>\n",
       "      <td>12_steel bar_steel_saudi_rebar</td>\n",
       "      <td>[steel bar, steel, saudi, rebar, ittefaq, bar,...</td>\n",
       "      <td>[reinforcing steel bar ittfaq, reinforcing ste...</td>\n",
       "    </tr>\n",
       "    <tr>\n",
       "      <th>13</th>\n",
       "      <td>13</td>\n",
       "      <td>54</td>\n",
       "      <td>13_xt___</td>\n",
       "      <td>[xt, , , , , , , , , , , , , , , , , , , , , ,...</td>\n",
       "      <td>[xt tmd, xt tmd, xt tmd]</td>\n",
       "    </tr>\n",
       "    <tr>\n",
       "      <th>14</th>\n",
       "      <td>14</td>\n",
       "      <td>48</td>\n",
       "      <td>14_bar sabic_sabic_black deformed straight_bla...</td>\n",
       "      <td>[bar sabic, sabic, black deformed straight, bl...</td>\n",
       "      <td>[black deformed straight bar sabic, black defo...</td>\n",
       "    </tr>\n",
       "    <tr>\n",
       "      <th>15</th>\n",
       "      <td>15</td>\n",
       "      <td>47</td>\n",
       "      <td>15____</td>\n",
       "      <td>[, , , , , , , , , , , , , , , , , , , , , , ,...</td>\n",
       "      <td>[صاج اسود, صاج اسود, صاج اسود]</td>\n",
       "    </tr>\n",
       "    <tr>\n",
       "      <th>16</th>\n",
       "      <td>16</td>\n",
       "      <td>46</td>\n",
       "      <td>16____</td>\n",
       "      <td>[, , , , , , , , , , , , , , , , , , , , , , ,...</td>\n",
       "      <td>[حديد سابك, سابك, حديد سابك]</td>\n",
       "    </tr>\n",
       "    <tr>\n",
       "      <th>17</th>\n",
       "      <td>17</td>\n",
       "      <td>45</td>\n",
       "      <td>17____</td>\n",
       "      <td>[, , , , , , , , , , , , , , , , , , , , , , ,...</td>\n",
       "      <td>[حديد تسليح اتفاق, حديد تسليح اتفاق, حديد تسلي...</td>\n",
       "    </tr>\n",
       "    <tr>\n",
       "      <th>18</th>\n",
       "      <td>18</td>\n",
       "      <td>42</td>\n",
       "      <td>18____</td>\n",
       "      <td>[, , , , , , , , , , , , , , , , , , , , , , ,...</td>\n",
       "      <td>[حديد تسليح اتفاق, حديد تسليح اتفاق, حديد تسلي...</td>\n",
       "    </tr>\n",
       "    <tr>\n",
       "      <th>19</th>\n",
       "      <td>19</td>\n",
       "      <td>38</td>\n",
       "      <td>19_cr_cr deformed_deformed_ksa</td>\n",
       "      <td>[cr, cr deformed, deformed, ksa, straight, str...</td>\n",
       "      <td>[deformed straight bar cr, deformed straight b...</td>\n",
       "    </tr>\n",
       "    <tr>\n",
       "      <th>20</th>\n",
       "      <td>20</td>\n",
       "      <td>35</td>\n",
       "      <td>20_adaptor_aquaterra_male_female</td>\n",
       "      <td>[adaptor, aquaterra, male, female, ppr male, a...</td>\n",
       "      <td>[aquaterra ppr female adaptor union dzr, aquat...</td>\n",
       "    </tr>\n",
       "    <tr>\n",
       "      <th>21</th>\n",
       "      <td>21</td>\n",
       "      <td>35</td>\n",
       "      <td>21____</td>\n",
       "      <td>[, , , , , , , , , , , , , , , , , , , , , , ,...</td>\n",
       "      <td>[حديد راجحي قطر, راجحي, حديدتسليح سعودي راجحي مت]</td>\n",
       "    </tr>\n",
       "    <tr>\n",
       "      <th>22</th>\n",
       "      <td>22</td>\n",
       "      <td>35</td>\n",
       "      <td>22____</td>\n",
       "      <td>[, , , , , , , , , , , , , , , , , , , , , , ,...</td>\n",
       "      <td>[حديد تسليح مجدول سعودي سابك, حديد تسليح مجدول...</td>\n",
       "    </tr>\n",
       "    <tr>\n",
       "      <th>23</th>\n",
       "      <td>23</td>\n",
       "      <td>34</td>\n",
       "      <td>23_coil_gi_cr_coils</td>\n",
       "      <td>[coil, gi, cr, coils, hr, cr deformed, sabic h...</td>\n",
       "      <td>[chq coil, chq coil, bt gi coil slitting]</td>\n",
       "    </tr>\n",
       "    <tr>\n",
       "      <th>24</th>\n",
       "      <td>24</td>\n",
       "      <td>34</td>\n",
       "      <td>24_size_mx_bearing_non</td>\n",
       "      <td>[size, mx, bearing, non, ball, hub, ring, un, ...</td>\n",
       "      <td>[brake chamber mx configuration assy lh size n...</td>\n",
       "    </tr>\n",
       "    <tr>\n",
       "      <th>25</th>\n",
       "      <td>25</td>\n",
       "      <td>30</td>\n",
       "      <td>25_mmx_jr_pcs_</td>\n",
       "      <td>[mmx, jr, pcs, , , , , , , , , , , , , , , , ,...</td>\n",
       "      <td>[heb mmx, heb mmx, heb mmx]</td>\n",
       "    </tr>\n",
       "    <tr>\n",
       "      <th>26</th>\n",
       "      <td>26</td>\n",
       "      <td>28</td>\n",
       "      <td>26_ittifaq_black deformed straight_black defor...</td>\n",
       "      <td>[ittifaq, black deformed straight, black defor...</td>\n",
       "      <td>[black deformed straight bar ittifaq, black de...</td>\n",
       "    </tr>\n",
       "    <tr>\n",
       "      <th>27</th>\n",
       "      <td>27</td>\n",
       "      <td>27</td>\n",
       "      <td>27_xt_inn xt_inn_</td>\n",
       "      <td>[xt, inn xt, inn, , , , , , , , , , , , , , , ...</td>\n",
       "      <td>[xt tma, xt tma, xt tma]</td>\n",
       "    </tr>\n",
       "    <tr>\n",
       "      <th>28</th>\n",
       "      <td>28</td>\n",
       "      <td>27</td>\n",
       "      <td>28_xt ekip_dip_ekip dip_ls xt ekip</td>\n",
       "      <td>[xt ekip, dip, ekip dip, ls xt ekip, ls xt, ls...</td>\n",
       "      <td>[xt ekip dip ls, xt ekip dip ls, xt ekip dip ls]</td>\n",
       "    </tr>\n",
       "    <tr>\n",
       "      <th>29</th>\n",
       "      <td>29</td>\n",
       "      <td>27</td>\n",
       "      <td>29_watani___</td>\n",
       "      <td>[watani, , , , , , , , , , , , , , , , , , , ,...</td>\n",
       "      <td>[watani حديد نظامي, watani حديد نظامي, watani ...</td>\n",
       "    </tr>\n",
       "    <tr>\n",
       "      <th>30</th>\n",
       "      <td>30</td>\n",
       "      <td>26</td>\n",
       "      <td>30____</td>\n",
       "      <td>[, , , , , , , , , , , , , , , , , , , , , , ,...</td>\n",
       "      <td>[صاج حديد مجلفن, صاج حديد مجلفن, صاج مجلفن سابك]</td>\n",
       "    </tr>\n",
       "    <tr>\n",
       "      <th>31</th>\n",
       "      <td>31</td>\n",
       "      <td>26</td>\n",
       "      <td>31_pipe_stud__</td>\n",
       "      <td>[pipe, stud, , , , , , , , , , , , , , , , , ,...</td>\n",
       "      <td>[pipe, pipe, pipe]</td>\n",
       "    </tr>\n",
       "    <tr>\n",
       "      <th>32</th>\n",
       "      <td>32</td>\n",
       "      <td>26</td>\n",
       "      <td>32____</td>\n",
       "      <td>[, , , , , , , , , , , , , , , , , , , , , , ,...</td>\n",
       "      <td>[S202-C40, S201-C20, S203-C63]</td>\n",
       "    </tr>\n",
       "    <tr>\n",
       "      <th>33</th>\n",
       "      <td>33</td>\n",
       "      <td>25</td>\n",
       "      <td>33____</td>\n",
       "      <td>[, , , , , , , , , , , , , , , , , , , , , , ,...</td>\n",
       "      <td>[حديد تسليح سابك مسحوب, حديد تسليح سابك مسحوب,...</td>\n",
       "    </tr>\n",
       "    <tr>\n",
       "      <th>34</th>\n",
       "      <td>34</td>\n",
       "      <td>24</td>\n",
       "      <td>34_cut_bend_rebar_rebar rebar</td>\n",
       "      <td>[cut, bend, rebar, rebar rebar, rebar steel, s...</td>\n",
       "      <td>[cut bend rebar, cut bend rebar, cut bend rebar]</td>\n",
       "    </tr>\n",
       "    <tr>\n",
       "      <th>35</th>\n",
       "      <td>35</td>\n",
       "      <td>23</td>\n",
       "      <td>35_model_split_hanger_rubber</td>\n",
       "      <td>[model, split, hanger, rubber, clamp, adjustab...</td>\n",
       "      <td>[weicco rubber lined split clamp model wsc, we...</td>\n",
       "    </tr>\n",
       "    <tr>\n",
       "      <th>36</th>\n",
       "      <td>36</td>\n",
       "      <td>22</td>\n",
       "      <td>36_sheet_gr_sheet gi_gi</td>\n",
       "      <td>[sheet, gr, sheet gi, gi, pcs, , , , , , , , ,...</td>\n",
       "      <td>[sheet gr, sheet gr, sheet gr]</td>\n",
       "    </tr>\n",
       "    <tr>\n",
       "      <th>37</th>\n",
       "      <td>37</td>\n",
       "      <td>21</td>\n",
       "      <td>37_sheet hr_hr_sheet_sabic hr</td>\n",
       "      <td>[sheet hr, hr, sheet, sabic hr, sabic sheet, s...</td>\n",
       "      <td>[hr sheet, hr sheet, hr sheet]</td>\n",
       "    </tr>\n",
       "    <tr>\n",
       "      <th>38</th>\n",
       "      <td>38</td>\n",
       "      <td>21</td>\n",
       "      <td>38_ekip_touch_ekip dip_dip</td>\n",
       "      <td>[ekip, touch, ekip dip, dip, lsig, sw, ekip di...</td>\n",
       "      <td>[ekip dip lsi wmp, ekip dip lsi wmp, ekip dip ...</td>\n",
       "    </tr>\n",
       "    <tr>\n",
       "      <th>39</th>\n",
       "      <td>39</td>\n",
       "      <td>18</td>\n",
       "      <td>39_coil___</td>\n",
       "      <td>[coil, , , , , , , , , , , , , , , , , , , , ,...</td>\n",
       "      <td>[ويل تسليح املس سابك, ويل تسليح املس سابك, coi...</td>\n",
       "    </tr>\n",
       "    <tr>\n",
       "      <th>40</th>\n",
       "      <td>40</td>\n",
       "      <td>17</td>\n",
       "      <td>40_faced_green__</td>\n",
       "      <td>[faced, green, , , , , , , , , , , , , , , , ,...</td>\n",
       "      <td>[golde tech, golde tech, shuttering ply green ...</td>\n",
       "    </tr>\n",
       "    <tr>\n",
       "      <th>41</th>\n",
       "      <td>41</td>\n",
       "      <td>17</td>\n",
       "      <td>41____</td>\n",
       "      <td>[, , , , , , , , , , , , , , , , , , , , , , ,...</td>\n",
       "      <td>[حديد تسليح, حديد تسليح, حديد تسليح يمامه]</td>\n",
       "    </tr>\n",
       "    <tr>\n",
       "      <th>42</th>\n",
       "      <td>42</td>\n",
       "      <td>16</td>\n",
       "      <td>42_bar watani_watani_black deformed straight_b...</td>\n",
       "      <td>[bar watani, watani, black deformed straight, ...</td>\n",
       "      <td>[black deformed straight bar watani, black def...</td>\n",
       "    </tr>\n",
       "    <tr>\n",
       "      <th>43</th>\n",
       "      <td>43</td>\n",
       "      <td>16</td>\n",
       "      <td>43_kit_mpa_xt_pcs</td>\n",
       "      <td>[kit, mpa, xt, pcs, , , , , , , , , , , , , , ...</td>\n",
       "      <td>[kit mp xt, kit mp xt, kit mp xt]</td>\n",
       "    </tr>\n",
       "    <tr>\n",
       "      <th>44</th>\n",
       "      <td>44</td>\n",
       "      <td>13</td>\n",
       "      <td>44_ms_plain_astm_sheet</td>\n",
       "      <td>[ms, plain, astm, sheet, , , , , , , , , , , ,...</td>\n",
       "      <td>[ms plain sheet astm, ms plain sheet astm, ms ...</td>\n",
       "    </tr>\n",
       "    <tr>\n",
       "      <th>45</th>\n",
       "      <td>45</td>\n",
       "      <td>12</td>\n",
       "      <td>45____</td>\n",
       "      <td>[, , , , , , , , , , , , , , , , , , , , , , ,...</td>\n",
       "      <td>[حديد ويل, حديد ويل, حديد ويل]</td>\n",
       "    </tr>\n",
       "    <tr>\n",
       "      <th>46</th>\n",
       "      <td>46</td>\n",
       "      <td>12</td>\n",
       "      <td>46_bars_pcs_roll_duct</td>\n",
       "      <td>[bars, pcs, roll, duct, pipe, , , , , , , , , ...</td>\n",
       "      <td>[aluminium profile bars pcs, aluminium profile...</td>\n",
       "    </tr>\n",
       "    <tr>\n",
       "      <th>47</th>\n",
       "      <td>47</td>\n",
       "      <td>11</td>\n",
       "      <td>47_md___</td>\n",
       "      <td>[md, , , , , , , , , , , , , , , , , , , , , ,...</td>\n",
       "      <td>[حديد مجدول راجحي, md حديد مجدول, md حديد مجدول]</td>\n",
       "    </tr>\n",
       "    <tr>\n",
       "      <th>48</th>\n",
       "      <td>48</td>\n",
       "      <td>11</td>\n",
       "      <td>48____</td>\n",
       "      <td>[, , , , , , , , , , , , , , , , , , , , , , ,...</td>\n",
       "      <td>[حديد تسليح سعودي سابك, حديد تسليح سابك سعودي ...</td>\n",
       "    </tr>\n",
       "    <tr>\n",
       "      <th>49</th>\n",
       "      <td>49</td>\n",
       "      <td>10</td>\n",
       "      <td>49_hz_dc_block_</td>\n",
       "      <td>[hz, dc, block, , , , , , , , , , , , , , , , ...</td>\n",
       "      <td>[af hz dc contactor, af hz dc contactor, af hz...</td>\n",
       "    </tr>\n",
       "    <tr>\n",
       "      <th>50</th>\n",
       "      <td>50</td>\n",
       "      <td>10</td>\n",
       "      <td>50_reducer aquaterra ppr_reducer aquaterra_ppr...</td>\n",
       "      <td>[reducer aquaterra ppr, reducer aquaterra, ppr...</td>\n",
       "      <td>[aquaterra ppr reducer, aquaterra ppr reducer,...</td>\n",
       "    </tr>\n",
       "    <tr>\n",
       "      <th>51</th>\n",
       "      <td>51</td>\n",
       "      <td>9</td>\n",
       "      <td>51____</td>\n",
       "      <td>[, , , , , , , , , , , , , , , , , , , , , , ,...</td>\n",
       "      <td>[حديد تسليح سعودي, حديد تسليح سعودي, حديد تسلي...</td>\n",
       "    </tr>\n",
       "    <tr>\n",
       "      <th>52</th>\n",
       "      <td>52</td>\n",
       "      <td>9</td>\n",
       "      <td>52_plate_ms_steel_</td>\n",
       "      <td>[plate, ms, steel, , , , , , , , , , , , , , ,...</td>\n",
       "      <td>[checkered plate, checkered plate, checkered p...</td>\n",
       "    </tr>\n",
       "    <tr>\n",
       "      <th>53</th>\n",
       "      <td>53</td>\n",
       "      <td>9</td>\n",
       "      <td>53____</td>\n",
       "      <td>[, , , , , , , , , , , , , , , , , , , , , , ,...</td>\n",
       "      <td>[فارغ مستطيل, مستطيل فارغ, مستطيل حديد]</td>\n",
       "    </tr>\n",
       "    <tr>\n",
       "      <th>54</th>\n",
       "      <td>54</td>\n",
       "      <td>9</td>\n",
       "      <td>54_xt ekip_ls_ekip_ls xt ekip</td>\n",
       "      <td>[xt ekip, ls, ekip, ls xt ekip, ls xt, inn xt,...</td>\n",
       "      <td>[xt ekip ls, xt ekip ls, xt ekip ls]</td>\n",
       "    </tr>\n",
       "    <tr>\n",
       "      <th>55</th>\n",
       "      <td>55</td>\n",
       "      <td>8</td>\n",
       "      <td>55____</td>\n",
       "      <td>[, , , , , , , , , , , , , , , , , , , , , , ,...</td>\n",
       "      <td>[تيوب, تيوب بقشاطين اسود, تيوب]</td>\n",
       "    </tr>\n",
       "  </tbody>\n",
       "</table>\n",
       "</div>"
      ],
      "text/plain": [
       "    Topic  Count                                               Name  \\\n",
       "0       0    331                                0_pvc_wire_kv_class   \n",
       "1       1    292                              1_hdg_thick_each_tray   \n",
       "2       2    286                              2_end_supply_with_top   \n",
       "3       3    254                              3_panel_pcs_master_ms   \n",
       "4       4    241                                              4____   \n",
       "5       5    226                              5_aw_iec_set_petromin   \n",
       "6       6     86                               6_ppr_tee_thk_hx thk   \n",
       "7       7     76                                      7_btc_nya_aw_   \n",
       "8       8     75                                       8_md_sabic__   \n",
       "9       9     60                                              9____   \n",
       "10     10     60                                             10____   \n",
       "11     11     56                                             11____   \n",
       "12     12     54                     12_steel bar_steel_saudi_rebar   \n",
       "13     13     54                                           13_xt___   \n",
       "14     14     48  14_bar sabic_sabic_black deformed straight_bla...   \n",
       "15     15     47                                             15____   \n",
       "16     16     46                                             16____   \n",
       "17     17     45                                             17____   \n",
       "18     18     42                                             18____   \n",
       "19     19     38                     19_cr_cr deformed_deformed_ksa   \n",
       "20     20     35                   20_adaptor_aquaterra_male_female   \n",
       "21     21     35                                             21____   \n",
       "22     22     35                                             22____   \n",
       "23     23     34                                23_coil_gi_cr_coils   \n",
       "24     24     34                             24_size_mx_bearing_non   \n",
       "25     25     30                                     25_mmx_jr_pcs_   \n",
       "26     26     28  26_ittifaq_black deformed straight_black defor...   \n",
       "27     27     27                                  27_xt_inn xt_inn_   \n",
       "28     28     27                 28_xt ekip_dip_ekip dip_ls xt ekip   \n",
       "29     29     27                                       29_watani___   \n",
       "30     30     26                                             30____   \n",
       "31     31     26                                     31_pipe_stud__   \n",
       "32     32     26                                             32____   \n",
       "33     33     25                                             33____   \n",
       "34     34     24                      34_cut_bend_rebar_rebar rebar   \n",
       "35     35     23                       35_model_split_hanger_rubber   \n",
       "36     36     22                            36_sheet_gr_sheet gi_gi   \n",
       "37     37     21                      37_sheet hr_hr_sheet_sabic hr   \n",
       "38     38     21                         38_ekip_touch_ekip dip_dip   \n",
       "39     39     18                                         39_coil___   \n",
       "40     40     17                                   40_faced_green__   \n",
       "41     41     17                                             41____   \n",
       "42     42     16  42_bar watani_watani_black deformed straight_b...   \n",
       "43     43     16                                  43_kit_mpa_xt_pcs   \n",
       "44     44     13                             44_ms_plain_astm_sheet   \n",
       "45     45     12                                             45____   \n",
       "46     46     12                              46_bars_pcs_roll_duct   \n",
       "47     47     11                                           47_md___   \n",
       "48     48     11                                             48____   \n",
       "49     49     10                                    49_hz_dc_block_   \n",
       "50     50     10  50_reducer aquaterra ppr_reducer aquaterra_ppr...   \n",
       "51     51      9                                             51____   \n",
       "52     52      9                                 52_plate_ms_steel_   \n",
       "53     53      9                                             53____   \n",
       "54     54      9                      54_xt ekip_ls_ekip_ls xt ekip   \n",
       "55     55      8                                             55____   \n",
       "\n",
       "                                       Representation  \\\n",
       "0   [pvc, wire, kv, class, cable, motor, coupling,...   \n",
       "1   [hdg, thick, each, tray, mada, bolt, tube, len...   \n",
       "2   [end, supply, with, top, single, and, wall, we...   \n",
       "3   [panel, pcs, master, ms, no, gr, ral, valve, p...   \n",
       "4   [, , , , , , , , , , , , , , , , , , , , , , ,...   \n",
       "5   [aw, iec, set, petromin, oil, ac, class, of, l...   \n",
       "6   [ppr, tee, thk, hx thk, hx, dn, ral, equal, eq...   \n",
       "7   [btc, nya, aw, , , , , , , , , , , , , , , , ,...   \n",
       "8   [md, sabic, , , , , , , , , , , , , , , , , , ...   \n",
       "9   [, , , , , , , , , , , , , , , , , , , , , , ,...   \n",
       "10  [, , , , , , , , , , , , , , , , , , , , , , ,...   \n",
       "11  [, , , , , , , , , , , , , , , , , , , , , , ,...   \n",
       "12  [steel bar, steel, saudi, rebar, ittefaq, bar,...   \n",
       "13  [xt, , , , , , , , , , , , , , , , , , , , , ,...   \n",
       "14  [bar sabic, sabic, black deformed straight, bl...   \n",
       "15  [, , , , , , , , , , , , , , , , , , , , , , ,...   \n",
       "16  [, , , , , , , , , , , , , , , , , , , , , , ,...   \n",
       "17  [, , , , , , , , , , , , , , , , , , , , , , ,...   \n",
       "18  [, , , , , , , , , , , , , , , , , , , , , , ,...   \n",
       "19  [cr, cr deformed, deformed, ksa, straight, str...   \n",
       "20  [adaptor, aquaterra, male, female, ppr male, a...   \n",
       "21  [, , , , , , , , , , , , , , , , , , , , , , ,...   \n",
       "22  [, , , , , , , , , , , , , , , , , , , , , , ,...   \n",
       "23  [coil, gi, cr, coils, hr, cr deformed, sabic h...   \n",
       "24  [size, mx, bearing, non, ball, hub, ring, un, ...   \n",
       "25  [mmx, jr, pcs, , , , , , , , , , , , , , , , ,...   \n",
       "26  [ittifaq, black deformed straight, black defor...   \n",
       "27  [xt, inn xt, inn, , , , , , , , , , , , , , , ...   \n",
       "28  [xt ekip, dip, ekip dip, ls xt ekip, ls xt, ls...   \n",
       "29  [watani, , , , , , , , , , , , , , , , , , , ,...   \n",
       "30  [, , , , , , , , , , , , , , , , , , , , , , ,...   \n",
       "31  [pipe, stud, , , , , , , , , , , , , , , , , ,...   \n",
       "32  [, , , , , , , , , , , , , , , , , , , , , , ,...   \n",
       "33  [, , , , , , , , , , , , , , , , , , , , , , ,...   \n",
       "34  [cut, bend, rebar, rebar rebar, rebar steel, s...   \n",
       "35  [model, split, hanger, rubber, clamp, adjustab...   \n",
       "36  [sheet, gr, sheet gi, gi, pcs, , , , , , , , ,...   \n",
       "37  [sheet hr, hr, sheet, sabic hr, sabic sheet, s...   \n",
       "38  [ekip, touch, ekip dip, dip, lsig, sw, ekip di...   \n",
       "39  [coil, , , , , , , , , , , , , , , , , , , , ,...   \n",
       "40  [faced, green, , , , , , , , , , , , , , , , ,...   \n",
       "41  [, , , , , , , , , , , , , , , , , , , , , , ,...   \n",
       "42  [bar watani, watani, black deformed straight, ...   \n",
       "43  [kit, mpa, xt, pcs, , , , , , , , , , , , , , ...   \n",
       "44  [ms, plain, astm, sheet, , , , , , , , , , , ,...   \n",
       "45  [, , , , , , , , , , , , , , , , , , , , , , ,...   \n",
       "46  [bars, pcs, roll, duct, pipe, , , , , , , , , ...   \n",
       "47  [md, , , , , , , , , , , , , , , , , , , , , ,...   \n",
       "48  [, , , , , , , , , , , , , , , , , , , , , , ,...   \n",
       "49  [hz, dc, block, , , , , , , , , , , , , , , , ...   \n",
       "50  [reducer aquaterra ppr, reducer aquaterra, ppr...   \n",
       "51  [, , , , , , , , , , , , , , , , , , , , , , ,...   \n",
       "52  [plate, ms, steel, , , , , , , , , , , , , , ,...   \n",
       "53  [, , , , , , , , , , , , , , , , , , , , , , ,...   \n",
       "54  [xt ekip, ls, ekip, ls xt ekip, ls xt, inn xt,...   \n",
       "55  [, , , , , , , , , , , , , , , , , , , , , , ,...   \n",
       "\n",
       "                                  Representative_Docs  \n",
       "0   [bcc wire cu pvc ho yellow yr, bcc wire cu pvc...  \n",
       "1   [hdg osf tray thick length, hdg osf tray thick...  \n",
       "2   [cable trunking unequal bend single compartmen...  \n",
       "3   [توريد اكسسوارات الواح الخرسانيه معزوله ثلاثي ...  \n",
       "4                         [unknown, unknown, unknown]  \n",
       "5   [petromin hydraulic oil aw, petromin hydraulic...  \n",
       "6   [cable tray horizontal unequal tee mmwx hx thk...  \n",
       "7   [براغ مربع فضي btc, براغ مربع فضي btc, براغ خش...  \n",
       "8   [حديد تسليح سابك, حديد تسليح sabic, حديد تسليح...  \n",
       "9              [ماسوره طول, ماسوره حديد, ماسوره حديد]  \n",
       "10      [صاج حديد اسود, صاج حديد اسود, صاج حديد اسود]  \n",
       "11  [حديد تسليح وطني, سجاد اكريلك منسوج عقد لباد و...  \n",
       "12  [reinforcing steel bar ittfaq, reinforcing ste...  \n",
       "13                           [xt tmd, xt tmd, xt tmd]  \n",
       "14  [black deformed straight bar sabic, black defo...  \n",
       "15                     [صاج اسود, صاج اسود, صاج اسود]  \n",
       "16                       [حديد سابك, سابك, حديد سابك]  \n",
       "17  [حديد تسليح اتفاق, حديد تسليح اتفاق, حديد تسلي...  \n",
       "18  [حديد تسليح اتفاق, حديد تسليح اتفاق, حديد تسلي...  \n",
       "19  [deformed straight bar cr, deformed straight b...  \n",
       "20  [aquaterra ppr female adaptor union dzr, aquat...  \n",
       "21  [حديد راجحي قطر, راجحي, حديدتسليح سعودي راجحي مت]  \n",
       "22  [حديد تسليح مجدول سعودي سابك, حديد تسليح مجدول...  \n",
       "23          [chq coil, chq coil, bt gi coil slitting]  \n",
       "24  [brake chamber mx configuration assy lh size n...  \n",
       "25                        [heb mmx, heb mmx, heb mmx]  \n",
       "26  [black deformed straight bar ittifaq, black de...  \n",
       "27                           [xt tma, xt tma, xt tma]  \n",
       "28   [xt ekip dip ls, xt ekip dip ls, xt ekip dip ls]  \n",
       "29  [watani حديد نظامي, watani حديد نظامي, watani ...  \n",
       "30   [صاج حديد مجلفن, صاج حديد مجلفن, صاج مجلفن سابك]  \n",
       "31                                 [pipe, pipe, pipe]  \n",
       "32                     [S202-C40, S201-C20, S203-C63]  \n",
       "33  [حديد تسليح سابك مسحوب, حديد تسليح سابك مسحوب,...  \n",
       "34   [cut bend rebar, cut bend rebar, cut bend rebar]  \n",
       "35  [weicco rubber lined split clamp model wsc, we...  \n",
       "36                     [sheet gr, sheet gr, sheet gr]  \n",
       "37                     [hr sheet, hr sheet, hr sheet]  \n",
       "38  [ekip dip lsi wmp, ekip dip lsi wmp, ekip dip ...  \n",
       "39  [ويل تسليح املس سابك, ويل تسليح املس سابك, coi...  \n",
       "40  [golde tech, golde tech, shuttering ply green ...  \n",
       "41         [حديد تسليح, حديد تسليح, حديد تسليح يمامه]  \n",
       "42  [black deformed straight bar watani, black def...  \n",
       "43                  [kit mp xt, kit mp xt, kit mp xt]  \n",
       "44  [ms plain sheet astm, ms plain sheet astm, ms ...  \n",
       "45                     [حديد ويل, حديد ويل, حديد ويل]  \n",
       "46  [aluminium profile bars pcs, aluminium profile...  \n",
       "47   [حديد مجدول راجحي, md حديد مجدول, md حديد مجدول]  \n",
       "48  [حديد تسليح سعودي سابك, حديد تسليح سابك سعودي ...  \n",
       "49  [af hz dc contactor, af hz dc contactor, af hz...  \n",
       "50  [aquaterra ppr reducer, aquaterra ppr reducer,...  \n",
       "51  [حديد تسليح سعودي, حديد تسليح سعودي, حديد تسلي...  \n",
       "52  [checkered plate, checkered plate, checkered p...  \n",
       "53            [فارغ مستطيل, مستطيل فارغ, مستطيل حديد]  \n",
       "54               [xt ekip ls, xt ekip ls, xt ekip ls]  \n",
       "55                    [تيوب, تيوب بقشاطين اسود, تيوب]  "
      ]
     },
     "execution_count": 59,
     "metadata": {},
     "output_type": "execute_result"
    }
   ],
   "source": [
    "# pip install bertopic sentence-transformers scikit-learn\n",
    "\n",
    "from bertopic import BERTopic\n",
    "from bertopic.representation import MaximalMarginalRelevance\n",
    "from sentence_transformers import SentenceTransformer\n",
    "from sklearn.feature_extraction.text import TfidfVectorizer, CountVectorizer\n",
    "from sklearn.decomposition import TruncatedSVD\n",
    "from sklearn.preprocessing import normalize\n",
    "from sklearn.cluster import KMeans\n",
    "import numpy as np\n",
    "\n",
    "# texts = [...]  # your ~3100 very short docs\n",
    "\n",
    "# ---- 1) Sentence embeddings (multilingual) ----\n",
    "# LaBSE = strong AR/EN alignment; swap to paraphrase-multilingual-MiniLM-L12-v2 for speed\n",
    "sbert = SentenceTransformer(\"sentence-transformers/LaBSE\")\n",
    "sbert_vecs = sbert.encode(texts, batch_size=128, show_progress_bar=True, normalize_embeddings=True)\n",
    "\n",
    "# ---- 2) Char n-gram TF-IDF + SVD (subword-ish) ----\n",
    "char_tfidf = TfidfVectorizer(analyzer=\"char_wb\", ngram_range=(3,5), min_df=2)\n",
    "X_char = char_tfidf.fit_transform(texts)\n",
    "\n",
    "svd = TruncatedSVD(n_components=256, random_state=42)\n",
    "X_char_svd = svd.fit_transform(X_char)\n",
    "X_char_svd = normalize(X_char_svd)\n",
    "\n",
    "# ---- 3) Hybrid embedding: concat (dims: 768 + 256 = 1024) ----\n",
    "emb = np.hstack([sbert_vecs, X_char_svd])\n",
    "\n",
    "# ---- 4) K-Means (no UMAP) ----\n",
    "def estimate_k(n): \n",
    "    return max(12, int(round(np.sqrt(n))))\n",
    "K = estimate_k(len(texts))\n",
    "kmeans = KMeans(n_clusters=K, n_init=20, random_state=42)\n",
    "\n",
    "# ---- 5) BERTopic: c-TF-IDF/MMR labels; pass our embeddings ----\n",
    "word_vect = CountVectorizer(ngram_range=(1,3), min_df=2, token_pattern=r\"(?u)\\b\\w+\\b\")\n",
    "mmr = MaximalMarginalRelevance(diversity=0.3)\n",
    "\n",
    "topic_model = BERTopic(\n",
    "    embedding_model=None,           # we supply embeddings directly\n",
    "    umap_model=None,                # skip UMAP\n",
    "    hdbscan_model=kmeans,           # sklearn clusterer accepted in 0.17.x\n",
    "    vectorizer_model=word_vect,     # drives c-TF-IDF vocab\n",
    "    representation_model=mmr,       # diversified labels\n",
    "    calculate_probabilities=False,\n",
    "    verbose=True\n",
    ")\n",
    "\n",
    "topics, _ = topic_model.fit_transform(texts, embeddings=emb)\n",
    "\n",
    "# ---- 6) (Optional) Auto-merge similar topics inside BERTopic ----\n",
    "# topic_model.reduce_topics(texts, nr_topics=\"auto\")\n",
    "# topic_model.update_topics(texts, n_gram_range=(1,3))\n",
    "\n",
    "info = topic_model.get_topic_info()\n",
    "info\n"
   ]
  },
  {
   "cell_type": "code",
   "execution_count": null,
   "id": "293a8c84",
   "metadata": {},
   "outputs": [
    {
     "data": {
      "application/vnd.plotly.v1+json": {
       "config": {
        "plotlyServerURL": "https://plot.ly"
       },
       "data": [
        {
         "customdata": [
          [
           0,
           "pvc | wire | kv | class | cable",
           331
          ],
          [
           1,
           "hdg | thick | each | tray | mada",
           292
          ],
          [
           2,
           "end | supply | with | top | single",
           286
          ],
          [
           3,
           "panel | pcs | master | ms | no",
           254
          ],
          [
           4,
           " |  |  |  | ",
           241
          ],
          [
           5,
           "aw | iec | set | petromin | oil",
           226
          ],
          [
           6,
           "ppr | tee | thk | hx thk | hx",
           86
          ],
          [
           7,
           "btc | nya | aw |  | ",
           76
          ],
          [
           8,
           "md | sabic |  |  | ",
           75
          ],
          [
           9,
           " |  |  |  | ",
           60
          ],
          [
           10,
           " |  |  |  | ",
           60
          ],
          [
           11,
           " |  |  |  | ",
           56
          ],
          [
           12,
           "steel bar | steel | saudi | rebar | ittefaq",
           54
          ],
          [
           13,
           "xt |  |  |  | ",
           54
          ],
          [
           14,
           "bar sabic | sabic | black deformed straight | black deformed | black",
           48
          ],
          [
           15,
           " |  |  |  | ",
           47
          ],
          [
           16,
           " |  |  |  | ",
           46
          ],
          [
           17,
           " |  |  |  | ",
           45
          ],
          [
           18,
           " |  |  |  | ",
           42
          ],
          [
           19,
           "cr | cr deformed | deformed | ksa | straight",
           38
          ],
          [
           20,
           "adaptor | aquaterra | male | female | ppr male",
           35
          ],
          [
           21,
           " |  |  |  | ",
           35
          ],
          [
           22,
           " |  |  |  | ",
           35
          ],
          [
           23,
           "coil | gi | cr | coils | hr",
           34
          ],
          [
           24,
           "size | mx | bearing | non | ball",
           34
          ],
          [
           25,
           "mmx | jr | pcs |  | ",
           30
          ],
          [
           26,
           "ittifaq | black deformed straight | black deformed | black | straight",
           28
          ],
          [
           27,
           "xt | inn xt | inn |  | ",
           27
          ],
          [
           28,
           "xt ekip | dip | ekip dip | ls xt ekip | ls xt",
           27
          ],
          [
           29,
           "watani |  |  |  | ",
           27
          ],
          [
           30,
           " |  |  |  | ",
           26
          ],
          [
           31,
           "pipe | stud |  |  | ",
           26
          ],
          [
           32,
           " |  |  |  | ",
           26
          ],
          [
           33,
           " |  |  |  | ",
           25
          ],
          [
           34,
           "cut | bend | rebar | rebar rebar | rebar steel",
           24
          ],
          [
           35,
           "model | split | hanger | rubber | clamp",
           23
          ],
          [
           36,
           "sheet | gr | sheet gi | gi | pcs",
           22
          ],
          [
           37,
           "sheet hr | hr | sheet | sabic hr | sabic sheet",
           21
          ],
          [
           38,
           "ekip | touch | ekip dip | dip | lsig",
           21
          ],
          [
           39,
           "coil |  |  |  | ",
           18
          ],
          [
           40,
           "faced | green |  |  | ",
           17
          ],
          [
           41,
           " |  |  |  | ",
           17
          ],
          [
           42,
           "bar watani | watani | black deformed straight | black deformed | black",
           16
          ],
          [
           43,
           "kit | mpa | xt | pcs | ",
           16
          ],
          [
           44,
           "ms | plain | astm | sheet | ",
           13
          ],
          [
           45,
           " |  |  |  | ",
           12
          ],
          [
           46,
           "bars | pcs | roll | duct | pipe",
           12
          ],
          [
           47,
           "md |  |  |  | ",
           11
          ],
          [
           48,
           " |  |  |  | ",
           11
          ],
          [
           49,
           "hz | dc | block |  | ",
           10
          ],
          [
           50,
           "reducer aquaterra ppr | reducer aquaterra | ppr reducer aquaterra | ppr reducer | reducer",
           10
          ],
          [
           51,
           " |  |  |  | ",
           9
          ],
          [
           52,
           "plate | ms | steel |  | ",
           9
          ],
          [
           53,
           " |  |  |  | ",
           9
          ],
          [
           54,
           "xt ekip | ls | ekip | ls xt ekip | ls xt",
           9
          ],
          [
           55,
           " |  |  |  | ",
           8
          ]
         ],
         "hovertemplate": "<b>Topic %{customdata[0]}</b><br>%{customdata[1]}<br>Size: %{customdata[2]}",
         "legendgroup": "",
         "marker": {
          "color": "#B0BEC5",
          "line": {
           "color": "DarkSlateGrey",
           "width": 2
          },
          "size": {
           "bdata": "SwEkAR4B/gDxAOIAVgBMAEsAPAA8ADgANgA2ADAALwAuAC0AKgAmACMAIwAjACIAIgAeABwAGwAbABsAGgAaABoAGQAYABcAFgAVABUAEgARABEAEAAQAA0ADAAMAAsACwAKAAoACQAJAAkACQAIAA==",
           "dtype": "i2"
          },
          "sizemode": "area",
          "sizeref": 0.206875,
          "symbol": "circle"
         },
         "mode": "markers",
         "name": "",
         "orientation": "v",
         "showlegend": false,
         "type": "scatter",
         "x": {
          "bdata": "xr0AQT7DuUAGxdxAHEleP5R6E0EM1UQ/N+D7QAwtZj8Yc66/HSjlv6+JfkApyPS/91uyQJYgPEHa/qRBaEGBQJ0ep793jj/Bgo4/wXGLpUETV93AcdQLwFmu7cDl9gFBKcreQPMGFEFHH6RBgPU7QWkDM0GEcZ6/+02PP+znEkGA4QRByVqWv25bsEDVKfpATwPnP/uL9T9XzDRBCZk9vzuov0ChZey/7mqlQVvDAUH1b98/FHMjv7tE2ECQW+/AL4rhwC7e/ECUr9zARqDhwBDKtkCj4SU/PNYyQfYjFUE=",
          "dtype": "f4"
         },
         "xaxis": "x",
         "y": {
          "bdata": "x+QKQYnCDEFCcRBBIV92Qb1ZC0HFxXRBMMgOQfLddkFxBZXAkVWswIripEBCmabAWeAOQdt2FL8+rHNBM9WmQNnRkcDhwwLB48MCwYbFdEEpZdu/WLyowOJxiEDRSw5B9QoQQQ63CEEV7XFBUF4Tv7z0aMGf0JfAl116Qd4bCkEA1g5BVu+GwM+nCEFQJAVBTA8xwdrfMsF3HmfB4zGTwK9nD0Gh26PAd4R0QSotCUGzHDDB0YSPwOTYDEFHwoZACZuUQA9FCUFCgN2/8oOUQJtTDkHP1XJBRyVpwc6+BkE=",
          "dtype": "f4"
         },
         "yaxis": "y"
        }
       ],
       "layout": {
        "annotations": [
         {
          "showarrow": false,
          "text": "D1",
          "x": -13.768135738372802,
          "y": 0.6188426971435561,
          "yshift": 10
         },
         {
          "showarrow": false,
          "text": "D2",
          "x": 5.014456939697267,
          "xshift": 10,
          "y": 17.995026445388795
         }
        ],
        "height": 650,
        "hoverlabel": {
         "bgcolor": "white",
         "font": {
          "family": "Rockwell",
          "size": 16
         }
        },
        "legend": {
         "itemsizing": "constant",
         "tracegroupgap": 0
        },
        "margin": {
         "t": 60
        },
        "shapes": [
         {
          "line": {
           "color": "#CFD8DC",
           "width": 2
          },
          "type": "line",
          "x0": 5.014456939697267,
          "x1": 5.014456939697267,
          "y0": -16.757341051101683,
          "y1": 17.995026445388795
         },
         {
          "line": {
           "color": "#9E9E9E",
           "width": 2
          },
          "type": "line",
          "x0": -13.768135738372802,
          "x1": 23.797049617767335,
          "y0": 0.6188426971435561,
          "y1": 0.6188426971435561
         }
        ],
        "sliders": [
         {
          "active": 0,
          "pad": {
           "t": 50
          },
          "steps": [
           {
            "args": [
             {
              "marker.color": [
               [
                "red",
                "#B0BEC5",
                "#B0BEC5",
                "#B0BEC5",
                "#B0BEC5",
                "#B0BEC5",
                "#B0BEC5",
                "#B0BEC5",
                "#B0BEC5",
                "#B0BEC5",
                "#B0BEC5",
                "#B0BEC5",
                "#B0BEC5",
                "#B0BEC5",
                "#B0BEC5",
                "#B0BEC5",
                "#B0BEC5",
                "#B0BEC5",
                "#B0BEC5",
                "#B0BEC5",
                "#B0BEC5",
                "#B0BEC5",
                "#B0BEC5",
                "#B0BEC5",
                "#B0BEC5",
                "#B0BEC5",
                "#B0BEC5",
                "#B0BEC5",
                "#B0BEC5",
                "#B0BEC5",
                "#B0BEC5",
                "#B0BEC5",
                "#B0BEC5",
                "#B0BEC5",
                "#B0BEC5",
                "#B0BEC5",
                "#B0BEC5",
                "#B0BEC5",
                "#B0BEC5",
                "#B0BEC5",
                "#B0BEC5",
                "#B0BEC5",
                "#B0BEC5",
                "#B0BEC5",
                "#B0BEC5",
                "#B0BEC5",
                "#B0BEC5",
                "#B0BEC5",
                "#B0BEC5",
                "#B0BEC5",
                "#B0BEC5",
                "#B0BEC5",
                "#B0BEC5",
                "#B0BEC5",
                "#B0BEC5",
                "#B0BEC5"
               ]
              ]
             }
            ],
            "label": "Topic 0",
            "method": "update"
           },
           {
            "args": [
             {
              "marker.color": [
               [
                "#B0BEC5",
                "red",
                "#B0BEC5",
                "#B0BEC5",
                "#B0BEC5",
                "#B0BEC5",
                "#B0BEC5",
                "#B0BEC5",
                "#B0BEC5",
                "#B0BEC5",
                "#B0BEC5",
                "#B0BEC5",
                "#B0BEC5",
                "#B0BEC5",
                "#B0BEC5",
                "#B0BEC5",
                "#B0BEC5",
                "#B0BEC5",
                "#B0BEC5",
                "#B0BEC5",
                "#B0BEC5",
                "#B0BEC5",
                "#B0BEC5",
                "#B0BEC5",
                "#B0BEC5",
                "#B0BEC5",
                "#B0BEC5",
                "#B0BEC5",
                "#B0BEC5",
                "#B0BEC5",
                "#B0BEC5",
                "#B0BEC5",
                "#B0BEC5",
                "#B0BEC5",
                "#B0BEC5",
                "#B0BEC5",
                "#B0BEC5",
                "#B0BEC5",
                "#B0BEC5",
                "#B0BEC5",
                "#B0BEC5",
                "#B0BEC5",
                "#B0BEC5",
                "#B0BEC5",
                "#B0BEC5",
                "#B0BEC5",
                "#B0BEC5",
                "#B0BEC5",
                "#B0BEC5",
                "#B0BEC5",
                "#B0BEC5",
                "#B0BEC5",
                "#B0BEC5",
                "#B0BEC5",
                "#B0BEC5",
                "#B0BEC5"
               ]
              ]
             }
            ],
            "label": "Topic 1",
            "method": "update"
           },
           {
            "args": [
             {
              "marker.color": [
               [
                "#B0BEC5",
                "#B0BEC5",
                "red",
                "#B0BEC5",
                "#B0BEC5",
                "#B0BEC5",
                "#B0BEC5",
                "#B0BEC5",
                "#B0BEC5",
                "#B0BEC5",
                "#B0BEC5",
                "#B0BEC5",
                "#B0BEC5",
                "#B0BEC5",
                "#B0BEC5",
                "#B0BEC5",
                "#B0BEC5",
                "#B0BEC5",
                "#B0BEC5",
                "#B0BEC5",
                "#B0BEC5",
                "#B0BEC5",
                "#B0BEC5",
                "#B0BEC5",
                "#B0BEC5",
                "#B0BEC5",
                "#B0BEC5",
                "#B0BEC5",
                "#B0BEC5",
                "#B0BEC5",
                "#B0BEC5",
                "#B0BEC5",
                "#B0BEC5",
                "#B0BEC5",
                "#B0BEC5",
                "#B0BEC5",
                "#B0BEC5",
                "#B0BEC5",
                "#B0BEC5",
                "#B0BEC5",
                "#B0BEC5",
                "#B0BEC5",
                "#B0BEC5",
                "#B0BEC5",
                "#B0BEC5",
                "#B0BEC5",
                "#B0BEC5",
                "#B0BEC5",
                "#B0BEC5",
                "#B0BEC5",
                "#B0BEC5",
                "#B0BEC5",
                "#B0BEC5",
                "#B0BEC5",
                "#B0BEC5",
                "#B0BEC5"
               ]
              ]
             }
            ],
            "label": "Topic 2",
            "method": "update"
           },
           {
            "args": [
             {
              "marker.color": [
               [
                "#B0BEC5",
                "#B0BEC5",
                "#B0BEC5",
                "red",
                "#B0BEC5",
                "#B0BEC5",
                "#B0BEC5",
                "#B0BEC5",
                "#B0BEC5",
                "#B0BEC5",
                "#B0BEC5",
                "#B0BEC5",
                "#B0BEC5",
                "#B0BEC5",
                "#B0BEC5",
                "#B0BEC5",
                "#B0BEC5",
                "#B0BEC5",
                "#B0BEC5",
                "#B0BEC5",
                "#B0BEC5",
                "#B0BEC5",
                "#B0BEC5",
                "#B0BEC5",
                "#B0BEC5",
                "#B0BEC5",
                "#B0BEC5",
                "#B0BEC5",
                "#B0BEC5",
                "#B0BEC5",
                "#B0BEC5",
                "#B0BEC5",
                "#B0BEC5",
                "#B0BEC5",
                "#B0BEC5",
                "#B0BEC5",
                "#B0BEC5",
                "#B0BEC5",
                "#B0BEC5",
                "#B0BEC5",
                "#B0BEC5",
                "#B0BEC5",
                "#B0BEC5",
                "#B0BEC5",
                "#B0BEC5",
                "#B0BEC5",
                "#B0BEC5",
                "#B0BEC5",
                "#B0BEC5",
                "#B0BEC5",
                "#B0BEC5",
                "#B0BEC5",
                "#B0BEC5",
                "#B0BEC5",
                "#B0BEC5",
                "#B0BEC5"
               ]
              ]
             }
            ],
            "label": "Topic 3",
            "method": "update"
           },
           {
            "args": [
             {
              "marker.color": [
               [
                "#B0BEC5",
                "#B0BEC5",
                "#B0BEC5",
                "#B0BEC5",
                "red",
                "#B0BEC5",
                "#B0BEC5",
                "#B0BEC5",
                "#B0BEC5",
                "#B0BEC5",
                "#B0BEC5",
                "#B0BEC5",
                "#B0BEC5",
                "#B0BEC5",
                "#B0BEC5",
                "#B0BEC5",
                "#B0BEC5",
                "#B0BEC5",
                "#B0BEC5",
                "#B0BEC5",
                "#B0BEC5",
                "#B0BEC5",
                "#B0BEC5",
                "#B0BEC5",
                "#B0BEC5",
                "#B0BEC5",
                "#B0BEC5",
                "#B0BEC5",
                "#B0BEC5",
                "#B0BEC5",
                "#B0BEC5",
                "#B0BEC5",
                "#B0BEC5",
                "#B0BEC5",
                "#B0BEC5",
                "#B0BEC5",
                "#B0BEC5",
                "#B0BEC5",
                "#B0BEC5",
                "#B0BEC5",
                "#B0BEC5",
                "#B0BEC5",
                "#B0BEC5",
                "#B0BEC5",
                "#B0BEC5",
                "#B0BEC5",
                "#B0BEC5",
                "#B0BEC5",
                "#B0BEC5",
                "#B0BEC5",
                "#B0BEC5",
                "#B0BEC5",
                "#B0BEC5",
                "#B0BEC5",
                "#B0BEC5",
                "#B0BEC5"
               ]
              ]
             }
            ],
            "label": "Topic 4",
            "method": "update"
           },
           {
            "args": [
             {
              "marker.color": [
               [
                "#B0BEC5",
                "#B0BEC5",
                "#B0BEC5",
                "#B0BEC5",
                "#B0BEC5",
                "red",
                "#B0BEC5",
                "#B0BEC5",
                "#B0BEC5",
                "#B0BEC5",
                "#B0BEC5",
                "#B0BEC5",
                "#B0BEC5",
                "#B0BEC5",
                "#B0BEC5",
                "#B0BEC5",
                "#B0BEC5",
                "#B0BEC5",
                "#B0BEC5",
                "#B0BEC5",
                "#B0BEC5",
                "#B0BEC5",
                "#B0BEC5",
                "#B0BEC5",
                "#B0BEC5",
                "#B0BEC5",
                "#B0BEC5",
                "#B0BEC5",
                "#B0BEC5",
                "#B0BEC5",
                "#B0BEC5",
                "#B0BEC5",
                "#B0BEC5",
                "#B0BEC5",
                "#B0BEC5",
                "#B0BEC5",
                "#B0BEC5",
                "#B0BEC5",
                "#B0BEC5",
                "#B0BEC5",
                "#B0BEC5",
                "#B0BEC5",
                "#B0BEC5",
                "#B0BEC5",
                "#B0BEC5",
                "#B0BEC5",
                "#B0BEC5",
                "#B0BEC5",
                "#B0BEC5",
                "#B0BEC5",
                "#B0BEC5",
                "#B0BEC5",
                "#B0BEC5",
                "#B0BEC5",
                "#B0BEC5",
                "#B0BEC5"
               ]
              ]
             }
            ],
            "label": "Topic 5",
            "method": "update"
           },
           {
            "args": [
             {
              "marker.color": [
               [
                "#B0BEC5",
                "#B0BEC5",
                "#B0BEC5",
                "#B0BEC5",
                "#B0BEC5",
                "#B0BEC5",
                "red",
                "#B0BEC5",
                "#B0BEC5",
                "#B0BEC5",
                "#B0BEC5",
                "#B0BEC5",
                "#B0BEC5",
                "#B0BEC5",
                "#B0BEC5",
                "#B0BEC5",
                "#B0BEC5",
                "#B0BEC5",
                "#B0BEC5",
                "#B0BEC5",
                "#B0BEC5",
                "#B0BEC5",
                "#B0BEC5",
                "#B0BEC5",
                "#B0BEC5",
                "#B0BEC5",
                "#B0BEC5",
                "#B0BEC5",
                "#B0BEC5",
                "#B0BEC5",
                "#B0BEC5",
                "#B0BEC5",
                "#B0BEC5",
                "#B0BEC5",
                "#B0BEC5",
                "#B0BEC5",
                "#B0BEC5",
                "#B0BEC5",
                "#B0BEC5",
                "#B0BEC5",
                "#B0BEC5",
                "#B0BEC5",
                "#B0BEC5",
                "#B0BEC5",
                "#B0BEC5",
                "#B0BEC5",
                "#B0BEC5",
                "#B0BEC5",
                "#B0BEC5",
                "#B0BEC5",
                "#B0BEC5",
                "#B0BEC5",
                "#B0BEC5",
                "#B0BEC5",
                "#B0BEC5",
                "#B0BEC5"
               ]
              ]
             }
            ],
            "label": "Topic 6",
            "method": "update"
           },
           {
            "args": [
             {
              "marker.color": [
               [
                "#B0BEC5",
                "#B0BEC5",
                "#B0BEC5",
                "#B0BEC5",
                "#B0BEC5",
                "#B0BEC5",
                "#B0BEC5",
                "red",
                "#B0BEC5",
                "#B0BEC5",
                "#B0BEC5",
                "#B0BEC5",
                "#B0BEC5",
                "#B0BEC5",
                "#B0BEC5",
                "#B0BEC5",
                "#B0BEC5",
                "#B0BEC5",
                "#B0BEC5",
                "#B0BEC5",
                "#B0BEC5",
                "#B0BEC5",
                "#B0BEC5",
                "#B0BEC5",
                "#B0BEC5",
                "#B0BEC5",
                "#B0BEC5",
                "#B0BEC5",
                "#B0BEC5",
                "#B0BEC5",
                "#B0BEC5",
                "#B0BEC5",
                "#B0BEC5",
                "#B0BEC5",
                "#B0BEC5",
                "#B0BEC5",
                "#B0BEC5",
                "#B0BEC5",
                "#B0BEC5",
                "#B0BEC5",
                "#B0BEC5",
                "#B0BEC5",
                "#B0BEC5",
                "#B0BEC5",
                "#B0BEC5",
                "#B0BEC5",
                "#B0BEC5",
                "#B0BEC5",
                "#B0BEC5",
                "#B0BEC5",
                "#B0BEC5",
                "#B0BEC5",
                "#B0BEC5",
                "#B0BEC5",
                "#B0BEC5",
                "#B0BEC5"
               ]
              ]
             }
            ],
            "label": "Topic 7",
            "method": "update"
           },
           {
            "args": [
             {
              "marker.color": [
               [
                "#B0BEC5",
                "#B0BEC5",
                "#B0BEC5",
                "#B0BEC5",
                "#B0BEC5",
                "#B0BEC5",
                "#B0BEC5",
                "#B0BEC5",
                "red",
                "#B0BEC5",
                "#B0BEC5",
                "#B0BEC5",
                "#B0BEC5",
                "#B0BEC5",
                "#B0BEC5",
                "#B0BEC5",
                "#B0BEC5",
                "#B0BEC5",
                "#B0BEC5",
                "#B0BEC5",
                "#B0BEC5",
                "#B0BEC5",
                "#B0BEC5",
                "#B0BEC5",
                "#B0BEC5",
                "#B0BEC5",
                "#B0BEC5",
                "#B0BEC5",
                "#B0BEC5",
                "#B0BEC5",
                "#B0BEC5",
                "#B0BEC5",
                "#B0BEC5",
                "#B0BEC5",
                "#B0BEC5",
                "#B0BEC5",
                "#B0BEC5",
                "#B0BEC5",
                "#B0BEC5",
                "#B0BEC5",
                "#B0BEC5",
                "#B0BEC5",
                "#B0BEC5",
                "#B0BEC5",
                "#B0BEC5",
                "#B0BEC5",
                "#B0BEC5",
                "#B0BEC5",
                "#B0BEC5",
                "#B0BEC5",
                "#B0BEC5",
                "#B0BEC5",
                "#B0BEC5",
                "#B0BEC5",
                "#B0BEC5",
                "#B0BEC5"
               ]
              ]
             }
            ],
            "label": "Topic 8",
            "method": "update"
           },
           {
            "args": [
             {
              "marker.color": [
               [
                "#B0BEC5",
                "#B0BEC5",
                "#B0BEC5",
                "#B0BEC5",
                "#B0BEC5",
                "#B0BEC5",
                "#B0BEC5",
                "#B0BEC5",
                "#B0BEC5",
                "red",
                "#B0BEC5",
                "#B0BEC5",
                "#B0BEC5",
                "#B0BEC5",
                "#B0BEC5",
                "#B0BEC5",
                "#B0BEC5",
                "#B0BEC5",
                "#B0BEC5",
                "#B0BEC5",
                "#B0BEC5",
                "#B0BEC5",
                "#B0BEC5",
                "#B0BEC5",
                "#B0BEC5",
                "#B0BEC5",
                "#B0BEC5",
                "#B0BEC5",
                "#B0BEC5",
                "#B0BEC5",
                "#B0BEC5",
                "#B0BEC5",
                "#B0BEC5",
                "#B0BEC5",
                "#B0BEC5",
                "#B0BEC5",
                "#B0BEC5",
                "#B0BEC5",
                "#B0BEC5",
                "#B0BEC5",
                "#B0BEC5",
                "#B0BEC5",
                "#B0BEC5",
                "#B0BEC5",
                "#B0BEC5",
                "#B0BEC5",
                "#B0BEC5",
                "#B0BEC5",
                "#B0BEC5",
                "#B0BEC5",
                "#B0BEC5",
                "#B0BEC5",
                "#B0BEC5",
                "#B0BEC5",
                "#B0BEC5",
                "#B0BEC5"
               ]
              ]
             }
            ],
            "label": "Topic 9",
            "method": "update"
           },
           {
            "args": [
             {
              "marker.color": [
               [
                "#B0BEC5",
                "#B0BEC5",
                "#B0BEC5",
                "#B0BEC5",
                "#B0BEC5",
                "#B0BEC5",
                "#B0BEC5",
                "#B0BEC5",
                "#B0BEC5",
                "#B0BEC5",
                "red",
                "#B0BEC5",
                "#B0BEC5",
                "#B0BEC5",
                "#B0BEC5",
                "#B0BEC5",
                "#B0BEC5",
                "#B0BEC5",
                "#B0BEC5",
                "#B0BEC5",
                "#B0BEC5",
                "#B0BEC5",
                "#B0BEC5",
                "#B0BEC5",
                "#B0BEC5",
                "#B0BEC5",
                "#B0BEC5",
                "#B0BEC5",
                "#B0BEC5",
                "#B0BEC5",
                "#B0BEC5",
                "#B0BEC5",
                "#B0BEC5",
                "#B0BEC5",
                "#B0BEC5",
                "#B0BEC5",
                "#B0BEC5",
                "#B0BEC5",
                "#B0BEC5",
                "#B0BEC5",
                "#B0BEC5",
                "#B0BEC5",
                "#B0BEC5",
                "#B0BEC5",
                "#B0BEC5",
                "#B0BEC5",
                "#B0BEC5",
                "#B0BEC5",
                "#B0BEC5",
                "#B0BEC5",
                "#B0BEC5",
                "#B0BEC5",
                "#B0BEC5",
                "#B0BEC5",
                "#B0BEC5",
                "#B0BEC5"
               ]
              ]
             }
            ],
            "label": "Topic 10",
            "method": "update"
           },
           {
            "args": [
             {
              "marker.color": [
               [
                "#B0BEC5",
                "#B0BEC5",
                "#B0BEC5",
                "#B0BEC5",
                "#B0BEC5",
                "#B0BEC5",
                "#B0BEC5",
                "#B0BEC5",
                "#B0BEC5",
                "#B0BEC5",
                "#B0BEC5",
                "red",
                "#B0BEC5",
                "#B0BEC5",
                "#B0BEC5",
                "#B0BEC5",
                "#B0BEC5",
                "#B0BEC5",
                "#B0BEC5",
                "#B0BEC5",
                "#B0BEC5",
                "#B0BEC5",
                "#B0BEC5",
                "#B0BEC5",
                "#B0BEC5",
                "#B0BEC5",
                "#B0BEC5",
                "#B0BEC5",
                "#B0BEC5",
                "#B0BEC5",
                "#B0BEC5",
                "#B0BEC5",
                "#B0BEC5",
                "#B0BEC5",
                "#B0BEC5",
                "#B0BEC5",
                "#B0BEC5",
                "#B0BEC5",
                "#B0BEC5",
                "#B0BEC5",
                "#B0BEC5",
                "#B0BEC5",
                "#B0BEC5",
                "#B0BEC5",
                "#B0BEC5",
                "#B0BEC5",
                "#B0BEC5",
                "#B0BEC5",
                "#B0BEC5",
                "#B0BEC5",
                "#B0BEC5",
                "#B0BEC5",
                "#B0BEC5",
                "#B0BEC5",
                "#B0BEC5",
                "#B0BEC5"
               ]
              ]
             }
            ],
            "label": "Topic 11",
            "method": "update"
           },
           {
            "args": [
             {
              "marker.color": [
               [
                "#B0BEC5",
                "#B0BEC5",
                "#B0BEC5",
                "#B0BEC5",
                "#B0BEC5",
                "#B0BEC5",
                "#B0BEC5",
                "#B0BEC5",
                "#B0BEC5",
                "#B0BEC5",
                "#B0BEC5",
                "#B0BEC5",
                "red",
                "#B0BEC5",
                "#B0BEC5",
                "#B0BEC5",
                "#B0BEC5",
                "#B0BEC5",
                "#B0BEC5",
                "#B0BEC5",
                "#B0BEC5",
                "#B0BEC5",
                "#B0BEC5",
                "#B0BEC5",
                "#B0BEC5",
                "#B0BEC5",
                "#B0BEC5",
                "#B0BEC5",
                "#B0BEC5",
                "#B0BEC5",
                "#B0BEC5",
                "#B0BEC5",
                "#B0BEC5",
                "#B0BEC5",
                "#B0BEC5",
                "#B0BEC5",
                "#B0BEC5",
                "#B0BEC5",
                "#B0BEC5",
                "#B0BEC5",
                "#B0BEC5",
                "#B0BEC5",
                "#B0BEC5",
                "#B0BEC5",
                "#B0BEC5",
                "#B0BEC5",
                "#B0BEC5",
                "#B0BEC5",
                "#B0BEC5",
                "#B0BEC5",
                "#B0BEC5",
                "#B0BEC5",
                "#B0BEC5",
                "#B0BEC5",
                "#B0BEC5",
                "#B0BEC5"
               ]
              ]
             }
            ],
            "label": "Topic 12",
            "method": "update"
           },
           {
            "args": [
             {
              "marker.color": [
               [
                "#B0BEC5",
                "#B0BEC5",
                "#B0BEC5",
                "#B0BEC5",
                "#B0BEC5",
                "#B0BEC5",
                "#B0BEC5",
                "#B0BEC5",
                "#B0BEC5",
                "#B0BEC5",
                "#B0BEC5",
                "#B0BEC5",
                "#B0BEC5",
                "red",
                "#B0BEC5",
                "#B0BEC5",
                "#B0BEC5",
                "#B0BEC5",
                "#B0BEC5",
                "#B0BEC5",
                "#B0BEC5",
                "#B0BEC5",
                "#B0BEC5",
                "#B0BEC5",
                "#B0BEC5",
                "#B0BEC5",
                "#B0BEC5",
                "#B0BEC5",
                "#B0BEC5",
                "#B0BEC5",
                "#B0BEC5",
                "#B0BEC5",
                "#B0BEC5",
                "#B0BEC5",
                "#B0BEC5",
                "#B0BEC5",
                "#B0BEC5",
                "#B0BEC5",
                "#B0BEC5",
                "#B0BEC5",
                "#B0BEC5",
                "#B0BEC5",
                "#B0BEC5",
                "#B0BEC5",
                "#B0BEC5",
                "#B0BEC5",
                "#B0BEC5",
                "#B0BEC5",
                "#B0BEC5",
                "#B0BEC5",
                "#B0BEC5",
                "#B0BEC5",
                "#B0BEC5",
                "#B0BEC5",
                "#B0BEC5",
                "#B0BEC5"
               ]
              ]
             }
            ],
            "label": "Topic 13",
            "method": "update"
           },
           {
            "args": [
             {
              "marker.color": [
               [
                "#B0BEC5",
                "#B0BEC5",
                "#B0BEC5",
                "#B0BEC5",
                "#B0BEC5",
                "#B0BEC5",
                "#B0BEC5",
                "#B0BEC5",
                "#B0BEC5",
                "#B0BEC5",
                "#B0BEC5",
                "#B0BEC5",
                "#B0BEC5",
                "#B0BEC5",
                "red",
                "#B0BEC5",
                "#B0BEC5",
                "#B0BEC5",
                "#B0BEC5",
                "#B0BEC5",
                "#B0BEC5",
                "#B0BEC5",
                "#B0BEC5",
                "#B0BEC5",
                "#B0BEC5",
                "#B0BEC5",
                "#B0BEC5",
                "#B0BEC5",
                "#B0BEC5",
                "#B0BEC5",
                "#B0BEC5",
                "#B0BEC5",
                "#B0BEC5",
                "#B0BEC5",
                "#B0BEC5",
                "#B0BEC5",
                "#B0BEC5",
                "#B0BEC5",
                "#B0BEC5",
                "#B0BEC5",
                "#B0BEC5",
                "#B0BEC5",
                "#B0BEC5",
                "#B0BEC5",
                "#B0BEC5",
                "#B0BEC5",
                "#B0BEC5",
                "#B0BEC5",
                "#B0BEC5",
                "#B0BEC5",
                "#B0BEC5",
                "#B0BEC5",
                "#B0BEC5",
                "#B0BEC5",
                "#B0BEC5",
                "#B0BEC5"
               ]
              ]
             }
            ],
            "label": "Topic 14",
            "method": "update"
           },
           {
            "args": [
             {
              "marker.color": [
               [
                "#B0BEC5",
                "#B0BEC5",
                "#B0BEC5",
                "#B0BEC5",
                "#B0BEC5",
                "#B0BEC5",
                "#B0BEC5",
                "#B0BEC5",
                "#B0BEC5",
                "#B0BEC5",
                "#B0BEC5",
                "#B0BEC5",
                "#B0BEC5",
                "#B0BEC5",
                "#B0BEC5",
                "red",
                "#B0BEC5",
                "#B0BEC5",
                "#B0BEC5",
                "#B0BEC5",
                "#B0BEC5",
                "#B0BEC5",
                "#B0BEC5",
                "#B0BEC5",
                "#B0BEC5",
                "#B0BEC5",
                "#B0BEC5",
                "#B0BEC5",
                "#B0BEC5",
                "#B0BEC5",
                "#B0BEC5",
                "#B0BEC5",
                "#B0BEC5",
                "#B0BEC5",
                "#B0BEC5",
                "#B0BEC5",
                "#B0BEC5",
                "#B0BEC5",
                "#B0BEC5",
                "#B0BEC5",
                "#B0BEC5",
                "#B0BEC5",
                "#B0BEC5",
                "#B0BEC5",
                "#B0BEC5",
                "#B0BEC5",
                "#B0BEC5",
                "#B0BEC5",
                "#B0BEC5",
                "#B0BEC5",
                "#B0BEC5",
                "#B0BEC5",
                "#B0BEC5",
                "#B0BEC5",
                "#B0BEC5",
                "#B0BEC5"
               ]
              ]
             }
            ],
            "label": "Topic 15",
            "method": "update"
           },
           {
            "args": [
             {
              "marker.color": [
               [
                "#B0BEC5",
                "#B0BEC5",
                "#B0BEC5",
                "#B0BEC5",
                "#B0BEC5",
                "#B0BEC5",
                "#B0BEC5",
                "#B0BEC5",
                "#B0BEC5",
                "#B0BEC5",
                "#B0BEC5",
                "#B0BEC5",
                "#B0BEC5",
                "#B0BEC5",
                "#B0BEC5",
                "#B0BEC5",
                "red",
                "#B0BEC5",
                "#B0BEC5",
                "#B0BEC5",
                "#B0BEC5",
                "#B0BEC5",
                "#B0BEC5",
                "#B0BEC5",
                "#B0BEC5",
                "#B0BEC5",
                "#B0BEC5",
                "#B0BEC5",
                "#B0BEC5",
                "#B0BEC5",
                "#B0BEC5",
                "#B0BEC5",
                "#B0BEC5",
                "#B0BEC5",
                "#B0BEC5",
                "#B0BEC5",
                "#B0BEC5",
                "#B0BEC5",
                "#B0BEC5",
                "#B0BEC5",
                "#B0BEC5",
                "#B0BEC5",
                "#B0BEC5",
                "#B0BEC5",
                "#B0BEC5",
                "#B0BEC5",
                "#B0BEC5",
                "#B0BEC5",
                "#B0BEC5",
                "#B0BEC5",
                "#B0BEC5",
                "#B0BEC5",
                "#B0BEC5",
                "#B0BEC5",
                "#B0BEC5",
                "#B0BEC5"
               ]
              ]
             }
            ],
            "label": "Topic 16",
            "method": "update"
           },
           {
            "args": [
             {
              "marker.color": [
               [
                "#B0BEC5",
                "#B0BEC5",
                "#B0BEC5",
                "#B0BEC5",
                "#B0BEC5",
                "#B0BEC5",
                "#B0BEC5",
                "#B0BEC5",
                "#B0BEC5",
                "#B0BEC5",
                "#B0BEC5",
                "#B0BEC5",
                "#B0BEC5",
                "#B0BEC5",
                "#B0BEC5",
                "#B0BEC5",
                "#B0BEC5",
                "red",
                "#B0BEC5",
                "#B0BEC5",
                "#B0BEC5",
                "#B0BEC5",
                "#B0BEC5",
                "#B0BEC5",
                "#B0BEC5",
                "#B0BEC5",
                "#B0BEC5",
                "#B0BEC5",
                "#B0BEC5",
                "#B0BEC5",
                "#B0BEC5",
                "#B0BEC5",
                "#B0BEC5",
                "#B0BEC5",
                "#B0BEC5",
                "#B0BEC5",
                "#B0BEC5",
                "#B0BEC5",
                "#B0BEC5",
                "#B0BEC5",
                "#B0BEC5",
                "#B0BEC5",
                "#B0BEC5",
                "#B0BEC5",
                "#B0BEC5",
                "#B0BEC5",
                "#B0BEC5",
                "#B0BEC5",
                "#B0BEC5",
                "#B0BEC5",
                "#B0BEC5",
                "#B0BEC5",
                "#B0BEC5",
                "#B0BEC5",
                "#B0BEC5",
                "#B0BEC5"
               ]
              ]
             }
            ],
            "label": "Topic 17",
            "method": "update"
           },
           {
            "args": [
             {
              "marker.color": [
               [
                "#B0BEC5",
                "#B0BEC5",
                "#B0BEC5",
                "#B0BEC5",
                "#B0BEC5",
                "#B0BEC5",
                "#B0BEC5",
                "#B0BEC5",
                "#B0BEC5",
                "#B0BEC5",
                "#B0BEC5",
                "#B0BEC5",
                "#B0BEC5",
                "#B0BEC5",
                "#B0BEC5",
                "#B0BEC5",
                "#B0BEC5",
                "#B0BEC5",
                "red",
                "#B0BEC5",
                "#B0BEC5",
                "#B0BEC5",
                "#B0BEC5",
                "#B0BEC5",
                "#B0BEC5",
                "#B0BEC5",
                "#B0BEC5",
                "#B0BEC5",
                "#B0BEC5",
                "#B0BEC5",
                "#B0BEC5",
                "#B0BEC5",
                "#B0BEC5",
                "#B0BEC5",
                "#B0BEC5",
                "#B0BEC5",
                "#B0BEC5",
                "#B0BEC5",
                "#B0BEC5",
                "#B0BEC5",
                "#B0BEC5",
                "#B0BEC5",
                "#B0BEC5",
                "#B0BEC5",
                "#B0BEC5",
                "#B0BEC5",
                "#B0BEC5",
                "#B0BEC5",
                "#B0BEC5",
                "#B0BEC5",
                "#B0BEC5",
                "#B0BEC5",
                "#B0BEC5",
                "#B0BEC5",
                "#B0BEC5",
                "#B0BEC5"
               ]
              ]
             }
            ],
            "label": "Topic 18",
            "method": "update"
           },
           {
            "args": [
             {
              "marker.color": [
               [
                "#B0BEC5",
                "#B0BEC5",
                "#B0BEC5",
                "#B0BEC5",
                "#B0BEC5",
                "#B0BEC5",
                "#B0BEC5",
                "#B0BEC5",
                "#B0BEC5",
                "#B0BEC5",
                "#B0BEC5",
                "#B0BEC5",
                "#B0BEC5",
                "#B0BEC5",
                "#B0BEC5",
                "#B0BEC5",
                "#B0BEC5",
                "#B0BEC5",
                "#B0BEC5",
                "red",
                "#B0BEC5",
                "#B0BEC5",
                "#B0BEC5",
                "#B0BEC5",
                "#B0BEC5",
                "#B0BEC5",
                "#B0BEC5",
                "#B0BEC5",
                "#B0BEC5",
                "#B0BEC5",
                "#B0BEC5",
                "#B0BEC5",
                "#B0BEC5",
                "#B0BEC5",
                "#B0BEC5",
                "#B0BEC5",
                "#B0BEC5",
                "#B0BEC5",
                "#B0BEC5",
                "#B0BEC5",
                "#B0BEC5",
                "#B0BEC5",
                "#B0BEC5",
                "#B0BEC5",
                "#B0BEC5",
                "#B0BEC5",
                "#B0BEC5",
                "#B0BEC5",
                "#B0BEC5",
                "#B0BEC5",
                "#B0BEC5",
                "#B0BEC5",
                "#B0BEC5",
                "#B0BEC5",
                "#B0BEC5",
                "#B0BEC5"
               ]
              ]
             }
            ],
            "label": "Topic 19",
            "method": "update"
           },
           {
            "args": [
             {
              "marker.color": [
               [
                "#B0BEC5",
                "#B0BEC5",
                "#B0BEC5",
                "#B0BEC5",
                "#B0BEC5",
                "#B0BEC5",
                "#B0BEC5",
                "#B0BEC5",
                "#B0BEC5",
                "#B0BEC5",
                "#B0BEC5",
                "#B0BEC5",
                "#B0BEC5",
                "#B0BEC5",
                "#B0BEC5",
                "#B0BEC5",
                "#B0BEC5",
                "#B0BEC5",
                "#B0BEC5",
                "#B0BEC5",
                "red",
                "#B0BEC5",
                "#B0BEC5",
                "#B0BEC5",
                "#B0BEC5",
                "#B0BEC5",
                "#B0BEC5",
                "#B0BEC5",
                "#B0BEC5",
                "#B0BEC5",
                "#B0BEC5",
                "#B0BEC5",
                "#B0BEC5",
                "#B0BEC5",
                "#B0BEC5",
                "#B0BEC5",
                "#B0BEC5",
                "#B0BEC5",
                "#B0BEC5",
                "#B0BEC5",
                "#B0BEC5",
                "#B0BEC5",
                "#B0BEC5",
                "#B0BEC5",
                "#B0BEC5",
                "#B0BEC5",
                "#B0BEC5",
                "#B0BEC5",
                "#B0BEC5",
                "#B0BEC5",
                "#B0BEC5",
                "#B0BEC5",
                "#B0BEC5",
                "#B0BEC5",
                "#B0BEC5",
                "#B0BEC5"
               ]
              ]
             }
            ],
            "label": "Topic 20",
            "method": "update"
           },
           {
            "args": [
             {
              "marker.color": [
               [
                "#B0BEC5",
                "#B0BEC5",
                "#B0BEC5",
                "#B0BEC5",
                "#B0BEC5",
                "#B0BEC5",
                "#B0BEC5",
                "#B0BEC5",
                "#B0BEC5",
                "#B0BEC5",
                "#B0BEC5",
                "#B0BEC5",
                "#B0BEC5",
                "#B0BEC5",
                "#B0BEC5",
                "#B0BEC5",
                "#B0BEC5",
                "#B0BEC5",
                "#B0BEC5",
                "#B0BEC5",
                "#B0BEC5",
                "red",
                "#B0BEC5",
                "#B0BEC5",
                "#B0BEC5",
                "#B0BEC5",
                "#B0BEC5",
                "#B0BEC5",
                "#B0BEC5",
                "#B0BEC5",
                "#B0BEC5",
                "#B0BEC5",
                "#B0BEC5",
                "#B0BEC5",
                "#B0BEC5",
                "#B0BEC5",
                "#B0BEC5",
                "#B0BEC5",
                "#B0BEC5",
                "#B0BEC5",
                "#B0BEC5",
                "#B0BEC5",
                "#B0BEC5",
                "#B0BEC5",
                "#B0BEC5",
                "#B0BEC5",
                "#B0BEC5",
                "#B0BEC5",
                "#B0BEC5",
                "#B0BEC5",
                "#B0BEC5",
                "#B0BEC5",
                "#B0BEC5",
                "#B0BEC5",
                "#B0BEC5",
                "#B0BEC5"
               ]
              ]
             }
            ],
            "label": "Topic 21",
            "method": "update"
           },
           {
            "args": [
             {
              "marker.color": [
               [
                "#B0BEC5",
                "#B0BEC5",
                "#B0BEC5",
                "#B0BEC5",
                "#B0BEC5",
                "#B0BEC5",
                "#B0BEC5",
                "#B0BEC5",
                "#B0BEC5",
                "#B0BEC5",
                "#B0BEC5",
                "#B0BEC5",
                "#B0BEC5",
                "#B0BEC5",
                "#B0BEC5",
                "#B0BEC5",
                "#B0BEC5",
                "#B0BEC5",
                "#B0BEC5",
                "#B0BEC5",
                "#B0BEC5",
                "#B0BEC5",
                "red",
                "#B0BEC5",
                "#B0BEC5",
                "#B0BEC5",
                "#B0BEC5",
                "#B0BEC5",
                "#B0BEC5",
                "#B0BEC5",
                "#B0BEC5",
                "#B0BEC5",
                "#B0BEC5",
                "#B0BEC5",
                "#B0BEC5",
                "#B0BEC5",
                "#B0BEC5",
                "#B0BEC5",
                "#B0BEC5",
                "#B0BEC5",
                "#B0BEC5",
                "#B0BEC5",
                "#B0BEC5",
                "#B0BEC5",
                "#B0BEC5",
                "#B0BEC5",
                "#B0BEC5",
                "#B0BEC5",
                "#B0BEC5",
                "#B0BEC5",
                "#B0BEC5",
                "#B0BEC5",
                "#B0BEC5",
                "#B0BEC5",
                "#B0BEC5",
                "#B0BEC5"
               ]
              ]
             }
            ],
            "label": "Topic 22",
            "method": "update"
           },
           {
            "args": [
             {
              "marker.color": [
               [
                "#B0BEC5",
                "#B0BEC5",
                "#B0BEC5",
                "#B0BEC5",
                "#B0BEC5",
                "#B0BEC5",
                "#B0BEC5",
                "#B0BEC5",
                "#B0BEC5",
                "#B0BEC5",
                "#B0BEC5",
                "#B0BEC5",
                "#B0BEC5",
                "#B0BEC5",
                "#B0BEC5",
                "#B0BEC5",
                "#B0BEC5",
                "#B0BEC5",
                "#B0BEC5",
                "#B0BEC5",
                "#B0BEC5",
                "#B0BEC5",
                "#B0BEC5",
                "red",
                "#B0BEC5",
                "#B0BEC5",
                "#B0BEC5",
                "#B0BEC5",
                "#B0BEC5",
                "#B0BEC5",
                "#B0BEC5",
                "#B0BEC5",
                "#B0BEC5",
                "#B0BEC5",
                "#B0BEC5",
                "#B0BEC5",
                "#B0BEC5",
                "#B0BEC5",
                "#B0BEC5",
                "#B0BEC5",
                "#B0BEC5",
                "#B0BEC5",
                "#B0BEC5",
                "#B0BEC5",
                "#B0BEC5",
                "#B0BEC5",
                "#B0BEC5",
                "#B0BEC5",
                "#B0BEC5",
                "#B0BEC5",
                "#B0BEC5",
                "#B0BEC5",
                "#B0BEC5",
                "#B0BEC5",
                "#B0BEC5",
                "#B0BEC5"
               ]
              ]
             }
            ],
            "label": "Topic 23",
            "method": "update"
           },
           {
            "args": [
             {
              "marker.color": [
               [
                "#B0BEC5",
                "#B0BEC5",
                "#B0BEC5",
                "#B0BEC5",
                "#B0BEC5",
                "#B0BEC5",
                "#B0BEC5",
                "#B0BEC5",
                "#B0BEC5",
                "#B0BEC5",
                "#B0BEC5",
                "#B0BEC5",
                "#B0BEC5",
                "#B0BEC5",
                "#B0BEC5",
                "#B0BEC5",
                "#B0BEC5",
                "#B0BEC5",
                "#B0BEC5",
                "#B0BEC5",
                "#B0BEC5",
                "#B0BEC5",
                "#B0BEC5",
                "#B0BEC5",
                "red",
                "#B0BEC5",
                "#B0BEC5",
                "#B0BEC5",
                "#B0BEC5",
                "#B0BEC5",
                "#B0BEC5",
                "#B0BEC5",
                "#B0BEC5",
                "#B0BEC5",
                "#B0BEC5",
                "#B0BEC5",
                "#B0BEC5",
                "#B0BEC5",
                "#B0BEC5",
                "#B0BEC5",
                "#B0BEC5",
                "#B0BEC5",
                "#B0BEC5",
                "#B0BEC5",
                "#B0BEC5",
                "#B0BEC5",
                "#B0BEC5",
                "#B0BEC5",
                "#B0BEC5",
                "#B0BEC5",
                "#B0BEC5",
                "#B0BEC5",
                "#B0BEC5",
                "#B0BEC5",
                "#B0BEC5",
                "#B0BEC5"
               ]
              ]
             }
            ],
            "label": "Topic 24",
            "method": "update"
           },
           {
            "args": [
             {
              "marker.color": [
               [
                "#B0BEC5",
                "#B0BEC5",
                "#B0BEC5",
                "#B0BEC5",
                "#B0BEC5",
                "#B0BEC5",
                "#B0BEC5",
                "#B0BEC5",
                "#B0BEC5",
                "#B0BEC5",
                "#B0BEC5",
                "#B0BEC5",
                "#B0BEC5",
                "#B0BEC5",
                "#B0BEC5",
                "#B0BEC5",
                "#B0BEC5",
                "#B0BEC5",
                "#B0BEC5",
                "#B0BEC5",
                "#B0BEC5",
                "#B0BEC5",
                "#B0BEC5",
                "#B0BEC5",
                "#B0BEC5",
                "red",
                "#B0BEC5",
                "#B0BEC5",
                "#B0BEC5",
                "#B0BEC5",
                "#B0BEC5",
                "#B0BEC5",
                "#B0BEC5",
                "#B0BEC5",
                "#B0BEC5",
                "#B0BEC5",
                "#B0BEC5",
                "#B0BEC5",
                "#B0BEC5",
                "#B0BEC5",
                "#B0BEC5",
                "#B0BEC5",
                "#B0BEC5",
                "#B0BEC5",
                "#B0BEC5",
                "#B0BEC5",
                "#B0BEC5",
                "#B0BEC5",
                "#B0BEC5",
                "#B0BEC5",
                "#B0BEC5",
                "#B0BEC5",
                "#B0BEC5",
                "#B0BEC5",
                "#B0BEC5",
                "#B0BEC5"
               ]
              ]
             }
            ],
            "label": "Topic 25",
            "method": "update"
           },
           {
            "args": [
             {
              "marker.color": [
               [
                "#B0BEC5",
                "#B0BEC5",
                "#B0BEC5",
                "#B0BEC5",
                "#B0BEC5",
                "#B0BEC5",
                "#B0BEC5",
                "#B0BEC5",
                "#B0BEC5",
                "#B0BEC5",
                "#B0BEC5",
                "#B0BEC5",
                "#B0BEC5",
                "#B0BEC5",
                "#B0BEC5",
                "#B0BEC5",
                "#B0BEC5",
                "#B0BEC5",
                "#B0BEC5",
                "#B0BEC5",
                "#B0BEC5",
                "#B0BEC5",
                "#B0BEC5",
                "#B0BEC5",
                "#B0BEC5",
                "#B0BEC5",
                "red",
                "#B0BEC5",
                "#B0BEC5",
                "#B0BEC5",
                "#B0BEC5",
                "#B0BEC5",
                "#B0BEC5",
                "#B0BEC5",
                "#B0BEC5",
                "#B0BEC5",
                "#B0BEC5",
                "#B0BEC5",
                "#B0BEC5",
                "#B0BEC5",
                "#B0BEC5",
                "#B0BEC5",
                "#B0BEC5",
                "#B0BEC5",
                "#B0BEC5",
                "#B0BEC5",
                "#B0BEC5",
                "#B0BEC5",
                "#B0BEC5",
                "#B0BEC5",
                "#B0BEC5",
                "#B0BEC5",
                "#B0BEC5",
                "#B0BEC5",
                "#B0BEC5",
                "#B0BEC5"
               ]
              ]
             }
            ],
            "label": "Topic 26",
            "method": "update"
           },
           {
            "args": [
             {
              "marker.color": [
               [
                "#B0BEC5",
                "#B0BEC5",
                "#B0BEC5",
                "#B0BEC5",
                "#B0BEC5",
                "#B0BEC5",
                "#B0BEC5",
                "#B0BEC5",
                "#B0BEC5",
                "#B0BEC5",
                "#B0BEC5",
                "#B0BEC5",
                "#B0BEC5",
                "#B0BEC5",
                "#B0BEC5",
                "#B0BEC5",
                "#B0BEC5",
                "#B0BEC5",
                "#B0BEC5",
                "#B0BEC5",
                "#B0BEC5",
                "#B0BEC5",
                "#B0BEC5",
                "#B0BEC5",
                "#B0BEC5",
                "#B0BEC5",
                "#B0BEC5",
                "red",
                "#B0BEC5",
                "#B0BEC5",
                "#B0BEC5",
                "#B0BEC5",
                "#B0BEC5",
                "#B0BEC5",
                "#B0BEC5",
                "#B0BEC5",
                "#B0BEC5",
                "#B0BEC5",
                "#B0BEC5",
                "#B0BEC5",
                "#B0BEC5",
                "#B0BEC5",
                "#B0BEC5",
                "#B0BEC5",
                "#B0BEC5",
                "#B0BEC5",
                "#B0BEC5",
                "#B0BEC5",
                "#B0BEC5",
                "#B0BEC5",
                "#B0BEC5",
                "#B0BEC5",
                "#B0BEC5",
                "#B0BEC5",
                "#B0BEC5",
                "#B0BEC5"
               ]
              ]
             }
            ],
            "label": "Topic 27",
            "method": "update"
           },
           {
            "args": [
             {
              "marker.color": [
               [
                "#B0BEC5",
                "#B0BEC5",
                "#B0BEC5",
                "#B0BEC5",
                "#B0BEC5",
                "#B0BEC5",
                "#B0BEC5",
                "#B0BEC5",
                "#B0BEC5",
                "#B0BEC5",
                "#B0BEC5",
                "#B0BEC5",
                "#B0BEC5",
                "#B0BEC5",
                "#B0BEC5",
                "#B0BEC5",
                "#B0BEC5",
                "#B0BEC5",
                "#B0BEC5",
                "#B0BEC5",
                "#B0BEC5",
                "#B0BEC5",
                "#B0BEC5",
                "#B0BEC5",
                "#B0BEC5",
                "#B0BEC5",
                "#B0BEC5",
                "#B0BEC5",
                "red",
                "#B0BEC5",
                "#B0BEC5",
                "#B0BEC5",
                "#B0BEC5",
                "#B0BEC5",
                "#B0BEC5",
                "#B0BEC5",
                "#B0BEC5",
                "#B0BEC5",
                "#B0BEC5",
                "#B0BEC5",
                "#B0BEC5",
                "#B0BEC5",
                "#B0BEC5",
                "#B0BEC5",
                "#B0BEC5",
                "#B0BEC5",
                "#B0BEC5",
                "#B0BEC5",
                "#B0BEC5",
                "#B0BEC5",
                "#B0BEC5",
                "#B0BEC5",
                "#B0BEC5",
                "#B0BEC5",
                "#B0BEC5",
                "#B0BEC5"
               ]
              ]
             }
            ],
            "label": "Topic 28",
            "method": "update"
           },
           {
            "args": [
             {
              "marker.color": [
               [
                "#B0BEC5",
                "#B0BEC5",
                "#B0BEC5",
                "#B0BEC5",
                "#B0BEC5",
                "#B0BEC5",
                "#B0BEC5",
                "#B0BEC5",
                "#B0BEC5",
                "#B0BEC5",
                "#B0BEC5",
                "#B0BEC5",
                "#B0BEC5",
                "#B0BEC5",
                "#B0BEC5",
                "#B0BEC5",
                "#B0BEC5",
                "#B0BEC5",
                "#B0BEC5",
                "#B0BEC5",
                "#B0BEC5",
                "#B0BEC5",
                "#B0BEC5",
                "#B0BEC5",
                "#B0BEC5",
                "#B0BEC5",
                "#B0BEC5",
                "#B0BEC5",
                "#B0BEC5",
                "red",
                "#B0BEC5",
                "#B0BEC5",
                "#B0BEC5",
                "#B0BEC5",
                "#B0BEC5",
                "#B0BEC5",
                "#B0BEC5",
                "#B0BEC5",
                "#B0BEC5",
                "#B0BEC5",
                "#B0BEC5",
                "#B0BEC5",
                "#B0BEC5",
                "#B0BEC5",
                "#B0BEC5",
                "#B0BEC5",
                "#B0BEC5",
                "#B0BEC5",
                "#B0BEC5",
                "#B0BEC5",
                "#B0BEC5",
                "#B0BEC5",
                "#B0BEC5",
                "#B0BEC5",
                "#B0BEC5",
                "#B0BEC5"
               ]
              ]
             }
            ],
            "label": "Topic 29",
            "method": "update"
           },
           {
            "args": [
             {
              "marker.color": [
               [
                "#B0BEC5",
                "#B0BEC5",
                "#B0BEC5",
                "#B0BEC5",
                "#B0BEC5",
                "#B0BEC5",
                "#B0BEC5",
                "#B0BEC5",
                "#B0BEC5",
                "#B0BEC5",
                "#B0BEC5",
                "#B0BEC5",
                "#B0BEC5",
                "#B0BEC5",
                "#B0BEC5",
                "#B0BEC5",
                "#B0BEC5",
                "#B0BEC5",
                "#B0BEC5",
                "#B0BEC5",
                "#B0BEC5",
                "#B0BEC5",
                "#B0BEC5",
                "#B0BEC5",
                "#B0BEC5",
                "#B0BEC5",
                "#B0BEC5",
                "#B0BEC5",
                "#B0BEC5",
                "#B0BEC5",
                "red",
                "#B0BEC5",
                "#B0BEC5",
                "#B0BEC5",
                "#B0BEC5",
                "#B0BEC5",
                "#B0BEC5",
                "#B0BEC5",
                "#B0BEC5",
                "#B0BEC5",
                "#B0BEC5",
                "#B0BEC5",
                "#B0BEC5",
                "#B0BEC5",
                "#B0BEC5",
                "#B0BEC5",
                "#B0BEC5",
                "#B0BEC5",
                "#B0BEC5",
                "#B0BEC5",
                "#B0BEC5",
                "#B0BEC5",
                "#B0BEC5",
                "#B0BEC5",
                "#B0BEC5",
                "#B0BEC5"
               ]
              ]
             }
            ],
            "label": "Topic 30",
            "method": "update"
           },
           {
            "args": [
             {
              "marker.color": [
               [
                "#B0BEC5",
                "#B0BEC5",
                "#B0BEC5",
                "#B0BEC5",
                "#B0BEC5",
                "#B0BEC5",
                "#B0BEC5",
                "#B0BEC5",
                "#B0BEC5",
                "#B0BEC5",
                "#B0BEC5",
                "#B0BEC5",
                "#B0BEC5",
                "#B0BEC5",
                "#B0BEC5",
                "#B0BEC5",
                "#B0BEC5",
                "#B0BEC5",
                "#B0BEC5",
                "#B0BEC5",
                "#B0BEC5",
                "#B0BEC5",
                "#B0BEC5",
                "#B0BEC5",
                "#B0BEC5",
                "#B0BEC5",
                "#B0BEC5",
                "#B0BEC5",
                "#B0BEC5",
                "#B0BEC5",
                "#B0BEC5",
                "red",
                "#B0BEC5",
                "#B0BEC5",
                "#B0BEC5",
                "#B0BEC5",
                "#B0BEC5",
                "#B0BEC5",
                "#B0BEC5",
                "#B0BEC5",
                "#B0BEC5",
                "#B0BEC5",
                "#B0BEC5",
                "#B0BEC5",
                "#B0BEC5",
                "#B0BEC5",
                "#B0BEC5",
                "#B0BEC5",
                "#B0BEC5",
                "#B0BEC5",
                "#B0BEC5",
                "#B0BEC5",
                "#B0BEC5",
                "#B0BEC5",
                "#B0BEC5",
                "#B0BEC5"
               ]
              ]
             }
            ],
            "label": "Topic 31",
            "method": "update"
           },
           {
            "args": [
             {
              "marker.color": [
               [
                "#B0BEC5",
                "#B0BEC5",
                "#B0BEC5",
                "#B0BEC5",
                "#B0BEC5",
                "#B0BEC5",
                "#B0BEC5",
                "#B0BEC5",
                "#B0BEC5",
                "#B0BEC5",
                "#B0BEC5",
                "#B0BEC5",
                "#B0BEC5",
                "#B0BEC5",
                "#B0BEC5",
                "#B0BEC5",
                "#B0BEC5",
                "#B0BEC5",
                "#B0BEC5",
                "#B0BEC5",
                "#B0BEC5",
                "#B0BEC5",
                "#B0BEC5",
                "#B0BEC5",
                "#B0BEC5",
                "#B0BEC5",
                "#B0BEC5",
                "#B0BEC5",
                "#B0BEC5",
                "#B0BEC5",
                "#B0BEC5",
                "#B0BEC5",
                "red",
                "#B0BEC5",
                "#B0BEC5",
                "#B0BEC5",
                "#B0BEC5",
                "#B0BEC5",
                "#B0BEC5",
                "#B0BEC5",
                "#B0BEC5",
                "#B0BEC5",
                "#B0BEC5",
                "#B0BEC5",
                "#B0BEC5",
                "#B0BEC5",
                "#B0BEC5",
                "#B0BEC5",
                "#B0BEC5",
                "#B0BEC5",
                "#B0BEC5",
                "#B0BEC5",
                "#B0BEC5",
                "#B0BEC5",
                "#B0BEC5",
                "#B0BEC5"
               ]
              ]
             }
            ],
            "label": "Topic 32",
            "method": "update"
           },
           {
            "args": [
             {
              "marker.color": [
               [
                "#B0BEC5",
                "#B0BEC5",
                "#B0BEC5",
                "#B0BEC5",
                "#B0BEC5",
                "#B0BEC5",
                "#B0BEC5",
                "#B0BEC5",
                "#B0BEC5",
                "#B0BEC5",
                "#B0BEC5",
                "#B0BEC5",
                "#B0BEC5",
                "#B0BEC5",
                "#B0BEC5",
                "#B0BEC5",
                "#B0BEC5",
                "#B0BEC5",
                "#B0BEC5",
                "#B0BEC5",
                "#B0BEC5",
                "#B0BEC5",
                "#B0BEC5",
                "#B0BEC5",
                "#B0BEC5",
                "#B0BEC5",
                "#B0BEC5",
                "#B0BEC5",
                "#B0BEC5",
                "#B0BEC5",
                "#B0BEC5",
                "#B0BEC5",
                "#B0BEC5",
                "red",
                "#B0BEC5",
                "#B0BEC5",
                "#B0BEC5",
                "#B0BEC5",
                "#B0BEC5",
                "#B0BEC5",
                "#B0BEC5",
                "#B0BEC5",
                "#B0BEC5",
                "#B0BEC5",
                "#B0BEC5",
                "#B0BEC5",
                "#B0BEC5",
                "#B0BEC5",
                "#B0BEC5",
                "#B0BEC5",
                "#B0BEC5",
                "#B0BEC5",
                "#B0BEC5",
                "#B0BEC5",
                "#B0BEC5",
                "#B0BEC5"
               ]
              ]
             }
            ],
            "label": "Topic 33",
            "method": "update"
           },
           {
            "args": [
             {
              "marker.color": [
               [
                "#B0BEC5",
                "#B0BEC5",
                "#B0BEC5",
                "#B0BEC5",
                "#B0BEC5",
                "#B0BEC5",
                "#B0BEC5",
                "#B0BEC5",
                "#B0BEC5",
                "#B0BEC5",
                "#B0BEC5",
                "#B0BEC5",
                "#B0BEC5",
                "#B0BEC5",
                "#B0BEC5",
                "#B0BEC5",
                "#B0BEC5",
                "#B0BEC5",
                "#B0BEC5",
                "#B0BEC5",
                "#B0BEC5",
                "#B0BEC5",
                "#B0BEC5",
                "#B0BEC5",
                "#B0BEC5",
                "#B0BEC5",
                "#B0BEC5",
                "#B0BEC5",
                "#B0BEC5",
                "#B0BEC5",
                "#B0BEC5",
                "#B0BEC5",
                "#B0BEC5",
                "#B0BEC5",
                "red",
                "#B0BEC5",
                "#B0BEC5",
                "#B0BEC5",
                "#B0BEC5",
                "#B0BEC5",
                "#B0BEC5",
                "#B0BEC5",
                "#B0BEC5",
                "#B0BEC5",
                "#B0BEC5",
                "#B0BEC5",
                "#B0BEC5",
                "#B0BEC5",
                "#B0BEC5",
                "#B0BEC5",
                "#B0BEC5",
                "#B0BEC5",
                "#B0BEC5",
                "#B0BEC5",
                "#B0BEC5",
                "#B0BEC5"
               ]
              ]
             }
            ],
            "label": "Topic 34",
            "method": "update"
           },
           {
            "args": [
             {
              "marker.color": [
               [
                "#B0BEC5",
                "#B0BEC5",
                "#B0BEC5",
                "#B0BEC5",
                "#B0BEC5",
                "#B0BEC5",
                "#B0BEC5",
                "#B0BEC5",
                "#B0BEC5",
                "#B0BEC5",
                "#B0BEC5",
                "#B0BEC5",
                "#B0BEC5",
                "#B0BEC5",
                "#B0BEC5",
                "#B0BEC5",
                "#B0BEC5",
                "#B0BEC5",
                "#B0BEC5",
                "#B0BEC5",
                "#B0BEC5",
                "#B0BEC5",
                "#B0BEC5",
                "#B0BEC5",
                "#B0BEC5",
                "#B0BEC5",
                "#B0BEC5",
                "#B0BEC5",
                "#B0BEC5",
                "#B0BEC5",
                "#B0BEC5",
                "#B0BEC5",
                "#B0BEC5",
                "#B0BEC5",
                "#B0BEC5",
                "red",
                "#B0BEC5",
                "#B0BEC5",
                "#B0BEC5",
                "#B0BEC5",
                "#B0BEC5",
                "#B0BEC5",
                "#B0BEC5",
                "#B0BEC5",
                "#B0BEC5",
                "#B0BEC5",
                "#B0BEC5",
                "#B0BEC5",
                "#B0BEC5",
                "#B0BEC5",
                "#B0BEC5",
                "#B0BEC5",
                "#B0BEC5",
                "#B0BEC5",
                "#B0BEC5",
                "#B0BEC5"
               ]
              ]
             }
            ],
            "label": "Topic 35",
            "method": "update"
           },
           {
            "args": [
             {
              "marker.color": [
               [
                "#B0BEC5",
                "#B0BEC5",
                "#B0BEC5",
                "#B0BEC5",
                "#B0BEC5",
                "#B0BEC5",
                "#B0BEC5",
                "#B0BEC5",
                "#B0BEC5",
                "#B0BEC5",
                "#B0BEC5",
                "#B0BEC5",
                "#B0BEC5",
                "#B0BEC5",
                "#B0BEC5",
                "#B0BEC5",
                "#B0BEC5",
                "#B0BEC5",
                "#B0BEC5",
                "#B0BEC5",
                "#B0BEC5",
                "#B0BEC5",
                "#B0BEC5",
                "#B0BEC5",
                "#B0BEC5",
                "#B0BEC5",
                "#B0BEC5",
                "#B0BEC5",
                "#B0BEC5",
                "#B0BEC5",
                "#B0BEC5",
                "#B0BEC5",
                "#B0BEC5",
                "#B0BEC5",
                "#B0BEC5",
                "#B0BEC5",
                "red",
                "#B0BEC5",
                "#B0BEC5",
                "#B0BEC5",
                "#B0BEC5",
                "#B0BEC5",
                "#B0BEC5",
                "#B0BEC5",
                "#B0BEC5",
                "#B0BEC5",
                "#B0BEC5",
                "#B0BEC5",
                "#B0BEC5",
                "#B0BEC5",
                "#B0BEC5",
                "#B0BEC5",
                "#B0BEC5",
                "#B0BEC5",
                "#B0BEC5",
                "#B0BEC5"
               ]
              ]
             }
            ],
            "label": "Topic 36",
            "method": "update"
           },
           {
            "args": [
             {
              "marker.color": [
               [
                "#B0BEC5",
                "#B0BEC5",
                "#B0BEC5",
                "#B0BEC5",
                "#B0BEC5",
                "#B0BEC5",
                "#B0BEC5",
                "#B0BEC5",
                "#B0BEC5",
                "#B0BEC5",
                "#B0BEC5",
                "#B0BEC5",
                "#B0BEC5",
                "#B0BEC5",
                "#B0BEC5",
                "#B0BEC5",
                "#B0BEC5",
                "#B0BEC5",
                "#B0BEC5",
                "#B0BEC5",
                "#B0BEC5",
                "#B0BEC5",
                "#B0BEC5",
                "#B0BEC5",
                "#B0BEC5",
                "#B0BEC5",
                "#B0BEC5",
                "#B0BEC5",
                "#B0BEC5",
                "#B0BEC5",
                "#B0BEC5",
                "#B0BEC5",
                "#B0BEC5",
                "#B0BEC5",
                "#B0BEC5",
                "#B0BEC5",
                "#B0BEC5",
                "red",
                "#B0BEC5",
                "#B0BEC5",
                "#B0BEC5",
                "#B0BEC5",
                "#B0BEC5",
                "#B0BEC5",
                "#B0BEC5",
                "#B0BEC5",
                "#B0BEC5",
                "#B0BEC5",
                "#B0BEC5",
                "#B0BEC5",
                "#B0BEC5",
                "#B0BEC5",
                "#B0BEC5",
                "#B0BEC5",
                "#B0BEC5",
                "#B0BEC5"
               ]
              ]
             }
            ],
            "label": "Topic 37",
            "method": "update"
           },
           {
            "args": [
             {
              "marker.color": [
               [
                "#B0BEC5",
                "#B0BEC5",
                "#B0BEC5",
                "#B0BEC5",
                "#B0BEC5",
                "#B0BEC5",
                "#B0BEC5",
                "#B0BEC5",
                "#B0BEC5",
                "#B0BEC5",
                "#B0BEC5",
                "#B0BEC5",
                "#B0BEC5",
                "#B0BEC5",
                "#B0BEC5",
                "#B0BEC5",
                "#B0BEC5",
                "#B0BEC5",
                "#B0BEC5",
                "#B0BEC5",
                "#B0BEC5",
                "#B0BEC5",
                "#B0BEC5",
                "#B0BEC5",
                "#B0BEC5",
                "#B0BEC5",
                "#B0BEC5",
                "#B0BEC5",
                "#B0BEC5",
                "#B0BEC5",
                "#B0BEC5",
                "#B0BEC5",
                "#B0BEC5",
                "#B0BEC5",
                "#B0BEC5",
                "#B0BEC5",
                "#B0BEC5",
                "#B0BEC5",
                "red",
                "#B0BEC5",
                "#B0BEC5",
                "#B0BEC5",
                "#B0BEC5",
                "#B0BEC5",
                "#B0BEC5",
                "#B0BEC5",
                "#B0BEC5",
                "#B0BEC5",
                "#B0BEC5",
                "#B0BEC5",
                "#B0BEC5",
                "#B0BEC5",
                "#B0BEC5",
                "#B0BEC5",
                "#B0BEC5",
                "#B0BEC5"
               ]
              ]
             }
            ],
            "label": "Topic 38",
            "method": "update"
           },
           {
            "args": [
             {
              "marker.color": [
               [
                "#B0BEC5",
                "#B0BEC5",
                "#B0BEC5",
                "#B0BEC5",
                "#B0BEC5",
                "#B0BEC5",
                "#B0BEC5",
                "#B0BEC5",
                "#B0BEC5",
                "#B0BEC5",
                "#B0BEC5",
                "#B0BEC5",
                "#B0BEC5",
                "#B0BEC5",
                "#B0BEC5",
                "#B0BEC5",
                "#B0BEC5",
                "#B0BEC5",
                "#B0BEC5",
                "#B0BEC5",
                "#B0BEC5",
                "#B0BEC5",
                "#B0BEC5",
                "#B0BEC5",
                "#B0BEC5",
                "#B0BEC5",
                "#B0BEC5",
                "#B0BEC5",
                "#B0BEC5",
                "#B0BEC5",
                "#B0BEC5",
                "#B0BEC5",
                "#B0BEC5",
                "#B0BEC5",
                "#B0BEC5",
                "#B0BEC5",
                "#B0BEC5",
                "#B0BEC5",
                "#B0BEC5",
                "red",
                "#B0BEC5",
                "#B0BEC5",
                "#B0BEC5",
                "#B0BEC5",
                "#B0BEC5",
                "#B0BEC5",
                "#B0BEC5",
                "#B0BEC5",
                "#B0BEC5",
                "#B0BEC5",
                "#B0BEC5",
                "#B0BEC5",
                "#B0BEC5",
                "#B0BEC5",
                "#B0BEC5",
                "#B0BEC5"
               ]
              ]
             }
            ],
            "label": "Topic 39",
            "method": "update"
           },
           {
            "args": [
             {
              "marker.color": [
               [
                "#B0BEC5",
                "#B0BEC5",
                "#B0BEC5",
                "#B0BEC5",
                "#B0BEC5",
                "#B0BEC5",
                "#B0BEC5",
                "#B0BEC5",
                "#B0BEC5",
                "#B0BEC5",
                "#B0BEC5",
                "#B0BEC5",
                "#B0BEC5",
                "#B0BEC5",
                "#B0BEC5",
                "#B0BEC5",
                "#B0BEC5",
                "#B0BEC5",
                "#B0BEC5",
                "#B0BEC5",
                "#B0BEC5",
                "#B0BEC5",
                "#B0BEC5",
                "#B0BEC5",
                "#B0BEC5",
                "#B0BEC5",
                "#B0BEC5",
                "#B0BEC5",
                "#B0BEC5",
                "#B0BEC5",
                "#B0BEC5",
                "#B0BEC5",
                "#B0BEC5",
                "#B0BEC5",
                "#B0BEC5",
                "#B0BEC5",
                "#B0BEC5",
                "#B0BEC5",
                "#B0BEC5",
                "#B0BEC5",
                "red",
                "#B0BEC5",
                "#B0BEC5",
                "#B0BEC5",
                "#B0BEC5",
                "#B0BEC5",
                "#B0BEC5",
                "#B0BEC5",
                "#B0BEC5",
                "#B0BEC5",
                "#B0BEC5",
                "#B0BEC5",
                "#B0BEC5",
                "#B0BEC5",
                "#B0BEC5",
                "#B0BEC5"
               ]
              ]
             }
            ],
            "label": "Topic 40",
            "method": "update"
           },
           {
            "args": [
             {
              "marker.color": [
               [
                "#B0BEC5",
                "#B0BEC5",
                "#B0BEC5",
                "#B0BEC5",
                "#B0BEC5",
                "#B0BEC5",
                "#B0BEC5",
                "#B0BEC5",
                "#B0BEC5",
                "#B0BEC5",
                "#B0BEC5",
                "#B0BEC5",
                "#B0BEC5",
                "#B0BEC5",
                "#B0BEC5",
                "#B0BEC5",
                "#B0BEC5",
                "#B0BEC5",
                "#B0BEC5",
                "#B0BEC5",
                "#B0BEC5",
                "#B0BEC5",
                "#B0BEC5",
                "#B0BEC5",
                "#B0BEC5",
                "#B0BEC5",
                "#B0BEC5",
                "#B0BEC5",
                "#B0BEC5",
                "#B0BEC5",
                "#B0BEC5",
                "#B0BEC5",
                "#B0BEC5",
                "#B0BEC5",
                "#B0BEC5",
                "#B0BEC5",
                "#B0BEC5",
                "#B0BEC5",
                "#B0BEC5",
                "#B0BEC5",
                "#B0BEC5",
                "red",
                "#B0BEC5",
                "#B0BEC5",
                "#B0BEC5",
                "#B0BEC5",
                "#B0BEC5",
                "#B0BEC5",
                "#B0BEC5",
                "#B0BEC5",
                "#B0BEC5",
                "#B0BEC5",
                "#B0BEC5",
                "#B0BEC5",
                "#B0BEC5",
                "#B0BEC5"
               ]
              ]
             }
            ],
            "label": "Topic 41",
            "method": "update"
           },
           {
            "args": [
             {
              "marker.color": [
               [
                "#B0BEC5",
                "#B0BEC5",
                "#B0BEC5",
                "#B0BEC5",
                "#B0BEC5",
                "#B0BEC5",
                "#B0BEC5",
                "#B0BEC5",
                "#B0BEC5",
                "#B0BEC5",
                "#B0BEC5",
                "#B0BEC5",
                "#B0BEC5",
                "#B0BEC5",
                "#B0BEC5",
                "#B0BEC5",
                "#B0BEC5",
                "#B0BEC5",
                "#B0BEC5",
                "#B0BEC5",
                "#B0BEC5",
                "#B0BEC5",
                "#B0BEC5",
                "#B0BEC5",
                "#B0BEC5",
                "#B0BEC5",
                "#B0BEC5",
                "#B0BEC5",
                "#B0BEC5",
                "#B0BEC5",
                "#B0BEC5",
                "#B0BEC5",
                "#B0BEC5",
                "#B0BEC5",
                "#B0BEC5",
                "#B0BEC5",
                "#B0BEC5",
                "#B0BEC5",
                "#B0BEC5",
                "#B0BEC5",
                "#B0BEC5",
                "#B0BEC5",
                "red",
                "#B0BEC5",
                "#B0BEC5",
                "#B0BEC5",
                "#B0BEC5",
                "#B0BEC5",
                "#B0BEC5",
                "#B0BEC5",
                "#B0BEC5",
                "#B0BEC5",
                "#B0BEC5",
                "#B0BEC5",
                "#B0BEC5",
                "#B0BEC5"
               ]
              ]
             }
            ],
            "label": "Topic 42",
            "method": "update"
           },
           {
            "args": [
             {
              "marker.color": [
               [
                "#B0BEC5",
                "#B0BEC5",
                "#B0BEC5",
                "#B0BEC5",
                "#B0BEC5",
                "#B0BEC5",
                "#B0BEC5",
                "#B0BEC5",
                "#B0BEC5",
                "#B0BEC5",
                "#B0BEC5",
                "#B0BEC5",
                "#B0BEC5",
                "#B0BEC5",
                "#B0BEC5",
                "#B0BEC5",
                "#B0BEC5",
                "#B0BEC5",
                "#B0BEC5",
                "#B0BEC5",
                "#B0BEC5",
                "#B0BEC5",
                "#B0BEC5",
                "#B0BEC5",
                "#B0BEC5",
                "#B0BEC5",
                "#B0BEC5",
                "#B0BEC5",
                "#B0BEC5",
                "#B0BEC5",
                "#B0BEC5",
                "#B0BEC5",
                "#B0BEC5",
                "#B0BEC5",
                "#B0BEC5",
                "#B0BEC5",
                "#B0BEC5",
                "#B0BEC5",
                "#B0BEC5",
                "#B0BEC5",
                "#B0BEC5",
                "#B0BEC5",
                "#B0BEC5",
                "red",
                "#B0BEC5",
                "#B0BEC5",
                "#B0BEC5",
                "#B0BEC5",
                "#B0BEC5",
                "#B0BEC5",
                "#B0BEC5",
                "#B0BEC5",
                "#B0BEC5",
                "#B0BEC5",
                "#B0BEC5",
                "#B0BEC5"
               ]
              ]
             }
            ],
            "label": "Topic 43",
            "method": "update"
           },
           {
            "args": [
             {
              "marker.color": [
               [
                "#B0BEC5",
                "#B0BEC5",
                "#B0BEC5",
                "#B0BEC5",
                "#B0BEC5",
                "#B0BEC5",
                "#B0BEC5",
                "#B0BEC5",
                "#B0BEC5",
                "#B0BEC5",
                "#B0BEC5",
                "#B0BEC5",
                "#B0BEC5",
                "#B0BEC5",
                "#B0BEC5",
                "#B0BEC5",
                "#B0BEC5",
                "#B0BEC5",
                "#B0BEC5",
                "#B0BEC5",
                "#B0BEC5",
                "#B0BEC5",
                "#B0BEC5",
                "#B0BEC5",
                "#B0BEC5",
                "#B0BEC5",
                "#B0BEC5",
                "#B0BEC5",
                "#B0BEC5",
                "#B0BEC5",
                "#B0BEC5",
                "#B0BEC5",
                "#B0BEC5",
                "#B0BEC5",
                "#B0BEC5",
                "#B0BEC5",
                "#B0BEC5",
                "#B0BEC5",
                "#B0BEC5",
                "#B0BEC5",
                "#B0BEC5",
                "#B0BEC5",
                "#B0BEC5",
                "#B0BEC5",
                "red",
                "#B0BEC5",
                "#B0BEC5",
                "#B0BEC5",
                "#B0BEC5",
                "#B0BEC5",
                "#B0BEC5",
                "#B0BEC5",
                "#B0BEC5",
                "#B0BEC5",
                "#B0BEC5",
                "#B0BEC5"
               ]
              ]
             }
            ],
            "label": "Topic 44",
            "method": "update"
           },
           {
            "args": [
             {
              "marker.color": [
               [
                "#B0BEC5",
                "#B0BEC5",
                "#B0BEC5",
                "#B0BEC5",
                "#B0BEC5",
                "#B0BEC5",
                "#B0BEC5",
                "#B0BEC5",
                "#B0BEC5",
                "#B0BEC5",
                "#B0BEC5",
                "#B0BEC5",
                "#B0BEC5",
                "#B0BEC5",
                "#B0BEC5",
                "#B0BEC5",
                "#B0BEC5",
                "#B0BEC5",
                "#B0BEC5",
                "#B0BEC5",
                "#B0BEC5",
                "#B0BEC5",
                "#B0BEC5",
                "#B0BEC5",
                "#B0BEC5",
                "#B0BEC5",
                "#B0BEC5",
                "#B0BEC5",
                "#B0BEC5",
                "#B0BEC5",
                "#B0BEC5",
                "#B0BEC5",
                "#B0BEC5",
                "#B0BEC5",
                "#B0BEC5",
                "#B0BEC5",
                "#B0BEC5",
                "#B0BEC5",
                "#B0BEC5",
                "#B0BEC5",
                "#B0BEC5",
                "#B0BEC5",
                "#B0BEC5",
                "#B0BEC5",
                "#B0BEC5",
                "red",
                "#B0BEC5",
                "#B0BEC5",
                "#B0BEC5",
                "#B0BEC5",
                "#B0BEC5",
                "#B0BEC5",
                "#B0BEC5",
                "#B0BEC5",
                "#B0BEC5",
                "#B0BEC5"
               ]
              ]
             }
            ],
            "label": "Topic 45",
            "method": "update"
           },
           {
            "args": [
             {
              "marker.color": [
               [
                "#B0BEC5",
                "#B0BEC5",
                "#B0BEC5",
                "#B0BEC5",
                "#B0BEC5",
                "#B0BEC5",
                "#B0BEC5",
                "#B0BEC5",
                "#B0BEC5",
                "#B0BEC5",
                "#B0BEC5",
                "#B0BEC5",
                "#B0BEC5",
                "#B0BEC5",
                "#B0BEC5",
                "#B0BEC5",
                "#B0BEC5",
                "#B0BEC5",
                "#B0BEC5",
                "#B0BEC5",
                "#B0BEC5",
                "#B0BEC5",
                "#B0BEC5",
                "#B0BEC5",
                "#B0BEC5",
                "#B0BEC5",
                "#B0BEC5",
                "#B0BEC5",
                "#B0BEC5",
                "#B0BEC5",
                "#B0BEC5",
                "#B0BEC5",
                "#B0BEC5",
                "#B0BEC5",
                "#B0BEC5",
                "#B0BEC5",
                "#B0BEC5",
                "#B0BEC5",
                "#B0BEC5",
                "#B0BEC5",
                "#B0BEC5",
                "#B0BEC5",
                "#B0BEC5",
                "#B0BEC5",
                "#B0BEC5",
                "#B0BEC5",
                "red",
                "#B0BEC5",
                "#B0BEC5",
                "#B0BEC5",
                "#B0BEC5",
                "#B0BEC5",
                "#B0BEC5",
                "#B0BEC5",
                "#B0BEC5",
                "#B0BEC5"
               ]
              ]
             }
            ],
            "label": "Topic 46",
            "method": "update"
           },
           {
            "args": [
             {
              "marker.color": [
               [
                "#B0BEC5",
                "#B0BEC5",
                "#B0BEC5",
                "#B0BEC5",
                "#B0BEC5",
                "#B0BEC5",
                "#B0BEC5",
                "#B0BEC5",
                "#B0BEC5",
                "#B0BEC5",
                "#B0BEC5",
                "#B0BEC5",
                "#B0BEC5",
                "#B0BEC5",
                "#B0BEC5",
                "#B0BEC5",
                "#B0BEC5",
                "#B0BEC5",
                "#B0BEC5",
                "#B0BEC5",
                "#B0BEC5",
                "#B0BEC5",
                "#B0BEC5",
                "#B0BEC5",
                "#B0BEC5",
                "#B0BEC5",
                "#B0BEC5",
                "#B0BEC5",
                "#B0BEC5",
                "#B0BEC5",
                "#B0BEC5",
                "#B0BEC5",
                "#B0BEC5",
                "#B0BEC5",
                "#B0BEC5",
                "#B0BEC5",
                "#B0BEC5",
                "#B0BEC5",
                "#B0BEC5",
                "#B0BEC5",
                "#B0BEC5",
                "#B0BEC5",
                "#B0BEC5",
                "#B0BEC5",
                "#B0BEC5",
                "#B0BEC5",
                "#B0BEC5",
                "red",
                "#B0BEC5",
                "#B0BEC5",
                "#B0BEC5",
                "#B0BEC5",
                "#B0BEC5",
                "#B0BEC5",
                "#B0BEC5",
                "#B0BEC5"
               ]
              ]
             }
            ],
            "label": "Topic 47",
            "method": "update"
           },
           {
            "args": [
             {
              "marker.color": [
               [
                "#B0BEC5",
                "#B0BEC5",
                "#B0BEC5",
                "#B0BEC5",
                "#B0BEC5",
                "#B0BEC5",
                "#B0BEC5",
                "#B0BEC5",
                "#B0BEC5",
                "#B0BEC5",
                "#B0BEC5",
                "#B0BEC5",
                "#B0BEC5",
                "#B0BEC5",
                "#B0BEC5",
                "#B0BEC5",
                "#B0BEC5",
                "#B0BEC5",
                "#B0BEC5",
                "#B0BEC5",
                "#B0BEC5",
                "#B0BEC5",
                "#B0BEC5",
                "#B0BEC5",
                "#B0BEC5",
                "#B0BEC5",
                "#B0BEC5",
                "#B0BEC5",
                "#B0BEC5",
                "#B0BEC5",
                "#B0BEC5",
                "#B0BEC5",
                "#B0BEC5",
                "#B0BEC5",
                "#B0BEC5",
                "#B0BEC5",
                "#B0BEC5",
                "#B0BEC5",
                "#B0BEC5",
                "#B0BEC5",
                "#B0BEC5",
                "#B0BEC5",
                "#B0BEC5",
                "#B0BEC5",
                "#B0BEC5",
                "#B0BEC5",
                "#B0BEC5",
                "#B0BEC5",
                "red",
                "#B0BEC5",
                "#B0BEC5",
                "#B0BEC5",
                "#B0BEC5",
                "#B0BEC5",
                "#B0BEC5",
                "#B0BEC5"
               ]
              ]
             }
            ],
            "label": "Topic 48",
            "method": "update"
           },
           {
            "args": [
             {
              "marker.color": [
               [
                "#B0BEC5",
                "#B0BEC5",
                "#B0BEC5",
                "#B0BEC5",
                "#B0BEC5",
                "#B0BEC5",
                "#B0BEC5",
                "#B0BEC5",
                "#B0BEC5",
                "#B0BEC5",
                "#B0BEC5",
                "#B0BEC5",
                "#B0BEC5",
                "#B0BEC5",
                "#B0BEC5",
                "#B0BEC5",
                "#B0BEC5",
                "#B0BEC5",
                "#B0BEC5",
                "#B0BEC5",
                "#B0BEC5",
                "#B0BEC5",
                "#B0BEC5",
                "#B0BEC5",
                "#B0BEC5",
                "#B0BEC5",
                "#B0BEC5",
                "#B0BEC5",
                "#B0BEC5",
                "#B0BEC5",
                "#B0BEC5",
                "#B0BEC5",
                "#B0BEC5",
                "#B0BEC5",
                "#B0BEC5",
                "#B0BEC5",
                "#B0BEC5",
                "#B0BEC5",
                "#B0BEC5",
                "#B0BEC5",
                "#B0BEC5",
                "#B0BEC5",
                "#B0BEC5",
                "#B0BEC5",
                "#B0BEC5",
                "#B0BEC5",
                "#B0BEC5",
                "#B0BEC5",
                "#B0BEC5",
                "red",
                "#B0BEC5",
                "#B0BEC5",
                "#B0BEC5",
                "#B0BEC5",
                "#B0BEC5",
                "#B0BEC5"
               ]
              ]
             }
            ],
            "label": "Topic 49",
            "method": "update"
           },
           {
            "args": [
             {
              "marker.color": [
               [
                "#B0BEC5",
                "#B0BEC5",
                "#B0BEC5",
                "#B0BEC5",
                "#B0BEC5",
                "#B0BEC5",
                "#B0BEC5",
                "#B0BEC5",
                "#B0BEC5",
                "#B0BEC5",
                "#B0BEC5",
                "#B0BEC5",
                "#B0BEC5",
                "#B0BEC5",
                "#B0BEC5",
                "#B0BEC5",
                "#B0BEC5",
                "#B0BEC5",
                "#B0BEC5",
                "#B0BEC5",
                "#B0BEC5",
                "#B0BEC5",
                "#B0BEC5",
                "#B0BEC5",
                "#B0BEC5",
                "#B0BEC5",
                "#B0BEC5",
                "#B0BEC5",
                "#B0BEC5",
                "#B0BEC5",
                "#B0BEC5",
                "#B0BEC5",
                "#B0BEC5",
                "#B0BEC5",
                "#B0BEC5",
                "#B0BEC5",
                "#B0BEC5",
                "#B0BEC5",
                "#B0BEC5",
                "#B0BEC5",
                "#B0BEC5",
                "#B0BEC5",
                "#B0BEC5",
                "#B0BEC5",
                "#B0BEC5",
                "#B0BEC5",
                "#B0BEC5",
                "#B0BEC5",
                "#B0BEC5",
                "#B0BEC5",
                "red",
                "#B0BEC5",
                "#B0BEC5",
                "#B0BEC5",
                "#B0BEC5",
                "#B0BEC5"
               ]
              ]
             }
            ],
            "label": "Topic 50",
            "method": "update"
           },
           {
            "args": [
             {
              "marker.color": [
               [
                "#B0BEC5",
                "#B0BEC5",
                "#B0BEC5",
                "#B0BEC5",
                "#B0BEC5",
                "#B0BEC5",
                "#B0BEC5",
                "#B0BEC5",
                "#B0BEC5",
                "#B0BEC5",
                "#B0BEC5",
                "#B0BEC5",
                "#B0BEC5",
                "#B0BEC5",
                "#B0BEC5",
                "#B0BEC5",
                "#B0BEC5",
                "#B0BEC5",
                "#B0BEC5",
                "#B0BEC5",
                "#B0BEC5",
                "#B0BEC5",
                "#B0BEC5",
                "#B0BEC5",
                "#B0BEC5",
                "#B0BEC5",
                "#B0BEC5",
                "#B0BEC5",
                "#B0BEC5",
                "#B0BEC5",
                "#B0BEC5",
                "#B0BEC5",
                "#B0BEC5",
                "#B0BEC5",
                "#B0BEC5",
                "#B0BEC5",
                "#B0BEC5",
                "#B0BEC5",
                "#B0BEC5",
                "#B0BEC5",
                "#B0BEC5",
                "#B0BEC5",
                "#B0BEC5",
                "#B0BEC5",
                "#B0BEC5",
                "#B0BEC5",
                "#B0BEC5",
                "#B0BEC5",
                "#B0BEC5",
                "#B0BEC5",
                "#B0BEC5",
                "red",
                "#B0BEC5",
                "#B0BEC5",
                "#B0BEC5",
                "#B0BEC5"
               ]
              ]
             }
            ],
            "label": "Topic 51",
            "method": "update"
           },
           {
            "args": [
             {
              "marker.color": [
               [
                "#B0BEC5",
                "#B0BEC5",
                "#B0BEC5",
                "#B0BEC5",
                "#B0BEC5",
                "#B0BEC5",
                "#B0BEC5",
                "#B0BEC5",
                "#B0BEC5",
                "#B0BEC5",
                "#B0BEC5",
                "#B0BEC5",
                "#B0BEC5",
                "#B0BEC5",
                "#B0BEC5",
                "#B0BEC5",
                "#B0BEC5",
                "#B0BEC5",
                "#B0BEC5",
                "#B0BEC5",
                "#B0BEC5",
                "#B0BEC5",
                "#B0BEC5",
                "#B0BEC5",
                "#B0BEC5",
                "#B0BEC5",
                "#B0BEC5",
                "#B0BEC5",
                "#B0BEC5",
                "#B0BEC5",
                "#B0BEC5",
                "#B0BEC5",
                "#B0BEC5",
                "#B0BEC5",
                "#B0BEC5",
                "#B0BEC5",
                "#B0BEC5",
                "#B0BEC5",
                "#B0BEC5",
                "#B0BEC5",
                "#B0BEC5",
                "#B0BEC5",
                "#B0BEC5",
                "#B0BEC5",
                "#B0BEC5",
                "#B0BEC5",
                "#B0BEC5",
                "#B0BEC5",
                "#B0BEC5",
                "#B0BEC5",
                "#B0BEC5",
                "#B0BEC5",
                "red",
                "#B0BEC5",
                "#B0BEC5",
                "#B0BEC5"
               ]
              ]
             }
            ],
            "label": "Topic 52",
            "method": "update"
           },
           {
            "args": [
             {
              "marker.color": [
               [
                "#B0BEC5",
                "#B0BEC5",
                "#B0BEC5",
                "#B0BEC5",
                "#B0BEC5",
                "#B0BEC5",
                "#B0BEC5",
                "#B0BEC5",
                "#B0BEC5",
                "#B0BEC5",
                "#B0BEC5",
                "#B0BEC5",
                "#B0BEC5",
                "#B0BEC5",
                "#B0BEC5",
                "#B0BEC5",
                "#B0BEC5",
                "#B0BEC5",
                "#B0BEC5",
                "#B0BEC5",
                "#B0BEC5",
                "#B0BEC5",
                "#B0BEC5",
                "#B0BEC5",
                "#B0BEC5",
                "#B0BEC5",
                "#B0BEC5",
                "#B0BEC5",
                "#B0BEC5",
                "#B0BEC5",
                "#B0BEC5",
                "#B0BEC5",
                "#B0BEC5",
                "#B0BEC5",
                "#B0BEC5",
                "#B0BEC5",
                "#B0BEC5",
                "#B0BEC5",
                "#B0BEC5",
                "#B0BEC5",
                "#B0BEC5",
                "#B0BEC5",
                "#B0BEC5",
                "#B0BEC5",
                "#B0BEC5",
                "#B0BEC5",
                "#B0BEC5",
                "#B0BEC5",
                "#B0BEC5",
                "#B0BEC5",
                "#B0BEC5",
                "#B0BEC5",
                "#B0BEC5",
                "red",
                "#B0BEC5",
                "#B0BEC5"
               ]
              ]
             }
            ],
            "label": "Topic 53",
            "method": "update"
           },
           {
            "args": [
             {
              "marker.color": [
               [
                "#B0BEC5",
                "#B0BEC5",
                "#B0BEC5",
                "#B0BEC5",
                "#B0BEC5",
                "#B0BEC5",
                "#B0BEC5",
                "#B0BEC5",
                "#B0BEC5",
                "#B0BEC5",
                "#B0BEC5",
                "#B0BEC5",
                "#B0BEC5",
                "#B0BEC5",
                "#B0BEC5",
                "#B0BEC5",
                "#B0BEC5",
                "#B0BEC5",
                "#B0BEC5",
                "#B0BEC5",
                "#B0BEC5",
                "#B0BEC5",
                "#B0BEC5",
                "#B0BEC5",
                "#B0BEC5",
                "#B0BEC5",
                "#B0BEC5",
                "#B0BEC5",
                "#B0BEC5",
                "#B0BEC5",
                "#B0BEC5",
                "#B0BEC5",
                "#B0BEC5",
                "#B0BEC5",
                "#B0BEC5",
                "#B0BEC5",
                "#B0BEC5",
                "#B0BEC5",
                "#B0BEC5",
                "#B0BEC5",
                "#B0BEC5",
                "#B0BEC5",
                "#B0BEC5",
                "#B0BEC5",
                "#B0BEC5",
                "#B0BEC5",
                "#B0BEC5",
                "#B0BEC5",
                "#B0BEC5",
                "#B0BEC5",
                "#B0BEC5",
                "#B0BEC5",
                "#B0BEC5",
                "#B0BEC5",
                "red",
                "#B0BEC5"
               ]
              ]
             }
            ],
            "label": "Topic 54",
            "method": "update"
           },
           {
            "args": [
             {
              "marker.color": [
               [
                "#B0BEC5",
                "#B0BEC5",
                "#B0BEC5",
                "#B0BEC5",
                "#B0BEC5",
                "#B0BEC5",
                "#B0BEC5",
                "#B0BEC5",
                "#B0BEC5",
                "#B0BEC5",
                "#B0BEC5",
                "#B0BEC5",
                "#B0BEC5",
                "#B0BEC5",
                "#B0BEC5",
                "#B0BEC5",
                "#B0BEC5",
                "#B0BEC5",
                "#B0BEC5",
                "#B0BEC5",
                "#B0BEC5",
                "#B0BEC5",
                "#B0BEC5",
                "#B0BEC5",
                "#B0BEC5",
                "#B0BEC5",
                "#B0BEC5",
                "#B0BEC5",
                "#B0BEC5",
                "#B0BEC5",
                "#B0BEC5",
                "#B0BEC5",
                "#B0BEC5",
                "#B0BEC5",
                "#B0BEC5",
                "#B0BEC5",
                "#B0BEC5",
                "#B0BEC5",
                "#B0BEC5",
                "#B0BEC5",
                "#B0BEC5",
                "#B0BEC5",
                "#B0BEC5",
                "#B0BEC5",
                "#B0BEC5",
                "#B0BEC5",
                "#B0BEC5",
                "#B0BEC5",
                "#B0BEC5",
                "#B0BEC5",
                "#B0BEC5",
                "#B0BEC5",
                "#B0BEC5",
                "#B0BEC5",
                "#B0BEC5",
                "red"
               ]
              ]
             }
            ],
            "label": "Topic 55",
            "method": "update"
           }
          ]
         }
        ],
        "template": {
         "data": {
          "bar": [
           {
            "error_x": {
             "color": "rgb(36,36,36)"
            },
            "error_y": {
             "color": "rgb(36,36,36)"
            },
            "marker": {
             "line": {
              "color": "white",
              "width": 0.5
             },
             "pattern": {
              "fillmode": "overlay",
              "size": 10,
              "solidity": 0.2
             }
            },
            "type": "bar"
           }
          ],
          "barpolar": [
           {
            "marker": {
             "line": {
              "color": "white",
              "width": 0.5
             },
             "pattern": {
              "fillmode": "overlay",
              "size": 10,
              "solidity": 0.2
             }
            },
            "type": "barpolar"
           }
          ],
          "carpet": [
           {
            "aaxis": {
             "endlinecolor": "rgb(36,36,36)",
             "gridcolor": "white",
             "linecolor": "white",
             "minorgridcolor": "white",
             "startlinecolor": "rgb(36,36,36)"
            },
            "baxis": {
             "endlinecolor": "rgb(36,36,36)",
             "gridcolor": "white",
             "linecolor": "white",
             "minorgridcolor": "white",
             "startlinecolor": "rgb(36,36,36)"
            },
            "type": "carpet"
           }
          ],
          "choropleth": [
           {
            "colorbar": {
             "outlinewidth": 1,
             "tickcolor": "rgb(36,36,36)",
             "ticks": "outside"
            },
            "type": "choropleth"
           }
          ],
          "contour": [
           {
            "colorbar": {
             "outlinewidth": 1,
             "tickcolor": "rgb(36,36,36)",
             "ticks": "outside"
            },
            "colorscale": [
             [
              0,
              "#440154"
             ],
             [
              0.1111111111111111,
              "#482878"
             ],
             [
              0.2222222222222222,
              "#3e4989"
             ],
             [
              0.3333333333333333,
              "#31688e"
             ],
             [
              0.4444444444444444,
              "#26828e"
             ],
             [
              0.5555555555555556,
              "#1f9e89"
             ],
             [
              0.6666666666666666,
              "#35b779"
             ],
             [
              0.7777777777777778,
              "#6ece58"
             ],
             [
              0.8888888888888888,
              "#b5de2b"
             ],
             [
              1,
              "#fde725"
             ]
            ],
            "type": "contour"
           }
          ],
          "contourcarpet": [
           {
            "colorbar": {
             "outlinewidth": 1,
             "tickcolor": "rgb(36,36,36)",
             "ticks": "outside"
            },
            "type": "contourcarpet"
           }
          ],
          "heatmap": [
           {
            "colorbar": {
             "outlinewidth": 1,
             "tickcolor": "rgb(36,36,36)",
             "ticks": "outside"
            },
            "colorscale": [
             [
              0,
              "#440154"
             ],
             [
              0.1111111111111111,
              "#482878"
             ],
             [
              0.2222222222222222,
              "#3e4989"
             ],
             [
              0.3333333333333333,
              "#31688e"
             ],
             [
              0.4444444444444444,
              "#26828e"
             ],
             [
              0.5555555555555556,
              "#1f9e89"
             ],
             [
              0.6666666666666666,
              "#35b779"
             ],
             [
              0.7777777777777778,
              "#6ece58"
             ],
             [
              0.8888888888888888,
              "#b5de2b"
             ],
             [
              1,
              "#fde725"
             ]
            ],
            "type": "heatmap"
           }
          ],
          "histogram": [
           {
            "marker": {
             "line": {
              "color": "white",
              "width": 0.6
             }
            },
            "type": "histogram"
           }
          ],
          "histogram2d": [
           {
            "colorbar": {
             "outlinewidth": 1,
             "tickcolor": "rgb(36,36,36)",
             "ticks": "outside"
            },
            "colorscale": [
             [
              0,
              "#440154"
             ],
             [
              0.1111111111111111,
              "#482878"
             ],
             [
              0.2222222222222222,
              "#3e4989"
             ],
             [
              0.3333333333333333,
              "#31688e"
             ],
             [
              0.4444444444444444,
              "#26828e"
             ],
             [
              0.5555555555555556,
              "#1f9e89"
             ],
             [
              0.6666666666666666,
              "#35b779"
             ],
             [
              0.7777777777777778,
              "#6ece58"
             ],
             [
              0.8888888888888888,
              "#b5de2b"
             ],
             [
              1,
              "#fde725"
             ]
            ],
            "type": "histogram2d"
           }
          ],
          "histogram2dcontour": [
           {
            "colorbar": {
             "outlinewidth": 1,
             "tickcolor": "rgb(36,36,36)",
             "ticks": "outside"
            },
            "colorscale": [
             [
              0,
              "#440154"
             ],
             [
              0.1111111111111111,
              "#482878"
             ],
             [
              0.2222222222222222,
              "#3e4989"
             ],
             [
              0.3333333333333333,
              "#31688e"
             ],
             [
              0.4444444444444444,
              "#26828e"
             ],
             [
              0.5555555555555556,
              "#1f9e89"
             ],
             [
              0.6666666666666666,
              "#35b779"
             ],
             [
              0.7777777777777778,
              "#6ece58"
             ],
             [
              0.8888888888888888,
              "#b5de2b"
             ],
             [
              1,
              "#fde725"
             ]
            ],
            "type": "histogram2dcontour"
           }
          ],
          "mesh3d": [
           {
            "colorbar": {
             "outlinewidth": 1,
             "tickcolor": "rgb(36,36,36)",
             "ticks": "outside"
            },
            "type": "mesh3d"
           }
          ],
          "parcoords": [
           {
            "line": {
             "colorbar": {
              "outlinewidth": 1,
              "tickcolor": "rgb(36,36,36)",
              "ticks": "outside"
             }
            },
            "type": "parcoords"
           }
          ],
          "pie": [
           {
            "automargin": true,
            "type": "pie"
           }
          ],
          "scatter": [
           {
            "fillpattern": {
             "fillmode": "overlay",
             "size": 10,
             "solidity": 0.2
            },
            "type": "scatter"
           }
          ],
          "scatter3d": [
           {
            "line": {
             "colorbar": {
              "outlinewidth": 1,
              "tickcolor": "rgb(36,36,36)",
              "ticks": "outside"
             }
            },
            "marker": {
             "colorbar": {
              "outlinewidth": 1,
              "tickcolor": "rgb(36,36,36)",
              "ticks": "outside"
             }
            },
            "type": "scatter3d"
           }
          ],
          "scattercarpet": [
           {
            "marker": {
             "colorbar": {
              "outlinewidth": 1,
              "tickcolor": "rgb(36,36,36)",
              "ticks": "outside"
             }
            },
            "type": "scattercarpet"
           }
          ],
          "scattergeo": [
           {
            "marker": {
             "colorbar": {
              "outlinewidth": 1,
              "tickcolor": "rgb(36,36,36)",
              "ticks": "outside"
             }
            },
            "type": "scattergeo"
           }
          ],
          "scattergl": [
           {
            "marker": {
             "colorbar": {
              "outlinewidth": 1,
              "tickcolor": "rgb(36,36,36)",
              "ticks": "outside"
             }
            },
            "type": "scattergl"
           }
          ],
          "scattermap": [
           {
            "marker": {
             "colorbar": {
              "outlinewidth": 1,
              "tickcolor": "rgb(36,36,36)",
              "ticks": "outside"
             }
            },
            "type": "scattermap"
           }
          ],
          "scattermapbox": [
           {
            "marker": {
             "colorbar": {
              "outlinewidth": 1,
              "tickcolor": "rgb(36,36,36)",
              "ticks": "outside"
             }
            },
            "type": "scattermapbox"
           }
          ],
          "scatterpolar": [
           {
            "marker": {
             "colorbar": {
              "outlinewidth": 1,
              "tickcolor": "rgb(36,36,36)",
              "ticks": "outside"
             }
            },
            "type": "scatterpolar"
           }
          ],
          "scatterpolargl": [
           {
            "marker": {
             "colorbar": {
              "outlinewidth": 1,
              "tickcolor": "rgb(36,36,36)",
              "ticks": "outside"
             }
            },
            "type": "scatterpolargl"
           }
          ],
          "scatterternary": [
           {
            "marker": {
             "colorbar": {
              "outlinewidth": 1,
              "tickcolor": "rgb(36,36,36)",
              "ticks": "outside"
             }
            },
            "type": "scatterternary"
           }
          ],
          "surface": [
           {
            "colorbar": {
             "outlinewidth": 1,
             "tickcolor": "rgb(36,36,36)",
             "ticks": "outside"
            },
            "colorscale": [
             [
              0,
              "#440154"
             ],
             [
              0.1111111111111111,
              "#482878"
             ],
             [
              0.2222222222222222,
              "#3e4989"
             ],
             [
              0.3333333333333333,
              "#31688e"
             ],
             [
              0.4444444444444444,
              "#26828e"
             ],
             [
              0.5555555555555556,
              "#1f9e89"
             ],
             [
              0.6666666666666666,
              "#35b779"
             ],
             [
              0.7777777777777778,
              "#6ece58"
             ],
             [
              0.8888888888888888,
              "#b5de2b"
             ],
             [
              1,
              "#fde725"
             ]
            ],
            "type": "surface"
           }
          ],
          "table": [
           {
            "cells": {
             "fill": {
              "color": "rgb(237,237,237)"
             },
             "line": {
              "color": "white"
             }
            },
            "header": {
             "fill": {
              "color": "rgb(217,217,217)"
             },
             "line": {
              "color": "white"
             }
            },
            "type": "table"
           }
          ]
         },
         "layout": {
          "annotationdefaults": {
           "arrowhead": 0,
           "arrowwidth": 1
          },
          "autotypenumbers": "strict",
          "coloraxis": {
           "colorbar": {
            "outlinewidth": 1,
            "tickcolor": "rgb(36,36,36)",
            "ticks": "outside"
           }
          },
          "colorscale": {
           "diverging": [
            [
             0,
             "rgb(103,0,31)"
            ],
            [
             0.1,
             "rgb(178,24,43)"
            ],
            [
             0.2,
             "rgb(214,96,77)"
            ],
            [
             0.3,
             "rgb(244,165,130)"
            ],
            [
             0.4,
             "rgb(253,219,199)"
            ],
            [
             0.5,
             "rgb(247,247,247)"
            ],
            [
             0.6,
             "rgb(209,229,240)"
            ],
            [
             0.7,
             "rgb(146,197,222)"
            ],
            [
             0.8,
             "rgb(67,147,195)"
            ],
            [
             0.9,
             "rgb(33,102,172)"
            ],
            [
             1,
             "rgb(5,48,97)"
            ]
           ],
           "sequential": [
            [
             0,
             "#440154"
            ],
            [
             0.1111111111111111,
             "#482878"
            ],
            [
             0.2222222222222222,
             "#3e4989"
            ],
            [
             0.3333333333333333,
             "#31688e"
            ],
            [
             0.4444444444444444,
             "#26828e"
            ],
            [
             0.5555555555555556,
             "#1f9e89"
            ],
            [
             0.6666666666666666,
             "#35b779"
            ],
            [
             0.7777777777777778,
             "#6ece58"
            ],
            [
             0.8888888888888888,
             "#b5de2b"
            ],
            [
             1,
             "#fde725"
            ]
           ],
           "sequentialminus": [
            [
             0,
             "#440154"
            ],
            [
             0.1111111111111111,
             "#482878"
            ],
            [
             0.2222222222222222,
             "#3e4989"
            ],
            [
             0.3333333333333333,
             "#31688e"
            ],
            [
             0.4444444444444444,
             "#26828e"
            ],
            [
             0.5555555555555556,
             "#1f9e89"
            ],
            [
             0.6666666666666666,
             "#35b779"
            ],
            [
             0.7777777777777778,
             "#6ece58"
            ],
            [
             0.8888888888888888,
             "#b5de2b"
            ],
            [
             1,
             "#fde725"
            ]
           ]
          },
          "colorway": [
           "#1F77B4",
           "#FF7F0E",
           "#2CA02C",
           "#D62728",
           "#9467BD",
           "#8C564B",
           "#E377C2",
           "#7F7F7F",
           "#BCBD22",
           "#17BECF"
          ],
          "font": {
           "color": "rgb(36,36,36)"
          },
          "geo": {
           "bgcolor": "white",
           "lakecolor": "white",
           "landcolor": "white",
           "showlakes": true,
           "showland": true,
           "subunitcolor": "white"
          },
          "hoverlabel": {
           "align": "left"
          },
          "hovermode": "closest",
          "mapbox": {
           "style": "light"
          },
          "paper_bgcolor": "white",
          "plot_bgcolor": "white",
          "polar": {
           "angularaxis": {
            "gridcolor": "rgb(232,232,232)",
            "linecolor": "rgb(36,36,36)",
            "showgrid": false,
            "showline": true,
            "ticks": "outside"
           },
           "bgcolor": "white",
           "radialaxis": {
            "gridcolor": "rgb(232,232,232)",
            "linecolor": "rgb(36,36,36)",
            "showgrid": false,
            "showline": true,
            "ticks": "outside"
           }
          },
          "scene": {
           "xaxis": {
            "backgroundcolor": "white",
            "gridcolor": "rgb(232,232,232)",
            "gridwidth": 2,
            "linecolor": "rgb(36,36,36)",
            "showbackground": true,
            "showgrid": false,
            "showline": true,
            "ticks": "outside",
            "zeroline": false,
            "zerolinecolor": "rgb(36,36,36)"
           },
           "yaxis": {
            "backgroundcolor": "white",
            "gridcolor": "rgb(232,232,232)",
            "gridwidth": 2,
            "linecolor": "rgb(36,36,36)",
            "showbackground": true,
            "showgrid": false,
            "showline": true,
            "ticks": "outside",
            "zeroline": false,
            "zerolinecolor": "rgb(36,36,36)"
           },
           "zaxis": {
            "backgroundcolor": "white",
            "gridcolor": "rgb(232,232,232)",
            "gridwidth": 2,
            "linecolor": "rgb(36,36,36)",
            "showbackground": true,
            "showgrid": false,
            "showline": true,
            "ticks": "outside",
            "zeroline": false,
            "zerolinecolor": "rgb(36,36,36)"
           }
          },
          "shapedefaults": {
           "fillcolor": "black",
           "line": {
            "width": 0
           },
           "opacity": 0.3
          },
          "ternary": {
           "aaxis": {
            "gridcolor": "rgb(232,232,232)",
            "linecolor": "rgb(36,36,36)",
            "showgrid": false,
            "showline": true,
            "ticks": "outside"
           },
           "baxis": {
            "gridcolor": "rgb(232,232,232)",
            "linecolor": "rgb(36,36,36)",
            "showgrid": false,
            "showline": true,
            "ticks": "outside"
           },
           "bgcolor": "white",
           "caxis": {
            "gridcolor": "rgb(232,232,232)",
            "linecolor": "rgb(36,36,36)",
            "showgrid": false,
            "showline": true,
            "ticks": "outside"
           }
          },
          "title": {
           "x": 0.05
          },
          "xaxis": {
           "automargin": true,
           "gridcolor": "rgb(232,232,232)",
           "linecolor": "rgb(36,36,36)",
           "showgrid": false,
           "showline": true,
           "ticks": "outside",
           "title": {
            "standoff": 15
           },
           "zeroline": false,
           "zerolinecolor": "rgb(36,36,36)"
          },
          "yaxis": {
           "automargin": true,
           "gridcolor": "rgb(232,232,232)",
           "linecolor": "rgb(36,36,36)",
           "showgrid": false,
           "showline": true,
           "ticks": "outside",
           "title": {
            "standoff": 15
           },
           "zeroline": false,
           "zerolinecolor": "rgb(36,36,36)"
          }
         }
        },
        "title": {
         "font": {
          "color": "Black",
          "size": 22
         },
         "text": "<b>Intertopic Distance Map</b>",
         "x": 0.5,
         "xanchor": "center",
         "y": 0.95,
         "yanchor": "top"
        },
        "width": 650,
        "xaxis": {
         "anchor": "y",
         "domain": [
          0,
          1
         ],
         "range": [
          -13.768135738372802,
          23.797049617767335
         ],
         "title": {
          "text": ""
         },
         "visible": false
        },
        "yaxis": {
         "anchor": "x",
         "domain": [
          0,
          1
         ],
         "range": [
          -16.757341051101683,
          17.995026445388795
         ],
         "title": {
          "text": ""
         },
         "visible": false
        }
       }
      }
     },
     "metadata": {},
     "output_type": "display_data"
    }
   ],
   "source": [
    "topic_model.visualize_topics()"
   ]
  },
  {
   "cell_type": "code",
   "execution_count": null,
   "id": "09ba59de",
   "metadata": {},
   "outputs": [
    {
     "data": {
      "text/html": [
       "<div>\n",
       "<style scoped>\n",
       "    .dataframe tbody tr th:only-of-type {\n",
       "        vertical-align: middle;\n",
       "    }\n",
       "\n",
       "    .dataframe tbody tr th {\n",
       "        vertical-align: top;\n",
       "    }\n",
       "\n",
       "    .dataframe thead th {\n",
       "        text-align: right;\n",
       "    }\n",
       "</style>\n",
       "<table border=\"1\" class=\"dataframe\">\n",
       "  <thead>\n",
       "    <tr style=\"text-align: right;\">\n",
       "      <th></th>\n",
       "      <th>Topic</th>\n",
       "      <th>Count</th>\n",
       "      <th>Name</th>\n",
       "      <th>Representation</th>\n",
       "      <th>Representative_Docs</th>\n",
       "    </tr>\n",
       "  </thead>\n",
       "  <tbody>\n",
       "    <tr>\n",
       "      <th>0</th>\n",
       "      <td>0</td>\n",
       "      <td>244</td>\n",
       "      <td>0_unknown_مصمت_مسحوب_نجران</td>\n",
       "      <td>[unknown, مصمت, مسحوب, نجران, , , , , , ]</td>\n",
       "      <td>[unknown, unknown, unknown]</td>\n",
       "    </tr>\n",
       "    <tr>\n",
       "      <th>1</th>\n",
       "      <td>1</td>\n",
       "      <td>217</td>\n",
       "      <td>1_neda_hollow_مفرد_nya</td>\n",
       "      <td>[neda, hollow, مفرد, nya, eye, رقم, عميق, wate...</td>\n",
       "      <td>[self drilling flat head screw black each, sel...</td>\n",
       "    </tr>\n",
       "    <tr>\n",
       "      <th>2</th>\n",
       "      <td>2</td>\n",
       "      <td>156</td>\n",
       "      <td>2_no_معزوله_غامق_plain</td>\n",
       "      <td>[no, معزوله, غامق, plain, hand, hung, white, م...</td>\n",
       "      <td>[توريد مواد تقني الواح الخرسانيه معزوله ثلاثي ...</td>\n",
       "    </tr>\n",
       "    <tr>\n",
       "      <th>3</th>\n",
       "      <td>3</td>\n",
       "      <td>153</td>\n",
       "      <td>3_naked_out_smart_متنوع</td>\n",
       "      <td>[naked, out, smart, متنوع, online, female, mal...</td>\n",
       "      <td>[elbow ppr tahweeltm, elbow ppr tahweeltm, elb...</td>\n",
       "    </tr>\n",
       "    <tr>\n",
       "      <th>4</th>\n",
       "      <td>4</td>\n",
       "      <td>146</td>\n",
       "      <td>4_moe_slitted_heb_af</td>\n",
       "      <td>[moe, slitted, heb, af, inn, uni, set, ipe, re...</td>\n",
       "      <td>[af hz dc contactor, af hz dc contactor, af hz...</td>\n",
       "    </tr>\n",
       "    <tr>\n",
       "      <th>5</th>\n",
       "      <td>5</td>\n",
       "      <td>125</td>\n",
       "      <td>5_معنون_نمساوي_solt_نائم</td>\n",
       "      <td>[معنون, نمساوي, solt, نائم, one, محبس, dim, نخ...</td>\n",
       "      <td>[توريد بليود صيني, توريد بليود صيني, توريد بلي...</td>\n",
       "    </tr>\n",
       "    <tr>\n",
       "      <th>6</th>\n",
       "      <td>6</td>\n",
       "      <td>119</td>\n",
       "      <td>6_مصمت_ferruled_bare_unci</td>\n",
       "      <td>[مصمت, ferruled, bare, unci, tinned, fixed, re...</td>\n",
       "      <td>[way earth bar with twin disconnecting link, w...</td>\n",
       "    </tr>\n",
       "    <tr>\n",
       "      <th>7</th>\n",
       "      <td>7</td>\n",
       "      <td>117</td>\n",
       "      <td>7_outdoor_وطني_ningbo_colored</td>\n",
       "      <td>[outdoor, وطني, ningbo, colored, change, نجران...</td>\n",
       "      <td>[ماسوره حراري تحويل, ماسوره حراري تحويل, ماسور...</td>\n",
       "    </tr>\n",
       "    <tr>\n",
       "      <th>8</th>\n",
       "      <td>8</td>\n",
       "      <td>114</td>\n",
       "      <td>8_british_نامات_deformed_two</td>\n",
       "      <td>[british, نامات, deformed, two, مشترك, قاطع, i...</td>\n",
       "      <td>[british chef utility knife, british chef util...</td>\n",
       "    </tr>\n",
       "    <tr>\n",
       "      <th>9</th>\n",
       "      <td>9</td>\n",
       "      <td>104</td>\n",
       "      <td>9_different_no_مختلف_مختلفھ</td>\n",
       "      <td>[different, no, مختلف, مختلفھ, bare, small, فا...</td>\n",
       "      <td>[aluminium profile bars pcs, aluminium profile...</td>\n",
       "    </tr>\n",
       "    <tr>\n",
       "      <th>10</th>\n",
       "      <td>10</td>\n",
       "      <td>101</td>\n",
       "      <td>10_امريكي_nya_هندي_نيبرو</td>\n",
       "      <td>[امريكي, nya, هندي, نيبرو, black, ثابت, joli, ...</td>\n",
       "      <td>[سلك سويدي احمر, سلك سويدي احمر, سلك سويدي احمر]</td>\n",
       "    </tr>\n",
       "    <tr>\n",
       "      <th>11</th>\n",
       "      <td>11</td>\n",
       "      <td>100</td>\n",
       "      <td>11_معزول_wireless_outdoor_fresh</td>\n",
       "      <td>[معزول, wireless, outdoor, fresh, indoor, blac...</td>\n",
       "      <td>[cu xlpe pvc cable kv, cu xlpe pvc cable kv, c...</td>\n",
       "    </tr>\n",
       "    <tr>\n",
       "      <th>12</th>\n",
       "      <td>12</td>\n",
       "      <td>97</td>\n",
       "      <td>12_خاص_شب_black_ثابت</td>\n",
       "      <td>[خاص, شب, black, ثابت, قاطع, حر, صغير, داخلي, ...</td>\n",
       "      <td>[صاج اسود, صاج اسود, صاج اسود]</td>\n",
       "    </tr>\n",
       "    <tr>\n",
       "      <th>13</th>\n",
       "      <td>13</td>\n",
       "      <td>77</td>\n",
       "      <td>13_sabic_md_مجدول_حديد</td>\n",
       "      <td>[sabic, md, مجدول, حديد, سابك, تسليح, , , , ]</td>\n",
       "      <td>[حديد تسليح سابك, حديد تسليح سابك, حديد تسليح ...</td>\n",
       "    </tr>\n",
       "    <tr>\n",
       "      <th>14</th>\n",
       "      <td>14</td>\n",
       "      <td>71</td>\n",
       "      <td>14_no_شب_نجران_عامود</td>\n",
       "      <td>[no, شب, نجران, عامود, مسنن, مسلح, جاهز, مجلوخ...</td>\n",
       "      <td>[لوح استانلس ستيل مجلوخ no, لوح استانلس ستيل م...</td>\n",
       "    </tr>\n",
       "    <tr>\n",
       "      <th>15</th>\n",
       "      <td>15</td>\n",
       "      <td>64</td>\n",
       "      <td>15_open_plain_hung_india</td>\n",
       "      <td>[open, plain, hung, india, slotted, long, as, ...</td>\n",
       "      <td>[hdg osf tray thick length, hdg osf tray thick...</td>\n",
       "    </tr>\n",
       "    <tr>\n",
       "      <th>16</th>\n",
       "      <td>16</td>\n",
       "      <td>60</td>\n",
       "      <td>16_اسود_حديد_صاج_ميزر</td>\n",
       "      <td>[اسود, حديد, صاج, ميزر, , , , , , ]</td>\n",
       "      <td>[صاج حديد اسود, صاج حديد اسود, صاج حديد اسود]</td>\n",
       "    </tr>\n",
       "    <tr>\n",
       "      <th>17</th>\n",
       "      <td>17</td>\n",
       "      <td>56</td>\n",
       "      <td>17_off_مت_fabricated_deformed</td>\n",
       "      <td>[off, مت, fabricated, deformed, اتفاق, ديد, it...</td>\n",
       "      <td>[reinforcing steel bar ittfaq, reinforcing ste...</td>\n",
       "    </tr>\n",
       "    <tr>\n",
       "      <th>18</th>\n",
       "      <td>18</td>\n",
       "      <td>55</td>\n",
       "      <td>18_xt1d_tmd_xt6d_xt</td>\n",
       "      <td>[xt1d, tmd, xt6d, xt, tmf, mx, tmg, bayerdnami...</td>\n",
       "      <td>[xt tmd, xt tmd, xt tmd]</td>\n",
       "    </tr>\n",
       "    <tr>\n",
       "      <th>19</th>\n",
       "      <td>19</td>\n",
       "      <td>50</td>\n",
       "      <td>19_حديد_ماسوره__</td>\n",
       "      <td>[حديد, ماسوره, , , , , , , , ]</td>\n",
       "      <td>[ماسوره حديد, ماسوره حديد, ماسوره حديد]</td>\n",
       "    </tr>\n",
       "    <tr>\n",
       "      <th>20</th>\n",
       "      <td>20</td>\n",
       "      <td>48</td>\n",
       "      <td>20_اتفاق_مجدول_حديد_تسليح</td>\n",
       "      <td>[اتفاق, مجدول, حديد, تسليح, , , , , , ]</td>\n",
       "      <td>[حديد تسليح اتفاق, حديد تسليح اتفاق, حديد تسلي...</td>\n",
       "    </tr>\n",
       "    <tr>\n",
       "      <th>21</th>\n",
       "      <td>21</td>\n",
       "      <td>48</td>\n",
       "      <td>21_deformed_black_straight_sabic</td>\n",
       "      <td>[deformed, black, straight, sabic, bar, , , , , ]</td>\n",
       "      <td>[black deformed straight bar sabic, black defo...</td>\n",
       "    </tr>\n",
       "    <tr>\n",
       "      <th>22</th>\n",
       "      <td>22</td>\n",
       "      <td>48</td>\n",
       "      <td>22_unequal_ne_new_single</td>\n",
       "      <td>[unequal, ne, new, single, qha, forged, small,...</td>\n",
       "      <td>[cable trunking unequal tee plece single compa...</td>\n",
       "    </tr>\n",
       "    <tr>\n",
       "      <th>23</th>\n",
       "      <td>23</td>\n",
       "      <td>45</td>\n",
       "      <td>23_sabic_steel_حديد_صاج</td>\n",
       "      <td>[sabic, steel, حديد, صاج, rebar, سابك, , , , ]</td>\n",
       "      <td>[حديد سابك, حديد سابك, حديد سابك]</td>\n",
       "    </tr>\n",
       "    <tr>\n",
       "      <th>24</th>\n",
       "      <td>24</td>\n",
       "      <td>43</td>\n",
       "      <td>24_وطني_مجدول_حديد_تسليح</td>\n",
       "      <td>[وطني, مجدول, حديد, تسليح, , , , , , ]</td>\n",
       "      <td>[حديد تسليح وطني, حديد تسليح وطني, حديد تسليح ...</td>\n",
       "    </tr>\n",
       "    <tr>\n",
       "      <th>25</th>\n",
       "      <td>25</td>\n",
       "      <td>38</td>\n",
       "      <td>25_clear_sabic_jr_ساعه</td>\n",
       "      <td>[clear, sabic, jr, ساعه, gi, steel, std, sheet...</td>\n",
       "      <td>[hr sheet, hr sheet, hr sheet]</td>\n",
       "    </tr>\n",
       "    <tr>\n",
       "      <th>26</th>\n",
       "      <td>26</td>\n",
       "      <td>38</td>\n",
       "      <td>26_جريد_نظامي_راجحي_يمامه</td>\n",
       "      <td>[جريد, نظامي, راجحي, يمامه, سد, حديد, توريج, ك...</td>\n",
       "      <td>[حديد تسليح راجحي, حديد تسليح راجحي, حديد تسلي...</td>\n",
       "    </tr>\n",
       "    <tr>\n",
       "      <th>27</th>\n",
       "      <td>27</td>\n",
       "      <td>38</td>\n",
       "      <td>27_stud_doors_tube_pipe</td>\n",
       "      <td>[stud, doors, tube, pipe, تيوب, , , , , ]</td>\n",
       "      <td>[pipe, pipe, pipe]</td>\n",
       "    </tr>\n",
       "    <tr>\n",
       "      <th>28</th>\n",
       "      <td>28</td>\n",
       "      <td>37</td>\n",
       "      <td>28_اتفاق_حديد_تسليح_</td>\n",
       "      <td>[اتفاق, حديد, تسليح, , , , , , , ]</td>\n",
       "      <td>[حديد تسليح اتفاق, حديد تسليح اتفاق, حديد تسلي...</td>\n",
       "    </tr>\n",
       "    <tr>\n",
       "      <th>29</th>\n",
       "      <td>29</td>\n",
       "      <td>35</td>\n",
       "      <td>29_female_male_end_dzr</td>\n",
       "      <td>[female, male, end, dzr, equal, ball, union, a...</td>\n",
       "      <td>[aquaterra ppr female adaptor dzr, aquaterra p...</td>\n",
       "    </tr>\n",
       "    <tr>\n",
       "      <th>30</th>\n",
       "      <td>30</td>\n",
       "      <td>34</td>\n",
       "      <td>30_ياباني_مفصل_راجع_watani</td>\n",
       "      <td>[ياباني, مفصل, راجع, watani, نظامي, نقاص, طلب,...</td>\n",
       "      <td>[حديد سابك نظامي, حديد سابك نظامي, حديد سابك ن...</td>\n",
       "    </tr>\n",
       "    <tr>\n",
       "      <th>31</th>\n",
       "      <td>31</td>\n",
       "      <td>34</td>\n",
       "      <td>31_سعودي_مجدول_يخ_حديد</td>\n",
       "      <td>[سعودي, مجدول, يخ, حديد, سابك, تسليح, , , , ]</td>\n",
       "      <td>[حديد تسليح مجدول سعودي سابك, حديد تسليح مجدول...</td>\n",
       "    </tr>\n",
       "    <tr>\n",
       "      <th>32</th>\n",
       "      <td>32</td>\n",
       "      <td>33</td>\n",
       "      <td>32_none_non_nonecolor_oilseal</td>\n",
       "      <td>[none, non, nonecolor, oilseal, color, un, sta...</td>\n",
       "      <td>[ring seal configuration nutring size none col...</td>\n",
       "    </tr>\n",
       "    <tr>\n",
       "      <th>33</th>\n",
       "      <td>33</td>\n",
       "      <td>32</td>\n",
       "      <td>33_clear_tma_inn_returned</td>\n",
       "      <td>[clear, tma, inn, returned, three, on, stand, ...</td>\n",
       "      <td>[xt tma, xt tma, xt tma]</td>\n",
       "    </tr>\n",
       "    <tr>\n",
       "      <th>34</th>\n",
       "      <td>34</td>\n",
       "      <td>28</td>\n",
       "      <td>34_deformed_black_ittefaq_ittifaq</td>\n",
       "      <td>[deformed, black, ittefaq, ittifaq, straight, ...</td>\n",
       "      <td>[black deformed straight bar ittifaq, black de...</td>\n",
       "    </tr>\n",
       "    <tr>\n",
       "      <th>35</th>\n",
       "      <td>35</td>\n",
       "      <td>27</td>\n",
       "      <td>35_ext_ekip_dip_lsig</td>\n",
       "      <td>[ext, ekip, dip, lsig, li, iec, xt, ul, hr, ct]</td>\n",
       "      <td>[xt ekip dip ls, xt ekip dip ls, xt ekip dip ls]</td>\n",
       "    </tr>\n",
       "    <tr>\n",
       "      <th>36</th>\n",
       "      <td>36</td>\n",
       "      <td>26</td>\n",
       "      <td>36_c25_c32_c20_s202</td>\n",
       "      <td>[c25, c32, c20, s202, s204, c10, s201, s203, s...</td>\n",
       "      <td>[S201-C6, S201-C20, S201-C20]</td>\n",
       "    </tr>\n",
       "    <tr>\n",
       "      <th>37</th>\n",
       "      <td>37</td>\n",
       "      <td>24</td>\n",
       "      <td>37_deformed_flat_driver_straight</td>\n",
       "      <td>[deformed, flat, driver, straight, bar, scrw, ...</td>\n",
       "      <td>[deformed straight bar cr, deformed straight b...</td>\n",
       "    </tr>\n",
       "    <tr>\n",
       "      <th>38</th>\n",
       "      <td>38</td>\n",
       "      <td>24</td>\n",
       "      <td>38_cut_steel_bend_rebar</td>\n",
       "      <td>[cut, steel, bend, rebar, , , , , , ]</td>\n",
       "      <td>[cut bend rebar, cut bend rebar, cut bend rebar]</td>\n",
       "    </tr>\n",
       "    <tr>\n",
       "      <th>39</th>\n",
       "      <td>39</td>\n",
       "      <td>23</td>\n",
       "      <td>39_us_adjustable_split_lined</td>\n",
       "      <td>[us, adjustable, split, lined, model, pipe, wc...</td>\n",
       "      <td>[weicco rubber lined split clamp model wsc, we...</td>\n",
       "    </tr>\n",
       "    <tr>\n",
       "      <th>40</th>\n",
       "      <td>40</td>\n",
       "      <td>23</td>\n",
       "      <td>40_مسحوب_بارد_مجدول_حديد</td>\n",
       "      <td>[مسحوب, بارد, مجدول, حديد, حديدتسليح, سابك, تس...</td>\n",
       "      <td>[حديد تسليح سابك مسحوب, حديد تسليح سابك مسحوب,...</td>\n",
       "    </tr>\n",
       "    <tr>\n",
       "      <th>41</th>\n",
       "      <td>41</td>\n",
       "      <td>21</td>\n",
       "      <td>41_only_ارث_home_ويل</td>\n",
       "      <td>[only, ارث, home, ويل, villa, shurfa, وليم, صا...</td>\n",
       "      <td>[ويل تسليح املس سابك, ويل تسليح املس سابك, ويل...</td>\n",
       "    </tr>\n",
       "    <tr>\n",
       "      <th>42</th>\n",
       "      <td>42</td>\n",
       "      <td>21</td>\n",
       "      <td>42_touch_measuring_ekip_dip</td>\n",
       "      <td>[touch, measuring, ekip, dip, lsig, sw, lsi, w...</td>\n",
       "      <td>[ekip dip lsi wmp, ekip dip lsi wmp, ekip dip ...</td>\n",
       "    </tr>\n",
       "    <tr>\n",
       "      <th>43</th>\n",
       "      <td>43</td>\n",
       "      <td>19</td>\n",
       "      <td>43_seamless_dia_is_grade</td>\n",
       "      <td>[seamless, dia, is, grade, astm, erw, steel, b...</td>\n",
       "      <td>[opc cyl screed max agg size, opc cyl screed m...</td>\n",
       "    </tr>\n",
       "    <tr>\n",
       "      <th>44</th>\n",
       "      <td>44</td>\n",
       "      <td>17</td>\n",
       "      <td>44_مسحوب_recessed_تخصصي_مجلفن</td>\n",
       "      <td>[مسحوب, recessed, تخصصي, مجلفن, اسباني, deluxe...</td>\n",
       "      <td>[براغ مجلفن, براغ مجلفن, براغ مجلفن]</td>\n",
       "    </tr>\n",
       "    <tr>\n",
       "      <th>45</th>\n",
       "      <td>45</td>\n",
       "      <td>16</td>\n",
       "      <td>45_tech_golde__</td>\n",
       "      <td>[tech, golde, , , , , , , , ]</td>\n",
       "      <td>[golde tech, golde tech, golde tech]</td>\n",
       "    </tr>\n",
       "    <tr>\n",
       "      <th>46</th>\n",
       "      <td>46</td>\n",
       "      <td>16</td>\n",
       "      <td>46_black_deformed_straight_watani</td>\n",
       "      <td>[black, deformed, straight, watani, bar, , , ,...</td>\n",
       "      <td>[black deformed straight bar watani, black def...</td>\n",
       "    </tr>\n",
       "    <tr>\n",
       "      <th>47</th>\n",
       "      <td>47</td>\n",
       "      <td>14</td>\n",
       "      <td>47_sheet_mtrx_ms_checkered</td>\n",
       "      <td>[sheet, mtrx, ms, checkered, plain, astm, , , , ]</td>\n",
       "      <td>[ms plain sheet astm, ms plain sheet astm, ms ...</td>\n",
       "    </tr>\n",
       "    <tr>\n",
       "      <th>48</th>\n",
       "      <td>48</td>\n",
       "      <td>13</td>\n",
       "      <td>48_حديد_coil_ويل_املس</td>\n",
       "      <td>[حديد, coil, ويل, املس, , , , , , ]</td>\n",
       "      <td>[حديد ويل, حديد ويل, حديد ويل]</td>\n",
       "    </tr>\n",
       "    <tr>\n",
       "      <th>49</th>\n",
       "      <td>49</td>\n",
       "      <td>12</td>\n",
       "      <td>49_rebar_freight_china_nansha</td>\n",
       "      <td>[rebar, freight, china, nansha, to, درجو, alra...</td>\n",
       "      <td>[rebar saudi alrajhi, rebar saudi alrajhi, reb...</td>\n",
       "    </tr>\n",
       "    <tr>\n",
       "      <th>50</th>\n",
       "      <td>50</td>\n",
       "      <td>11</td>\n",
       "      <td>50_steel_ittefaq_shadeed_ittifaq</td>\n",
       "      <td>[steel, ittefaq, shadeed, ittifaq, ajeej, , , ...</td>\n",
       "      <td>[ajeej steel shadeed, ajeej steel shadeed, aje...</td>\n",
       "    </tr>\n",
       "    <tr>\n",
       "      <th>51</th>\n",
       "      <td>51</td>\n",
       "      <td>9</td>\n",
       "      <td>51_hd_super_ch_ci</td>\n",
       "      <td>[hd, super, ch, ci, plus, fleetmaster, petromi...</td>\n",
       "      <td>[petromin super hd ch, petromin super hd ch, p...</td>\n",
       "    </tr>\n",
       "    <tr>\n",
       "      <th>52</th>\n",
       "      <td>52</td>\n",
       "      <td>8</td>\n",
       "      <td>52_screw_msmn_ms_class</td>\n",
       "      <td>[screw, msmn, ms, class, driver, starter, manu...</td>\n",
       "      <td>[ms manual motor starter trip class, ms manual...</td>\n",
       "    </tr>\n",
       "    <tr>\n",
       "      <th>53</th>\n",
       "      <td>53</td>\n",
       "      <td>8</td>\n",
       "      <td>53_coil_cr_deformed_</td>\n",
       "      <td>[coil, cr, deformed, , , , , , , ]</td>\n",
       "      <td>[deformed coil cr, deformed coil cr, deformed ...</td>\n",
       "    </tr>\n",
       "    <tr>\n",
       "      <th>54</th>\n",
       "      <td>54</td>\n",
       "      <td>7</td>\n",
       "      <td>54_bundle_bar_cr_bun</td>\n",
       "      <td>[bundle, bar, cr, bun, straight, deformed, , ,...</td>\n",
       "      <td>[deformed straight bar cr bundle, deformed str...</td>\n",
       "    </tr>\n",
       "    <tr>\n",
       "      <th>55</th>\n",
       "      <td>55</td>\n",
       "      <td>6</td>\n",
       "      <td>55_hydraulic_aw_oil_</td>\n",
       "      <td>[hydraulic, aw, oil, , , , , , , ]</td>\n",
       "      <td>[petromin hydraulic oil aw, petromin hydraulic...</td>\n",
       "    </tr>\n",
       "  </tbody>\n",
       "</table>\n",
       "</div>"
      ],
      "text/plain": [
       "    Topic  Count                               Name  \\\n",
       "0       0    244         0_unknown_مصمت_مسحوب_نجران   \n",
       "1       1    217             1_neda_hollow_مفرد_nya   \n",
       "2       2    156             2_no_معزوله_غامق_plain   \n",
       "3       3    153            3_naked_out_smart_متنوع   \n",
       "4       4    146               4_moe_slitted_heb_af   \n",
       "5       5    125           5_معنون_نمساوي_solt_نائم   \n",
       "6       6    119          6_مصمت_ferruled_bare_unci   \n",
       "7       7    117      7_outdoor_وطني_ningbo_colored   \n",
       "8       8    114       8_british_نامات_deformed_two   \n",
       "9       9    104        9_different_no_مختلف_مختلفھ   \n",
       "10     10    101           10_امريكي_nya_هندي_نيبرو   \n",
       "11     11    100    11_معزول_wireless_outdoor_fresh   \n",
       "12     12     97               12_خاص_شب_black_ثابت   \n",
       "13     13     77             13_sabic_md_مجدول_حديد   \n",
       "14     14     71               14_no_شب_نجران_عامود   \n",
       "15     15     64           15_open_plain_hung_india   \n",
       "16     16     60              16_اسود_حديد_صاج_ميزر   \n",
       "17     17     56      17_off_مت_fabricated_deformed   \n",
       "18     18     55                18_xt1d_tmd_xt6d_xt   \n",
       "19     19     50                   19_حديد_ماسوره__   \n",
       "20     20     48          20_اتفاق_مجدول_حديد_تسليح   \n",
       "21     21     48   21_deformed_black_straight_sabic   \n",
       "22     22     48           22_unequal_ne_new_single   \n",
       "23     23     45            23_sabic_steel_حديد_صاج   \n",
       "24     24     43           24_وطني_مجدول_حديد_تسليح   \n",
       "25     25     38             25_clear_sabic_jr_ساعه   \n",
       "26     26     38          26_جريد_نظامي_راجحي_يمامه   \n",
       "27     27     38            27_stud_doors_tube_pipe   \n",
       "28     28     37               28_اتفاق_حديد_تسليح_   \n",
       "29     29     35             29_female_male_end_dzr   \n",
       "30     30     34         30_ياباني_مفصل_راجع_watani   \n",
       "31     31     34             31_سعودي_مجدول_يخ_حديد   \n",
       "32     32     33      32_none_non_nonecolor_oilseal   \n",
       "33     33     32          33_clear_tma_inn_returned   \n",
       "34     34     28  34_deformed_black_ittefaq_ittifaq   \n",
       "35     35     27               35_ext_ekip_dip_lsig   \n",
       "36     36     26                36_c25_c32_c20_s202   \n",
       "37     37     24   37_deformed_flat_driver_straight   \n",
       "38     38     24            38_cut_steel_bend_rebar   \n",
       "39     39     23       39_us_adjustable_split_lined   \n",
       "40     40     23           40_مسحوب_بارد_مجدول_حديد   \n",
       "41     41     21               41_only_ارث_home_ويل   \n",
       "42     42     21        42_touch_measuring_ekip_dip   \n",
       "43     43     19           43_seamless_dia_is_grade   \n",
       "44     44     17      44_مسحوب_recessed_تخصصي_مجلفن   \n",
       "45     45     16                    45_tech_golde__   \n",
       "46     46     16  46_black_deformed_straight_watani   \n",
       "47     47     14         47_sheet_mtrx_ms_checkered   \n",
       "48     48     13              48_حديد_coil_ويل_املس   \n",
       "49     49     12      49_rebar_freight_china_nansha   \n",
       "50     50     11   50_steel_ittefaq_shadeed_ittifaq   \n",
       "51     51      9                  51_hd_super_ch_ci   \n",
       "52     52      8             52_screw_msmn_ms_class   \n",
       "53     53      8               53_coil_cr_deformed_   \n",
       "54     54      7               54_bundle_bar_cr_bun   \n",
       "55     55      6               55_hydraulic_aw_oil_   \n",
       "\n",
       "                                       Representation  \\\n",
       "0           [unknown, مصمت, مسحوب, نجران, , , , , , ]   \n",
       "1   [neda, hollow, مفرد, nya, eye, رقم, عميق, wate...   \n",
       "2   [no, معزوله, غامق, plain, hand, hung, white, م...   \n",
       "3   [naked, out, smart, متنوع, online, female, mal...   \n",
       "4   [moe, slitted, heb, af, inn, uni, set, ipe, re...   \n",
       "5   [معنون, نمساوي, solt, نائم, one, محبس, dim, نخ...   \n",
       "6   [مصمت, ferruled, bare, unci, tinned, fixed, re...   \n",
       "7   [outdoor, وطني, ningbo, colored, change, نجران...   \n",
       "8   [british, نامات, deformed, two, مشترك, قاطع, i...   \n",
       "9   [different, no, مختلف, مختلفھ, bare, small, فا...   \n",
       "10  [امريكي, nya, هندي, نيبرو, black, ثابت, joli, ...   \n",
       "11  [معزول, wireless, outdoor, fresh, indoor, blac...   \n",
       "12  [خاص, شب, black, ثابت, قاطع, حر, صغير, داخلي, ...   \n",
       "13      [sabic, md, مجدول, حديد, سابك, تسليح, , , , ]   \n",
       "14  [no, شب, نجران, عامود, مسنن, مسلح, جاهز, مجلوخ...   \n",
       "15  [open, plain, hung, india, slotted, long, as, ...   \n",
       "16                [اسود, حديد, صاج, ميزر, , , , , , ]   \n",
       "17  [off, مت, fabricated, deformed, اتفاق, ديد, it...   \n",
       "18  [xt1d, tmd, xt6d, xt, tmf, mx, tmg, bayerdnami...   \n",
       "19                     [حديد, ماسوره, , , , , , , , ]   \n",
       "20            [اتفاق, مجدول, حديد, تسليح, , , , , , ]   \n",
       "21  [deformed, black, straight, sabic, bar, , , , , ]   \n",
       "22  [unequal, ne, new, single, qha, forged, small,...   \n",
       "23     [sabic, steel, حديد, صاج, rebar, سابك, , , , ]   \n",
       "24             [وطني, مجدول, حديد, تسليح, , , , , , ]   \n",
       "25  [clear, sabic, jr, ساعه, gi, steel, std, sheet...   \n",
       "26  [جريد, نظامي, راجحي, يمامه, سد, حديد, توريج, ك...   \n",
       "27          [stud, doors, tube, pipe, تيوب, , , , , ]   \n",
       "28                 [اتفاق, حديد, تسليح, , , , , , , ]   \n",
       "29  [female, male, end, dzr, equal, ball, union, a...   \n",
       "30  [ياباني, مفصل, راجع, watani, نظامي, نقاص, طلب,...   \n",
       "31      [سعودي, مجدول, يخ, حديد, سابك, تسليح, , , , ]   \n",
       "32  [none, non, nonecolor, oilseal, color, un, sta...   \n",
       "33  [clear, tma, inn, returned, three, on, stand, ...   \n",
       "34  [deformed, black, ittefaq, ittifaq, straight, ...   \n",
       "35    [ext, ekip, dip, lsig, li, iec, xt, ul, hr, ct]   \n",
       "36  [c25, c32, c20, s202, s204, c10, s201, s203, s...   \n",
       "37  [deformed, flat, driver, straight, bar, scrw, ...   \n",
       "38              [cut, steel, bend, rebar, , , , , , ]   \n",
       "39  [us, adjustable, split, lined, model, pipe, wc...   \n",
       "40  [مسحوب, بارد, مجدول, حديد, حديدتسليح, سابك, تس...   \n",
       "41  [only, ارث, home, ويل, villa, shurfa, وليم, صا...   \n",
       "42  [touch, measuring, ekip, dip, lsig, sw, lsi, w...   \n",
       "43  [seamless, dia, is, grade, astm, erw, steel, b...   \n",
       "44  [مسحوب, recessed, تخصصي, مجلفن, اسباني, deluxe...   \n",
       "45                      [tech, golde, , , , , , , , ]   \n",
       "46  [black, deformed, straight, watani, bar, , , ,...   \n",
       "47  [sheet, mtrx, ms, checkered, plain, astm, , , , ]   \n",
       "48                [حديد, coil, ويل, املس, , , , , , ]   \n",
       "49  [rebar, freight, china, nansha, to, درجو, alra...   \n",
       "50  [steel, ittefaq, shadeed, ittifaq, ajeej, , , ...   \n",
       "51  [hd, super, ch, ci, plus, fleetmaster, petromi...   \n",
       "52  [screw, msmn, ms, class, driver, starter, manu...   \n",
       "53                 [coil, cr, deformed, , , , , , , ]   \n",
       "54  [bundle, bar, cr, bun, straight, deformed, , ,...   \n",
       "55                 [hydraulic, aw, oil, , , , , , , ]   \n",
       "\n",
       "                                  Representative_Docs  \n",
       "0                         [unknown, unknown, unknown]  \n",
       "1   [self drilling flat head screw black each, sel...  \n",
       "2   [توريد مواد تقني الواح الخرسانيه معزوله ثلاثي ...  \n",
       "3   [elbow ppr tahweeltm, elbow ppr tahweeltm, elb...  \n",
       "4   [af hz dc contactor, af hz dc contactor, af hz...  \n",
       "5   [توريد بليود صيني, توريد بليود صيني, توريد بلي...  \n",
       "6   [way earth bar with twin disconnecting link, w...  \n",
       "7   [ماسوره حراري تحويل, ماسوره حراري تحويل, ماسور...  \n",
       "8   [british chef utility knife, british chef util...  \n",
       "9   [aluminium profile bars pcs, aluminium profile...  \n",
       "10   [سلك سويدي احمر, سلك سويدي احمر, سلك سويدي احمر]  \n",
       "11  [cu xlpe pvc cable kv, cu xlpe pvc cable kv, c...  \n",
       "12                     [صاج اسود, صاج اسود, صاج اسود]  \n",
       "13  [حديد تسليح سابك, حديد تسليح سابك, حديد تسليح ...  \n",
       "14  [لوح استانلس ستيل مجلوخ no, لوح استانلس ستيل م...  \n",
       "15  [hdg osf tray thick length, hdg osf tray thick...  \n",
       "16      [صاج حديد اسود, صاج حديد اسود, صاج حديد اسود]  \n",
       "17  [reinforcing steel bar ittfaq, reinforcing ste...  \n",
       "18                           [xt tmd, xt tmd, xt tmd]  \n",
       "19            [ماسوره حديد, ماسوره حديد, ماسوره حديد]  \n",
       "20  [حديد تسليح اتفاق, حديد تسليح اتفاق, حديد تسلي...  \n",
       "21  [black deformed straight bar sabic, black defo...  \n",
       "22  [cable trunking unequal tee plece single compa...  \n",
       "23                  [حديد سابك, حديد سابك, حديد سابك]  \n",
       "24  [حديد تسليح وطني, حديد تسليح وطني, حديد تسليح ...  \n",
       "25                     [hr sheet, hr sheet, hr sheet]  \n",
       "26  [حديد تسليح راجحي, حديد تسليح راجحي, حديد تسلي...  \n",
       "27                                 [pipe, pipe, pipe]  \n",
       "28  [حديد تسليح اتفاق, حديد تسليح اتفاق, حديد تسلي...  \n",
       "29  [aquaterra ppr female adaptor dzr, aquaterra p...  \n",
       "30  [حديد سابك نظامي, حديد سابك نظامي, حديد سابك ن...  \n",
       "31  [حديد تسليح مجدول سعودي سابك, حديد تسليح مجدول...  \n",
       "32  [ring seal configuration nutring size none col...  \n",
       "33                           [xt tma, xt tma, xt tma]  \n",
       "34  [black deformed straight bar ittifaq, black de...  \n",
       "35   [xt ekip dip ls, xt ekip dip ls, xt ekip dip ls]  \n",
       "36                      [S201-C6, S201-C20, S201-C20]  \n",
       "37  [deformed straight bar cr, deformed straight b...  \n",
       "38   [cut bend rebar, cut bend rebar, cut bend rebar]  \n",
       "39  [weicco rubber lined split clamp model wsc, we...  \n",
       "40  [حديد تسليح سابك مسحوب, حديد تسليح سابك مسحوب,...  \n",
       "41  [ويل تسليح املس سابك, ويل تسليح املس سابك, ويل...  \n",
       "42  [ekip dip lsi wmp, ekip dip lsi wmp, ekip dip ...  \n",
       "43  [opc cyl screed max agg size, opc cyl screed m...  \n",
       "44               [براغ مجلفن, براغ مجلفن, براغ مجلفن]  \n",
       "45               [golde tech, golde tech, golde tech]  \n",
       "46  [black deformed straight bar watani, black def...  \n",
       "47  [ms plain sheet astm, ms plain sheet astm, ms ...  \n",
       "48                     [حديد ويل, حديد ويل, حديد ويل]  \n",
       "49  [rebar saudi alrajhi, rebar saudi alrajhi, reb...  \n",
       "50  [ajeej steel shadeed, ajeej steel shadeed, aje...  \n",
       "51  [petromin super hd ch, petromin super hd ch, p...  \n",
       "52  [ms manual motor starter trip class, ms manual...  \n",
       "53  [deformed coil cr, deformed coil cr, deformed ...  \n",
       "54  [deformed straight bar cr bundle, deformed str...  \n",
       "55  [petromin hydraulic oil aw, petromin hydraulic...  "
      ]
     },
     "execution_count": 62,
     "metadata": {},
     "output_type": "execute_result"
    }
   ],
   "source": [
    "# pip install bertopic sentence-transformers scikit-learn\n",
    "\n",
    "from bertopic import BERTopic\n",
    "from bertopic.representation import KeyBERTInspired\n",
    "from sentence_transformers import SentenceTransformer\n",
    "from sklearn.cluster import KMeans\n",
    "import numpy as np\n",
    "\n",
    "# texts = [...]  # your ~3100 very short docs\n",
    "\n",
    "# ---- 1) Sentence embeddings only (LaBSE) ----\n",
    "sbert = SentenceTransformer(\"sentence-transformers/LaBSE\")\n",
    "sbert_vecs = sbert.encode(texts, batch_size=128, show_progress_bar=True, normalize_embeddings=True)  # (N, 768)\n",
    "\n",
    "# ---- 2) K-Means (no UMAP) ----\n",
    "def estimate_k(n):\n",
    "    return max(12, int(round(np.sqrt(n))))\n",
    "K = estimate_k(len(texts))\n",
    "kmeans = KMeans(n_clusters=K, n_init=20, random_state=42)\n",
    "\n",
    "# ---- 3) BERTopic with KeyBERTInspired (doc & word embeddings both from LaBSE) ----\n",
    "topic_model = BERTopic(\n",
    "    embedding_model=sbert,          # used for both docs & words (768-d)\n",
    "    umap_model=None,                # skip UMAP\n",
    "    hdbscan_model=kmeans,           # sklearn clusterer accepted in 0.17.x\n",
    "    vectorizer_model=None,          # labeling via embeddings, not c-TF-IDF\n",
    "    representation_model=KeyBERTInspired(),\n",
    "    calculate_probabilities=False,\n",
    "    verbose=True\n",
    ")\n",
    "\n",
    "topics, _ = topic_model.fit_transform(texts, embeddings=sbert_vecs)\n",
    "\n",
    "# ---- 4) (Optional) Auto-merge similar topics ----\n",
    "# topic_model.reduce_topics(texts, nr_topics=\"auto\")\n",
    "\n",
    "info = topic_model.get_topic_info()\n",
    "info"
   ]
  },
  {
   "cell_type": "code",
   "execution_count": null,
   "id": "6defb831",
   "metadata": {},
   "outputs": [
    {
     "data": {
      "application/vnd.plotly.v1+json": {
       "config": {
        "plotlyServerURL": "https://plot.ly"
       },
       "data": [
        {
         "customdata": [
          [
           0,
           "unknown | مصمت | مسحوب | نجران | ",
           244
          ],
          [
           1,
           "neda | hollow | مفرد | nya | eye",
           217
          ],
          [
           2,
           "no | معزوله | غامق | plain | hand",
           156
          ],
          [
           3,
           "naked | out | smart | متنوع | online",
           153
          ],
          [
           4,
           "moe | slitted | heb | af | inn",
           146
          ],
          [
           5,
           "معنون | نمساوي | solt | نائم | one",
           125
          ],
          [
           6,
           "مصمت | ferruled | bare | unci | tinned",
           119
          ],
          [
           7,
           "outdoor | وطني | ningbo | colored | change",
           117
          ],
          [
           8,
           "british | نامات | deformed | two | مشترك",
           114
          ],
          [
           9,
           "different | no | مختلف | مختلفھ | bare",
           104
          ],
          [
           10,
           "امريكي | nya | هندي | نيبرو | black",
           101
          ],
          [
           11,
           "معزول | wireless | outdoor | fresh | indoor",
           100
          ],
          [
           12,
           "خاص | شب | black | ثابت | قاطع",
           97
          ],
          [
           13,
           "sabic | md | مجدول | حديد | سابك",
           77
          ],
          [
           14,
           "no | شب | نجران | عامود | مسنن",
           71
          ],
          [
           15,
           "open | plain | hung | india | slotted",
           64
          ],
          [
           16,
           "اسود | حديد | صاج | ميزر | ",
           60
          ],
          [
           17,
           "off | مت | fabricated | deformed | اتفاق",
           56
          ],
          [
           18,
           "xt1d | tmd | xt6d | xt | tmf",
           55
          ],
          [
           19,
           "حديد | ماسوره |  |  | ",
           50
          ],
          [
           20,
           "اتفاق | مجدول | حديد | تسليح | ",
           48
          ],
          [
           21,
           "deformed | black | straight | sabic | bar",
           48
          ],
          [
           22,
           "unequal | ne | new | single | qha",
           48
          ],
          [
           23,
           "sabic | steel | حديد | صاج | rebar",
           45
          ],
          [
           24,
           "وطني | مجدول | حديد | تسليح | ",
           43
          ],
          [
           25,
           "clear | sabic | jr | ساعه | gi",
           38
          ],
          [
           26,
           "جريد | نظامي | راجحي | يمامه | سد",
           38
          ],
          [
           27,
           "stud | doors | tube | pipe | تيوب",
           38
          ],
          [
           28,
           "اتفاق | حديد | تسليح |  | ",
           37
          ],
          [
           29,
           "female | male | end | dzr | equal",
           35
          ],
          [
           30,
           "ياباني | مفصل | راجع | watani | نظامي",
           34
          ],
          [
           31,
           "سعودي | مجدول | يخ | حديد | سابك",
           34
          ],
          [
           32,
           "none | non | nonecolor | oilseal | color",
           33
          ],
          [
           33,
           "clear | tma | inn | returned | three",
           32
          ],
          [
           34,
           "deformed | black | ittefaq | ittifaq | straight",
           28
          ],
          [
           35,
           "ext | ekip | dip | lsig | li",
           27
          ],
          [
           36,
           "c25 | c32 | c20 | s202 | s204",
           26
          ],
          [
           37,
           "deformed | flat | driver | straight | bar",
           24
          ],
          [
           38,
           "cut | steel | bend | rebar | ",
           24
          ],
          [
           39,
           "us | adjustable | split | lined | model",
           23
          ],
          [
           40,
           "مسحوب | بارد | مجدول | حديد | حديدتسليح",
           23
          ],
          [
           41,
           "only | ارث | home | ويل | villa",
           21
          ],
          [
           42,
           "touch | measuring | ekip | dip | lsig",
           21
          ],
          [
           43,
           "seamless | dia | is | grade | astm",
           19
          ],
          [
           44,
           "مسحوب | recessed | تخصصي | مجلفن | اسباني",
           17
          ],
          [
           45,
           "tech | golde |  |  | ",
           16
          ],
          [
           46,
           "black | deformed | straight | watani | bar",
           16
          ],
          [
           47,
           "sheet | mtrx | ms | checkered | plain",
           14
          ],
          [
           48,
           "حديد | coil | ويل | املس | ",
           13
          ],
          [
           49,
           "rebar | freight | china | nansha | to",
           12
          ],
          [
           50,
           "steel | ittefaq | shadeed | ittifaq | ajeej",
           11
          ],
          [
           51,
           "hd | super | ch | ci | plus",
           9
          ],
          [
           52,
           "screw | msmn | ms | class | driver",
           8
          ],
          [
           53,
           "coil | cr | deformed |  | ",
           8
          ],
          [
           54,
           "bundle | bar | cr | bun | straight",
           7
          ],
          [
           55,
           "hydraulic | aw | oil |  | ",
           6
          ]
         ],
         "hovertemplate": "<b>Topic %{customdata[0]}</b><br>%{customdata[1]}<br>Size: %{customdata[2]}",
         "legendgroup": "",
         "marker": {
          "color": "#B0BEC5",
          "line": {
           "color": "DarkSlateGrey",
           "width": 2
          },
          "size": {
           "bdata": "9ADZAJwAmQCSAH0AdwB1AHIAaABlAGQAYQBNAEcAQAA8ADgANwAyADAAMAAwAC0AKwAmACYAJgAlACMAIgAiACEAIAAcABsAGgAYABgAFwAXABUAFQATABEAEAAQAA4ADQAMAAsACQAIAAgABwAGAA==",
           "dtype": "i2"
          },
          "sizemode": "area",
          "sizeref": 0.1525,
          "symbol": "circle"
         },
         "mode": "markers",
         "name": "",
         "orientation": "v",
         "showlegend": false,
         "type": "scatter",
         "x": {
          "bdata": "wjgtQVUNMkHy6lg/NhitQdjMsUFAmkNBmoM4QTLeM0GMfkFBrYIVQLPyTj9oDJo/SNNoP4FCwcClnCBAY3Q5QcMzhT8VCtPAk9R4QX1YMEDD7uNAT3FAvwbnWz85itLA06iswPNAskH1ArTADiIuQcQ/40BxmaxB4WzFwNdtzMBaHEA/W3t6QZHrLL/y1U1BNh/QwBI6T0GQ+A1A5nCgP7P3xMDSlbzA4tNNQVMQNT/2pDJA0+d3Qdw/0b6sxbBBBQQaQEM12cCFUgFATYPxQIO3sEEhYU5BK55RQaSD8UA=",
          "dtype": "f4"
         },
         "xaxis": "x",
         "y": {
          "bdata": "JDXRvshTMr947mBAdkVJwL0obMAsNV+/xfBIv9mWXr9aaFO/5z15PusYpMA3QndA99+gwCJof0CoZpO+FeoMvyivnMCG/ktAuYc7QWDId74y9gvB7gawQea4YUCd539AF82GQC8Xb8API4NAyr/1vjE6DMGpMEXAq1mIQFpQXECwhlpAEeM5QT6jsEGdMl1BZlF5QCRyhEB1Xu0+sWh6QKfug0AG43RAPDRdQa7AV0AIelm97HI8QXjFskGm6mHAj7XAvpceQEBKDmU+0maYwEHeYMArI4ZAPFZ/QBBnmMA=",
          "dtype": "f4"
         },
         "yaxis": "y"
        }
       ],
       "layout": {
        "annotations": [
         {
          "showarrow": false,
          "text": "D1",
          "x": -7.805914425849915,
          "y": 7.809772706031799,
          "yshift": 10
         },
         {
          "showarrow": false,
          "text": "D2",
          "x": 8.909028041362763,
          "xshift": 10,
          "y": 25.698383331298828
         }
        ],
        "height": 650,
        "hoverlabel": {
         "bgcolor": "white",
         "font": {
          "family": "Rockwell",
          "size": 16
         }
        },
        "legend": {
         "itemsizing": "constant",
         "tracegroupgap": 0
        },
        "margin": {
         "t": 60
        },
        "shapes": [
         {
          "line": {
           "color": "#CFD8DC",
           "width": 2
          },
          "type": "line",
          "x0": 8.909028041362763,
          "x1": 8.909028041362763,
          "y0": -10.07883791923523,
          "y1": 25.698383331298828
         },
         {
          "line": {
           "color": "#9E9E9E",
           "width": 2
          },
          "type": "line",
          "x0": -7.805914425849915,
          "x1": 25.62397050857544,
          "y0": 7.809772706031799,
          "y1": 7.809772706031799
         }
        ],
        "sliders": [
         {
          "active": 0,
          "pad": {
           "t": 50
          },
          "steps": [
           {
            "args": [
             {
              "marker.color": [
               [
                "red",
                "#B0BEC5",
                "#B0BEC5",
                "#B0BEC5",
                "#B0BEC5",
                "#B0BEC5",
                "#B0BEC5",
                "#B0BEC5",
                "#B0BEC5",
                "#B0BEC5",
                "#B0BEC5",
                "#B0BEC5",
                "#B0BEC5",
                "#B0BEC5",
                "#B0BEC5",
                "#B0BEC5",
                "#B0BEC5",
                "#B0BEC5",
                "#B0BEC5",
                "#B0BEC5",
                "#B0BEC5",
                "#B0BEC5",
                "#B0BEC5",
                "#B0BEC5",
                "#B0BEC5",
                "#B0BEC5",
                "#B0BEC5",
                "#B0BEC5",
                "#B0BEC5",
                "#B0BEC5",
                "#B0BEC5",
                "#B0BEC5",
                "#B0BEC5",
                "#B0BEC5",
                "#B0BEC5",
                "#B0BEC5",
                "#B0BEC5",
                "#B0BEC5",
                "#B0BEC5",
                "#B0BEC5",
                "#B0BEC5",
                "#B0BEC5",
                "#B0BEC5",
                "#B0BEC5",
                "#B0BEC5",
                "#B0BEC5",
                "#B0BEC5",
                "#B0BEC5",
                "#B0BEC5",
                "#B0BEC5",
                "#B0BEC5",
                "#B0BEC5",
                "#B0BEC5",
                "#B0BEC5",
                "#B0BEC5",
                "#B0BEC5"
               ]
              ]
             }
            ],
            "label": "Topic 0",
            "method": "update"
           },
           {
            "args": [
             {
              "marker.color": [
               [
                "#B0BEC5",
                "red",
                "#B0BEC5",
                "#B0BEC5",
                "#B0BEC5",
                "#B0BEC5",
                "#B0BEC5",
                "#B0BEC5",
                "#B0BEC5",
                "#B0BEC5",
                "#B0BEC5",
                "#B0BEC5",
                "#B0BEC5",
                "#B0BEC5",
                "#B0BEC5",
                "#B0BEC5",
                "#B0BEC5",
                "#B0BEC5",
                "#B0BEC5",
                "#B0BEC5",
                "#B0BEC5",
                "#B0BEC5",
                "#B0BEC5",
                "#B0BEC5",
                "#B0BEC5",
                "#B0BEC5",
                "#B0BEC5",
                "#B0BEC5",
                "#B0BEC5",
                "#B0BEC5",
                "#B0BEC5",
                "#B0BEC5",
                "#B0BEC5",
                "#B0BEC5",
                "#B0BEC5",
                "#B0BEC5",
                "#B0BEC5",
                "#B0BEC5",
                "#B0BEC5",
                "#B0BEC5",
                "#B0BEC5",
                "#B0BEC5",
                "#B0BEC5",
                "#B0BEC5",
                "#B0BEC5",
                "#B0BEC5",
                "#B0BEC5",
                "#B0BEC5",
                "#B0BEC5",
                "#B0BEC5",
                "#B0BEC5",
                "#B0BEC5",
                "#B0BEC5",
                "#B0BEC5",
                "#B0BEC5",
                "#B0BEC5"
               ]
              ]
             }
            ],
            "label": "Topic 1",
            "method": "update"
           },
           {
            "args": [
             {
              "marker.color": [
               [
                "#B0BEC5",
                "#B0BEC5",
                "red",
                "#B0BEC5",
                "#B0BEC5",
                "#B0BEC5",
                "#B0BEC5",
                "#B0BEC5",
                "#B0BEC5",
                "#B0BEC5",
                "#B0BEC5",
                "#B0BEC5",
                "#B0BEC5",
                "#B0BEC5",
                "#B0BEC5",
                "#B0BEC5",
                "#B0BEC5",
                "#B0BEC5",
                "#B0BEC5",
                "#B0BEC5",
                "#B0BEC5",
                "#B0BEC5",
                "#B0BEC5",
                "#B0BEC5",
                "#B0BEC5",
                "#B0BEC5",
                "#B0BEC5",
                "#B0BEC5",
                "#B0BEC5",
                "#B0BEC5",
                "#B0BEC5",
                "#B0BEC5",
                "#B0BEC5",
                "#B0BEC5",
                "#B0BEC5",
                "#B0BEC5",
                "#B0BEC5",
                "#B0BEC5",
                "#B0BEC5",
                "#B0BEC5",
                "#B0BEC5",
                "#B0BEC5",
                "#B0BEC5",
                "#B0BEC5",
                "#B0BEC5",
                "#B0BEC5",
                "#B0BEC5",
                "#B0BEC5",
                "#B0BEC5",
                "#B0BEC5",
                "#B0BEC5",
                "#B0BEC5",
                "#B0BEC5",
                "#B0BEC5",
                "#B0BEC5",
                "#B0BEC5"
               ]
              ]
             }
            ],
            "label": "Topic 2",
            "method": "update"
           },
           {
            "args": [
             {
              "marker.color": [
               [
                "#B0BEC5",
                "#B0BEC5",
                "#B0BEC5",
                "red",
                "#B0BEC5",
                "#B0BEC5",
                "#B0BEC5",
                "#B0BEC5",
                "#B0BEC5",
                "#B0BEC5",
                "#B0BEC5",
                "#B0BEC5",
                "#B0BEC5",
                "#B0BEC5",
                "#B0BEC5",
                "#B0BEC5",
                "#B0BEC5",
                "#B0BEC5",
                "#B0BEC5",
                "#B0BEC5",
                "#B0BEC5",
                "#B0BEC5",
                "#B0BEC5",
                "#B0BEC5",
                "#B0BEC5",
                "#B0BEC5",
                "#B0BEC5",
                "#B0BEC5",
                "#B0BEC5",
                "#B0BEC5",
                "#B0BEC5",
                "#B0BEC5",
                "#B0BEC5",
                "#B0BEC5",
                "#B0BEC5",
                "#B0BEC5",
                "#B0BEC5",
                "#B0BEC5",
                "#B0BEC5",
                "#B0BEC5",
                "#B0BEC5",
                "#B0BEC5",
                "#B0BEC5",
                "#B0BEC5",
                "#B0BEC5",
                "#B0BEC5",
                "#B0BEC5",
                "#B0BEC5",
                "#B0BEC5",
                "#B0BEC5",
                "#B0BEC5",
                "#B0BEC5",
                "#B0BEC5",
                "#B0BEC5",
                "#B0BEC5",
                "#B0BEC5"
               ]
              ]
             }
            ],
            "label": "Topic 3",
            "method": "update"
           },
           {
            "args": [
             {
              "marker.color": [
               [
                "#B0BEC5",
                "#B0BEC5",
                "#B0BEC5",
                "#B0BEC5",
                "red",
                "#B0BEC5",
                "#B0BEC5",
                "#B0BEC5",
                "#B0BEC5",
                "#B0BEC5",
                "#B0BEC5",
                "#B0BEC5",
                "#B0BEC5",
                "#B0BEC5",
                "#B0BEC5",
                "#B0BEC5",
                "#B0BEC5",
                "#B0BEC5",
                "#B0BEC5",
                "#B0BEC5",
                "#B0BEC5",
                "#B0BEC5",
                "#B0BEC5",
                "#B0BEC5",
                "#B0BEC5",
                "#B0BEC5",
                "#B0BEC5",
                "#B0BEC5",
                "#B0BEC5",
                "#B0BEC5",
                "#B0BEC5",
                "#B0BEC5",
                "#B0BEC5",
                "#B0BEC5",
                "#B0BEC5",
                "#B0BEC5",
                "#B0BEC5",
                "#B0BEC5",
                "#B0BEC5",
                "#B0BEC5",
                "#B0BEC5",
                "#B0BEC5",
                "#B0BEC5",
                "#B0BEC5",
                "#B0BEC5",
                "#B0BEC5",
                "#B0BEC5",
                "#B0BEC5",
                "#B0BEC5",
                "#B0BEC5",
                "#B0BEC5",
                "#B0BEC5",
                "#B0BEC5",
                "#B0BEC5",
                "#B0BEC5",
                "#B0BEC5"
               ]
              ]
             }
            ],
            "label": "Topic 4",
            "method": "update"
           },
           {
            "args": [
             {
              "marker.color": [
               [
                "#B0BEC5",
                "#B0BEC5",
                "#B0BEC5",
                "#B0BEC5",
                "#B0BEC5",
                "red",
                "#B0BEC5",
                "#B0BEC5",
                "#B0BEC5",
                "#B0BEC5",
                "#B0BEC5",
                "#B0BEC5",
                "#B0BEC5",
                "#B0BEC5",
                "#B0BEC5",
                "#B0BEC5",
                "#B0BEC5",
                "#B0BEC5",
                "#B0BEC5",
                "#B0BEC5",
                "#B0BEC5",
                "#B0BEC5",
                "#B0BEC5",
                "#B0BEC5",
                "#B0BEC5",
                "#B0BEC5",
                "#B0BEC5",
                "#B0BEC5",
                "#B0BEC5",
                "#B0BEC5",
                "#B0BEC5",
                "#B0BEC5",
                "#B0BEC5",
                "#B0BEC5",
                "#B0BEC5",
                "#B0BEC5",
                "#B0BEC5",
                "#B0BEC5",
                "#B0BEC5",
                "#B0BEC5",
                "#B0BEC5",
                "#B0BEC5",
                "#B0BEC5",
                "#B0BEC5",
                "#B0BEC5",
                "#B0BEC5",
                "#B0BEC5",
                "#B0BEC5",
                "#B0BEC5",
                "#B0BEC5",
                "#B0BEC5",
                "#B0BEC5",
                "#B0BEC5",
                "#B0BEC5",
                "#B0BEC5",
                "#B0BEC5"
               ]
              ]
             }
            ],
            "label": "Topic 5",
            "method": "update"
           },
           {
            "args": [
             {
              "marker.color": [
               [
                "#B0BEC5",
                "#B0BEC5",
                "#B0BEC5",
                "#B0BEC5",
                "#B0BEC5",
                "#B0BEC5",
                "red",
                "#B0BEC5",
                "#B0BEC5",
                "#B0BEC5",
                "#B0BEC5",
                "#B0BEC5",
                "#B0BEC5",
                "#B0BEC5",
                "#B0BEC5",
                "#B0BEC5",
                "#B0BEC5",
                "#B0BEC5",
                "#B0BEC5",
                "#B0BEC5",
                "#B0BEC5",
                "#B0BEC5",
                "#B0BEC5",
                "#B0BEC5",
                "#B0BEC5",
                "#B0BEC5",
                "#B0BEC5",
                "#B0BEC5",
                "#B0BEC5",
                "#B0BEC5",
                "#B0BEC5",
                "#B0BEC5",
                "#B0BEC5",
                "#B0BEC5",
                "#B0BEC5",
                "#B0BEC5",
                "#B0BEC5",
                "#B0BEC5",
                "#B0BEC5",
                "#B0BEC5",
                "#B0BEC5",
                "#B0BEC5",
                "#B0BEC5",
                "#B0BEC5",
                "#B0BEC5",
                "#B0BEC5",
                "#B0BEC5",
                "#B0BEC5",
                "#B0BEC5",
                "#B0BEC5",
                "#B0BEC5",
                "#B0BEC5",
                "#B0BEC5",
                "#B0BEC5",
                "#B0BEC5",
                "#B0BEC5"
               ]
              ]
             }
            ],
            "label": "Topic 6",
            "method": "update"
           },
           {
            "args": [
             {
              "marker.color": [
               [
                "#B0BEC5",
                "#B0BEC5",
                "#B0BEC5",
                "#B0BEC5",
                "#B0BEC5",
                "#B0BEC5",
                "#B0BEC5",
                "red",
                "#B0BEC5",
                "#B0BEC5",
                "#B0BEC5",
                "#B0BEC5",
                "#B0BEC5",
                "#B0BEC5",
                "#B0BEC5",
                "#B0BEC5",
                "#B0BEC5",
                "#B0BEC5",
                "#B0BEC5",
                "#B0BEC5",
                "#B0BEC5",
                "#B0BEC5",
                "#B0BEC5",
                "#B0BEC5",
                "#B0BEC5",
                "#B0BEC5",
                "#B0BEC5",
                "#B0BEC5",
                "#B0BEC5",
                "#B0BEC5",
                "#B0BEC5",
                "#B0BEC5",
                "#B0BEC5",
                "#B0BEC5",
                "#B0BEC5",
                "#B0BEC5",
                "#B0BEC5",
                "#B0BEC5",
                "#B0BEC5",
                "#B0BEC5",
                "#B0BEC5",
                "#B0BEC5",
                "#B0BEC5",
                "#B0BEC5",
                "#B0BEC5",
                "#B0BEC5",
                "#B0BEC5",
                "#B0BEC5",
                "#B0BEC5",
                "#B0BEC5",
                "#B0BEC5",
                "#B0BEC5",
                "#B0BEC5",
                "#B0BEC5",
                "#B0BEC5",
                "#B0BEC5"
               ]
              ]
             }
            ],
            "label": "Topic 7",
            "method": "update"
           },
           {
            "args": [
             {
              "marker.color": [
               [
                "#B0BEC5",
                "#B0BEC5",
                "#B0BEC5",
                "#B0BEC5",
                "#B0BEC5",
                "#B0BEC5",
                "#B0BEC5",
                "#B0BEC5",
                "red",
                "#B0BEC5",
                "#B0BEC5",
                "#B0BEC5",
                "#B0BEC5",
                "#B0BEC5",
                "#B0BEC5",
                "#B0BEC5",
                "#B0BEC5",
                "#B0BEC5",
                "#B0BEC5",
                "#B0BEC5",
                "#B0BEC5",
                "#B0BEC5",
                "#B0BEC5",
                "#B0BEC5",
                "#B0BEC5",
                "#B0BEC5",
                "#B0BEC5",
                "#B0BEC5",
                "#B0BEC5",
                "#B0BEC5",
                "#B0BEC5",
                "#B0BEC5",
                "#B0BEC5",
                "#B0BEC5",
                "#B0BEC5",
                "#B0BEC5",
                "#B0BEC5",
                "#B0BEC5",
                "#B0BEC5",
                "#B0BEC5",
                "#B0BEC5",
                "#B0BEC5",
                "#B0BEC5",
                "#B0BEC5",
                "#B0BEC5",
                "#B0BEC5",
                "#B0BEC5",
                "#B0BEC5",
                "#B0BEC5",
                "#B0BEC5",
                "#B0BEC5",
                "#B0BEC5",
                "#B0BEC5",
                "#B0BEC5",
                "#B0BEC5",
                "#B0BEC5"
               ]
              ]
             }
            ],
            "label": "Topic 8",
            "method": "update"
           },
           {
            "args": [
             {
              "marker.color": [
               [
                "#B0BEC5",
                "#B0BEC5",
                "#B0BEC5",
                "#B0BEC5",
                "#B0BEC5",
                "#B0BEC5",
                "#B0BEC5",
                "#B0BEC5",
                "#B0BEC5",
                "red",
                "#B0BEC5",
                "#B0BEC5",
                "#B0BEC5",
                "#B0BEC5",
                "#B0BEC5",
                "#B0BEC5",
                "#B0BEC5",
                "#B0BEC5",
                "#B0BEC5",
                "#B0BEC5",
                "#B0BEC5",
                "#B0BEC5",
                "#B0BEC5",
                "#B0BEC5",
                "#B0BEC5",
                "#B0BEC5",
                "#B0BEC5",
                "#B0BEC5",
                "#B0BEC5",
                "#B0BEC5",
                "#B0BEC5",
                "#B0BEC5",
                "#B0BEC5",
                "#B0BEC5",
                "#B0BEC5",
                "#B0BEC5",
                "#B0BEC5",
                "#B0BEC5",
                "#B0BEC5",
                "#B0BEC5",
                "#B0BEC5",
                "#B0BEC5",
                "#B0BEC5",
                "#B0BEC5",
                "#B0BEC5",
                "#B0BEC5",
                "#B0BEC5",
                "#B0BEC5",
                "#B0BEC5",
                "#B0BEC5",
                "#B0BEC5",
                "#B0BEC5",
                "#B0BEC5",
                "#B0BEC5",
                "#B0BEC5",
                "#B0BEC5"
               ]
              ]
             }
            ],
            "label": "Topic 9",
            "method": "update"
           },
           {
            "args": [
             {
              "marker.color": [
               [
                "#B0BEC5",
                "#B0BEC5",
                "#B0BEC5",
                "#B0BEC5",
                "#B0BEC5",
                "#B0BEC5",
                "#B0BEC5",
                "#B0BEC5",
                "#B0BEC5",
                "#B0BEC5",
                "red",
                "#B0BEC5",
                "#B0BEC5",
                "#B0BEC5",
                "#B0BEC5",
                "#B0BEC5",
                "#B0BEC5",
                "#B0BEC5",
                "#B0BEC5",
                "#B0BEC5",
                "#B0BEC5",
                "#B0BEC5",
                "#B0BEC5",
                "#B0BEC5",
                "#B0BEC5",
                "#B0BEC5",
                "#B0BEC5",
                "#B0BEC5",
                "#B0BEC5",
                "#B0BEC5",
                "#B0BEC5",
                "#B0BEC5",
                "#B0BEC5",
                "#B0BEC5",
                "#B0BEC5",
                "#B0BEC5",
                "#B0BEC5",
                "#B0BEC5",
                "#B0BEC5",
                "#B0BEC5",
                "#B0BEC5",
                "#B0BEC5",
                "#B0BEC5",
                "#B0BEC5",
                "#B0BEC5",
                "#B0BEC5",
                "#B0BEC5",
                "#B0BEC5",
                "#B0BEC5",
                "#B0BEC5",
                "#B0BEC5",
                "#B0BEC5",
                "#B0BEC5",
                "#B0BEC5",
                "#B0BEC5",
                "#B0BEC5"
               ]
              ]
             }
            ],
            "label": "Topic 10",
            "method": "update"
           },
           {
            "args": [
             {
              "marker.color": [
               [
                "#B0BEC5",
                "#B0BEC5",
                "#B0BEC5",
                "#B0BEC5",
                "#B0BEC5",
                "#B0BEC5",
                "#B0BEC5",
                "#B0BEC5",
                "#B0BEC5",
                "#B0BEC5",
                "#B0BEC5",
                "red",
                "#B0BEC5",
                "#B0BEC5",
                "#B0BEC5",
                "#B0BEC5",
                "#B0BEC5",
                "#B0BEC5",
                "#B0BEC5",
                "#B0BEC5",
                "#B0BEC5",
                "#B0BEC5",
                "#B0BEC5",
                "#B0BEC5",
                "#B0BEC5",
                "#B0BEC5",
                "#B0BEC5",
                "#B0BEC5",
                "#B0BEC5",
                "#B0BEC5",
                "#B0BEC5",
                "#B0BEC5",
                "#B0BEC5",
                "#B0BEC5",
                "#B0BEC5",
                "#B0BEC5",
                "#B0BEC5",
                "#B0BEC5",
                "#B0BEC5",
                "#B0BEC5",
                "#B0BEC5",
                "#B0BEC5",
                "#B0BEC5",
                "#B0BEC5",
                "#B0BEC5",
                "#B0BEC5",
                "#B0BEC5",
                "#B0BEC5",
                "#B0BEC5",
                "#B0BEC5",
                "#B0BEC5",
                "#B0BEC5",
                "#B0BEC5",
                "#B0BEC5",
                "#B0BEC5",
                "#B0BEC5"
               ]
              ]
             }
            ],
            "label": "Topic 11",
            "method": "update"
           },
           {
            "args": [
             {
              "marker.color": [
               [
                "#B0BEC5",
                "#B0BEC5",
                "#B0BEC5",
                "#B0BEC5",
                "#B0BEC5",
                "#B0BEC5",
                "#B0BEC5",
                "#B0BEC5",
                "#B0BEC5",
                "#B0BEC5",
                "#B0BEC5",
                "#B0BEC5",
                "red",
                "#B0BEC5",
                "#B0BEC5",
                "#B0BEC5",
                "#B0BEC5",
                "#B0BEC5",
                "#B0BEC5",
                "#B0BEC5",
                "#B0BEC5",
                "#B0BEC5",
                "#B0BEC5",
                "#B0BEC5",
                "#B0BEC5",
                "#B0BEC5",
                "#B0BEC5",
                "#B0BEC5",
                "#B0BEC5",
                "#B0BEC5",
                "#B0BEC5",
                "#B0BEC5",
                "#B0BEC5",
                "#B0BEC5",
                "#B0BEC5",
                "#B0BEC5",
                "#B0BEC5",
                "#B0BEC5",
                "#B0BEC5",
                "#B0BEC5",
                "#B0BEC5",
                "#B0BEC5",
                "#B0BEC5",
                "#B0BEC5",
                "#B0BEC5",
                "#B0BEC5",
                "#B0BEC5",
                "#B0BEC5",
                "#B0BEC5",
                "#B0BEC5",
                "#B0BEC5",
                "#B0BEC5",
                "#B0BEC5",
                "#B0BEC5",
                "#B0BEC5",
                "#B0BEC5"
               ]
              ]
             }
            ],
            "label": "Topic 12",
            "method": "update"
           },
           {
            "args": [
             {
              "marker.color": [
               [
                "#B0BEC5",
                "#B0BEC5",
                "#B0BEC5",
                "#B0BEC5",
                "#B0BEC5",
                "#B0BEC5",
                "#B0BEC5",
                "#B0BEC5",
                "#B0BEC5",
                "#B0BEC5",
                "#B0BEC5",
                "#B0BEC5",
                "#B0BEC5",
                "red",
                "#B0BEC5",
                "#B0BEC5",
                "#B0BEC5",
                "#B0BEC5",
                "#B0BEC5",
                "#B0BEC5",
                "#B0BEC5",
                "#B0BEC5",
                "#B0BEC5",
                "#B0BEC5",
                "#B0BEC5",
                "#B0BEC5",
                "#B0BEC5",
                "#B0BEC5",
                "#B0BEC5",
                "#B0BEC5",
                "#B0BEC5",
                "#B0BEC5",
                "#B0BEC5",
                "#B0BEC5",
                "#B0BEC5",
                "#B0BEC5",
                "#B0BEC5",
                "#B0BEC5",
                "#B0BEC5",
                "#B0BEC5",
                "#B0BEC5",
                "#B0BEC5",
                "#B0BEC5",
                "#B0BEC5",
                "#B0BEC5",
                "#B0BEC5",
                "#B0BEC5",
                "#B0BEC5",
                "#B0BEC5",
                "#B0BEC5",
                "#B0BEC5",
                "#B0BEC5",
                "#B0BEC5",
                "#B0BEC5",
                "#B0BEC5",
                "#B0BEC5"
               ]
              ]
             }
            ],
            "label": "Topic 13",
            "method": "update"
           },
           {
            "args": [
             {
              "marker.color": [
               [
                "#B0BEC5",
                "#B0BEC5",
                "#B0BEC5",
                "#B0BEC5",
                "#B0BEC5",
                "#B0BEC5",
                "#B0BEC5",
                "#B0BEC5",
                "#B0BEC5",
                "#B0BEC5",
                "#B0BEC5",
                "#B0BEC5",
                "#B0BEC5",
                "#B0BEC5",
                "red",
                "#B0BEC5",
                "#B0BEC5",
                "#B0BEC5",
                "#B0BEC5",
                "#B0BEC5",
                "#B0BEC5",
                "#B0BEC5",
                "#B0BEC5",
                "#B0BEC5",
                "#B0BEC5",
                "#B0BEC5",
                "#B0BEC5",
                "#B0BEC5",
                "#B0BEC5",
                "#B0BEC5",
                "#B0BEC5",
                "#B0BEC5",
                "#B0BEC5",
                "#B0BEC5",
                "#B0BEC5",
                "#B0BEC5",
                "#B0BEC5",
                "#B0BEC5",
                "#B0BEC5",
                "#B0BEC5",
                "#B0BEC5",
                "#B0BEC5",
                "#B0BEC5",
                "#B0BEC5",
                "#B0BEC5",
                "#B0BEC5",
                "#B0BEC5",
                "#B0BEC5",
                "#B0BEC5",
                "#B0BEC5",
                "#B0BEC5",
                "#B0BEC5",
                "#B0BEC5",
                "#B0BEC5",
                "#B0BEC5",
                "#B0BEC5"
               ]
              ]
             }
            ],
            "label": "Topic 14",
            "method": "update"
           },
           {
            "args": [
             {
              "marker.color": [
               [
                "#B0BEC5",
                "#B0BEC5",
                "#B0BEC5",
                "#B0BEC5",
                "#B0BEC5",
                "#B0BEC5",
                "#B0BEC5",
                "#B0BEC5",
                "#B0BEC5",
                "#B0BEC5",
                "#B0BEC5",
                "#B0BEC5",
                "#B0BEC5",
                "#B0BEC5",
                "#B0BEC5",
                "red",
                "#B0BEC5",
                "#B0BEC5",
                "#B0BEC5",
                "#B0BEC5",
                "#B0BEC5",
                "#B0BEC5",
                "#B0BEC5",
                "#B0BEC5",
                "#B0BEC5",
                "#B0BEC5",
                "#B0BEC5",
                "#B0BEC5",
                "#B0BEC5",
                "#B0BEC5",
                "#B0BEC5",
                "#B0BEC5",
                "#B0BEC5",
                "#B0BEC5",
                "#B0BEC5",
                "#B0BEC5",
                "#B0BEC5",
                "#B0BEC5",
                "#B0BEC5",
                "#B0BEC5",
                "#B0BEC5",
                "#B0BEC5",
                "#B0BEC5",
                "#B0BEC5",
                "#B0BEC5",
                "#B0BEC5",
                "#B0BEC5",
                "#B0BEC5",
                "#B0BEC5",
                "#B0BEC5",
                "#B0BEC5",
                "#B0BEC5",
                "#B0BEC5",
                "#B0BEC5",
                "#B0BEC5",
                "#B0BEC5"
               ]
              ]
             }
            ],
            "label": "Topic 15",
            "method": "update"
           },
           {
            "args": [
             {
              "marker.color": [
               [
                "#B0BEC5",
                "#B0BEC5",
                "#B0BEC5",
                "#B0BEC5",
                "#B0BEC5",
                "#B0BEC5",
                "#B0BEC5",
                "#B0BEC5",
                "#B0BEC5",
                "#B0BEC5",
                "#B0BEC5",
                "#B0BEC5",
                "#B0BEC5",
                "#B0BEC5",
                "#B0BEC5",
                "#B0BEC5",
                "red",
                "#B0BEC5",
                "#B0BEC5",
                "#B0BEC5",
                "#B0BEC5",
                "#B0BEC5",
                "#B0BEC5",
                "#B0BEC5",
                "#B0BEC5",
                "#B0BEC5",
                "#B0BEC5",
                "#B0BEC5",
                "#B0BEC5",
                "#B0BEC5",
                "#B0BEC5",
                "#B0BEC5",
                "#B0BEC5",
                "#B0BEC5",
                "#B0BEC5",
                "#B0BEC5",
                "#B0BEC5",
                "#B0BEC5",
                "#B0BEC5",
                "#B0BEC5",
                "#B0BEC5",
                "#B0BEC5",
                "#B0BEC5",
                "#B0BEC5",
                "#B0BEC5",
                "#B0BEC5",
                "#B0BEC5",
                "#B0BEC5",
                "#B0BEC5",
                "#B0BEC5",
                "#B0BEC5",
                "#B0BEC5",
                "#B0BEC5",
                "#B0BEC5",
                "#B0BEC5",
                "#B0BEC5"
               ]
              ]
             }
            ],
            "label": "Topic 16",
            "method": "update"
           },
           {
            "args": [
             {
              "marker.color": [
               [
                "#B0BEC5",
                "#B0BEC5",
                "#B0BEC5",
                "#B0BEC5",
                "#B0BEC5",
                "#B0BEC5",
                "#B0BEC5",
                "#B0BEC5",
                "#B0BEC5",
                "#B0BEC5",
                "#B0BEC5",
                "#B0BEC5",
                "#B0BEC5",
                "#B0BEC5",
                "#B0BEC5",
                "#B0BEC5",
                "#B0BEC5",
                "red",
                "#B0BEC5",
                "#B0BEC5",
                "#B0BEC5",
                "#B0BEC5",
                "#B0BEC5",
                "#B0BEC5",
                "#B0BEC5",
                "#B0BEC5",
                "#B0BEC5",
                "#B0BEC5",
                "#B0BEC5",
                "#B0BEC5",
                "#B0BEC5",
                "#B0BEC5",
                "#B0BEC5",
                "#B0BEC5",
                "#B0BEC5",
                "#B0BEC5",
                "#B0BEC5",
                "#B0BEC5",
                "#B0BEC5",
                "#B0BEC5",
                "#B0BEC5",
                "#B0BEC5",
                "#B0BEC5",
                "#B0BEC5",
                "#B0BEC5",
                "#B0BEC5",
                "#B0BEC5",
                "#B0BEC5",
                "#B0BEC5",
                "#B0BEC5",
                "#B0BEC5",
                "#B0BEC5",
                "#B0BEC5",
                "#B0BEC5",
                "#B0BEC5",
                "#B0BEC5"
               ]
              ]
             }
            ],
            "label": "Topic 17",
            "method": "update"
           },
           {
            "args": [
             {
              "marker.color": [
               [
                "#B0BEC5",
                "#B0BEC5",
                "#B0BEC5",
                "#B0BEC5",
                "#B0BEC5",
                "#B0BEC5",
                "#B0BEC5",
                "#B0BEC5",
                "#B0BEC5",
                "#B0BEC5",
                "#B0BEC5",
                "#B0BEC5",
                "#B0BEC5",
                "#B0BEC5",
                "#B0BEC5",
                "#B0BEC5",
                "#B0BEC5",
                "#B0BEC5",
                "red",
                "#B0BEC5",
                "#B0BEC5",
                "#B0BEC5",
                "#B0BEC5",
                "#B0BEC5",
                "#B0BEC5",
                "#B0BEC5",
                "#B0BEC5",
                "#B0BEC5",
                "#B0BEC5",
                "#B0BEC5",
                "#B0BEC5",
                "#B0BEC5",
                "#B0BEC5",
                "#B0BEC5",
                "#B0BEC5",
                "#B0BEC5",
                "#B0BEC5",
                "#B0BEC5",
                "#B0BEC5",
                "#B0BEC5",
                "#B0BEC5",
                "#B0BEC5",
                "#B0BEC5",
                "#B0BEC5",
                "#B0BEC5",
                "#B0BEC5",
                "#B0BEC5",
                "#B0BEC5",
                "#B0BEC5",
                "#B0BEC5",
                "#B0BEC5",
                "#B0BEC5",
                "#B0BEC5",
                "#B0BEC5",
                "#B0BEC5",
                "#B0BEC5"
               ]
              ]
             }
            ],
            "label": "Topic 18",
            "method": "update"
           },
           {
            "args": [
             {
              "marker.color": [
               [
                "#B0BEC5",
                "#B0BEC5",
                "#B0BEC5",
                "#B0BEC5",
                "#B0BEC5",
                "#B0BEC5",
                "#B0BEC5",
                "#B0BEC5",
                "#B0BEC5",
                "#B0BEC5",
                "#B0BEC5",
                "#B0BEC5",
                "#B0BEC5",
                "#B0BEC5",
                "#B0BEC5",
                "#B0BEC5",
                "#B0BEC5",
                "#B0BEC5",
                "#B0BEC5",
                "red",
                "#B0BEC5",
                "#B0BEC5",
                "#B0BEC5",
                "#B0BEC5",
                "#B0BEC5",
                "#B0BEC5",
                "#B0BEC5",
                "#B0BEC5",
                "#B0BEC5",
                "#B0BEC5",
                "#B0BEC5",
                "#B0BEC5",
                "#B0BEC5",
                "#B0BEC5",
                "#B0BEC5",
                "#B0BEC5",
                "#B0BEC5",
                "#B0BEC5",
                "#B0BEC5",
                "#B0BEC5",
                "#B0BEC5",
                "#B0BEC5",
                "#B0BEC5",
                "#B0BEC5",
                "#B0BEC5",
                "#B0BEC5",
                "#B0BEC5",
                "#B0BEC5",
                "#B0BEC5",
                "#B0BEC5",
                "#B0BEC5",
                "#B0BEC5",
                "#B0BEC5",
                "#B0BEC5",
                "#B0BEC5",
                "#B0BEC5"
               ]
              ]
             }
            ],
            "label": "Topic 19",
            "method": "update"
           },
           {
            "args": [
             {
              "marker.color": [
               [
                "#B0BEC5",
                "#B0BEC5",
                "#B0BEC5",
                "#B0BEC5",
                "#B0BEC5",
                "#B0BEC5",
                "#B0BEC5",
                "#B0BEC5",
                "#B0BEC5",
                "#B0BEC5",
                "#B0BEC5",
                "#B0BEC5",
                "#B0BEC5",
                "#B0BEC5",
                "#B0BEC5",
                "#B0BEC5",
                "#B0BEC5",
                "#B0BEC5",
                "#B0BEC5",
                "#B0BEC5",
                "red",
                "#B0BEC5",
                "#B0BEC5",
                "#B0BEC5",
                "#B0BEC5",
                "#B0BEC5",
                "#B0BEC5",
                "#B0BEC5",
                "#B0BEC5",
                "#B0BEC5",
                "#B0BEC5",
                "#B0BEC5",
                "#B0BEC5",
                "#B0BEC5",
                "#B0BEC5",
                "#B0BEC5",
                "#B0BEC5",
                "#B0BEC5",
                "#B0BEC5",
                "#B0BEC5",
                "#B0BEC5",
                "#B0BEC5",
                "#B0BEC5",
                "#B0BEC5",
                "#B0BEC5",
                "#B0BEC5",
                "#B0BEC5",
                "#B0BEC5",
                "#B0BEC5",
                "#B0BEC5",
                "#B0BEC5",
                "#B0BEC5",
                "#B0BEC5",
                "#B0BEC5",
                "#B0BEC5",
                "#B0BEC5"
               ]
              ]
             }
            ],
            "label": "Topic 20",
            "method": "update"
           },
           {
            "args": [
             {
              "marker.color": [
               [
                "#B0BEC5",
                "#B0BEC5",
                "#B0BEC5",
                "#B0BEC5",
                "#B0BEC5",
                "#B0BEC5",
                "#B0BEC5",
                "#B0BEC5",
                "#B0BEC5",
                "#B0BEC5",
                "#B0BEC5",
                "#B0BEC5",
                "#B0BEC5",
                "#B0BEC5",
                "#B0BEC5",
                "#B0BEC5",
                "#B0BEC5",
                "#B0BEC5",
                "#B0BEC5",
                "#B0BEC5",
                "#B0BEC5",
                "red",
                "#B0BEC5",
                "#B0BEC5",
                "#B0BEC5",
                "#B0BEC5",
                "#B0BEC5",
                "#B0BEC5",
                "#B0BEC5",
                "#B0BEC5",
                "#B0BEC5",
                "#B0BEC5",
                "#B0BEC5",
                "#B0BEC5",
                "#B0BEC5",
                "#B0BEC5",
                "#B0BEC5",
                "#B0BEC5",
                "#B0BEC5",
                "#B0BEC5",
                "#B0BEC5",
                "#B0BEC5",
                "#B0BEC5",
                "#B0BEC5",
                "#B0BEC5",
                "#B0BEC5",
                "#B0BEC5",
                "#B0BEC5",
                "#B0BEC5",
                "#B0BEC5",
                "#B0BEC5",
                "#B0BEC5",
                "#B0BEC5",
                "#B0BEC5",
                "#B0BEC5",
                "#B0BEC5"
               ]
              ]
             }
            ],
            "label": "Topic 21",
            "method": "update"
           },
           {
            "args": [
             {
              "marker.color": [
               [
                "#B0BEC5",
                "#B0BEC5",
                "#B0BEC5",
                "#B0BEC5",
                "#B0BEC5",
                "#B0BEC5",
                "#B0BEC5",
                "#B0BEC5",
                "#B0BEC5",
                "#B0BEC5",
                "#B0BEC5",
                "#B0BEC5",
                "#B0BEC5",
                "#B0BEC5",
                "#B0BEC5",
                "#B0BEC5",
                "#B0BEC5",
                "#B0BEC5",
                "#B0BEC5",
                "#B0BEC5",
                "#B0BEC5",
                "#B0BEC5",
                "red",
                "#B0BEC5",
                "#B0BEC5",
                "#B0BEC5",
                "#B0BEC5",
                "#B0BEC5",
                "#B0BEC5",
                "#B0BEC5",
                "#B0BEC5",
                "#B0BEC5",
                "#B0BEC5",
                "#B0BEC5",
                "#B0BEC5",
                "#B0BEC5",
                "#B0BEC5",
                "#B0BEC5",
                "#B0BEC5",
                "#B0BEC5",
                "#B0BEC5",
                "#B0BEC5",
                "#B0BEC5",
                "#B0BEC5",
                "#B0BEC5",
                "#B0BEC5",
                "#B0BEC5",
                "#B0BEC5",
                "#B0BEC5",
                "#B0BEC5",
                "#B0BEC5",
                "#B0BEC5",
                "#B0BEC5",
                "#B0BEC5",
                "#B0BEC5",
                "#B0BEC5"
               ]
              ]
             }
            ],
            "label": "Topic 22",
            "method": "update"
           },
           {
            "args": [
             {
              "marker.color": [
               [
                "#B0BEC5",
                "#B0BEC5",
                "#B0BEC5",
                "#B0BEC5",
                "#B0BEC5",
                "#B0BEC5",
                "#B0BEC5",
                "#B0BEC5",
                "#B0BEC5",
                "#B0BEC5",
                "#B0BEC5",
                "#B0BEC5",
                "#B0BEC5",
                "#B0BEC5",
                "#B0BEC5",
                "#B0BEC5",
                "#B0BEC5",
                "#B0BEC5",
                "#B0BEC5",
                "#B0BEC5",
                "#B0BEC5",
                "#B0BEC5",
                "#B0BEC5",
                "red",
                "#B0BEC5",
                "#B0BEC5",
                "#B0BEC5",
                "#B0BEC5",
                "#B0BEC5",
                "#B0BEC5",
                "#B0BEC5",
                "#B0BEC5",
                "#B0BEC5",
                "#B0BEC5",
                "#B0BEC5",
                "#B0BEC5",
                "#B0BEC5",
                "#B0BEC5",
                "#B0BEC5",
                "#B0BEC5",
                "#B0BEC5",
                "#B0BEC5",
                "#B0BEC5",
                "#B0BEC5",
                "#B0BEC5",
                "#B0BEC5",
                "#B0BEC5",
                "#B0BEC5",
                "#B0BEC5",
                "#B0BEC5",
                "#B0BEC5",
                "#B0BEC5",
                "#B0BEC5",
                "#B0BEC5",
                "#B0BEC5",
                "#B0BEC5"
               ]
              ]
             }
            ],
            "label": "Topic 23",
            "method": "update"
           },
           {
            "args": [
             {
              "marker.color": [
               [
                "#B0BEC5",
                "#B0BEC5",
                "#B0BEC5",
                "#B0BEC5",
                "#B0BEC5",
                "#B0BEC5",
                "#B0BEC5",
                "#B0BEC5",
                "#B0BEC5",
                "#B0BEC5",
                "#B0BEC5",
                "#B0BEC5",
                "#B0BEC5",
                "#B0BEC5",
                "#B0BEC5",
                "#B0BEC5",
                "#B0BEC5",
                "#B0BEC5",
                "#B0BEC5",
                "#B0BEC5",
                "#B0BEC5",
                "#B0BEC5",
                "#B0BEC5",
                "#B0BEC5",
                "red",
                "#B0BEC5",
                "#B0BEC5",
                "#B0BEC5",
                "#B0BEC5",
                "#B0BEC5",
                "#B0BEC5",
                "#B0BEC5",
                "#B0BEC5",
                "#B0BEC5",
                "#B0BEC5",
                "#B0BEC5",
                "#B0BEC5",
                "#B0BEC5",
                "#B0BEC5",
                "#B0BEC5",
                "#B0BEC5",
                "#B0BEC5",
                "#B0BEC5",
                "#B0BEC5",
                "#B0BEC5",
                "#B0BEC5",
                "#B0BEC5",
                "#B0BEC5",
                "#B0BEC5",
                "#B0BEC5",
                "#B0BEC5",
                "#B0BEC5",
                "#B0BEC5",
                "#B0BEC5",
                "#B0BEC5",
                "#B0BEC5"
               ]
              ]
             }
            ],
            "label": "Topic 24",
            "method": "update"
           },
           {
            "args": [
             {
              "marker.color": [
               [
                "#B0BEC5",
                "#B0BEC5",
                "#B0BEC5",
                "#B0BEC5",
                "#B0BEC5",
                "#B0BEC5",
                "#B0BEC5",
                "#B0BEC5",
                "#B0BEC5",
                "#B0BEC5",
                "#B0BEC5",
                "#B0BEC5",
                "#B0BEC5",
                "#B0BEC5",
                "#B0BEC5",
                "#B0BEC5",
                "#B0BEC5",
                "#B0BEC5",
                "#B0BEC5",
                "#B0BEC5",
                "#B0BEC5",
                "#B0BEC5",
                "#B0BEC5",
                "#B0BEC5",
                "#B0BEC5",
                "red",
                "#B0BEC5",
                "#B0BEC5",
                "#B0BEC5",
                "#B0BEC5",
                "#B0BEC5",
                "#B0BEC5",
                "#B0BEC5",
                "#B0BEC5",
                "#B0BEC5",
                "#B0BEC5",
                "#B0BEC5",
                "#B0BEC5",
                "#B0BEC5",
                "#B0BEC5",
                "#B0BEC5",
                "#B0BEC5",
                "#B0BEC5",
                "#B0BEC5",
                "#B0BEC5",
                "#B0BEC5",
                "#B0BEC5",
                "#B0BEC5",
                "#B0BEC5",
                "#B0BEC5",
                "#B0BEC5",
                "#B0BEC5",
                "#B0BEC5",
                "#B0BEC5",
                "#B0BEC5",
                "#B0BEC5"
               ]
              ]
             }
            ],
            "label": "Topic 25",
            "method": "update"
           },
           {
            "args": [
             {
              "marker.color": [
               [
                "#B0BEC5",
                "#B0BEC5",
                "#B0BEC5",
                "#B0BEC5",
                "#B0BEC5",
                "#B0BEC5",
                "#B0BEC5",
                "#B0BEC5",
                "#B0BEC5",
                "#B0BEC5",
                "#B0BEC5",
                "#B0BEC5",
                "#B0BEC5",
                "#B0BEC5",
                "#B0BEC5",
                "#B0BEC5",
                "#B0BEC5",
                "#B0BEC5",
                "#B0BEC5",
                "#B0BEC5",
                "#B0BEC5",
                "#B0BEC5",
                "#B0BEC5",
                "#B0BEC5",
                "#B0BEC5",
                "#B0BEC5",
                "red",
                "#B0BEC5",
                "#B0BEC5",
                "#B0BEC5",
                "#B0BEC5",
                "#B0BEC5",
                "#B0BEC5",
                "#B0BEC5",
                "#B0BEC5",
                "#B0BEC5",
                "#B0BEC5",
                "#B0BEC5",
                "#B0BEC5",
                "#B0BEC5",
                "#B0BEC5",
                "#B0BEC5",
                "#B0BEC5",
                "#B0BEC5",
                "#B0BEC5",
                "#B0BEC5",
                "#B0BEC5",
                "#B0BEC5",
                "#B0BEC5",
                "#B0BEC5",
                "#B0BEC5",
                "#B0BEC5",
                "#B0BEC5",
                "#B0BEC5",
                "#B0BEC5",
                "#B0BEC5"
               ]
              ]
             }
            ],
            "label": "Topic 26",
            "method": "update"
           },
           {
            "args": [
             {
              "marker.color": [
               [
                "#B0BEC5",
                "#B0BEC5",
                "#B0BEC5",
                "#B0BEC5",
                "#B0BEC5",
                "#B0BEC5",
                "#B0BEC5",
                "#B0BEC5",
                "#B0BEC5",
                "#B0BEC5",
                "#B0BEC5",
                "#B0BEC5",
                "#B0BEC5",
                "#B0BEC5",
                "#B0BEC5",
                "#B0BEC5",
                "#B0BEC5",
                "#B0BEC5",
                "#B0BEC5",
                "#B0BEC5",
                "#B0BEC5",
                "#B0BEC5",
                "#B0BEC5",
                "#B0BEC5",
                "#B0BEC5",
                "#B0BEC5",
                "#B0BEC5",
                "red",
                "#B0BEC5",
                "#B0BEC5",
                "#B0BEC5",
                "#B0BEC5",
                "#B0BEC5",
                "#B0BEC5",
                "#B0BEC5",
                "#B0BEC5",
                "#B0BEC5",
                "#B0BEC5",
                "#B0BEC5",
                "#B0BEC5",
                "#B0BEC5",
                "#B0BEC5",
                "#B0BEC5",
                "#B0BEC5",
                "#B0BEC5",
                "#B0BEC5",
                "#B0BEC5",
                "#B0BEC5",
                "#B0BEC5",
                "#B0BEC5",
                "#B0BEC5",
                "#B0BEC5",
                "#B0BEC5",
                "#B0BEC5",
                "#B0BEC5",
                "#B0BEC5"
               ]
              ]
             }
            ],
            "label": "Topic 27",
            "method": "update"
           },
           {
            "args": [
             {
              "marker.color": [
               [
                "#B0BEC5",
                "#B0BEC5",
                "#B0BEC5",
                "#B0BEC5",
                "#B0BEC5",
                "#B0BEC5",
                "#B0BEC5",
                "#B0BEC5",
                "#B0BEC5",
                "#B0BEC5",
                "#B0BEC5",
                "#B0BEC5",
                "#B0BEC5",
                "#B0BEC5",
                "#B0BEC5",
                "#B0BEC5",
                "#B0BEC5",
                "#B0BEC5",
                "#B0BEC5",
                "#B0BEC5",
                "#B0BEC5",
                "#B0BEC5",
                "#B0BEC5",
                "#B0BEC5",
                "#B0BEC5",
                "#B0BEC5",
                "#B0BEC5",
                "#B0BEC5",
                "red",
                "#B0BEC5",
                "#B0BEC5",
                "#B0BEC5",
                "#B0BEC5",
                "#B0BEC5",
                "#B0BEC5",
                "#B0BEC5",
                "#B0BEC5",
                "#B0BEC5",
                "#B0BEC5",
                "#B0BEC5",
                "#B0BEC5",
                "#B0BEC5",
                "#B0BEC5",
                "#B0BEC5",
                "#B0BEC5",
                "#B0BEC5",
                "#B0BEC5",
                "#B0BEC5",
                "#B0BEC5",
                "#B0BEC5",
                "#B0BEC5",
                "#B0BEC5",
                "#B0BEC5",
                "#B0BEC5",
                "#B0BEC5",
                "#B0BEC5"
               ]
              ]
             }
            ],
            "label": "Topic 28",
            "method": "update"
           },
           {
            "args": [
             {
              "marker.color": [
               [
                "#B0BEC5",
                "#B0BEC5",
                "#B0BEC5",
                "#B0BEC5",
                "#B0BEC5",
                "#B0BEC5",
                "#B0BEC5",
                "#B0BEC5",
                "#B0BEC5",
                "#B0BEC5",
                "#B0BEC5",
                "#B0BEC5",
                "#B0BEC5",
                "#B0BEC5",
                "#B0BEC5",
                "#B0BEC5",
                "#B0BEC5",
                "#B0BEC5",
                "#B0BEC5",
                "#B0BEC5",
                "#B0BEC5",
                "#B0BEC5",
                "#B0BEC5",
                "#B0BEC5",
                "#B0BEC5",
                "#B0BEC5",
                "#B0BEC5",
                "#B0BEC5",
                "#B0BEC5",
                "red",
                "#B0BEC5",
                "#B0BEC5",
                "#B0BEC5",
                "#B0BEC5",
                "#B0BEC5",
                "#B0BEC5",
                "#B0BEC5",
                "#B0BEC5",
                "#B0BEC5",
                "#B0BEC5",
                "#B0BEC5",
                "#B0BEC5",
                "#B0BEC5",
                "#B0BEC5",
                "#B0BEC5",
                "#B0BEC5",
                "#B0BEC5",
                "#B0BEC5",
                "#B0BEC5",
                "#B0BEC5",
                "#B0BEC5",
                "#B0BEC5",
                "#B0BEC5",
                "#B0BEC5",
                "#B0BEC5",
                "#B0BEC5"
               ]
              ]
             }
            ],
            "label": "Topic 29",
            "method": "update"
           },
           {
            "args": [
             {
              "marker.color": [
               [
                "#B0BEC5",
                "#B0BEC5",
                "#B0BEC5",
                "#B0BEC5",
                "#B0BEC5",
                "#B0BEC5",
                "#B0BEC5",
                "#B0BEC5",
                "#B0BEC5",
                "#B0BEC5",
                "#B0BEC5",
                "#B0BEC5",
                "#B0BEC5",
                "#B0BEC5",
                "#B0BEC5",
                "#B0BEC5",
                "#B0BEC5",
                "#B0BEC5",
                "#B0BEC5",
                "#B0BEC5",
                "#B0BEC5",
                "#B0BEC5",
                "#B0BEC5",
                "#B0BEC5",
                "#B0BEC5",
                "#B0BEC5",
                "#B0BEC5",
                "#B0BEC5",
                "#B0BEC5",
                "#B0BEC5",
                "red",
                "#B0BEC5",
                "#B0BEC5",
                "#B0BEC5",
                "#B0BEC5",
                "#B0BEC5",
                "#B0BEC5",
                "#B0BEC5",
                "#B0BEC5",
                "#B0BEC5",
                "#B0BEC5",
                "#B0BEC5",
                "#B0BEC5",
                "#B0BEC5",
                "#B0BEC5",
                "#B0BEC5",
                "#B0BEC5",
                "#B0BEC5",
                "#B0BEC5",
                "#B0BEC5",
                "#B0BEC5",
                "#B0BEC5",
                "#B0BEC5",
                "#B0BEC5",
                "#B0BEC5",
                "#B0BEC5"
               ]
              ]
             }
            ],
            "label": "Topic 30",
            "method": "update"
           },
           {
            "args": [
             {
              "marker.color": [
               [
                "#B0BEC5",
                "#B0BEC5",
                "#B0BEC5",
                "#B0BEC5",
                "#B0BEC5",
                "#B0BEC5",
                "#B0BEC5",
                "#B0BEC5",
                "#B0BEC5",
                "#B0BEC5",
                "#B0BEC5",
                "#B0BEC5",
                "#B0BEC5",
                "#B0BEC5",
                "#B0BEC5",
                "#B0BEC5",
                "#B0BEC5",
                "#B0BEC5",
                "#B0BEC5",
                "#B0BEC5",
                "#B0BEC5",
                "#B0BEC5",
                "#B0BEC5",
                "#B0BEC5",
                "#B0BEC5",
                "#B0BEC5",
                "#B0BEC5",
                "#B0BEC5",
                "#B0BEC5",
                "#B0BEC5",
                "#B0BEC5",
                "red",
                "#B0BEC5",
                "#B0BEC5",
                "#B0BEC5",
                "#B0BEC5",
                "#B0BEC5",
                "#B0BEC5",
                "#B0BEC5",
                "#B0BEC5",
                "#B0BEC5",
                "#B0BEC5",
                "#B0BEC5",
                "#B0BEC5",
                "#B0BEC5",
                "#B0BEC5",
                "#B0BEC5",
                "#B0BEC5",
                "#B0BEC5",
                "#B0BEC5",
                "#B0BEC5",
                "#B0BEC5",
                "#B0BEC5",
                "#B0BEC5",
                "#B0BEC5",
                "#B0BEC5"
               ]
              ]
             }
            ],
            "label": "Topic 31",
            "method": "update"
           },
           {
            "args": [
             {
              "marker.color": [
               [
                "#B0BEC5",
                "#B0BEC5",
                "#B0BEC5",
                "#B0BEC5",
                "#B0BEC5",
                "#B0BEC5",
                "#B0BEC5",
                "#B0BEC5",
                "#B0BEC5",
                "#B0BEC5",
                "#B0BEC5",
                "#B0BEC5",
                "#B0BEC5",
                "#B0BEC5",
                "#B0BEC5",
                "#B0BEC5",
                "#B0BEC5",
                "#B0BEC5",
                "#B0BEC5",
                "#B0BEC5",
                "#B0BEC5",
                "#B0BEC5",
                "#B0BEC5",
                "#B0BEC5",
                "#B0BEC5",
                "#B0BEC5",
                "#B0BEC5",
                "#B0BEC5",
                "#B0BEC5",
                "#B0BEC5",
                "#B0BEC5",
                "#B0BEC5",
                "red",
                "#B0BEC5",
                "#B0BEC5",
                "#B0BEC5",
                "#B0BEC5",
                "#B0BEC5",
                "#B0BEC5",
                "#B0BEC5",
                "#B0BEC5",
                "#B0BEC5",
                "#B0BEC5",
                "#B0BEC5",
                "#B0BEC5",
                "#B0BEC5",
                "#B0BEC5",
                "#B0BEC5",
                "#B0BEC5",
                "#B0BEC5",
                "#B0BEC5",
                "#B0BEC5",
                "#B0BEC5",
                "#B0BEC5",
                "#B0BEC5",
                "#B0BEC5"
               ]
              ]
             }
            ],
            "label": "Topic 32",
            "method": "update"
           },
           {
            "args": [
             {
              "marker.color": [
               [
                "#B0BEC5",
                "#B0BEC5",
                "#B0BEC5",
                "#B0BEC5",
                "#B0BEC5",
                "#B0BEC5",
                "#B0BEC5",
                "#B0BEC5",
                "#B0BEC5",
                "#B0BEC5",
                "#B0BEC5",
                "#B0BEC5",
                "#B0BEC5",
                "#B0BEC5",
                "#B0BEC5",
                "#B0BEC5",
                "#B0BEC5",
                "#B0BEC5",
                "#B0BEC5",
                "#B0BEC5",
                "#B0BEC5",
                "#B0BEC5",
                "#B0BEC5",
                "#B0BEC5",
                "#B0BEC5",
                "#B0BEC5",
                "#B0BEC5",
                "#B0BEC5",
                "#B0BEC5",
                "#B0BEC5",
                "#B0BEC5",
                "#B0BEC5",
                "#B0BEC5",
                "red",
                "#B0BEC5",
                "#B0BEC5",
                "#B0BEC5",
                "#B0BEC5",
                "#B0BEC5",
                "#B0BEC5",
                "#B0BEC5",
                "#B0BEC5",
                "#B0BEC5",
                "#B0BEC5",
                "#B0BEC5",
                "#B0BEC5",
                "#B0BEC5",
                "#B0BEC5",
                "#B0BEC5",
                "#B0BEC5",
                "#B0BEC5",
                "#B0BEC5",
                "#B0BEC5",
                "#B0BEC5",
                "#B0BEC5",
                "#B0BEC5"
               ]
              ]
             }
            ],
            "label": "Topic 33",
            "method": "update"
           },
           {
            "args": [
             {
              "marker.color": [
               [
                "#B0BEC5",
                "#B0BEC5",
                "#B0BEC5",
                "#B0BEC5",
                "#B0BEC5",
                "#B0BEC5",
                "#B0BEC5",
                "#B0BEC5",
                "#B0BEC5",
                "#B0BEC5",
                "#B0BEC5",
                "#B0BEC5",
                "#B0BEC5",
                "#B0BEC5",
                "#B0BEC5",
                "#B0BEC5",
                "#B0BEC5",
                "#B0BEC5",
                "#B0BEC5",
                "#B0BEC5",
                "#B0BEC5",
                "#B0BEC5",
                "#B0BEC5",
                "#B0BEC5",
                "#B0BEC5",
                "#B0BEC5",
                "#B0BEC5",
                "#B0BEC5",
                "#B0BEC5",
                "#B0BEC5",
                "#B0BEC5",
                "#B0BEC5",
                "#B0BEC5",
                "#B0BEC5",
                "red",
                "#B0BEC5",
                "#B0BEC5",
                "#B0BEC5",
                "#B0BEC5",
                "#B0BEC5",
                "#B0BEC5",
                "#B0BEC5",
                "#B0BEC5",
                "#B0BEC5",
                "#B0BEC5",
                "#B0BEC5",
                "#B0BEC5",
                "#B0BEC5",
                "#B0BEC5",
                "#B0BEC5",
                "#B0BEC5",
                "#B0BEC5",
                "#B0BEC5",
                "#B0BEC5",
                "#B0BEC5",
                "#B0BEC5"
               ]
              ]
             }
            ],
            "label": "Topic 34",
            "method": "update"
           },
           {
            "args": [
             {
              "marker.color": [
               [
                "#B0BEC5",
                "#B0BEC5",
                "#B0BEC5",
                "#B0BEC5",
                "#B0BEC5",
                "#B0BEC5",
                "#B0BEC5",
                "#B0BEC5",
                "#B0BEC5",
                "#B0BEC5",
                "#B0BEC5",
                "#B0BEC5",
                "#B0BEC5",
                "#B0BEC5",
                "#B0BEC5",
                "#B0BEC5",
                "#B0BEC5",
                "#B0BEC5",
                "#B0BEC5",
                "#B0BEC5",
                "#B0BEC5",
                "#B0BEC5",
                "#B0BEC5",
                "#B0BEC5",
                "#B0BEC5",
                "#B0BEC5",
                "#B0BEC5",
                "#B0BEC5",
                "#B0BEC5",
                "#B0BEC5",
                "#B0BEC5",
                "#B0BEC5",
                "#B0BEC5",
                "#B0BEC5",
                "#B0BEC5",
                "red",
                "#B0BEC5",
                "#B0BEC5",
                "#B0BEC5",
                "#B0BEC5",
                "#B0BEC5",
                "#B0BEC5",
                "#B0BEC5",
                "#B0BEC5",
                "#B0BEC5",
                "#B0BEC5",
                "#B0BEC5",
                "#B0BEC5",
                "#B0BEC5",
                "#B0BEC5",
                "#B0BEC5",
                "#B0BEC5",
                "#B0BEC5",
                "#B0BEC5",
                "#B0BEC5",
                "#B0BEC5"
               ]
              ]
             }
            ],
            "label": "Topic 35",
            "method": "update"
           },
           {
            "args": [
             {
              "marker.color": [
               [
                "#B0BEC5",
                "#B0BEC5",
                "#B0BEC5",
                "#B0BEC5",
                "#B0BEC5",
                "#B0BEC5",
                "#B0BEC5",
                "#B0BEC5",
                "#B0BEC5",
                "#B0BEC5",
                "#B0BEC5",
                "#B0BEC5",
                "#B0BEC5",
                "#B0BEC5",
                "#B0BEC5",
                "#B0BEC5",
                "#B0BEC5",
                "#B0BEC5",
                "#B0BEC5",
                "#B0BEC5",
                "#B0BEC5",
                "#B0BEC5",
                "#B0BEC5",
                "#B0BEC5",
                "#B0BEC5",
                "#B0BEC5",
                "#B0BEC5",
                "#B0BEC5",
                "#B0BEC5",
                "#B0BEC5",
                "#B0BEC5",
                "#B0BEC5",
                "#B0BEC5",
                "#B0BEC5",
                "#B0BEC5",
                "#B0BEC5",
                "red",
                "#B0BEC5",
                "#B0BEC5",
                "#B0BEC5",
                "#B0BEC5",
                "#B0BEC5",
                "#B0BEC5",
                "#B0BEC5",
                "#B0BEC5",
                "#B0BEC5",
                "#B0BEC5",
                "#B0BEC5",
                "#B0BEC5",
                "#B0BEC5",
                "#B0BEC5",
                "#B0BEC5",
                "#B0BEC5",
                "#B0BEC5",
                "#B0BEC5",
                "#B0BEC5"
               ]
              ]
             }
            ],
            "label": "Topic 36",
            "method": "update"
           },
           {
            "args": [
             {
              "marker.color": [
               [
                "#B0BEC5",
                "#B0BEC5",
                "#B0BEC5",
                "#B0BEC5",
                "#B0BEC5",
                "#B0BEC5",
                "#B0BEC5",
                "#B0BEC5",
                "#B0BEC5",
                "#B0BEC5",
                "#B0BEC5",
                "#B0BEC5",
                "#B0BEC5",
                "#B0BEC5",
                "#B0BEC5",
                "#B0BEC5",
                "#B0BEC5",
                "#B0BEC5",
                "#B0BEC5",
                "#B0BEC5",
                "#B0BEC5",
                "#B0BEC5",
                "#B0BEC5",
                "#B0BEC5",
                "#B0BEC5",
                "#B0BEC5",
                "#B0BEC5",
                "#B0BEC5",
                "#B0BEC5",
                "#B0BEC5",
                "#B0BEC5",
                "#B0BEC5",
                "#B0BEC5",
                "#B0BEC5",
                "#B0BEC5",
                "#B0BEC5",
                "#B0BEC5",
                "red",
                "#B0BEC5",
                "#B0BEC5",
                "#B0BEC5",
                "#B0BEC5",
                "#B0BEC5",
                "#B0BEC5",
                "#B0BEC5",
                "#B0BEC5",
                "#B0BEC5",
                "#B0BEC5",
                "#B0BEC5",
                "#B0BEC5",
                "#B0BEC5",
                "#B0BEC5",
                "#B0BEC5",
                "#B0BEC5",
                "#B0BEC5",
                "#B0BEC5"
               ]
              ]
             }
            ],
            "label": "Topic 37",
            "method": "update"
           },
           {
            "args": [
             {
              "marker.color": [
               [
                "#B0BEC5",
                "#B0BEC5",
                "#B0BEC5",
                "#B0BEC5",
                "#B0BEC5",
                "#B0BEC5",
                "#B0BEC5",
                "#B0BEC5",
                "#B0BEC5",
                "#B0BEC5",
                "#B0BEC5",
                "#B0BEC5",
                "#B0BEC5",
                "#B0BEC5",
                "#B0BEC5",
                "#B0BEC5",
                "#B0BEC5",
                "#B0BEC5",
                "#B0BEC5",
                "#B0BEC5",
                "#B0BEC5",
                "#B0BEC5",
                "#B0BEC5",
                "#B0BEC5",
                "#B0BEC5",
                "#B0BEC5",
                "#B0BEC5",
                "#B0BEC5",
                "#B0BEC5",
                "#B0BEC5",
                "#B0BEC5",
                "#B0BEC5",
                "#B0BEC5",
                "#B0BEC5",
                "#B0BEC5",
                "#B0BEC5",
                "#B0BEC5",
                "#B0BEC5",
                "red",
                "#B0BEC5",
                "#B0BEC5",
                "#B0BEC5",
                "#B0BEC5",
                "#B0BEC5",
                "#B0BEC5",
                "#B0BEC5",
                "#B0BEC5",
                "#B0BEC5",
                "#B0BEC5",
                "#B0BEC5",
                "#B0BEC5",
                "#B0BEC5",
                "#B0BEC5",
                "#B0BEC5",
                "#B0BEC5",
                "#B0BEC5"
               ]
              ]
             }
            ],
            "label": "Topic 38",
            "method": "update"
           },
           {
            "args": [
             {
              "marker.color": [
               [
                "#B0BEC5",
                "#B0BEC5",
                "#B0BEC5",
                "#B0BEC5",
                "#B0BEC5",
                "#B0BEC5",
                "#B0BEC5",
                "#B0BEC5",
                "#B0BEC5",
                "#B0BEC5",
                "#B0BEC5",
                "#B0BEC5",
                "#B0BEC5",
                "#B0BEC5",
                "#B0BEC5",
                "#B0BEC5",
                "#B0BEC5",
                "#B0BEC5",
                "#B0BEC5",
                "#B0BEC5",
                "#B0BEC5",
                "#B0BEC5",
                "#B0BEC5",
                "#B0BEC5",
                "#B0BEC5",
                "#B0BEC5",
                "#B0BEC5",
                "#B0BEC5",
                "#B0BEC5",
                "#B0BEC5",
                "#B0BEC5",
                "#B0BEC5",
                "#B0BEC5",
                "#B0BEC5",
                "#B0BEC5",
                "#B0BEC5",
                "#B0BEC5",
                "#B0BEC5",
                "#B0BEC5",
                "red",
                "#B0BEC5",
                "#B0BEC5",
                "#B0BEC5",
                "#B0BEC5",
                "#B0BEC5",
                "#B0BEC5",
                "#B0BEC5",
                "#B0BEC5",
                "#B0BEC5",
                "#B0BEC5",
                "#B0BEC5",
                "#B0BEC5",
                "#B0BEC5",
                "#B0BEC5",
                "#B0BEC5",
                "#B0BEC5"
               ]
              ]
             }
            ],
            "label": "Topic 39",
            "method": "update"
           },
           {
            "args": [
             {
              "marker.color": [
               [
                "#B0BEC5",
                "#B0BEC5",
                "#B0BEC5",
                "#B0BEC5",
                "#B0BEC5",
                "#B0BEC5",
                "#B0BEC5",
                "#B0BEC5",
                "#B0BEC5",
                "#B0BEC5",
                "#B0BEC5",
                "#B0BEC5",
                "#B0BEC5",
                "#B0BEC5",
                "#B0BEC5",
                "#B0BEC5",
                "#B0BEC5",
                "#B0BEC5",
                "#B0BEC5",
                "#B0BEC5",
                "#B0BEC5",
                "#B0BEC5",
                "#B0BEC5",
                "#B0BEC5",
                "#B0BEC5",
                "#B0BEC5",
                "#B0BEC5",
                "#B0BEC5",
                "#B0BEC5",
                "#B0BEC5",
                "#B0BEC5",
                "#B0BEC5",
                "#B0BEC5",
                "#B0BEC5",
                "#B0BEC5",
                "#B0BEC5",
                "#B0BEC5",
                "#B0BEC5",
                "#B0BEC5",
                "#B0BEC5",
                "red",
                "#B0BEC5",
                "#B0BEC5",
                "#B0BEC5",
                "#B0BEC5",
                "#B0BEC5",
                "#B0BEC5",
                "#B0BEC5",
                "#B0BEC5",
                "#B0BEC5",
                "#B0BEC5",
                "#B0BEC5",
                "#B0BEC5",
                "#B0BEC5",
                "#B0BEC5",
                "#B0BEC5"
               ]
              ]
             }
            ],
            "label": "Topic 40",
            "method": "update"
           },
           {
            "args": [
             {
              "marker.color": [
               [
                "#B0BEC5",
                "#B0BEC5",
                "#B0BEC5",
                "#B0BEC5",
                "#B0BEC5",
                "#B0BEC5",
                "#B0BEC5",
                "#B0BEC5",
                "#B0BEC5",
                "#B0BEC5",
                "#B0BEC5",
                "#B0BEC5",
                "#B0BEC5",
                "#B0BEC5",
                "#B0BEC5",
                "#B0BEC5",
                "#B0BEC5",
                "#B0BEC5",
                "#B0BEC5",
                "#B0BEC5",
                "#B0BEC5",
                "#B0BEC5",
                "#B0BEC5",
                "#B0BEC5",
                "#B0BEC5",
                "#B0BEC5",
                "#B0BEC5",
                "#B0BEC5",
                "#B0BEC5",
                "#B0BEC5",
                "#B0BEC5",
                "#B0BEC5",
                "#B0BEC5",
                "#B0BEC5",
                "#B0BEC5",
                "#B0BEC5",
                "#B0BEC5",
                "#B0BEC5",
                "#B0BEC5",
                "#B0BEC5",
                "#B0BEC5",
                "red",
                "#B0BEC5",
                "#B0BEC5",
                "#B0BEC5",
                "#B0BEC5",
                "#B0BEC5",
                "#B0BEC5",
                "#B0BEC5",
                "#B0BEC5",
                "#B0BEC5",
                "#B0BEC5",
                "#B0BEC5",
                "#B0BEC5",
                "#B0BEC5",
                "#B0BEC5"
               ]
              ]
             }
            ],
            "label": "Topic 41",
            "method": "update"
           },
           {
            "args": [
             {
              "marker.color": [
               [
                "#B0BEC5",
                "#B0BEC5",
                "#B0BEC5",
                "#B0BEC5",
                "#B0BEC5",
                "#B0BEC5",
                "#B0BEC5",
                "#B0BEC5",
                "#B0BEC5",
                "#B0BEC5",
                "#B0BEC5",
                "#B0BEC5",
                "#B0BEC5",
                "#B0BEC5",
                "#B0BEC5",
                "#B0BEC5",
                "#B0BEC5",
                "#B0BEC5",
                "#B0BEC5",
                "#B0BEC5",
                "#B0BEC5",
                "#B0BEC5",
                "#B0BEC5",
                "#B0BEC5",
                "#B0BEC5",
                "#B0BEC5",
                "#B0BEC5",
                "#B0BEC5",
                "#B0BEC5",
                "#B0BEC5",
                "#B0BEC5",
                "#B0BEC5",
                "#B0BEC5",
                "#B0BEC5",
                "#B0BEC5",
                "#B0BEC5",
                "#B0BEC5",
                "#B0BEC5",
                "#B0BEC5",
                "#B0BEC5",
                "#B0BEC5",
                "#B0BEC5",
                "red",
                "#B0BEC5",
                "#B0BEC5",
                "#B0BEC5",
                "#B0BEC5",
                "#B0BEC5",
                "#B0BEC5",
                "#B0BEC5",
                "#B0BEC5",
                "#B0BEC5",
                "#B0BEC5",
                "#B0BEC5",
                "#B0BEC5",
                "#B0BEC5"
               ]
              ]
             }
            ],
            "label": "Topic 42",
            "method": "update"
           },
           {
            "args": [
             {
              "marker.color": [
               [
                "#B0BEC5",
                "#B0BEC5",
                "#B0BEC5",
                "#B0BEC5",
                "#B0BEC5",
                "#B0BEC5",
                "#B0BEC5",
                "#B0BEC5",
                "#B0BEC5",
                "#B0BEC5",
                "#B0BEC5",
                "#B0BEC5",
                "#B0BEC5",
                "#B0BEC5",
                "#B0BEC5",
                "#B0BEC5",
                "#B0BEC5",
                "#B0BEC5",
                "#B0BEC5",
                "#B0BEC5",
                "#B0BEC5",
                "#B0BEC5",
                "#B0BEC5",
                "#B0BEC5",
                "#B0BEC5",
                "#B0BEC5",
                "#B0BEC5",
                "#B0BEC5",
                "#B0BEC5",
                "#B0BEC5",
                "#B0BEC5",
                "#B0BEC5",
                "#B0BEC5",
                "#B0BEC5",
                "#B0BEC5",
                "#B0BEC5",
                "#B0BEC5",
                "#B0BEC5",
                "#B0BEC5",
                "#B0BEC5",
                "#B0BEC5",
                "#B0BEC5",
                "#B0BEC5",
                "red",
                "#B0BEC5",
                "#B0BEC5",
                "#B0BEC5",
                "#B0BEC5",
                "#B0BEC5",
                "#B0BEC5",
                "#B0BEC5",
                "#B0BEC5",
                "#B0BEC5",
                "#B0BEC5",
                "#B0BEC5",
                "#B0BEC5"
               ]
              ]
             }
            ],
            "label": "Topic 43",
            "method": "update"
           },
           {
            "args": [
             {
              "marker.color": [
               [
                "#B0BEC5",
                "#B0BEC5",
                "#B0BEC5",
                "#B0BEC5",
                "#B0BEC5",
                "#B0BEC5",
                "#B0BEC5",
                "#B0BEC5",
                "#B0BEC5",
                "#B0BEC5",
                "#B0BEC5",
                "#B0BEC5",
                "#B0BEC5",
                "#B0BEC5",
                "#B0BEC5",
                "#B0BEC5",
                "#B0BEC5",
                "#B0BEC5",
                "#B0BEC5",
                "#B0BEC5",
                "#B0BEC5",
                "#B0BEC5",
                "#B0BEC5",
                "#B0BEC5",
                "#B0BEC5",
                "#B0BEC5",
                "#B0BEC5",
                "#B0BEC5",
                "#B0BEC5",
                "#B0BEC5",
                "#B0BEC5",
                "#B0BEC5",
                "#B0BEC5",
                "#B0BEC5",
                "#B0BEC5",
                "#B0BEC5",
                "#B0BEC5",
                "#B0BEC5",
                "#B0BEC5",
                "#B0BEC5",
                "#B0BEC5",
                "#B0BEC5",
                "#B0BEC5",
                "#B0BEC5",
                "red",
                "#B0BEC5",
                "#B0BEC5",
                "#B0BEC5",
                "#B0BEC5",
                "#B0BEC5",
                "#B0BEC5",
                "#B0BEC5",
                "#B0BEC5",
                "#B0BEC5",
                "#B0BEC5",
                "#B0BEC5"
               ]
              ]
             }
            ],
            "label": "Topic 44",
            "method": "update"
           },
           {
            "args": [
             {
              "marker.color": [
               [
                "#B0BEC5",
                "#B0BEC5",
                "#B0BEC5",
                "#B0BEC5",
                "#B0BEC5",
                "#B0BEC5",
                "#B0BEC5",
                "#B0BEC5",
                "#B0BEC5",
                "#B0BEC5",
                "#B0BEC5",
                "#B0BEC5",
                "#B0BEC5",
                "#B0BEC5",
                "#B0BEC5",
                "#B0BEC5",
                "#B0BEC5",
                "#B0BEC5",
                "#B0BEC5",
                "#B0BEC5",
                "#B0BEC5",
                "#B0BEC5",
                "#B0BEC5",
                "#B0BEC5",
                "#B0BEC5",
                "#B0BEC5",
                "#B0BEC5",
                "#B0BEC5",
                "#B0BEC5",
                "#B0BEC5",
                "#B0BEC5",
                "#B0BEC5",
                "#B0BEC5",
                "#B0BEC5",
                "#B0BEC5",
                "#B0BEC5",
                "#B0BEC5",
                "#B0BEC5",
                "#B0BEC5",
                "#B0BEC5",
                "#B0BEC5",
                "#B0BEC5",
                "#B0BEC5",
                "#B0BEC5",
                "#B0BEC5",
                "red",
                "#B0BEC5",
                "#B0BEC5",
                "#B0BEC5",
                "#B0BEC5",
                "#B0BEC5",
                "#B0BEC5",
                "#B0BEC5",
                "#B0BEC5",
                "#B0BEC5",
                "#B0BEC5"
               ]
              ]
             }
            ],
            "label": "Topic 45",
            "method": "update"
           },
           {
            "args": [
             {
              "marker.color": [
               [
                "#B0BEC5",
                "#B0BEC5",
                "#B0BEC5",
                "#B0BEC5",
                "#B0BEC5",
                "#B0BEC5",
                "#B0BEC5",
                "#B0BEC5",
                "#B0BEC5",
                "#B0BEC5",
                "#B0BEC5",
                "#B0BEC5",
                "#B0BEC5",
                "#B0BEC5",
                "#B0BEC5",
                "#B0BEC5",
                "#B0BEC5",
                "#B0BEC5",
                "#B0BEC5",
                "#B0BEC5",
                "#B0BEC5",
                "#B0BEC5",
                "#B0BEC5",
                "#B0BEC5",
                "#B0BEC5",
                "#B0BEC5",
                "#B0BEC5",
                "#B0BEC5",
                "#B0BEC5",
                "#B0BEC5",
                "#B0BEC5",
                "#B0BEC5",
                "#B0BEC5",
                "#B0BEC5",
                "#B0BEC5",
                "#B0BEC5",
                "#B0BEC5",
                "#B0BEC5",
                "#B0BEC5",
                "#B0BEC5",
                "#B0BEC5",
                "#B0BEC5",
                "#B0BEC5",
                "#B0BEC5",
                "#B0BEC5",
                "#B0BEC5",
                "red",
                "#B0BEC5",
                "#B0BEC5",
                "#B0BEC5",
                "#B0BEC5",
                "#B0BEC5",
                "#B0BEC5",
                "#B0BEC5",
                "#B0BEC5",
                "#B0BEC5"
               ]
              ]
             }
            ],
            "label": "Topic 46",
            "method": "update"
           },
           {
            "args": [
             {
              "marker.color": [
               [
                "#B0BEC5",
                "#B0BEC5",
                "#B0BEC5",
                "#B0BEC5",
                "#B0BEC5",
                "#B0BEC5",
                "#B0BEC5",
                "#B0BEC5",
                "#B0BEC5",
                "#B0BEC5",
                "#B0BEC5",
                "#B0BEC5",
                "#B0BEC5",
                "#B0BEC5",
                "#B0BEC5",
                "#B0BEC5",
                "#B0BEC5",
                "#B0BEC5",
                "#B0BEC5",
                "#B0BEC5",
                "#B0BEC5",
                "#B0BEC5",
                "#B0BEC5",
                "#B0BEC5",
                "#B0BEC5",
                "#B0BEC5",
                "#B0BEC5",
                "#B0BEC5",
                "#B0BEC5",
                "#B0BEC5",
                "#B0BEC5",
                "#B0BEC5",
                "#B0BEC5",
                "#B0BEC5",
                "#B0BEC5",
                "#B0BEC5",
                "#B0BEC5",
                "#B0BEC5",
                "#B0BEC5",
                "#B0BEC5",
                "#B0BEC5",
                "#B0BEC5",
                "#B0BEC5",
                "#B0BEC5",
                "#B0BEC5",
                "#B0BEC5",
                "#B0BEC5",
                "red",
                "#B0BEC5",
                "#B0BEC5",
                "#B0BEC5",
                "#B0BEC5",
                "#B0BEC5",
                "#B0BEC5",
                "#B0BEC5",
                "#B0BEC5"
               ]
              ]
             }
            ],
            "label": "Topic 47",
            "method": "update"
           },
           {
            "args": [
             {
              "marker.color": [
               [
                "#B0BEC5",
                "#B0BEC5",
                "#B0BEC5",
                "#B0BEC5",
                "#B0BEC5",
                "#B0BEC5",
                "#B0BEC5",
                "#B0BEC5",
                "#B0BEC5",
                "#B0BEC5",
                "#B0BEC5",
                "#B0BEC5",
                "#B0BEC5",
                "#B0BEC5",
                "#B0BEC5",
                "#B0BEC5",
                "#B0BEC5",
                "#B0BEC5",
                "#B0BEC5",
                "#B0BEC5",
                "#B0BEC5",
                "#B0BEC5",
                "#B0BEC5",
                "#B0BEC5",
                "#B0BEC5",
                "#B0BEC5",
                "#B0BEC5",
                "#B0BEC5",
                "#B0BEC5",
                "#B0BEC5",
                "#B0BEC5",
                "#B0BEC5",
                "#B0BEC5",
                "#B0BEC5",
                "#B0BEC5",
                "#B0BEC5",
                "#B0BEC5",
                "#B0BEC5",
                "#B0BEC5",
                "#B0BEC5",
                "#B0BEC5",
                "#B0BEC5",
                "#B0BEC5",
                "#B0BEC5",
                "#B0BEC5",
                "#B0BEC5",
                "#B0BEC5",
                "#B0BEC5",
                "red",
                "#B0BEC5",
                "#B0BEC5",
                "#B0BEC5",
                "#B0BEC5",
                "#B0BEC5",
                "#B0BEC5",
                "#B0BEC5"
               ]
              ]
             }
            ],
            "label": "Topic 48",
            "method": "update"
           },
           {
            "args": [
             {
              "marker.color": [
               [
                "#B0BEC5",
                "#B0BEC5",
                "#B0BEC5",
                "#B0BEC5",
                "#B0BEC5",
                "#B0BEC5",
                "#B0BEC5",
                "#B0BEC5",
                "#B0BEC5",
                "#B0BEC5",
                "#B0BEC5",
                "#B0BEC5",
                "#B0BEC5",
                "#B0BEC5",
                "#B0BEC5",
                "#B0BEC5",
                "#B0BEC5",
                "#B0BEC5",
                "#B0BEC5",
                "#B0BEC5",
                "#B0BEC5",
                "#B0BEC5",
                "#B0BEC5",
                "#B0BEC5",
                "#B0BEC5",
                "#B0BEC5",
                "#B0BEC5",
                "#B0BEC5",
                "#B0BEC5",
                "#B0BEC5",
                "#B0BEC5",
                "#B0BEC5",
                "#B0BEC5",
                "#B0BEC5",
                "#B0BEC5",
                "#B0BEC5",
                "#B0BEC5",
                "#B0BEC5",
                "#B0BEC5",
                "#B0BEC5",
                "#B0BEC5",
                "#B0BEC5",
                "#B0BEC5",
                "#B0BEC5",
                "#B0BEC5",
                "#B0BEC5",
                "#B0BEC5",
                "#B0BEC5",
                "#B0BEC5",
                "red",
                "#B0BEC5",
                "#B0BEC5",
                "#B0BEC5",
                "#B0BEC5",
                "#B0BEC5",
                "#B0BEC5"
               ]
              ]
             }
            ],
            "label": "Topic 49",
            "method": "update"
           },
           {
            "args": [
             {
              "marker.color": [
               [
                "#B0BEC5",
                "#B0BEC5",
                "#B0BEC5",
                "#B0BEC5",
                "#B0BEC5",
                "#B0BEC5",
                "#B0BEC5",
                "#B0BEC5",
                "#B0BEC5",
                "#B0BEC5",
                "#B0BEC5",
                "#B0BEC5",
                "#B0BEC5",
                "#B0BEC5",
                "#B0BEC5",
                "#B0BEC5",
                "#B0BEC5",
                "#B0BEC5",
                "#B0BEC5",
                "#B0BEC5",
                "#B0BEC5",
                "#B0BEC5",
                "#B0BEC5",
                "#B0BEC5",
                "#B0BEC5",
                "#B0BEC5",
                "#B0BEC5",
                "#B0BEC5",
                "#B0BEC5",
                "#B0BEC5",
                "#B0BEC5",
                "#B0BEC5",
                "#B0BEC5",
                "#B0BEC5",
                "#B0BEC5",
                "#B0BEC5",
                "#B0BEC5",
                "#B0BEC5",
                "#B0BEC5",
                "#B0BEC5",
                "#B0BEC5",
                "#B0BEC5",
                "#B0BEC5",
                "#B0BEC5",
                "#B0BEC5",
                "#B0BEC5",
                "#B0BEC5",
                "#B0BEC5",
                "#B0BEC5",
                "#B0BEC5",
                "red",
                "#B0BEC5",
                "#B0BEC5",
                "#B0BEC5",
                "#B0BEC5",
                "#B0BEC5"
               ]
              ]
             }
            ],
            "label": "Topic 50",
            "method": "update"
           },
           {
            "args": [
             {
              "marker.color": [
               [
                "#B0BEC5",
                "#B0BEC5",
                "#B0BEC5",
                "#B0BEC5",
                "#B0BEC5",
                "#B0BEC5",
                "#B0BEC5",
                "#B0BEC5",
                "#B0BEC5",
                "#B0BEC5",
                "#B0BEC5",
                "#B0BEC5",
                "#B0BEC5",
                "#B0BEC5",
                "#B0BEC5",
                "#B0BEC5",
                "#B0BEC5",
                "#B0BEC5",
                "#B0BEC5",
                "#B0BEC5",
                "#B0BEC5",
                "#B0BEC5",
                "#B0BEC5",
                "#B0BEC5",
                "#B0BEC5",
                "#B0BEC5",
                "#B0BEC5",
                "#B0BEC5",
                "#B0BEC5",
                "#B0BEC5",
                "#B0BEC5",
                "#B0BEC5",
                "#B0BEC5",
                "#B0BEC5",
                "#B0BEC5",
                "#B0BEC5",
                "#B0BEC5",
                "#B0BEC5",
                "#B0BEC5",
                "#B0BEC5",
                "#B0BEC5",
                "#B0BEC5",
                "#B0BEC5",
                "#B0BEC5",
                "#B0BEC5",
                "#B0BEC5",
                "#B0BEC5",
                "#B0BEC5",
                "#B0BEC5",
                "#B0BEC5",
                "#B0BEC5",
                "red",
                "#B0BEC5",
                "#B0BEC5",
                "#B0BEC5",
                "#B0BEC5"
               ]
              ]
             }
            ],
            "label": "Topic 51",
            "method": "update"
           },
           {
            "args": [
             {
              "marker.color": [
               [
                "#B0BEC5",
                "#B0BEC5",
                "#B0BEC5",
                "#B0BEC5",
                "#B0BEC5",
                "#B0BEC5",
                "#B0BEC5",
                "#B0BEC5",
                "#B0BEC5",
                "#B0BEC5",
                "#B0BEC5",
                "#B0BEC5",
                "#B0BEC5",
                "#B0BEC5",
                "#B0BEC5",
                "#B0BEC5",
                "#B0BEC5",
                "#B0BEC5",
                "#B0BEC5",
                "#B0BEC5",
                "#B0BEC5",
                "#B0BEC5",
                "#B0BEC5",
                "#B0BEC5",
                "#B0BEC5",
                "#B0BEC5",
                "#B0BEC5",
                "#B0BEC5",
                "#B0BEC5",
                "#B0BEC5",
                "#B0BEC5",
                "#B0BEC5",
                "#B0BEC5",
                "#B0BEC5",
                "#B0BEC5",
                "#B0BEC5",
                "#B0BEC5",
                "#B0BEC5",
                "#B0BEC5",
                "#B0BEC5",
                "#B0BEC5",
                "#B0BEC5",
                "#B0BEC5",
                "#B0BEC5",
                "#B0BEC5",
                "#B0BEC5",
                "#B0BEC5",
                "#B0BEC5",
                "#B0BEC5",
                "#B0BEC5",
                "#B0BEC5",
                "#B0BEC5",
                "red",
                "#B0BEC5",
                "#B0BEC5",
                "#B0BEC5"
               ]
              ]
             }
            ],
            "label": "Topic 52",
            "method": "update"
           },
           {
            "args": [
             {
              "marker.color": [
               [
                "#B0BEC5",
                "#B0BEC5",
                "#B0BEC5",
                "#B0BEC5",
                "#B0BEC5",
                "#B0BEC5",
                "#B0BEC5",
                "#B0BEC5",
                "#B0BEC5",
                "#B0BEC5",
                "#B0BEC5",
                "#B0BEC5",
                "#B0BEC5",
                "#B0BEC5",
                "#B0BEC5",
                "#B0BEC5",
                "#B0BEC5",
                "#B0BEC5",
                "#B0BEC5",
                "#B0BEC5",
                "#B0BEC5",
                "#B0BEC5",
                "#B0BEC5",
                "#B0BEC5",
                "#B0BEC5",
                "#B0BEC5",
                "#B0BEC5",
                "#B0BEC5",
                "#B0BEC5",
                "#B0BEC5",
                "#B0BEC5",
                "#B0BEC5",
                "#B0BEC5",
                "#B0BEC5",
                "#B0BEC5",
                "#B0BEC5",
                "#B0BEC5",
                "#B0BEC5",
                "#B0BEC5",
                "#B0BEC5",
                "#B0BEC5",
                "#B0BEC5",
                "#B0BEC5",
                "#B0BEC5",
                "#B0BEC5",
                "#B0BEC5",
                "#B0BEC5",
                "#B0BEC5",
                "#B0BEC5",
                "#B0BEC5",
                "#B0BEC5",
                "#B0BEC5",
                "#B0BEC5",
                "red",
                "#B0BEC5",
                "#B0BEC5"
               ]
              ]
             }
            ],
            "label": "Topic 53",
            "method": "update"
           },
           {
            "args": [
             {
              "marker.color": [
               [
                "#B0BEC5",
                "#B0BEC5",
                "#B0BEC5",
                "#B0BEC5",
                "#B0BEC5",
                "#B0BEC5",
                "#B0BEC5",
                "#B0BEC5",
                "#B0BEC5",
                "#B0BEC5",
                "#B0BEC5",
                "#B0BEC5",
                "#B0BEC5",
                "#B0BEC5",
                "#B0BEC5",
                "#B0BEC5",
                "#B0BEC5",
                "#B0BEC5",
                "#B0BEC5",
                "#B0BEC5",
                "#B0BEC5",
                "#B0BEC5",
                "#B0BEC5",
                "#B0BEC5",
                "#B0BEC5",
                "#B0BEC5",
                "#B0BEC5",
                "#B0BEC5",
                "#B0BEC5",
                "#B0BEC5",
                "#B0BEC5",
                "#B0BEC5",
                "#B0BEC5",
                "#B0BEC5",
                "#B0BEC5",
                "#B0BEC5",
                "#B0BEC5",
                "#B0BEC5",
                "#B0BEC5",
                "#B0BEC5",
                "#B0BEC5",
                "#B0BEC5",
                "#B0BEC5",
                "#B0BEC5",
                "#B0BEC5",
                "#B0BEC5",
                "#B0BEC5",
                "#B0BEC5",
                "#B0BEC5",
                "#B0BEC5",
                "#B0BEC5",
                "#B0BEC5",
                "#B0BEC5",
                "#B0BEC5",
                "red",
                "#B0BEC5"
               ]
              ]
             }
            ],
            "label": "Topic 54",
            "method": "update"
           },
           {
            "args": [
             {
              "marker.color": [
               [
                "#B0BEC5",
                "#B0BEC5",
                "#B0BEC5",
                "#B0BEC5",
                "#B0BEC5",
                "#B0BEC5",
                "#B0BEC5",
                "#B0BEC5",
                "#B0BEC5",
                "#B0BEC5",
                "#B0BEC5",
                "#B0BEC5",
                "#B0BEC5",
                "#B0BEC5",
                "#B0BEC5",
                "#B0BEC5",
                "#B0BEC5",
                "#B0BEC5",
                "#B0BEC5",
                "#B0BEC5",
                "#B0BEC5",
                "#B0BEC5",
                "#B0BEC5",
                "#B0BEC5",
                "#B0BEC5",
                "#B0BEC5",
                "#B0BEC5",
                "#B0BEC5",
                "#B0BEC5",
                "#B0BEC5",
                "#B0BEC5",
                "#B0BEC5",
                "#B0BEC5",
                "#B0BEC5",
                "#B0BEC5",
                "#B0BEC5",
                "#B0BEC5",
                "#B0BEC5",
                "#B0BEC5",
                "#B0BEC5",
                "#B0BEC5",
                "#B0BEC5",
                "#B0BEC5",
                "#B0BEC5",
                "#B0BEC5",
                "#B0BEC5",
                "#B0BEC5",
                "#B0BEC5",
                "#B0BEC5",
                "#B0BEC5",
                "#B0BEC5",
                "#B0BEC5",
                "#B0BEC5",
                "#B0BEC5",
                "#B0BEC5",
                "red"
               ]
              ]
             }
            ],
            "label": "Topic 55",
            "method": "update"
           }
          ]
         }
        ],
        "template": {
         "data": {
          "bar": [
           {
            "error_x": {
             "color": "rgb(36,36,36)"
            },
            "error_y": {
             "color": "rgb(36,36,36)"
            },
            "marker": {
             "line": {
              "color": "white",
              "width": 0.5
             },
             "pattern": {
              "fillmode": "overlay",
              "size": 10,
              "solidity": 0.2
             }
            },
            "type": "bar"
           }
          ],
          "barpolar": [
           {
            "marker": {
             "line": {
              "color": "white",
              "width": 0.5
             },
             "pattern": {
              "fillmode": "overlay",
              "size": 10,
              "solidity": 0.2
             }
            },
            "type": "barpolar"
           }
          ],
          "carpet": [
           {
            "aaxis": {
             "endlinecolor": "rgb(36,36,36)",
             "gridcolor": "white",
             "linecolor": "white",
             "minorgridcolor": "white",
             "startlinecolor": "rgb(36,36,36)"
            },
            "baxis": {
             "endlinecolor": "rgb(36,36,36)",
             "gridcolor": "white",
             "linecolor": "white",
             "minorgridcolor": "white",
             "startlinecolor": "rgb(36,36,36)"
            },
            "type": "carpet"
           }
          ],
          "choropleth": [
           {
            "colorbar": {
             "outlinewidth": 1,
             "tickcolor": "rgb(36,36,36)",
             "ticks": "outside"
            },
            "type": "choropleth"
           }
          ],
          "contour": [
           {
            "colorbar": {
             "outlinewidth": 1,
             "tickcolor": "rgb(36,36,36)",
             "ticks": "outside"
            },
            "colorscale": [
             [
              0,
              "#440154"
             ],
             [
              0.1111111111111111,
              "#482878"
             ],
             [
              0.2222222222222222,
              "#3e4989"
             ],
             [
              0.3333333333333333,
              "#31688e"
             ],
             [
              0.4444444444444444,
              "#26828e"
             ],
             [
              0.5555555555555556,
              "#1f9e89"
             ],
             [
              0.6666666666666666,
              "#35b779"
             ],
             [
              0.7777777777777778,
              "#6ece58"
             ],
             [
              0.8888888888888888,
              "#b5de2b"
             ],
             [
              1,
              "#fde725"
             ]
            ],
            "type": "contour"
           }
          ],
          "contourcarpet": [
           {
            "colorbar": {
             "outlinewidth": 1,
             "tickcolor": "rgb(36,36,36)",
             "ticks": "outside"
            },
            "type": "contourcarpet"
           }
          ],
          "heatmap": [
           {
            "colorbar": {
             "outlinewidth": 1,
             "tickcolor": "rgb(36,36,36)",
             "ticks": "outside"
            },
            "colorscale": [
             [
              0,
              "#440154"
             ],
             [
              0.1111111111111111,
              "#482878"
             ],
             [
              0.2222222222222222,
              "#3e4989"
             ],
             [
              0.3333333333333333,
              "#31688e"
             ],
             [
              0.4444444444444444,
              "#26828e"
             ],
             [
              0.5555555555555556,
              "#1f9e89"
             ],
             [
              0.6666666666666666,
              "#35b779"
             ],
             [
              0.7777777777777778,
              "#6ece58"
             ],
             [
              0.8888888888888888,
              "#b5de2b"
             ],
             [
              1,
              "#fde725"
             ]
            ],
            "type": "heatmap"
           }
          ],
          "histogram": [
           {
            "marker": {
             "line": {
              "color": "white",
              "width": 0.6
             }
            },
            "type": "histogram"
           }
          ],
          "histogram2d": [
           {
            "colorbar": {
             "outlinewidth": 1,
             "tickcolor": "rgb(36,36,36)",
             "ticks": "outside"
            },
            "colorscale": [
             [
              0,
              "#440154"
             ],
             [
              0.1111111111111111,
              "#482878"
             ],
             [
              0.2222222222222222,
              "#3e4989"
             ],
             [
              0.3333333333333333,
              "#31688e"
             ],
             [
              0.4444444444444444,
              "#26828e"
             ],
             [
              0.5555555555555556,
              "#1f9e89"
             ],
             [
              0.6666666666666666,
              "#35b779"
             ],
             [
              0.7777777777777778,
              "#6ece58"
             ],
             [
              0.8888888888888888,
              "#b5de2b"
             ],
             [
              1,
              "#fde725"
             ]
            ],
            "type": "histogram2d"
           }
          ],
          "histogram2dcontour": [
           {
            "colorbar": {
             "outlinewidth": 1,
             "tickcolor": "rgb(36,36,36)",
             "ticks": "outside"
            },
            "colorscale": [
             [
              0,
              "#440154"
             ],
             [
              0.1111111111111111,
              "#482878"
             ],
             [
              0.2222222222222222,
              "#3e4989"
             ],
             [
              0.3333333333333333,
              "#31688e"
             ],
             [
              0.4444444444444444,
              "#26828e"
             ],
             [
              0.5555555555555556,
              "#1f9e89"
             ],
             [
              0.6666666666666666,
              "#35b779"
             ],
             [
              0.7777777777777778,
              "#6ece58"
             ],
             [
              0.8888888888888888,
              "#b5de2b"
             ],
             [
              1,
              "#fde725"
             ]
            ],
            "type": "histogram2dcontour"
           }
          ],
          "mesh3d": [
           {
            "colorbar": {
             "outlinewidth": 1,
             "tickcolor": "rgb(36,36,36)",
             "ticks": "outside"
            },
            "type": "mesh3d"
           }
          ],
          "parcoords": [
           {
            "line": {
             "colorbar": {
              "outlinewidth": 1,
              "tickcolor": "rgb(36,36,36)",
              "ticks": "outside"
             }
            },
            "type": "parcoords"
           }
          ],
          "pie": [
           {
            "automargin": true,
            "type": "pie"
           }
          ],
          "scatter": [
           {
            "fillpattern": {
             "fillmode": "overlay",
             "size": 10,
             "solidity": 0.2
            },
            "type": "scatter"
           }
          ],
          "scatter3d": [
           {
            "line": {
             "colorbar": {
              "outlinewidth": 1,
              "tickcolor": "rgb(36,36,36)",
              "ticks": "outside"
             }
            },
            "marker": {
             "colorbar": {
              "outlinewidth": 1,
              "tickcolor": "rgb(36,36,36)",
              "ticks": "outside"
             }
            },
            "type": "scatter3d"
           }
          ],
          "scattercarpet": [
           {
            "marker": {
             "colorbar": {
              "outlinewidth": 1,
              "tickcolor": "rgb(36,36,36)",
              "ticks": "outside"
             }
            },
            "type": "scattercarpet"
           }
          ],
          "scattergeo": [
           {
            "marker": {
             "colorbar": {
              "outlinewidth": 1,
              "tickcolor": "rgb(36,36,36)",
              "ticks": "outside"
             }
            },
            "type": "scattergeo"
           }
          ],
          "scattergl": [
           {
            "marker": {
             "colorbar": {
              "outlinewidth": 1,
              "tickcolor": "rgb(36,36,36)",
              "ticks": "outside"
             }
            },
            "type": "scattergl"
           }
          ],
          "scattermap": [
           {
            "marker": {
             "colorbar": {
              "outlinewidth": 1,
              "tickcolor": "rgb(36,36,36)",
              "ticks": "outside"
             }
            },
            "type": "scattermap"
           }
          ],
          "scattermapbox": [
           {
            "marker": {
             "colorbar": {
              "outlinewidth": 1,
              "tickcolor": "rgb(36,36,36)",
              "ticks": "outside"
             }
            },
            "type": "scattermapbox"
           }
          ],
          "scatterpolar": [
           {
            "marker": {
             "colorbar": {
              "outlinewidth": 1,
              "tickcolor": "rgb(36,36,36)",
              "ticks": "outside"
             }
            },
            "type": "scatterpolar"
           }
          ],
          "scatterpolargl": [
           {
            "marker": {
             "colorbar": {
              "outlinewidth": 1,
              "tickcolor": "rgb(36,36,36)",
              "ticks": "outside"
             }
            },
            "type": "scatterpolargl"
           }
          ],
          "scatterternary": [
           {
            "marker": {
             "colorbar": {
              "outlinewidth": 1,
              "tickcolor": "rgb(36,36,36)",
              "ticks": "outside"
             }
            },
            "type": "scatterternary"
           }
          ],
          "surface": [
           {
            "colorbar": {
             "outlinewidth": 1,
             "tickcolor": "rgb(36,36,36)",
             "ticks": "outside"
            },
            "colorscale": [
             [
              0,
              "#440154"
             ],
             [
              0.1111111111111111,
              "#482878"
             ],
             [
              0.2222222222222222,
              "#3e4989"
             ],
             [
              0.3333333333333333,
              "#31688e"
             ],
             [
              0.4444444444444444,
              "#26828e"
             ],
             [
              0.5555555555555556,
              "#1f9e89"
             ],
             [
              0.6666666666666666,
              "#35b779"
             ],
             [
              0.7777777777777778,
              "#6ece58"
             ],
             [
              0.8888888888888888,
              "#b5de2b"
             ],
             [
              1,
              "#fde725"
             ]
            ],
            "type": "surface"
           }
          ],
          "table": [
           {
            "cells": {
             "fill": {
              "color": "rgb(237,237,237)"
             },
             "line": {
              "color": "white"
             }
            },
            "header": {
             "fill": {
              "color": "rgb(217,217,217)"
             },
             "line": {
              "color": "white"
             }
            },
            "type": "table"
           }
          ]
         },
         "layout": {
          "annotationdefaults": {
           "arrowhead": 0,
           "arrowwidth": 1
          },
          "autotypenumbers": "strict",
          "coloraxis": {
           "colorbar": {
            "outlinewidth": 1,
            "tickcolor": "rgb(36,36,36)",
            "ticks": "outside"
           }
          },
          "colorscale": {
           "diverging": [
            [
             0,
             "rgb(103,0,31)"
            ],
            [
             0.1,
             "rgb(178,24,43)"
            ],
            [
             0.2,
             "rgb(214,96,77)"
            ],
            [
             0.3,
             "rgb(244,165,130)"
            ],
            [
             0.4,
             "rgb(253,219,199)"
            ],
            [
             0.5,
             "rgb(247,247,247)"
            ],
            [
             0.6,
             "rgb(209,229,240)"
            ],
            [
             0.7,
             "rgb(146,197,222)"
            ],
            [
             0.8,
             "rgb(67,147,195)"
            ],
            [
             0.9,
             "rgb(33,102,172)"
            ],
            [
             1,
             "rgb(5,48,97)"
            ]
           ],
           "sequential": [
            [
             0,
             "#440154"
            ],
            [
             0.1111111111111111,
             "#482878"
            ],
            [
             0.2222222222222222,
             "#3e4989"
            ],
            [
             0.3333333333333333,
             "#31688e"
            ],
            [
             0.4444444444444444,
             "#26828e"
            ],
            [
             0.5555555555555556,
             "#1f9e89"
            ],
            [
             0.6666666666666666,
             "#35b779"
            ],
            [
             0.7777777777777778,
             "#6ece58"
            ],
            [
             0.8888888888888888,
             "#b5de2b"
            ],
            [
             1,
             "#fde725"
            ]
           ],
           "sequentialminus": [
            [
             0,
             "#440154"
            ],
            [
             0.1111111111111111,
             "#482878"
            ],
            [
             0.2222222222222222,
             "#3e4989"
            ],
            [
             0.3333333333333333,
             "#31688e"
            ],
            [
             0.4444444444444444,
             "#26828e"
            ],
            [
             0.5555555555555556,
             "#1f9e89"
            ],
            [
             0.6666666666666666,
             "#35b779"
            ],
            [
             0.7777777777777778,
             "#6ece58"
            ],
            [
             0.8888888888888888,
             "#b5de2b"
            ],
            [
             1,
             "#fde725"
            ]
           ]
          },
          "colorway": [
           "#1F77B4",
           "#FF7F0E",
           "#2CA02C",
           "#D62728",
           "#9467BD",
           "#8C564B",
           "#E377C2",
           "#7F7F7F",
           "#BCBD22",
           "#17BECF"
          ],
          "font": {
           "color": "rgb(36,36,36)"
          },
          "geo": {
           "bgcolor": "white",
           "lakecolor": "white",
           "landcolor": "white",
           "showlakes": true,
           "showland": true,
           "subunitcolor": "white"
          },
          "hoverlabel": {
           "align": "left"
          },
          "hovermode": "closest",
          "mapbox": {
           "style": "light"
          },
          "paper_bgcolor": "white",
          "plot_bgcolor": "white",
          "polar": {
           "angularaxis": {
            "gridcolor": "rgb(232,232,232)",
            "linecolor": "rgb(36,36,36)",
            "showgrid": false,
            "showline": true,
            "ticks": "outside"
           },
           "bgcolor": "white",
           "radialaxis": {
            "gridcolor": "rgb(232,232,232)",
            "linecolor": "rgb(36,36,36)",
            "showgrid": false,
            "showline": true,
            "ticks": "outside"
           }
          },
          "scene": {
           "xaxis": {
            "backgroundcolor": "white",
            "gridcolor": "rgb(232,232,232)",
            "gridwidth": 2,
            "linecolor": "rgb(36,36,36)",
            "showbackground": true,
            "showgrid": false,
            "showline": true,
            "ticks": "outside",
            "zeroline": false,
            "zerolinecolor": "rgb(36,36,36)"
           },
           "yaxis": {
            "backgroundcolor": "white",
            "gridcolor": "rgb(232,232,232)",
            "gridwidth": 2,
            "linecolor": "rgb(36,36,36)",
            "showbackground": true,
            "showgrid": false,
            "showline": true,
            "ticks": "outside",
            "zeroline": false,
            "zerolinecolor": "rgb(36,36,36)"
           },
           "zaxis": {
            "backgroundcolor": "white",
            "gridcolor": "rgb(232,232,232)",
            "gridwidth": 2,
            "linecolor": "rgb(36,36,36)",
            "showbackground": true,
            "showgrid": false,
            "showline": true,
            "ticks": "outside",
            "zeroline": false,
            "zerolinecolor": "rgb(36,36,36)"
           }
          },
          "shapedefaults": {
           "fillcolor": "black",
           "line": {
            "width": 0
           },
           "opacity": 0.3
          },
          "ternary": {
           "aaxis": {
            "gridcolor": "rgb(232,232,232)",
            "linecolor": "rgb(36,36,36)",
            "showgrid": false,
            "showline": true,
            "ticks": "outside"
           },
           "baxis": {
            "gridcolor": "rgb(232,232,232)",
            "linecolor": "rgb(36,36,36)",
            "showgrid": false,
            "showline": true,
            "ticks": "outside"
           },
           "bgcolor": "white",
           "caxis": {
            "gridcolor": "rgb(232,232,232)",
            "linecolor": "rgb(36,36,36)",
            "showgrid": false,
            "showline": true,
            "ticks": "outside"
           }
          },
          "title": {
           "x": 0.05
          },
          "xaxis": {
           "automargin": true,
           "gridcolor": "rgb(232,232,232)",
           "linecolor": "rgb(36,36,36)",
           "showgrid": false,
           "showline": true,
           "ticks": "outside",
           "title": {
            "standoff": 15
           },
           "zeroline": false,
           "zerolinecolor": "rgb(36,36,36)"
          },
          "yaxis": {
           "automargin": true,
           "gridcolor": "rgb(232,232,232)",
           "linecolor": "rgb(36,36,36)",
           "showgrid": false,
           "showline": true,
           "ticks": "outside",
           "title": {
            "standoff": 15
           },
           "zeroline": false,
           "zerolinecolor": "rgb(36,36,36)"
          }
         }
        },
        "title": {
         "font": {
          "color": "Black",
          "size": 22
         },
         "text": "<b>Intertopic Distance Map</b>",
         "x": 0.5,
         "xanchor": "center",
         "y": 0.95,
         "yanchor": "top"
        },
        "width": 650,
        "xaxis": {
         "anchor": "y",
         "domain": [
          0,
          1
         ],
         "range": [
          -7.805914425849915,
          25.62397050857544
         ],
         "title": {
          "text": ""
         },
         "visible": false
        },
        "yaxis": {
         "anchor": "x",
         "domain": [
          0,
          1
         ],
         "range": [
          -10.07883791923523,
          25.698383331298828
         ],
         "title": {
          "text": ""
         },
         "visible": false
        }
       }
      }
     },
     "metadata": {},
     "output_type": "display_data"
    }
   ],
   "source": [
    "topic_model.visualize_topics()"
   ]
  },
  {
   "cell_type": "markdown",
   "id": "0791908c",
   "metadata": {},
   "source": [
    "## MATCH AR and EN"
   ]
  },
  {
   "cell_type": "code",
   "execution_count": null,
   "id": "3f44fd9e",
   "metadata": {},
   "outputs": [
    {
     "name": "stderr",
     "output_type": "stream",
     "text": [
      "Batches: 100%|██████████| 25/25 [00:34<00:00,  1.38s/it]\n"
     ]
    },
    {
     "ename": "TypeError",
     "evalue": "BERTopic.fit_transform() got an unexpected keyword argument 'partial_fit'",
     "output_type": "error",
     "traceback": [
      "\u001b[1;31m---------------------------------------------------------------------------\u001b[0m",
      "\u001b[1;31mTypeError\u001b[0m                                 Traceback (most recent call last)",
      "Cell \u001b[1;32mIn[51], line 65\u001b[0m\n\u001b[0;32m     53\u001b[0m km \u001b[38;5;241m=\u001b[39m KMeans(n_clusters\u001b[38;5;241m=\u001b[39mK, n_init\u001b[38;5;241m=\u001b[39m\u001b[38;5;241m20\u001b[39m, random_state\u001b[38;5;241m=\u001b[39m\u001b[38;5;241m42\u001b[39m)\n\u001b[0;32m     55\u001b[0m topic_model \u001b[38;5;241m=\u001b[39m BERTopic(\n\u001b[0;32m     56\u001b[0m     embedding_model\u001b[38;5;241m=\u001b[39m\u001b[38;5;28;01mNone\u001b[39;00m,          \u001b[38;5;66;03m# we pass embeddings directly\u001b[39;00m\n\u001b[0;32m     57\u001b[0m     umap_model\u001b[38;5;241m=\u001b[39m\u001b[38;5;28;01mNone\u001b[39;00m,               \u001b[38;5;66;03m# <— disable UMAP (avoids over-fragmentation)\u001b[39;00m\n\u001b[1;32m   (...)\u001b[0m\n\u001b[0;32m     62\u001b[0m     verbose\u001b[38;5;241m=\u001b[39m\u001b[38;5;28;01mTrue\u001b[39;00m\n\u001b[0;32m     63\u001b[0m )\n\u001b[1;32m---> 65\u001b[0m topics, _ \u001b[38;5;241m=\u001b[39m \u001b[43mtopic_model\u001b[49m\u001b[38;5;241;43m.\u001b[39;49m\u001b[43mfit_transform\u001b[49m\u001b[43m(\u001b[49m\u001b[43mtexts\u001b[49m\u001b[43m,\u001b[49m\u001b[43m \u001b[49m\u001b[43membeddings\u001b[49m\u001b[38;5;241;43m=\u001b[39;49m\u001b[43memb\u001b[49m\u001b[43m,\u001b[49m\u001b[43m \u001b[49m\u001b[43my\u001b[49m\u001b[38;5;241;43m=\u001b[39;49m\u001b[38;5;28;43;01mNone\u001b[39;49;00m\u001b[43m,\u001b[49m\u001b[43m \u001b[49m\u001b[43mpartial_fit\u001b[49m\u001b[38;5;241;43m=\u001b[39;49m\u001b[38;5;28;43;01mFalse\u001b[39;49;00m\u001b[43m,\u001b[49m\u001b[43m \u001b[49m\u001b[43mcluster_model\u001b[49m\u001b[38;5;241;43m=\u001b[39;49m\u001b[43mkm\u001b[49m\u001b[43m)\u001b[49m\n\u001b[0;32m     67\u001b[0m \u001b[38;5;66;03m# ---- 4) Merge near-duplicate topics (supplier variants, AR/EN splits) ----\u001b[39;00m\n\u001b[0;32m     68\u001b[0m \u001b[38;5;66;03m# Compute topic centroids in the SAME embedding space\u001b[39;00m\n\u001b[0;32m     69\u001b[0m labels \u001b[38;5;241m=\u001b[39m np\u001b[38;5;241m.\u001b[39marray(topics)\n",
      "\u001b[1;31mTypeError\u001b[0m: BERTopic.fit_transform() got an unexpected keyword argument 'partial_fit'"
     ]
    }
   ],
   "source": [
    "# from bertopic import BERTopic\n",
    "# from bertopic.representation import KeyBERTInspired\n",
    "# from sentence_transformers import SentenceTransformer\n",
    "# from sklearn.cluster import KMeans, AgglomerativeClustering\n",
    "# from sklearn.metrics.pairwise import cosine_similarity\n",
    "# from sklearn.preprocessing import normalize\n",
    "# import numpy as np\n",
    "# import gensim\n",
    "~Z\n",
    "\n",
    "# # ---- 1) Embedding backends (CPU) ----\n",
    "\n",
    "# # A) Cross-lingual sentence model (solid AR/EN alignment; CPU ok)\n",
    "# sbert = SentenceTransformer(\"sentence-transformers/LaBSE\")  \n",
    "# # or: \"sentence-transformers/paraphrase-multilingual-MiniLM-L12-v2\" (faster, smaller)\n",
    "\n",
    "# # B) Aligned fastText word vectors (Arabic + English), CPU-light\n",
    "# def fasttext_embed(text):\n",
    "#     # average of available token vectors; subword handled in these aligned vecs\n",
    "#     toks = text.split()\n",
    "#     vecs = []\n",
    "#     for t in toks:\n",
    "#         if t in ft_ar: vecs.append(ft_ar[t])\n",
    "#         elif t in ft_en: vecs.append(ft_en[t])\n",
    "#     if not vecs:\n",
    "#         return np.zeros((300,), dtype=np.float32)\n",
    "#     v = np.mean(vecs, axis=0)\n",
    "#     # L2 normalize for stability\n",
    "#     return v / (np.linalg.norm(v) + 1e-12)\n",
    "\n",
    "# def hybrid_encode(docs, batch_size=128):\n",
    "#     # SBERT part\n",
    "#     sbert_vecs = sbert.encode(docs, batch_size=batch_size, show_progress_bar=True, normalize_embeddings=True)\n",
    "#     # fastText part\n",
    "#     ft_vecs = np.vstack([fasttext_embed(d) for d in docs])\n",
    "#     ft_vecs = normalize(ft_vecs)\n",
    "#     # concat -> (768 + 300) dims (LaBSE) or (384 + 300) for MiniLM\n",
    "#     return np.hstack([sbert_vecs, ft_vecs])\n",
    "\n",
    "\n",
    "# # ---- 2) Fit embeddings ----\n",
    "\n",
    "# texts = df[\"Combined\"].astype(str).tolist() \n",
    "# emb = hybrid_encode(texts)\n",
    "\n",
    "\n",
    "# # ---- 3) K-Means (no UMAP, no -1s) ----\n",
    "\n",
    "# def estimate_k(n):  # sane default for sparse short docs\n",
    "#     return max(12, int(round(np.sqrt(n))))\n",
    "\n",
    "# K = estimate_k(len(texts))\n",
    "# km = KMeans(n_clusters=K, n_init=20, random_state=42)\n",
    "\n",
    "topic_model = BERTopic(\n",
    "    embedding_model=None,          # we pass embeddings directly\n",
    "    umap_model=None,               # <— disable UMAP (avoids over-fragmentation)\n",
    "    hdbscan_model=km,\n",
    "    vectorizer_model=None,         # not needed for KeyBERT labels, but you can set one\n",
    "    representation_model=KeyBERTInspired(),\n",
    "    calculate_probabilities=False,\n",
    "    verbose=True\n",
    ")\n",
    "\n",
    "topics, _ = topic_model.fit_transform(texts, embeddings=emb, y=None, partial_fit=False)\n",
    "\n",
    "# ---- 4) Merge near-duplicate topics (supplier variants, AR/EN splits) ----\n",
    "# Compute topic centroids in the SAME embedding space\n",
    "labels = np.array(topics)\n",
    "valid = labels >= 0\n",
    "centroids = {}\n",
    "for t in np.unique(labels[valid]):\n",
    "    centroids[t] = emb[labels == t].mean(axis=0)\n",
    "T = sorted(centroids.keys())\n",
    "C = normalize(np.vstack([centroids[t] for t in T]))\n",
    "\n",
    "# Agglomerative merge on centroids with cosine distance\n",
    "# Increase threshold to merge more; start around 0.15–0.25 (distance) -> sim >= 0.75–0.85\n",
    "dist = 1 - cosine_similarity(C)\n",
    "agg = AgglomerativeClustering(\n",
    "    n_clusters=None, affinity='precomputed', linkage='average', distance_threshold=0.22\n",
    ")\n",
    "merged_ids = agg.fit_predict(dist)\n",
    "\n",
    "# Map old topics -> merged super-topics\n",
    "map_old_to_new = {old: int(new) for old, new in zip(T, merged_ids)}\n",
    "super_topics = []\n",
    "for t in topics:\n",
    "    if t == -1:\n",
    "        super_topics.append(-1)\n",
    "    else:\n",
    "        super_topics.append(map_old_to_new[t])\n",
    "super_topics = np.array(super_topics)\n",
    "\n",
    "# Replace model's internal topics with merged ones\n",
    "topic_model.topics_ = super_topics.tolist()\n",
    "topic_model.generate_topic_labels(nr_words=4, topic_prefix=False)\n",
    "\n",
    "\n",
    "# ---- 5) Inspect\n",
    "\n",
    "info = topic_model.get_topic_info()\n",
    "print(info.head(15))\n"
   ]
  },
  {
   "cell_type": "code",
   "execution_count": null,
   "id": "1baf621d",
   "metadata": {},
   "outputs": [],
   "source": [
    "info.to_excel(\"temp.xlsx\")"
   ]
  },
  {
   "cell_type": "markdown",
   "id": "ca29fd4f",
   "metadata": {},
   "source": [
    "## Manual renaming of topics"
   ]
  },
  {
   "cell_type": "code",
   "execution_count": null,
   "id": "bea5b775",
   "metadata": {},
   "outputs": [],
   "source": []
  },
  {
   "cell_type": "markdown",
   "id": "7428de68",
   "metadata": {},
   "source": [
    "# Analysis ready dataset"
   ]
  },
  {
   "cell_type": "code",
   "execution_count": null,
   "id": "16d314ad",
   "metadata": {},
   "outputs": [],
   "source": []
  },
  {
   "cell_type": "markdown",
   "id": "9893fb3a",
   "metadata": {},
   "source": [
    "# Appendix"
   ]
  },
  {
   "cell_type": "markdown",
   "id": "1f535801",
   "metadata": {},
   "source": [
    "## Tests"
   ]
  },
  {
   "cell_type": "markdown",
   "id": "56e53c7c",
   "metadata": {},
   "source": [
    "### Trying out normlization techniques"
   ]
  },
  {
   "cell_type": "code",
   "execution_count": null,
   "id": "51677563",
   "metadata": {},
   "outputs": [
    {
     "data": {
      "text/plain": [
       "'ﻣ ﺎ ﺳ و ﺭ ﺓ ﺍ ﺳ و د 6 ﺑ و ﺻ ﺔ * 7 ﻣ ﻠ ﻡ * 12 ﻣ ﺗ ﺭ'"
      ]
     },
     "execution_count": 50,
     "metadata": {},
     "output_type": "execute_result"
    }
   ],
   "source": [
    "text = \"ﻣ ﺎ ﺳ و ﺭ ﺓ ﺍ ﺳ و د 6 ﺑ و ﺻ ﺔ * 7 ﻣ ﻠ ﻡ * 12 ﻣ ﺗ ﺭ\"\n",
    "text"
   ]
  },
  {
   "cell_type": "code",
   "execution_count": null,
   "id": "82779055",
   "metadata": {},
   "outputs": [
    {
     "data": {
      "text/plain": [
       "'م ا س و ر ة ا س و د 6 ب و ص ة * 7 م ل م * 12 م ت ر'"
      ]
     },
     "execution_count": 51,
     "metadata": {},
     "output_type": "execute_result"
    }
   ],
   "source": [
    "# This does a good job in standardizing the characters\n",
    "import unicodedata\n",
    "result = unicodedata.normalize(\"NFKC\", text)\n",
    "result"
   ]
  },
  {
   "cell_type": "code",
   "execution_count": null,
   "id": "1b0380e5",
   "metadata": {},
   "outputs": [
    {
     "data": {
      "text/plain": [
       "'ﻣ ﺎ ﺳ و ﺭ ﺓ ﺍ ﺳ و د 6 ﺑ و ﺻ ﺔ * 7 ﻣ ﻠ ﻡ * 12 ﻣ ﺗ ﺭ'"
      ]
     },
     "execution_count": 52,
     "metadata": {},
     "output_type": "execute_result"
    }
   ],
   "source": [
    "import re\n",
    "result = re.sub(r'[\\u200B-\\u200F\\u202A-\\u202E\\u2066-\\u2069]', '', text)\n",
    "result"
   ]
  },
  {
   "cell_type": "code",
   "execution_count": null,
   "id": "2e8a1222",
   "metadata": {},
   "outputs": [
    {
     "data": {
      "text/plain": [
       "'ﻣ ﺎ ﺳ و ﺭ ﺓ ﺍ ﺳ و د 6 ﺑ و ﺻ ﺔ * 7 ﻣ ﻠ ﻡ * 12 ﻣ ﺗ ﺭ'"
      ]
     },
     "execution_count": 53,
     "metadata": {},
     "output_type": "execute_result"
    }
   ],
   "source": [
    "result = re.sub(r'\\s+', ' ', text).strip()\n",
    "result"
   ]
  },
  {
   "cell_type": "markdown",
   "id": "e1472dbe",
   "metadata": {},
   "source": [
    "None of the techniques above effictively resolves the issue of spaces and word recognition in text...\n",
    "\n",
    "We'll try out Camel-tools, I've had a little experience with it before, but never worked with data this messy"
   ]
  },
  {
   "cell_type": "code",
   "execution_count": null,
   "id": "a7ea6297",
   "metadata": {},
   "outputs": [],
   "source": [
    "import camel_tools.utils.normalize as norm"
   ]
  },
  {
   "cell_type": "code",
   "execution_count": null,
   "id": "88cdce14",
   "metadata": {},
   "outputs": [
    {
     "data": {
      "text/plain": [
       "'م ا س و ر ة ا س و د 6 ب و ص ة * 7 م ل م * 12 م ت ر'"
      ]
     },
     "execution_count": 55,
     "metadata": {},
     "output_type": "execute_result"
    }
   ],
   "source": [
    "norm.normalize_unicode(text)"
   ]
  },
  {
   "cell_type": "code",
   "execution_count": null,
   "id": "12cfc1c3",
   "metadata": {},
   "outputs": [
    {
     "data": {
      "text/plain": [
       "'م ا س و ر ة ا س و د 6 ب و ص ة * 7 م ل م * 12 م ت ر'"
      ]
     },
     "execution_count": 56,
     "metadata": {},
     "output_type": "execute_result"
    }
   ],
   "source": [
    "from camel_tools.utils.dediac import dediac_ar\n",
    "dediac_ar(norm.normalize_unicode(text))"
   ]
  },
  {
   "cell_type": "code",
   "execution_count": null,
   "id": "353956e9",
   "metadata": {},
   "outputs": [
    {
     "name": "stdout",
     "output_type": "stream",
     "text": [
      "س ل\n"
     ]
    }
   ],
   "source": [
    "# Oh they're well indexed\n",
    "chars = \"سلام\"\n",
    "print(chars[0], chars[1])"
   ]
  },
  {
   "cell_type": "code",
   "execution_count": null,
   "id": "789af1ed",
   "metadata": {},
   "outputs": [
    {
     "name": "stdout",
     "output_type": "stream",
     "text": [
      "م\n",
      "ا\n",
      "ل\n",
      "س\n"
     ]
    }
   ],
   "source": [
    "# What about this\n",
    "for i in range(len(chars)- 1, -1, -1): \n",
    "    print(chars[i])"
   ]
  },
  {
   "cell_type": "code",
   "execution_count": null,
   "id": "a1208d8a",
   "metadata": {},
   "outputs": [
    {
     "data": {
      "text/plain": [
       "['برنزالفاء',\n",
       " 'ال+',\n",
       " 'كهربائي',\n",
       " 'ال+',\n",
       " 'مواصفات',\n",
       " 'و+',\n",
       " 'ال+',\n",
       " 'مخططات',\n",
       " 'ال+',\n",
       " 'مخططات',\n",
       " 'أكسسوارات',\n",
       " 'الخرسانيه',\n",
       " 'والقسامات',\n",
       " 'حديدتسليح',\n",
       " 'استتواريو',\n",
       " 'ألمنيوم',\n",
       " 'برغي',\n",
       " 'كهربائي',\n",
       " 'أسود',\n",
       " 'ال+',\n",
       " 'وطن',\n",
       " 'كهرباء']"
      ]
     },
     "execution_count": 59,
     "metadata": {},
     "output_type": "execute_result"
    }
   ],
   "source": [
    "mle = MLEDisambiguator.pretrained('calima-msa-r13')\n",
    "sample_words = {'برنزالفاء': 1,\n",
    " 'الكهربائي': 1,\n",
    " 'المواصفات': 2,\n",
    " 'والمخططات': 1,\n",
    " 'المخططات': 1,\n",
    " 'اكسسوارات': 8,\n",
    " 'الخرسانيه': 17,\n",
    " 'والقسامات': 1,\n",
    " 'حديدتسليح': 4,\n",
    " 'استتواريو': 1,\n",
    " 'المنيوم': 1,\n",
    " 'برغي': 1,\n",
    " 'كهربائي': 1,\n",
    " 'اسود': 1,\n",
    " 'الوطن': 1,\n",
    " 'كهرباء': 1}\n",
    "samples = \" \".join(sample_words.keys())\n",
    "\n",
    "words = simple_word_tokenize(samples)\n",
    "\n",
    "# 4) morphological tokenization (e.g., ATB; set split=True to get separate tokens)\n",
    "mtok = MorphologicalTokenizer(disambiguator=mle, scheme='d3tok', split=True)\n",
    "segmented = mtok.tokenize(words)\n",
    "segmented"
   ]
  },
  {
   "cell_type": "code",
   "execution_count": null,
   "id": "14655a11",
   "metadata": {},
   "outputs": [
    {
     "name": "stdout",
     "output_type": "stream",
     "text": [
      "['سابك']\n",
      "[['س+', 'أبك']]\n",
      "['ابك']\n"
     ]
    },
    {
     "data": {
      "text/plain": [
       "'ابك'"
      ]
     },
     "execution_count": 60,
     "metadata": {},
     "output_type": "execute_result"
    }
   ],
   "source": [
    "def preprocess_text_test(text, no_disjointed=True):\n",
    "    # 1) Normalize unicode text\n",
    "    text = normalize_text(text)\n",
    "\n",
    "    # 2) Keep only Arabic + English + replace others with spaces\n",
    "    text = ''.join(keep_arabic_english_only(c) for c in text)\n",
    "\n",
    "    # 3) Split on whitespace (since we've cleaned everything else to spaces)\n",
    "    tokens = text.split()\n",
    "\n",
    "    # 4.1) Remove dimensions/units for lexicon\n",
    "    if no_disjointed:\n",
    "        tokens = [t for t in tokens if t.lower() not in UNIT_TOKENS_EN and t not in UNIT_TOKENS_AR]\n",
    "\n",
    "    # 4.2) Lemmatize and remove clitics for lexicon\n",
    "    if no_disjointed:\n",
    "        print(tokens)\n",
    "        lemm = [tokenizer.tokenize([t]) for t in tokens]\n",
    "        print(lemm)\n",
    "        tokens = [''.join(normalize_text(p) for p in tokenizer.tokenize([t]) if '+' not in p) \n",
    "          for t in tokens]\n",
    "        print(tokens)\n",
    "\n",
    "    # 4.3) Drop single-letter tokens, repeated chars, and deduplicate within the row for lexicon\n",
    "    if no_disjointed:\n",
    "        tokens = [t for t in tokens if len(t) > 1 and len(set(t)) > 1]\n",
    "        seen = set()\n",
    "        tokens = [t for t in tokens if not (t in seen or seen.add(t))]\n",
    "        return ' '.join(tokens)\n",
    "    # 5) Or retain only the disjointed letters to glue back later\n",
    "    else:\n",
    "        tokens = [t for t in tokens if len(t) == 1 and len(set(t)) == 1]\n",
    "        return ''.join(tokens)\n",
    "    \n",
    "text = \"سابك \"#\"المواصفات balorina الكهربائي والكهربائي وكهربائي كهرباء المخططات\"\n",
    "preprocess_text_test(text)"
   ]
  },
  {
   "cell_type": "markdown",
   "id": "e6f9bd08",
   "metadata": {},
   "source": [
    "### Optimizing functions and testing ChatGPT suggestions"
   ]
  },
  {
   "cell_type": "code",
   "execution_count": null,
   "id": "3291fb42",
   "metadata": {},
   "outputs": [
    {
     "name": "stdout",
     "output_type": "stream",
     "text": [
      "تیوبفارغمربع 80 × 80 × 5 مل 6 متر\n"
     ]
    }
   ],
   "source": [
    "import re\n",
    "from camel_tools.utils.normalize import normalize_unicode, normalize_alef_maksura_ar\n",
    "\n",
    "# Unicode ranges that cover Arabic letters (not presentation forms)\n",
    "_AR = r'\\u0600-\\u06FF\\u0750-\\u077F\\u08A0-\\u08FF'\n",
    "\n",
    "def normalize_mixed_arabic(s: str) -> str:\n",
    "    # 1) Canonical/compatibility normalization\n",
    "    s = normalize_unicode(s, compatibility=True)\n",
    "    # 2) Normalize alef maqsura, optional but useful\n",
    "    s = normalize_alef_maksura_ar(s)\n",
    "\n",
    "    # 3) Strip zero-width/bidi formatting chars\n",
    "    s = re.sub(r'[\\u200B-\\u200F\\u202A-\\u202E\\u2066-\\u2069]', '', s)\n",
    "\n",
    "    # 4) Normalize common operators and pad them\n",
    "    #    Treat *, ×, x as multiplication; surround with single spaces\n",
    "    s = re.sub(r'\\s*([*xX×])\\s*', r' × ', s)\n",
    "\n",
    "    # 5) **Key step**: remove spaces *only* between Arabic letters\n",
    "    #    This stitches scattered letters back into words\n",
    "    s = re.sub(fr'(?<=[{_AR}])\\s+(?=[{_AR}])', '', s)\n",
    "\n",
    "    # 6) Collapse remaining excessive whitespace\n",
    "    s = re.sub(r'\\s+', ' ', s).strip()\n",
    "\n",
    "    return s\n",
    "\n",
    "# Demo on your string\n",
    "sample = \"ﺗ ﯾ و ﺏ ﻓ ﺎ ﺭ ﻍ ﻣ ﺭ ﺑ ﻊ 80 * 80 * 5 ﻣ ﻝ 6 ﻣ ﺗ ﺭ\"\n",
    "print(normalize_mixed_arabic(sample))\n"
   ]
  },
  {
   "cell_type": "code",
   "execution_count": null,
   "id": "e599fd4d",
   "metadata": {},
   "outputs": [
    {
     "data": {
      "text/plain": [
       "['تیوبفارغمربع', '80', '×', '80', '×', '5', 'مل', '6', 'متر']"
      ]
     },
     "execution_count": 62,
     "metadata": {},
     "output_type": "execute_result"
    }
   ],
   "source": [
    "from camel_tools.disambig.mle import MLEDisambiguator\n",
    "from camel_tools.tokenizers.word import simple_word_tokenize\n",
    "from camel_tools.tokenizers.morphological import MorphologicalTokenizer\n",
    "\n",
    "# 1) choose a pretrained analyzer/disambiguator (MSA shown)\n",
    "mle = MLEDisambiguator.pretrained('calima-msa-r13')\n",
    "\n",
    "# 2) after your intra-letter stitching + spacing heuristics:\n",
    "clean = \"ﺗ ﯾ و ﺏ ﻓ ﺎ ﺭ ﻍ ﻣ ﺭ ﺑ ﻊ 80 * 80 * 5 ﻣ ﻝ 6 ﻣ ﺗ ﺭ\"#\"تیوبفارغمربع 80 × 80 × 5 مل 6 متر\"\n",
    "\n",
    "# 3) whitespace/punct tokenization (required by CAMeL’s morph tokenizer)\n",
    "words = simple_word_tokenize(normalize_mixed_arabic(clean))\n",
    "\n",
    "# 4) morphological tokenization (e.g., ATB; set split=True to get separate tokens)\n",
    "mtok = MorphologicalTokenizer(disambiguator=mle, scheme='atbtok', split=True)\n",
    "segmented = mtok.tokenize(words)\n",
    "segmented"
   ]
  },
  {
   "cell_type": "code",
   "execution_count": null,
   "id": "7c6dc0c0",
   "metadata": {},
   "outputs": [
    {
     "data": {
      "text/plain": [
       "['تيوبفارغمربع 80 × 80 × 5 مل 6 متر']"
      ]
     },
     "execution_count": 63,
     "metadata": {},
     "output_type": "execute_result"
    }
   ],
   "source": [
    "[' '.join(normalize_text(t) for t in words if '+' not in t) ]"
   ]
  },
  {
   "cell_type": "code",
   "execution_count": null,
   "id": "eb721526",
   "metadata": {},
   "outputs": [
    {
     "name": "stdout",
     "output_type": "stream",
     "text": [
      "تیو بفا ر غمر بع 80 * 80 * 5 مل 6 متر\n"
     ]
    }
   ],
   "source": [
    "import re\n",
    "import unicodedata\n",
    "from camel_tools.utils.normalize import (\n",
    "    normalize_alef_ar,           # unify alef variants\n",
    "    normalize_alef_maksura_ar,   # ى -> ي\n",
    "    normalize_teh_marbuta_ar     # ة -> ه or keep ة depending on needs\n",
    ")\n",
    "from camel_tools.utils.dediac import dediac_ar\n",
    "\n",
    "# Arabic block after NFKC\n",
    "ARABIC_RANGE = r\"\\u0600-\\u06FF\\u0750-\\u077F\\u08A0-\\u08FF\"\n",
    "AR_LETTER = f\"[{ARABIC_RANGE}]\"\n",
    "DIGIT = r\"[0-9\\u0660-\\u0669]\"  # Western + Arabic-Indic\n",
    "\n",
    "def to_ascii_digits(s: str) -> str:\n",
    "    # map Arabic-Indic digits to ASCII\n",
    "    trans = str.maketrans(\"٠١٢٣٤٥٦٧٨٩\", \"0123456789\")\n",
    "    return s.translate(trans)\n",
    "\n",
    "def normalize_ar_text(s: str, keep_diacritics=False):\n",
    "    # 1) collapse presentation forms, compatibility, widths, etc.\n",
    "    s = unicodedata.normalize(\"NFKC\", s)\n",
    "\n",
    "    # 2) remove tatweel and bidi/formatting chars\n",
    "    s = s.replace(\"\\u0640\", \"\")  # tatweel\n",
    "    s = re.sub(r\"[\\u200c\\u200d\\u200e\\u200f\\u061c]\", \"\", s)  # ZWNJ/ZWJ/LRM/RLM/ALM\n",
    "\n",
    "    # 3) unify common Arabic variants\n",
    "    s = normalize_alef_ar(s)\n",
    "    s = normalize_alef_maksura_ar(s)\n",
    "    s = normalize_teh_marbuta_ar(s)\n",
    "\n",
    "    # 4) optional: strip diacritics (recommended for noisy sources)\n",
    "    if not keep_diacritics:\n",
    "        s = dediac_ar(s)\n",
    "\n",
    "    # 5) digits to ASCII for easier heuristics\n",
    "    s = to_ascii_digits(s)\n",
    "\n",
    "    return s\n",
    "\n",
    "def fix_spaced_glyphs(s: str):\n",
    "    s = normalize_ar_text(s)\n",
    "\n",
    "    # --- spacing repair heuristics ---\n",
    "\n",
    "    # A) collapse spaces inserted between Arabic letters (re-form words)\n",
    "    # remove spaces when both sides are Arabic letters\n",
    "    s = re.sub(fr\"(?<={AR_LETTER})\\s+(?={AR_LETTER})\", \"\", s)\n",
    "\n",
    "    # B) ensure spaces around math operators and 'x'\n",
    "    s = re.sub(r\"\\s*([*+\\-/x×])\\s*\", r\" \\1 \", s)\n",
    "\n",
    "    # C) split between letters and digits (both directions)\n",
    "    s = re.sub(fr\"(?<={AR_LETTER})(?={DIGIT})\", \" \", s)\n",
    "    s = re.sub(fr\"(?<={DIGIT})(?={AR_LETTER})\", \" \", s)\n",
    "\n",
    "    # D) heuristic: insert a space when a right-joining (non-connecting-left) letter\n",
    "    # is followed by another letter (helps recover word boundaries)\n",
    "    non_joiners = \"ادذرزوةى\"  # letters that do not connect to the following letter\n",
    "    s = re.sub(fr\"(?<=[{non_joiners}])(?={AR_LETTER})\", \" \", s)\n",
    "\n",
    "    # E) normalize whitespace\n",
    "    s = re.sub(r\"\\s+\", \" \", s).strip()\n",
    "\n",
    "    return s\n",
    "\n",
    "sample = \"ﺗ ﯾ و ﺏ ﻓ ﺎ ﺭ ﻍ ﻣ ﺭ ﺑ ﻊ 80 * 80 * 5 ﻣ ﻝ 6 ﻣ ﺗ ﺭ\"\n",
    "print(fix_spaced_glyphs(sample))\n"
   ]
  }
 ],
 "metadata": {
  "kernelspec": {
   "display_name": ".venv (3.10.11)",
   "language": "python",
   "name": "python3"
  },
  "language_info": {
   "codemirror_mode": {
    "name": "ipython",
    "version": 3
   },
   "file_extension": ".py",
   "mimetype": "text/x-python",
   "name": "python",
   "nbconvert_exporter": "python",
   "pygments_lexer": "ipython3",
   "version": "3.10.11"
  }
 },
 "nbformat": 4,
 "nbformat_minor": 5
}
