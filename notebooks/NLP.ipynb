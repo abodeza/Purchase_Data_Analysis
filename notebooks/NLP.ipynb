{
 "cells": [
  {
   "cell_type": "markdown",
   "id": "99cec062",
   "metadata": {},
   "source": [
    "# This notebook is concerned with handling the Item Name\n",
    "We'll be dealing with: \n",
    "- a mix of Arabic and English entries,\n",
    "- item codes/numerical values,\n",
    "- and lack of clear categorization."
   ]
  },
  {
   "cell_type": "markdown",
   "id": "f69b7b04",
   "metadata": {},
   "source": [
    "## Table of contents\n",
    "- [Setup](#setup)\n",
    "- [Loading and analyzing the data](#loading-and-analyzing-the-data)\n",
    "    - [Scratching the surface](#scratching-the-surface)\n",
    "    - [🚨 ***Handling Item Name***](#hadnling-item-name)"
   ]
  }
 ],
 "metadata": {
  "language_info": {
   "name": "python"
  }
 },
 "nbformat": 4,
 "nbformat_minor": 5
}
