{
 "cells": [
  {
   "cell_type": "markdown",
   "id": "99cec062",
   "metadata": {},
   "source": [
    "# This notebook is concerned with handling Item Name\n",
    "We'll be dealing with: \n",
    "- a mix of Arabic and English entries,\n",
    "- item codes/numerical values,\n",
    "- and lack of clear categorization.\n",
    "\n",
    "Approach:\n",
    "1. Basic normalization\n",
    "    - normalize letters and words\n",
    "    - remove incomplete words\n",
    "    - remove fillers\n",
    "    - remove unnecessary chars/symbols\n",
    "2. Break corpus into string tokens\n",
    "3. Generate Arabic lexicon from whole words\n",
    "    - Calculate unigram probability + Laplace Smoothing \n",
    "4. Combine disjointed letters into full words based on the lexicon\n",
    "    - Trie traverse + probabilities\n",
    "5. Analyze tokens in the data\n",
    "6. Devise normalization → reduced tokens\n",
    "7. Tokenize to numerical features\n",
    "8. Train a classifier (or classify manually) into interpretable categories\n",
    "9. Spend analysis-ready"
   ]
  },
  {
   "cell_type": "markdown",
   "id": "f69b7b04",
   "metadata": {},
   "source": [
    "# Table of contents\n",
    "- [Setup and load data](#setup-and-load-data)\n",
    "- [Handling Item Names](#Handling-Item-Names)\n",
    "    - [Basic normalization](#basic-normalization)\n",
    "    - [Arabic lexicon](#string-tokens)\n",
    "        - [Visualize lexicon frequency](#visualize-lexicon-frequency)\n",
    "    - [Combine disjointed letters](#Combine-disjointed-letters)\n",
    "    - [Analyze tokens](#Analyze-tokens)\n",
    "    - [Reduced tokens](#reduced-tokens)\n",
    "    - [Tokenize numerical](#Tokenize-numerical)\n",
    "- [Train classifier](#Train-classifier)\n",
    "\n",
    "- [Appendix](#Appendix)\n",
    "    - [Tests](#tests)\n",
    "        - [Trying out normalization techniques](#trying-out-normlization-techniques)\n",
    "        - [Failed attempts by ChatGPT that took far too much time to test and had minimal improvements](#failed-attempts-by-chatgpt-that-took-far-too-much-time-to-test-and-had-minimal-improvements)"
   ]
  },
  {
   "cell_type": "markdown",
   "id": "a87a5f21",
   "metadata": {},
   "source": [
    "# Setup and load data"
   ]
  },
  {
   "cell_type": "code",
   "execution_count": 105,
   "id": "a97b4949",
   "metadata": {},
   "outputs": [],
   "source": [
    "# Import relevant libraries\n",
    "import pandas as pd\n",
    "import numpy as np\n",
    "import matplotlib.pyplot as plt\n",
    "from math import log\n",
    "\n",
    "from camel_tools.utils.normalize import (\n",
    "    normalize_alef_ar,           # unify alef variants: أ إ آ -> ا\n",
    "    normalize_alef_maksura_ar,   # ى -> ي\n",
    "    normalize_teh_marbuta_ar,    # ة -> ه or keep ة depending on needs\n",
    "    normalize_unicode            # Normalize Unicode strings into their canonically composed form\n",
    ")\n",
    "from camel_tools.utils.dediac import dediac_ar\n",
    "from camel_tools.tokenizers.word import simple_word_tokenize\n",
    "\n",
    "import re\n",
    "from collections import Counter\n",
    "from collections import defaultdict\n",
    "from sklearn.feature_extraction.text import TfidfVectorizer"
   ]
  },
  {
   "cell_type": "code",
   "execution_count": 71,
   "id": "0d220b70",
   "metadata": {},
   "outputs": [],
   "source": [
    "data_path = \"../data/cleaned_num.xlsx\"\n",
    "df_original = pd.read_excel(data_path)\n",
    "df = df_original.copy()\n",
    "\n",
    "# For now we just care about Item Name\n",
    "df = df[['Item Name']]"
   ]
  },
  {
   "cell_type": "markdown",
   "id": "bdcf7675",
   "metadata": {},
   "source": [
    "# Handling Item Names"
   ]
  },
  {
   "cell_type": "markdown",
   "id": "67435c86",
   "metadata": {},
   "source": [
    "## Basic normalization\n",
    "Using CAMeL-Tools since it handles both Arabic and English texts"
   ]
  },
  {
   "cell_type": "code",
   "execution_count": 72,
   "id": "17d1974b",
   "metadata": {},
   "outputs": [],
   "source": [
    "def normalize_text(text):\n",
    "    text = normalize_unicode(text)\n",
    "    text = dediac_ar(text)\n",
    "    text = normalize_alef_ar(text)\n",
    "    text = normalize_alef_maksura_ar(text)\n",
    "    text = normalize_teh_marbuta_ar(text)\n",
    "    text = text.strip()\n",
    "    return text\n",
    "\n",
    "df['Normalized'] = df['Item Name'].apply(normalize_text)"
   ]
  },
  {
   "cell_type": "code",
   "execution_count": 73,
   "id": "ff92a832",
   "metadata": {},
   "outputs": [
    {
     "data": {
      "text/html": [
       "<div>\n",
       "<style scoped>\n",
       "    .dataframe tbody tr th:only-of-type {\n",
       "        vertical-align: middle;\n",
       "    }\n",
       "\n",
       "    .dataframe tbody tr th {\n",
       "        vertical-align: top;\n",
       "    }\n",
       "\n",
       "    .dataframe thead th {\n",
       "        text-align: right;\n",
       "    }\n",
       "</style>\n",
       "<table border=\"1\" class=\"dataframe\">\n",
       "  <thead>\n",
       "    <tr style=\"text-align: right;\">\n",
       "      <th></th>\n",
       "      <th>Item Name</th>\n",
       "      <th>Normalized</th>\n",
       "    </tr>\n",
       "  </thead>\n",
       "  <tbody>\n",
       "    <tr>\n",
       "      <th>301</th>\n",
       "      <td>فرشة سرايا 6.5 مم PB7 برونزالفاء (PCS)</td>\n",
       "      <td>فرشه سرايا 6.5 مم PB7 برونزالفاء (PCS)</td>\n",
       "    </tr>\n",
       "    <tr>\n",
       "      <th>901</th>\n",
       "      <td>GATE BARIAR PANEL2</td>\n",
       "      <td>GATE BARIAR PANEL2</td>\n",
       "    </tr>\n",
       "    <tr>\n",
       "      <th>1563</th>\n",
       "      <td>ﺻ ﺎ ﺝ ﺍ ﺳ و د 10 ﻣ ﻝ 8 * 4 ﻣ ﺗ</td>\n",
       "      <td>ص ا ج ا س و د 10 م ل 8 * 4 م ت</td>\n",
       "    </tr>\n",
       "  </tbody>\n",
       "</table>\n",
       "</div>"
      ],
      "text/plain": [
       "                                   Item Name  \\\n",
       "301   فرشة سرايا 6.5 مم PB7 برونزالفاء (PCS)   \n",
       "901                       GATE BARIAR PANEL2   \n",
       "1563          ﺻ ﺎ ﺝ ﺍ ﺳ و د 10 ﻣ ﻝ 8 * 4 ﻣ ﺗ   \n",
       "\n",
       "                                  Normalized  \n",
       "301   فرشه سرايا 6.5 مم PB7 برونزالفاء (PCS)  \n",
       "901                       GATE BARIAR PANEL2  \n",
       "1563          ص ا ج ا س و د 10 م ل 8 * 4 م ت  "
      ]
     },
     "execution_count": 73,
     "metadata": {},
     "output_type": "execute_result"
    }
   ],
   "source": [
    "# Let's see the results - yes I noticed some entries are split (like 1563) which really gave me a headache trying to solve lol\n",
    "df.iloc[[301, 901, 1563]]"
   ]
  },
  {
   "cell_type": "code",
   "execution_count": 97,
   "id": "f99719ba",
   "metadata": {},
   "outputs": [
    {
     "name": "stdout",
     "output_type": "stream",
     "text": [
      "Before normalization: حديد تسليح مجدول سعودي سابك 12 مم * 12 م\n",
      "After normalization: حديد تسليح مجدول سعودي سابك\n",
      "-----------------\n",
      "Disjoint - before: ﺣ ﺪ ﻳ ﺪ ﻣ ﺠ ﺪ ﻭ ﻝ ﺳ ﺎ ﺑ ﻚ 12 ﻣ ﻠ ﻢ * 12 ﻣ ﺘ ﺮ - ﺳ ﻌ ﻮ ﺩ ﻱ\n",
      "Disjoint - after: حديدمجدولسابكملممترسعودي\n"
     ]
    }
   ],
   "source": [
    "# Now we'll normalize the text further to ensure we only have Arabic and English characters\n",
    "def is_arabic_char(c: str) -> bool:\n",
    "    return '\\u0600' <= c <= '\\u06FF'\n",
    "\n",
    "def is_english_char(c: str) -> bool:\n",
    "    return c.isascii() and c.isalpha()\n",
    "\n",
    "def keep_arabic_english_only(c: str) -> str:\n",
    "    if is_arabic_char(c) or is_english_char(c):\n",
    "        return c\n",
    "    return \" \"  # replace everything else with space\n",
    "\n",
    "def basic_normalization(text, trim=True):\n",
    "    # 1) Normalize unicode text\n",
    "    text = normalize_text(text)\n",
    "\n",
    "    # 2) Keep only Arabic + English + replace others with spaces\n",
    "    text = ''.join(keep_arabic_english_only(c) for c in text)\n",
    "\n",
    "    # 3) Split on whitespace (since we've cleaned everything else to spaces)\n",
    "    tokens = text.split()\n",
    "\n",
    "    # 4) Drop single-letter tokens, repeated chars, and deduplicate within the row\n",
    "    if trim:\n",
    "        tokens = [t for t in tokens if len(t) > 1 and len(set(t)) > 1]\n",
    "        counts = Counter(tokens)\n",
    "        tokens = [t for t in tokens if counts[t] == 1]\n",
    "        return ' '.join(tokens)\n",
    "    else:\n",
    "        tokens = [t for t in tokens if len(t) == 1 and len(set(t)) == 1]\n",
    "        return ''.join(tokens)\n",
    "    \n",
    "df[\"Normalized\"] = df[\"Item Name\"].apply(basic_normalization, trim=True)\n",
    "df[\"Disjointed\"] = df[\"Item Name\"].apply(basic_normalization, trim=False)\n",
    "print(\"Before normalization:\", \"حديد تسليح مجدول سعودي سابك 12 مم * 12 م\")\n",
    "print(\"After normalization:\", basic_normalization(\"حديد تسليح مجدول سعودي سابك 12 مم * 12 م\"))\n",
    "print(\"-----------------\")\n",
    "print(\"Disjoint - before:\", \"ﺣ ﺪ ﻳ ﺪ ﻣ ﺠ ﺪ ﻭ ﻝ ﺳ ﺎ ﺑ ﻚ 12 ﻣ ﻠ ﻢ * 12 ﻣ ﺘ ﺮ - ﺳ ﻌ ﻮ ﺩ ﻱ\")\n",
    "print(\"Disjoint - after:\", basic_normalization(\"ﺣ ﺪ ﻳ ﺪ ﻣ ﺠ ﺪ ﻭ ﻝ ﺳ ﺎ ﺑ ﻚ 12 ﻣ ﻠ ﻢ * 12 ﻣ ﺘ ﺮ - ﺳ ﻌ ﻮ ﺩ ﻱ\", trim=False))"
   ]
  },
  {
   "cell_type": "code",
   "execution_count": 99,
   "id": "f5581bfd",
   "metadata": {},
   "outputs": [
    {
     "data": {
      "text/html": [
       "<div>\n",
       "<style scoped>\n",
       "    .dataframe tbody tr th:only-of-type {\n",
       "        vertical-align: middle;\n",
       "    }\n",
       "\n",
       "    .dataframe tbody tr th {\n",
       "        vertical-align: top;\n",
       "    }\n",
       "\n",
       "    .dataframe thead th {\n",
       "        text-align: right;\n",
       "    }\n",
       "</style>\n",
       "<table border=\"1\" class=\"dataframe\">\n",
       "  <thead>\n",
       "    <tr style=\"text-align: right;\">\n",
       "      <th></th>\n",
       "      <th>Item Name</th>\n",
       "      <th>Normalized</th>\n",
       "      <th>Disjointed</th>\n",
       "    </tr>\n",
       "  </thead>\n",
       "  <tbody>\n",
       "    <tr>\n",
       "      <th>301</th>\n",
       "      <td>فرشة سرايا 6.5 مم PB7 برونزالفاء (PCS)</td>\n",
       "      <td>فرشه سرايا PB برونزالفاء PCS</td>\n",
       "      <td></td>\n",
       "    </tr>\n",
       "    <tr>\n",
       "      <th>901</th>\n",
       "      <td>GATE BARIAR PANEL2</td>\n",
       "      <td>GATE BARIAR PANEL</td>\n",
       "      <td></td>\n",
       "    </tr>\n",
       "    <tr>\n",
       "      <th>1563</th>\n",
       "      <td>ﺻ ﺎ ﺝ ﺍ ﺳ و د 10 ﻣ ﻝ 8 * 4 ﻣ ﺗ</td>\n",
       "      <td></td>\n",
       "      <td>صاجاسودملمت</td>\n",
       "    </tr>\n",
       "  </tbody>\n",
       "</table>\n",
       "</div>"
      ],
      "text/plain": [
       "                                   Item Name                    Normalized  \\\n",
       "301   فرشة سرايا 6.5 مم PB7 برونزالفاء (PCS)  فرشه سرايا PB برونزالفاء PCS   \n",
       "901                       GATE BARIAR PANEL2             GATE BARIAR PANEL   \n",
       "1563          ﺻ ﺎ ﺝ ﺍ ﺳ و د 10 ﻣ ﻝ 8 * 4 ﻣ ﺗ                                 \n",
       "\n",
       "       Disjointed  \n",
       "301                \n",
       "901                \n",
       "1563  صاجاسودملمت  "
      ]
     },
     "execution_count": 99,
     "metadata": {},
     "output_type": "execute_result"
    }
   ],
   "source": [
    "df.iloc[[301, 901, 1563]]"
   ]
  },
  {
   "cell_type": "markdown",
   "id": "02ec405f",
   "metadata": {},
   "source": [
    "Good, now we have normalized Arabic and English words, but also the disjointed chars are saved for later"
   ]
  },
  {
   "cell_type": "markdown",
   "id": "c359f323",
   "metadata": {},
   "source": [
    "## Arabic lexicon"
   ]
  },
  {
   "cell_type": "code",
   "execution_count": 77,
   "id": "7d1df175",
   "metadata": {},
   "outputs": [],
   "source": [
    "corpus = df['Normalized']\n",
    "tokens = [simple_word_tokenize(text) for text in corpus]"
   ]
  },
  {
   "cell_type": "code",
   "execution_count": 78,
   "id": "9a06ccdf",
   "metadata": {},
   "outputs": [
    {
     "data": {
      "text/plain": [
       "3150"
      ]
     },
     "execution_count": 78,
     "metadata": {},
     "output_type": "execute_result"
    }
   ],
   "source": [
    "len(tokens)"
   ]
  },
  {
   "cell_type": "code",
   "execution_count": null,
   "id": "385fb75e",
   "metadata": {},
   "outputs": [],
   "source": [
    "# Lexicon is in Arabic, so we'll remove english for now\n",
    "def is_arabic(token):\n",
    "    return bool(re.search(r'[\\u0600-\\u06FF]', token))\n",
    "\n",
    "arabic_tokens = [tok for row in tokens for tok in row if is_arabic(tok)]\n",
    "lexicon = Counter(arabic_tokens)"
   ]
  },
  {
   "cell_type": "code",
   "execution_count": 111,
   "id": "a615cdec",
   "metadata": {},
   "outputs": [
    {
     "data": {
      "text/plain": [
       "787"
      ]
     },
     "execution_count": 111,
     "metadata": {},
     "output_type": "execute_result"
    }
   ],
   "source": [
    "# How many words did we get?\n",
    "lexicon.__len__()"
   ]
  },
  {
   "cell_type": "code",
   "execution_count": 112,
   "id": "103d60f3",
   "metadata": {},
   "outputs": [
    {
     "data": {
      "text/plain": [
       "[('حديد', 516),\n",
       " ('تسليح', 308),\n",
       " ('سابك', 212),\n",
       " ('متر', 162),\n",
       " ('ملم', 145),\n",
       " ('اسود', 141),\n",
       " ('سماكه', 130),\n",
       " ('صاج', 126),\n",
       " ('اتفاق', 78),\n",
       " ('ماسوره', 73)]"
      ]
     },
     "execution_count": 112,
     "metadata": {},
     "output_type": "execute_result"
    }
   ],
   "source": [
    "# Let's quickly check the most frequent words used\n",
    "lexicon.most_common(10)"
   ]
  },
  {
   "cell_type": "markdown",
   "id": "1e046412",
   "metadata": {},
   "source": [
    "### Visualize lexicon frequency"
   ]
  },
  {
   "cell_type": "code",
   "execution_count": null,
   "id": "da56771d",
   "metadata": {},
   "outputs": [
    {
     "data": {
      "image/png": "[encoded data removed]",
      "text/plain": [
       "<Figure size 1200x500 with 2 Axes>"
      ]
     },
     "metadata": {},
     "output_type": "display_data"
    }
   ],
   "source": [
    "# Sort frequencies descending\n",
    "freqs_sorted = np.array(sorted(lexicon.values(), reverse=True))\n",
    "ranks = np.arange(1, len(freqs_sorted)+1)\n",
    "\n",
    "fig, axes = plt.subplots(1, 2, figsize=(12, 5))\n",
    "\n",
    "# --- 1) Simple scatter plot ---\n",
    "axes[0].scatter(ranks, freqs_sorted, s=20)\n",
    "axes[0].set_xlabel(\"Rank\")\n",
    "axes[0].set_ylabel(\"Frequency\")\n",
    "axes[0].set_title(\"Word Frequency vs. Rank\")\n",
    "axes[0].grid(True)\n",
    "\n",
    "# --- 2) Zipf's Law (log-log) plot ---\n",
    "axes[1].scatter(ranks, freqs_sorted, s=20)\n",
    "axes[1].set_xscale(\"log\")\n",
    "axes[1].set_yscale(\"log\")\n",
    "axes[1].set_xlabel(\"Rank (log)\")\n",
    "axes[1].set_ylabel(\"Frequency (log)\")\n",
    "axes[1].set_title(\"Word Frequency Distribution (Zipf's Law)\")\n",
    "axes[1].grid(True)\n",
    "\n",
    "plt.tight_layout()\n",
    "plt.show()"
   ]
  },
  {
   "cell_type": "markdown",
   "id": "99f74442",
   "metadata": {},
   "source": [
    "This might be an extreme case of Zipf's law, but the frequency of the word is strongly inversely related to its rank\n",
    "\n",
    "Nonetheless, when reconstructing the words from the disjoint words, we'll ensure that we give more frequent words more weight, sort of a probabilistic approach. The priors being the frequency of the term in the lexicon relative to the other terms."
   ]
  },
  {
   "cell_type": "markdown",
   "id": "2f870f46",
   "metadata": {},
   "source": [
    "## Combine disjointed letters\n",
    "Combining the letters based on the lexicon is only one half of the solution, the other is to know what parts of the token we should look up in the lexicon and which parts should be omitted. "
   ]
  },
  {
   "cell_type": "markdown",
   "id": "fc1cae8d",
   "metadata": {},
   "source": [
    "### Research findings\n",
    "This problem could be cut in three parts:\n",
    "1. find unigram probability for each lexicon entry\n",
    "2. create a Trie data structure from the lexicon\n",
    "3. traverse the Trie and determine the word with most likelihood"
   ]
  },
  {
   "cell_type": "code",
   "execution_count": 128,
   "id": "8062e44f",
   "metadata": {},
   "outputs": [],
   "source": [
    "class TrieNode: # Node definition for the Trie\n",
    "    __slots__ = (\"ch\",\"end\",\"logp\")\n",
    "    def __init__(self):\n",
    "        self.ch = {}\n",
    "        self.end = False\n",
    "        self.logp = float(\"-inf\")\n",
    "\n",
    "class Trie:\n",
    "    def __init__(self):\n",
    "        self.root = TrieNode()\n",
    "    def insert(self, word, logp): # Insert a node in the Trie\n",
    "        node = self.root\n",
    "        for c in word:\n",
    "            node = node.ch.setdefault(c, TrieNode())\n",
    "        node.end = True\n",
    "        node.logp = logp\n",
    "    def in_trie_prefix(self, s): # Checks if the string/word is in our Trie\n",
    "        node = self.root\n",
    "        for ch in s:\n",
    "            if ch not in node.ch:\n",
    "                return False\n",
    "            node = node.ch[ch]\n",
    "        return node.end\n",
    "\n",
    "def build_trie_from_counts(counts, alpha=0.0):\n",
    "    # counts: dict[word] -> int\n",
    "    V = len(counts) # Vocabulary size\n",
    "    Z = sum(counts.values()) + alpha * V # Denominator = N_train (total no. of words) + weighted V\n",
    "    T = Trie()\n",
    "    for w, c in counts.items():\n",
    "        p = (c + alpha) / Z\n",
    "        T.insert(w, log(p))\n",
    "    return T\n",
    "\n",
    "def viterbi_segment(chars, trie):\n",
    "    \"\"\"chars: e.g. 'catsanddog' (spaces removed). Returns words and score.\"\"\"\n",
    "    n = len(chars)\n",
    "    best = [float(\"-inf\")] * (n + 1)\n",
    "    back = [None] * (n + 1)\n",
    "    best[n] = 0.0  # empty suffix has score 0\n",
    "\n",
    "    for i in range(n - 1, -1, -1):\n",
    "        node = trie.root\n",
    "        j = i\n",
    "        while j < n and chars[j] in node.ch:\n",
    "            node = node.ch[chars[j]]\n",
    "            j += 1\n",
    "            if node.end:\n",
    "                cand = node.logp + best[j]\n",
    "                if cand > best[i]:\n",
    "                    best[i] = cand\n",
    "                    back[i] = (j, j - i)  # next index and word length\n",
    "        # Allow an UNK token by charging a penalty:\n",
    "        # if best[i] == -inf:\n",
    "        #     best[i] = unk_logp + best[i+1]; back[i]=(i+1,1)\n",
    "\n",
    "    if best[0] == float(\"-inf\"):\n",
    "        return None, float(\"-inf\")\n",
    "\n",
    "    # reconstruct\n",
    "    words = []\n",
    "    i = 0\n",
    "    while i < n:\n",
    "        j, L = back[i]\n",
    "        words.append(chars[i:j])\n",
    "        i = j\n",
    "    return words, best[0]\n"
   ]
  },
  {
   "cell_type": "code",
   "execution_count": 129,
   "id": "cd8fed20",
   "metadata": {},
   "outputs": [
    {
     "name": "stdout",
     "output_type": "stream",
     "text": [
      "['cats', 'and', 'dog']\n"
     ]
    }
   ],
   "source": [
    "# Toy example\n",
    "counts = {\n",
    "    \"cat\": 50, \"cats\": 30, \"sand\": 25, \"and\": 100, \"dog\": 70, \"an\": 150\n",
    "}\n",
    "trie = build_trie_from_counts(counts, alpha=1.0)\n",
    "words, score = viterbi_segment(\"catsanddog\", trie)\n",
    "print(words)  # e.g., ['cats', 'and', 'dog'] because logP(cats)+logP(and)+logP(dog) is maximal\n"
   ]
  },
  {
   "cell_type": "code",
   "execution_count": 132,
   "id": "1358a21b",
   "metadata": {},
   "outputs": [
    {
     "name": "stdout",
     "output_type": "stream",
     "text": [
      "صاجاسودملمت\n",
      "['صاج', 'اسود', 'مل', 'مت'] -20.187830194356444\n"
     ]
    }
   ],
   "source": [
    "# Example from our data\n",
    "\n",
    "trie_ar = build_trie_from_counts(lexicon, alpha=1.0)\n",
    "words, score = viterbi_segment(df[\"Disjointed\"].iloc[1563], trie_ar)\n",
    "print(df[\"Disjointed\"].iloc[1563])\n",
    "print(words, score)"
   ]
  },
  {
   "cell_type": "code",
   "execution_count": 134,
   "id": "e77043fc",
   "metadata": {},
   "outputs": [
    {
     "name": "stdout",
     "output_type": "stream",
     "text": [
      "صاجاسودملمت\n",
      "['صاج'] -3.7777264157280492\n"
     ]
    }
   ],
   "source": [
    "words, score = viterbi_segment(\"صاج\", trie_ar)\n",
    "print(df[\"Disjointed\"].iloc[1563])\n",
    "print(words, score)"
   ]
  },
  {
   "cell_type": "code",
   "execution_count": 135,
   "id": "752d9ef4",
   "metadata": {},
   "outputs": [
    {
     "name": "stdout",
     "output_type": "stream",
     "text": [
      "['صاج', 'اسود', 'مل', 'مت'] -20.187830194356444\n"
     ]
    }
   ],
   "source": [
    "chars = \"صاجاسودملمت\"\n",
    "counts = {\"صاج\" : 1, \"اسود\" :1, \"ملمت\" : 1}\n",
    "\n",
    "trie = build_trie_from_counts(lexicon)\n",
    "seg, score = viterbi_segment(chars, trie_ar)\n",
    "\n",
    "print(seg, score)"
   ]
  },
  {
   "cell_type": "code",
   "execution_count": null,
   "id": "cc2b63a2",
   "metadata": {},
   "outputs": [
    {
     "name": "stdout",
     "output_type": "stream",
     "text": [
      "صاج in trie? True\n"
     ]
    }
   ],
   "source": [
    "print(\"صاج in trie?\", trie_ar.in_trie_prefix(\"صاج\"))"
   ]
  },
  {
   "cell_type": "markdown",
   "id": "03ff7676",
   "metadata": {},
   "source": [
    "## Analyze tokens"
   ]
  },
  {
   "cell_type": "code",
   "execution_count": null,
   "id": "ddefdc48",
   "metadata": {},
   "outputs": [],
   "source": []
  },
  {
   "cell_type": "markdown",
   "id": "0cd57600",
   "metadata": {},
   "source": [
    "## Reduced tokens"
   ]
  },
  {
   "cell_type": "code",
   "execution_count": null,
   "id": "4f89ec30",
   "metadata": {},
   "outputs": [],
   "source": []
  },
  {
   "cell_type": "markdown",
   "id": "cdc9f376",
   "metadata": {},
   "source": [
    "## Numerical tokens"
   ]
  },
  {
   "cell_type": "code",
   "execution_count": null,
   "id": "e0d73988",
   "metadata": {},
   "outputs": [],
   "source": []
  },
  {
   "cell_type": "markdown",
   "id": "5b795bab",
   "metadata": {},
   "source": [
    "# Train classifier"
   ]
  },
  {
   "cell_type": "markdown",
   "id": "9893fb3a",
   "metadata": {},
   "source": [
    "# Appendix"
   ]
  },
  {
   "cell_type": "markdown",
   "id": "1f535801",
   "metadata": {},
   "source": [
    "## Tests"
   ]
  },
  {
   "cell_type": "markdown",
   "id": "56e53c7c",
   "metadata": {},
   "source": [
    "### Trying out normlization techniques"
   ]
  },
  {
   "cell_type": "code",
   "execution_count": 34,
   "id": "51677563",
   "metadata": {},
   "outputs": [
    {
     "data": {
      "text/plain": [
       "'ﻣ ﺎ ﺳ و ﺭ ﺓ ﺍ ﺳ و د 6 ﺑ و ﺻ ﺔ * 7 ﻣ ﻠ ﻡ * 12 ﻣ ﺗ ﺭ'"
      ]
     },
     "execution_count": 34,
     "metadata": {},
     "output_type": "execute_result"
    }
   ],
   "source": [
    "text = \"ﻣ ﺎ ﺳ و ﺭ ﺓ ﺍ ﺳ و د 6 ﺑ و ﺻ ﺔ * 7 ﻣ ﻠ ﻡ * 12 ﻣ ﺗ ﺭ\"\n",
    "text"
   ]
  },
  {
   "cell_type": "code",
   "execution_count": null,
   "id": "82779055",
   "metadata": {},
   "outputs": [
    {
     "data": {
      "text/plain": [
       "'م ا س و ر ة ا س و د 6 ب و ص ة * 7 م ل م * 12 م ت ر'"
      ]
     },
     "execution_count": 35,
     "metadata": {},
     "output_type": "execute_result"
    }
   ],
   "source": [
    "# This does a good job in standardizing the characters\n",
    "import unicodedata\n",
    "result = unicodedata.normalize(\"NFKC\", text)\n",
    "result"
   ]
  },
  {
   "cell_type": "code",
   "execution_count": 36,
   "id": "1b0380e5",
   "metadata": {},
   "outputs": [
    {
     "data": {
      "text/plain": [
       "'ﻣ ﺎ ﺳ و ﺭ ﺓ ﺍ ﺳ و د 6 ﺑ و ﺻ ﺔ * 7 ﻣ ﻠ ﻡ * 12 ﻣ ﺗ ﺭ'"
      ]
     },
     "execution_count": 36,
     "metadata": {},
     "output_type": "execute_result"
    }
   ],
   "source": [
    "import re\n",
    "result = re.sub(r'[\\u200B-\\u200F\\u202A-\\u202E\\u2066-\\u2069]', '', text)\n",
    "result"
   ]
  },
  {
   "cell_type": "code",
   "execution_count": 38,
   "id": "2e8a1222",
   "metadata": {},
   "outputs": [
    {
     "data": {
      "text/plain": [
       "'ﻣ ﺎ ﺳ و ﺭ ﺓ ﺍ ﺳ و د 6 ﺑ و ﺻ ﺔ * 7 ﻣ ﻠ ﻡ * 12 ﻣ ﺗ ﺭ'"
      ]
     },
     "execution_count": 38,
     "metadata": {},
     "output_type": "execute_result"
    }
   ],
   "source": [
    "result = re.sub(r'\\s+', ' ', text).strip()\n",
    "result"
   ]
  },
  {
   "cell_type": "markdown",
   "id": "e1472dbe",
   "metadata": {},
   "source": [
    "None of the techniques above effictively resolves the issue of spaces and word recognition in text...\n",
    "\n",
    "We'll try out Camel-tools, I've had a little experience with it before, but never worked with data this messy"
   ]
  },
  {
   "cell_type": "code",
   "execution_count": 39,
   "id": "a7ea6297",
   "metadata": {},
   "outputs": [],
   "source": [
    "import camel_tools.utils.normalize as norm"
   ]
  },
  {
   "cell_type": "code",
   "execution_count": null,
   "id": "88cdce14",
   "metadata": {},
   "outputs": [
    {
     "data": {
      "text/plain": [
       "'م ا س و ر ة ا س و د 6 ب و ص ة * 7 م ل م * 12 م ت ر'"
      ]
     },
     "execution_count": 40,
     "metadata": {},
     "output_type": "execute_result"
    }
   ],
   "source": [
    "norm.normalize_unicode(text)"
   ]
  },
  {
   "cell_type": "code",
   "execution_count": 66,
   "id": "12cfc1c3",
   "metadata": {},
   "outputs": [
    {
     "data": {
      "text/plain": [
       "'م ا س و ر ة ا س و د 6 ب و ص ة * 7 م ل م * 12 م ت ر'"
      ]
     },
     "execution_count": 66,
     "metadata": {},
     "output_type": "execute_result"
    }
   ],
   "source": [
    "from camel_tools.utils.dediac import dediac_ar\n",
    "dediac_ar(norm.normalize_unicode(text))"
   ]
  },
  {
   "cell_type": "markdown",
   "id": "e6f9bd08",
   "metadata": {},
   "source": [
    "### Failed attempts by ChatGPT that took far too much time to test and had minimal improvements"
   ]
  },
  {
   "cell_type": "code",
   "execution_count": null,
   "id": "3291fb42",
   "metadata": {},
   "outputs": [
    {
     "name": "stdout",
     "output_type": "stream",
     "text": [
      "تیوبفارغمربع 80 × 80 × 5 مل 6 متر\n"
     ]
    }
   ],
   "source": [
    "import re\n",
    "from camel_tools.utils.normalize import normalize_unicode, normalize_alef_maksura_ar\n",
    "\n",
    "# Unicode ranges that cover Arabic letters (not presentation forms)\n",
    "_AR = r'\\u0600-\\u06FF\\u0750-\\u077F\\u08A0-\\u08FF'\n",
    "\n",
    "def normalize_mixed_arabic(s: str) -> str:\n",
    "    # 1) Canonical/compatibility normalization\n",
    "    s = normalize_unicode(s, compatibility=True)\n",
    "    # 2) Normalize alef maqsura, optional but useful\n",
    "    s = normalize_alef_maksura_ar(s)\n",
    "\n",
    "    # 3) Strip zero-width/bidi formatting chars\n",
    "    s = re.sub(r'[\\u200B-\\u200F\\u202A-\\u202E\\u2066-\\u2069]', '', s)\n",
    "\n",
    "    # 4) Normalize common operators and pad them\n",
    "    #    Treat *, ×, x as multiplication; surround with single spaces\n",
    "    s = re.sub(r'\\s*([*xX×])\\s*', r' × ', s)\n",
    "\n",
    "    # 5) **Key step**: remove spaces *only* between Arabic letters\n",
    "    #    This stitches scattered letters back into words\n",
    "    s = re.sub(fr'(?<=[{_AR}])\\s+(?=[{_AR}])', '', s)\n",
    "\n",
    "    # 6) Collapse remaining excessive whitespace\n",
    "    s = re.sub(r'\\s+', ' ', s).strip()\n",
    "\n",
    "    return s\n",
    "\n",
    "# Demo on your string\n",
    "sample = \"ﺗ ﯾ و ﺏ ﻓ ﺎ ﺭ ﻍ ﻣ ﺭ ﺑ ﻊ 80 * 80 * 5 ﻣ ﻝ 6 ﻣ ﺗ ﺭ\"\n",
    "print(normalize_mixed_arabic(sample))\n"
   ]
  },
  {
   "cell_type": "code",
   "execution_count": 60,
   "id": "e599fd4d",
   "metadata": {},
   "outputs": [
    {
     "data": {
      "text/plain": [
       "['تیوبفارغمربع', '80', '×', '80', '×', '5', 'مل', '6', 'متر']"
      ]
     },
     "execution_count": 60,
     "metadata": {},
     "output_type": "execute_result"
    }
   ],
   "source": [
    "from camel_tools.disambig.mle import MLEDisambiguator\n",
    "from camel_tools.tokenizers.word import simple_word_tokenize\n",
    "from camel_tools.tokenizers.morphological import MorphologicalTokenizer\n",
    "\n",
    "# 1) choose a pretrained analyzer/disambiguator (MSA shown)\n",
    "mle = MLEDisambiguator.pretrained('calima-msa-r13')\n",
    "\n",
    "# 2) after your intra-letter stitching + spacing heuristics:\n",
    "clean = \"ﺗ ﯾ و ﺏ ﻓ ﺎ ﺭ ﻍ ﻣ ﺭ ﺑ ﻊ 80 * 80 * 5 ﻣ ﻝ 6 ﻣ ﺗ ﺭ\"#\"تیوبفارغمربع 80 × 80 × 5 مل 6 متر\"\n",
    "\n",
    "# 3) whitespace/punct tokenization (required by CAMeL’s morph tokenizer)\n",
    "words = simple_word_tokenize(normalize_mixed_arabic(clean))\n",
    "\n",
    "# 4) morphological tokenization (e.g., ATB; set split=True to get separate tokens)\n",
    "mtok = MorphologicalTokenizer(disambiguator=mle, scheme='atbtok', split=True)\n",
    "segmented = mtok.tokenize(words)\n",
    "segmented"
   ]
  },
  {
   "cell_type": "code",
   "execution_count": null,
   "id": "eb721526",
   "metadata": {},
   "outputs": [
    {
     "name": "stdout",
     "output_type": "stream",
     "text": [
      "تیو بفا ر غمر بع 80 * 80 * 5 مل 6 متر\n"
     ]
    }
   ],
   "source": [
    "import re\n",
    "import unicodedata\n",
    "from camel_tools.utils.normalize import (\n",
    "    normalize_alef_ar,           # unify alef variants\n",
    "    normalize_alef_maksura_ar,   # ى -> ي\n",
    "    normalize_teh_marbuta_ar     # ة -> ه or keep ة depending on needs\n",
    ")\n",
    "from camel_tools.utils.dediac import dediac_ar\n",
    "\n",
    "# Arabic block after NFKC\n",
    "ARABIC_RANGE = r\"\\u0600-\\u06FF\\u0750-\\u077F\\u08A0-\\u08FF\"\n",
    "AR_LETTER = f\"[{ARABIC_RANGE}]\"\n",
    "DIGIT = r\"[0-9\\u0660-\\u0669]\"  # Western + Arabic-Indic\n",
    "\n",
    "def to_ascii_digits(s: str) -> str:\n",
    "    # map Arabic-Indic digits to ASCII\n",
    "    trans = str.maketrans(\"٠١٢٣٤٥٦٧٨٩\", \"0123456789\")\n",
    "    return s.translate(trans)\n",
    "\n",
    "def normalize_ar_text(s: str, keep_diacritics=False):\n",
    "    # 1) collapse presentation forms, compatibility, widths, etc.\n",
    "    s = unicodedata.normalize(\"NFKC\", s)\n",
    "\n",
    "    # 2) remove tatweel and bidi/formatting chars\n",
    "    s = s.replace(\"\\u0640\", \"\")  # tatweel\n",
    "    s = re.sub(r\"[\\u200c\\u200d\\u200e\\u200f\\u061c]\", \"\", s)  # ZWNJ/ZWJ/LRM/RLM/ALM\n",
    "\n",
    "    # 3) unify common Arabic variants\n",
    "    s = normalize_alef_ar(s)\n",
    "    s = normalize_alef_maksura_ar(s)\n",
    "    s = normalize_teh_marbuta_ar(s)\n",
    "\n",
    "    # 4) optional: strip diacritics (recommended for noisy sources)\n",
    "    if not keep_diacritics:\n",
    "        s = dediac_ar(s)\n",
    "\n",
    "    # 5) digits to ASCII for easier heuristics\n",
    "    s = to_ascii_digits(s)\n",
    "\n",
    "    return s\n",
    "\n",
    "def fix_spaced_glyphs(s: str):\n",
    "    s = normalize_ar_text(s)\n",
    "\n",
    "    # --- spacing repair heuristics ---\n",
    "\n",
    "    # A) collapse spaces inserted between Arabic letters (re-form words)\n",
    "    # remove spaces when both sides are Arabic letters\n",
    "    s = re.sub(fr\"(?<={AR_LETTER})\\s+(?={AR_LETTER})\", \"\", s)\n",
    "\n",
    "    # B) ensure spaces around math operators and 'x'\n",
    "    s = re.sub(r\"\\s*([*+\\-/x×])\\s*\", r\" \\1 \", s)\n",
    "\n",
    "    # C) split between letters and digits (both directions)\n",
    "    s = re.sub(fr\"(?<={AR_LETTER})(?={DIGIT})\", \" \", s)\n",
    "    s = re.sub(fr\"(?<={DIGIT})(?={AR_LETTER})\", \" \", s)\n",
    "\n",
    "    # D) heuristic: insert a space when a right-joining (non-connecting-left) letter\n",
    "    # is followed by another letter (helps recover word boundaries)\n",
    "    non_joiners = \"ادذرزوةى\"  # letters that do not connect to the following letter\n",
    "    s = re.sub(fr\"(?<=[{non_joiners}])(?={AR_LETTER})\", \" \", s)\n",
    "\n",
    "    # E) normalize whitespace\n",
    "    s = re.sub(r\"\\s+\", \" \", s).strip()\n",
    "\n",
    "    return s\n",
    "\n",
    "sample = \"ﺗ ﯾ و ﺏ ﻓ ﺎ ﺭ ﻍ ﻣ ﺭ ﺑ ﻊ 80 * 80 * 5 ﻣ ﻝ 6 ﻣ ﺗ ﺭ\"\n",
    "print(fix_spaced_glyphs(sample))\n"
   ]
  }
 ],
 "metadata": {
  "kernelspec": {
   "display_name": ".venv (3.10.11)",
   "language": "python",
   "name": "python3"
  },
  "language_info": {
   "codemirror_mode": {
    "name": "ipython",
    "version": 3
   },
   "file_extension": ".py",
   "mimetype": "text/x-python",
   "name": "python",
   "nbconvert_exporter": "python",
   "pygments_lexer": "ipython3",
   "version": "3.10.11"
  }
 },
 "nbformat": 4,
 "nbformat_minor": 5
}
