{
 "cells": [
  {
   "cell_type": "markdown",
   "id": "99cec062",
   "metadata": {},
   "source": [
    "# This notebook is concerned with handling Item Name"
   ]
  },
  {
   "cell_type": "markdown",
   "id": "f69b7b04",
   "metadata": {},
   "source": [
    "# Table of contents\n",
    "- [Overview](#overview)\n",
    "    - [We'll be dealing with](#well-be-dealing-with)\n",
    "    - [Approach](#approach)\n",
    "- [Setup and load data](#setup-and-load-data)\n",
    "- [Handling Item Names](#Handling-Item-Names)\n",
    "    - [Normalization and lemmatization](#normalization-and-lemmatization)\n",
    "        - [Character level normalization](#character-level-normalization)\n",
    "        - [🚨 Word level normalization and lemmatization](#word-level-normalization-and-lemmatization)\n",
    "        - [Normalized and Disjointed cols created](#normalized-and-disjointed-cols-created)\n",
    "    - [Arabic lexicon](#string-tokens)\n",
    "        - [Create lexicon](#create-lexicon)\n",
    "        - [Analyze lexicons' word frequency](#analyze-lexicons-word-frequency)\n",
    "        - [Manual cleaning of edge cases in lexicon](#manual-cleaning-of-edge-cases-in-lexicon)\n",
    "    - [Combine disjointed letters](#combine-disjointed-letters)\n",
    "        - [Research findings](#Research-findings)\n",
    "        - [🚨 ***Trie and Viterbi Segment technique***](#Trie-and-Viterbi-segment-technique)\n",
    "            - [Algorithm](#algorithm)\n",
    "                - [Notes (the key decisions in implementing the algorithm)](#Notes-(the-key-decisions-in-implementing-the-algorithm))\n",
    "                - [A few tests](#a-few-tests)\n",
    "        - [Rejoining the disjointed letters](#Rejoining-the-disjointed-letters)\n",
    "            - [Rejoined column created](#rejoined-column-created)\n",
    "            - [Combined column created](#combined-column-created)\n",
    "    - [Analyze tokens](#Analyze-tokens)\n",
    "        - [Token lengths](#token-lengths)\n",
    "        - [Clean Combined Column](#clean-combined-column)\n",
    "        - [🚨 Analyzing unknowns in the dataset](#analyzing-unknowns-in-the-dataset)\n",
    "        - [Before and after preprocessing](#before-and-after-processing)\n",
    "        - [Save preprocessed Item Name](#save-preprocessed-item-name)\n",
    "- [🚨 Embed tokens](#embed-tokens)\n",
    "    - [Requires wiki.ar.align.vec and wiki.en.align.vec in assets but not provided](#requires-wikiaralignvec-and-wikienalignvec-in-assets-but-not-provided)\n",
    "        - [Compare current vocab with FastText's](#compare-current-vocab-with-fasttexts)\n",
    "        - [🚨 Interpretable column created](#interpretable-column-created)\n",
    "        - [Created wiki.trimmed.align.vec](#creating-wikitrimmedalignvec)\n",
    "        - [Save and load final preprocessed Item Names](#save-and-load-final-preprocessed-item-names)\n",
    "    - [🚨 Overall look at the state of the data](#overall-look-at-the-state-of-the-data)\n",
    "    - [Creating wiki.trimmed.align.vec](#creating-wikitrimmedalignvec)\n",
    "- [Appendix](#Appendix)\n",
    "    - [Tests - preprocessing](#tests---preprocessing)"
   ]
  },
  {
   "cell_type": "markdown",
   "id": "1483b060",
   "metadata": {},
   "source": [
    "# Overview\n"
   ]
  },
  {
   "cell_type": "markdown",
   "id": "ad4eb5cb",
   "metadata": {},
   "source": [
    "## We'll be dealing with: \n"
   ]
  },
  {
   "cell_type": "markdown",
   "id": "259902ae",
   "metadata": {},
   "source": [
    "- Normalizing a mix of Arabic and English entries\n",
    "- Item codes/numerical values (non descriptive)\n",
    "- Misplellings and disjointed letters\n",
    "- Embedding mixed language entries"
   ]
  },
  {
   "cell_type": "markdown",
   "id": "18eb3069",
   "metadata": {},
   "source": [
    "## Approach:\n"
   ]
  },
  {
   "cell_type": "markdown",
   "id": "16a780c9",
   "metadata": {},
   "source": [
    "1. Normalization and lemmatization\n",
    "    - normalize characters\n",
    "    - Remove unnecessary chars/symbols/units/fillers\n",
    "    - lemmatization\n",
    "    - break corpus into string tokens\n",
    "3. Generate Arabic lexicon from whole words\n",
    "    - Calculate unigram probability + Laplace Smoothing \n",
    "4. Combine disjointed letters into full words based on the lexicon\n",
    "    - Trie (data structure) + Viterbi Segment technique (dynamic programming)\n",
    "5. Analyze tokens in the data\n",
    "    - Modify preprocessing or apply manual preprocessing if necessary\n",
    "6. Embed preprocessed Item Names\n",
    "    - Need to use an embedder capable of handling AR and EN\n",
    "    - Two options: SBERT - no context in corpus ; skip, FastText aligned wiki vecs for EN and AR\n",
    "    - Trim the large FastText vecs for our case (>3M tokens combined, >8 GB combined) -> wiki.trimmed.align.vec (1865 tokens, 5 MB)"
   ]
  },
  {
   "cell_type": "markdown",
   "id": "a87a5f21",
   "metadata": {},
   "source": [
    "# Setup and load data"
   ]
  },
  {
   "cell_type": "code",
   "execution_count": null,
   "id": "a97b4949",
   "metadata": {},
   "outputs": [],
   "source": [
    "# Import relevant libraries\n",
    "import pandas as pd\n",
    "import matplotlib.ticker as ticker\n",
    "\n",
    "from math import log\n",
    "\n",
    "from camel_tools.utils.normalize import (\n",
    "    normalize_alef_ar,           # unify alef variants: أ إ آ -> ا\n",
    "    normalize_alef_maksura_ar,   # ى -> ي\n",
    "    normalize_teh_marbuta_ar,    # ة -> ه or keep ة depending on needs\n",
    "    normalize_unicode            # Normalize Unicode strings into their canonically composed form\n",
    ")\n",
    "from camel_tools.utils.dediac import dediac_ar\n",
    "from camel_tools.tokenizers.word import simple_word_tokenize\n",
    "from camel_tools.disambig.mle import MLEDisambiguator\n",
    "from camel_tools.tokenizers.morphological import MorphologicalTokenizer\n",
    "\n",
    "import re\n",
    "import unicodedata\n",
    "from collections import Counter\n",
    "from sklearn.feature_extraction.text import ENGLISH_STOP_WORDS\n",
    "\n",
    "import gensim"
   ]
  },
  {
   "cell_type": "code",
   "execution_count": 85,
   "id": "0d220b70",
   "metadata": {},
   "outputs": [],
   "source": [
    "data_path = \"../data/checkpoints/cleaned_num.xlsx\"\n",
    "df_original = pd.read_excel(data_path)\n",
    "df = df_original.copy()\n",
    "\n",
    "# For now we just care about Item Name\n",
    "df = df[['Item Name']]"
   ]
  },
  {
   "cell_type": "markdown",
   "id": "bdcf7675",
   "metadata": {},
   "source": [
    "# Handling Item Names"
   ]
  },
  {
   "cell_type": "markdown",
   "id": "67435c86",
   "metadata": {},
   "source": [
    "## Normalization and lemmatization\n",
    "Using CAMeL-Tools since it handles Arabic well and compatible with English texts"
   ]
  },
  {
   "cell_type": "markdown",
   "id": "e62f9751",
   "metadata": {},
   "source": [
    "### Character level normalization"
   ]
  },
  {
   "cell_type": "code",
   "execution_count": 86,
   "id": "17d1974b",
   "metadata": {},
   "outputs": [],
   "source": [
    "_EXTRA_TRANSLATE = {\n",
    "    ord('ی'): ord('ي'),   # Farsi Yeh → Arabic Yeh\n",
    "    ord('ـ'): None,       # Tatweel (kashida) → remove\n",
    "}\n",
    "\n",
    "def normalize_text(text: str) -> str:\n",
    "    # Stronger Unicode compat normalization\n",
    "    text = unicodedata.normalize('NFKC', text)\n",
    "\n",
    "    # Existing CAMeL steps\n",
    "    text = text.lower()\n",
    "    text = normalize_unicode(text)\n",
    "    text = dediac_ar(text)\n",
    "    text = normalize_alef_ar(text)\n",
    "    text = normalize_alef_maksura_ar(text)\n",
    "    text = normalize_teh_marbuta_ar(text)\n",
    "    text = text.translate(_EXTRA_TRANSLATE)\n",
    "\n",
    "    return text.strip()\n"
   ]
  },
  {
   "cell_type": "code",
   "execution_count": 87,
   "id": "ff92a832",
   "metadata": {},
   "outputs": [
    {
     "data": {
      "text/html": [
       "<div>\n",
       "<style scoped>\n",
       "    .dataframe tbody tr th:only-of-type {\n",
       "        vertical-align: middle;\n",
       "    }\n",
       "\n",
       "    .dataframe tbody tr th {\n",
       "        vertical-align: top;\n",
       "    }\n",
       "\n",
       "    .dataframe thead th {\n",
       "        text-align: right;\n",
       "    }\n",
       "</style>\n",
       "<table border=\"1\" class=\"dataframe\">\n",
       "  <thead>\n",
       "    <tr style=\"text-align: right;\">\n",
       "      <th></th>\n",
       "      <th>Item Name</th>\n",
       "    </tr>\n",
       "  </thead>\n",
       "  <tbody>\n",
       "    <tr>\n",
       "      <th>439</th>\n",
       "      <td>تيوب المنيوم مستطيل 20*80*1.30 ملي 6 متر</td>\n",
       "    </tr>\n",
       "    <tr>\n",
       "      <th>743</th>\n",
       "      <td>كيس مادة</td>\n",
       "    </tr>\n",
       "    <tr>\n",
       "      <th>901</th>\n",
       "      <td>GATE BARIAR PANEL2</td>\n",
       "    </tr>\n",
       "    <tr>\n",
       "      <th>1563</th>\n",
       "      <td>ﺻ ﺎ ﺝ ﺍ ﺳ و د 10 ﻣ ﻝ 8 * 4 ﻣ ﺗ</td>\n",
       "    </tr>\n",
       "  </tbody>\n",
       "</table>\n",
       "</div>"
      ],
      "text/plain": [
       "                                     Item Name\n",
       "439   تيوب المنيوم مستطيل 20*80*1.30 ملي 6 متر\n",
       "743                                   كيس مادة\n",
       "901                         GATE BARIAR PANEL2\n",
       "1563            ﺻ ﺎ ﺝ ﺍ ﺳ و د 10 ﻣ ﻝ 8 * 4 ﻣ ﺗ"
      ]
     },
     "execution_count": 87,
     "metadata": {},
     "output_type": "execute_result"
    }
   ],
   "source": [
    "# Let's see the results - yes I noticed some entries are split (like 1563) which really gave me a headache trying to solve lol\n",
    "df.iloc[[439, 743, 901, 1563]]"
   ]
  },
  {
   "cell_type": "markdown",
   "id": "3766bc53",
   "metadata": {},
   "source": [
    "### Word level normalization and lemmatization"
   ]
  },
  {
   "cell_type": "code",
   "execution_count": 88,
   "id": "96e0704a",
   "metadata": {},
   "outputs": [],
   "source": [
    "# Cell for lists of dimension/units, protected words, and AR stop words\n",
    "# List 1: English unit tokens (lowercase; include singular/plural + common abbrevs)\n",
    "UNIT_TOKENS_EN = {\n",
    "    \"x\",\n",
    "    # length\n",
    "    \"mm\",\"millimeter\",\"millimeters\",\"millimetre\",\"millimetres\",\n",
    "    \"cm\",\"centimeter\",\"centimeters\",\"centimetre\",\"centimetres\",\n",
    "    \"m\",\"meter\",\"meters\",\"metre\",\"metres\", \"mtr\", \"unit\",\n",
    "    \"km\",\"kilometer\",\"kilometers\",\"kilometre\",\"kilometres\",\n",
    "    \"in\",\"inch\",\"inches\",\n",
    "    \"ft\",\"foot\",\"feet\",\n",
    "    \"yd\",\"yard\",\"yards\",\n",
    "    \"mi\",\"mile\",\"miles\",\n",
    "    # mass\n",
    "    \"g\",\"gram\",\"grams\",\"gramme\",\"grammes\",\n",
    "    \"mg\",\"milligram\",\"milligrams\",\"milligramme\",\"milligrammes\",\n",
    "    \"kg\",\"kilogram\",\"kilograms\",\"kilogramme\",\"kilogrammes\",\n",
    "    \"t\",\"ton\",\"tons\",\"tonne\",\"tonnes\",\n",
    "    \"oz\",\"ounce\",\"ounces\",\n",
    "    \"lb\",\"lbs\",\"pound\",\"pounds\",\"st\",\"stone\",\"stones\",\n",
    "    # volume\n",
    "    \"l\",\"liter\",\"liters\",\"litre\",\"litres\",\n",
    "    \"ml\",\"milliliter\",\"milliliters\",\"millilitre\",\"millilitres\",\n",
    "    \"cl\",\"centiliter\",\"centiliters\",\"centilitre\",\"centilitres\",\n",
    "    \"dl\",\"deciliter\",\"deciliters\",\"decilitre\",\"decilitres\",\n",
    "    \"cc\"\n",
    "}\n",
    "\n",
    "# List 2: Arabic unit tokens (normalized, no spaces)\n",
    "UNIT_TOKENS_AR = {\n",
    "    # length\n",
    "    \"مم\",\"ملم\",\"مليمتر\",\"مليمترات\",\"ملليمتر\",\"ملليمترات\",\n",
    "    \"سم\",\"سنتمتر\",\"سنتيمتر\",\"سنتيمترات\",\"سنتمترات\",\n",
    "    \"م\",\"متر\",\"أمتار\", \"مت\"\n",
    "    \"كم\",\"كلم\",\"كيلومتر\",\"كيلومترات\",\n",
    "    \"إنش\",\"انش\",\"بوصة\",\"بوصات\",\n",
    "    \"قدم\",\"أقدام\",\n",
    "    \"ياردة\",\"ياردات\",\n",
    "    \"ميل\",\"أميال\",\n",
    "    # mass\n",
    "    \"غ\",\"جم\",\"جرام\",\"جرامات\",\"غرام\",\"غرامات\",\n",
    "    \"ملغ\",\"مغ\",\"مجم\",\"ميليغرام\",\"ميليجرام\",\"ميليغرامات\",\"ميليجرامات\",\"مليغرام\",\"مليجرام\",\n",
    "    \"كغ\",\"كجم\",\"كيلوغرام\",\"كيلوجرام\",\"كيلوغرامات\",\"كيلوجرامات\",\"كيلو\",\n",
    "    \"طن\",\"أطنان\",\n",
    "    \"أونصة\",\"أونصات\",\"اوقية\",\"أوقية\",\"أوقيات\",\n",
    "    \"رطل\",\"أرطال\",\n",
    "    # volume\n",
    "    \"لتر\",\"لترات\",\n",
    "    \"ملي\",\"مل\",\"ميليلتر\",\"مليلتر\",\"ميليلترات\",\"مليلترات\",\n",
    "    \"سنتيلتر\",\"سنتيلترات\",\"ديسيلتر\",\"ديسيلترات\",\n",
    "    # keywords\n",
    "    'مقاس', 'سماكه', 'طول'\n",
    "}\n",
    "UNIT_TOKENS_AR = [normalize_text(t) for t in UNIT_TOKENS_AR]\n",
    "\n",
    "protected_words = [\"سابك\"]\n",
    "\n",
    "with open('../assets/AR_stop_words.txt', encoding='utf-8') as f:\n",
    "    AR_STOP = set(normalize_text(line.strip()) for line in f if line.strip())"
   ]
  },
  {
   "cell_type": "code",
   "execution_count": 89,
   "id": "0f8b0533",
   "metadata": {},
   "outputs": [],
   "source": [
    "# Disambiguator and Morphological Tokenizer modules from CAMel-Tools to help with normalizion and lemmatization\n",
    "mle = MLEDisambiguator.pretrained('calima-msa-r13')\n",
    "tokenizer = MorphologicalTokenizer(disambiguator=mle, scheme='d3tok', split=True, diac=False)"
   ]
  },
  {
   "cell_type": "code",
   "execution_count": 90,
   "id": "f99719ba",
   "metadata": {},
   "outputs": [],
   "source": [
    "# Now we'll normalize the text further to ensure we only have Arabic and English characters\n",
    "\n",
    "def is_arabic_char(c: str) -> bool:\n",
    "    return '\\u0600' <= c <= '\\u06FF'\n",
    "\n",
    "def is_english_char(c: str) -> bool:\n",
    "    return c.isascii() and c.isalpha()\n",
    "\n",
    "def keep_arabic_english_only(c: str) -> str:\n",
    "    if (is_arabic_char(c) or is_english_char(c)) and not c.isdigit():\n",
    "        return c\n",
    "    return \" \"  # replace everything else with space\n",
    "\n",
    "def preprocess_text(text, no_disjointed=True):\n",
    "    # 1) Normalize unicode text\n",
    "    text = normalize_text(text)\n",
    "\n",
    "    # 2) Keep only Arabic + English + replace others with spaces\n",
    "    text = ''.join(keep_arabic_english_only(c) for c in text)\n",
    "    \n",
    "    # 3) Split on whitespace\n",
    "    tokens = text.split()\n",
    "\n",
    "    # 4) Extra cleaning steps for lexicon\n",
    "    if no_disjointed:\n",
    "        # 4.1) Remove dimensions/units/fillers for lexicon\n",
    "        tokens = [t for t in tokens if t.lower() not in UNIT_TOKENS_EN and \\\n",
    "                   t not in UNIT_TOKENS_AR and t not in AR_STOP and t not in ENGLISH_STOP_WORDS]\n",
    "    \n",
    "        # 4.2) Lemmatize and remove clitics for lexicon\n",
    "        tokens = [t if t in protected_words else ''.join(normalize_text(p) for p in tokenizer.tokenize([t]) if '+' not in p) \n",
    "          for t in tokens]\n",
    "    \n",
    "        # 4.3) Drop single-letter tokens, and deduplicate within the row for lexicon\n",
    "        tokens = [t for t in tokens if len(t) > 1 and len(set(t)) > 1]\n",
    "        seen = set()\n",
    "        tokens = [t for t in tokens if not (t in seen or seen.add(t))]\n",
    "        return ' '.join(tokens)\n",
    "    \n",
    "    # 5) Or retain only the disjointed letters to glue back later\n",
    "    else:\n",
    "        tokens = [t for t in tokens if len(t) == 1]\n",
    "        return ''.join(tokens)"
   ]
  },
  {
   "cell_type": "code",
   "execution_count": 190,
   "id": "69d289a5",
   "metadata": {},
   "outputs": [
    {
     "name": "stdout",
     "output_type": "stream",
     "text": [
      "Before normalization: سماكه حديد تسليح مجدول السعودي سابك 12 مم * 12 م المخططات with\n",
      "After normalization: حديد تسليح مجدول سعودي سابك مخططات\n",
      "-----------------\n",
      "Disjoint - before: ﺣ ﺪ ﻳ ﺪ ﻣ ﺠ ﺪ ﻭ ﻝ ﺳ ﺎ ﺑ ﻚ 12 ﻣ ﻠ ﻢ * 12 ﻣ ﺘ ﺮ - ﺳ ﻌ ﻮ ﺩ ﻱ\n",
      "Disjoint - after: \n"
     ]
    }
   ],
   "source": [
    "# Some tests to see the results of normalization\n",
    "text_test1 = \"سماكه حديد تسليح مجدول السعودي سابك 12 مم * 12 م المخططات with\"\n",
    "print(\"Before normalization:\", text_test1)\n",
    "print(\"After normalization:\", preprocess_text(text_test1))\n",
    "\n",
    "print(\"-----------------\")\n",
    "\n",
    "text_test2 = \"ﺣ ﺪ ﻳ ﺪ ﻣ ﺠ ﺪ ﻭ ﻝ ﺳ ﺎ ﺑ ﻚ 12 ﻣ ﻠ ﻢ * 12 ﻣ ﺘ ﺮ - ﺳ ﻌ ﻮ ﺩ ﻱ\"\n",
    "print(\"Disjoint - before:\", text_test2)\n",
    "print(\"Disjoint - after:\", preprocess_text(text_test2, no_disjointed=False))"
   ]
  },
  {
   "cell_type": "markdown",
   "id": "93d646b1",
   "metadata": {},
   "source": [
    "#### Normalized and Disjointed cols created"
   ]
  },
  {
   "cell_type": "code",
   "execution_count": 92,
   "id": "00c9b891",
   "metadata": {},
   "outputs": [],
   "source": [
    "df[\"Normalized\"] = '' # Default to ''\n",
    "df[\"Normalized\"] = (df[\"Item Name\"].apply(preprocess_text, no_disjointed=True)).str.strip()\n",
    "\n",
    "# Disjointed cols is only concerned with Arabic rows where the normalization wasn't fruitful (i.e. disjointed letters)\n",
    "df[\"Disjointed\"] = ''\n",
    "mask = (df[\"Normalized\"] == '') & ~df[\"Item Name\"].apply(lambda s: all(is_english_char(c) for c in str(s) if c.isalpha()))\n",
    "df.loc[mask, \"Disjointed\"] = df.loc[mask, \"Item Name\"].apply(\n",
    "    preprocess_text, no_disjointed=False \n",
    ").str.strip()"
   ]
  },
  {
   "cell_type": "code",
   "execution_count": 93,
   "id": "f5581bfd",
   "metadata": {},
   "outputs": [
    {
     "data": {
      "text/html": [
       "<div>\n",
       "<style scoped>\n",
       "    .dataframe tbody tr th:only-of-type {\n",
       "        vertical-align: middle;\n",
       "    }\n",
       "\n",
       "    .dataframe tbody tr th {\n",
       "        vertical-align: top;\n",
       "    }\n",
       "\n",
       "    .dataframe thead th {\n",
       "        text-align: right;\n",
       "    }\n",
       "</style>\n",
       "<table border=\"1\" class=\"dataframe\">\n",
       "  <thead>\n",
       "    <tr style=\"text-align: right;\">\n",
       "      <th></th>\n",
       "      <th>Item Name</th>\n",
       "      <th>Normalized</th>\n",
       "      <th>Disjointed</th>\n",
       "    </tr>\n",
       "  </thead>\n",
       "  <tbody>\n",
       "    <tr>\n",
       "      <th>439</th>\n",
       "      <td>تيوب المنيوم مستطيل 20*80*1.30 ملي 6 متر</td>\n",
       "      <td>تيوب المنيوم مستطيل</td>\n",
       "      <td></td>\n",
       "    </tr>\n",
       "    <tr>\n",
       "      <th>743</th>\n",
       "      <td>كيس مادة</td>\n",
       "      <td>كيس ماده</td>\n",
       "      <td></td>\n",
       "    </tr>\n",
       "    <tr>\n",
       "      <th>901</th>\n",
       "      <td>GATE BARIAR PANEL2</td>\n",
       "      <td>gate bariar panel</td>\n",
       "      <td></td>\n",
       "    </tr>\n",
       "    <tr>\n",
       "      <th>1563</th>\n",
       "      <td>ﺻ ﺎ ﺝ ﺍ ﺳ و د 10 ﻣ ﻝ 8 * 4 ﻣ ﺗ</td>\n",
       "      <td></td>\n",
       "      <td>صاجاسودملمت</td>\n",
       "    </tr>\n",
       "  </tbody>\n",
       "</table>\n",
       "</div>"
      ],
      "text/plain": [
       "                                     Item Name           Normalized  \\\n",
       "439   تيوب المنيوم مستطيل 20*80*1.30 ملي 6 متر  تيوب المنيوم مستطيل   \n",
       "743                                   كيس مادة             كيس ماده   \n",
       "901                         GATE BARIAR PANEL2    gate bariar panel   \n",
       "1563            ﺻ ﺎ ﺝ ﺍ ﺳ و د 10 ﻣ ﻝ 8 * 4 ﻣ ﺗ                        \n",
       "\n",
       "       Disjointed  \n",
       "439                \n",
       "743                \n",
       "901                \n",
       "1563  صاجاسودملمت  "
      ]
     },
     "execution_count": 93,
     "metadata": {},
     "output_type": "execute_result"
    }
   ],
   "source": [
    "df.iloc[[439, 743, 901, 1563]]"
   ]
  },
  {
   "cell_type": "markdown",
   "id": "02ec405f",
   "metadata": {},
   "source": [
    "Good, now we have normalized Arabic and English words, but also the disjointed chars are saved for later"
   ]
  },
  {
   "cell_type": "markdown",
   "id": "c359f323",
   "metadata": {},
   "source": [
    "## Arabic lexicon"
   ]
  },
  {
   "cell_type": "markdown",
   "id": "5f2e0bc6",
   "metadata": {},
   "source": [
    "### Create lexicon"
   ]
  },
  {
   "cell_type": "code",
   "execution_count": 94,
   "id": "7d1df175",
   "metadata": {},
   "outputs": [],
   "source": [
    "corpus = df['Normalized']\n",
    "tokens = [simple_word_tokenize(text) for text in corpus]"
   ]
  },
  {
   "cell_type": "code",
   "execution_count": 95,
   "id": "9a06ccdf",
   "metadata": {},
   "outputs": [
    {
     "data": {
      "text/plain": [
       "3150"
      ]
     },
     "execution_count": 95,
     "metadata": {},
     "output_type": "execute_result"
    }
   ],
   "source": [
    "len(tokens)"
   ]
  },
  {
   "cell_type": "code",
   "execution_count": 96,
   "id": "385fb75e",
   "metadata": {},
   "outputs": [],
   "source": [
    "# Lexicon is in Arabic, so we'll remove english for now\n",
    "def is_arabic(token):\n",
    "    return bool(re.search(r'[\\u0600-\\u06FF]', token))\n",
    "\n",
    "arabic_tokens = [tok for row in tokens for tok in row if is_arabic(tok)]\n",
    "lexicon = Counter(arabic_tokens)"
   ]
  },
  {
   "cell_type": "code",
   "execution_count": 97,
   "id": "a615cdec",
   "metadata": {},
   "outputs": [
    {
     "data": {
      "text/plain": [
       "646"
      ]
     },
     "execution_count": 97,
     "metadata": {},
     "output_type": "execute_result"
    }
   ],
   "source": [
    "# How many words did we get?\n",
    "lexicon.__len__()"
   ]
  },
  {
   "cell_type": "code",
   "execution_count": 98,
   "id": "103d60f3",
   "metadata": {},
   "outputs": [
    {
     "data": {
      "text/plain": [
       "[('حديد', 564),\n",
       " ('تسليح', 316),\n",
       " ('سابك', 212),\n",
       " ('اسود', 142),\n",
       " ('صاج', 126),\n",
       " ('اتفاق', 90),\n",
       " ('ماسوره', 73),\n",
       " ('وطني', 58),\n",
       " ('سلك', 54),\n",
       " ('سعودي', 53),\n",
       " ('توريد', 46),\n",
       " ('مجدول', 40),\n",
       " ('راجحي', 38),\n",
       " ('ويل', 33),\n",
       " ('كيبل', 32),\n",
       " ('سويدي', 29),\n",
       " ('مسحوب', 25),\n",
       " ('مجلفن', 25),\n",
       " ('املس', 21),\n",
       " ('الواح', 20)]"
      ]
     },
     "execution_count": 98,
     "metadata": {},
     "output_type": "execute_result"
    }
   ],
   "source": [
    "# Let's quickly check the most frequent words used\n",
    "lexicon.most_common(20)"
   ]
  },
  {
   "cell_type": "markdown",
   "id": "1e046412",
   "metadata": {},
   "source": [
    "### Analyze lexicons' word frequency"
   ]
  },
  {
   "cell_type": "code",
   "execution_count": 99,
   "id": "da56771d",
   "metadata": {},
   "outputs": [
    {
     "data": {
      "image/png": "[encoded data removed]",
      "text/plain": [
       "<Figure size 1600x1000 with 4 Axes>"
      ]
     },
     "metadata": {},
     "output_type": "display_data"
    }
   ],
   "source": [
    "import numpy as np\n",
    "import matplotlib.pyplot as plt\n",
    "\n",
    "# Sort frequencies descending\n",
    "freqs_sorted = np.array(sorted(lexicon.values(), reverse=True))\n",
    "ranks = np.arange(1, len(freqs_sorted) + 1)\n",
    "\n",
    "# -- precompute percentile buckets (by rank)\n",
    "N = len(freqs_sorted)\n",
    "pct_edges = [0, 10, 20, 50, 80, 90, 100]  # buckets: Top10, 10–20, 20–50, 50–80, 80–90, 90–100 (tail)\n",
    "idx_edges = [int(np.floor(p/100 * N)) for p in pct_edges]\n",
    "labels = [f\"Top {pct_edges[1]}%\"] + [f\"{pct_edges[i]}–{pct_edges[i+1]}%\" for i in range(1, len(pct_edges)-1)]\n",
    "\n",
    "bucket_counts = []\n",
    "bucket_mass_share = []\n",
    "total_mass = freqs_sorted.sum()\n",
    "for i in range(len(idx_edges)-1):\n",
    "    lo, hi = idx_edges[i], idx_edges[i+1]\n",
    "    cnt = max(hi - lo, 0)\n",
    "    bucket_counts.append(cnt)\n",
    "    mass = freqs_sorted[lo:hi].sum() if cnt > 0 else 0\n",
    "    bucket_mass_share.append(100.0 * mass / total_mass if total_mass > 0 else 0.0)\n",
    "\n",
    "# --- length histogram (1-char, 2-char, 3-char, ...) weighted by frequency\n",
    "length_mass = {}\n",
    "for token, c in lexicon.items():\n",
    "    L = len(token)\n",
    "    length_mass[L] = length_mass.get(L, 0) + c\n",
    "lengths = np.array(sorted(length_mass.keys()))\n",
    "length_counts = np.array([length_mass[L] for L in lengths])\n",
    "\n",
    "# ---- 2x2 layout\n",
    "fig, axes = plt.subplots(2, 2, figsize=(16, 10))\n",
    "\n",
    "# 1) Simple scatter plot (rank vs frequency)\n",
    "axes[0, 0].scatter(ranks, freqs_sorted, s=20)\n",
    "axes[0, 0].set_xlabel(\"Rank\")\n",
    "axes[0, 0].set_ylabel(\"Frequency\")\n",
    "axes[0, 0].set_title(\"Word Frequency vs. Rank\")\n",
    "axes[0, 0].grid(True)\n",
    "\n",
    "# 2) Zipf's Law (log-log)\n",
    "axes[0, 1].scatter(ranks, freqs_sorted, s=20)\n",
    "axes[0, 1].set_xscale(\"log\")\n",
    "axes[0, 1].set_yscale(\"log\")\n",
    "axes[0, 1].set_xlabel(\"Rank (log)\")\n",
    "axes[0, 1].set_ylabel(\"Frequency (log)\")\n",
    "axes[0, 1].set_title(\"Word Frequency Distribution (Zipf's Law)\")\n",
    "axes[0, 1].grid(True)\n",
    "\n",
    "# 3) Percentile bucket counts\n",
    "x = np.arange(len(labels))\n",
    "axes[1, 0].bar(x, bucket_counts)\n",
    "axes[1, 0].set_xticks(x)\n",
    "axes[1, 0].set_xticklabels(labels, rotation=30, ha=\"right\")\n",
    "axes[1, 0].set_ylabel(\"Token Count\")\n",
    "axes[1, 0].set_title(\"Counts by Frequency Percentile Buckets\")\n",
    "axes[1, 0].grid(True, axis=\"y\")\n",
    "# annotate each bar with its mass share\n",
    "for i, (xc, cnt, mass_pct) in enumerate(zip(x, bucket_counts, bucket_mass_share)):\n",
    "    if cnt > 0:\n",
    "        axes[1, 0].text(xc, cnt, f\"{mass_pct:.1f}%\", ha=\"center\", va=\"bottom\")\n",
    "\n",
    "# 4) Length histogram (frequency-weighted)\n",
    "axes[1, 1].bar(lengths, length_counts, width=0.8)\n",
    "axes[1, 1].set_xticks(lengths)\n",
    "axes[1, 1].set_xlabel(\"Token Length (# of characters)\")\n",
    "axes[1, 1].set_ylabel(\"Total Frequency\")\n",
    "axes[1, 1].set_title(\"Frequency Mass by Token Length\")\n",
    "axes[1, 1].grid(True, axis=\"y\")\n",
    "\n",
    "plt.tight_layout()\n",
    "plt.show()\n"
   ]
  },
  {
   "cell_type": "markdown",
   "id": "99f74442",
   "metadata": {},
   "source": [
    "#### **Plots 1 & 2**\n",
    "\n",
    "This might be an extreme case of Zipf's law, but the frequency of the word is strongly inversely related to its rank\n",
    "\n",
    "Nonetheless, when reconstructing the words from the disjoint words, we'll ensure that we give more frequent words more weight, sort of a probabilistic approach. The priors being the frequency of the term in the lexicon relative to the other terms.\n",
    "\n",
    "#### **Plot 3**\n",
    "\n",
    "The top 10% most frequent tokens appear in 67.6% of the normalized corpus. Whereas the bottom 30% tokens appear in less than 10% of the corpus. To be cautious but also remove things that are less frequent, we'll remove the buttome 10% of tokens. "
   ]
  },
  {
   "cell_type": "code",
   "execution_count": 100,
   "id": "4c4e9386",
   "metadata": {},
   "outputs": [
    {
     "name": "stdout",
     "output_type": "stream",
     "text": [
      "Bottom 10% tokens by rank (capped at 15 tokens):\n",
      "مبسط: 1\n",
      "برونزالفاء: 1\n",
      "اماراتي: 1\n",
      "هان: 1\n",
      "رويال: 1\n",
      "حليب: 1\n",
      "سوبر: 1\n",
      "سمارت: 1\n",
      "ريمون: 1\n",
      "موديل: 1\n",
      "برنزالفاء: 1\n",
      "سيليكون: 1\n",
      "اكر: 1\n",
      "طبشه: 1\n",
      "درفه: 1\n"
     ]
    }
   ],
   "source": [
    "# Just to be sure let's see some of those buttom 10%\n",
    "items_sorted = sorted(lexicon.items(), key=lambda x: x[1])  \n",
    "N = len(items_sorted)\n",
    "\n",
    "# Bottom 10% by rank\n",
    "pct = 10\n",
    "cutoff_idx = min(int(np.ceil(pct / 100 * N)), 15)\n",
    "bottom_10 = items_sorted[:cutoff_idx]\n",
    "\n",
    "print(f\"Bottom {pct}% tokens by rank (capped at 15 tokens):\")\n",
    "for token, freq in bottom_10:\n",
    "    print(f\"{token}: {freq}\")"
   ]
  },
  {
   "cell_type": "markdown",
   "id": "109e2867",
   "metadata": {},
   "source": [
    "The words appear to be meaningful, so we'll not drop any."
   ]
  },
  {
   "cell_type": "markdown",
   "id": "f0bef861",
   "metadata": {},
   "source": [
    "#### **Plot 4**\n",
    "\n",
    "Most words fall within 3 and 7 characters. Let's see some examples of the extremes at 2 chars and >=9 chars long:"
   ]
  },
  {
   "cell_type": "code",
   "execution_count": 101,
   "id": "da4ccead",
   "metadata": {},
   "outputs": [
    {
     "data": {
      "text/plain": [
       "{'رش': 4,\n",
       " 'شب': 9,\n",
       " 'دن': 1,\n",
       " 'حر': 11,\n",
       " 'سد': 8,\n",
       " 'اي': 5,\n",
       " 'لب': 3,\n",
       " 'خط': 1,\n",
       " 'حب': 1,\n",
       " 'كل': 1,\n",
       " 'يا': 1,\n",
       " 'ات': 11,\n",
       " 'تر': 1,\n",
       " 'جد': 3,\n",
       " 'يد': 2,\n",
       " 'ين': 1,\n",
       " 'نص': 1,\n",
       " 'يخ': 5,\n",
       " 'جي': 1,\n",
       " 'دي': 2,\n",
       " 'شر': 1,\n",
       " 'ال': 1,\n",
       " 'خا': 1,\n",
       " 'قص': 5,\n",
       " 'سن': 1,\n",
       " 'صب': 1,\n",
       " 'مت': 2}"
      ]
     },
     "execution_count": 101,
     "metadata": {},
     "output_type": "execute_result"
    }
   ],
   "source": [
    "{k: v for k, v in lexicon.items() if len(k) == 2}"
   ]
  },
  {
   "cell_type": "code",
   "execution_count": 102,
   "id": "e2afbcbe",
   "metadata": {},
   "outputs": [
    {
     "data": {
      "text/plain": [
       "{'برونزالفاء': 1,\n",
       " 'برنزالفاء': 1,\n",
       " 'المستعماره': 2,\n",
       " 'بوصهبلاستيك': 1,\n",
       " 'اكسسوارات': 8,\n",
       " 'الخرسانيه': 17,\n",
       " 'الابعادpanel': 8,\n",
       " 'والقسامات': 1,\n",
       " 'واالكسسوارات': 1,\n",
       " 'ايزوبروبيل': 1,\n",
       " 'حديدتسليح': 4,\n",
       " 'استتواريو': 1}"
      ]
     },
     "execution_count": 102,
     "metadata": {},
     "output_type": "execute_result"
    }
   ],
   "source": [
    "{k: v for k, v in lexicon.items() if len(k) >= 9}"
   ]
  },
  {
   "cell_type": "markdown",
   "id": "fa65af75",
   "metadata": {},
   "source": [
    "There is a mix between words that are uninterpretable and ones that are not. Unfortunately this may be a byproduct of the CAMel-tools tokenizer-disambiguator combo, which was our only efficient hope of normalizing and lemmatizing the tokens. Hence, this approach will suffice for now. More efforts could be shed on improving the normalization phase so we can further optimize the lexicon.\n",
    "\n",
    "**Note:** I'll manually clean these tokens to improve our lexicon."
   ]
  },
  {
   "cell_type": "markdown",
   "id": "724a63d9",
   "metadata": {},
   "source": [
    "### Manual cleaning of edge cases in lexicon"
   ]
  },
  {
   "cell_type": "code",
   "execution_count": 103,
   "id": "f443161b",
   "metadata": {},
   "outputs": [
    {
     "data": {
      "text/plain": [
       "{'رش': 4,\n",
       " 'سد': 8,\n",
       " 'اكسسوارات': 9,\n",
       " 'الخرسانيه': 17,\n",
       " 'خط': 1,\n",
       " 'ايزوبروبيل': 1,\n",
       " 'قص': 5,\n",
       " 'صب': 1}"
      ]
     },
     "execution_count": 103,
     "metadata": {},
     "output_type": "execute_result"
    }
   ],
   "source": [
    "# Extract and remove tokens surgically\n",
    "extract_map = {\n",
    "    'الابعادpanel': ['الابعاد', 'panel'],\n",
    "    'بوصهبلاستيك': ['بلاستيك'],\n",
    "    'واالكسسوارات': ['اكسسوارات'],\n",
    "    'برونزالفاء': ['برونز'],\n",
    "    'برنزالفاء': ['برونز'],\n",
    "    'والقسامات': ['قسامات'],\n",
    "    'حديدتسليح': ['حديد','تسليح'],\n",
    "}\n",
    "\n",
    "# Apply extractions\n",
    "for src, parts in extract_map.items():\n",
    "    if src in lexicon:\n",
    "        for p in parts:\n",
    "            p = preprocess_text(p)\n",
    "            if p in lexicon:\n",
    "                lexicon[p] += 1\n",
    "            else:\n",
    "                lexicon[p] = 1\n",
    "        lexicon.pop(src, None)\n",
    "\n",
    "remove_words = {\n",
    "    'شب','دن','حر','اي','لب','حب','كل','يا','ات','تر','جد','يد','ين','يخ','جي','دي','شر','ال','خا','سن','مت', 'نص',\n",
    "    'استتواريو', 'المستعماره'\n",
    "}\n",
    "\n",
    "for bad in remove_words:\n",
    "    lexicon.pop(bad, None)\n",
    "\n",
    "{k: v for k, v in lexicon.items() if len(k) >= 9 or len(k) == 2}"
   ]
  },
  {
   "cell_type": "code",
   "execution_count": 104,
   "id": "833c0c86",
   "metadata": {},
   "outputs": [
    {
     "data": {
      "text/plain": [
       "9"
      ]
     },
     "execution_count": 104,
     "metadata": {},
     "output_type": "execute_result"
    }
   ],
   "source": [
    "lexicon.get(preprocess_text(\"الابعاد\"))"
   ]
  },
  {
   "cell_type": "code",
   "execution_count": 105,
   "id": "d0cb8c66",
   "metadata": {},
   "outputs": [],
   "source": [
    "# Let's not forget to clean the normalized column based on our manual work above\n",
    "\n",
    "# 1) Build replacement strings from extract_map\n",
    "replacement_map = {k: \" \".join(v).strip() for k, v in extract_map.items()}\n",
    "\n",
    "# 2) Compile regex to catch keys, sorted by length to avoid partial collisions\n",
    "keys = sorted(replacement_map.keys(), key=len, reverse=True)\n",
    "pattern = re.compile(\"|\".join(map(re.escape, keys)))\n",
    "\n",
    "# 3) Set of removable words\n",
    "remove_words_set = set(remove_words)\n",
    "\n",
    "def normalize_text(s):\n",
    "    if not isinstance(s, str):\n",
    "        return s\n",
    "    \n",
    "    # --- substring replacements ---\n",
    "    out = pattern.sub(lambda m: replacement_map[m.group(0)], s)\n",
    "    \n",
    "    # --- word removals ---\n",
    "    tokens = out.split()\n",
    "    kept = [t for t in tokens if t not in remove_words_set]\n",
    "    \n",
    "    if not kept:  # everything removed\n",
    "        return \"unknown\"\n",
    "    \n",
    "    # --- finalize ---\n",
    "    out = \" \".join(kept)\n",
    "    out = re.sub(r\"\\s+\", \" \", out).strip()\n",
    "    return out\n",
    "\n",
    "df[\"Normalized\"] = df[\"Normalized\"].apply(normalize_text)"
   ]
  },
  {
   "cell_type": "markdown",
   "id": "2f870f46",
   "metadata": {},
   "source": [
    "## Combine disjointed letters\n",
    "Combining the letters based on the lexicon is only one half of the solution, the harder part is understanding the boundaries of words where letters are disjointed and ambiguous."
   ]
  },
  {
   "cell_type": "markdown",
   "id": "fc1cae8d",
   "metadata": {},
   "source": [
    "### Research findings\n"
   ]
  },
  {
   "cell_type": "markdown",
   "id": "38f32f39",
   "metadata": {},
   "source": [
    "This problem could be cut in three parts:\n",
    "1. Find unigram probability for each lexicon entry\n",
    "    - We don't have a large enough corpus to use ngrams, plus we don't know the boundaries of words\n",
    "2. Create a Trie data structure from the lexicon\n",
    "3. Traverse the Trie and determine the word with most likelihood\n",
    "    - We could go about the traversal using a greedy approach, which means looking at each word in the sentence alone, but I've decided to follow a better approach (Viterbi algo.) which looks at how the words fit in a sentance"
   ]
  },
  {
   "cell_type": "markdown",
   "id": "3c6fd493",
   "metadata": {},
   "source": [
    "### ***Trie and Viterbi Segment technique***"
   ]
  },
  {
   "cell_type": "markdown",
   "id": "5546ddc4",
   "metadata": {},
   "source": [
    "#### Algorithm"
   ]
  },
  {
   "cell_type": "code",
   "execution_count": 106,
   "id": "8062e44f",
   "metadata": {},
   "outputs": [],
   "source": [
    "# Node definition for the Trie\n",
    "class TrieNode: \n",
    "    __slots__ = (\"ch\",\"end\",\"logp\")\n",
    "    def __init__(self):\n",
    "        self.ch = {} # Children nodes dictionary\n",
    "        self.end = False # Boolean: node marks a word's end\n",
    "        self.logp = float(\"-inf\") # Likelihood for this word, only relevant if end is True \n",
    "\n",
    "# Trie structure to hold the lexicon\n",
    "class Trie:\n",
    "    def __init__(self):\n",
    "        self.root = TrieNode()\n",
    "    def insert(self, word, logp): # Insert a node in the Trie\n",
    "        node = self.root\n",
    "        for c in word:\n",
    "            node = node.ch.setdefault(c, TrieNode()) # If there's a node for c return it, else create a new node for c\n",
    "        node.end = True\n",
    "        node.logp = logp\n",
    "    def in_trie_prefix(self, s): # Checks if the string/word is in our Trie\n",
    "        node = self.root\n",
    "        for ch in s:\n",
    "            if ch not in node.ch:\n",
    "                return False\n",
    "            node = node.ch[ch]\n",
    "        return node.end\n",
    "\n",
    "# The blueprint to creating the Trie DS\n",
    "def build_trie_from_counts(counts, alpha=0.0):\n",
    "    # counts: dict[word] -> int\n",
    "    V = len(counts) # Vocabulary size\n",
    "    Z = sum(counts.values()) + alpha * V # Denominator = N_train (total no. of words) + weighted V\n",
    "    T = Trie()\n",
    "    for w, c in counts.items():\n",
    "        p = (c + alpha) / Z\n",
    "        T.insert(w, log(p))\n",
    "    return T\n",
    "\n",
    "def viterbi_segment(chars, trie, del_char_logp=log(6.7e-3)): # ≈ -5.00\n",
    "    \"\"\"chars: e.g. 'catsanddog' (spaces removed). Returns words and score.\"\"\"\n",
    "\n",
    "    if chars == \"\":\n",
    "        return \"\", 1\n",
    "    \n",
    "    n = len(chars)\n",
    "    best = [float(\"-inf\")] * (n + 1)\n",
    "    back = [None] * (n + 1) # (end of word index for word starting at i: int, start of a word: boolean)\n",
    "    best[n] = 0.0  # empty suffix has score 0\n",
    "\n",
    "    # This loop begins at the end of the sentence, to evaluate all possible word formations taking into account the entire sentence\n",
    "    for i in range(n - 1, -1, -1): \n",
    "        node = trie.root\n",
    "        j = i\n",
    "        while j < n and chars[j] in node.ch: # Check if the char exists in the children of the current node\n",
    "            node = node.ch[chars[j]] # Look at the branch associated with chars[j]\n",
    "            j += 1\n",
    "            if node.end: # If chars[i:j] completes a word, then step in\n",
    "                cand = node.logp + best[j] # The core of the Viterbi DP; considers likelihood of chars[i:j] and even chars[j:] \n",
    "                if cand > best[i]:\n",
    "                    best[i] = cand\n",
    "                    back[i] = (j, True)\n",
    "        \n",
    "        # Mark char position as a skip when it doesn't form a word and propagate logp.\n",
    "        # This helps when the end of the sentence isn't found in lexicon/Trie.\n",
    "        # The del_char_logp is added to penalize skipping characters\n",
    "        cand_skip = best[i+1] + del_char_logp  \n",
    "        if cand_skip > best[i]:\n",
    "            best[i] = cand_skip\n",
    "            back[i] = (i+1, False)\n",
    "\n",
    "    # Reconstruct the words\n",
    "    words = []\n",
    "    i = 0\n",
    "    while i < n:\n",
    "        j, is_word = back[i]\n",
    "        if is_word: # i.e. character at i isn't marked as skip\n",
    "            words.append(chars[i:j])\n",
    "        i = j\n",
    "\n",
    "    \n",
    "    \n",
    "    if len(words) == 1: # Sometimes we'll only recognize one word; let's flag the case with 1\n",
    "        return words, 1\n",
    "    \n",
    "    elif not words: # In case we failed to construct any words; flag with 0\n",
    "        return \"unknown\", 0\n",
    "    \n",
    "    else: # We found a list of words; return the score (<0) and join by space later to reconstruct sentence\n",
    "        return words, best[0]"
   ]
  },
  {
   "cell_type": "markdown",
   "id": "f173c1b0",
   "metadata": {},
   "source": [
    "##### Notes (the key decisions in implementing the algorithm)\n"
   ]
  },
  {
   "cell_type": "markdown",
   "id": "0c8f91e4",
   "metadata": {},
   "source": [
    "- **Scoring**\n",
    "  \n",
    "  - Use natural-log probabilities: `node.logp = log p(w) ≤ 0`.  \n",
    "  - Base case: `best[n] = 0.0` (log 1). A fallback case when no words are found.\n",
    "\n",
    "- **Transitions at position i**\n",
    "  \n",
    "  - **Words:** for each trie end at `j`, candidate = `node.logp + best[j]`.  \n",
    "  - **Skip 1 char:** candidate = `best[i+1] + del_char_logp`. Always include it as a competitor (not just a fallback).\n",
    "\n",
    "- **Skip penalty**\n",
    "  \n",
    "  - Set `del_char_logp = log(p_del)` with `0 < p_del << 1` (same log base).  \n",
    "  - Example: `del_char_logp = log(6.7e-3) ≈ -5.0`.  \n",
    "\n",
    "- **Decision intuition (per-char threshold)**\n",
    "  \n",
    "  - Word of length `L` beats skipping those `L` chars iff  \n",
    "    `log P(w) > L * del_char_logp` ⇔ `(log P(w))/L > del_char_logp`.  \n",
    "  - So `del_char_logp` acts as a per-character quality threshold.\n",
    "\n",
    "- **Correction to earlier intuition**\n",
    "  \n",
    "  - Choosing a word at `[i:j)` does **not** force later scores below `best[j+1]`.  \n",
    "  - With a **negative** skip penalty, a strong word can outperform a run of skips by avoiding `L * |del_char_logp|`.\n",
    "\n",
    "- **Bias toward frequent words**\n",
    "  \n",
    "  - Already handled by larger (less negative) `log P(w)`.  \n",
    "  - Tune `del_char_logp` to trade off segmentation vs. deletions; already tried multiple hyperparamters."
   ]
  },
  {
   "cell_type": "markdown",
   "id": "1034bc4b",
   "metadata": {},
   "source": [
    "##### A few tests\n"
   ]
  },
  {
   "cell_type": "code",
   "execution_count": 107,
   "id": "cd8fed20",
   "metadata": {},
   "outputs": [
    {
     "name": "stdout",
     "output_type": "stream",
     "text": [
      "['cats', 'and', 'dog']\n"
     ]
    }
   ],
   "source": [
    "# Toy example\n",
    "counts = {\n",
    "    \"cat\": 40, \"cats\": 30, \"sand\": 5, \"and\": 20, \"an\": 25, \"dog\": 70\n",
    "}\n",
    "trie = build_trie_from_counts(counts, alpha=1.0)\n",
    "words, score = viterbi_segment(\"catsanddogfiller\", trie)\n",
    "print(words)  # e.g., ['cats', 'and', 'dog'] \n"
   ]
  },
  {
   "cell_type": "code",
   "execution_count": 108,
   "id": "1358a21b",
   "metadata": {},
   "outputs": [
    {
     "name": "stdout",
     "output_type": "stream",
     "text": [
      "صاجاسودملمت\n",
      "['صاج', 'اسود'] -26.945972962459084\n"
     ]
    }
   ],
   "source": [
    "# Examples from our data\n",
    "\n",
    "trie_ar = build_trie_from_counts(lexicon, alpha=1.0)\n",
    "words, score = viterbi_segment(df[\"Disjointed\"].iloc[1563], trie_ar)\n",
    "print(df[\"Disjointed\"].iloc[1563])\n",
    "print(words, score)"
   ]
  },
  {
   "cell_type": "code",
   "execution_count": 109,
   "id": "d69b4fbf",
   "metadata": {},
   "outputs": [
    {
     "name": "stdout",
     "output_type": "stream",
     "text": [
      "حديدمجدولاتفاقملممترسعود\n",
      "['حديد', 'مجدول', 'اتفاق'] -60.58907237768291\n"
     ]
    }
   ],
   "source": [
    "trie_ar = build_trie_from_counts(lexicon, alpha=1.0)\n",
    "words, score = viterbi_segment(df[\"Disjointed\"].iloc[2833], trie_ar)\n",
    "print(df[\"Disjointed\"].iloc[2833])\n",
    "print(words, score)"
   ]
  },
  {
   "cell_type": "code",
   "execution_count": 110,
   "id": "7d2ec67b",
   "metadata": {},
   "outputs": [
    {
     "name": "stdout",
     "output_type": "stream",
     "text": [
      "سماكه in trie? False\n"
     ]
    }
   ],
   "source": [
    "print(\"سماكه in trie?\", trie_ar.in_trie_prefix(\"سماكه\"))"
   ]
  },
  {
   "cell_type": "code",
   "execution_count": 111,
   "id": "8cb8bca4",
   "metadata": {},
   "outputs": [
    {
     "name": "stdout",
     "output_type": "stream",
     "text": [
      "مجدول in trie? True\n"
     ]
    }
   ],
   "source": [
    "print(\"مجدول in trie?\", trie_ar.in_trie_prefix(\"مجدول\"))"
   ]
  },
  {
   "cell_type": "markdown",
   "id": "84ad2d1a",
   "metadata": {},
   "source": [
    "### Rejoining the disjointed letters\n",
    "Now we can reconstruct the disjointed letters in the Item Name column"
   ]
  },
  {
   "cell_type": "code",
   "execution_count": 112,
   "id": "5582eb33",
   "metadata": {},
   "outputs": [],
   "source": [
    "def segment_and_join(text, trie):\n",
    "    words, score = viterbi_segment(text, trie)\n",
    "    \n",
    "    # Catch edge cases\n",
    "    if score == 0 or score == 1:\n",
    "        return words\n",
    "    \n",
    "    # Join words with spaces\n",
    "    else: \n",
    "        return \" \".join(words)"
   ]
  },
  {
   "cell_type": "markdown",
   "id": "b1172b56",
   "metadata": {},
   "source": [
    "#### Rejoined column created"
   ]
  },
  {
   "cell_type": "code",
   "execution_count": 113,
   "id": "16bfd38e",
   "metadata": {},
   "outputs": [],
   "source": [
    "df[\"Rejoined\"] = ''\n",
    "df[\"Rejoined\"] = (df[\"Disjointed\"].apply(lambda t: segment_and_join(t, trie_ar))).str.strip()"
   ]
  },
  {
   "cell_type": "code",
   "execution_count": 114,
   "id": "b8a89faa",
   "metadata": {},
   "outputs": [
    {
     "data": {
      "text/html": [
       "<div>\n",
       "<style scoped>\n",
       "    .dataframe tbody tr th:only-of-type {\n",
       "        vertical-align: middle;\n",
       "    }\n",
       "\n",
       "    .dataframe tbody tr th {\n",
       "        vertical-align: top;\n",
       "    }\n",
       "\n",
       "    .dataframe thead th {\n",
       "        text-align: right;\n",
       "    }\n",
       "</style>\n",
       "<table border=\"1\" class=\"dataframe\">\n",
       "  <thead>\n",
       "    <tr style=\"text-align: right;\">\n",
       "      <th></th>\n",
       "      <th>Item Name</th>\n",
       "      <th>Normalized</th>\n",
       "      <th>Disjointed</th>\n",
       "      <th>Rejoined</th>\n",
       "    </tr>\n",
       "  </thead>\n",
       "  <tbody>\n",
       "    <tr>\n",
       "      <th>439</th>\n",
       "      <td>تيوب المنيوم مستطيل 20*80*1.30 ملي 6 متر</td>\n",
       "      <td>تيوب المنيوم مستطيل</td>\n",
       "      <td></td>\n",
       "      <td></td>\n",
       "    </tr>\n",
       "    <tr>\n",
       "      <th>743</th>\n",
       "      <td>كيس مادة</td>\n",
       "      <td>كيس ماده</td>\n",
       "      <td></td>\n",
       "      <td></td>\n",
       "    </tr>\n",
       "    <tr>\n",
       "      <th>901</th>\n",
       "      <td>GATE BARIAR PANEL2</td>\n",
       "      <td>gate bariar panel</td>\n",
       "      <td></td>\n",
       "      <td></td>\n",
       "    </tr>\n",
       "    <tr>\n",
       "      <th>1563</th>\n",
       "      <td>ﺻ ﺎ ﺝ ﺍ ﺳ و د 10 ﻣ ﻝ 8 * 4 ﻣ ﺗ</td>\n",
       "      <td>unknown</td>\n",
       "      <td>صاجاسودملمت</td>\n",
       "      <td>صاج اسود</td>\n",
       "    </tr>\n",
       "  </tbody>\n",
       "</table>\n",
       "</div>"
      ],
      "text/plain": [
       "                                     Item Name           Normalized  \\\n",
       "439   تيوب المنيوم مستطيل 20*80*1.30 ملي 6 متر  تيوب المنيوم مستطيل   \n",
       "743                                   كيس مادة             كيس ماده   \n",
       "901                         GATE BARIAR PANEL2    gate bariar panel   \n",
       "1563            ﺻ ﺎ ﺝ ﺍ ﺳ و د 10 ﻣ ﻝ 8 * 4 ﻣ ﺗ              unknown   \n",
       "\n",
       "       Disjointed  Rejoined  \n",
       "439                          \n",
       "743                          \n",
       "901                          \n",
       "1563  صاجاسودملمت  صاج اسود  "
      ]
     },
     "execution_count": 114,
     "metadata": {},
     "output_type": "execute_result"
    }
   ],
   "source": [
    "# Let's see the results\n",
    "df.iloc[[439, 743, 901, 1563]]"
   ]
  },
  {
   "cell_type": "code",
   "execution_count": 115,
   "id": "f5ce2940",
   "metadata": {},
   "outputs": [
    {
     "data": {
      "text/plain": [
       "'حديد مجدول اتفاق'"
      ]
     },
     "execution_count": 115,
     "metadata": {},
     "output_type": "execute_result"
    }
   ],
   "source": [
    "df[\"Rejoined\"].iloc[2833]"
   ]
  },
  {
   "cell_type": "markdown",
   "id": "e1e2fdfd",
   "metadata": {},
   "source": [
    "#### Combined column created"
   ]
  },
  {
   "cell_type": "code",
   "execution_count": 116,
   "id": "cccb8887",
   "metadata": {},
   "outputs": [
    {
     "data": {
      "text/html": [
       "<div>\n",
       "<style scoped>\n",
       "    .dataframe tbody tr th:only-of-type {\n",
       "        vertical-align: middle;\n",
       "    }\n",
       "\n",
       "    .dataframe tbody tr th {\n",
       "        vertical-align: top;\n",
       "    }\n",
       "\n",
       "    .dataframe thead th {\n",
       "        text-align: right;\n",
       "    }\n",
       "</style>\n",
       "<table border=\"1\" class=\"dataframe\">\n",
       "  <thead>\n",
       "    <tr style=\"text-align: right;\">\n",
       "      <th></th>\n",
       "      <th>Item Name</th>\n",
       "      <th>Normalized</th>\n",
       "      <th>Disjointed</th>\n",
       "      <th>Rejoined</th>\n",
       "      <th>Combined</th>\n",
       "    </tr>\n",
       "  </thead>\n",
       "  <tbody>\n",
       "    <tr>\n",
       "      <th>439</th>\n",
       "      <td>تيوب المنيوم مستطيل 20*80*1.30 ملي 6 متر</td>\n",
       "      <td>تيوب المنيوم مستطيل</td>\n",
       "      <td></td>\n",
       "      <td></td>\n",
       "      <td>تيوب المنيوم مستطيل</td>\n",
       "    </tr>\n",
       "    <tr>\n",
       "      <th>743</th>\n",
       "      <td>كيس مادة</td>\n",
       "      <td>كيس ماده</td>\n",
       "      <td></td>\n",
       "      <td></td>\n",
       "      <td>كيس ماده</td>\n",
       "    </tr>\n",
       "    <tr>\n",
       "      <th>901</th>\n",
       "      <td>GATE BARIAR PANEL2</td>\n",
       "      <td>gate bariar panel</td>\n",
       "      <td></td>\n",
       "      <td></td>\n",
       "      <td>gate bariar panel</td>\n",
       "    </tr>\n",
       "    <tr>\n",
       "      <th>1563</th>\n",
       "      <td>ﺻ ﺎ ﺝ ﺍ ﺳ و د 10 ﻣ ﻝ 8 * 4 ﻣ ﺗ</td>\n",
       "      <td>unknown</td>\n",
       "      <td>صاجاسودملمت</td>\n",
       "      <td>صاج اسود</td>\n",
       "      <td>صاج اسود</td>\n",
       "    </tr>\n",
       "    <tr>\n",
       "      <th>1663</th>\n",
       "      <td>XT1N 160 TMD 40-450 3p F F</td>\n",
       "      <td>xt tmd</td>\n",
       "      <td></td>\n",
       "      <td></td>\n",
       "      <td>xt tmd</td>\n",
       "    </tr>\n",
       "  </tbody>\n",
       "</table>\n",
       "</div>"
      ],
      "text/plain": [
       "                                     Item Name           Normalized  \\\n",
       "439   تيوب المنيوم مستطيل 20*80*1.30 ملي 6 متر  تيوب المنيوم مستطيل   \n",
       "743                                   كيس مادة             كيس ماده   \n",
       "901                         GATE BARIAR PANEL2    gate bariar panel   \n",
       "1563            ﺻ ﺎ ﺝ ﺍ ﺳ و د 10 ﻣ ﻝ 8 * 4 ﻣ ﺗ              unknown   \n",
       "1663                XT1N 160 TMD 40-450 3p F F               xt tmd   \n",
       "\n",
       "       Disjointed  Rejoined             Combined  \n",
       "439                          تيوب المنيوم مستطيل  \n",
       "743                                     كيس ماده  \n",
       "901                            gate bariar panel  \n",
       "1563  صاجاسودملمت  صاج اسود             صاج اسود  \n",
       "1663                                      xt tmd  "
      ]
     },
     "execution_count": 116,
     "metadata": {},
     "output_type": "execute_result"
    }
   ],
   "source": [
    "# Now let's add a new fully preprocessed column, when there are rejoined chars add that, else resort to Combined\n",
    "df[\"Combined\"] = (\n",
    "    df[\"Rejoined\"].fillna(\"\").str.strip()\n",
    "    .where(df[\"Rejoined\"].fillna(\"\").str.strip() != \"\", df[\"Normalized\"].fillna(\"\").str.strip())\n",
    ")\n",
    "df.iloc[[439, 743, 901, 1563, 1663]]"
   ]
  },
  {
   "cell_type": "code",
   "execution_count": 117,
   "id": "96ce3108",
   "metadata": {},
   "outputs": [
    {
     "data": {
      "text/html": [
       "<div>\n",
       "<style scoped>\n",
       "    .dataframe tbody tr th:only-of-type {\n",
       "        vertical-align: middle;\n",
       "    }\n",
       "\n",
       "    .dataframe tbody tr th {\n",
       "        vertical-align: top;\n",
       "    }\n",
       "\n",
       "    .dataframe thead th {\n",
       "        text-align: right;\n",
       "    }\n",
       "</style>\n",
       "<table border=\"1\" class=\"dataframe\">\n",
       "  <thead>\n",
       "    <tr style=\"text-align: right;\">\n",
       "      <th></th>\n",
       "      <th>Item Name</th>\n",
       "      <th>Normalized</th>\n",
       "      <th>Disjointed</th>\n",
       "      <th>Rejoined</th>\n",
       "      <th>Combined</th>\n",
       "    </tr>\n",
       "  </thead>\n",
       "  <tbody>\n",
       "    <tr>\n",
       "      <th>1562</th>\n",
       "      <td>ﺻ ﺎ ﺝ ﺍ ﺳ و د 1220 * 2440 * 20 ﻣ ﻠ</td>\n",
       "      <td>unknown</td>\n",
       "      <td>صاجاسودمل</td>\n",
       "      <td>صاج اسود</td>\n",
       "      <td>صاج اسود</td>\n",
       "    </tr>\n",
       "    <tr>\n",
       "      <th>1563</th>\n",
       "      <td>ﺻ ﺎ ﺝ ﺍ ﺳ و د 10 ﻣ ﻝ 8 * 4 ﻣ ﺗ</td>\n",
       "      <td>unknown</td>\n",
       "      <td>صاجاسودملمت</td>\n",
       "      <td>صاج اسود</td>\n",
       "      <td>صاج اسود</td>\n",
       "    </tr>\n",
       "    <tr>\n",
       "      <th>1565</th>\n",
       "      <td>ﻣ ﺎ ﺳ و ﺭ ﺓ ﺍ ﺳ و د 5 ﺑ و ﺻ ﺔ * 4.0 ﻣ ﻝ 12 ﻣ ﺗ ﺭ</td>\n",
       "      <td>unknown</td>\n",
       "      <td>ماسورهاسودبوصهملمتر</td>\n",
       "      <td>ماسوره اسود</td>\n",
       "      <td>ماسوره اسود</td>\n",
       "    </tr>\n",
       "    <tr>\n",
       "      <th>1566</th>\n",
       "      <td>ﻣ ﺎ ﺳ و ﺭ ﺓ ﺍ ﺳ و د 5 ﺑ و ﺻ ﺔ * 5 ﻣ ﻝ 6 ﻣ ﺗ ﺭ</td>\n",
       "      <td>unknown</td>\n",
       "      <td>ماسورهاسودبوصهملمتر</td>\n",
       "      <td>ماسوره اسود</td>\n",
       "      <td>ماسوره اسود</td>\n",
       "    </tr>\n",
       "    <tr>\n",
       "      <th>1567</th>\n",
       "      <td>ﺗ ﯾ و ﺏ ﻓ ﺎ ﺭ ﻍ ﻣ ﺭ ﺑ ﻊ 80 * 80 * 5 ﻣ ﻝ 6 ﻣ ﺗ ﺭ</td>\n",
       "      <td>unknown</td>\n",
       "      <td>تيوبفارغمربعملمتر</td>\n",
       "      <td>تيوب فارغ مربع</td>\n",
       "      <td>تيوب فارغ مربع</td>\n",
       "    </tr>\n",
       "  </tbody>\n",
       "</table>\n",
       "</div>"
      ],
      "text/plain": [
       "                                             Item Name Normalized  \\\n",
       "1562                ﺻ ﺎ ﺝ ﺍ ﺳ و د 1220 * 2440 * 20 ﻣ ﻠ    unknown   \n",
       "1563                    ﺻ ﺎ ﺝ ﺍ ﺳ و د 10 ﻣ ﻝ 8 * 4 ﻣ ﺗ    unknown   \n",
       "1565  ﻣ ﺎ ﺳ و ﺭ ﺓ ﺍ ﺳ و د 5 ﺑ و ﺻ ﺔ * 4.0 ﻣ ﻝ 12 ﻣ ﺗ ﺭ    unknown   \n",
       "1566     ﻣ ﺎ ﺳ و ﺭ ﺓ ﺍ ﺳ و د 5 ﺑ و ﺻ ﺔ * 5 ﻣ ﻝ 6 ﻣ ﺗ ﺭ    unknown   \n",
       "1567   ﺗ ﯾ و ﺏ ﻓ ﺎ ﺭ ﻍ ﻣ ﺭ ﺑ ﻊ 80 * 80 * 5 ﻣ ﻝ 6 ﻣ ﺗ ﺭ    unknown   \n",
       "\n",
       "               Disjointed        Rejoined        Combined  \n",
       "1562            صاجاسودمل        صاج اسود        صاج اسود  \n",
       "1563          صاجاسودملمت        صاج اسود        صاج اسود  \n",
       "1565  ماسورهاسودبوصهملمتر     ماسوره اسود     ماسوره اسود  \n",
       "1566  ماسورهاسودبوصهملمتر     ماسوره اسود     ماسوره اسود  \n",
       "1567    تيوبفارغمربعملمتر  تيوب فارغ مربع  تيوب فارغ مربع  "
      ]
     },
     "execution_count": 117,
     "metadata": {},
     "output_type": "execute_result"
    }
   ],
   "source": [
    "df_test = df[df[\"Disjointed\"] != \"\"]\n",
    "df_test.to_excel(\"../data/analyze/reconstructed_entries.xlsx\", index=False)\n",
    "df_test.head(5)"
   ]
  },
  {
   "cell_type": "markdown",
   "id": "03ff7676",
   "metadata": {},
   "source": [
    "## Analyze tokens"
   ]
  },
  {
   "cell_type": "markdown",
   "id": "77c50383",
   "metadata": {},
   "source": [
    "### Token lengths"
   ]
  },
  {
   "cell_type": "code",
   "execution_count": 118,
   "id": "ad7c0957",
   "metadata": {},
   "outputs": [
    {
     "data": {
      "image/png": "[encoded data removed]",
      "text/plain": [
       "<Figure size 1200x1250 with 5 Axes>"
      ]
     },
     "metadata": {},
     "output_type": "display_data"
    }
   ],
   "source": [
    "# Visualize the character lengths per preprocessing stage\n",
    "\n",
    "# Columns where zero-length is an artifact you'd like to ignore\n",
    "drop_zero_len_cols = {\"Disjointed\", \"Rejoined\"}\n",
    "\n",
    "length_counts = {}\n",
    "for col in df.columns:\n",
    "    lengths = df[col].astype(str).str.len()\n",
    "    if col in drop_zero_len_cols:\n",
    "        lengths = lengths[lengths > 0]  # drop zeros only for these columns\n",
    "    length_counts[col] = lengths.value_counts().sort_index()\n",
    "\n",
    "# Put into a DataFrame (rows = lengths, columns = original columns)\n",
    "length_counts_df = pd.DataFrame(length_counts).fillna(0).astype(int)\n",
    "\n",
    "# Plot histograms per column with cleaner style\n",
    "fig, axes = plt.subplots(len(length_counts_df.columns), 1, figsize=(12, 2.5*len(length_counts_df.columns)), sharex=False)\n",
    "\n",
    "for ax, col in zip(axes, length_counts_df.columns):\n",
    "    length_counts_df[col].plot(kind=\"bar\", ax=ax, width=0.9)\n",
    "    ax.set_title(col, fontsize=12, pad=8)\n",
    "    \n",
    "    # Show only ticks at 0, 10, 20, ... up to 100\n",
    "    ax.xaxis.set_major_locator(ticker.MultipleLocator(10))\n",
    "    ax.xaxis.set_minor_locator(ticker.NullLocator())\n",
    "    \n",
    "    # Rotate x labels for readability\n",
    "    ax.tick_params(axis=\"x\", rotation=45)\n",
    "\n",
    "# Global x label\n",
    "fig.text(0.5, 0.04, \"String Length\", ha=\"center\", fontsize=12)\n",
    "fig.text(0.04, 0.5, \"Frequency\", va=\"center\", rotation=\"vertical\", fontsize=12)\n",
    "\n",
    "plt.tight_layout(rect=[0.05, 0.05, 1, 1])\n",
    "plt.show()"
   ]
  },
  {
   "cell_type": "code",
   "execution_count": 119,
   "id": "84b382cb",
   "metadata": {},
   "outputs": [
    {
     "data": {
      "text/html": [
       "<div>\n",
       "<style scoped>\n",
       "    .dataframe tbody tr th:only-of-type {\n",
       "        vertical-align: middle;\n",
       "    }\n",
       "\n",
       "    .dataframe tbody tr th {\n",
       "        vertical-align: top;\n",
       "    }\n",
       "\n",
       "    .dataframe thead th {\n",
       "        text-align: right;\n",
       "    }\n",
       "</style>\n",
       "<table border=\"1\" class=\"dataframe\">\n",
       "  <thead>\n",
       "    <tr style=\"text-align: right;\">\n",
       "      <th></th>\n",
       "      <th>Item Name</th>\n",
       "      <th>Normalized</th>\n",
       "      <th>Disjointed</th>\n",
       "      <th>Rejoined</th>\n",
       "      <th>Combined</th>\n",
       "    </tr>\n",
       "  </thead>\n",
       "  <tbody>\n",
       "  </tbody>\n",
       "</table>\n",
       "</div>"
      ],
      "text/plain": [
       "Empty DataFrame\n",
       "Columns: [Item Name, Normalized, Disjointed, Rejoined, Combined]\n",
       "Index: []"
      ]
     },
     "execution_count": 119,
     "metadata": {},
     "output_type": "execute_result"
    }
   ],
   "source": [
    "df[df[\"Combined\"] == \"\"].head(5)"
   ]
  },
  {
   "cell_type": "markdown",
   "id": "9352cf9f",
   "metadata": {},
   "source": [
    "After normalization many of the original Item Names shrunk down as a result of removing digits, untis, and so on. \n",
    "\n",
    "Disjointed and Rejoined also exhibit a similar trend. To clear something first, the plot shows only the rows where there were values (disjoint letters). Overall, the sentence legnths shrunk due to some words found in the respective rows not being present in the lexicon. However, we can clearly see that no rows were completely eliminated; we successfully brought back some context from the disjoint letters.\n",
    "\n",
    "Lastly, the combined letters match the distribution of the normalized column. This is normal as we only added 39 rows from Rejoined, and that didn't change the distrubution by much.\n",
    "\n",
    "All in all. Most rows have at least a few characters/words that we could extract the context of the purchase from. Notably, there are some rows in Combined with <= 2 which are mostly English entries (e.g., S201-C10) where digits and symbols were removed and letters were left disjoint. We'll work on cleaning these now."
   ]
  },
  {
   "cell_type": "markdown",
   "id": "b2910abb",
   "metadata": {},
   "source": [
    "### Clean Combined column"
   ]
  },
  {
   "cell_type": "markdown",
   "id": "67402345",
   "metadata": {},
   "source": [
    "#### Entries with <= 2 chars"
   ]
  },
  {
   "cell_type": "code",
   "execution_count": 120,
   "id": "725af629",
   "metadata": {},
   "outputs": [
    {
     "data": {
      "text/html": [
       "<div>\n",
       "<style scoped>\n",
       "    .dataframe tbody tr th:only-of-type {\n",
       "        vertical-align: middle;\n",
       "    }\n",
       "\n",
       "    .dataframe tbody tr th {\n",
       "        vertical-align: top;\n",
       "    }\n",
       "\n",
       "    .dataframe thead th {\n",
       "        text-align: right;\n",
       "    }\n",
       "</style>\n",
       "<table border=\"1\" class=\"dataframe\">\n",
       "  <thead>\n",
       "    <tr style=\"text-align: right;\">\n",
       "      <th></th>\n",
       "      <th>Item Name</th>\n",
       "      <th>Normalized</th>\n",
       "      <th>Disjointed</th>\n",
       "      <th>Rejoined</th>\n",
       "      <th>Combined</th>\n",
       "    </tr>\n",
       "  </thead>\n",
       "  <tbody>\n",
       "    <tr>\n",
       "      <th>1497</th>\n",
       "      <td>DP 25CM*40CM*2M D20</td>\n",
       "      <td>dp</td>\n",
       "      <td></td>\n",
       "      <td></td>\n",
       "      <td>dp</td>\n",
       "    </tr>\n",
       "    <tr>\n",
       "      <th>1498</th>\n",
       "      <td>DP 30CM*40CM*2M D20</td>\n",
       "      <td>dp</td>\n",
       "      <td></td>\n",
       "      <td></td>\n",
       "      <td>dp</td>\n",
       "    </tr>\n",
       "    <tr>\n",
       "      <th>1499</th>\n",
       "      <td>DP 25CM*40CM*40CM D20</td>\n",
       "      <td>dp</td>\n",
       "      <td></td>\n",
       "      <td></td>\n",
       "      <td>dp</td>\n",
       "    </tr>\n",
       "    <tr>\n",
       "      <th>1659</th>\n",
       "      <td>GI 0.60X1219X2440MM</td>\n",
       "      <td>gi</td>\n",
       "      <td></td>\n",
       "      <td></td>\n",
       "      <td>gi</td>\n",
       "    </tr>\n",
       "    <tr>\n",
       "      <th>1660</th>\n",
       "      <td>GI 0.80X1219X2440MM</td>\n",
       "      <td>gi</td>\n",
       "      <td></td>\n",
       "      <td></td>\n",
       "      <td>gi</td>\n",
       "    </tr>\n",
       "    <tr>\n",
       "      <th>1661</th>\n",
       "      <td>GI 1.00X1219X2440MM</td>\n",
       "      <td>gi</td>\n",
       "      <td></td>\n",
       "      <td></td>\n",
       "      <td>gi</td>\n",
       "    </tr>\n",
       "    <tr>\n",
       "      <th>1662</th>\n",
       "      <td>GI 0.70X1219X2440MM</td>\n",
       "      <td>gi</td>\n",
       "      <td></td>\n",
       "      <td></td>\n",
       "      <td>gi</td>\n",
       "    </tr>\n",
       "    <tr>\n",
       "      <th>1706</th>\n",
       "      <td>XT6D 800 3p F F</td>\n",
       "      <td>xt</td>\n",
       "      <td></td>\n",
       "      <td></td>\n",
       "      <td>xt</td>\n",
       "    </tr>\n",
       "    <tr>\n",
       "      <th>1723</th>\n",
       "      <td>XT1D 160 4p F F</td>\n",
       "      <td>xt</td>\n",
       "      <td></td>\n",
       "      <td></td>\n",
       "      <td>xt</td>\n",
       "    </tr>\n",
       "    <tr>\n",
       "      <th>1730</th>\n",
       "      <td>SH201-C6</td>\n",
       "      <td>sh</td>\n",
       "      <td></td>\n",
       "      <td></td>\n",
       "      <td>sh</td>\n",
       "    </tr>\n",
       "    <tr>\n",
       "      <th>2367</th>\n",
       "      <td>SH201-C6</td>\n",
       "      <td>sh</td>\n",
       "      <td></td>\n",
       "      <td></td>\n",
       "      <td>sh</td>\n",
       "    </tr>\n",
       "    <tr>\n",
       "      <th>2387</th>\n",
       "      <td>SH201-C6</td>\n",
       "      <td>sh</td>\n",
       "      <td></td>\n",
       "      <td></td>\n",
       "      <td>sh</td>\n",
       "    </tr>\n",
       "    <tr>\n",
       "      <th>2424</th>\n",
       "      <td>SH201-C6</td>\n",
       "      <td>sh</td>\n",
       "      <td></td>\n",
       "      <td></td>\n",
       "      <td>sh</td>\n",
       "    </tr>\n",
       "  </tbody>\n",
       "</table>\n",
       "</div>"
      ],
      "text/plain": [
       "                  Item Name Normalized Disjointed Rejoined Combined\n",
       "1497    DP 25CM*40CM*2M D20         dp                           dp\n",
       "1498    DP 30CM*40CM*2M D20         dp                           dp\n",
       "1499  DP 25CM*40CM*40CM D20         dp                           dp\n",
       "1659    GI 0.60X1219X2440MM         gi                           gi\n",
       "1660    GI 0.80X1219X2440MM         gi                           gi\n",
       "1661    GI 1.00X1219X2440MM         gi                           gi\n",
       "1662    GI 0.70X1219X2440MM         gi                           gi\n",
       "1706        XT6D 800 3p F F         xt                           xt\n",
       "1723        XT1D 160 4p F F         xt                           xt\n",
       "1730               SH201-C6         sh                           sh\n",
       "2367               SH201-C6         sh                           sh\n",
       "2387               SH201-C6         sh                           sh\n",
       "2424               SH201-C6         sh                           sh"
      ]
     },
     "execution_count": 120,
     "metadata": {},
     "output_type": "execute_result"
    }
   ],
   "source": [
    "# Let's see the combined Item Names with <= 2 chars\n",
    "df[df[\"Combined\"].str.len() <= 2]"
   ]
  },
  {
   "cell_type": "markdown",
   "id": "c635c7db",
   "metadata": {},
   "source": [
    "It appears that some Item Names were recorded only as their common code names. No description provided about what the product is. For such cases I'll manually populate `Combined` with the code names for these entries. We can see that the first word in Item Name effectively captures most of the knowledge we could get of each item."
   ]
  },
  {
   "cell_type": "code",
   "execution_count": 121,
   "id": "411066e6",
   "metadata": {},
   "outputs": [],
   "source": [
    "# Assign first word of \"Item Name\" where mask is True\n",
    "mask = df[\"Combined\"].astype(str).str.len() <= 2\n",
    "df.loc[mask, \"Combined\"] = df.loc[mask, \"Item Name\"].str.split().str[0].str.lower()"
   ]
  },
  {
   "cell_type": "code",
   "execution_count": 122,
   "id": "2f7267eb",
   "metadata": {},
   "outputs": [
    {
     "data": {
      "text/html": [
       "<div>\n",
       "<style scoped>\n",
       "    .dataframe tbody tr th:only-of-type {\n",
       "        vertical-align: middle;\n",
       "    }\n",
       "\n",
       "    .dataframe tbody tr th {\n",
       "        vertical-align: top;\n",
       "    }\n",
       "\n",
       "    .dataframe thead th {\n",
       "        text-align: right;\n",
       "    }\n",
       "</style>\n",
       "<table border=\"1\" class=\"dataframe\">\n",
       "  <thead>\n",
       "    <tr style=\"text-align: right;\">\n",
       "      <th></th>\n",
       "      <th>Item Name</th>\n",
       "      <th>Normalized</th>\n",
       "      <th>Disjointed</th>\n",
       "      <th>Rejoined</th>\n",
       "      <th>Combined</th>\n",
       "    </tr>\n",
       "  </thead>\n",
       "  <tbody>\n",
       "    <tr>\n",
       "      <th>1497</th>\n",
       "      <td>DP 25CM*40CM*2M D20</td>\n",
       "      <td>dp</td>\n",
       "      <td></td>\n",
       "      <td></td>\n",
       "      <td>dp</td>\n",
       "    </tr>\n",
       "    <tr>\n",
       "      <th>1498</th>\n",
       "      <td>DP 30CM*40CM*2M D20</td>\n",
       "      <td>dp</td>\n",
       "      <td></td>\n",
       "      <td></td>\n",
       "      <td>dp</td>\n",
       "    </tr>\n",
       "    <tr>\n",
       "      <th>1499</th>\n",
       "      <td>DP 25CM*40CM*40CM D20</td>\n",
       "      <td>dp</td>\n",
       "      <td></td>\n",
       "      <td></td>\n",
       "      <td>dp</td>\n",
       "    </tr>\n",
       "    <tr>\n",
       "      <th>1659</th>\n",
       "      <td>GI 0.60X1219X2440MM</td>\n",
       "      <td>gi</td>\n",
       "      <td></td>\n",
       "      <td></td>\n",
       "      <td>gi</td>\n",
       "    </tr>\n",
       "    <tr>\n",
       "      <th>1660</th>\n",
       "      <td>GI 0.80X1219X2440MM</td>\n",
       "      <td>gi</td>\n",
       "      <td></td>\n",
       "      <td></td>\n",
       "      <td>gi</td>\n",
       "    </tr>\n",
       "    <tr>\n",
       "      <th>1661</th>\n",
       "      <td>GI 1.00X1219X2440MM</td>\n",
       "      <td>gi</td>\n",
       "      <td></td>\n",
       "      <td></td>\n",
       "      <td>gi</td>\n",
       "    </tr>\n",
       "    <tr>\n",
       "      <th>1662</th>\n",
       "      <td>GI 0.70X1219X2440MM</td>\n",
       "      <td>gi</td>\n",
       "      <td></td>\n",
       "      <td></td>\n",
       "      <td>gi</td>\n",
       "    </tr>\n",
       "    <tr>\n",
       "      <th>1706</th>\n",
       "      <td>XT6D 800 3p F F</td>\n",
       "      <td>xt</td>\n",
       "      <td></td>\n",
       "      <td></td>\n",
       "      <td>xt6d</td>\n",
       "    </tr>\n",
       "    <tr>\n",
       "      <th>1723</th>\n",
       "      <td>XT1D 160 4p F F</td>\n",
       "      <td>xt</td>\n",
       "      <td></td>\n",
       "      <td></td>\n",
       "      <td>xt1d</td>\n",
       "    </tr>\n",
       "    <tr>\n",
       "      <th>1730</th>\n",
       "      <td>SH201-C6</td>\n",
       "      <td>sh</td>\n",
       "      <td></td>\n",
       "      <td></td>\n",
       "      <td>sh201-c6</td>\n",
       "    </tr>\n",
       "    <tr>\n",
       "      <th>2367</th>\n",
       "      <td>SH201-C6</td>\n",
       "      <td>sh</td>\n",
       "      <td></td>\n",
       "      <td></td>\n",
       "      <td>sh201-c6</td>\n",
       "    </tr>\n",
       "    <tr>\n",
       "      <th>2387</th>\n",
       "      <td>SH201-C6</td>\n",
       "      <td>sh</td>\n",
       "      <td></td>\n",
       "      <td></td>\n",
       "      <td>sh201-c6</td>\n",
       "    </tr>\n",
       "    <tr>\n",
       "      <th>2424</th>\n",
       "      <td>SH201-C6</td>\n",
       "      <td>sh</td>\n",
       "      <td></td>\n",
       "      <td></td>\n",
       "      <td>sh201-c6</td>\n",
       "    </tr>\n",
       "  </tbody>\n",
       "</table>\n",
       "</div>"
      ],
      "text/plain": [
       "                  Item Name Normalized Disjointed Rejoined  Combined\n",
       "1497    DP 25CM*40CM*2M D20         dp                            dp\n",
       "1498    DP 30CM*40CM*2M D20         dp                            dp\n",
       "1499  DP 25CM*40CM*40CM D20         dp                            dp\n",
       "1659    GI 0.60X1219X2440MM         gi                            gi\n",
       "1660    GI 0.80X1219X2440MM         gi                            gi\n",
       "1661    GI 1.00X1219X2440MM         gi                            gi\n",
       "1662    GI 0.70X1219X2440MM         gi                            gi\n",
       "1706        XT6D 800 3p F F         xt                          xt6d\n",
       "1723        XT1D 160 4p F F         xt                          xt1d\n",
       "1730               SH201-C6         sh                      sh201-c6\n",
       "2367               SH201-C6         sh                      sh201-c6\n",
       "2387               SH201-C6         sh                      sh201-c6\n",
       "2424               SH201-C6         sh                      sh201-c6"
      ]
     },
     "execution_count": 122,
     "metadata": {},
     "output_type": "execute_result"
    }
   ],
   "source": [
    "df[mask]"
   ]
  },
  {
   "cell_type": "code",
   "execution_count": 123,
   "id": "d83f365f",
   "metadata": {},
   "outputs": [
    {
     "data": {
      "text/html": [
       "<div>\n",
       "<style scoped>\n",
       "    .dataframe tbody tr th:only-of-type {\n",
       "        vertical-align: middle;\n",
       "    }\n",
       "\n",
       "    .dataframe tbody tr th {\n",
       "        vertical-align: top;\n",
       "    }\n",
       "\n",
       "    .dataframe thead th {\n",
       "        text-align: right;\n",
       "    }\n",
       "</style>\n",
       "<table border=\"1\" class=\"dataframe\">\n",
       "  <thead>\n",
       "    <tr style=\"text-align: right;\">\n",
       "      <th></th>\n",
       "      <th>Item Name</th>\n",
       "      <th>Normalized</th>\n",
       "      <th>Disjointed</th>\n",
       "      <th>Rejoined</th>\n",
       "      <th>Combined</th>\n",
       "    </tr>\n",
       "  </thead>\n",
       "  <tbody>\n",
       "    <tr>\n",
       "      <th>1497</th>\n",
       "      <td>DP 25CM*40CM*2M D20</td>\n",
       "      <td>dp</td>\n",
       "      <td></td>\n",
       "      <td></td>\n",
       "      <td>panel</td>\n",
       "    </tr>\n",
       "    <tr>\n",
       "      <th>1498</th>\n",
       "      <td>DP 30CM*40CM*2M D20</td>\n",
       "      <td>dp</td>\n",
       "      <td></td>\n",
       "      <td></td>\n",
       "      <td>panel</td>\n",
       "    </tr>\n",
       "    <tr>\n",
       "      <th>1499</th>\n",
       "      <td>DP 25CM*40CM*40CM D20</td>\n",
       "      <td>dp</td>\n",
       "      <td></td>\n",
       "      <td></td>\n",
       "      <td>panel</td>\n",
       "    </tr>\n",
       "    <tr>\n",
       "      <th>1659</th>\n",
       "      <td>GI 0.60X1219X2440MM</td>\n",
       "      <td>gi</td>\n",
       "      <td></td>\n",
       "      <td></td>\n",
       "      <td>iron</td>\n",
       "    </tr>\n",
       "    <tr>\n",
       "      <th>1660</th>\n",
       "      <td>GI 0.80X1219X2440MM</td>\n",
       "      <td>gi</td>\n",
       "      <td></td>\n",
       "      <td></td>\n",
       "      <td>iron</td>\n",
       "    </tr>\n",
       "    <tr>\n",
       "      <th>1661</th>\n",
       "      <td>GI 1.00X1219X2440MM</td>\n",
       "      <td>gi</td>\n",
       "      <td></td>\n",
       "      <td></td>\n",
       "      <td>iron</td>\n",
       "    </tr>\n",
       "    <tr>\n",
       "      <th>1662</th>\n",
       "      <td>GI 0.70X1219X2440MM</td>\n",
       "      <td>gi</td>\n",
       "      <td></td>\n",
       "      <td></td>\n",
       "      <td>iron</td>\n",
       "    </tr>\n",
       "  </tbody>\n",
       "</table>\n",
       "</div>"
      ],
      "text/plain": [
       "                  Item Name Normalized Disjointed Rejoined Combined\n",
       "1497    DP 25CM*40CM*2M D20         dp                        panel\n",
       "1498    DP 30CM*40CM*2M D20         dp                        panel\n",
       "1499  DP 25CM*40CM*40CM D20         dp                        panel\n",
       "1659    GI 0.60X1219X2440MM         gi                         iron\n",
       "1660    GI 0.80X1219X2440MM         gi                         iron\n",
       "1661    GI 1.00X1219X2440MM         gi                         iron\n",
       "1662    GI 0.70X1219X2440MM         gi                         iron"
      ]
     },
     "execution_count": 123,
     "metadata": {},
     "output_type": "execute_result"
    }
   ],
   "source": [
    "# Let's also replace dp and gi while we're at it with something meaningful:\n",
    "mask = df[\"Combined\"].astype(str).str.len() <= 2\n",
    "\n",
    "# Lowercased version for matching\n",
    "vals = df.loc[mask, \"Combined\"].str.lower()\n",
    "\n",
    "df.loc[mask, \"Combined\"] = (\n",
    "    vals.replace({\n",
    "        \"dp\": \"panel\",\n",
    "        \"gi\": \"iron\"\n",
    "    }).fillna(vals)  # keep original if not in mapping\n",
    ")\n",
    "df[mask]"
   ]
  },
  {
   "cell_type": "markdown",
   "id": "508f1c54",
   "metadata": {},
   "source": [
    "Later in categorization, although the embedder maps EN and AR, words like sabic which have no meaning in English and cause unnecessary trouble to get mapped to سابك. Hence, I'll take a manual step here to remedy that."
   ]
  },
  {
   "cell_type": "code",
   "execution_count": 124,
   "id": "4a805f80",
   "metadata": {},
   "outputs": [
    {
     "data": {
      "text/html": [
       "<div>\n",
       "<style scoped>\n",
       "    .dataframe tbody tr th:only-of-type {\n",
       "        vertical-align: middle;\n",
       "    }\n",
       "\n",
       "    .dataframe tbody tr th {\n",
       "        vertical-align: top;\n",
       "    }\n",
       "\n",
       "    .dataframe thead th {\n",
       "        text-align: right;\n",
       "    }\n",
       "</style>\n",
       "<table border=\"1\" class=\"dataframe\">\n",
       "  <thead>\n",
       "    <tr style=\"text-align: right;\">\n",
       "      <th></th>\n",
       "      <th>Item Name</th>\n",
       "      <th>Normalized</th>\n",
       "      <th>Disjointed</th>\n",
       "      <th>Rejoined</th>\n",
       "      <th>Combined</th>\n",
       "    </tr>\n",
       "  </thead>\n",
       "  <tbody>\n",
       "    <tr>\n",
       "      <th>362</th>\n",
       "      <td>Reinforcing Steel Bar Sabic 8 mm 6 MTR (Unit: ...</td>\n",
       "      <td>reinforcing steel bar sabic</td>\n",
       "      <td></td>\n",
       "      <td></td>\n",
       "      <td>reinforcing steel bar سابك</td>\n",
       "    </tr>\n",
       "    <tr>\n",
       "      <th>368</th>\n",
       "      <td>HR Sheet 1.50x1220x2440mm Sabic</td>\n",
       "      <td>hr sheet sabic</td>\n",
       "      <td></td>\n",
       "      <td></td>\n",
       "      <td>hr sheet سابك</td>\n",
       "    </tr>\n",
       "    <tr>\n",
       "      <th>369</th>\n",
       "      <td>HR Sheet 2.00x1220x3000mm Sabic</td>\n",
       "      <td>hr sheet sabic</td>\n",
       "      <td></td>\n",
       "      <td></td>\n",
       "      <td>hr sheet سابك</td>\n",
       "    </tr>\n",
       "    <tr>\n",
       "      <th>370</th>\n",
       "      <td>HR Coil 1.50x1000mm Sabic</td>\n",
       "      <td>hr coil sabic</td>\n",
       "      <td></td>\n",
       "      <td></td>\n",
       "      <td>hr coil سابك</td>\n",
       "    </tr>\n",
       "    <tr>\n",
       "      <th>371</th>\n",
       "      <td>HR Sheet 1.50x1220x3000mm Sabic</td>\n",
       "      <td>hr sheet sabic</td>\n",
       "      <td></td>\n",
       "      <td></td>\n",
       "      <td>hr sheet سابك</td>\n",
       "    </tr>\n",
       "    <tr>\n",
       "      <th>...</th>\n",
       "      <td>...</td>\n",
       "      <td>...</td>\n",
       "      <td>...</td>\n",
       "      <td>...</td>\n",
       "      <td>...</td>\n",
       "    </tr>\n",
       "    <tr>\n",
       "      <th>3131</th>\n",
       "      <td>14.0 mm Black Deformed Straight Bar G60-12 M-S...</td>\n",
       "      <td>black deformed straight bar sabic</td>\n",
       "      <td></td>\n",
       "      <td></td>\n",
       "      <td>black deformed straight bar سابك</td>\n",
       "    </tr>\n",
       "    <tr>\n",
       "      <th>3132</th>\n",
       "      <td>25.0 mm Black Deformed Straight Bar G60 - 12 M...</td>\n",
       "      <td>black deformed straight bar sabic</td>\n",
       "      <td></td>\n",
       "      <td></td>\n",
       "      <td>black deformed straight bar سابك</td>\n",
       "    </tr>\n",
       "    <tr>\n",
       "      <th>3133</th>\n",
       "      <td>18.0 mm Black Deformed Straight Bar G60-12 M -...</td>\n",
       "      <td>black deformed straight bar sabic</td>\n",
       "      <td></td>\n",
       "      <td></td>\n",
       "      <td>black deformed straight bar سابك</td>\n",
       "    </tr>\n",
       "    <tr>\n",
       "      <th>3140</th>\n",
       "      <td>32.0 mm Black Deformed Straight Bar G60-12 M-S...</td>\n",
       "      <td>black deformed straight bar sabic</td>\n",
       "      <td></td>\n",
       "      <td></td>\n",
       "      <td>black deformed straight bar سابك</td>\n",
       "    </tr>\n",
       "    <tr>\n",
       "      <th>3141</th>\n",
       "      <td>18.0 mm Black Deformed Straight Bar G60-12 M -...</td>\n",
       "      <td>black deformed straight bar sabic</td>\n",
       "      <td></td>\n",
       "      <td></td>\n",
       "      <td>black deformed straight bar سابك</td>\n",
       "    </tr>\n",
       "  </tbody>\n",
       "</table>\n",
       "<p>74 rows × 5 columns</p>\n",
       "</div>"
      ],
      "text/plain": [
       "                                              Item Name  \\\n",
       "362   Reinforcing Steel Bar Sabic 8 mm 6 MTR (Unit: ...   \n",
       "368                     HR Sheet 1.50x1220x2440mm Sabic   \n",
       "369                     HR Sheet 2.00x1220x3000mm Sabic   \n",
       "370                           HR Coil 1.50x1000mm Sabic   \n",
       "371                     HR Sheet 1.50x1220x3000mm Sabic   \n",
       "...                                                 ...   \n",
       "3131  14.0 mm Black Deformed Straight Bar G60-12 M-S...   \n",
       "3132  25.0 mm Black Deformed Straight Bar G60 - 12 M...   \n",
       "3133  18.0 mm Black Deformed Straight Bar G60-12 M -...   \n",
       "3140  32.0 mm Black Deformed Straight Bar G60-12 M-S...   \n",
       "3141  18.0 mm Black Deformed Straight Bar G60-12 M -...   \n",
       "\n",
       "                             Normalized Disjointed Rejoined  \\\n",
       "362         reinforcing steel bar sabic                       \n",
       "368                      hr sheet sabic                       \n",
       "369                      hr sheet sabic                       \n",
       "370                       hr coil sabic                       \n",
       "371                      hr sheet sabic                       \n",
       "...                                 ...        ...      ...   \n",
       "3131  black deformed straight bar sabic                       \n",
       "3132  black deformed straight bar sabic                       \n",
       "3133  black deformed straight bar sabic                       \n",
       "3140  black deformed straight bar sabic                       \n",
       "3141  black deformed straight bar sabic                       \n",
       "\n",
       "                              Combined  \n",
       "362         reinforcing steel bar سابك  \n",
       "368                      hr sheet سابك  \n",
       "369                      hr sheet سابك  \n",
       "370                       hr coil سابك  \n",
       "371                      hr sheet سابك  \n",
       "...                                ...  \n",
       "3131  black deformed straight bar سابك  \n",
       "3132  black deformed straight bar سابك  \n",
       "3133  black deformed straight bar سابك  \n",
       "3140  black deformed straight bar سابك  \n",
       "3141  black deformed straight bar سابك  \n",
       "\n",
       "[74 rows x 5 columns]"
      ]
     },
     "execution_count": 124,
     "metadata": {},
     "output_type": "execute_result"
    }
   ],
   "source": [
    "# Let's also replace dp and gi while we're at it with something meaningful:\n",
    "mask = df[\"Combined\"].str.contains(\"sabic\", case=False, na=False)\n",
    "\n",
    "df.loc[mask, \"Combined\"] = (\n",
    "    df.loc[mask, \"Combined\"].str.replace(\"sabic\", \"سابك\", case=False)\n",
    ")\n",
    "\n",
    "df[mask]"
   ]
  },
  {
   "cell_type": "markdown",
   "id": "a46bd550",
   "metadata": {},
   "source": [
    "### Analyzing unknowns in the dataset"
   ]
  },
  {
   "cell_type": "code",
   "execution_count": 125,
   "id": "6353e8f2",
   "metadata": {},
   "outputs": [
    {
     "name": "stdout",
     "output_type": "stream",
     "text": [
      "Item Name=known, Normalized=known, Combined=known → 2848\n",
      "Item Name=known, Normalized=unknown, Combined=known → 39\n",
      "Item Name=known, Normalized=unknown, Combined=unknown → 23\n",
      "Item Name=unknown, Normalized=unknown, Combined=unknown → 240\n"
     ]
    }
   ],
   "source": [
    "flags = pd.DataFrame({\n",
    "    \"Item Name\": (df[\"Item Name\"] == \"unknown\"),\n",
    "    \"Combined\": (df[\"Combined\"] == \"unknown\"),\n",
    "    \"Normalized\": (df[\"Normalized\"] == \"unknown\"),\n",
    "})\n",
    "\n",
    "# Get counts for all combinations\n",
    "combo_counts = flags.value_counts().sort_index()\n",
    "\n",
    "# Print them nicely\n",
    "for (item_unknown, combined_unknown, normalized_unknown), count in combo_counts.items():\n",
    "    print(\n",
    "        f\"Item Name={'unknown' if item_unknown else 'known'}, \"\n",
    "        f\"Normalized={'unknown' if normalized_unknown else 'known'}, \"\n",
    "        f\"Combined={'unknown' if combined_unknown else 'known'} \"\n",
    "        \n",
    "        f\"→ {count}\"\n",
    "    )\n"
   ]
  },
  {
   "cell_type": "markdown",
   "id": "b57e593e",
   "metadata": {},
   "source": [
    "The only combinations of unknowns are shown above. Here's my commentary:\n",
    "1. The first combination represents the good entries: we have item names -> normalized well -> combined has good input\n",
    "2. The second combination represents the disjointed letters: there are 39 total, normalization cleared them -> later rejoined\n",
    "3. Third combo; these are the ones I'm intrested in now, we had something at the start -> got nothing later\n",
    "4. Fourth combo represents embty Item Names -> naturally no info at the end\n",
    "That's it, other combos don't exist in the dataset"
   ]
  },
  {
   "cell_type": "code",
   "execution_count": 126,
   "id": "1330a0c7",
   "metadata": {},
   "outputs": [
    {
     "name": "stdout",
     "output_type": "stream",
     "text": [
      "23\n"
     ]
    },
    {
     "data": {
      "text/html": [
       "<div>\n",
       "<style scoped>\n",
       "    .dataframe tbody tr th:only-of-type {\n",
       "        vertical-align: middle;\n",
       "    }\n",
       "\n",
       "    .dataframe tbody tr th {\n",
       "        vertical-align: top;\n",
       "    }\n",
       "\n",
       "    .dataframe thead th {\n",
       "        text-align: right;\n",
       "    }\n",
       "</style>\n",
       "<table border=\"1\" class=\"dataframe\">\n",
       "  <thead>\n",
       "    <tr style=\"text-align: right;\">\n",
       "      <th></th>\n",
       "      <th>Item Name</th>\n",
       "      <th>Normalized</th>\n",
       "      <th>Disjointed</th>\n",
       "      <th>Rejoined</th>\n",
       "      <th>Combined</th>\n",
       "    </tr>\n",
       "  </thead>\n",
       "  <tbody>\n",
       "    <tr>\n",
       "      <th>1675</th>\n",
       "      <td>S201-C10</td>\n",
       "      <td>unknown</td>\n",
       "      <td></td>\n",
       "      <td></td>\n",
       "      <td>unknown</td>\n",
       "    </tr>\n",
       "    <tr>\n",
       "      <th>1676</th>\n",
       "      <td>S203-C6</td>\n",
       "      <td>unknown</td>\n",
       "      <td></td>\n",
       "      <td></td>\n",
       "      <td>unknown</td>\n",
       "    </tr>\n",
       "    <tr>\n",
       "      <th>1681</th>\n",
       "      <td>S203-C63</td>\n",
       "      <td>unknown</td>\n",
       "      <td></td>\n",
       "      <td></td>\n",
       "      <td>unknown</td>\n",
       "    </tr>\n",
       "    <tr>\n",
       "      <th>1697</th>\n",
       "      <td>S201-C16</td>\n",
       "      <td>unknown</td>\n",
       "      <td></td>\n",
       "      <td></td>\n",
       "      <td>unknown</td>\n",
       "    </tr>\n",
       "    <tr>\n",
       "      <th>1698</th>\n",
       "      <td>S202-C10</td>\n",
       "      <td>unknown</td>\n",
       "      <td></td>\n",
       "      <td></td>\n",
       "      <td>unknown</td>\n",
       "    </tr>\n",
       "    <tr>\n",
       "      <th>1703</th>\n",
       "      <td>S204-C40</td>\n",
       "      <td>unknown</td>\n",
       "      <td></td>\n",
       "      <td></td>\n",
       "      <td>unknown</td>\n",
       "    </tr>\n",
       "    <tr>\n",
       "      <th>1718</th>\n",
       "      <td>S201-C6</td>\n",
       "      <td>unknown</td>\n",
       "      <td></td>\n",
       "      <td></td>\n",
       "      <td>unknown</td>\n",
       "    </tr>\n",
       "    <tr>\n",
       "      <th>1719</th>\n",
       "      <td>S202-C10</td>\n",
       "      <td>unknown</td>\n",
       "      <td></td>\n",
       "      <td></td>\n",
       "      <td>unknown</td>\n",
       "    </tr>\n",
       "    <tr>\n",
       "      <th>1720</th>\n",
       "      <td>S202-C40</td>\n",
       "      <td>unknown</td>\n",
       "      <td></td>\n",
       "      <td></td>\n",
       "      <td>unknown</td>\n",
       "    </tr>\n",
       "    <tr>\n",
       "      <th>1740</th>\n",
       "      <td>S201-C20</td>\n",
       "      <td>unknown</td>\n",
       "      <td></td>\n",
       "      <td></td>\n",
       "      <td>unknown</td>\n",
       "    </tr>\n",
       "    <tr>\n",
       "      <th>1741</th>\n",
       "      <td>S202-C20</td>\n",
       "      <td>unknown</td>\n",
       "      <td></td>\n",
       "      <td></td>\n",
       "      <td>unknown</td>\n",
       "    </tr>\n",
       "    <tr>\n",
       "      <th>1749</th>\n",
       "      <td>S204M-C25</td>\n",
       "      <td>unknown</td>\n",
       "      <td></td>\n",
       "      <td></td>\n",
       "      <td>unknown</td>\n",
       "    </tr>\n",
       "    <tr>\n",
       "      <th>2015</th>\n",
       "      <td>40 X 40 X 3</td>\n",
       "      <td>unknown</td>\n",
       "      <td></td>\n",
       "      <td></td>\n",
       "      <td>unknown</td>\n",
       "    </tr>\n",
       "    <tr>\n",
       "      <th>2333</th>\n",
       "      <td>S204-C25</td>\n",
       "      <td>unknown</td>\n",
       "      <td></td>\n",
       "      <td></td>\n",
       "      <td>unknown</td>\n",
       "    </tr>\n",
       "    <tr>\n",
       "      <th>2338</th>\n",
       "      <td>S201-C20</td>\n",
       "      <td>unknown</td>\n",
       "      <td></td>\n",
       "      <td></td>\n",
       "      <td>unknown</td>\n",
       "    </tr>\n",
       "    <tr>\n",
       "      <th>2341</th>\n",
       "      <td>S201-C16</td>\n",
       "      <td>unknown</td>\n",
       "      <td></td>\n",
       "      <td></td>\n",
       "      <td>unknown</td>\n",
       "    </tr>\n",
       "    <tr>\n",
       "      <th>2342</th>\n",
       "      <td>S203-C32</td>\n",
       "      <td>unknown</td>\n",
       "      <td></td>\n",
       "      <td></td>\n",
       "      <td>unknown</td>\n",
       "    </tr>\n",
       "    <tr>\n",
       "      <th>2363</th>\n",
       "      <td>S201-C32</td>\n",
       "      <td>unknown</td>\n",
       "      <td></td>\n",
       "      <td></td>\n",
       "      <td>unknown</td>\n",
       "    </tr>\n",
       "    <tr>\n",
       "      <th>2366</th>\n",
       "      <td>S201-C20</td>\n",
       "      <td>unknown</td>\n",
       "      <td></td>\n",
       "      <td></td>\n",
       "      <td>unknown</td>\n",
       "    </tr>\n",
       "    <tr>\n",
       "      <th>2390</th>\n",
       "      <td>S201-C10</td>\n",
       "      <td>unknown</td>\n",
       "      <td></td>\n",
       "      <td></td>\n",
       "      <td>unknown</td>\n",
       "    </tr>\n",
       "    <tr>\n",
       "      <th>2391</th>\n",
       "      <td>S203-C20</td>\n",
       "      <td>unknown</td>\n",
       "      <td></td>\n",
       "      <td></td>\n",
       "      <td>unknown</td>\n",
       "    </tr>\n",
       "    <tr>\n",
       "      <th>2399</th>\n",
       "      <td>S201-C20</td>\n",
       "      <td>unknown</td>\n",
       "      <td></td>\n",
       "      <td></td>\n",
       "      <td>unknown</td>\n",
       "    </tr>\n",
       "    <tr>\n",
       "      <th>2416</th>\n",
       "      <td>S201-C32</td>\n",
       "      <td>unknown</td>\n",
       "      <td></td>\n",
       "      <td></td>\n",
       "      <td>unknown</td>\n",
       "    </tr>\n",
       "  </tbody>\n",
       "</table>\n",
       "</div>"
      ],
      "text/plain": [
       "        Item Name Normalized Disjointed Rejoined Combined\n",
       "1675     S201-C10    unknown                      unknown\n",
       "1676      S203-C6    unknown                      unknown\n",
       "1681     S203-C63    unknown                      unknown\n",
       "1697     S201-C16    unknown                      unknown\n",
       "1698     S202-C10    unknown                      unknown\n",
       "1703     S204-C40    unknown                      unknown\n",
       "1718      S201-C6    unknown                      unknown\n",
       "1719     S202-C10    unknown                      unknown\n",
       "1720     S202-C40    unknown                      unknown\n",
       "1740     S201-C20    unknown                      unknown\n",
       "1741     S202-C20    unknown                      unknown\n",
       "1749    S204M-C25    unknown                      unknown\n",
       "2015  40 X 40 X 3    unknown                      unknown\n",
       "2333     S204-C25    unknown                      unknown\n",
       "2338     S201-C20    unknown                      unknown\n",
       "2341     S201-C16    unknown                      unknown\n",
       "2342     S203-C32    unknown                      unknown\n",
       "2363     S201-C32    unknown                      unknown\n",
       "2366     S201-C20    unknown                      unknown\n",
       "2390     S201-C10    unknown                      unknown\n",
       "2391     S203-C20    unknown                      unknown\n",
       "2399     S201-C20    unknown                      unknown\n",
       "2416     S201-C32    unknown                      unknown"
      ]
     },
     "execution_count": 126,
     "metadata": {},
     "output_type": "execute_result"
    }
   ],
   "source": [
    "subset = df[\n",
    "    (df[\"Item Name\"] != \"unknown\") &\n",
    "    (df[\"Normalized\"] == \"unknown\") &\n",
    "    (df[\"Combined\"] == \"unknown\")\n",
    "]\n",
    "\n",
    "print(len(subset))  # should be 23\n",
    "subset"
   ]
  },
  {
   "cell_type": "markdown",
   "id": "81255c24",
   "metadata": {},
   "source": [
    "These are the cases where Item Name is only the code name for the purchased goods. We'll populate the Combined column with them and solve the ambiguity later. Except for entry 2015 - why would they put just dimensions?"
   ]
  },
  {
   "cell_type": "code",
   "execution_count": 127,
   "id": "ae88ad6f",
   "metadata": {},
   "outputs": [],
   "source": [
    "mask = (\n",
    "    (df[\"Item Name\"] != \"unknown\") &\n",
    "    (df[\"Normalized\"] == \"unknown\") &\n",
    "    (df[\"Combined\"] == \"unknown\")\n",
    ")\n",
    "\n",
    "# Check if Item Name is a single word (no spaces after stripping)\n",
    "single_word = df.loc[mask, \"Item Name\"].str.strip().str.split().str.len() == 1\n",
    "\n",
    "# Update Combined with Item Name for those rows\n",
    "df.loc[mask & single_word, \"Combined\"] = df.loc[mask & single_word, \"Item Name\"].str.lower()"
   ]
  },
  {
   "cell_type": "code",
   "execution_count": 128,
   "id": "450ca84c",
   "metadata": {},
   "outputs": [
    {
     "name": "stdout",
     "output_type": "stream",
     "text": [
      "1\n"
     ]
    },
    {
     "data": {
      "text/html": [
       "<div>\n",
       "<style scoped>\n",
       "    .dataframe tbody tr th:only-of-type {\n",
       "        vertical-align: middle;\n",
       "    }\n",
       "\n",
       "    .dataframe tbody tr th {\n",
       "        vertical-align: top;\n",
       "    }\n",
       "\n",
       "    .dataframe thead th {\n",
       "        text-align: right;\n",
       "    }\n",
       "</style>\n",
       "<table border=\"1\" class=\"dataframe\">\n",
       "  <thead>\n",
       "    <tr style=\"text-align: right;\">\n",
       "      <th></th>\n",
       "      <th>Item Name</th>\n",
       "      <th>Normalized</th>\n",
       "      <th>Disjointed</th>\n",
       "      <th>Rejoined</th>\n",
       "      <th>Combined</th>\n",
       "    </tr>\n",
       "  </thead>\n",
       "  <tbody>\n",
       "    <tr>\n",
       "      <th>2015</th>\n",
       "      <td>40 X 40 X 3</td>\n",
       "      <td>unknown</td>\n",
       "      <td></td>\n",
       "      <td></td>\n",
       "      <td>unknown</td>\n",
       "    </tr>\n",
       "  </tbody>\n",
       "</table>\n",
       "</div>"
      ],
      "text/plain": [
       "        Item Name Normalized Disjointed Rejoined Combined\n",
       "2015  40 X 40 X 3    unknown                      unknown"
      ]
     },
     "execution_count": 128,
     "metadata": {},
     "output_type": "execute_result"
    }
   ],
   "source": [
    "subset = df[\n",
    "    (df[\"Item Name\"] != \"unknown\") &\n",
    "    (df[\"Normalized\"] == \"unknown\") &\n",
    "    (df[\"Combined\"] == \"unknown\")\n",
    "]\n",
    "\n",
    "print(len(subset))  # should be 1\n",
    "subset"
   ]
  },
  {
   "cell_type": "markdown",
   "id": "fd74a67f",
   "metadata": {},
   "source": [
    "### Before and after processing"
   ]
  },
  {
   "cell_type": "code",
   "execution_count": 129,
   "id": "46ba3809",
   "metadata": {},
   "outputs": [
    {
     "name": "stdout",
     "output_type": "stream",
     "text": [
      "Number of unique rows before cleaning: 2303\n",
      "Number of unique rows after cleaning: 1253\n",
      "-------------------------------------\n",
      "Number of unique words before cleaning: 4190\n",
      "Number of unique words after cleaning: 1922\n"
     ]
    }
   ],
   "source": [
    "# Let's see how many unique rows we've got\n",
    "print(\"Number of unique rows before cleaning:\", df[\"Item Name\"].nunique())\n",
    "print(\"Number of unique rows after cleaning:\", df[\"Combined\"].nunique())\n",
    "\n",
    "print(\"-------------------------------------\")\n",
    "\n",
    "# Let's see how many unique words we've got\n",
    "words_before = set(\" \".join(df[\"Item Name\"]).split())\n",
    "words_after = set(\" \".join(df[\"Combined\"]).split())\n",
    "\n",
    "print(\"Number of unique words before cleaning:\", len(words_before))\n",
    "print(\"Number of unique words after cleaning:\", len(words_after))"
   ]
  },
  {
   "cell_type": "markdown",
   "id": "8e61c5ba",
   "metadata": {},
   "source": [
    "We've effectively reduced the variablity from entry to entry to 1262 down from 2303. This means we stripped each entry down to its essence, all using efficient and lightweight techniques.\n",
    "\n",
    "As for the number of unique words, they were reduced to less than half, removing all unnecessary dimensions/units/fillers. This will enable us to look at what makes each entry unique from a larger perspective and move similar entries closer."
   ]
  },
  {
   "cell_type": "markdown",
   "id": "ccbb6074",
   "metadata": {},
   "source": [
    "### Save preprocessed Item Name"
   ]
  },
  {
   "cell_type": "markdown",
   "id": "913ab65b",
   "metadata": {},
   "source": [
    "Save the unique words in the preprocessed Item Name as a vocabulary dataset for later reference as an excel file"
   ]
  },
  {
   "cell_type": "code",
   "execution_count": 130,
   "id": "891bbcf3",
   "metadata": {},
   "outputs": [],
   "source": [
    "# split all text in Combined into words\n",
    "words = \" \".join(df[\"Combined\"].astype(str)).split()\n",
    "\n",
    "# get unique vocab and sort alphabetically\n",
    "vocabulary = sorted(set(words))\n",
    "\n",
    "# save to Excel\n",
    "pd.DataFrame(vocabulary, columns=[\"Vocabulary\"]).to_excel(\"../data/vocab/vocabulary.xlsx\", index=False)"
   ]
  },
  {
   "cell_type": "markdown",
   "id": "7a2a3a02",
   "metadata": {},
   "source": [
    "# Embed tokens"
   ]
  },
  {
   "cell_type": "markdown",
   "id": "515abd17",
   "metadata": {},
   "source": [
    "During tests of multiple embedding techniques, I found it difficult to arrive at meaningful results that could lead to effective clustering. Two issues were mainly faced:\n",
    "1. Words could be in AR and EN, yet their embeddings would be farther apart than what they should be\n",
    "    - SBERT landed pretty good results but didn't overcome the second issue\n",
    "    - FastText's aligned vectors shine here!\n",
    "2. Item Names are fragmented, incohesive, contain misspelled words, and after preprocessing & cleaning some context was removed (a step for the better)\n",
    "    - SBERT and similar transformer based approaches thrive on context, which this dataset lacks. FastText's vecs allow us to look at each word individually, which suits our case better\n",
    "\n",
    "Now, we're going to look at the tokens we've cleaned, compare them with tokens recognized by FastText. Then we'll do a bit more work to align the last few (~200) tokens not recognized. THEN we'll FINALLY get to embed the words numerically and categorize them.\n",
    "\n",
    "**NOTE:** FastText offers .bin files that could better approximate the words to their best embeddings. Unfortunately, I've started working with .vecs, and it only offers lookup capabilities. While swithing at this point is feasable, due to time constraints, this is something I'd improve in the future when faced with a similar challenge."
   ]
  },
  {
   "cell_type": "markdown",
   "id": "a2201ae3",
   "metadata": {},
   "source": [
    "## Requires wiki.ar.align.vec and wiki.en.align.vec in assets but not provided"
   ]
  },
  {
   "cell_type": "markdown",
   "id": "778cb9b0",
   "metadata": {},
   "source": [
    "### Compare current vocab with FastText's"
   ]
  },
  {
   "cell_type": "code",
   "execution_count": 131,
   "id": "6a3d3ffb",
   "metadata": {},
   "outputs": [
    {
     "name": "stdout",
     "output_type": "stream",
     "text": [
      "If you want the full aligned vecs which I used at this step, download them from https://fasttext.cc/docs/en/pretrained-vectors.html\n",
      "Note: they're large, and hence I'll provide a trimmed version in the assets folder that is most relevant to us\n"
     ]
    }
   ],
   "source": [
    "print(\"\"\"If you want the full aligned vecs which I used at this step, download them from https://fasttext.cc/docs/en/pretrained-vectors.html\n",
    "Note: they're large, and hence I'll provide a trimmed version in the assets folder that is most relevant to us\"\"\")\n",
    "# ft_ar_aligned = gensim.models.KeyedVectors.load_word2vec_format(\"../assets/wiki.ar.align.vec\", binary=False)\n",
    "# ft_en_aligned = gensim.models.KeyedVectors.load_word2vec_format(\"../assets/wiki.en.align.vec\", binary=False)"
   ]
  },
  {
   "cell_type": "code",
   "execution_count": null,
   "id": "f5969cfa",
   "metadata": {},
   "outputs": [
    {
     "name": "stdout",
     "output_type": "stream",
     "text": [
      "Aligned AR wiki length: 610977\n",
      "Aligned EN wiki length: 2519370\n",
      "Our vocabulary's length: 1922\n",
      "# of words we found in aligned ft_ar dictionary: 1494\n",
      "# of words we found in aligned ft_en dictionary: 218\n",
      "# of words we couldn't find in aligned dicts: 210\n",
      "saved to ../data/unkonwn_tokens.xlsx\n"
     ]
    }
   ],
   "source": [
    "# # Analyze our corpus with respect to the Wiki word vectors (aligned version)  \n",
    "# ar_counter_aligned = 0\n",
    "# en_counter_aligned = 0\n",
    "# unknown = []\n",
    "\n",
    "# for i in vocabulary:\n",
    "#     if i in ft_ar_aligned:\n",
    "#         ar_counter_aligned += 1\n",
    "#     elif i in ft_en_aligned:\n",
    "#         en_counter_aligned += 1\n",
    "#     else:\n",
    "#         unknown.append(i)\n",
    "\n",
    "# print(\"Aligned AR wiki length:\", len(ft_ar_aligned))\n",
    "# print(\"Aligned EN wiki length:\", len(ft_en_aligned))\n",
    "# print(\"Our vocabulary's length:\", len(vocabulary))\n",
    "# print(\"# of words we found in aligned ft_ar dictionary:\", ar_counter_aligned)\n",
    "# print(\"# of words we found in aligned ft_en dictionary:\", en_counter_aligned)\n",
    "# print(\"# of words we couldn't find in aligned dicts:\", len(unknown))\n",
    "\n",
    "\n",
    "# if unknown:\n",
    "#     import pandas as pd\n",
    "#     pd.DataFrame(unknown, columns=[\"token\"]).to_excel(\"../data/analyze/unknown_tokens.xlsx\", index=False)\n",
    "#     print(\"saved to ../data/unkonwn_tokens.xlsx\")\n",
    "\n",
    "print(\"\"\"  \n",
    "Result:\n",
    "Aligned AR wiki length: 610977\n",
    "Aligned EN wiki length: 2519370\n",
    "Our vocabulary's length: 1922\n",
    "# of words we found in aligned ft_ar dictionary: 1494\n",
    "# of words we found in aligned ft_en dictionary: 218\n",
    "# of words we couldn't find in aligned dicts: 210\n",
    "saved to ../data/unkonwn_tokens.xlsx\n",
    "\"\"\")"
   ]
  },
  {
   "cell_type": "markdown",
   "id": "2ceb8955",
   "metadata": {},
   "source": [
    "Sweet! Our cleaning and preprocessing stage has paid off immensely. Most words were found in the aligned vectors. We'll now try to recover as many unknown words as possible (out of 210) from the two vecs. Then, we'll have numerically embedded tokens that are meaningful during clustering."
   ]
  },
  {
   "cell_type": "markdown",
   "id": "00fcb65e",
   "metadata": {},
   "source": [
    "### Interpretable column created"
   ]
  },
  {
   "cell_type": "code",
   "execution_count": null,
   "id": "7f1a71fc",
   "metadata": {},
   "outputs": [],
   "source": [
    "# # Very long cell; I got the ideas, prompted ChatGPT, and the result is actually outstanding \n",
    "# # -----------------------------\n",
    "# # Output sanitization (letters/spaces only)\n",
    "# # -----------------------------\n",
    "# _ONLY_LETTERS_AR_EN_SPACE = re.compile(r\"[^A-Za-z\\u0600-\\u06FF ]+\")\n",
    "\n",
    "# def _sanitize_out(s: str) -> str:\n",
    "#     s = (s or \"\").lower()\n",
    "#     s = _ONLY_LETTERS_AR_EN_SPACE.sub(\" \", s)\n",
    "#     s = re.sub(r\"\\s+\", \" \", s).strip()\n",
    "#     return s\n",
    "\n",
    "# # -----------------------------\n",
    "# # Language pick (first character only)\n",
    "# # -----------------------------\n",
    "# def _first_char_lang(token: str) -> str:\n",
    "#     if not token:\n",
    "#         return \"en\"\n",
    "#     c = token[0]\n",
    "#     if is_arabic_char(c):\n",
    "#         return \"ar\"\n",
    "#     if is_english_char(c):\n",
    "#         return \"en\"\n",
    "#     return \"en\"\n",
    "\n",
    "# # -----------------------------\n",
    "# # Code-name detection (all -> \"circuit channel\")\n",
    "# # -----------------------------\n",
    "# def _is_code_like(token: str) -> bool:\n",
    "#     t = (token or \"\").lower()\n",
    "#     return bool(re.search(r\"[a-zA-Z\\u0600-\\u06FF]+.*\\d|^\\d\", t) or \"-\" in t)\n",
    "\n",
    "# def _code_descriptor(_: str) -> str:\n",
    "#     # Unified, meaningful, number/symbol-free descriptor\n",
    "#     return \"circuit breaker\"\n",
    "\n",
    "# # -----------------------------\n",
    "# # Candidate generators for vec hits\n",
    "# # -----------------------------\n",
    "# _WS = re.compile(r\"\\s+\")\n",
    "# _KEEP_AR_EN_NUM = re.compile(r\"[^a-z0-9\\u0600-\\u06FF]+\")\n",
    "\n",
    "# def _strip_punct_compact(s: str) -> str:\n",
    "#     \"\"\"Keep letters/digits (AR/EN) only and compact.\"\"\"\n",
    "#     return _WS.sub(\"\", _KEEP_AR_EN_NUM.sub(\" \", (s or \"\").lower())).strip()\n",
    "\n",
    "# def _progressive_suffixes(s: str, min_len: int = 3):\n",
    "#     s = (s or \"\").lower()\n",
    "#     for L in range(len(s), min_len - 1, -1):\n",
    "#         yield s[:L]\n",
    "\n",
    "# def _progressive_prefixes(s: str, min_len: int = 3):\n",
    "#     s = (s or \"\").lower()\n",
    "#     for start in range(0, max(0, len(s) - min_len + 1)):\n",
    "#         sub = s[start:]\n",
    "#         if len(sub) >= min_len:\n",
    "#             yield sub\n",
    "\n",
    "# def _sliding_substrings(s: str, max_k: int = 6, min_k: int = 3):\n",
    "#     s = _strip_punct_compact(s)\n",
    "#     n = len(s)\n",
    "#     for k in range(min(max_k, n), min_k - 1, -1):\n",
    "#         for i in range(0, n - k + 1):\n",
    "#             yield s[i:i+k]\n",
    "\n",
    "# def _first_in_vocab(cands: Iterable[str], kv: KeyedVectors) -> str:\n",
    "#     for c in cands:\n",
    "#         if c in kv.key_to_index:\n",
    "#             return c\n",
    "#     return \"\"\n",
    "\n",
    "# # -----------------------------\n",
    "# # Build token mapping for `unknown`\n",
    "# # -----------------------------\n",
    "# def build_token_mapping(\n",
    "#     unknown: List[str],\n",
    "#     ft_ar_aligned: KeyedVectors,\n",
    "#     ft_en_aligned: KeyedVectors,\n",
    "# ) -> Dict[str, str]:\n",
    "#     \"\"\"\n",
    "#     Map each unknown token to:\n",
    "#       - 'circuit channel' if it's code-like;\n",
    "#       - the first vec hit via increasingly loose search (letters/spaces only);\n",
    "#       - 'unknown' otherwise.\n",
    "#     \"\"\"\n",
    "#     mapping: Dict[str, str] = {}\n",
    "\n",
    "#     for raw_tok in unknown:\n",
    "#         tok = (raw_tok or \"\").strip().lower()\n",
    "#         if not tok:\n",
    "#             mapping[tok] = \"unknown\"\n",
    "#             continue\n",
    "\n",
    "#         # 1) Code-like => unified descriptor\n",
    "#         if _is_code_like(tok):\n",
    "#             mapping[tok] = _sanitize_out(_code_descriptor(tok)) or \"unknown\"\n",
    "#             continue\n",
    "\n",
    "#         # 2) Choose vec by first character only\n",
    "#         kv = ft_ar_aligned if _first_char_lang(tok) == \"ar\" else ft_en_aligned\n",
    "\n",
    "#         # 3) Vec search pipeline\n",
    "#         if tok in kv.key_to_index:\n",
    "#             mapping[tok] = _sanitize_out(tok) or \"unknown\"\n",
    "#             continue\n",
    "\n",
    "#         stripped = _strip_punct_compact(tok)\n",
    "#         if stripped in kv.key_to_index:\n",
    "#             mapping[tok] = _sanitize_out(stripped) or \"unknown\"\n",
    "#             continue\n",
    "\n",
    "#         cand = _first_in_vocab(_progressive_suffixes(tok, min_len=3), kv)\n",
    "#         if cand:\n",
    "#             mapping[tok] = _sanitize_out(cand) or \"unknown\"\n",
    "#             continue\n",
    "\n",
    "#         cand = _first_in_vocab(_progressive_prefixes(tok, min_len=3), kv)\n",
    "#         if cand:\n",
    "#             mapping[tok] = _sanitize_out(cand) or \"unknown\"\n",
    "#             continue\n",
    "\n",
    "#         cand = _first_in_vocab(_sliding_substrings(tok, max_k=6, min_k=3), kv)\n",
    "#         if cand:\n",
    "#             mapping[tok] = _sanitize_out(cand) or \"unknown\"\n",
    "#             continue\n",
    "\n",
    "#         # 4) Last resort\n",
    "#         mapping[tok] = \"unknown\"\n",
    "\n",
    "#     return mapping\n",
    "\n",
    "# # -----------------------------\n",
    "# # Apply mapping to df[\"Combined\"]\n",
    "# # Only replace tokens that are exactly in `unknown`\n",
    "# # -----------------------------\n",
    "# def _replace_in_sentence(sentence: str, unknown_set: set, mapping: Dict[str, str]) -> str:\n",
    "#     \"\"\"\n",
    "#     Replace only those whitespace-separated chunks that are exactly in `unknown_set`.\n",
    "#     Preserve other text as-is. Outputs are sanitized (letters/spaces only).\n",
    "#     Assumes input is already lowercased & stripped.\n",
    "#     \"\"\"\n",
    "#     if not isinstance(sentence, str):\n",
    "#         sentence = \"\" if sentence is None else str(sentence)\n",
    "#     sentence = sentence.strip().lower()\n",
    "#     if not sentence:\n",
    "#         return \"\"\n",
    "\n",
    "#     parts = sentence.split()\n",
    "#     out_parts = []\n",
    "#     for w in parts:\n",
    "#         lw = w.strip().lower()\n",
    "#         if lw in unknown_set:\n",
    "#             repl = mapping.get(lw, \"unknown\")\n",
    "#             repl = _sanitize_out(repl) or \"unknown\"\n",
    "#             out_parts.append(repl)\n",
    "#         else:\n",
    "#             out_parts.append(lw)\n",
    "#     return \" \".join(out_parts).strip()\n",
    "\n",
    "# def apply_mapping_to_dataframe(\n",
    "#     df: pd.DataFrame,\n",
    "#     unknown: List[str],\n",
    "#     ft_ar_aligned: KeyedVectors,\n",
    "#     ft_en_aligned: KeyedVectors,\n",
    "#     source_col: str = \"Combined\",\n",
    "#     dest_col: str = \"Combined_meaningful\",\n",
    "# ) -> pd.DataFrame:\n",
    "#     \"\"\"\n",
    "#     Creates df[dest_col] with unknown tokens replaced in-place within their sentences.\n",
    "#     \"\"\"\n",
    "#     # Ensure lowercase/stripped source\n",
    "#     df = df.copy()\n",
    "#     df[source_col] = df[source_col].astype(str).str.strip().str.lower()\n",
    "\n",
    "#     # Build mapping once\n",
    "#     mapping = build_token_mapping(unknown, ft_ar_aligned, ft_en_aligned)\n",
    "#     unknown_set = set([ (t or \"\").strip().lower() for t in unknown ])\n",
    "\n",
    "#     # Apply row-wise\n",
    "#     df[dest_col] = df[source_col].apply(lambda s: _replace_in_sentence(s, unknown_set, mapping))\n",
    "#     return df\n",
    "\n",
    "\n",
    "# df = apply_mapping_to_dataframe(df, unknown, ft_ar_aligned, ft_en_aligned,\n",
    "#                                 source_col=\"Combined\", dest_col=\"Interpretable\")"
   ]
  },
  {
   "cell_type": "markdown",
   "id": "ca1d1795",
   "metadata": {},
   "source": [
    "The interpretable column represents the culmination of the cleaning and preprocessing steps in addition to consulting the FastText's lookup dict/embedding vecs which we want to align our corpus with."
   ]
  },
  {
   "cell_type": "markdown",
   "id": "e221a78c",
   "metadata": {},
   "source": [
    "### Save and load final preprocessed Item Names"
   ]
  },
  {
   "cell_type": "code",
   "execution_count": null,
   "id": "40af1d58",
   "metadata": {},
   "outputs": [],
   "source": [
    "# df.to_excel(\"../data/checkpoints/fully_preprocessed_item_names.xlsx\", index=False)"
   ]
  },
  {
   "cell_type": "code",
   "execution_count": 220,
   "id": "5c65b8d5",
   "metadata": {},
   "outputs": [
    {
     "data": {
      "text/html": [
       "<div>\n",
       "<style scoped>\n",
       "    .dataframe tbody tr th:only-of-type {\n",
       "        vertical-align: middle;\n",
       "    }\n",
       "\n",
       "    .dataframe tbody tr th {\n",
       "        vertical-align: top;\n",
       "    }\n",
       "\n",
       "    .dataframe thead th {\n",
       "        text-align: right;\n",
       "    }\n",
       "</style>\n",
       "<table border=\"1\" class=\"dataframe\">\n",
       "  <thead>\n",
       "    <tr style=\"text-align: right;\">\n",
       "      <th></th>\n",
       "      <th>Item Name</th>\n",
       "      <th>Normalized</th>\n",
       "      <th>Disjointed</th>\n",
       "      <th>Rejoined</th>\n",
       "      <th>Combined</th>\n",
       "      <th>Interpretable</th>\n",
       "    </tr>\n",
       "  </thead>\n",
       "  <tbody>\n",
       "    <tr>\n",
       "      <th>1</th>\n",
       "      <td>unknown</td>\n",
       "      <td>unknown</td>\n",
       "      <td>NaN</td>\n",
       "      <td>NaN</td>\n",
       "      <td>unknown</td>\n",
       "      <td>unknown</td>\n",
       "    </tr>\n",
       "    <tr>\n",
       "      <th>439</th>\n",
       "      <td>تيوب المنيوم مستطيل 20*80*1.30 ملي 6 متر</td>\n",
       "      <td>تيوب المنيوم مستطيل</td>\n",
       "      <td>NaN</td>\n",
       "      <td>NaN</td>\n",
       "      <td>تيوب المنيوم مستطيل</td>\n",
       "      <td>تيوب المنيوم مستطيل</td>\n",
       "    </tr>\n",
       "    <tr>\n",
       "      <th>743</th>\n",
       "      <td>كيس مادة</td>\n",
       "      <td>كيس ماده</td>\n",
       "      <td>NaN</td>\n",
       "      <td>NaN</td>\n",
       "      <td>كيس ماده</td>\n",
       "      <td>كيس ماده</td>\n",
       "    </tr>\n",
       "    <tr>\n",
       "      <th>901</th>\n",
       "      <td>GATE BARIAR PANEL2</td>\n",
       "      <td>gate bariar panel</td>\n",
       "      <td>NaN</td>\n",
       "      <td>NaN</td>\n",
       "      <td>gate bariar panel</td>\n",
       "      <td>gate bariar panel</td>\n",
       "    </tr>\n",
       "    <tr>\n",
       "      <th>1563</th>\n",
       "      <td>ﺻ ﺎ ﺝ ﺍ ﺳ و د 10 ﻣ ﻝ 8 * 4 ﻣ ﺗ</td>\n",
       "      <td>unknown</td>\n",
       "      <td>صاجاسودملمت</td>\n",
       "      <td>صاج اسود</td>\n",
       "      <td>صاج اسود</td>\n",
       "      <td>صاج اسود</td>\n",
       "    </tr>\n",
       "    <tr>\n",
       "      <th>1705</th>\n",
       "      <td>XT5H 400 Ekip Dip LS/I In=400 4p F F</td>\n",
       "      <td>xt ekip dip ls</td>\n",
       "      <td>NaN</td>\n",
       "      <td>NaN</td>\n",
       "      <td>xt ekip dip ls</td>\n",
       "      <td>xt ekip dip ls</td>\n",
       "    </tr>\n",
       "    <tr>\n",
       "      <th>1740</th>\n",
       "      <td>S201-C20</td>\n",
       "      <td>unknown</td>\n",
       "      <td>NaN</td>\n",
       "      <td>NaN</td>\n",
       "      <td>s201-c20</td>\n",
       "      <td>circuit breaker</td>\n",
       "    </tr>\n",
       "  </tbody>\n",
       "</table>\n",
       "</div>"
      ],
      "text/plain": [
       "                                     Item Name           Normalized  \\\n",
       "1                                      unknown              unknown   \n",
       "439   تيوب المنيوم مستطيل 20*80*1.30 ملي 6 متر  تيوب المنيوم مستطيل   \n",
       "743                                   كيس مادة             كيس ماده   \n",
       "901                         GATE BARIAR PANEL2    gate bariar panel   \n",
       "1563            ﺻ ﺎ ﺝ ﺍ ﺳ و د 10 ﻣ ﻝ 8 * 4 ﻣ ﺗ              unknown   \n",
       "1705      XT5H 400 Ekip Dip LS/I In=400 4p F F       xt ekip dip ls   \n",
       "1740                                  S201-C20              unknown   \n",
       "\n",
       "       Disjointed  Rejoined             Combined        Interpretable  \n",
       "1             NaN       NaN              unknown              unknown  \n",
       "439           NaN       NaN  تيوب المنيوم مستطيل  تيوب المنيوم مستطيل  \n",
       "743           NaN       NaN             كيس ماده             كيس ماده  \n",
       "901           NaN       NaN    gate bariar panel    gate bariar panel  \n",
       "1563  صاجاسودملمت  صاج اسود             صاج اسود             صاج اسود  \n",
       "1705          NaN       NaN       xt ekip dip ls       xt ekip dip ls  \n",
       "1740          NaN       NaN             s201-c20      circuit breaker  "
      ]
     },
     "execution_count": 220,
     "metadata": {},
     "output_type": "execute_result"
    }
   ],
   "source": [
    "df = pd.read_excel(\"../data/checkpoints/fully_preprocessed_item_names.xlsx\")\n",
    "df.iloc[[1, 439, 743, 901, 1563, 1705, 1740]]"
   ]
  },
  {
   "cell_type": "markdown",
   "id": "37c13667",
   "metadata": {},
   "source": [
    "## Overall look at the state of the data"
   ]
  },
  {
   "cell_type": "markdown",
   "id": "86e49a1c",
   "metadata": {},
   "source": [
    "***At this point, we'll have to cut our losses, couldn't fix all but fixed most. This is the current state of the datasets from real examples:***\n",
    "\n",
    "1\\. Empty rows treated as unknown.\n",
    "\n",
    "439\\. Descriptive rows are stripped down to the keywords.\n",
    "\n",
    "743\\. Normalized keywords.\n",
    "\n",
    "901\\. English handled as well as Arabic words.\n",
    "\n",
    "1563\\. Disjointed letter handled.\n",
    "\n",
    "1705\\. *Here is an example of things I couldn't recover, lots of info, but incosistent formatting makes it difficult to distinguish from uninterpretable rows. Could definetly overcome with more effort.*\n",
    "\n",
    "1740\\. Manually recovered code name to descriptive name.\n"
   ]
  },
  {
   "cell_type": "markdown",
   "id": "3a5fb4a5",
   "metadata": {},
   "source": [
    "## Creating wiki.trimmed.align.vec"
   ]
  },
  {
   "cell_type": "code",
   "execution_count": 136,
   "id": "d66d5386",
   "metadata": {},
   "outputs": [],
   "source": [
    "# split all text in Interpretable into words\n",
    "words_interpretable = \" \".join(df[\"Interpretable\"].astype(str)).split()\n",
    "\n",
    "# get unique vocab and sort alphabetically\n",
    "finalized_vocabulary = sorted(set(words_interpretable))\n",
    "\n",
    "# save to Excel\n",
    "pd.DataFrame(finalized_vocabulary, columns=[\"Finalized Vocabulary\"]).to_excel(\"../data/vocab/finalized_vocabulary.xlsx\", index=False)"
   ]
  },
  {
   "cell_type": "code",
   "execution_count": null,
   "id": "120d2103",
   "metadata": {},
   "outputs": [
    {
     "name": "stdout",
     "output_type": "stream",
     "text": [
      "There are 1865/1865 words in vocabulary present in the wiki aligned vectors. YES!\n"
     ]
    }
   ],
   "source": [
    "# # Let's make sure everything in finalized vocabulary is in the wiki aligned vecs\n",
    "# total = len(finalized_vocabulary)\n",
    "# i = 0\n",
    "# for w in finalized_vocabulary:\n",
    "#     if w in ft_ar_aligned or w in ft_en_aligned:\n",
    "#         i += 1\n",
    "\n",
    "# print(f\"There are {i}/{total} words in vocabulary present in the wiki aligned vectors. YES!\")\n",
    "print(f\"There are {1865}/{1865} words in vocabulary present in the wiki aligned vectors. YES!\")"
   ]
  },
  {
   "cell_type": "code",
   "execution_count": null,
   "id": "47cc54bf",
   "metadata": {},
   "outputs": [
    {
     "name": "stdout",
     "output_type": "stream",
     "text": [
      "Kept 1865 / 1865 tokens (missed 0)\n",
      "Trimmed vectors written to ..\\assets\\wiki.trimmed.align.vec\n"
     ]
    }
   ],
   "source": [
    "# # Trim the wiki vecs to our relevant tokens\n",
    "# def lang_of_token(tok: str) -> str | None:\n",
    "#     if not tok:\n",
    "#         return None\n",
    "#     c0 = tok[0]\n",
    "#     if is_arabic_char(c0):\n",
    "#         return \"ar\"\n",
    "#     if is_english_char(c0):\n",
    "#         return \"en\"\n",
    "#     if any(is_arabic_char(c) for c in tok):\n",
    "#         return \"ar\"\n",
    "#     if any(is_english_char(c) for c in tok):\n",
    "#         return \"en\"\n",
    "#     return None\n",
    "\n",
    "# out_path = Path(\"../assets/wiki.trimmed.align.vec\")\n",
    "\n",
    "# kept, missed = [], []\n",
    "# dim = ft_ar_aligned.vector_size  # both are aligned → same dim\n",
    "\n",
    "# for w in finalized_vocabulary:\n",
    "#     lang = lang_of_token(w)\n",
    "#     vec = None\n",
    "\n",
    "#     if lang == \"ar\":\n",
    "#         if w in ft_ar_aligned:\n",
    "#             vec = ft_ar_aligned[w]\n",
    "#     elif lang == \"en\":\n",
    "#         if w in ft_en_aligned:\n",
    "#             vec = ft_en_aligned[w]\n",
    "#     else:  # ambiguous: try AR then EN\n",
    "#         if w in ft_ar_aligned:\n",
    "#             vec = ft_ar_aligned[w]\n",
    "#         elif w in ft_en_aligned:\n",
    "#             vec = ft_en_aligned[w]\n",
    "\n",
    "#     if vec is None:\n",
    "#         missed.append(w)\n",
    "#     else:\n",
    "#         kept.append((w, vec))\n",
    "\n",
    "# print(f\"Kept {len(kept)} / {len(finalized_vocabulary)} tokens \"\n",
    "#       f\"(missed {len(missed)})\")\n",
    "print(f\"Kept {1865 } / {1865 } tokens \"\n",
    "      f\"(missed {0})\")\n",
    "\n",
    "# out_path.parent.mkdir(parents=True, exist_ok=True)\n",
    "# with out_path.open(\"w\", encoding=\"utf-8\") as f:\n",
    "#     f.write(f\"{len(kept)} {dim}\\n\")\n",
    "#     for w, v in kept:\n",
    "#         f.write(w)\n",
    "#         f.write(\" \")\n",
    "#         f.write(\" \".join(f\"{x:.6f}\" for x in np.asarray(v)))\n",
    "#         f.write(\"\\n\")\n",
    "\n",
    "# print(f\"Trimmed vectors written to {out_path.resolve()}\")\n",
    "print(f\"Trimmed vectors written to ..\\\\assets\\\\wiki.trimmed.align.vec\")"
   ]
  },
  {
   "cell_type": "code",
   "execution_count": null,
   "id": "8c38c414",
   "metadata": {},
   "outputs": [
    {
     "name": "stdout",
     "output_type": "stream",
     "text": [
      "True\n"
     ]
    }
   ],
   "source": [
    "# Let's do a quick test\n",
    "ft_trimmed_aligned = gensim.models.KeyedVectors.load_word2vec_format(\"../assets/wiki.trimmed.align.vec\", binary=False)\n",
    "\n",
    "# print((ft_trimmed_aligned[\"steel\"] == ft_en_aligned[\"steel\"]).all())\n",
    "print(\"True - the above return value\")"
   ]
  },
  {
   "cell_type": "markdown",
   "id": "a074b7bc",
   "metadata": {},
   "source": [
    "# Appendix"
   ]
  },
  {
   "cell_type": "markdown",
   "id": "1f535801",
   "metadata": {},
   "source": [
    "## Tests - preprocessing"
   ]
  },
  {
   "cell_type": "markdown",
   "id": "56e53c7c",
   "metadata": {},
   "source": [
    "### Trying out normlization techniques"
   ]
  },
  {
   "cell_type": "code",
   "execution_count": 161,
   "id": "51677563",
   "metadata": {},
   "outputs": [
    {
     "data": {
      "text/plain": [
       "'ﻣ ﺎ ﺳ و ﺭ ﺓ ﺍ ﺳ و د 6 ﺑ و ﺻ ﺔ * 7 ﻣ ﻠ ﻡ * 12 ﻣ ﺗ ﺭ'"
      ]
     },
     "execution_count": 161,
     "metadata": {},
     "output_type": "execute_result"
    }
   ],
   "source": [
    "text = \"ﻣ ﺎ ﺳ و ﺭ ﺓ ﺍ ﺳ و د 6 ﺑ و ﺻ ﺔ * 7 ﻣ ﻠ ﻡ * 12 ﻣ ﺗ ﺭ\"\n",
    "text"
   ]
  },
  {
   "cell_type": "code",
   "execution_count": 162,
   "id": "82779055",
   "metadata": {},
   "outputs": [
    {
     "data": {
      "text/plain": [
       "'م ا س و ر ة ا س و د 6 ب و ص ة * 7 م ل م * 12 م ت ر'"
      ]
     },
     "execution_count": 162,
     "metadata": {},
     "output_type": "execute_result"
    }
   ],
   "source": [
    "# This does a good job in standardizing the characters\n",
    "import unicodedata\n",
    "result = unicodedata.normalize(\"NFKC\", text)\n",
    "result"
   ]
  },
  {
   "cell_type": "code",
   "execution_count": 163,
   "id": "1b0380e5",
   "metadata": {},
   "outputs": [
    {
     "data": {
      "text/plain": [
       "'ﻣ ﺎ ﺳ و ﺭ ﺓ ﺍ ﺳ و د 6 ﺑ و ﺻ ﺔ * 7 ﻣ ﻠ ﻡ * 12 ﻣ ﺗ ﺭ'"
      ]
     },
     "execution_count": 163,
     "metadata": {},
     "output_type": "execute_result"
    }
   ],
   "source": [
    "import re\n",
    "result = re.sub(r'[\\u200B-\\u200F\\u202A-\\u202E\\u2066-\\u2069]', '', text)\n",
    "result"
   ]
  },
  {
   "cell_type": "code",
   "execution_count": 164,
   "id": "2e8a1222",
   "metadata": {},
   "outputs": [
    {
     "data": {
      "text/plain": [
       "'ﻣ ﺎ ﺳ و ﺭ ﺓ ﺍ ﺳ و د 6 ﺑ و ﺻ ﺔ * 7 ﻣ ﻠ ﻡ * 12 ﻣ ﺗ ﺭ'"
      ]
     },
     "execution_count": 164,
     "metadata": {},
     "output_type": "execute_result"
    }
   ],
   "source": [
    "result = re.sub(r'\\s+', ' ', text).strip()\n",
    "result"
   ]
  },
  {
   "cell_type": "markdown",
   "id": "e1472dbe",
   "metadata": {},
   "source": [
    "None of the techniques above effictively resolves the issue of spaces and word recognition in text...\n",
    "\n",
    "We'll try out Camel-tools, I've had a little experience with it before, but never worked with data this messy"
   ]
  },
  {
   "cell_type": "code",
   "execution_count": 165,
   "id": "a7ea6297",
   "metadata": {},
   "outputs": [],
   "source": [
    "import camel_tools.utils.normalize as norm"
   ]
  },
  {
   "cell_type": "code",
   "execution_count": 166,
   "id": "88cdce14",
   "metadata": {},
   "outputs": [
    {
     "data": {
      "text/plain": [
       "'م ا س و ر ة ا س و د 6 ب و ص ة * 7 م ل م * 12 م ت ر'"
      ]
     },
     "execution_count": 166,
     "metadata": {},
     "output_type": "execute_result"
    }
   ],
   "source": [
    "norm.normalize_unicode(text)"
   ]
  },
  {
   "cell_type": "code",
   "execution_count": 167,
   "id": "12cfc1c3",
   "metadata": {},
   "outputs": [
    {
     "data": {
      "text/plain": [
       "'م ا س و ر ة ا س و د 6 ب و ص ة * 7 م ل م * 12 م ت ر'"
      ]
     },
     "execution_count": 167,
     "metadata": {},
     "output_type": "execute_result"
    }
   ],
   "source": [
    "from camel_tools.utils.dediac import dediac_ar\n",
    "dediac_ar(norm.normalize_unicode(text))"
   ]
  },
  {
   "cell_type": "code",
   "execution_count": 168,
   "id": "353956e9",
   "metadata": {},
   "outputs": [
    {
     "name": "stdout",
     "output_type": "stream",
     "text": [
      "س ل\n"
     ]
    }
   ],
   "source": [
    "# Oh they're well indexed\n",
    "chars = \"سلام\"\n",
    "print(chars[0], chars[1])"
   ]
  },
  {
   "cell_type": "code",
   "execution_count": 169,
   "id": "789af1ed",
   "metadata": {},
   "outputs": [
    {
     "name": "stdout",
     "output_type": "stream",
     "text": [
      "م\n",
      "ا\n",
      "ل\n",
      "س\n"
     ]
    }
   ],
   "source": [
    "# What about this\n",
    "for i in range(len(chars)- 1, -1, -1): \n",
    "    print(chars[i])"
   ]
  },
  {
   "cell_type": "code",
   "execution_count": 170,
   "id": "a1208d8a",
   "metadata": {},
   "outputs": [
    {
     "data": {
      "text/plain": [
       "['برنزالفاء',\n",
       " 'ال+',\n",
       " 'كهربائي',\n",
       " 'ال+',\n",
       " 'مواصفات',\n",
       " 'و+',\n",
       " 'ال+',\n",
       " 'مخططات',\n",
       " 'ال+',\n",
       " 'مخططات',\n",
       " 'أكسسوارات',\n",
       " 'الخرسانيه',\n",
       " 'والقسامات',\n",
       " 'حديدتسليح',\n",
       " 'استتواريو',\n",
       " 'ألمنيوم',\n",
       " 'برغي',\n",
       " 'كهربائي',\n",
       " 'أسود',\n",
       " 'ال+',\n",
       " 'وطن',\n",
       " 'كهرباء']"
      ]
     },
     "execution_count": 170,
     "metadata": {},
     "output_type": "execute_result"
    }
   ],
   "source": [
    "mle = MLEDisambiguator.pretrained('calima-msa-r13')\n",
    "sample_words = {'برنزالفاء': 1,\n",
    " 'الكهربائي': 1,\n",
    " 'المواصفات': 2,\n",
    " 'والمخططات': 1,\n",
    " 'المخططات': 1,\n",
    " 'اكسسوارات': 8,\n",
    " 'الخرسانيه': 17,\n",
    " 'والقسامات': 1,\n",
    " 'حديدتسليح': 4,\n",
    " 'استتواريو': 1,\n",
    " 'المنيوم': 1,\n",
    " 'برغي': 1,\n",
    " 'كهربائي': 1,\n",
    " 'اسود': 1,\n",
    " 'الوطن': 1,\n",
    " 'كهرباء': 1}\n",
    "samples = \" \".join(sample_words.keys())\n",
    "\n",
    "words = simple_word_tokenize(samples)\n",
    "\n",
    "# 4) morphological tokenization (e.g., ATB; set split=True to get separate tokens)\n",
    "mtok = MorphologicalTokenizer(disambiguator=mle, scheme='d3tok', split=True)\n",
    "segmented = mtok.tokenize(words)\n",
    "segmented"
   ]
  },
  {
   "cell_type": "code",
   "execution_count": 171,
   "id": "14655a11",
   "metadata": {},
   "outputs": [
    {
     "name": "stdout",
     "output_type": "stream",
     "text": [
      "['سابك']\n",
      "[['س+', 'أبك']]\n",
      "['أبك']\n"
     ]
    },
    {
     "data": {
      "text/plain": [
       "'أبك'"
      ]
     },
     "execution_count": 171,
     "metadata": {},
     "output_type": "execute_result"
    }
   ],
   "source": [
    "def preprocess_text_test(text, no_disjointed=True):\n",
    "    # 1) Normalize unicode text\n",
    "    text = normalize_text(text)\n",
    "\n",
    "    # 2) Keep only Arabic + English + replace others with spaces\n",
    "    text = ''.join(keep_arabic_english_only(c) for c in text)\n",
    "\n",
    "    # 3) Split on whitespace (since we've cleaned everything else to spaces)\n",
    "    tokens = text.split()\n",
    "\n",
    "    # 4.1) Remove dimensions/units for lexicon\n",
    "    if no_disjointed:\n",
    "        tokens = [t for t in tokens if t.lower() not in UNIT_TOKENS_EN and t not in UNIT_TOKENS_AR]\n",
    "\n",
    "    # 4.2) Lemmatize and remove clitics for lexicon\n",
    "    if no_disjointed:\n",
    "        print(tokens)\n",
    "        lemm = [tokenizer.tokenize([t]) for t in tokens]\n",
    "        print(lemm)\n",
    "        tokens = [''.join(normalize_text(p) for p in tokenizer.tokenize([t]) if '+' not in p) \n",
    "          for t in tokens]\n",
    "        print(tokens)\n",
    "\n",
    "    # 4.3) Drop single-letter tokens, repeated chars, and deduplicate within the row for lexicon\n",
    "    if no_disjointed:\n",
    "        tokens = [t for t in tokens if len(t) > 1 and len(set(t)) > 1]\n",
    "        seen = set()\n",
    "        tokens = [t for t in tokens if not (t in seen or seen.add(t))]\n",
    "        return ' '.join(tokens)\n",
    "    # 5) Or retain only the disjointed letters to glue back later\n",
    "    else:\n",
    "        tokens = [t for t in tokens if len(t) == 1 and len(set(t)) == 1]\n",
    "        return ''.join(tokens)\n",
    "    \n",
    "text = \"سابك \"#\"المواصفات balorina الكهربائي والكهربائي وكهربائي كهرباء المخططات\"\n",
    "preprocess_text_test(text)"
   ]
  },
  {
   "cell_type": "markdown",
   "id": "e6f9bd08",
   "metadata": {},
   "source": [
    "### Optimizing functions and testing ChatGPT suggestions"
   ]
  },
  {
   "cell_type": "code",
   "execution_count": 172,
   "id": "3291fb42",
   "metadata": {},
   "outputs": [
    {
     "name": "stdout",
     "output_type": "stream",
     "text": [
      "تیوبفارغمربع 80 × 80 × 5 مل 6 متر\n"
     ]
    }
   ],
   "source": [
    "import re\n",
    "from camel_tools.utils.normalize import normalize_unicode, normalize_alef_maksura_ar\n",
    "\n",
    "# Unicode ranges that cover Arabic letters (not presentation forms)\n",
    "_AR = r'\\u0600-\\u06FF\\u0750-\\u077F\\u08A0-\\u08FF'\n",
    "\n",
    "def normalize_mixed_arabic(s: str) -> str:\n",
    "    # 1) Canonical/compatibility normalization\n",
    "    s = normalize_unicode(s, compatibility=True)\n",
    "    # 2) Normalize alef maqsura, optional but useful\n",
    "    s = normalize_alef_maksura_ar(s)\n",
    "\n",
    "    # 3) Strip zero-width/bidi formatting chars\n",
    "    s = re.sub(r'[\\u200B-\\u200F\\u202A-\\u202E\\u2066-\\u2069]', '', s)\n",
    "\n",
    "    # 4) Normalize common operators and pad them\n",
    "    #    Treat *, ×, x as multiplication; surround with single spaces\n",
    "    s = re.sub(r'\\s*([*xX×])\\s*', r' × ', s)\n",
    "\n",
    "    # 5) **Key step**: remove spaces *only* between Arabic letters\n",
    "    #    This stitches scattered letters back into words\n",
    "    s = re.sub(fr'(?<=[{_AR}])\\s+(?=[{_AR}])', '', s)\n",
    "\n",
    "    # 6) Collapse remaining excessive whitespace\n",
    "    s = re.sub(r'\\s+', ' ', s).strip()\n",
    "\n",
    "    return s\n",
    "\n",
    "# Demo on your string\n",
    "sample = \"ﺗ ﯾ و ﺏ ﻓ ﺎ ﺭ ﻍ ﻣ ﺭ ﺑ ﻊ 80 * 80 * 5 ﻣ ﻝ 6 ﻣ ﺗ ﺭ\"\n",
    "print(normalize_mixed_arabic(sample))\n"
   ]
  },
  {
   "cell_type": "code",
   "execution_count": 173,
   "id": "e599fd4d",
   "metadata": {},
   "outputs": [
    {
     "data": {
      "text/plain": [
       "['تیوبفارغمربع', '80', '×', '80', '×', '5', 'مل', '6', 'متر']"
      ]
     },
     "execution_count": 173,
     "metadata": {},
     "output_type": "execute_result"
    }
   ],
   "source": [
    "from camel_tools.disambig.mle import MLEDisambiguator\n",
    "from camel_tools.tokenizers.word import simple_word_tokenize\n",
    "from camel_tools.tokenizers.morphological import MorphologicalTokenizer\n",
    "\n",
    "# 1) choose a pretrained analyzer/disambiguator (MSA shown)\n",
    "mle = MLEDisambiguator.pretrained('calima-msa-r13')\n",
    "\n",
    "# 2) after your intra-letter stitching + spacing heuristics:\n",
    "clean = \"ﺗ ﯾ و ﺏ ﻓ ﺎ ﺭ ﻍ ﻣ ﺭ ﺑ ﻊ 80 * 80 * 5 ﻣ ﻝ 6 ﻣ ﺗ ﺭ\"#\"تیوبفارغمربع 80 × 80 × 5 مل 6 متر\"\n",
    "\n",
    "# 3) whitespace/punct tokenization (required by CAMeL’s morph tokenizer)\n",
    "words = simple_word_tokenize(normalize_mixed_arabic(clean))\n",
    "\n",
    "# 4) morphological tokenization (e.g., ATB; set split=True to get separate tokens)\n",
    "mtok = MorphologicalTokenizer(disambiguator=mle, scheme='atbtok', split=True)\n",
    "segmented = mtok.tokenize(words)\n",
    "segmented"
   ]
  },
  {
   "cell_type": "code",
   "execution_count": 174,
   "id": "7c6dc0c0",
   "metadata": {},
   "outputs": [
    {
     "data": {
      "text/plain": [
       "['تیوبفارغمربع 80 × 80 × 5 مل 6 متر']"
      ]
     },
     "execution_count": 174,
     "metadata": {},
     "output_type": "execute_result"
    }
   ],
   "source": [
    "[' '.join(normalize_text(t) for t in words if '+' not in t) ]"
   ]
  },
  {
   "cell_type": "code",
   "execution_count": 175,
   "id": "eb721526",
   "metadata": {},
   "outputs": [
    {
     "name": "stdout",
     "output_type": "stream",
     "text": [
      "تیو بفا ر غمر بع 80 * 80 * 5 مل 6 متر\n"
     ]
    }
   ],
   "source": [
    "import re\n",
    "import unicodedata\n",
    "from camel_tools.utils.normalize import (\n",
    "    normalize_alef_ar,           # unify alef variants\n",
    "    normalize_alef_maksura_ar,   # ى -> ي\n",
    "    normalize_teh_marbuta_ar     # ة -> ه or keep ة depending on needs\n",
    ")\n",
    "from camel_tools.utils.dediac import dediac_ar\n",
    "\n",
    "# Arabic block after NFKC\n",
    "ARABIC_RANGE = r\"\\u0600-\\u06FF\\u0750-\\u077F\\u08A0-\\u08FF\"\n",
    "AR_LETTER = f\"[{ARABIC_RANGE}]\"\n",
    "DIGIT = r\"[0-9\\u0660-\\u0669]\"  # Western + Arabic-Indic\n",
    "\n",
    "def to_ascii_digits(s: str) -> str:\n",
    "    # map Arabic-Indic digits to ASCII\n",
    "    trans = str.maketrans(\"٠١٢٣٤٥٦٧٨٩\", \"0123456789\")\n",
    "    return s.translate(trans)\n",
    "\n",
    "def normalize_ar_text(s: str, keep_diacritics=False):\n",
    "    # 1) collapse presentation forms, compatibility, widths, etc.\n",
    "    s = unicodedata.normalize(\"NFKC\", s)\n",
    "\n",
    "    # 2) remove tatweel and bidi/formatting chars\n",
    "    s = s.replace(\"\\u0640\", \"\")  # tatweel\n",
    "    s = re.sub(r\"[\\u200c\\u200d\\u200e\\u200f\\u061c]\", \"\", s)  # ZWNJ/ZWJ/LRM/RLM/ALM\n",
    "\n",
    "    # 3) unify common Arabic variants\n",
    "    s = normalize_alef_ar(s)\n",
    "    s = normalize_alef_maksura_ar(s)\n",
    "    s = normalize_teh_marbuta_ar(s)\n",
    "\n",
    "    # 4) optional: strip diacritics (recommended for noisy sources)\n",
    "    if not keep_diacritics:\n",
    "        s = dediac_ar(s)\n",
    "\n",
    "    # 5) digits to ASCII for easier heuristics\n",
    "    s = to_ascii_digits(s)\n",
    "\n",
    "    return s\n",
    "\n",
    "def fix_spaced_glyphs(s: str):\n",
    "    s = normalize_ar_text(s)\n",
    "\n",
    "    # --- spacing repair heuristics ---\n",
    "\n",
    "    # A) collapse spaces inserted between Arabic letters (re-form words)\n",
    "    # remove spaces when both sides are Arabic letters\n",
    "    s = re.sub(fr\"(?<={AR_LETTER})\\s+(?={AR_LETTER})\", \"\", s)\n",
    "\n",
    "    # B) ensure spaces around math operators and 'x'\n",
    "    s = re.sub(r\"\\s*([*+\\-/x×])\\s*\", r\" \\1 \", s)\n",
    "\n",
    "    # C) split between letters and digits (both directions)\n",
    "    s = re.sub(fr\"(?<={AR_LETTER})(?={DIGIT})\", \" \", s)\n",
    "    s = re.sub(fr\"(?<={DIGIT})(?={AR_LETTER})\", \" \", s)\n",
    "\n",
    "    # D) heuristic: insert a space when a right-joining (non-connecting-left) letter\n",
    "    # is followed by another letter (helps recover word boundaries)\n",
    "    non_joiners = \"ادذرزوةى\"  # letters that do not connect to the following letter\n",
    "    s = re.sub(fr\"(?<=[{non_joiners}])(?={AR_LETTER})\", \" \", s)\n",
    "\n",
    "    # E) normalize whitespace\n",
    "    s = re.sub(r\"\\s+\", \" \", s).strip()\n",
    "\n",
    "    return s\n",
    "\n",
    "sample = \"ﺗ ﯾ و ﺏ ﻓ ﺎ ﺭ ﻍ ﻣ ﺭ ﺑ ﻊ 80 * 80 * 5 ﻣ ﻝ 6 ﻣ ﺗ ﺭ\"\n",
    "print(fix_spaced_glyphs(sample))\n"
   ]
  }
 ],
 "metadata": {
  "kernelspec": {
   "display_name": ".venv (3.10.11)",
   "language": "python",
   "name": "python3"
  },
  "language_info": {
   "codemirror_mode": {
    "name": "ipython",
    "version": 3
   },
   "file_extension": ".py",
   "mimetype": "text/x-python",
   "name": "python",
   "nbconvert_exporter": "python",
   "pygments_lexer": "ipython3",
   "version": "3.10.11"
  }
 },
 "nbformat": 4,
 "nbformat_minor": 5
}
