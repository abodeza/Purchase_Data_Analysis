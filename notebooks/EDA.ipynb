{
 "cells": [
  {
   "cell_type": "markdown",
   "id": "b81ef9e6",
   "metadata": {},
   "source": [
    "# This repo is for performing EDA on the data"
   ]
  },
  {
   "cell_type": "markdown",
   "id": "2313177e",
   "metadata": {},
   "source": [
    "## Table of contents\n",
    "- [Setup](#setup)\n",
    "- [Loading and analyzing the data](#loading-and-analyzing-the-data)\n",
    "    - [Scratching the surface](#scratching-the-surface)\n",
    "        - [Assumed column definitions](#Assumed-column-definitions)\n",
    "        - [Data summary](#Data-summary)\n",
    "        - [Drop Project ID](#drop-project-id)\n",
    "        - [The distribution of the data](#The-distribution-of-the-data)\n",
    "            - [Visualization](#Visualization)\n",
    "        - [Column by column initial analysis](#Column-by-column-initial-analysis)\n",
    "    - [Digging deeper into the numerical cols](#Digging-deeper-into-the-numerical-cols)\n",
    "        - [Value uniqueness per column](#Value-uniqueness-per-column)\n",
    "        - [How are the entries related?](#How-are-the-entries-related?)\n",
    "            - [Item ID and Purchase Order ID](#Item-ID-and-Purchase-Order-ID)\n",
    "                - [Tro to infer Item Name from Purchase Order](#try-to-infer-item-name-from-purchase-order)\n",
    "            - [Product IDs](#Product-IDs)\n",
    "            - [🚨 ***Purchase Details Hiearchy***](#Purchase-Details-Hiearchy)\n",
    "        - [Total Bcy and Sub Total Bcy](#Total-Bcy-and-Sub-Total-Bcy)\n",
    "            - [Nailed It.](#Nailed-it.)\n",
    "        - [Currency Code](#Currency-Code)\n",
    "            - [Conclusion](#Conclusion)\n",
    "        - [Account ID](#Account-ID)\n",
    "            - [Findings](#Findings)\n",
    "        - [Tax ID](#tax-id)\n",
    "            - [Results](#Results)\n",
    "    - [Dealing with null values](#Dealing-with-null-values)\n",
    "- [Saving the modified dataset](#saving-the-modified-dataset)\n",
    "\n",
    "\n"
   ]
  },
  {
   "cell_type": "markdown",
   "id": "22d44886",
   "metadata": {},
   "source": [
    "# Setup"
   ]
  },
  {
   "cell_type": "code",
   "execution_count": 159,
   "id": "22026f4e",
   "metadata": {},
   "outputs": [
    {
     "data": {
      "text/plain": [
       "'\\npy -3.10 -m venv .venv\\n.venv\\\\Scripts\\x07ctivate\\npip install -r requirements.txt\\n'"
      ]
     },
     "execution_count": 159,
     "metadata": {},
     "output_type": "execute_result"
    }
   ],
   "source": [
    "# Setup the envionment via these CLIs\n",
    "\"\"\"\n",
    "py -3.10 -m venv .venv\n",
    ".venv\\Scripts\\activate\n",
    "pip install -r requirements.txt\n",
    "\"\"\""
   ]
  },
  {
   "cell_type": "code",
   "execution_count": 160,
   "id": "515c83d9",
   "metadata": {},
   "outputs": [],
   "source": [
    "# Import relevant libraries\n",
    "import pandas as pd\n",
    "import numpy as np\n",
    "import matplotlib.pyplot as plt"
   ]
  },
  {
   "cell_type": "markdown",
   "id": "016ad5da",
   "metadata": {},
   "source": [
    "# Loading and analyzing the data"
   ]
  },
  {
   "cell_type": "code",
   "execution_count": 161,
   "id": "4ebbb2b5",
   "metadata": {},
   "outputs": [],
   "source": [
    "data_path = \"../data/purchase-order-items.xlsx\"\n",
    "df_original = pd.read_excel(data_path)"
   ]
  },
  {
   "cell_type": "markdown",
   "id": "5e0a167e",
   "metadata": {},
   "source": [
    "## Scratching the surface\n",
    "I usually start with data summary and stats, then dig deeper into each column"
   ]
  },
  {
   "cell_type": "markdown",
   "id": "ccb0d5fc",
   "metadata": {},
   "source": [
    "### Assumed column definitions \n",
    "(modified after later analysis)\n",
    "- Item ID - a unique key for each item purchase entry\n",
    "- Item Name - a textual description of the purchased item/items\n",
    "- Qunatity - the number of items purchased of the same type\n",
    "- Total Bcy - Amount paid in Base Currency for purchase\n",
    "- Sub Total Bcy = Adjusted Total Bcy\n",
    "- Purchase Order ID - A reference for bulk purchases\n",
    "- Product ID - Unkown relationship with the rest of the data, assumed to represent the item purchased numerically or the product the item was purchased to create/supply\n",
    "- Currency Code - paid in SAR/USD\n",
    "- Account ID - account used to make the purchase/company the purchase was made for (probably the former)\n",
    "- Tax ID - ID used for tax reporting\n",
    "- Project ID - unknown, no real values; dropped"
   ]
  },
  {
   "cell_type": "markdown",
   "id": "e92e1794",
   "metadata": {},
   "source": [
    "### Data summary"
   ]
  },
  {
   "cell_type": "code",
   "execution_count": 162,
   "id": "403f2f40",
   "metadata": {},
   "outputs": [
    {
     "data": {
      "text/html": [
       "<div>\n",
       "<style scoped>\n",
       "    .dataframe tbody tr th:only-of-type {\n",
       "        vertical-align: middle;\n",
       "    }\n",
       "\n",
       "    .dataframe tbody tr th {\n",
       "        vertical-align: top;\n",
       "    }\n",
       "\n",
       "    .dataframe thead th {\n",
       "        text-align: right;\n",
       "    }\n",
       "</style>\n",
       "<table border=\"1\" class=\"dataframe\">\n",
       "  <thead>\n",
       "    <tr style=\"text-align: right;\">\n",
       "      <th></th>\n",
       "      <th>Item ID</th>\n",
       "      <th>Item Name</th>\n",
       "      <th>Quantity</th>\n",
       "      <th>Total Bcy</th>\n",
       "      <th>Sub Total Bcy</th>\n",
       "      <th>Purchase Order ID</th>\n",
       "      <th>Product ID</th>\n",
       "      <th>Currency Code</th>\n",
       "      <th>Account ID</th>\n",
       "      <th>Tax ID</th>\n",
       "      <th>Project ID</th>\n",
       "    </tr>\n",
       "  </thead>\n",
       "  <tbody>\n",
       "    <tr>\n",
       "      <th>0</th>\n",
       "      <td>3263831000000089042</td>\n",
       "      <td>NaN</td>\n",
       "      <td>75.21</td>\n",
       "      <td>227510.25</td>\n",
       "      <td>227510.25</td>\n",
       "      <td>3263831000000089040</td>\n",
       "      <td>NaN</td>\n",
       "      <td>SAR</td>\n",
       "      <td>3263831000000034003</td>\n",
       "      <td>3.263831e+18</td>\n",
       "      <td>NaN</td>\n",
       "    </tr>\n",
       "    <tr>\n",
       "      <th>1</th>\n",
       "      <td>3263831000000089046</td>\n",
       "      <td>NaN</td>\n",
       "      <td>15.00</td>\n",
       "      <td>47250.00</td>\n",
       "      <td>47250.00</td>\n",
       "      <td>3263831000000089040</td>\n",
       "      <td>NaN</td>\n",
       "      <td>SAR</td>\n",
       "      <td>3263831000000034003</td>\n",
       "      <td>3.263831e+18</td>\n",
       "      <td>NaN</td>\n",
       "    </tr>\n",
       "  </tbody>\n",
       "</table>\n",
       "</div>"
      ],
      "text/plain": [
       "               Item ID Item Name  Quantity  Total Bcy  Sub Total Bcy  \\\n",
       "0  3263831000000089042       NaN     75.21  227510.25      227510.25   \n",
       "1  3263831000000089046       NaN     15.00   47250.00       47250.00   \n",
       "\n",
       "     Purchase Order ID  Product ID Currency Code           Account ID  \\\n",
       "0  3263831000000089040         NaN           SAR  3263831000000034003   \n",
       "1  3263831000000089040         NaN           SAR  3263831000000034003   \n",
       "\n",
       "         Tax ID  Project ID  \n",
       "0  3.263831e+18         NaN  \n",
       "1  3.263831e+18         NaN  "
      ]
     },
     "execution_count": 162,
     "metadata": {},
     "output_type": "execute_result"
    }
   ],
   "source": [
    "df_original.head(2)"
   ]
  },
  {
   "cell_type": "code",
   "execution_count": 163,
   "id": "c15d8130",
   "metadata": {},
   "outputs": [
    {
     "data": {
      "text/html": [
       "<div>\n",
       "<style scoped>\n",
       "    .dataframe tbody tr th:only-of-type {\n",
       "        vertical-align: middle;\n",
       "    }\n",
       "\n",
       "    .dataframe tbody tr th {\n",
       "        vertical-align: top;\n",
       "    }\n",
       "\n",
       "    .dataframe thead th {\n",
       "        text-align: right;\n",
       "    }\n",
       "</style>\n",
       "<table border=\"1\" class=\"dataframe\">\n",
       "  <thead>\n",
       "    <tr style=\"text-align: right;\">\n",
       "      <th></th>\n",
       "      <th>Item ID</th>\n",
       "      <th>Item Name</th>\n",
       "      <th>Quantity</th>\n",
       "      <th>Total Bcy</th>\n",
       "      <th>Sub Total Bcy</th>\n",
       "      <th>Purchase Order ID</th>\n",
       "      <th>Product ID</th>\n",
       "      <th>Currency Code</th>\n",
       "      <th>Account ID</th>\n",
       "      <th>Tax ID</th>\n",
       "      <th>Project ID</th>\n",
       "    </tr>\n",
       "  </thead>\n",
       "  <tbody>\n",
       "    <tr>\n",
       "      <th>3148</th>\n",
       "      <td>3263831000016208285</td>\n",
       "      <td>حديد تسليح مجدول سعودي سابك 12 مم * 12 م</td>\n",
       "      <td>30.0</td>\n",
       "      <td>69000.0</td>\n",
       "      <td>69000.0</td>\n",
       "      <td>3263831000016208283</td>\n",
       "      <td>3.263831e+18</td>\n",
       "      <td>SAR</td>\n",
       "      <td>3263831000000034003</td>\n",
       "      <td>3.263831e+18</td>\n",
       "      <td>NaN</td>\n",
       "    </tr>\n",
       "    <tr>\n",
       "      <th>3149</th>\n",
       "      <td>3263831000018023011</td>\n",
       "      <td>حديد تسليح مجدول سعودي سابك 16 مم * 12 م</td>\n",
       "      <td>30.0</td>\n",
       "      <td>69000.0</td>\n",
       "      <td>69000.0</td>\n",
       "      <td>3263831000018023005</td>\n",
       "      <td>3.263831e+18</td>\n",
       "      <td>SAR</td>\n",
       "      <td>3263831000000034003</td>\n",
       "      <td>3.263831e+18</td>\n",
       "      <td>NaN</td>\n",
       "    </tr>\n",
       "  </tbody>\n",
       "</table>\n",
       "</div>"
      ],
      "text/plain": [
       "                  Item ID                                 Item Name  Quantity  \\\n",
       "3148  3263831000016208285  حديد تسليح مجدول سعودي سابك 12 مم * 12 م      30.0   \n",
       "3149  3263831000018023011  حديد تسليح مجدول سعودي سابك 16 مم * 12 م      30.0   \n",
       "\n",
       "      Total Bcy  Sub Total Bcy    Purchase Order ID    Product ID  \\\n",
       "3148    69000.0        69000.0  3263831000016208283  3.263831e+18   \n",
       "3149    69000.0        69000.0  3263831000018023005  3.263831e+18   \n",
       "\n",
       "     Currency Code           Account ID        Tax ID  Project ID  \n",
       "3148           SAR  3263831000000034003  3.263831e+18         NaN  \n",
       "3149           SAR  3263831000000034003  3.263831e+18         NaN  "
      ]
     },
     "execution_count": 163,
     "metadata": {},
     "output_type": "execute_result"
    }
   ],
   "source": [
    "df_original.tail(2)"
   ]
  },
  {
   "cell_type": "markdown",
   "id": "0559aa11",
   "metadata": {},
   "source": [
    "We can see that some values (and some columns) are missing, but how badly?"
   ]
  },
  {
   "cell_type": "code",
   "execution_count": 164,
   "id": "3b1462da",
   "metadata": {},
   "outputs": [
    {
     "name": "stdout",
     "output_type": "stream",
     "text": [
      "<class 'pandas.core.frame.DataFrame'>\n",
      "RangeIndex: 3150 entries, 0 to 3149\n",
      "Data columns (total 11 columns):\n",
      " #   Column             Non-Null Count  Dtype  \n",
      "---  ------             --------------  -----  \n",
      " 0   Item ID            3150 non-null   int64  \n",
      " 1   Item Name          2910 non-null   object \n",
      " 2   Quantity           3150 non-null   float64\n",
      " 3   Total Bcy          3150 non-null   float64\n",
      " 4   Sub Total Bcy      3150 non-null   float64\n",
      " 5   Purchase Order ID  3150 non-null   int64  \n",
      " 6   Product ID         2910 non-null   float64\n",
      " 7   Currency Code      3150 non-null   object \n",
      " 8   Account ID         3150 non-null   int64  \n",
      " 9   Tax ID             3085 non-null   float64\n",
      " 10  Project ID         0 non-null      float64\n",
      "dtypes: float64(6), int64(3), object(2)\n",
      "memory usage: 270.8+ KB\n"
     ]
    }
   ],
   "source": [
    "df_original.info()"
   ]
  },
  {
   "cell_type": "code",
   "execution_count": 165,
   "id": "291abc2d",
   "metadata": {},
   "outputs": [
    {
     "data": {
      "text/plain": [
       "Item ID                 0\n",
       "Item Name             240\n",
       "Quantity                0\n",
       "Total Bcy               0\n",
       "Sub Total Bcy           0\n",
       "Purchase Order ID       0\n",
       "Product ID            240\n",
       "Currency Code           0\n",
       "Account ID              0\n",
       "Tax ID                 65\n",
       "Project ID           3150\n",
       "dtype: int64"
      ]
     },
     "execution_count": 165,
     "metadata": {},
     "output_type": "execute_result"
    }
   ],
   "source": [
    "df_original.isnull().sum()"
   ]
  },
  {
   "cell_type": "markdown",
   "id": "b2a670d0",
   "metadata": {},
   "source": [
    "Alright so overall the data misses some values but not too much, specifically:\n",
    "- Item Name: 240 values \n",
    "- Product ID, similarly: 240 (could be correlated columns)\n",
    "- Tax ID: 65\n",
    "- Project ID: completely empty"
   ]
  },
  {
   "cell_type": "markdown",
   "id": "48ac4fa5",
   "metadata": {},
   "source": [
    "### Drop Project ID\n",
    "We'll drop the column and focus on the rest as it has no value in analysis"
   ]
  },
  {
   "cell_type": "code",
   "execution_count": 166,
   "id": "a5ce7b60",
   "metadata": {},
   "outputs": [],
   "source": [
    "df = df_original.drop(\"Project ID\", axis=1)"
   ]
  },
  {
   "cell_type": "markdown",
   "id": "b72edc03",
   "metadata": {},
   "source": [
    "### The distribution of the data"
   ]
  },
  {
   "cell_type": "code",
   "execution_count": 167,
   "id": "02777aa6",
   "metadata": {},
   "outputs": [
    {
     "data": {
      "text/html": [
       "<div>\n",
       "<style scoped>\n",
       "    .dataframe tbody tr th:only-of-type {\n",
       "        vertical-align: middle;\n",
       "    }\n",
       "\n",
       "    .dataframe tbody tr th {\n",
       "        vertical-align: top;\n",
       "    }\n",
       "\n",
       "    .dataframe thead th {\n",
       "        text-align: right;\n",
       "    }\n",
       "</style>\n",
       "<table border=\"1\" class=\"dataframe\">\n",
       "  <thead>\n",
       "    <tr style=\"text-align: right;\">\n",
       "      <th></th>\n",
       "      <th>Item ID</th>\n",
       "      <th>Quantity</th>\n",
       "      <th>Total Bcy</th>\n",
       "      <th>Sub Total Bcy</th>\n",
       "      <th>Purchase Order ID</th>\n",
       "      <th>Product ID</th>\n",
       "      <th>Account ID</th>\n",
       "      <th>Tax ID</th>\n",
       "    </tr>\n",
       "  </thead>\n",
       "  <tbody>\n",
       "    <tr>\n",
       "      <th>count</th>\n",
       "      <td>3.150000e+03</td>\n",
       "      <td>3150.000000</td>\n",
       "      <td>3.150000e+03</td>\n",
       "      <td>3.150000e+03</td>\n",
       "      <td>3.150000e+03</td>\n",
       "      <td>2.910000e+03</td>\n",
       "      <td>3.150000e+03</td>\n",
       "      <td>3.085000e+03</td>\n",
       "    </tr>\n",
       "    <tr>\n",
       "      <th>mean</th>\n",
       "      <td>3.263831e+18</td>\n",
       "      <td>475.470797</td>\n",
       "      <td>4.853890e+04</td>\n",
       "      <td>4.854089e+04</td>\n",
       "      <td>3.263831e+18</td>\n",
       "      <td>3.263831e+18</td>\n",
       "      <td>3.263831e+18</td>\n",
       "      <td>3.263831e+18</td>\n",
       "    </tr>\n",
       "    <tr>\n",
       "      <th>std</th>\n",
       "      <td>7.627889e+06</td>\n",
       "      <td>2737.024475</td>\n",
       "      <td>1.046032e+05</td>\n",
       "      <td>1.046032e+05</td>\n",
       "      <td>7.629406e+06</td>\n",
       "      <td>7.281519e+06</td>\n",
       "      <td>1.174301e+03</td>\n",
       "      <td>1.536249e+03</td>\n",
       "    </tr>\n",
       "    <tr>\n",
       "      <th>min</th>\n",
       "      <td>3.263831e+18</td>\n",
       "      <td>0.150000</td>\n",
       "      <td>0.000000e+00</td>\n",
       "      <td>0.000000e+00</td>\n",
       "      <td>3.263831e+18</td>\n",
       "      <td>3.263831e+18</td>\n",
       "      <td>3.263831e+18</td>\n",
       "      <td>3.263831e+18</td>\n",
       "    </tr>\n",
       "    <tr>\n",
       "      <th>25%</th>\n",
       "      <td>3.263831e+18</td>\n",
       "      <td>7.000000</td>\n",
       "      <td>2.001473e+03</td>\n",
       "      <td>2.001473e+03</td>\n",
       "      <td>3.263831e+18</td>\n",
       "      <td>3.263831e+18</td>\n",
       "      <td>3.263831e+18</td>\n",
       "      <td>3.263831e+18</td>\n",
       "    </tr>\n",
       "    <tr>\n",
       "      <th>50%</th>\n",
       "      <td>3.263831e+18</td>\n",
       "      <td>30.000000</td>\n",
       "      <td>1.235133e+04</td>\n",
       "      <td>1.237840e+04</td>\n",
       "      <td>3.263831e+18</td>\n",
       "      <td>3.263831e+18</td>\n",
       "      <td>3.263831e+18</td>\n",
       "      <td>3.263831e+18</td>\n",
       "    </tr>\n",
       "    <tr>\n",
       "      <th>75%</th>\n",
       "      <td>3.263831e+18</td>\n",
       "      <td>130.000000</td>\n",
       "      <td>5.599900e+04</td>\n",
       "      <td>5.599900e+04</td>\n",
       "      <td>3.263831e+18</td>\n",
       "      <td>3.263831e+18</td>\n",
       "      <td>3.263831e+18</td>\n",
       "      <td>3.263831e+18</td>\n",
       "    </tr>\n",
       "    <tr>\n",
       "      <th>max</th>\n",
       "      <td>3.263831e+18</td>\n",
       "      <td>70000.000000</td>\n",
       "      <td>1.519000e+06</td>\n",
       "      <td>1.519000e+06</td>\n",
       "      <td>3.263831e+18</td>\n",
       "      <td>3.263831e+18</td>\n",
       "      <td>3.263831e+18</td>\n",
       "      <td>3.263831e+18</td>\n",
       "    </tr>\n",
       "  </tbody>\n",
       "</table>\n",
       "</div>"
      ],
      "text/plain": [
       "            Item ID      Quantity     Total Bcy  Sub Total Bcy  \\\n",
       "count  3.150000e+03   3150.000000  3.150000e+03   3.150000e+03   \n",
       "mean   3.263831e+18    475.470797  4.853890e+04   4.854089e+04   \n",
       "std    7.627889e+06   2737.024475  1.046032e+05   1.046032e+05   \n",
       "min    3.263831e+18      0.150000  0.000000e+00   0.000000e+00   \n",
       "25%    3.263831e+18      7.000000  2.001473e+03   2.001473e+03   \n",
       "50%    3.263831e+18     30.000000  1.235133e+04   1.237840e+04   \n",
       "75%    3.263831e+18    130.000000  5.599900e+04   5.599900e+04   \n",
       "max    3.263831e+18  70000.000000  1.519000e+06   1.519000e+06   \n",
       "\n",
       "       Purchase Order ID    Product ID    Account ID        Tax ID  \n",
       "count       3.150000e+03  2.910000e+03  3.150000e+03  3.085000e+03  \n",
       "mean        3.263831e+18  3.263831e+18  3.263831e+18  3.263831e+18  \n",
       "std         7.629406e+06  7.281519e+06  1.174301e+03  1.536249e+03  \n",
       "min         3.263831e+18  3.263831e+18  3.263831e+18  3.263831e+18  \n",
       "25%         3.263831e+18  3.263831e+18  3.263831e+18  3.263831e+18  \n",
       "50%         3.263831e+18  3.263831e+18  3.263831e+18  3.263831e+18  \n",
       "75%         3.263831e+18  3.263831e+18  3.263831e+18  3.263831e+18  \n",
       "max         3.263831e+18  3.263831e+18  3.263831e+18  3.263831e+18  "
      ]
     },
     "execution_count": 167,
     "metadata": {},
     "output_type": "execute_result"
    }
   ],
   "source": [
    "df.describe()"
   ]
  },
  {
   "cell_type": "markdown",
   "id": "2c513f39",
   "metadata": {},
   "source": [
    "#### Visualization\n",
    "hmm the values are too large to see get intrepetable stats, let's visualize instead"
   ]
  },
  {
   "cell_type": "code",
   "execution_count": 168,
   "id": "91d77365",
   "metadata": {},
   "outputs": [
    {
     "name": "stdout",
     "output_type": "stream",
     "text": [
      "The numerical columns are: ['Item ID' 'Quantity' 'Total Bcy' 'Sub Total Bcy' 'Purchase Order ID'\n",
      " 'Product ID' 'Account ID' 'Tax ID']\n"
     ]
    },
    {
     "data": {
      "image/png": "[encoded data removed]",
      "text/plain": [
       "<Figure size 1200x1000 with 8 Axes>"
      ]
     },
     "metadata": {},
     "output_type": "display_data"
    }
   ],
   "source": [
    "# AI-Assisted Cell to generate plots\n",
    "num_cols = df.select_dtypes(include='number').columns\n",
    "print(\"The numerical columns are:\", num_cols.values)\n",
    "\n",
    "# Create a new df with NaN replaced by 0\n",
    "num_df = df[num_cols].astype(float).fillna(0)\n",
    "\n",
    "fig, axes = plt.subplots(4, 2, figsize=(12, 10))\n",
    "axes = axes.flatten()\n",
    "\n",
    "for ax, col in zip(axes, num_df.columns):\n",
    "    vals = num_df[col].to_numpy()\n",
    "    ax.hist(vals, bins=50, edgecolor='k')\n",
    "    ax.set_title(col)\n",
    "    ax.set_xlabel(col)\n",
    "    ax.set_ylabel(\"Frequency\")\n",
    "\n",
    "plt.tight_layout()\n",
    "plt.show()"
   ]
  },
  {
   "cell_type": "markdown",
   "id": "d5d45aef",
   "metadata": {},
   "source": [
    "### Column by column initial analysis\n",
    "- Item ID appears to be reused quite often, but still has a wide range which indicates a lot of different items were purchased but many were repeated purchases.\n",
    "- Quantity has a huge right tail (right skewed) some outliers were purchased in large quantities but most lie below 5000.\n",
    "- Total Bcy and Sub Total Bcy are similarly right skewed. They appear to have a very similar distrubtion.\n",
    "- Purchase Order ID appears to follow the same distribution as Item ID. Are these duplicates?\n",
    "- Product ID is overwhelmingly one value, the rest could've been zeroed out nulls.\n",
    "- Account ID is strange, need to invistigate more.\n",
    "- Tax ID is also overwhelmingly one value, the others are nulls?"
   ]
  },
  {
   "cell_type": "markdown",
   "id": "d39a5e58",
   "metadata": {},
   "source": [
    "## Digging deeper into the numerical cols\n",
    "The analysis above prompts further invistigation into each column and some columns' correlation"
   ]
  },
  {
   "cell_type": "markdown",
   "id": "138a2be0",
   "metadata": {},
   "source": [
    "### Value uniqueness per column"
   ]
  },
  {
   "cell_type": "code",
   "execution_count": 169,
   "id": "5001bc20",
   "metadata": {},
   "outputs": [
    {
     "data": {
      "text/plain": [
       "Item ID              3150\n",
       "Item Name            2302\n",
       "Quantity              441\n",
       "Total Bcy            2246\n",
       "Sub Total Bcy        2246\n",
       "Purchase Order ID     531\n",
       "Product ID            896\n",
       "Currency Code           2\n",
       "Account ID              2\n",
       "Tax ID                  1\n",
       "dtype: int64"
      ]
     },
     "execution_count": 169,
     "metadata": {},
     "output_type": "execute_result"
    }
   ],
   "source": [
    "# No. of unique values per column\n",
    "df.nunique(axis=0)"
   ]
  },
  {
   "cell_type": "markdown",
   "id": "d8188eb4",
   "metadata": {},
   "source": [
    "Analysis of uniqueness:\n",
    "- **Item ID** has completely unique values, not useful for analysis, but will be used as an identifier for the entries (like a unique key)\n",
    "- **Item Name** has some repeated entries, yet every entry has a unique Item ID? This is somewhat inconsistent\n",
    "---\n",
    "- **Purchase Order ID** many repeats, could be groups of items purchased in one order - their IDs look similar to Item IDs but won't dwell on it\n",
    "- **Product ID** has this few number of unique values? But I thought it would be consistent with Item Names to identify the items sinc Item IDs are all unique\n",
    "---\n",
    "- **Total Bcy** and **Sub Total Bcy** have the same number of unique values, correlated columns for sure\n",
    "- **Quantity** has many repeats, that's fine, it's specific to the purchases\n",
    "- **Currency Code** - SAR & USD\n",
    "- **Account ID** - only two IDs and surely no null values as seen previously\n",
    "- **Tax ID** has one unique value, which means the 65 other values are nulls"
   ]
  },
  {
   "cell_type": "markdown",
   "id": "d0df6a33",
   "metadata": {},
   "source": [
    "### How are the entries related?"
   ]
  },
  {
   "cell_type": "markdown",
   "id": "f6a6b11c",
   "metadata": {},
   "source": [
    "#### Item ID and Purchase Order ID\n",
    "Let's see if Items with Null names are at least part of known Purchases Orders so we can reverse engineer what they could be"
   ]
  },
  {
   "cell_type": "code",
   "execution_count": 170,
   "id": "c7de7f9b",
   "metadata": {},
   "outputs": [
    {
     "name": "stdout",
     "output_type": "stream",
     "text": [
      "=== Purchase Orders Overview ===\n",
      "Total POs: 531\n",
      "POs with NO item names at all: 54\n",
      "POs with MIXED known/missing: 2\n",
      "POs fully clean (no missing): 475\n",
      "\n",
      "=== Typical PO (medians) ===\n",
      "Rows per PO (median): 3\n",
      "Missing rows per PO (median): 0\n",
      "Known rows per PO (median): 3\n",
      "Missing fraction per PO (median): 0.000\n",
      "\n",
      "=== Action Items ===\n",
      "Rows needing attention (missing Item Name in mixed POs): 2\n",
      "                 Item ID Item Name  Quantity  Total Bcy  Sub Total Bcy  \\\n",
      "503  3263831000002621153       NaN       1.0        3.5            3.5   \n",
      "510  3263831000003059878       NaN       1.0        7.0            7.0   \n",
      "\n",
      "       Purchase Order ID  Product ID Currency Code           Account ID  \\\n",
      "503  3263831000002621149         NaN           SAR  3263831000000034003   \n",
      "510  3263831000002728005         NaN           SAR  3263831000000000409   \n",
      "\n",
      "           Tax ID  item_missing  \n",
      "503  3.263831e+18          True  \n",
      "510  3.263831e+18          True  \n"
     ]
    }
   ],
   "source": [
    "# AI-Assisted code block to quantify the reach of null values on purchase orders\n",
    "df_po = df.copy()\n",
    "\n",
    "# robust “missing” mask for Item Name\n",
    "item_missing = df_po[\"Item Name\"].isna() | df_po[\"Item Name\"].astype(str).str.strip().eq(\"\")\n",
    "df_po[\"item_missing\"] = item_missing\n",
    "\n",
    "# PO-level summary: how many known vs missing per PO\n",
    "po_summary = (\n",
    "    df_po.groupby(\"Purchase Order ID\", dropna=False)\n",
    "        .agg(n_rows=(\"Item Name\",\"size\"),\n",
    "             n_missing=(\"item_missing\",\"sum\"))\n",
    "        .assign(n_known=lambda x: x[\"n_rows\"] - x[\"n_missing\"],\n",
    "                p_missing=lambda x: x[\"n_missing\"]/x[\"n_rows\"],\n",
    "                mixed=lambda x: (x[\"n_known\"]>0) & (x[\"n_missing\"]>0))\n",
    "        .sort_values([\"mixed\",\"p_missing\",\"n_rows\"], ascending=[False, False, False])\n",
    ")\n",
    "\n",
    "# rows with missing Item Name that belong to mixed POs (what you care about)\n",
    "mixed_pos = po_summary.index[po_summary[\"mixed\"]].tolist()\n",
    "todo = df_po.loc[df_po[\"item_missing\"] & df_po[\"Purchase Order ID\"].isin(mixed_pos)].copy()\n",
    "\n",
    "# --- concise, intuitive summary ---\n",
    "\n",
    "n_pos = len(po_summary)\n",
    "n_all_missing = (po_summary[\"n_known\"] == 0).sum()\n",
    "n_mixed = po_summary[\"mixed\"].sum()\n",
    "n_clean = (po_summary[\"n_missing\"] == 0).sum()\n",
    "\n",
    "med_n_rows = int(po_summary[\"n_rows\"].median())\n",
    "med_n_missing = int(po_summary[\"n_missing\"].median())\n",
    "med_n_known = int(po_summary[\"n_known\"].median())\n",
    "med_p_missing = float(po_summary[\"p_missing\"].median())\n",
    "\n",
    "print(\"=== Purchase Orders Overview ===\")\n",
    "print(f\"Total POs: {n_pos}\")\n",
    "print(f\"POs with NO item names at all: {n_all_missing}\")\n",
    "print(f\"POs with MIXED known/missing: {n_mixed}\")\n",
    "print(f\"POs fully clean (no missing): {n_clean}\")\n",
    "\n",
    "print(\"\\n=== Typical PO (medians) ===\")\n",
    "print(f\"Rows per PO (median): {med_n_rows}\")\n",
    "print(f\"Missing rows per PO (median): {med_n_missing}\")\n",
    "print(f\"Known rows per PO (median): {med_n_known}\")\n",
    "print(f\"Missing fraction per PO (median): {med_p_missing:.3f}\")\n",
    "\n",
    "print(\"\\n=== Action Items ===\")\n",
    "print(f\"Rows needing attention (missing Item Name in mixed POs): {len(todo)}\")\n",
    "if len(todo) > 0:\n",
    "    print(todo.head(min(5, len(todo))))\n",
    "\n",
    "\n"
   ]
  },
  {
   "cell_type": "markdown",
   "id": "445abe86",
   "metadata": {},
   "source": [
    "So the most important things to take away from the analysis above are:\n",
    "- 54 Purchase orders have no item description at all. These will be marked us unknown and analyzed alone\n",
    "- 2 Item Names may be salvagable from the purchase orders they are part of (see below)\n"
   ]
  },
  {
   "cell_type": "markdown",
   "id": "2d29f4a3",
   "metadata": {},
   "source": [
    "##### Try to infer Item Name from Purchase Order"
   ]
  },
  {
   "cell_type": "code",
   "execution_count": 171,
   "id": "5033b0a6",
   "metadata": {},
   "outputs": [
    {
     "data": {
      "text/html": [
       "<div>\n",
       "<style scoped>\n",
       "    .dataframe tbody tr th:only-of-type {\n",
       "        vertical-align: middle;\n",
       "    }\n",
       "\n",
       "    .dataframe tbody tr th {\n",
       "        vertical-align: top;\n",
       "    }\n",
       "\n",
       "    .dataframe thead th {\n",
       "        text-align: right;\n",
       "    }\n",
       "</style>\n",
       "<table border=\"1\" class=\"dataframe\">\n",
       "  <thead>\n",
       "    <tr style=\"text-align: right;\">\n",
       "      <th></th>\n",
       "      <th>Item ID</th>\n",
       "      <th>Item Name</th>\n",
       "      <th>Quantity</th>\n",
       "      <th>Total Bcy</th>\n",
       "      <th>Sub Total Bcy</th>\n",
       "      <th>Purchase Order ID</th>\n",
       "      <th>Product ID</th>\n",
       "      <th>Currency Code</th>\n",
       "      <th>Account ID</th>\n",
       "      <th>Tax ID</th>\n",
       "    </tr>\n",
       "  </thead>\n",
       "  <tbody>\n",
       "    <tr>\n",
       "      <th>502</th>\n",
       "      <td>3263831000002621151</td>\n",
       "      <td>10 MM STEEL 60GR</td>\n",
       "      <td>79.05</td>\n",
       "      <td>173910.0</td>\n",
       "      <td>173910.0</td>\n",
       "      <td>3263831000002621149</td>\n",
       "      <td>3.263831e+18</td>\n",
       "      <td>SAR</td>\n",
       "      <td>3263831000000034003</td>\n",
       "      <td>3.263831e+18</td>\n",
       "    </tr>\n",
       "    <tr>\n",
       "      <th>503</th>\n",
       "      <td>3263831000002621153</td>\n",
       "      <td>NaN</td>\n",
       "      <td>1.00</td>\n",
       "      <td>3.5</td>\n",
       "      <td>3.5</td>\n",
       "      <td>3263831000002621149</td>\n",
       "      <td>NaN</td>\n",
       "      <td>SAR</td>\n",
       "      <td>3263831000000034003</td>\n",
       "      <td>3.263831e+18</td>\n",
       "    </tr>\n",
       "  </tbody>\n",
       "</table>\n",
       "</div>"
      ],
      "text/plain": [
       "                 Item ID         Item Name  Quantity  Total Bcy  \\\n",
       "502  3263831000002621151  10 MM STEEL 60GR     79.05   173910.0   \n",
       "503  3263831000002621153               NaN      1.00        3.5   \n",
       "\n",
       "     Sub Total Bcy    Purchase Order ID    Product ID Currency Code  \\\n",
       "502       173910.0  3263831000002621149  3.263831e+18           SAR   \n",
       "503            3.5  3263831000002621149           NaN           SAR   \n",
       "\n",
       "              Account ID        Tax ID  \n",
       "502  3263831000000034003  3.263831e+18  \n",
       "503  3263831000000034003  3.263831e+18  "
      ]
     },
     "execution_count": 171,
     "metadata": {},
     "output_type": "execute_result"
    }
   ],
   "source": [
    "# The Bcy differs largely and only one other item purchased; no information gained \n",
    "df[df[\"Purchase Order ID\"] == 3263831000002621149]"
   ]
  },
  {
   "cell_type": "code",
   "execution_count": 172,
   "id": "ac3543e3",
   "metadata": {},
   "outputs": [
    {
     "data": {
      "text/html": [
       "<div>\n",
       "<style scoped>\n",
       "    .dataframe tbody tr th:only-of-type {\n",
       "        vertical-align: middle;\n",
       "    }\n",
       "\n",
       "    .dataframe tbody tr th {\n",
       "        vertical-align: top;\n",
       "    }\n",
       "\n",
       "    .dataframe thead th {\n",
       "        text-align: right;\n",
       "    }\n",
       "</style>\n",
       "<table border=\"1\" class=\"dataframe\">\n",
       "  <thead>\n",
       "    <tr style=\"text-align: right;\">\n",
       "      <th></th>\n",
       "      <th>Item ID</th>\n",
       "      <th>Item Name</th>\n",
       "      <th>Quantity</th>\n",
       "      <th>Total Bcy</th>\n",
       "      <th>Sub Total Bcy</th>\n",
       "      <th>Purchase Order ID</th>\n",
       "      <th>Product ID</th>\n",
       "      <th>Currency Code</th>\n",
       "      <th>Account ID</th>\n",
       "      <th>Tax ID</th>\n",
       "    </tr>\n",
       "  </thead>\n",
       "  <tbody>\n",
       "    <tr>\n",
       "      <th>505</th>\n",
       "      <td>3263831000002728009</td>\n",
       "      <td>Cut &amp; Bend Rebar 10 mm</td>\n",
       "      <td>40.0</td>\n",
       "      <td>96000.0</td>\n",
       "      <td>96000.0</td>\n",
       "      <td>3263831000002728005</td>\n",
       "      <td>3.263831e+18</td>\n",
       "      <td>SAR</td>\n",
       "      <td>3263831000000034003</td>\n",
       "      <td>3.263831e+18</td>\n",
       "    </tr>\n",
       "    <tr>\n",
       "      <th>506</th>\n",
       "      <td>3263831000002728011</td>\n",
       "      <td>Cut &amp; Bend Rebar 12 mm</td>\n",
       "      <td>60.0</td>\n",
       "      <td>135000.0</td>\n",
       "      <td>135000.0</td>\n",
       "      <td>3263831000002728005</td>\n",
       "      <td>3.263831e+18</td>\n",
       "      <td>SAR</td>\n",
       "      <td>3263831000000034003</td>\n",
       "      <td>3.263831e+18</td>\n",
       "    </tr>\n",
       "    <tr>\n",
       "      <th>507</th>\n",
       "      <td>3263831000002728013</td>\n",
       "      <td>Cut &amp; Bend Rebar 14 mm</td>\n",
       "      <td>31.0</td>\n",
       "      <td>69750.0</td>\n",
       "      <td>69750.0</td>\n",
       "      <td>3263831000002728005</td>\n",
       "      <td>3.263831e+18</td>\n",
       "      <td>SAR</td>\n",
       "      <td>3263831000000034003</td>\n",
       "      <td>3.263831e+18</td>\n",
       "    </tr>\n",
       "    <tr>\n",
       "      <th>508</th>\n",
       "      <td>3263831000002728007</td>\n",
       "      <td>Cut &amp; Bend Rebar 8 mm</td>\n",
       "      <td>50.0</td>\n",
       "      <td>120000.0</td>\n",
       "      <td>120000.0</td>\n",
       "      <td>3263831000002728005</td>\n",
       "      <td>3.263831e+18</td>\n",
       "      <td>SAR</td>\n",
       "      <td>3263831000000034003</td>\n",
       "      <td>3.263831e+18</td>\n",
       "    </tr>\n",
       "    <tr>\n",
       "      <th>509</th>\n",
       "      <td>3263831000002728015</td>\n",
       "      <td>Cut &amp; Bend Rebar 16 mm</td>\n",
       "      <td>26.0</td>\n",
       "      <td>58500.0</td>\n",
       "      <td>58500.0</td>\n",
       "      <td>3263831000002728005</td>\n",
       "      <td>3.263831e+18</td>\n",
       "      <td>SAR</td>\n",
       "      <td>3263831000000034003</td>\n",
       "      <td>3.263831e+18</td>\n",
       "    </tr>\n",
       "    <tr>\n",
       "      <th>510</th>\n",
       "      <td>3263831000003059878</td>\n",
       "      <td>NaN</td>\n",
       "      <td>1.0</td>\n",
       "      <td>7.0</td>\n",
       "      <td>7.0</td>\n",
       "      <td>3263831000002728005</td>\n",
       "      <td>NaN</td>\n",
       "      <td>SAR</td>\n",
       "      <td>3263831000000000409</td>\n",
       "      <td>3.263831e+18</td>\n",
       "    </tr>\n",
       "  </tbody>\n",
       "</table>\n",
       "</div>"
      ],
      "text/plain": [
       "                 Item ID               Item Name  Quantity  Total Bcy  \\\n",
       "505  3263831000002728009  Cut & Bend Rebar 10 mm      40.0    96000.0   \n",
       "506  3263831000002728011  Cut & Bend Rebar 12 mm      60.0   135000.0   \n",
       "507  3263831000002728013  Cut & Bend Rebar 14 mm      31.0    69750.0   \n",
       "508  3263831000002728007   Cut & Bend Rebar 8 mm      50.0   120000.0   \n",
       "509  3263831000002728015  Cut & Bend Rebar 16 mm      26.0    58500.0   \n",
       "510  3263831000003059878                     NaN       1.0        7.0   \n",
       "\n",
       "     Sub Total Bcy    Purchase Order ID    Product ID Currency Code  \\\n",
       "505        96000.0  3263831000002728005  3.263831e+18           SAR   \n",
       "506       135000.0  3263831000002728005  3.263831e+18           SAR   \n",
       "507        69750.0  3263831000002728005  3.263831e+18           SAR   \n",
       "508       120000.0  3263831000002728005  3.263831e+18           SAR   \n",
       "509        58500.0  3263831000002728005  3.263831e+18           SAR   \n",
       "510            7.0  3263831000002728005           NaN           SAR   \n",
       "\n",
       "              Account ID        Tax ID  \n",
       "505  3263831000000034003  3.263831e+18  \n",
       "506  3263831000000034003  3.263831e+18  \n",
       "507  3263831000000034003  3.263831e+18  \n",
       "508  3263831000000034003  3.263831e+18  \n",
       "509  3263831000000034003  3.263831e+18  \n",
       "510  3263831000000000409  3.263831e+18  "
      ]
     },
     "execution_count": 172,
     "metadata": {},
     "output_type": "execute_result"
    }
   ],
   "source": [
    "# The Bcy differs largely and reported under a different Account ID.\n",
    "df[df[\"Purchase Order ID\"] == 3263831000002728005]"
   ]
  },
  {
   "cell_type": "markdown",
   "id": "5430b09b",
   "metadata": {},
   "source": [
    "Theses entires could be related to the other items within the purchases, but as clear outliers, they could cause the model to underperform if kept\n",
    "*Decision: treat as unkown Item Name entries*"
   ]
  },
  {
   "cell_type": "markdown",
   "id": "fefaf854",
   "metadata": {},
   "source": [
    "#### Product IDs"
   ]
  },
  {
   "cell_type": "code",
   "execution_count": 173,
   "id": "4b7ecedd",
   "metadata": {},
   "outputs": [
    {
     "name": "stdout",
     "output_type": "stream",
     "text": [
      "Total products: 896\n",
      "Products with conflicting item names: 537\n"
     ]
    }
   ],
   "source": [
    "# AI-Assisted block of code to see the relationship between Product IDs and Item Names\n",
    "# Number of unique item names per product\n",
    "item_per_product = df.groupby(\"Product ID\")[\"Item Name\"]\n",
    "item_per_product_nunique = item_per_product.nunique()\n",
    "\n",
    "# Products with >1 unique item name\n",
    "conflicts = item_per_product_nunique[item_per_product_nunique > 1]\n",
    "\n",
    "print(\"Total products:\", len(item_per_product_nunique))\n",
    "print(\"Products with conflicting item names:\", len(conflicts))"
   ]
  },
  {
   "cell_type": "markdown",
   "id": "bc922bc5",
   "metadata": {},
   "source": [
    "There are 896 unique product IDs, 537 of which are associated with multiple purchased items, what is their relationship?\n",
    "\n",
    "*Need to create a tab to view the relationship between Product IDs and their associated Item Names*"
   ]
  },
  {
   "cell_type": "code",
   "execution_count": 174,
   "id": "bf1d5c93",
   "metadata": {},
   "outputs": [
    {
     "name": "stdout",
     "output_type": "stream",
     "text": [
      "Item Names grouped by Product ID: Product ID\n",
      "3.263831e+18                                                                                                                                                                                                                        [HEB 200X200X15X9MMX12MTR, HEB 280X280X10.5X18MMX12MTR]\n",
      "3.263831e+18                                                        [B.SHEET 1.5X6 MTRX20 MM, HR Sheet 5.8x1000x2000mm, HR Sheet 3.0x1000x2000mm, مربع حديد مقاس 16*16 مم سماكة 1.5 مم طول 6 م, مبروم املس 10*6000 مم, ASTM C-20 SRC Screed, 350kg/M3 125+/- Max agg. Size 10 (unit is M3)]\n",
      "3.263831e+18                                                                              [IPE 300X150X7.1X10.7X12MTR, ماسورة حديد مقاس 1.5 بوصة سماكة 2.8 مم طول 6 م, ماسورة حديد مقاس 1 بوصة سماكة 1.5 مم طول 6 م, صاج حديد أسود مقاس 1000*2000 مم سماكة مم 9.80, مبسط حديد 40*8*6000 مم]\n",
      "3.263831e+18                                                                                                                     [مستطيل حديد مقاس 20*30 مم سماكة 1.5 مم طول 6 م, Tube 40x40x1.20x6000MM, Pipe 1.25 inch x 1.5 x 6000 mm, HR Sheet 7.80x1000x2000mm, Tube 25x25x1.2x6000mm]\n",
      "3.263831e+18    [HEB 260X260X10X17.5MMX12MTR, RAIL CLAMP, HDG TRANSFORMER RAIL QU100 - WT:88.96 KG/M - LENGHT: 1.55M, HDG M12 ANCHOR BOLT, LENGHT400MM, HDG TRANSFORMER RAIL QU100 - WT:88.96 KG/M - LENGHT: 2.531M, ASTM C-20 SRC Blending, 320kg/M3 125+/- Max agg. Size 20 (unit is M3)]\n",
      "Name: Item Name, dtype: object\n"
     ]
    }
   ],
   "source": [
    "# AI-Assisted Cell to see a few of the conflicting entries\n",
    "\n",
    "# Product IDs that have >1 unique item name\n",
    "conflict_ids = conflicts.index\n",
    "\n",
    "# See all item names grouped by each conflicting product ID\n",
    "conflict_details = df[df[\"Product ID\"].isin(conflict_ids)] \\\n",
    "    .groupby(\"Product ID\")[\"Item Name\"].unique()\n",
    "\n",
    "# Print one example product ID and its item names\n",
    "example_ids = conflict_ids[0:5]\n",
    "with pd.option_context('display.max_colwidth', None, 'display.max_rows', None):\n",
    "    print(\"Item Names grouped by Product ID:\", conflict_details.loc[example_ids])"
   ]
  },
  {
   "cell_type": "markdown",
   "id": "1f53abce",
   "metadata": {},
   "source": [
    "**Verdict:** the product IDs don't seem to relate to the items directly but rather what they are used for, i.e., the product they create.\n",
    "\n",
    "I could use product ID to categorize the items purchased, let's visualize this a bit more:"
   ]
  },
  {
   "cell_type": "code",
   "execution_count": 175,
   "id": "e4f67a94",
   "metadata": {},
   "outputs": [
    {
     "data": {
      "image/png": "[encoded data removed]",
      "text/plain": [
       "<Figure size 1000x600 with 1 Axes>"
      ]
     },
     "metadata": {},
     "output_type": "display_data"
    }
   ],
   "source": [
    "plt.figure(figsize=(10, 6))\n",
    "plt.hist(item_per_product_nunique, bins=50, edgecolor='k')\n",
    "plt.title(\"Distribution of Unique Item Names per Product ID\")\n",
    "plt.xlabel(\"Number of Unique Item Names\")\n",
    "plt.ylabel(\"Count of Product IDs\")\n",
    "plt.grid(True)\n",
    "plt.show()"
   ]
  },
  {
   "cell_type": "markdown",
   "id": "f03a8407",
   "metadata": {},
   "source": [
    "Most items appear to be purchased for a unique product, but many are grouped under certain Product IDs"
   ]
  },
  {
   "cell_type": "code",
   "execution_count": 176,
   "id": "6dad29ad",
   "metadata": {},
   "outputs": [
    {
     "data": {
      "image/png": "[encoded data removed]",
      "text/plain": [
       "<Figure size 1400x500 with 2 Axes>"
      ]
     },
     "metadata": {},
     "output_type": "display_data"
    }
   ],
   "source": [
    "# Unique product count per purchase order\n",
    "products_per_order = df.groupby(\"Purchase Order ID\")[\"Product ID\"].nunique()\n",
    "\n",
    "# Unique item name count per purchase order\n",
    "items_per_order = df.groupby(\"Purchase Order ID\")[\"Item Name\"].nunique()\n",
    "\n",
    "# Side-by-side plots\n",
    "fig, axes = plt.subplots(1, 2, figsize=(14, 5))\n",
    "\n",
    "# Products per order\n",
    "axes[0].hist(products_per_order, bins=50, edgecolor='k')\n",
    "axes[0].set_title(\"Unique Products per Purchase Order\")\n",
    "axes[0].set_xlabel(\"Number of Unique Products\")\n",
    "axes[0].set_ylabel(\"Count of Purchase Orders\")\n",
    "\n",
    "# Items per order\n",
    "axes[1].hist(items_per_order, bins=50, edgecolor='k')\n",
    "axes[1].set_title(\"Unique Item Names per Purchase Order\")\n",
    "axes[1].set_xlabel(\"Number of Unique Item Names\")\n",
    "axes[1].set_ylabel(\"Count of Purchase Orders\")\n",
    "\n",
    "plt.tight_layout()\n",
    "plt.show()"
   ]
  },
  {
   "cell_type": "markdown",
   "id": "071575f8",
   "metadata": {},
   "source": [
    "Purchases made appear to be made for more than one product at a time -> purchases introduce some structure that could lead to understanding the industries the items are purchased for\n",
    "\n",
    "On the other hand, Purchase Orders and item names alone can't tell us much as most purchases have unique Item Names"
   ]
  },
  {
   "cell_type": "markdown",
   "id": "a5422333",
   "metadata": {},
   "source": [
    "#### Purchase Details Hiearchy\n",
    "The entries appear to follow this hierarchy:\n",
    "1. **Item Name** (low level) - can infer low level item descriptions\n",
    "    - Will use to define the most frequent types of items purchased and what category they fall into\n",
    "2. **Product Item** (mid level) - groupes items for a specific product and can infer industry/category of items based on frequency\n",
    "    - Will be used to define the industries the entries can be divided into\n",
    "3. **Purchase Order** (high level) - purchases made for products in similar categories should be induced from here\n",
    "    - Will use to infer the spending across industries and highlight high/low spend categories"
   ]
  },
  {
   "cell_type": "markdown",
   "id": "a10b5fa1",
   "metadata": {},
   "source": [
    "### Total Bcy and Sub Total Bcy\n",
    "From previous observations, the Bcys appear to be highly correlated, let's see that more clearly"
   ]
  },
  {
   "cell_type": "code",
   "execution_count": 177,
   "id": "3afe4de2",
   "metadata": {},
   "outputs": [
    {
     "name": "stdout",
     "output_type": "stream",
     "text": [
      "No. of Total Bcy == Sub Total Bcy 3135\n",
      "No. of Total Bcy != Sub Total Bcy 15\n"
     ]
    }
   ],
   "source": [
    "print(\"No. of Total Bcy == Sub Total Bcy\", (df[\"Total Bcy\"] == df[\"Sub Total Bcy\"]).sum())\n",
    "print(\"No. of Total Bcy != Sub Total Bcy\", (df[\"Total Bcy\"] != df[\"Sub Total Bcy\"]).sum())"
   ]
  },
  {
   "cell_type": "code",
   "execution_count": 178,
   "id": "f97f67eb",
   "metadata": {},
   "outputs": [
    {
     "data": {
      "text/html": [
       "<div>\n",
       "<style scoped>\n",
       "    .dataframe tbody tr th:only-of-type {\n",
       "        vertical-align: middle;\n",
       "    }\n",
       "\n",
       "    .dataframe tbody tr th {\n",
       "        vertical-align: top;\n",
       "    }\n",
       "\n",
       "    .dataframe thead th {\n",
       "        text-align: right;\n",
       "    }\n",
       "</style>\n",
       "<table border=\"1\" class=\"dataframe\">\n",
       "  <thead>\n",
       "    <tr style=\"text-align: right;\">\n",
       "      <th></th>\n",
       "      <th>Item ID</th>\n",
       "      <th>Item Name</th>\n",
       "      <th>Quantity</th>\n",
       "      <th>Total Bcy</th>\n",
       "      <th>Sub Total Bcy</th>\n",
       "      <th>Purchase Order ID</th>\n",
       "      <th>Product ID</th>\n",
       "      <th>Currency Code</th>\n",
       "      <th>Account ID</th>\n",
       "      <th>Tax ID</th>\n",
       "    </tr>\n",
       "  </thead>\n",
       "  <tbody>\n",
       "    <tr>\n",
       "      <th>218</th>\n",
       "      <td>3263831000000641063</td>\n",
       "      <td>NaN</td>\n",
       "      <td>2.0</td>\n",
       "      <td>395.22</td>\n",
       "      <td>403.29</td>\n",
       "      <td>3263831000000641061</td>\n",
       "      <td>NaN</td>\n",
       "      <td>SAR</td>\n",
       "      <td>3263831000000034003</td>\n",
       "      <td>3.263831e+18</td>\n",
       "    </tr>\n",
       "    <tr>\n",
       "      <th>219</th>\n",
       "      <td>3263831000000641071</td>\n",
       "      <td>NaN</td>\n",
       "      <td>96.0</td>\n",
       "      <td>13474.96</td>\n",
       "      <td>13749.96</td>\n",
       "      <td>3263831000000641061</td>\n",
       "      <td>NaN</td>\n",
       "      <td>SAR</td>\n",
       "      <td>3263831000000034003</td>\n",
       "      <td>3.263831e+18</td>\n",
       "    </tr>\n",
       "    <tr>\n",
       "      <th>220</th>\n",
       "      <td>3263831000000641079</td>\n",
       "      <td>NaN</td>\n",
       "      <td>160.0</td>\n",
       "      <td>5193.84</td>\n",
       "      <td>5299.84</td>\n",
       "      <td>3263831000000641061</td>\n",
       "      <td>NaN</td>\n",
       "      <td>SAR</td>\n",
       "      <td>3263831000000034003</td>\n",
       "      <td>3.263831e+18</td>\n",
       "    </tr>\n",
       "    <tr>\n",
       "      <th>221</th>\n",
       "      <td>3263831000000641087</td>\n",
       "      <td>NaN</td>\n",
       "      <td>315.0</td>\n",
       "      <td>40561.20</td>\n",
       "      <td>41388.98</td>\n",
       "      <td>3263831000000641061</td>\n",
       "      <td>NaN</td>\n",
       "      <td>SAR</td>\n",
       "      <td>3263831000000034003</td>\n",
       "      <td>3.263831e+18</td>\n",
       "    </tr>\n",
       "    <tr>\n",
       "      <th>222</th>\n",
       "      <td>3263831000000641065</td>\n",
       "      <td>NaN</td>\n",
       "      <td>22.0</td>\n",
       "      <td>3905.54</td>\n",
       "      <td>3985.24</td>\n",
       "      <td>3263831000000641061</td>\n",
       "      <td>NaN</td>\n",
       "      <td>SAR</td>\n",
       "      <td>3263831000000034003</td>\n",
       "      <td>3.263831e+18</td>\n",
       "    </tr>\n",
       "    <tr>\n",
       "      <th>223</th>\n",
       "      <td>3263831000000641073</td>\n",
       "      <td>NaN</td>\n",
       "      <td>96.0</td>\n",
       "      <td>17293.79</td>\n",
       "      <td>17646.72</td>\n",
       "      <td>3263831000000641061</td>\n",
       "      <td>NaN</td>\n",
       "      <td>SAR</td>\n",
       "      <td>3263831000000034003</td>\n",
       "      <td>3.263831e+18</td>\n",
       "    </tr>\n",
       "    <tr>\n",
       "      <th>224</th>\n",
       "      <td>3263831000000641081</td>\n",
       "      <td>NaN</td>\n",
       "      <td>450.0</td>\n",
       "      <td>34054.02</td>\n",
       "      <td>34749.00</td>\n",
       "      <td>3263831000000641061</td>\n",
       "      <td>NaN</td>\n",
       "      <td>SAR</td>\n",
       "      <td>3263831000000034003</td>\n",
       "      <td>3.263831e+18</td>\n",
       "    </tr>\n",
       "    <tr>\n",
       "      <th>225</th>\n",
       "      <td>3263831000000641089</td>\n",
       "      <td>NaN</td>\n",
       "      <td>315.0</td>\n",
       "      <td>25154.11</td>\n",
       "      <td>25667.46</td>\n",
       "      <td>3263831000000641061</td>\n",
       "      <td>NaN</td>\n",
       "      <td>SAR</td>\n",
       "      <td>3263831000000034003</td>\n",
       "      <td>3.263831e+18</td>\n",
       "    </tr>\n",
       "    <tr>\n",
       "      <th>226</th>\n",
       "      <td>3263831000000641069</td>\n",
       "      <td>NaN</td>\n",
       "      <td>96.0</td>\n",
       "      <td>1937.29</td>\n",
       "      <td>1976.83</td>\n",
       "      <td>3263831000000641061</td>\n",
       "      <td>NaN</td>\n",
       "      <td>SAR</td>\n",
       "      <td>3263831000000034003</td>\n",
       "      <td>3.263831e+18</td>\n",
       "    </tr>\n",
       "    <tr>\n",
       "      <th>227</th>\n",
       "      <td>3263831000000641077</td>\n",
       "      <td>NaN</td>\n",
       "      <td>260.0</td>\n",
       "      <td>10210.14</td>\n",
       "      <td>10418.51</td>\n",
       "      <td>3263831000000641061</td>\n",
       "      <td>NaN</td>\n",
       "      <td>SAR</td>\n",
       "      <td>3263831000000034003</td>\n",
       "      <td>3.263831e+18</td>\n",
       "    </tr>\n",
       "    <tr>\n",
       "      <th>228</th>\n",
       "      <td>3263831000000641085</td>\n",
       "      <td>NaN</td>\n",
       "      <td>70.0</td>\n",
       "      <td>1447.57</td>\n",
       "      <td>1477.11</td>\n",
       "      <td>3263831000000641061</td>\n",
       "      <td>NaN</td>\n",
       "      <td>SAR</td>\n",
       "      <td>3263831000000034003</td>\n",
       "      <td>3.263831e+18</td>\n",
       "    </tr>\n",
       "    <tr>\n",
       "      <th>229</th>\n",
       "      <td>3263831000000641067</td>\n",
       "      <td>NaN</td>\n",
       "      <td>96.0</td>\n",
       "      <td>1207.39</td>\n",
       "      <td>1232.03</td>\n",
       "      <td>3263831000000641061</td>\n",
       "      <td>NaN</td>\n",
       "      <td>SAR</td>\n",
       "      <td>3263831000000034003</td>\n",
       "      <td>3.263831e+18</td>\n",
       "    </tr>\n",
       "    <tr>\n",
       "      <th>230</th>\n",
       "      <td>3263831000000641075</td>\n",
       "      <td>NaN</td>\n",
       "      <td>160.0</td>\n",
       "      <td>12329.87</td>\n",
       "      <td>12581.50</td>\n",
       "      <td>3263831000000641061</td>\n",
       "      <td>NaN</td>\n",
       "      <td>SAR</td>\n",
       "      <td>3263831000000034003</td>\n",
       "      <td>3.263831e+18</td>\n",
       "    </tr>\n",
       "    <tr>\n",
       "      <th>231</th>\n",
       "      <td>3263831000000641083</td>\n",
       "      <td>NaN</td>\n",
       "      <td>320.0</td>\n",
       "      <td>41899.72</td>\n",
       "      <td>42754.82</td>\n",
       "      <td>3263831000000641061</td>\n",
       "      <td>NaN</td>\n",
       "      <td>SAR</td>\n",
       "      <td>3263831000000034003</td>\n",
       "      <td>3.263831e+18</td>\n",
       "    </tr>\n",
       "    <tr>\n",
       "      <th>232</th>\n",
       "      <td>3263831000000641091</td>\n",
       "      <td>NaN</td>\n",
       "      <td>700.0</td>\n",
       "      <td>97862.56</td>\n",
       "      <td>99859.76</td>\n",
       "      <td>3263831000000641061</td>\n",
       "      <td>NaN</td>\n",
       "      <td>SAR</td>\n",
       "      <td>3263831000000034003</td>\n",
       "      <td>3.263831e+18</td>\n",
       "    </tr>\n",
       "  </tbody>\n",
       "</table>\n",
       "</div>"
      ],
      "text/plain": [
       "                 Item ID Item Name  Quantity  Total Bcy  Sub Total Bcy  \\\n",
       "218  3263831000000641063       NaN       2.0     395.22         403.29   \n",
       "219  3263831000000641071       NaN      96.0   13474.96       13749.96   \n",
       "220  3263831000000641079       NaN     160.0    5193.84        5299.84   \n",
       "221  3263831000000641087       NaN     315.0   40561.20       41388.98   \n",
       "222  3263831000000641065       NaN      22.0    3905.54        3985.24   \n",
       "223  3263831000000641073       NaN      96.0   17293.79       17646.72   \n",
       "224  3263831000000641081       NaN     450.0   34054.02       34749.00   \n",
       "225  3263831000000641089       NaN     315.0   25154.11       25667.46   \n",
       "226  3263831000000641069       NaN      96.0    1937.29        1976.83   \n",
       "227  3263831000000641077       NaN     260.0   10210.14       10418.51   \n",
       "228  3263831000000641085       NaN      70.0    1447.57        1477.11   \n",
       "229  3263831000000641067       NaN      96.0    1207.39        1232.03   \n",
       "230  3263831000000641075       NaN     160.0   12329.87       12581.50   \n",
       "231  3263831000000641083       NaN     320.0   41899.72       42754.82   \n",
       "232  3263831000000641091       NaN     700.0   97862.56       99859.76   \n",
       "\n",
       "       Purchase Order ID  Product ID Currency Code           Account ID  \\\n",
       "218  3263831000000641061         NaN           SAR  3263831000000034003   \n",
       "219  3263831000000641061         NaN           SAR  3263831000000034003   \n",
       "220  3263831000000641061         NaN           SAR  3263831000000034003   \n",
       "221  3263831000000641061         NaN           SAR  3263831000000034003   \n",
       "222  3263831000000641061         NaN           SAR  3263831000000034003   \n",
       "223  3263831000000641061         NaN           SAR  3263831000000034003   \n",
       "224  3263831000000641061         NaN           SAR  3263831000000034003   \n",
       "225  3263831000000641061         NaN           SAR  3263831000000034003   \n",
       "226  3263831000000641061         NaN           SAR  3263831000000034003   \n",
       "227  3263831000000641061         NaN           SAR  3263831000000034003   \n",
       "228  3263831000000641061         NaN           SAR  3263831000000034003   \n",
       "229  3263831000000641061         NaN           SAR  3263831000000034003   \n",
       "230  3263831000000641061         NaN           SAR  3263831000000034003   \n",
       "231  3263831000000641061         NaN           SAR  3263831000000034003   \n",
       "232  3263831000000641061         NaN           SAR  3263831000000034003   \n",
       "\n",
       "           Tax ID  \n",
       "218  3.263831e+18  \n",
       "219  3.263831e+18  \n",
       "220  3.263831e+18  \n",
       "221  3.263831e+18  \n",
       "222  3.263831e+18  \n",
       "223  3.263831e+18  \n",
       "224  3.263831e+18  \n",
       "225  3.263831e+18  \n",
       "226  3.263831e+18  \n",
       "227  3.263831e+18  \n",
       "228  3.263831e+18  \n",
       "229  3.263831e+18  \n",
       "230  3.263831e+18  \n",
       "231  3.263831e+18  \n",
       "232  3.263831e+18  "
      ]
     },
     "execution_count": 178,
     "metadata": {},
     "output_type": "execute_result"
    }
   ],
   "source": [
    "# Since there are some distinct entries let's see them\n",
    "df_diff_bcy = df[df[\"Total Bcy\"] != df[\"Sub Total Bcy\"]]\n",
    "df_diff_bcy"
   ]
  },
  {
   "cell_type": "markdown",
   "id": "2a011b68",
   "metadata": {},
   "source": [
    "1. There are 15 items where the Total Bcy != Sub Total Bcy\n",
    "2. The ***purchase ID is the same*** for all the items that are anomalous\n",
    "    - Are there other items under this purchase where total Bcy == sub total Bcy?\n",
    "3. Is the increase/decrease from total to subtotal constant?"
   ]
  },
  {
   "cell_type": "code",
   "execution_count": 179,
   "id": "e9f2db5d",
   "metadata": {},
   "outputs": [
    {
     "data": {
      "text/plain": [
       "True"
      ]
     },
     "execution_count": 179,
     "metadata": {},
     "output_type": "execute_result"
    }
   ],
   "source": [
    "# Get the Purchase Order ID and check if it has any other items purchased along the ones above\n",
    "anomalous_id = df_diff_bcy[\"Purchase Order ID\"][218]\n",
    "\n",
    "# Are the only entries for this Purchase the ones where Total Bcy != Sub Total Bcy above? - Yes\n",
    "df[df[\"Purchase Order ID\"] == anomalous_id].equals(df_diff_bcy)"
   ]
  },
  {
   "cell_type": "markdown",
   "id": "eee50aa4",
   "metadata": {},
   "source": [
    "**This shows that only one purchase order incurred an increase in Bcy from Total to Sub Total. Likely causes are Taxes and/or overhead costs.**\n",
    "\n",
    "Now let's see if the difference is constant or varies from item to item"
   ]
  },
  {
   "cell_type": "code",
   "execution_count": 180,
   "id": "9afeadc4",
   "metadata": {},
   "outputs": [
    {
     "data": {
      "text/plain": [
       "218    2.041901\n",
       "219    2.040822\n",
       "220    2.040879\n",
       "221    2.040817\n",
       "222    2.040691\n",
       "223    2.040790\n",
       "224    2.040816\n",
       "225    2.040820\n",
       "226    2.040995\n",
       "227    2.040814\n",
       "228    2.040661\n",
       "229    2.040766\n",
       "230    2.040816\n",
       "231    2.040825\n",
       "232    2.040821\n",
       "dtype: float64"
      ]
     },
     "execution_count": 180,
     "metadata": {},
     "output_type": "execute_result"
    }
   ],
   "source": [
    "(df_diff_bcy[\"Sub Total Bcy\"] - df_diff_bcy[\"Total Bcy\"]) / df_diff_bcy[\"Total Bcy\"] * 100.0"
   ]
  },
  {
   "cell_type": "markdown",
   "id": "74f9e6de",
   "metadata": {},
   "source": [
    "#### Nailed it.\n",
    " The difference is approximately an increase of 2.041% +/- 0.001%, which could be due to a rounding error in data prep.\n",
    " \n",
    " Unfortunately, there are no details on the items purchased, except that they were paid in SAR ***as part of one purchase/order***. This is certainly an anomalous instant.\n",
    "\n",
    " Note: I'll use the subtotal Bcy for further Analysis on the data"
   ]
  },
  {
   "cell_type": "markdown",
   "id": "ccf14353",
   "metadata": {},
   "source": [
    "### Currency Code\n",
    "Now we'll examine the currencies of the purchases and whether it helps us in any way"
   ]
  },
  {
   "cell_type": "code",
   "execution_count": 181,
   "id": "ef1cabd7",
   "metadata": {},
   "outputs": [
    {
     "data": {
      "text/plain": [
       "Currency Code\n",
       "SAR    3085\n",
       "USD      65\n",
       "Name: count, dtype: int64"
      ]
     },
     "execution_count": 181,
     "metadata": {},
     "output_type": "execute_result"
    }
   ],
   "source": [
    "# How frequently is each currency used?\n",
    "df[\"Currency Code\"].value_counts()"
   ]
  },
  {
   "cell_type": "markdown",
   "id": "d3700174",
   "metadata": {},
   "source": [
    "It's clear that most transactions are made in SAR, one noticeable fact is that USD is used as frequently as the number of nulls in Tax ID. Hence, paying in USD affects the loggin of Tax ID."
   ]
  },
  {
   "cell_type": "code",
   "execution_count": 182,
   "id": "f96e08f9",
   "metadata": {},
   "outputs": [
    {
     "data": {
      "text/html": [
       "<div>\n",
       "<style scoped>\n",
       "    .dataframe tbody tr th:only-of-type {\n",
       "        vertical-align: middle;\n",
       "    }\n",
       "\n",
       "    .dataframe tbody tr th {\n",
       "        vertical-align: top;\n",
       "    }\n",
       "\n",
       "    .dataframe thead th {\n",
       "        text-align: right;\n",
       "    }\n",
       "</style>\n",
       "<table border=\"1\" class=\"dataframe\">\n",
       "  <thead>\n",
       "    <tr style=\"text-align: right;\">\n",
       "      <th></th>\n",
       "      <th>Item ID</th>\n",
       "      <th>Item Name</th>\n",
       "      <th>Quantity</th>\n",
       "      <th>Total Bcy</th>\n",
       "      <th>Sub Total Bcy</th>\n",
       "      <th>Purchase Order ID</th>\n",
       "      <th>Product ID</th>\n",
       "      <th>Currency Code</th>\n",
       "      <th>Account ID</th>\n",
       "      <th>Tax ID</th>\n",
       "    </tr>\n",
       "  </thead>\n",
       "  <tbody>\n",
       "    <tr>\n",
       "      <th>2454</th>\n",
       "      <td>3263831000017742093</td>\n",
       "      <td>42.2 X 3.56 MM BPE WELDED PIPE PLAIN END SCH-40</td>\n",
       "      <td>546.0</td>\n",
       "      <td>25981.87</td>\n",
       "      <td>25981.87</td>\n",
       "      <td>3263831000017742085</td>\n",
       "      <td>3.263831e+18</td>\n",
       "      <td>USD</td>\n",
       "      <td>3263831000000034003</td>\n",
       "      <td>NaN</td>\n",
       "    </tr>\n",
       "    <tr>\n",
       "      <th>2455</th>\n",
       "      <td>3263831000017742101</td>\n",
       "      <td>88.9 X 5.49 MM BPE WELDED PIPE BEVELED END SCH-40</td>\n",
       "      <td>210.0</td>\n",
       "      <td>33286.22</td>\n",
       "      <td>33286.22</td>\n",
       "      <td>3263831000017742085</td>\n",
       "      <td>3.263831e+18</td>\n",
       "      <td>USD</td>\n",
       "      <td>3263831000000034003</td>\n",
       "      <td>NaN</td>\n",
       "    </tr>\n",
       "    <tr>\n",
       "      <th>2456</th>\n",
       "      <td>3263831000017742087</td>\n",
       "      <td>21.3 X 2.77 MM BPE WELDED PIPE PLAIN END SCH-40</td>\n",
       "      <td>240.0</td>\n",
       "      <td>4663.15</td>\n",
       "      <td>4663.15</td>\n",
       "      <td>3263831000017742085</td>\n",
       "      <td>3.263831e+18</td>\n",
       "      <td>USD</td>\n",
       "      <td>3263831000000034003</td>\n",
       "      <td>NaN</td>\n",
       "    </tr>\n",
       "    <tr>\n",
       "      <th>2457</th>\n",
       "      <td>3263831000017742095</td>\n",
       "      <td>48.3 X 3.68 MM BPE WELDED PIPE PLAIN END SCH-40</td>\n",
       "      <td>540.0</td>\n",
       "      <td>30703.12</td>\n",
       "      <td>30703.12</td>\n",
       "      <td>3263831000017742085</td>\n",
       "      <td>3.263831e+18</td>\n",
       "      <td>USD</td>\n",
       "      <td>3263831000000034003</td>\n",
       "      <td>NaN</td>\n",
       "    </tr>\n",
       "    <tr>\n",
       "      <th>2458</th>\n",
       "      <td>3263831000017742091</td>\n",
       "      <td>33.4 X 3.38 MM BPE WELDED PIPE PLAIN END SCH-40</td>\n",
       "      <td>2100.0</td>\n",
       "      <td>73730.76</td>\n",
       "      <td>73730.76</td>\n",
       "      <td>3263831000017742085</td>\n",
       "      <td>3.263831e+18</td>\n",
       "      <td>USD</td>\n",
       "      <td>3263831000000034003</td>\n",
       "      <td>NaN</td>\n",
       "    </tr>\n",
       "  </tbody>\n",
       "</table>\n",
       "</div>"
      ],
      "text/plain": [
       "                  Item ID                                          Item Name  \\\n",
       "2454  3263831000017742093    42.2 X 3.56 MM BPE WELDED PIPE PLAIN END SCH-40   \n",
       "2455  3263831000017742101  88.9 X 5.49 MM BPE WELDED PIPE BEVELED END SCH-40   \n",
       "2456  3263831000017742087    21.3 X 2.77 MM BPE WELDED PIPE PLAIN END SCH-40   \n",
       "2457  3263831000017742095    48.3 X 3.68 MM BPE WELDED PIPE PLAIN END SCH-40   \n",
       "2458  3263831000017742091    33.4 X 3.38 MM BPE WELDED PIPE PLAIN END SCH-40   \n",
       "\n",
       "      Quantity  Total Bcy  Sub Total Bcy    Purchase Order ID    Product ID  \\\n",
       "2454     546.0   25981.87       25981.87  3263831000017742085  3.263831e+18   \n",
       "2455     210.0   33286.22       33286.22  3263831000017742085  3.263831e+18   \n",
       "2456     240.0    4663.15        4663.15  3263831000017742085  3.263831e+18   \n",
       "2457     540.0   30703.12       30703.12  3263831000017742085  3.263831e+18   \n",
       "2458    2100.0   73730.76       73730.76  3263831000017742085  3.263831e+18   \n",
       "\n",
       "     Currency Code           Account ID  Tax ID  \n",
       "2454           USD  3263831000000034003     NaN  \n",
       "2455           USD  3263831000000034003     NaN  \n",
       "2456           USD  3263831000000034003     NaN  \n",
       "2457           USD  3263831000000034003     NaN  \n",
       "2458           USD  3263831000000034003     NaN  "
      ]
     },
     "execution_count": 182,
     "metadata": {},
     "output_type": "execute_result"
    }
   ],
   "source": [
    "# Let's visualize some of the entries paid in USD\n",
    "df[df[\"Currency Code\"] == \"USD\"].head(5)"
   ]
  },
  {
   "cell_type": "markdown",
   "id": "777c5577",
   "metadata": {},
   "source": [
    "#### Conclusion\n",
    "There's not much we could do with the given info, but it's important to note the relationship between Tax ID and currency used. At any rate Bcy in Enterprise Resource Planning (ERP) terms means Base Currency, which refers to the base currency used for reporting finances internally at a company. I'll assume this is in SAR in the case of Aajil's logs, from here on."
   ]
  },
  {
   "cell_type": "markdown",
   "id": "12f696e1",
   "metadata": {},
   "source": [
    "### Account ID\n",
    "Account ID has two values which could indicate the orders belong to only two entities (or branches of an entity)"
   ]
  },
  {
   "cell_type": "code",
   "execution_count": 183,
   "id": "3943a9d9",
   "metadata": {},
   "outputs": [
    {
     "data": {
      "text/plain": [
       "Account ID\n",
       "3263831000000034003    3149\n",
       "3263831000000000409       1\n",
       "Name: count, dtype: int64"
      ]
     },
     "execution_count": 183,
     "metadata": {},
     "output_type": "execute_result"
    }
   ],
   "source": [
    "# Let's begin by examining the frequency\n",
    "df[\"Account ID\"].value_counts()"
   ]
  },
  {
   "cell_type": "markdown",
   "id": "9fcb5224",
   "metadata": {},
   "source": [
    "Looks like it's not going to cause too much trouble for us"
   ]
  },
  {
   "cell_type": "code",
   "execution_count": 184,
   "id": "20cae444",
   "metadata": {},
   "outputs": [
    {
     "data": {
      "text/html": [
       "<div>\n",
       "<style scoped>\n",
       "    .dataframe tbody tr th:only-of-type {\n",
       "        vertical-align: middle;\n",
       "    }\n",
       "\n",
       "    .dataframe tbody tr th {\n",
       "        vertical-align: top;\n",
       "    }\n",
       "\n",
       "    .dataframe thead th {\n",
       "        text-align: right;\n",
       "    }\n",
       "</style>\n",
       "<table border=\"1\" class=\"dataframe\">\n",
       "  <thead>\n",
       "    <tr style=\"text-align: right;\">\n",
       "      <th></th>\n",
       "      <th>Item ID</th>\n",
       "      <th>Item Name</th>\n",
       "      <th>Quantity</th>\n",
       "      <th>Total Bcy</th>\n",
       "      <th>Sub Total Bcy</th>\n",
       "      <th>Purchase Order ID</th>\n",
       "      <th>Product ID</th>\n",
       "      <th>Currency Code</th>\n",
       "      <th>Account ID</th>\n",
       "      <th>Tax ID</th>\n",
       "    </tr>\n",
       "  </thead>\n",
       "  <tbody>\n",
       "    <tr>\n",
       "      <th>510</th>\n",
       "      <td>3263831000003059878</td>\n",
       "      <td>NaN</td>\n",
       "      <td>1.0</td>\n",
       "      <td>7.0</td>\n",
       "      <td>7.0</td>\n",
       "      <td>3263831000002728005</td>\n",
       "      <td>NaN</td>\n",
       "      <td>SAR</td>\n",
       "      <td>3263831000000000409</td>\n",
       "      <td>3.263831e+18</td>\n",
       "    </tr>\n",
       "  </tbody>\n",
       "</table>\n",
       "</div>"
      ],
      "text/plain": [
       "                 Item ID Item Name  Quantity  Total Bcy  Sub Total Bcy  \\\n",
       "510  3263831000003059878       NaN       1.0        7.0            7.0   \n",
       "\n",
       "       Purchase Order ID  Product ID Currency Code           Account ID  \\\n",
       "510  3263831000002728005         NaN           SAR  3263831000000000409   \n",
       "\n",
       "           Tax ID  \n",
       "510  3.263831e+18  "
      ]
     },
     "execution_count": 184,
     "metadata": {},
     "output_type": "execute_result"
    }
   ],
   "source": [
    "# Let's see the only unique entry\n",
    "df[df[\"Account ID\"] == 3263831000000000409]"
   ]
  },
  {
   "cell_type": "code",
   "execution_count": 185,
   "id": "49193617",
   "metadata": {},
   "outputs": [
    {
     "data": {
      "text/html": [
       "<div>\n",
       "<style scoped>\n",
       "    .dataframe tbody tr th:only-of-type {\n",
       "        vertical-align: middle;\n",
       "    }\n",
       "\n",
       "    .dataframe tbody tr th {\n",
       "        vertical-align: top;\n",
       "    }\n",
       "\n",
       "    .dataframe thead th {\n",
       "        text-align: right;\n",
       "    }\n",
       "</style>\n",
       "<table border=\"1\" class=\"dataframe\">\n",
       "  <thead>\n",
       "    <tr style=\"text-align: right;\">\n",
       "      <th></th>\n",
       "      <th>Item ID</th>\n",
       "      <th>Item Name</th>\n",
       "      <th>Quantity</th>\n",
       "      <th>Total Bcy</th>\n",
       "      <th>Sub Total Bcy</th>\n",
       "      <th>Purchase Order ID</th>\n",
       "      <th>Product ID</th>\n",
       "      <th>Currency Code</th>\n",
       "      <th>Account ID</th>\n",
       "      <th>Tax ID</th>\n",
       "    </tr>\n",
       "  </thead>\n",
       "  <tbody>\n",
       "    <tr>\n",
       "      <th>505</th>\n",
       "      <td>3263831000002728009</td>\n",
       "      <td>Cut &amp; Bend Rebar 10 mm</td>\n",
       "      <td>40.0</td>\n",
       "      <td>96000.0</td>\n",
       "      <td>96000.0</td>\n",
       "      <td>3263831000002728005</td>\n",
       "      <td>3.263831e+18</td>\n",
       "      <td>SAR</td>\n",
       "      <td>3263831000000034003</td>\n",
       "      <td>3.263831e+18</td>\n",
       "    </tr>\n",
       "    <tr>\n",
       "      <th>506</th>\n",
       "      <td>3263831000002728011</td>\n",
       "      <td>Cut &amp; Bend Rebar 12 mm</td>\n",
       "      <td>60.0</td>\n",
       "      <td>135000.0</td>\n",
       "      <td>135000.0</td>\n",
       "      <td>3263831000002728005</td>\n",
       "      <td>3.263831e+18</td>\n",
       "      <td>SAR</td>\n",
       "      <td>3263831000000034003</td>\n",
       "      <td>3.263831e+18</td>\n",
       "    </tr>\n",
       "    <tr>\n",
       "      <th>507</th>\n",
       "      <td>3263831000002728013</td>\n",
       "      <td>Cut &amp; Bend Rebar 14 mm</td>\n",
       "      <td>31.0</td>\n",
       "      <td>69750.0</td>\n",
       "      <td>69750.0</td>\n",
       "      <td>3263831000002728005</td>\n",
       "      <td>3.263831e+18</td>\n",
       "      <td>SAR</td>\n",
       "      <td>3263831000000034003</td>\n",
       "      <td>3.263831e+18</td>\n",
       "    </tr>\n",
       "    <tr>\n",
       "      <th>508</th>\n",
       "      <td>3263831000002728007</td>\n",
       "      <td>Cut &amp; Bend Rebar 8 mm</td>\n",
       "      <td>50.0</td>\n",
       "      <td>120000.0</td>\n",
       "      <td>120000.0</td>\n",
       "      <td>3263831000002728005</td>\n",
       "      <td>3.263831e+18</td>\n",
       "      <td>SAR</td>\n",
       "      <td>3263831000000034003</td>\n",
       "      <td>3.263831e+18</td>\n",
       "    </tr>\n",
       "    <tr>\n",
       "      <th>509</th>\n",
       "      <td>3263831000002728015</td>\n",
       "      <td>Cut &amp; Bend Rebar 16 mm</td>\n",
       "      <td>26.0</td>\n",
       "      <td>58500.0</td>\n",
       "      <td>58500.0</td>\n",
       "      <td>3263831000002728005</td>\n",
       "      <td>3.263831e+18</td>\n",
       "      <td>SAR</td>\n",
       "      <td>3263831000000034003</td>\n",
       "      <td>3.263831e+18</td>\n",
       "    </tr>\n",
       "    <tr>\n",
       "      <th>510</th>\n",
       "      <td>3263831000003059878</td>\n",
       "      <td>NaN</td>\n",
       "      <td>1.0</td>\n",
       "      <td>7.0</td>\n",
       "      <td>7.0</td>\n",
       "      <td>3263831000002728005</td>\n",
       "      <td>NaN</td>\n",
       "      <td>SAR</td>\n",
       "      <td>3263831000000000409</td>\n",
       "      <td>3.263831e+18</td>\n",
       "    </tr>\n",
       "  </tbody>\n",
       "</table>\n",
       "</div>"
      ],
      "text/plain": [
       "                 Item ID               Item Name  Quantity  Total Bcy  \\\n",
       "505  3263831000002728009  Cut & Bend Rebar 10 mm      40.0    96000.0   \n",
       "506  3263831000002728011  Cut & Bend Rebar 12 mm      60.0   135000.0   \n",
       "507  3263831000002728013  Cut & Bend Rebar 14 mm      31.0    69750.0   \n",
       "508  3263831000002728007   Cut & Bend Rebar 8 mm      50.0   120000.0   \n",
       "509  3263831000002728015  Cut & Bend Rebar 16 mm      26.0    58500.0   \n",
       "510  3263831000003059878                     NaN       1.0        7.0   \n",
       "\n",
       "     Sub Total Bcy    Purchase Order ID    Product ID Currency Code  \\\n",
       "505        96000.0  3263831000002728005  3.263831e+18           SAR   \n",
       "506       135000.0  3263831000002728005  3.263831e+18           SAR   \n",
       "507        69750.0  3263831000002728005  3.263831e+18           SAR   \n",
       "508       120000.0  3263831000002728005  3.263831e+18           SAR   \n",
       "509        58500.0  3263831000002728005  3.263831e+18           SAR   \n",
       "510            7.0  3263831000002728005           NaN           SAR   \n",
       "\n",
       "              Account ID        Tax ID  \n",
       "505  3263831000000034003  3.263831e+18  \n",
       "506  3263831000000034003  3.263831e+18  \n",
       "507  3263831000000034003  3.263831e+18  \n",
       "508  3263831000000034003  3.263831e+18  \n",
       "509  3263831000000034003  3.263831e+18  \n",
       "510  3263831000000000409  3.263831e+18  "
      ]
     },
     "execution_count": 185,
     "metadata": {},
     "output_type": "execute_result"
    }
   ],
   "source": [
    "# Let's also analyze the Purchase Order ID to see if it matches any other items\n",
    "df[df[\"Purchase Order ID\"] == 3263831000002728005]"
   ]
  },
  {
   "cell_type": "markdown",
   "id": "135ac8a0",
   "metadata": {},
   "source": [
    "Oh this is our entry friend from earlier analysis on unknown Item Names\n",
    "\n",
    "This appears as an anomalous/logging-error entry. It clearly is tied to the Cut & Bend Rebar service but the extremely low Bcy, missing values, and different Account ID makes it worth reporting as an anomaly."
   ]
  },
  {
   "cell_type": "markdown",
   "id": "8ee9c8d4",
   "metadata": {},
   "source": [
    "#### Findings\n",
    "Report the only entry with a different Account ID. Keep the column for reference if needed."
   ]
  },
  {
   "cell_type": "code",
   "execution_count": 186,
   "id": "b9b6512b",
   "metadata": {},
   "outputs": [
    {
     "data": {
      "text/html": [
       "<div>\n",
       "<style scoped>\n",
       "    .dataframe tbody tr th:only-of-type {\n",
       "        vertical-align: middle;\n",
       "    }\n",
       "\n",
       "    .dataframe tbody tr th {\n",
       "        vertical-align: top;\n",
       "    }\n",
       "\n",
       "    .dataframe thead th {\n",
       "        text-align: right;\n",
       "    }\n",
       "</style>\n",
       "<table border=\"1\" class=\"dataframe\">\n",
       "  <thead>\n",
       "    <tr style=\"text-align: right;\">\n",
       "      <th></th>\n",
       "      <th>Item ID</th>\n",
       "      <th>Item Name</th>\n",
       "      <th>Quantity</th>\n",
       "      <th>Total Bcy</th>\n",
       "      <th>Sub Total Bcy</th>\n",
       "      <th>Purchase Order ID</th>\n",
       "      <th>Product ID</th>\n",
       "      <th>Currency Code</th>\n",
       "      <th>Account ID</th>\n",
       "      <th>Tax ID</th>\n",
       "    </tr>\n",
       "  </thead>\n",
       "  <tbody>\n",
       "    <tr>\n",
       "      <th>3149</th>\n",
       "      <td>3263831000018023011</td>\n",
       "      <td>حديد تسليح مجدول سعودي سابك 16 مم * 12 م</td>\n",
       "      <td>30.0</td>\n",
       "      <td>69000.0</td>\n",
       "      <td>69000.0</td>\n",
       "      <td>3263831000018023005</td>\n",
       "      <td>3.263831e+18</td>\n",
       "      <td>SAR</td>\n",
       "      <td>3263831000000034003</td>\n",
       "      <td>3.263831e+18</td>\n",
       "    </tr>\n",
       "  </tbody>\n",
       "</table>\n",
       "</div>"
      ],
      "text/plain": [
       "                  Item ID                                 Item Name  Quantity  \\\n",
       "3149  3263831000018023011  حديد تسليح مجدول سعودي سابك 16 مم * 12 م      30.0   \n",
       "\n",
       "      Total Bcy  Sub Total Bcy    Purchase Order ID    Product ID  \\\n",
       "3149    69000.0        69000.0  3263831000018023005  3.263831e+18   \n",
       "\n",
       "     Currency Code           Account ID        Tax ID  \n",
       "3149           SAR  3263831000000034003  3.263831e+18  "
      ]
     },
     "execution_count": 186,
     "metadata": {},
     "output_type": "execute_result"
    }
   ],
   "source": [
    "df.tail(1)"
   ]
  },
  {
   "cell_type": "markdown",
   "id": "b1a5987d",
   "metadata": {},
   "source": [
    "Looks good! One more to go."
   ]
  },
  {
   "cell_type": "markdown",
   "id": "0fd20cca",
   "metadata": {},
   "source": [
    "### Tax ID\n",
    "There are 65 null values in the Tax ID column and only one unique Tax ID, let's invistigate this further"
   ]
  },
  {
   "cell_type": "code",
   "execution_count": 187,
   "id": "f42e1c7e",
   "metadata": {},
   "outputs": [
    {
     "data": {
      "text/html": [
       "<div>\n",
       "<style scoped>\n",
       "    .dataframe tbody tr th:only-of-type {\n",
       "        vertical-align: middle;\n",
       "    }\n",
       "\n",
       "    .dataframe tbody tr th {\n",
       "        vertical-align: top;\n",
       "    }\n",
       "\n",
       "    .dataframe thead th {\n",
       "        text-align: right;\n",
       "    }\n",
       "</style>\n",
       "<table border=\"1\" class=\"dataframe\">\n",
       "  <thead>\n",
       "    <tr style=\"text-align: right;\">\n",
       "      <th></th>\n",
       "      <th>Item ID</th>\n",
       "      <th>Item Name</th>\n",
       "      <th>Quantity</th>\n",
       "      <th>Total Bcy</th>\n",
       "      <th>Sub Total Bcy</th>\n",
       "      <th>Purchase Order ID</th>\n",
       "      <th>Product ID</th>\n",
       "      <th>Currency Code</th>\n",
       "      <th>Account ID</th>\n",
       "      <th>Tax ID</th>\n",
       "    </tr>\n",
       "  </thead>\n",
       "  <tbody>\n",
       "    <tr>\n",
       "      <th>0</th>\n",
       "      <td>3263831000000089042</td>\n",
       "      <td>NaN</td>\n",
       "      <td>75.21</td>\n",
       "      <td>227510.25</td>\n",
       "      <td>227510.25</td>\n",
       "      <td>3263831000000089040</td>\n",
       "      <td>NaN</td>\n",
       "      <td>SAR</td>\n",
       "      <td>3263831000000034003</td>\n",
       "      <td>3.263831e+18</td>\n",
       "    </tr>\n",
       "    <tr>\n",
       "      <th>1</th>\n",
       "      <td>3263831000000089046</td>\n",
       "      <td>NaN</td>\n",
       "      <td>15.00</td>\n",
       "      <td>47250.00</td>\n",
       "      <td>47250.00</td>\n",
       "      <td>3263831000000089040</td>\n",
       "      <td>NaN</td>\n",
       "      <td>SAR</td>\n",
       "      <td>3263831000000034003</td>\n",
       "      <td>3.263831e+18</td>\n",
       "    </tr>\n",
       "    <tr>\n",
       "      <th>2</th>\n",
       "      <td>3263831000000089044</td>\n",
       "      <td>NaN</td>\n",
       "      <td>50.00</td>\n",
       "      <td>160000.00</td>\n",
       "      <td>160000.00</td>\n",
       "      <td>3263831000000089040</td>\n",
       "      <td>NaN</td>\n",
       "      <td>SAR</td>\n",
       "      <td>3263831000000034003</td>\n",
       "      <td>3.263831e+18</td>\n",
       "    </tr>\n",
       "    <tr>\n",
       "      <th>3</th>\n",
       "      <td>3263831000000092044</td>\n",
       "      <td>NaN</td>\n",
       "      <td>12.00</td>\n",
       "      <td>38280.00</td>\n",
       "      <td>38280.00</td>\n",
       "      <td>3263831000000092040</td>\n",
       "      <td>NaN</td>\n",
       "      <td>SAR</td>\n",
       "      <td>3263831000000034003</td>\n",
       "      <td>3.263831e+18</td>\n",
       "    </tr>\n",
       "    <tr>\n",
       "      <th>4</th>\n",
       "      <td>3263831000000092052</td>\n",
       "      <td>NaN</td>\n",
       "      <td>2.00</td>\n",
       "      <td>5900.00</td>\n",
       "      <td>5900.00</td>\n",
       "      <td>3263831000000092040</td>\n",
       "      <td>NaN</td>\n",
       "      <td>SAR</td>\n",
       "      <td>3263831000000034003</td>\n",
       "      <td>3.263831e+18</td>\n",
       "    </tr>\n",
       "  </tbody>\n",
       "</table>\n",
       "</div>"
      ],
      "text/plain": [
       "               Item ID Item Name  Quantity  Total Bcy  Sub Total Bcy  \\\n",
       "0  3263831000000089042       NaN     75.21  227510.25      227510.25   \n",
       "1  3263831000000089046       NaN     15.00   47250.00       47250.00   \n",
       "2  3263831000000089044       NaN     50.00  160000.00      160000.00   \n",
       "3  3263831000000092044       NaN     12.00   38280.00       38280.00   \n",
       "4  3263831000000092052       NaN      2.00    5900.00        5900.00   \n",
       "\n",
       "     Purchase Order ID  Product ID Currency Code           Account ID  \\\n",
       "0  3263831000000089040         NaN           SAR  3263831000000034003   \n",
       "1  3263831000000089040         NaN           SAR  3263831000000034003   \n",
       "2  3263831000000089040         NaN           SAR  3263831000000034003   \n",
       "3  3263831000000092040         NaN           SAR  3263831000000034003   \n",
       "4  3263831000000092040         NaN           SAR  3263831000000034003   \n",
       "\n",
       "         Tax ID  \n",
       "0  3.263831e+18  \n",
       "1  3.263831e+18  \n",
       "2  3.263831e+18  \n",
       "3  3.263831e+18  \n",
       "4  3.263831e+18  "
      ]
     },
     "execution_count": 187,
     "metadata": {},
     "output_type": "execute_result"
    }
   ],
   "source": [
    "df[df[\"Tax ID\"].notna()].head()"
   ]
  },
  {
   "cell_type": "code",
   "execution_count": 188,
   "id": "1f6e9699",
   "metadata": {},
   "outputs": [
    {
     "data": {
      "text/html": [
       "<div>\n",
       "<style scoped>\n",
       "    .dataframe tbody tr th:only-of-type {\n",
       "        vertical-align: middle;\n",
       "    }\n",
       "\n",
       "    .dataframe tbody tr th {\n",
       "        vertical-align: top;\n",
       "    }\n",
       "\n",
       "    .dataframe thead th {\n",
       "        text-align: right;\n",
       "    }\n",
       "</style>\n",
       "<table border=\"1\" class=\"dataframe\">\n",
       "  <thead>\n",
       "    <tr style=\"text-align: right;\">\n",
       "      <th></th>\n",
       "      <th>Item ID</th>\n",
       "      <th>Item Name</th>\n",
       "      <th>Quantity</th>\n",
       "      <th>Total Bcy</th>\n",
       "      <th>Sub Total Bcy</th>\n",
       "      <th>Purchase Order ID</th>\n",
       "      <th>Product ID</th>\n",
       "      <th>Currency Code</th>\n",
       "      <th>Account ID</th>\n",
       "      <th>Tax ID</th>\n",
       "    </tr>\n",
       "  </thead>\n",
       "  <tbody>\n",
       "    <tr>\n",
       "      <th>2454</th>\n",
       "      <td>3263831000017742093</td>\n",
       "      <td>42.2 X 3.56 MM BPE WELDED PIPE PLAIN END SCH-40</td>\n",
       "      <td>546.0</td>\n",
       "      <td>25981.87</td>\n",
       "      <td>25981.87</td>\n",
       "      <td>3263831000017742085</td>\n",
       "      <td>3.263831e+18</td>\n",
       "      <td>USD</td>\n",
       "      <td>3263831000000034003</td>\n",
       "      <td>NaN</td>\n",
       "    </tr>\n",
       "    <tr>\n",
       "      <th>2455</th>\n",
       "      <td>3263831000017742101</td>\n",
       "      <td>88.9 X 5.49 MM BPE WELDED PIPE BEVELED END SCH-40</td>\n",
       "      <td>210.0</td>\n",
       "      <td>33286.22</td>\n",
       "      <td>33286.22</td>\n",
       "      <td>3263831000017742085</td>\n",
       "      <td>3.263831e+18</td>\n",
       "      <td>USD</td>\n",
       "      <td>3263831000000034003</td>\n",
       "      <td>NaN</td>\n",
       "    </tr>\n",
       "    <tr>\n",
       "      <th>2456</th>\n",
       "      <td>3263831000017742087</td>\n",
       "      <td>21.3 X 2.77 MM BPE WELDED PIPE PLAIN END SCH-40</td>\n",
       "      <td>240.0</td>\n",
       "      <td>4663.15</td>\n",
       "      <td>4663.15</td>\n",
       "      <td>3263831000017742085</td>\n",
       "      <td>3.263831e+18</td>\n",
       "      <td>USD</td>\n",
       "      <td>3263831000000034003</td>\n",
       "      <td>NaN</td>\n",
       "    </tr>\n",
       "    <tr>\n",
       "      <th>2457</th>\n",
       "      <td>3263831000017742095</td>\n",
       "      <td>48.3 X 3.68 MM BPE WELDED PIPE PLAIN END SCH-40</td>\n",
       "      <td>540.0</td>\n",
       "      <td>30703.12</td>\n",
       "      <td>30703.12</td>\n",
       "      <td>3263831000017742085</td>\n",
       "      <td>3.263831e+18</td>\n",
       "      <td>USD</td>\n",
       "      <td>3263831000000034003</td>\n",
       "      <td>NaN</td>\n",
       "    </tr>\n",
       "    <tr>\n",
       "      <th>2458</th>\n",
       "      <td>3263831000017742091</td>\n",
       "      <td>33.4 X 3.38 MM BPE WELDED PIPE PLAIN END SCH-40</td>\n",
       "      <td>2100.0</td>\n",
       "      <td>73730.76</td>\n",
       "      <td>73730.76</td>\n",
       "      <td>3263831000017742085</td>\n",
       "      <td>3.263831e+18</td>\n",
       "      <td>USD</td>\n",
       "      <td>3263831000000034003</td>\n",
       "      <td>NaN</td>\n",
       "    </tr>\n",
       "  </tbody>\n",
       "</table>\n",
       "</div>"
      ],
      "text/plain": [
       "                  Item ID                                          Item Name  \\\n",
       "2454  3263831000017742093    42.2 X 3.56 MM BPE WELDED PIPE PLAIN END SCH-40   \n",
       "2455  3263831000017742101  88.9 X 5.49 MM BPE WELDED PIPE BEVELED END SCH-40   \n",
       "2456  3263831000017742087    21.3 X 2.77 MM BPE WELDED PIPE PLAIN END SCH-40   \n",
       "2457  3263831000017742095    48.3 X 3.68 MM BPE WELDED PIPE PLAIN END SCH-40   \n",
       "2458  3263831000017742091    33.4 X 3.38 MM BPE WELDED PIPE PLAIN END SCH-40   \n",
       "\n",
       "      Quantity  Total Bcy  Sub Total Bcy    Purchase Order ID    Product ID  \\\n",
       "2454     546.0   25981.87       25981.87  3263831000017742085  3.263831e+18   \n",
       "2455     210.0   33286.22       33286.22  3263831000017742085  3.263831e+18   \n",
       "2456     240.0    4663.15        4663.15  3263831000017742085  3.263831e+18   \n",
       "2457     540.0   30703.12       30703.12  3263831000017742085  3.263831e+18   \n",
       "2458    2100.0   73730.76       73730.76  3263831000017742085  3.263831e+18   \n",
       "\n",
       "     Currency Code           Account ID  Tax ID  \n",
       "2454           USD  3263831000000034003     NaN  \n",
       "2455           USD  3263831000000034003     NaN  \n",
       "2456           USD  3263831000000034003     NaN  \n",
       "2457           USD  3263831000000034003     NaN  \n",
       "2458           USD  3263831000000034003     NaN  "
      ]
     },
     "execution_count": 188,
     "metadata": {},
     "output_type": "execute_result"
    }
   ],
   "source": [
    "df[df[\"Tax ID\"].isna()].head()"
   ]
  },
  {
   "cell_type": "markdown",
   "id": "a796179a",
   "metadata": {},
   "source": [
    "The only notable difference is that the entries with null Tax IDs are in USD. In fact, there are 65 null Tax ID entries and 65 USD Currency Code entries...just to be sure:"
   ]
  },
  {
   "cell_type": "code",
   "execution_count": 189,
   "id": "5c2138ee",
   "metadata": {},
   "outputs": [
    {
     "data": {
      "text/plain": [
       "True"
      ]
     },
     "execution_count": 189,
     "metadata": {},
     "output_type": "execute_result"
    }
   ],
   "source": [
    "# AI-Assisted One Liner\n",
    "(df[\"Currency Code\"] == \"USD\").equals(df[\"Tax ID\"].isna())"
   ]
  },
  {
   "cell_type": "markdown",
   "id": "fe22aff0",
   "metadata": {},
   "source": [
    "#### Results\n",
    "The Tax ID column is uniform for transactions in SAR, whereas, it's missing in USD transactions. Hence, will report that paying in USD affects tax reporting.\n",
    "\n",
    "Will fill the Tax ID with -1 wherever null appears to avoid complications. "
   ]
  },
  {
   "cell_type": "code",
   "execution_count": 190,
   "id": "165f475f",
   "metadata": {},
   "outputs": [],
   "source": [
    "df[\"Tax ID\"] = df[\"Tax ID\"].fillna(-1)"
   ]
  },
  {
   "cell_type": "markdown",
   "id": "2536252e",
   "metadata": {},
   "source": [
    "## Dealing with null values\n",
    "Now we'll replace any remaining null values after getting an idea about the entire dataset. \n",
    "\n",
    "*Some were dealt with in their respective sections above.*"
   ]
  },
  {
   "cell_type": "code",
   "execution_count": 191,
   "id": "fead448d",
   "metadata": {},
   "outputs": [
    {
     "name": "stdout",
     "output_type": "stream",
     "text": [
      "<class 'pandas.core.frame.DataFrame'>\n",
      "RangeIndex: 3150 entries, 0 to 3149\n",
      "Data columns (total 10 columns):\n",
      " #   Column             Non-Null Count  Dtype  \n",
      "---  ------             --------------  -----  \n",
      " 0   Item ID            3150 non-null   int64  \n",
      " 1   Item Name          2910 non-null   object \n",
      " 2   Quantity           3150 non-null   float64\n",
      " 3   Total Bcy          3150 non-null   float64\n",
      " 4   Sub Total Bcy      3150 non-null   float64\n",
      " 5   Purchase Order ID  3150 non-null   int64  \n",
      " 6   Product ID         2910 non-null   float64\n",
      " 7   Currency Code      3150 non-null   object \n",
      " 8   Account ID         3150 non-null   int64  \n",
      " 9   Tax ID             3150 non-null   float64\n",
      "dtypes: float64(5), int64(3), object(2)\n",
      "memory usage: 246.2+ KB\n"
     ]
    }
   ],
   "source": [
    "df.info()"
   ]
  },
  {
   "cell_type": "markdown",
   "id": "24b35899",
   "metadata": {},
   "source": [
    "We still need to deal with nulls in Item ID and Product ID. \n",
    "\n",
    "As we have seen previously it's not possible to infer Item Name, or Product ID since they are concurrently missing. Even, Purchase Order ID is shared between different products and Item Names.\n",
    "\n",
    "We'll fill them with `\"unknown\"` and $-1.0$ for now. We'll later add a column for categories which may be roughly estimated from the Purchase Order ID."
   ]
  },
  {
   "cell_type": "code",
   "execution_count": 195,
   "id": "16fc2f54",
   "metadata": {},
   "outputs": [],
   "source": [
    "df[\"Item Name\"] = df[\"Item Name\"].fillna(\"Unknown\")\n",
    "df[\"Product ID\"] = df[\"Product ID\"].fillna(-1)"
   ]
  },
  {
   "cell_type": "code",
   "execution_count": 196,
   "id": "6a948422",
   "metadata": {},
   "outputs": [
    {
     "name": "stdout",
     "output_type": "stream",
     "text": [
      "<class 'pandas.core.frame.DataFrame'>\n",
      "RangeIndex: 3150 entries, 0 to 3149\n",
      "Data columns (total 10 columns):\n",
      " #   Column             Non-Null Count  Dtype  \n",
      "---  ------             --------------  -----  \n",
      " 0   Item ID            3150 non-null   int64  \n",
      " 1   Item Name          3150 non-null   object \n",
      " 2   Quantity           3150 non-null   float64\n",
      " 3   Total Bcy          3150 non-null   float64\n",
      " 4   Sub Total Bcy      3150 non-null   float64\n",
      " 5   Purchase Order ID  3150 non-null   int64  \n",
      " 6   Product ID         3150 non-null   float64\n",
      " 7   Currency Code      3150 non-null   object \n",
      " 8   Account ID         3150 non-null   int64  \n",
      " 9   Tax ID             3150 non-null   float64\n",
      "dtypes: float64(5), int64(3), object(2)\n",
      "memory usage: 246.2+ KB\n"
     ]
    }
   ],
   "source": [
    "df.info()"
   ]
  },
  {
   "cell_type": "markdown",
   "id": "22a1d1d7",
   "metadata": {},
   "source": [
    "# Saving the modified dataset\n",
    "Now that we have dealt with the numerical columns, all that's left in the cleaning phase is to handle the Item Name column and identifying the best way forward to enable purchase categorization."
   ]
  },
  {
   "cell_type": "code",
   "execution_count": 199,
   "id": "806e0f27",
   "metadata": {},
   "outputs": [],
   "source": [
    "df.to_excel(\"../data/cleaned_num.xlsx\", index=False)"
   ]
  }
 ],
 "metadata": {
  "kernelspec": {
   "display_name": ".venv (3.10.11)",
   "language": "python",
   "name": "python3"
  },
  "language_info": {
   "codemirror_mode": {
    "name": "ipython",
    "version": 3
   },
   "file_extension": ".py",
   "mimetype": "text/x-python",
   "name": "python",
   "nbconvert_exporter": "python",
   "pygments_lexer": "ipython3",
   "version": "3.10.11"
  }
 },
 "nbformat": 4,
 "nbformat_minor": 5
}
