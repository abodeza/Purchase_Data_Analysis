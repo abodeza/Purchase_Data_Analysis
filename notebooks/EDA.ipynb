{
 "cells": [
  {
   "cell_type": "markdown",
   "id": "b81ef9e6",
   "metadata": {},
   "source": [
    "# This repo is for performing EDA on the data"
   ]
  },
  {
   "cell_type": "markdown",
   "id": "2313177e",
   "metadata": {},
   "source": [
    "## Table of contents\n",
    "- [Setup](#setup)\n",
    "- [Loading and analyzing the data](#Loading_and_analyzing_the_data)\n",
    "\n"
   ]
  },
  {
   "cell_type": "markdown",
   "id": "22d44886",
   "metadata": {},
   "source": [
    "# Setup"
   ]
  },
  {
   "cell_type": "code",
   "execution_count": null,
   "id": "22026f4e",
   "metadata": {},
   "outputs": [],
   "source": [
    "# Setup the envionment via these CLIs\n",
    "\"\"\"\n",
    "py -3.10 -m venv .venv\n",
    ".venv\\Scripts\\activate\n",
    "pip install -r requirements.txt\n",
    "\"\"\""
   ]
  },
  {
   "cell_type": "code",
   "execution_count": null,
   "id": "515c83d9",
   "metadata": {},
   "outputs": [],
   "source": [
    "# Import relevant libraries\n",
    "import pandas\n",
    "import numpy\n",
    "import matplotlib.pyplot as plt"
   ]
  },
  {
   "cell_type": "markdown",
   "id": "016ad5da",
   "metadata": {},
   "source": [
    "# Loading and analyzing the data"
   ]
  }
 ],
 "metadata": {
  "kernelspec": {
   "display_name": "Python 3",
   "language": "python",
   "name": "python3"
  },
  "language_info": {
   "name": "python",
   "version": "3.10.11"
  }
 },
 "nbformat": 4,
 "nbformat_minor": 5
}
